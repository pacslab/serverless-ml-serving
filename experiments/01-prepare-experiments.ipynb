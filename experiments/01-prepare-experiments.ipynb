{
 "metadata": {
  "language_info": {
   "codemirror_mode": {
    "name": "ipython",
    "version": 3
   },
   "file_extension": ".py",
   "mimetype": "text/x-python",
   "name": "python",
   "nbconvert_exporter": "python",
   "pygments_lexer": "ipython3",
   "version": "3.8.5"
  },
  "orig_nbformat": 2,
  "kernelspec": {
   "name": "python385jvsc74a57bd04f7b070ef049bbd8502237a868479304b4da16a010bb509c19371ab8ff01cc23",
   "display_name": "Python 3.8.5 64-bit ('base': conda)"
  }
 },
 "nbformat": 4,
 "nbformat_minor": 2,
 "cells": [
  {
   "source": [
    "# Preparing Experiments\n",
    "\n",
    "In this notebook, we will prepare several parts of our experiments including\n",
    "deploying and configuring our workload, loading traces, and creating functions\n",
    "to be called to generate the workloads."
   ],
   "cell_type": "markdown",
   "metadata": {}
  },
  {
   "cell_type": "code",
   "execution_count": 1,
   "metadata": {},
   "outputs": [],
   "source": [
    "from tqdm.auto import tqdm\n",
    "import itertools\n",
    "\n",
    "import os\n",
    "\n",
    "# my imports\n",
    "from helpers import kube\n",
    "from helpers import workload\n",
    "from helpers import util\n",
    "from helpers import request_funcs"
   ]
  },
  {
   "cell_type": "code",
   "execution_count": 2,
   "metadata": {},
   "outputs": [
    {
     "output_type": "stream",
     "name": "stdout",
     "text": [
      "NAME            URL                                            LATEST                AGE     CONDITIONS   READY   REASON\nautoscale-go    http://autoscale-go.default.kn.nima-dev.com    autoscale-go-00035    89d     3 OK / 3     True    \nbench1          http://bench1.default.kn.nima-dev.com          bench1-00054          97d     3 OK / 3     True    \nbentoml-iris    http://bentoml-iris.default.kn.nima-dev.com    bentoml-iris-00001    3m17s   3 OK / 3     True    \nhelloworld-go   http://helloworld-go.default.kn.nima-dev.com   helloworld-go-00001   99d     3 OK / 3     True    \n"
     ]
    }
   ],
   "source": [
    "# making sure kn is set up correctly\n",
    "!kn service ls"
   ]
  },
  {
   "cell_type": "code",
   "execution_count": 3,
   "metadata": {},
   "outputs": [
    {
     "output_type": "stream",
     "name": "stdout",
     "text": [
      "kn service apply bentoml-iris --image ghcr.io/nimamahmoudi/bentoml-iris-classifier:20210429201447 \\\n  --limit 'cpu=250m,memory=512Mi' \\\n  -a autoscaling.knative.dev/target=1 \\\n  -a autoscaling.knative.dev/metric=concurrency\n"
     ]
    }
   ],
   "source": [
    "EXP_CONFIG_NAME_DEFAULT = 'bentoml-iris-250m-512mb'\n",
    "exp_config_name = os.getenv(\"DEPLOYMENT_CONFIG_NAME\", EXP_CONFIG_NAME_DEFAULT)\n",
    "exp_file = f\"deployments/{exp_config_name}.json\"\n",
    "\n",
    "workload_spec = util.load_json_file(exp_file)\n",
    "\n",
    "kn_command = kube.get_kn_command(**workload_spec)\n",
    "print(kn_command)\n",
    "# to run the command, we can simply use:\n",
    "# !{kn_command}\n",
    "# or from python:\n",
    "# get_ipython().system('{kn_command}')"
   ]
  },
  {
   "cell_type": "code",
   "execution_count": 4,
   "metadata": {},
   "outputs": [
    {
     "output_type": "stream",
     "name": "stdout",
     "text": [
      "Applying service 'bentoml-iris' in namespace 'default':\n",
      "\n",
      "  0.046s The Configuration is still working to reflect the latest desired specification.\n",
      " 37.554s Traffic is not yet migrated to the latest revision.\n",
      " 37.649s Ingress has not yet been reconciled.\n",
      " 37.674s Waiting for load balancer to be ready\n",
      " 37.912s Ready to serve.\n",
      "\n",
      "Service 'bentoml-iris' applied to latest revision 'bentoml-iris-00002' is available at URL:\n",
      "http://bentoml-iris.default.kn.nima-dev.com\n"
     ]
    }
   ],
   "source": [
    "# deploy the workload\n",
    "!{kn_command}"
   ]
  }
 ]
}