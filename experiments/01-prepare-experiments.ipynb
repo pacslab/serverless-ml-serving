{
 "metadata": {
  "language_info": {
   "codemirror_mode": {
    "name": "ipython",
    "version": 3
   },
   "file_extension": ".py",
   "mimetype": "text/x-python",
   "name": "python",
   "nbconvert_exporter": "python",
   "pygments_lexer": "ipython3",
   "version": "3.8.5"
  },
  "orig_nbformat": 2,
  "kernelspec": {
   "name": "python3",
   "display_name": "Python 3.8.5 64-bit ('base': conda)"
  },
  "interpreter": {
   "hash": "4f7b070ef049bbd8502237a868479304b4da16a010bb509c19371ab8ff01cc23"
  }
 },
 "nbformat": 4,
 "nbformat_minor": 2,
 "cells": [
  {
   "source": [
    "# Preparing Experiments\n",
    "\n",
    "In this notebook, we will prepare several parts of our experiments including\n",
    "deploying and configuring our workload, loading traces, and creating functions\n",
    "to be called to generate the workloads."
   ],
   "cell_type": "markdown",
   "metadata": {}
  },
  {
   "cell_type": "code",
   "execution_count": 1,
   "metadata": {},
   "outputs": [
    {
     "output_type": "stream",
     "name": "stdout",
     "text": [
      "fetching imagenet v2\nresizing images\n"
     ]
    },
    {
     "output_type": "display_data",
     "data": {
      "text/plain": "  0%|          | 0/100 [00:00<?, ?it/s]",
      "application/vnd.jupyter.widget-view+json": {
       "version_major": 2,
       "version_minor": 0,
       "model_id": "926baf2dff6b4018a5e2d3b71654ebe5"
      }
     },
     "metadata": {}
    },
    {
     "output_type": "stream",
     "name": "stdout",
     "text": [
      "converting to bentoml files\n"
     ]
    },
    {
     "output_type": "display_data",
     "data": {
      "text/plain": "  0%|          | 0/100 [00:00<?, ?it/s]",
      "application/vnd.jupyter.widget-view+json": {
       "version_major": 2,
       "version_minor": 0,
       "model_id": "741e80616ac24baaabc6021846e80f38"
      }
     },
     "metadata": {}
    },
    {
     "output_type": "stream",
     "name": "stdout",
     "text": [
      "extracting base64 files\n"
     ]
    },
    {
     "output_type": "display_data",
     "data": {
      "text/plain": "  0%|          | 0/100 [00:00<?, ?it/s]",
      "application/vnd.jupyter.widget-view+json": {
       "version_major": 2,
       "version_minor": 0,
       "model_id": "4f24f47753424a9fb8d5aaa432c8857a"
      }
     },
     "metadata": {}
    },
    {
     "output_type": "stream",
     "name": "stdout",
     "text": [
      "preprocessing for mobilenet\n"
     ]
    },
    {
     "output_type": "display_data",
     "data": {
      "text/plain": "  0%|          | 0/100 [00:00<?, ?it/s]",
      "application/vnd.jupyter.widget-view+json": {
       "version_major": 2,
       "version_minor": 0,
       "model_id": "8001be3f6eb6406e91bdadc1b092860d"
      }
     },
     "metadata": {}
    }
   ],
   "source": [
    "from tqdm.auto import tqdm\n",
    "import itertools\n",
    "\n",
    "import os\n",
    "import time\n",
    "\n",
    "# my imports\n",
    "from helpers import kube\n",
    "from helpers import workload\n",
    "from helpers import util\n",
    "from helpers import request_funcs"
   ]
  },
  {
   "cell_type": "code",
   "execution_count": 2,
   "metadata": {},
   "outputs": [
    {
     "output_type": "stream",
     "name": "stdout",
     "text": [
      "NAME                    URL                                                    LATEST                        AGE    CONDITIONS   READY   REASON\nautoscale-go            http://autoscale-go.default.kn.nima-dev.com            autoscale-go-00035            136d   3 OK / 3     True    \nbench1                  http://bench1.default.kn.nima-dev.com                  bench1-00054                  145d   3 OK / 3     True    \nbentoml-iris            http://bentoml-iris.default.kn.nima-dev.com            bentoml-iris-00165            47d    3 OK / 3     True    \nbentoml-onnx-resnet50   http://bentoml-onnx-resnet50.default.kn.nima-dev.com   bentoml-onnx-resnet50-00036   47d    3 OK / 3     True    \nhelloworld-go           http://helloworld-go.default.kn.nima-dev.com           helloworld-go-00001           146d   3 OK / 3     True    \ntfserving-mobilenetv1   http://tfserving-mobilenetv1.default.kn.nima-dev.com   tfserving-mobilenetv1-00029   47d    3 OK / 3     True    \ntfserving-resnetv2      http://tfserving-resnetv2.default.kn.nima-dev.com      tfserving-resnetv2-00079      47d    3 OK / 3     True    \n"
     ]
    }
   ],
   "source": [
    "# making sure kn is set up correctly\n",
    "!kn service ls"
   ]
  },
  {
   "cell_type": "code",
   "execution_count": 3,
   "metadata": {},
   "outputs": [
    {
     "output_type": "stream",
     "name": "stdout",
     "text": [
      "====================\n",
      "kn service apply bentoml-pytorch-fashion-mnist --image ghcr.io/nimamahmoudi/bentoml-pytorch-fashion-mnist:20210614122950 \\\n",
      "  --limit 'cpu=1000m,memory=1000Mi' \\\n",
      "  --request 'cpu=1000m,memory=1000Mi' \\\n",
      "  --port 5000 \\\n",
      "  -a autoscaling.knative.dev/target=1 \\\n",
      "  -a autoscaling.knative.dev/metric=concurrency\n",
      "--------------------\n",
      "Creating service 'bentoml-pytorch-fashion-mnist' in namespace 'default':\n",
      "\n",
      "  0.050s The Route is still working to reflect the latest desired specification.\n",
      "  0.170s Configuration \"bentoml-pytorch-fashion-mnist\" is waiting for a Revision to become ready.\n",
      " 79.057s ...\n",
      " 79.101s Ingress has not yet been reconciled.\n",
      " 79.184s Waiting for load balancer to be ready\n",
      " 79.575s Ready to serve.\n",
      "\n",
      "Service 'bentoml-pytorch-fashion-mnist' created to latest revision 'bentoml-pytorch-fashion-mnist-00001' is available at URL:\n",
      "http://bentoml-pytorch-fashion-mnist.default.kn.nima-dev.com\n"
     ]
    }
   ],
   "source": [
    "# EXP_CONFIG_NAME_DEFAULT = 'bentoml-iris-250m-512mb'\n",
    "# EXP_CONFIG_NAME_DEFAULT = 'bentoml-onnx-resnet50-250m-512mb'\n",
    "# EXP_CONFIG_NAME_DEFAULT = 'tfserving-resnetv2-250m-512mb'\n",
    "# EXP_CONFIG_NAME_DEFAULT = 'tfserving-mobilenetv1-250m-512mb'\n",
    "# exp_config_name = os.getenv(\"DEPLOYMENT_CONFIG_NAME\", EXP_CONFIG_NAME_DEFAULT)\n",
    "\n",
    "config_names = [\n",
    "    'bentoml-iris-250m-512mb',\n",
    "    'bentoml-onnx-resnet50-250m-512mb',\n",
    "    'tfserving-resnetv2-250m-512mb',\n",
    "    'tfserving-mobilenetv1-250m-512mb',\n",
    "    'bentoml-pytorch-fashionmnist-250m-512mb',\n",
    "]\n",
    "\n",
    "request_limit_override = \"'cpu=1000m,memory=1000Mi'\"\n",
    "\n",
    "for exp_config_name in config_names:\n",
    "    exp_file = f\"deployments/{exp_config_name}.json\"\n",
    "\n",
    "    workload_spec = util.load_json_file(exp_file)\n",
    "\n",
    "    # override request and limit values\n",
    "    workload_spec['opts']['--request'] = request_limit_override\n",
    "    workload_spec['opts']['--limit'] = request_limit_override\n",
    "\n",
    "    kn_command = kube.get_kn_command(**workload_spec)\n",
    "    print('='*20)\n",
    "    print(kn_command)\n",
    "    print('-'*20)\n",
    "    # to run the command, we can simply use:\n",
    "    !{kn_command}\n",
    "    # or from python:\n",
    "    # get_ipython().system('{kn_command}')\n",
    "\n",
    "# wait for changes to take effect\n",
    "time.sleep(10)"
   ]
  },
  {
   "cell_type": "code",
   "execution_count": 4,
   "metadata": {
    "tags": []
   },
   "outputs": [],
   "source": [
    "# testing the workload functions\n",
    "# !python helpers/request_funcs.py"
   ]
  }
 ]
}