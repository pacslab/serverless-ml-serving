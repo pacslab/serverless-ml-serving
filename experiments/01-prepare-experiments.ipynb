{
 "metadata": {
  "language_info": {
   "codemirror_mode": {
    "name": "ipython",
    "version": 3
   },
   "file_extension": ".py",
   "mimetype": "text/x-python",
   "name": "python",
   "nbconvert_exporter": "python",
   "pygments_lexer": "ipython3",
   "version": "3.8.5"
  },
  "orig_nbformat": 2,
  "kernelspec": {
   "name": "python385jvsc74a57bd04f7b070ef049bbd8502237a868479304b4da16a010bb509c19371ab8ff01cc23",
   "display_name": "Python 3.8.5 64-bit ('miniconda': virtualenv)"
  }
 },
 "nbformat": 4,
 "nbformat_minor": 2,
 "cells": [
  {
   "source": [
    "# Preparing Experiments\n",
    "\n",
    "In this notebook, we will prepare several parts of our experiments including\n",
    "deploying and configuring our workload, loading traces, and creating functions\n",
    "to be called to generate the workloads."
   ],
   "cell_type": "markdown",
   "metadata": {}
  },
  {
   "cell_type": "code",
   "execution_count": 1,
   "metadata": {},
   "outputs": [
    {
     "output_type": "stream",
     "name": "stdout",
     "text": [
      "fetching imagenet v2\nresizing images\n"
     ]
    },
    {
     "output_type": "display_data",
     "data": {
      "text/plain": "  0%|          | 0/100 [00:00<?, ?it/s]",
      "application/vnd.jupyter.widget-view+json": {
       "version_major": 2,
       "version_minor": 0,
       "model_id": "f58b385515924ffebc25e094e0f84be2"
      }
     },
     "metadata": {}
    },
    {
     "output_type": "stream",
     "name": "stdout",
     "text": [
      "converting to bentoml files\n"
     ]
    },
    {
     "output_type": "display_data",
     "data": {
      "text/plain": "  0%|          | 0/100 [00:00<?, ?it/s]",
      "application/vnd.jupyter.widget-view+json": {
       "version_major": 2,
       "version_minor": 0,
       "model_id": "4b2e3bcc72cb4aad980eff1ec4f95a86"
      }
     },
     "metadata": {}
    },
    {
     "output_type": "stream",
     "name": "stdout",
     "text": [
      "extracting base64 files\n"
     ]
    },
    {
     "output_type": "display_data",
     "data": {
      "text/plain": "  0%|          | 0/100 [00:00<?, ?it/s]",
      "application/vnd.jupyter.widget-view+json": {
       "version_major": 2,
       "version_minor": 0,
       "model_id": "9382adbf3fe945de9d20b33c8f37cd30"
      }
     },
     "metadata": {}
    },
    {
     "output_type": "stream",
     "name": "stdout",
     "text": [
      "preprocessing for mobilenet\n"
     ]
    },
    {
     "output_type": "display_data",
     "data": {
      "text/plain": "  0%|          | 0/100 [00:00<?, ?it/s]",
      "application/vnd.jupyter.widget-view+json": {
       "version_major": 2,
       "version_minor": 0,
       "model_id": "38305212166f45679a200f7ba610d598"
      }
     },
     "metadata": {}
    }
   ],
   "source": [
    "from tqdm.auto import tqdm\n",
    "import itertools\n",
    "\n",
    "import os\n",
    "import time\n",
    "\n",
    "# my imports\n",
    "from helpers import kube\n",
    "from helpers import workload\n",
    "from helpers import util\n",
    "from helpers import request_funcs"
   ]
  },
  {
   "cell_type": "code",
   "execution_count": 2,
   "metadata": {},
   "outputs": [
    {
     "output_type": "stream",
     "name": "stdout",
     "text": [
      "NAME                    URL                                                    LATEST                        AGE    CONDITIONS   READY   REASON\nautoscale-go            http://autoscale-go.default.kn.nima-dev.com            autoscale-go-00035            93d    3 OK / 3     True    \nbench1                  http://bench1.default.kn.nima-dev.com                  bench1-00054                  102d   3 OK / 3     True    \nbentoml-iris            http://bentoml-iris.default.kn.nima-dev.com            bentoml-iris-00004            4d7h   3 OK / 3     True    \nbentoml-onnx-resnet50   http://bentoml-onnx-resnet50.default.kn.nima-dev.com   bentoml-onnx-resnet50-00003   4d7h   3 OK / 3     True    \nhelloworld-go           http://helloworld-go.default.kn.nima-dev.com           helloworld-go-00001           103d   3 OK / 3     True    \ntfserving-mobilenetv1   http://tfserving-mobilenetv1.default.kn.nima-dev.com   tfserving-mobilenetv1-00003   4d6h   3 OK / 3     True    \ntfserving-resnetv2      http://tfserving-resnetv2.default.kn.nima-dev.com      tfserving-resnetv2-00003      4d6h   3 OK / 3     True    \n"
     ]
    }
   ],
   "source": [
    "# making sure kn is set up correctly\n",
    "!kn service ls"
   ]
  },
  {
   "cell_type": "code",
   "execution_count": 3,
   "metadata": {},
   "outputs": [
    {
     "output_type": "stream",
     "name": "stdout",
     "text": [
      "====================\n",
      "kn service apply bentoml-iris --image ghcr.io/nimamahmoudi/bentoml-iris-classifier:20210429201447 \\\n",
      "  --limit 'cpu=1000m,memory=1000Mi' \\\n",
      "  --request 'cpu=1000m,memory=1000Mi' \\\n",
      "  --port 5000 \\\n",
      "  -a autoscaling.knative.dev/target=1 \\\n",
      "  -a autoscaling.knative.dev/metric=concurrency\n",
      "--------------------\n",
      "Applying service 'bentoml-iris' in namespace 'default':\n",
      "\n",
      "  0.070s The Configuration is still working to reflect the latest desired specification.\n",
      "  6.933s Traffic is not yet migrated to the latest revision.\n",
      "  6.968s Ingress has not yet been reconciled.\n",
      "  7.117s Waiting for load balancer to be ready\n",
      "  7.325s Ready to serve.\n",
      "\n",
      "Service 'bentoml-iris' applied to latest revision 'bentoml-iris-00005' is available at URL:\n",
      "http://bentoml-iris.default.kn.nima-dev.com\n",
      "====================\n",
      "kn service apply bentoml-onnx-resnet50 --image ghcr.io/nimamahmoudi/bentoml-onnx-resnet50:20210430002258 \\\n",
      "  --limit 'cpu=1000m,memory=1000Mi' \\\n",
      "  --request 'cpu=1000m,memory=1000Mi' \\\n",
      "  --port 5000 \\\n",
      "  -a autoscaling.knative.dev/target=1 \\\n",
      "  -a autoscaling.knative.dev/metric=concurrency\n",
      "--------------------\n",
      "Applying service 'bentoml-onnx-resnet50' in namespace 'default':\n",
      "\n",
      "  0.090s The Configuration is still working to reflect the latest desired specification.\n",
      " 10.377s Traffic is not yet migrated to the latest revision.\n",
      " 10.413s Ingress has not yet been reconciled.\n",
      " 10.570s Waiting for load balancer to be ready\n",
      " 11.061s Ready to serve.\n",
      "\n",
      "Service 'bentoml-onnx-resnet50' applied to latest revision 'bentoml-onnx-resnet50-00004' is available at URL:\n",
      "http://bentoml-onnx-resnet50.default.kn.nima-dev.com\n",
      "====================\n",
      "kn service apply tfserving-resnetv2 --image ghcr.io/nimamahmoudi/tfserving-resnet:20210429213000 \\\n",
      "  --limit 'cpu=1000m,memory=1000Mi' \\\n",
      "  --request 'cpu=1000m,memory=1000Mi' \\\n",
      "  --port 5000 \\\n",
      "  -a autoscaling.knative.dev/target=1 \\\n",
      "  -a autoscaling.knative.dev/metric=concurrency\n",
      "--------------------\n",
      "Applying service 'tfserving-resnetv2' in namespace 'default':\n",
      "\n",
      "  0.083s The Configuration is still working to reflect the latest desired specification.\n",
      "  4.716s Traffic is not yet migrated to the latest revision.\n",
      "  4.776s Ingress has not yet been reconciled.\n",
      "  4.881s Waiting for load balancer to be ready\n",
      "  5.024s Ready to serve.\n",
      "\n",
      "Service 'tfserving-resnetv2' applied to latest revision 'tfserving-resnetv2-00004' is available at URL:\n",
      "http://tfserving-resnetv2.default.kn.nima-dev.com\n",
      "====================\n",
      "kn service apply tfserving-mobilenetv1 --image ghcr.io/nimamahmoudi/tfserving-mobilenet:20210430005829 \\\n",
      "  --limit 'cpu=1000m,memory=1000Mi' \\\n",
      "  --request 'cpu=1000m,memory=1000Mi' \\\n",
      "  --port 5000 \\\n",
      "  -a autoscaling.knative.dev/target=1 \\\n",
      "  -a autoscaling.knative.dev/metric=concurrency\n",
      "--------------------\n",
      "Applying service 'tfserving-mobilenetv1' in namespace 'default':\n",
      "\n",
      " 11.045s Traffic is not yet migrated to the latest revision.\n",
      " 11.118s Ingress has not yet been reconciled.\n",
      " 11.226s Waiting for load balancer to be ready\n",
      " 11.348s Ready to serve.\n",
      "\n",
      "Service 'tfserving-mobilenetv1' applied to latest revision 'tfserving-mobilenetv1-00004' is available at URL:\n",
      "http://tfserving-mobilenetv1.default.kn.nima-dev.com\n"
     ]
    }
   ],
   "source": [
    "# EXP_CONFIG_NAME_DEFAULT = 'bentoml-iris-250m-512mb'\n",
    "# EXP_CONFIG_NAME_DEFAULT = 'bentoml-onnx-resnet50-250m-512mb'\n",
    "# EXP_CONFIG_NAME_DEFAULT = 'tfserving-resnetv2-250m-512mb'\n",
    "# EXP_CONFIG_NAME_DEFAULT = 'tfserving-mobilenetv1-250m-512mb'\n",
    "# exp_config_name = os.getenv(\"DEPLOYMENT_CONFIG_NAME\", EXP_CONFIG_NAME_DEFAULT)\n",
    "\n",
    "config_names = [\n",
    "    'bentoml-iris-250m-512mb',\n",
    "    'bentoml-onnx-resnet50-250m-512mb',\n",
    "    'tfserving-resnetv2-250m-512mb',\n",
    "    'tfserving-mobilenetv1-250m-512mb',\n",
    "]\n",
    "\n",
    "request_limit_override = \"'cpu=1000m,memory=1000Mi'\"\n",
    "\n",
    "for exp_config_name in config_names:\n",
    "    exp_file = f\"deployments/{exp_config_name}.json\"\n",
    "\n",
    "    workload_spec = util.load_json_file(exp_file)\n",
    "\n",
    "    # override request and limit values\n",
    "    workload_spec['opts']['--request'] = request_limit_override\n",
    "    workload_spec['opts']['--limit'] = request_limit_override\n",
    "\n",
    "    kn_command = kube.get_kn_command(**workload_spec)\n",
    "    print('='*20)\n",
    "    print(kn_command)\n",
    "    print('-'*20)\n",
    "    # to run the command, we can simply use:\n",
    "    !{kn_command}\n",
    "    # or from python:\n",
    "    # get_ipython().system('{kn_command}')\n",
    "\n",
    "# wait for changes to take effect\n",
    "time.sleep(10)"
   ]
  },
  {
   "cell_type": "code",
   "execution_count": 4,
   "metadata": {
    "tags": [
     "outputPrepend"
    ]
   },
   "outputs": [
    {
     "output_type": "stream",
     "name": "stdout",
     "text": [
      "100 [00:00<00:00, 382.94it/s]\n",
      "preprocessing for mobilenet\n",
      "100%|█████████████████████████████████████████| 100/100 [00:05<00:00, 18.60it/s]\n",
      "Starting testing...\n",
      "running bentoml-iris workload function, batch_size: 1\n",
      "[1]: result: {'prediction': [2], 'response_time_ms': 128.494}\n",
      "[2]: result: {'prediction': [1], 'response_time_ms': 19.416}\n",
      "[3]: result: {'prediction': [0], 'response_time_ms': 18.067}\n",
      "[4]: result: {'prediction': [1], 'response_time_ms': 18.272}\n",
      "[5]: result: {'prediction': [0], 'response_time_ms': 18.682000000000002}\n",
      "[6]: result: {'prediction': [0], 'response_time_ms': 16.168}\n",
      "[7]: result: {'prediction': [1], 'response_time_ms': 18.384}\n",
      "[8]: result: {'prediction': [2], 'response_time_ms': 18.539}\n",
      "[9]: result: {'prediction': [2], 'response_time_ms': 14.973}\n",
      "[10]: result: {'prediction': [0], 'response_time_ms': 16.809}\n",
      "running bentoml-iris workload function, batch_size: 2\n",
      "[1]: result: {'prediction': [2, 2], 'response_time_ms': 18.869}\n",
      "[2]: result: {'prediction': [1, 1], 'response_time_ms': 18.996}\n",
      "[3]: result: {'prediction': [0, 0], 'response_time_ms': 20.636000000000003}\n",
      "[4]: result: {'prediction': [0, 2], 'response_time_ms': 18.041}\n",
      "[5]: result: {'prediction': [2, 2], 'response_time_ms': 17.655}\n",
      "[6]: result: {'prediction': [1, 0], 'response_time_ms': 17.207}\n",
      "[7]: result: {'prediction': [1, 1], 'response_time_ms': 18.065}\n",
      "[8]: result: {'prediction': [0, 0], 'response_time_ms': 25.253999999999998}\n",
      "[9]: result: {'prediction': [2, 0], 'response_time_ms': 18.504}\n",
      "[10]: result: {'prediction': [2, 1], 'response_time_ms': 17.297}\n",
      "running bentoml-iris workload function, batch_size: 5\n",
      "[1]: result: {'prediction': [2, 0, 1, 2, 1], 'response_time_ms': 18.28}\n",
      "[2]: result: {'prediction': [0, 1, 1, 0, 1], 'response_time_ms': 15.573}\n",
      "[3]: result: {'prediction': [1, 1, 0, 1, 2], 'response_time_ms': 17.842}\n",
      "[4]: result: {'prediction': [2, 1, 1, 2, 0], 'response_time_ms': 17.927}\n",
      "[5]: result: {'prediction': [0, 1, 1, 1, 1], 'response_time_ms': 15.402000000000001}\n",
      "[6]: result: {'prediction': [1, 1, 0, 1, 1], 'response_time_ms': 24.343}\n",
      "[7]: result: {'prediction': [0, 1, 2, 2, 1], 'response_time_ms': 22.046}\n",
      "[8]: result: {'prediction': [1, 0, 2, 0, 2], 'response_time_ms': 19.534}\n",
      "[9]: result: {'prediction': [2, 1, 2, 0, 1], 'response_time_ms': 19.586}\n",
      "[10]: result: {'prediction': [1, 1, 2, 0, 0], 'response_time_ms': 24.299999999999997}\n",
      "running bentoml-onnx-resnet50 workload function, batch_size: 1\n",
      "[1]: result: {'prediction': ['sea lion', 'muzzle', 'Mexican hairless dog', 'Great Dane', 'American Staffordshire Terrier'], 'response_time_ms': 2088.121}\n",
      "[2]: result: {'prediction': ['grille', 'semi-trailer truck', 'front curtain', 'candle', 'unicycle'], 'response_time_ms': 303.25}\n",
      "[3]: result: {'prediction': ['ruler', 'wallet', 'velvet', 'oscilloscope', 'monitor'], 'response_time_ms': 319.855}\n",
      "[4]: result: {'prediction': ['lighter', 'mousetrap', 'pencil sharpener', 'cassette', 'tape player'], 'response_time_ms': 498.205}\n",
      "[5]: result: {'prediction': ['agama', 'frilled-necked lizard', 'banded gecko', 'desert grassland whiptail lizard', 'alligator lizard'], 'response_time_ms': 362.65799999999996}\n",
      "[6]: result: {'prediction': ['great grey owl', 'marmoset', 'chameleon', 'macaw', 'frilled-necked lizard'], 'response_time_ms': 321.289}\n",
      "[7]: result: {'prediction': ['bolete', 'earth star', 'agaric', 'mushroom', 'stinkhorn mushroom'], 'response_time_ms': 386.96799999999996}\n",
      "[8]: result: {'prediction': ['yurt', 'lighthouse', 'dome', 'barn', 'tent'], 'response_time_ms': 378.44}\n",
      "[9]: result: {'prediction': ['terrapin', 'mud turtle', 'box turtle', 'loggerhead sea turtle', 'leatherback sea turtle'], 'response_time_ms': 330.252}\n",
      "[10]: result: {'prediction': ['seat belt', 'jeans', 'oxygen mask', 'minivan', 'sandal'], 'response_time_ms': 368.966}\n",
      "running bentoml-onnx-resnet50 workload function, batch_size: 2\n",
      "exception occured:\n",
      "Traceback (most recent call last):\n",
      "  File \"helpers/request_funcs.py\", line 190, in <module>\n",
      "    result = workload_funcs[k](batch_size=batch_size)\n",
      "  File \"helpers/request_funcs.py\", line 100, in request_bentoml_onnx_resnet50\n",
      "    raise NotImplementedError('cannot handle batch_size > 1 for image input')\n",
      "NotImplementedError: cannot handle batch_size > 1 for image input\n",
      "running bentoml-onnx-resnet50 workload function, batch_size: 5\n",
      "exception occured:\n",
      "Traceback (most recent call last):\n",
      "  File \"helpers/request_funcs.py\", line 190, in <module>\n",
      "    result = workload_funcs[k](batch_size=batch_size)\n",
      "  File \"helpers/request_funcs.py\", line 100, in request_bentoml_onnx_resnet50\n",
      "    raise NotImplementedError('cannot handle batch_size > 1 for image input')\n",
      "NotImplementedError: cannot handle batch_size > 1 for image input\n",
      "running tfserving-resnetv2 workload function, batch_size: 1\n",
      "[1]: result: {'prediction': [['agama', 'frilled_lizard', 'African_chameleon', 'American_chameleon', 'tailed_frog']], 'response_time_ms': 696.877}\n",
      "[2]: result: {'prediction': [['china_cabinet', 'chiffonier', 'chest', 'plate_rack', 'bookcase']], 'response_time_ms': 390.778}\n",
      "[3]: result: {'prediction': [['cuirass', 'breastplate', 'hamper', 'typewriter_keyboard', 'bulletproof_vest']], 'response_time_ms': 400.05400000000003}\n",
      "[4]: result: {'prediction': [['Chesapeake_Bay_retriever', 'Sussex_spaniel', 'standard_poodle', 'vizsla', 'Irish_terrier']], 'response_time_ms': 380.872}\n",
      "[5]: result: {'prediction': [['EntleBucher', 'Appenzeller', 'Greater_Swiss_Mountain_dog', 'Bernese_mountain_dog', 'English_foxhound']], 'response_time_ms': 175.52100000000002}\n",
      "[6]: result: {'prediction': [['terrapin', 'mud_turtle', 'box_turtle', 'loggerhead', 'leatherback_turtle']], 'response_time_ms': 210.979}\n",
      "[7]: result: {'prediction': [['agama', 'frilled_lizard', 'African_chameleon', 'American_chameleon', 'tailed_frog']], 'response_time_ms': 282.012}\n",
      "[8]: result: {'prediction': [['Welsh_springer_spaniel', 'Brittany_spaniel', 'clumber', 'cocker_spaniel', 'Sussex_spaniel']], 'response_time_ms': 204.477}\n",
      "[9]: result: {'prediction': [['miniature_pinscher', 'Chihuahua', 'toy_terrier', 'dingo', 'timber_wolf']], 'response_time_ms': 260.516}\n",
      "[10]: result: {'prediction': [['packet', 'prayer_rug', 'book_jacket', 'binder', 'menu']], 'response_time_ms': 297.861}\n",
      "running tfserving-resnetv2 workload function, batch_size: 2\n",
      "[1]: result: {'prediction': [['bullet_train', 'streetcar', 'passenger_car', 'sports_car', 'bobsled'], ['gyromitra', 'hen-of-the-woods', 'mushroom', 'bolete', 'earthstar']], 'response_time_ms': 419.47200000000004}\n",
      "[2]: result: {'prediction': [['ptarmigan', 'black_grouse', 'marmot', 'ibex', 'partridge'], ['china_cabinet', 'chiffonier', 'chest', 'plate_rack', 'bookcase']], 'response_time_ms': 434.361}\n",
      "[3]: result: {'prediction': [['tree_frog', 'tailed_frog', 'common_newt', 'bullfrog', 'American_chameleon'], ['hot_pot', 'consomme', 'soup_bowl', 'caldron', 'plate']], 'response_time_ms': 476.702}\n",
      "[4]: result: {'prediction': [['sarong', 'apron', 'poncho', 'overskirt', 'stole'], ['brain_coral', 'coral_reef', 'rock_beauty', 'hen-of-the-woods', 'eel']], 'response_time_ms': 365.865}\n",
      "[5]: result: {'prediction': [['sea_cucumber', 'flatworm', 'nematode', 'isopod', 'washer'], ['gas_pump', 'file', 'slot', 'vending_machine', 'crate']], 'response_time_ms': 406.266}\n",
      "[6]: result: {'prediction': [['great_grey_owl', 'prairie_chicken', 'kite', 'ruffed_grouse', 'lynx'], ['mousetrap', 'pencil_sharpener', 'lighter', 'cassette', 'plane']], 'response_time_ms': 361.387}\n",
      "[7]: result: {'prediction': [['fireboat', 'drilling_platform', 'container_ship', 'aircraft_carrier', 'liner'], ['viaduct', 'valley', 'cliff', 'monastery', 'alp']], 'response_time_ms': 458.046}\n",
      "[8]: result: {'prediction': [['platypus', 'echidna', 'partridge', 'beaver', 'house_finch'], ['yurt', 'water_tower', 'barn', 'trailer_truck', 'beacon']], 'response_time_ms': 392.84999999999997}\n",
      "[9]: result: {'prediction': [['fireboat', 'drilling_platform', 'container_ship', 'aircraft_carrier', 'liner'], ['bubble', 'Petri_dish', 'pretzel', 'strawberry', 'spider_web']], 'response_time_ms': 389.27299999999997}\n",
      "[10]: result: {'prediction': [['espresso_maker', 'stove', 'coffeepot', 'scale', 'soap_dispenser'], ['dowitcher', 'red-backed_sandpiper', 'redshank', 'ruddy_turnstone', 'red-breasted_merganser']], 'response_time_ms': 406.674}\n",
      "running tfserving-resnetv2 workload function, batch_size: 5\n",
      "[1]: result: {'prediction': [['sea_anemone', 'sea_slug', 'sea_urchin', 'coral_reef', 'anemone_fish'], ['cuirass', 'breastplate', 'hamper', 'typewriter_keyboard', 'bulletproof_vest'], ['nail', 'screw', 'hook', 'corkscrew', 'scabbard'], ['bannister', 'lumbermill', 'prison', 'tobacco_shop', 'shoji'], ['Great_Pyrenees', 'ice_bear', 'dogsled', 'kuvasz', 'Arctic_fox']], 'response_time_ms': 1095.5040000000001}\n",
      "[2]: result: {'prediction': [['stage', 'electric_guitar', 'loudspeaker', 'television', 'cassette'], ['bolete', 'mushroom', 'stinkhorn', 'agaric', 'hen-of-the-woods'], ['cuirass', 'breastplate', 'hamper', 'typewriter_keyboard', 'bulletproof_vest'], ['gasmask', 'oxygen_mask', 'reflex_camera', 'projector', 'Polaroid_camera'], ['chest', 'carton', 'crate', 'mortarboard', 'ashcan']], 'response_time_ms': 1099.6019999999999}\n",
      "[3]: result: {'prediction': [['Mexican_hairless', 'toy_terrier', 'Staffordshire_bullterrier', 'Italian_greyhound', 'miniature_pinscher'], ['bubble', 'Petri_dish', 'pretzel', 'strawberry', 'spider_web'], ['bolete', 'mushroom', 'stinkhorn', 'agaric', 'hen-of-the-woods'], ['gas_pump', 'file', 'slot', 'vending_machine', 'crate'], ['miniature_pinscher', 'Chihuahua', 'toy_terrier', 'dingo', 'timber_wolf']], 'response_time_ms': 1050.003}\n",
      "[4]: result: {'prediction': [['langur', 'gibbon', 'colobus', 'patas', 'spider_monkey'], ['overskirt', 'beer_bottle', 'hair_spray', 'stole', 'cocktail_shaker'], ['cardoon', 'artichoke', 'sea_urchin', 'pineapple', 'buckeye'], ['sea_lion', 'Mexican_hairless', 'German_short-haired_pointer', 'muzzle', 'bloodhound'], ['Scottish_deerhound', 'Irish_wolfhound', 'English_setter', 'Bouvier_des_Flandres', 'German_short-haired_pointer']], 'response_time_ms': 954.686}\n",
      "[5]: result: {'prediction': [['Mexican_hairless', 'toy_terrier', 'Staffordshire_bullterrier', 'Italian_greyhound', 'miniature_pinscher'], ['Scottish_deerhound', 'Irish_wolfhound', 'English_setter', 'Bouvier_des_Flandres', 'German_short-haired_pointer'], ['miniature_pinscher', 'Chihuahua', 'toy_terrier', 'dingo', 'timber_wolf'], ['rule', 'quill', 'rubber_eraser', 'fire_screen', 'fountain'], ['gas_pump', 'file', 'slot', 'vending_machine', 'crate']], 'response_time_ms': 1078.988}\n",
      "[6]: result: {'prediction': [['kelpie', 'English_springer', 'Great_Dane', 'Saluki', 'borzoi'], ['bubble', 'Petri_dish', 'pretzel', 'strawberry', 'spider_web'], ['stage', 'electric_guitar', 'loudspeaker', 'television', 'cassette'], ['tailed_frog', 'European_fire_salamander', 'common_newt', 'banded_gecko', 'tree_frog'], ['miniature_pinscher', 'Chihuahua', 'toy_terrier', 'dingo', 'timber_wolf']], 'response_time_ms': 1158.4}\n",
      "[7]: result: {'prediction': [['Scottish_deerhound', 'Irish_wolfhound', 'English_setter', 'Bouvier_des_Flandres', 'German_short-haired_pointer'], ['overskirt', 'beer_bottle', 'hair_spray', 'stole', 'cocktail_shaker'], ['shoji', 'sliding_door', 'home_theater', 'window_shade', 'window_screen'], ['rhinoceros_beetle', 'dung_beetle', 'ground_beetle', 'long-horned_beetle', 'fly'], ['volcano', 'stage', 'fire_screen', 'torch', 'fire_engine']], 'response_time_ms': 1346.423}\n",
      "[8]: result: {'prediction': [['barometer', 'wall_clock', 'pedestal', 'table_lamp', 'harp'], ['sea_anemone', 'sea_slug', 'sea_urchin', 'coral_reef', 'anemone_fish'], ['guillotine', 'toyshop', 'cash_machine', 'tobacco_shop', 'barbershop'], ['rhinoceros_beetle', 'dung_beetle', 'ground_beetle', 'long-horned_beetle', 'fly'], ['ice_bear', 'brown_bear', 'Great_Pyrenees', 'weasel', 'badger']], 'response_time_ms': 1050.99}\n",
      "[9]: result: {'prediction': [['bannister', 'prison', 'monastery', 'mosque', 'palace'], ['perfume', 'face_powder', 'whiskey_jug', 'beer_bottle', 'oil_filter'], ['china_cabinet', 'chiffonier', 'chest', 'plate_rack', 'bookcase'], ['lifeboat', 'canoe', 'catamaran', 'speedboat', 'paddle'], ['tailed_frog', 'European_fire_salamander', 'common_newt', 'banded_gecko', 'tree_frog']], 'response_time_ms': 1060.663}\n",
      "[10]: result: {'prediction': [['chest', 'carton', 'crate', 'mortarboard', 'ashcan'], ['chest', 'carton', 'crate', 'mortarboard', 'ashcan'], ['French_loaf', 'rocking_chair', 'toaster', 'mortar', 'plate_rack'], ['Mexican_hairless', 'toy_terrier', 'Staffordshire_bullterrier', 'Italian_greyhound', 'miniature_pinscher'], ['crutch', 'streetcar', 'stretcher', 'broom', 'butcher_shop']], 'response_time_ms': 1052.971}\n",
      "running tfserving-mobilenetv1 workload function, batch_size: 1\n",
      "[1]: result: {'prediction': [['peacock', 'bubble', 'drake', 'indigo_bunting', 'jay']], 'response_time_ms': 2155.9210000000003}\n",
      "[2]: result: {'prediction': [['great_grey_owl', 'hornbill', 'ruffed_grouse', 'limpkin', 'stole']], 'response_time_ms': 3230.622}\n",
      "[3]: result: {'prediction': [['slot', 'cinema', 'parking_meter', 'bubble', 'oscilloscope']], 'response_time_ms': 1172.736}\n",
      "[4]: result: {'prediction': [['African_hunting_dog', 'American_alligator', 'cheetah', 'lion', 'tailed_frog']], 'response_time_ms': 2164.598}\n",
      "[5]: result: {'prediction': [['puck', 'knee_pad', 'ski', 'bearskin', 'broom']], 'response_time_ms': 1859.545}\n",
      "[6]: result: {'prediction': [['Christmas_stocking', 'sock', 'stole', 'jean', 'pole']], 'response_time_ms': 2383.0860000000002}\n",
      "[7]: result: {'prediction': [['terrapin', 'mud_turtle', 'platypus', 'dung_beetle', 'American_egret']], 'response_time_ms': 2034.1149999999998}\n",
      "[8]: result: {'prediction': [['apron', 'overskirt', 'cloak', 'kimono', 'gown']], 'response_time_ms': 2285.491}\n",
      "[9]: result: {'prediction': [['honeycomb', 'redshank', 'red-backed_sandpiper', 'dowitcher', 'solar_dish']], 'response_time_ms': 2538.491}\n",
      "[10]: result: {'prediction': [['platypus', 'weevil', 'wardrobe', 'porcupine', 'shoe_shop']], 'response_time_ms': 2035.911}\n",
      "running tfserving-mobilenetv1 workload function, batch_size: 2\n",
      "[1]: result: {'prediction': [['indigo_bunting', 'peacock', 'bee_eater', 'jay', 'hummingbird'], ['ground_beetle', 'leaf_beetle', 'tiger_beetle', 'rhinoceros_beetle', 'ant']], 'response_time_ms': 3042.308}\n",
      "[2]: result: {'prediction': [['langur', 'gibbon', 'colobus', 'proboscis_monkey', 'spider_monkey'], ['echidna', 'porcupine', 'three-toed_sloth', 'garden_spider', 'black-footed_ferret']], 'response_time_ms': 2924.105}\n",
      "[3]: result: {'prediction': [['flatworm', 'starfish', 'ear', 'corn', 'scabbard'], ['puck', 'knee_pad', 'ski', 'bearskin', 'broom']], 'response_time_ms': 3314.128}\n",
      "[4]: result: {'prediction': [['prayer_rug', 'book_jacket', 'pillow', 'packet', 'envelope'], ['slide_rule', 'rule', 'envelope', 'book_jacket', 'binder']], 'response_time_ms': 2547.339}\n",
      "[5]: result: {'prediction': [['soup_bowl', 'bucket', 'consomme', 'strainer', 'hot_pot'], ['slot', 'safe', 'gas_pump', 'tobacco_shop', 'vending_machine']], 'response_time_ms': 2920.7980000000002}\n",
      "[6]: result: {'prediction': [['prayer_rug', 'book_jacket', 'pillow', 'packet', 'envelope'], ['fountain', 'seashore', 'planetarium', 'palace', 'pier']], 'response_time_ms': 2220.538}\n",
      "[7]: result: {'prediction': [['English_springer', 'Saint_Bernard', 'Welsh_springer_spaniel', 'Brittany_spaniel', 'cocker_spaniel'], ['Siberian_husky', 'Eskimo_dog', 'malamute', 'dogsled', 'ice_bear']], 'response_time_ms': 2544.2580000000003}\n",
      "[8]: result: {'prediction': [['handkerchief', 'envelope', 'bath_towel', 'pencil_box', 'wallet'], ['dial_telephone', 'pay-phone', 'combination_lock', 'radio', 'can_opener']], 'response_time_ms': 4227.29}\n",
      "[9]: result: {'prediction': [['spider_web', 'umbrella', 'car_mirror', 'lampshade', 'fire_screen'], ['weasel', 'black-footed_ferret', 'mink', 'titi', 'mongoose']], 'response_time_ms': 2752.544}\n",
      "[10]: result: {'prediction': [['turnstile', 'washer', 'stretcher', 'barber_chair', 'cab'], ['king_penguin', 'albatross', 'toucan', 'cowboy_hat', 'drake']], 'response_time_ms': 2813.227}\n",
      "running tfserving-mobilenetv1 workload function, batch_size: 5\n",
      "[1]: result: {'prediction': [['slide_rule', 'rule', 'envelope', 'book_jacket', 'binder'], ['tree_frog', 'bottlecap', 'banana', 'bullfrog', 'acorn'], ['pelican', 'hourglass', 'rocking_chair', 'guillotine', 'mortar'], ['shoe_shop', 'cowboy_boot', 'Loafer', 'hair_slide', 'clog'], ['bannister', 'shopping_cart', 'maze', 'West_Highland_white_terrier', 'patio']], 'response_time_ms': 6236.628}\n",
      "[2]: result: {'prediction': [['chest', 'slot', 'stove', 'chiffonier', 'desk'], ['red_wine', 'perfume', 'pop_bottle', 'beer_bottle', 'wine_bottle'], ['brain_coral', 'maze', 'coral_reef', 'Arabian_camel', 'fountain'], ['fountain', 'African_hunting_dog', 'coyote', 'black_stork', 'groenendael'], ['bannister', 'organ', 'coil', 'shopping_cart', 'church']], 'response_time_ms': 6313.034}\n",
      "[3]: result: {'prediction': [['diaper', 'handkerchief', 'purse', 'rubber_eraser', 'packet'], ['English_springer', 'Saint_Bernard', 'Welsh_springer_spaniel', 'Brittany_spaniel', 'cocker_spaniel'], ['lacewing', 'dragonfly', 'scabbard', 'honeycomb', 'terrapin'], ['dial_telephone', 'pay-phone', 'combination_lock', 'radio', 'can_opener'], ['slot', 'cinema', 'parking_meter', 'bubble', 'oscilloscope']], 'response_time_ms': 7189.192}\n",
      "[4]: result: {'prediction': [['wallet', 'tray', 'buckle', 'microwave', 'lighter'], ['monastery', 'palace', 'church', 'bell_cote', 'castle'], ['terrapin', 'African_chameleon', 'snail', 'chimpanzee', 'common_iguana'], ['hourglass', 'switch', 'guillotine', 'barometer', 'lighter'], ['handkerchief', 'envelope', 'bath_towel', 'pencil_box', 'wallet']], 'response_time_ms': 9845.789}\n",
      "[5]: result: {'prediction': [['goblet', 'vase', 'pedestal', 'table_lamp', 'bolo_tie'], ['platypus', 'weevil', 'wardrobe', 'porcupine', 'shoe_shop'], ['African_hunting_dog', 'American_alligator', 'cheetah', 'lion', 'tailed_frog'], ['pineapple', 'head_cabbage', 'zucchini', 'eel', 'cicada'], ['chiton', 'acorn', 'sea_urchin', 'cockroach', 'hognose_snake']], 'response_time_ms': 6719.098}\n",
      "[6]: result: {'prediction': [['chiton', 'acorn', 'sea_urchin', 'cockroach', 'hognose_snake'], ['ptarmigan', 'marmot', 'hare', 'cheetah', 'ibex'], ['jinrikisha', 'barrow', 'tricycle', 'plow', 'harvester'], ['wallet', 'tray', 'buckle', 'microwave', 'lighter'], ['bubble', 'miniskirt', 'buckle', 'necklace', 'planetarium']], 'response_time_ms': 7764.987}\n",
      "[7]: result: {'prediction': [['drake', 'red-breasted_merganser', 'vulture', 'cheetah', 'Welsh_springer_spaniel'], ['mushroom', 'bolete', 'wombat', 'sea_slug', 'hog'], ['safe', 'electric_fan', 'pencil_sharpener', 'dial_telephone', 'combination_lock'], ['printer', 'desktop_computer', 'can_opener', 'toaster', 'photocopier'], ['yurt', 'barn', 'dome', 'church', 'American_egret']], 'response_time_ms': 8302.948}\n",
      "[8]: result: {'prediction': [['trolleybus', 'fire_engine', 'streetcar', 'recreational_vehicle', 'steam_locomotive'], ['brain_coral', 'maze', 'coral_reef', 'Arabian_camel', 'fountain'], ['slide_rule', 'rule', 'envelope', 'book_jacket', 'binder'], ['diaper', 'handkerchief', 'purse', 'rubber_eraser', 'packet'], ['armadillo', 'black-footed_ferret', 'zebra', 'grille', 'malamute']], 'response_time_ms': 10962.512999999999}\n",
      "[9]: result: {'prediction': [['modem', 'hard_disc', 'plate_rack', 'pitcher', 'spider_web'], ['borzoi', 'English_setter', 'Saluki', 'Old_English_sheepdog', 'English_foxhound'], ['gazelle', 'impala', 'hartebeest', 'Arabian_camel', 'ibex'], ['sea_anemone', 'daisy', 'sea_urchin', 'cardoon', 'bee'], ['slide_rule', 'rule', 'envelope', 'book_jacket', 'binder']], 'response_time_ms': 13686.619999999999}\n",
      "[10]: result: {'prediction': [['Christmas_stocking', 'sock', 'stole', 'jean', 'pole'], ['tree_frog', 'bottlecap', 'banana', 'bullfrog', 'acorn'], ['pineapple', 'head_cabbage', 'zucchini', 'eel', 'cicada'], ['Greater_Swiss_Mountain_dog', 'EntleBucher', 'Appenzeller', 'Bernese_mountain_dog', 'Border_collie'], ['tripod', 'worm_fence', 'chain', 'mountain_bike', 'sarong']], 'response_time_ms': 10150.374}\n"
     ]
    }
   ],
   "source": [
    "# testing the workload functions\n",
    "!python helpers/request_funcs.py"
   ]
  }
 ]
}