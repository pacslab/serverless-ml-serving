{
 "metadata": {
  "language_info": {
   "codemirror_mode": {
    "name": "ipython",
    "version": 3
   },
   "file_extension": ".py",
   "mimetype": "text/x-python",
   "name": "python",
   "nbconvert_exporter": "python",
   "pygments_lexer": "ipython3",
   "version": "3.8.5"
  },
  "orig_nbformat": 2,
  "kernelspec": {
   "name": "python3",
   "display_name": "Python 3.8.5 64-bit ('base': conda)"
  },
  "interpreter": {
   "hash": "4f7b070ef049bbd8502237a868479304b4da16a010bb509c19371ab8ff01cc23"
  }
 },
 "nbformat": 4,
 "nbformat_minor": 2,
 "cells": [
  {
   "source": [
    "# Preparing Experiments\n",
    "\n",
    "In this notebook, we will prepare several parts of our experiments including\n",
    "deploying and configuring our workload, loading traces, and creating functions\n",
    "to be called to generate the workloads."
   ],
   "cell_type": "markdown",
   "metadata": {}
  },
  {
   "cell_type": "code",
   "execution_count": 1,
   "metadata": {},
   "outputs": [],
   "source": [
    "from tqdm.auto import tqdm\n",
    "import itertools\n",
    "\n",
    "import os\n",
    "import time\n",
    "\n",
    "# my imports\n",
    "from helpers import kube\n",
    "from helpers import workload\n",
    "from helpers import util\n",
    "# from helpers import request_funcs"
   ]
  },
  {
   "cell_type": "code",
   "execution_count": 2,
   "metadata": {},
   "outputs": [
    {
     "output_type": "stream",
     "name": "stdout",
     "text": [
      "NAME                            URL                                                            LATEST                                AGE     CONDITIONS   READY   REASON\nautoscale-go                    http://autoscale-go.default.kn.nima-dev.com                    autoscale-go-00035                    142d    3 OK / 3     True    \nbench1                          http://bench1.default.kn.nima-dev.com                          bench1-00054                          150d    3 OK / 3     True    \nbentoml-iris                    http://bentoml-iris.default.kn.nima-dev.com                    bentoml-iris-00171                    53d     3 OK / 3     True    \nbentoml-keras-toxic-comments    http://bentoml-keras-toxic-comments.default.kn.nima-dev.com    bentoml-keras-toxic-comments-00002    90m     3 OK / 3     True    \nbentoml-onnx-resnet50           http://bentoml-onnx-resnet50.default.kn.nima-dev.com           bentoml-onnx-resnet50-00036           53d     3 OK / 3     True    \nbentoml-pytorch-fashion-mnist   http://bentoml-pytorch-fashion-mnist.default.kn.nima-dev.com   bentoml-pytorch-fashion-mnist-00007   5d23h   3 OK / 3     True    \nhelloworld-go                   http://helloworld-go.default.kn.nima-dev.com                   helloworld-go-00001                   152d    3 OK / 3     True    \ntfserving-mobilenetv1           http://tfserving-mobilenetv1.default.kn.nima-dev.com           tfserving-mobilenetv1-00029           53d     3 OK / 3     True    \ntfserving-resnetv2              http://tfserving-resnetv2.default.kn.nima-dev.com              tfserving-resnetv2-00079              53d     3 OK / 3     True    \n"
     ]
    }
   ],
   "source": [
    "# making sure kn is set up correctly\n",
    "!kn service ls"
   ]
  },
  {
   "cell_type": "code",
   "execution_count": 3,
   "metadata": {},
   "outputs": [
    {
     "output_type": "stream",
     "name": "stdout",
     "text": [
      "====================\n",
      "kn service apply bentoml-keras-toxic-comments --image ghcr.io/nimamahmoudi/bentoml-keras-toxic-comment-classification:20210622155420 \\\n",
      "  --limit 'cpu=1000m,memory=1000Mi' \\\n",
      "  --request 'cpu=1000m,memory=1000Mi' \\\n",
      "  --port 5000 \\\n",
      "  -a autoscaling.knative.dev/target=1 \\\n",
      "  -a autoscaling.knative.dev/metric=concurrency\n",
      "--------------------\n",
      "Applying service 'bentoml-keras-toxic-comments' in namespace 'default':\n",
      "\n",
      "  0.055s The Configuration is still working to reflect the latest desired specification.\n",
      " 12.088s Traffic is not yet migrated to the latest revision.\n",
      " 12.175s Ingress has not yet been reconciled.\n",
      " 12.250s Waiting for load balancer to be ready\n",
      " 12.443s Ready to serve.\n",
      "\n",
      "Service 'bentoml-keras-toxic-comments' applied to latest revision 'bentoml-keras-toxic-comments-00003' is available at URL:\n",
      "http://bentoml-keras-toxic-comments.default.kn.nima-dev.com\n"
     ]
    }
   ],
   "source": [
    "# EXP_CONFIG_NAME_DEFAULT = 'bentoml-iris-250m-512mb'\n",
    "# EXP_CONFIG_NAME_DEFAULT = 'bentoml-onnx-resnet50-250m-512mb'\n",
    "# EXP_CONFIG_NAME_DEFAULT = 'tfserving-resnetv2-250m-512mb'\n",
    "# EXP_CONFIG_NAME_DEFAULT = 'tfserving-mobilenetv1-250m-512mb'\n",
    "# exp_config_name = os.getenv(\"DEPLOYMENT_CONFIG_NAME\", EXP_CONFIG_NAME_DEFAULT)\n",
    "\n",
    "config_names = [\n",
    "    'bentoml-iris-250m-512mb',\n",
    "    'bentoml-onnx-resnet50-250m-512mb',\n",
    "    'tfserving-resnetv2-250m-512mb',\n",
    "    'tfserving-mobilenetv1-250m-512mb',\n",
    "    'bentoml-pytorch-fashionmnist-250m-512mb',\n",
    "    'bentoml-keras-toxic-comments-250m-512mb',\n",
    "]\n",
    "\n",
    "request_limit_override = \"'cpu=1000m,memory=1000Mi'\"\n",
    "\n",
    "for exp_config_name in config_names:\n",
    "    exp_file = f\"deployments/{exp_config_name}.json\"\n",
    "\n",
    "    workload_spec = util.load_json_file(exp_file)\n",
    "\n",
    "    # override request and limit values\n",
    "    workload_spec['opts']['--request'] = request_limit_override\n",
    "    workload_spec['opts']['--limit'] = request_limit_override\n",
    "\n",
    "    kn_command = kube.get_kn_command(**workload_spec)\n",
    "    print('='*20)\n",
    "    print(kn_command)\n",
    "    print('-'*20)\n",
    "    # to run the command, we can simply use:\n",
    "    !{kn_command}\n",
    "    # or from python:\n",
    "    # get_ipython().system('{kn_command}')\n",
    "\n",
    "# wait for changes to take effect\n",
    "time.sleep(10)"
   ]
  },
  {
   "cell_type": "code",
   "execution_count": 4,
   "metadata": {
    "tags": []
   },
   "outputs": [],
   "source": [
    "# testing the workload functions\n",
    "# !python helpers/request_funcs.py"
   ]
  }
 ]
}