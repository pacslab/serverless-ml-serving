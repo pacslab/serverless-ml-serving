{
 "metadata": {
  "language_info": {
   "codemirror_mode": {
    "name": "ipython",
    "version": 3
   },
   "file_extension": ".py",
   "mimetype": "text/x-python",
   "name": "python",
   "nbconvert_exporter": "python",
   "pygments_lexer": "ipython3",
   "version": "3.8.5"
  },
  "orig_nbformat": 2,
  "kernelspec": {
   "name": "python385jvsc74a57bd04f7b070ef049bbd8502237a868479304b4da16a010bb509c19371ab8ff01cc23",
   "display_name": "Python 3.8.5 64-bit ('base': conda)"
  }
 },
 "nbformat": 4,
 "nbformat_minor": 2,
 "cells": [
  {
   "cell_type": "code",
   "execution_count": 1,
   "metadata": {},
   "outputs": [],
   "source": [
    "# imports\n",
    "from helpers import util\n",
    "\n",
    "config_folder = './deployments/'"
   ]
  },
  {
   "cell_type": "code",
   "execution_count": 2,
   "metadata": {},
   "outputs": [
    {
     "output_type": "execute_result",
     "data": {
      "text/plain": [
       "{'name': 'tfserving-mobilenetv1',\n",
       " 'image': 'ghcr.io/nimamahmoudi/tfserving-mobilenet:20210430005829',\n",
       " 'env': {},\n",
       " 'opts': {'--limit': \"'cpu=250m,memory=512Mi'\", '--port': '5000'},\n",
       " 'annotations': {'autoscaling.knative.dev/target': 1,\n",
       "  'autoscaling.knative.dev/metric': 'concurrency'},\n",
       " 'request_func': 'tfserving-mobilenetv1',\n",
       " 'is_rps': False}"
      ]
     },
     "metadata": {},
     "execution_count": 2
    }
   ],
   "source": [
    "# workload_name = 'bentoml-iris'\n",
    "# image = 'ghcr.io/nimamahmoudi/bentoml-iris-classifier:20210429201447'\n",
    "# port = 5000\n",
    "\n",
    "# workload_name = 'bentoml-onnx-resnet50'\n",
    "# image = 'ghcr.io/nimamahmoudi/bentoml-onnx-resnet50:20210430002258'\n",
    "# port = 5000\n",
    "\n",
    "# workload_name = 'tfserving-resnetv2'\n",
    "# image = 'ghcr.io/nimamahmoudi/tfserving-resnet:20210429213000'\n",
    "# port = 5000\n",
    "\n",
    "workload_name = 'tfserving-mobilenetv1'\n",
    "image = 'ghcr.io/nimamahmoudi/tfserving-mobilenet:20210430005829'\n",
    "port = 5000\n",
    "\n",
    "env = {}\n",
    "request_func = workload_name\n",
    "suffix = '250m-512mb'\n",
    "exp_name = request_func + '-' + suffix\n",
    "is_rps = False\n",
    "\n",
    "opts = {\n",
    "    '--limit': \"'cpu=250m,memory=512Mi'\",\n",
    "    '--port': f\"{port}\",\n",
    "    # '--concurrency-target': '1',\n",
    "    # '--concurrency-limit': '10',\n",
    "    # '--concurrency-utilization': '70',\n",
    "    # '--autoscale-window': '60s',\n",
    "}\n",
    "annotations = {\n",
    "    # 'autoscaling.knative.dev/panicThresholdPercentage': '1000',\n",
    "    'autoscaling.knative.dev/target': 1,\n",
    "}\n",
    "# source: https://knative.dev/docs/serving/autoscaling/rps-target/\n",
    "# source2: https://knative.dev/docs/serving/autoscaling/autoscaling-metrics/\n",
    "if is_rps:\n",
    "    annotations['autoscaling.knative.dev/metric'] = 'rps'\n",
    "else:\n",
    "    annotations['autoscaling.knative.dev/metric'] = 'concurrency'\n",
    "\n",
    "workload_spec = {\n",
    "    'name': workload_name,\n",
    "    'image': image,\n",
    "    'env': env,\n",
    "    'opts': opts,\n",
    "    'annotations': annotations,\n",
    "    'request_func': request_func,\n",
    "    'is_rps': is_rps,\n",
    "}\n",
    "\n",
    "workload_spec"
   ]
  },
  {
   "cell_type": "code",
   "execution_count": 3,
   "metadata": {},
   "outputs": [],
   "source": [
    "# now, save the config to a file\n",
    "util.save_json_file(workload_spec, config_folder + exp_name + '.json')"
   ]
  }
 ]
}