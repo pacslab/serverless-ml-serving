{
 "metadata": {
  "language_info": {
   "codemirror_mode": {
    "name": "ipython",
    "version": 3
   },
   "file_extension": ".py",
   "mimetype": "text/x-python",
   "name": "python",
   "nbconvert_exporter": "python",
   "pygments_lexer": "ipython3",
   "version": "3.8.5"
  },
  "orig_nbformat": 2,
  "kernelspec": {
   "name": "python385jvsc74a57bd04f7b070ef049bbd8502237a868479304b4da16a010bb509c19371ab8ff01cc23",
   "display_name": "Python 3.8.5 64-bit ('base': conda)"
  }
 },
 "nbformat": 4,
 "nbformat_minor": 2,
 "cells": [
  {
   "cell_type": "code",
   "execution_count": 1,
   "metadata": {},
   "outputs": [
    {
     "output_type": "stream",
     "name": "stdout",
     "text": [
      "fetching imagenet v2\nresizing images\n"
     ]
    },
    {
     "output_type": "display_data",
     "data": {
      "text/plain": "  0%|          | 0/100 [00:00<?, ?it/s]",
      "application/vnd.jupyter.widget-view+json": {
       "version_major": 2,
       "version_minor": 0,
       "model_id": "6df05e85bd914f78be652fef515379cc"
      }
     },
     "metadata": {}
    },
    {
     "output_type": "stream",
     "name": "stdout",
     "text": [
      "converting to bentoml files\n"
     ]
    },
    {
     "output_type": "display_data",
     "data": {
      "text/plain": "  0%|          | 0/100 [00:00<?, ?it/s]",
      "application/vnd.jupyter.widget-view+json": {
       "version_major": 2,
       "version_minor": 0,
       "model_id": "bb960197520842fa9de3417c956591f0"
      }
     },
     "metadata": {}
    },
    {
     "output_type": "stream",
     "name": "stdout",
     "text": [
      "extracting base64 files\n"
     ]
    },
    {
     "output_type": "display_data",
     "data": {
      "text/plain": "  0%|          | 0/100 [00:00<?, ?it/s]",
      "application/vnd.jupyter.widget-view+json": {
       "version_major": 2,
       "version_minor": 0,
       "model_id": "59d4bd6b87f74af7a877512ffcfbabff"
      }
     },
     "metadata": {}
    },
    {
     "output_type": "stream",
     "name": "stdout",
     "text": [
      "preprocessing for mobilenet\n"
     ]
    },
    {
     "output_type": "display_data",
     "data": {
      "text/plain": "  0%|          | 0/100 [00:00<?, ?it/s]",
      "application/vnd.jupyter.widget-view+json": {
       "version_major": 2,
       "version_minor": 0,
       "model_id": "2b5d71d8a1c54c72854c3ef3dcacfeca"
      }
     },
     "metadata": {}
    }
   ],
   "source": [
    "%load_ext autoreload\n",
    "%autoreload 2\n",
    "\n",
    "from tqdm.auto import tqdm\n",
    "import itertools\n",
    "\n",
    "import os\n",
    "import time\n",
    "import traceback\n",
    "\n",
    "# my imports\n",
    "from helpers import kube\n",
    "from helpers import workload\n",
    "from helpers import util\n",
    "from helpers import request_funcs"
   ]
  },
  {
   "cell_type": "code",
   "execution_count": 2,
   "metadata": {},
   "outputs": [],
   "source": [
    "# experiment that we want to perform\n",
    "service_name = 'tfserving-resnetv2'\n",
    "override_url = f'http://localhost:3000/proxy/{service_name}'\n",
    "cpu_m = 1000\n",
    "ram_mb = 1000"
   ]
  },
  {
   "cell_type": "code",
   "execution_count": 3,
   "metadata": {},
   "outputs": [],
   "source": [
    "config_names = [\n",
    "    'bentoml-iris-250m-512mb',\n",
    "    'bentoml-onnx-resnet50-250m-512mb',\n",
    "    'tfserving-resnetv2-250m-512mb',\n",
    "    'tfserving-mobilenetv1-250m-512mb',\n",
    "]\n",
    "\n",
    "workload_configs = {}\n",
    "for exp_config_name in config_names:\n",
    "    exp_file = f\"deployments/{exp_config_name}.json\"\n",
    "    workload_spec = util.load_json_file(exp_file)\n",
    "    workload_configs[workload_spec['name']] = workload_spec"
   ]
  },
  {
   "cell_type": "code",
   "execution_count": 6,
   "metadata": {},
   "outputs": [
    {
     "output_type": "stream",
     "name": "stdout",
     "text": [
      "Request Limit Overrid: 'cpu=1000m,memory=1000Mi'\n",
      "kn service apply tfserving-resnetv2 --image ghcr.io/nimamahmoudi/tfserving-resnet:20210429213000 \\\n",
      "  --limit 'cpu=1000m,memory=1000Mi' \\\n",
      "  --request 'cpu=1000m,memory=1000Mi' \\\n",
      "  --port 5000 \\\n",
      "  -a autoscaling.knative.dev/target=1 \\\n",
      "  -a autoscaling.knative.dev/metric=concurrency\n",
      "No changes to apply to service 'tfserving-resnetv2'.\n",
      "Service 'tfserving-resnetv2' with latest revision 'tfserving-resnetv2-00079' (unchanged) is available at URL:\n",
      "http://tfserving-resnetv2.default.kn.nima-dev.com\n",
      "waiting for settings to converge\n"
     ]
    }
   ],
   "source": [
    "# deploy the function\n",
    "request_limit_override = f\"'cpu={cpu_m}m,memory={ram_mb}Mi'\"\n",
    "print('Request Limit Overrid:', request_limit_override)\n",
    "\n",
    "workload_spec = workload_configs[service_name]\n",
    "# override request and limit values\n",
    "workload_spec['opts']['--request'] = request_limit_override\n",
    "workload_spec['opts']['--limit'] = request_limit_override\n",
    "kn_command = kube.get_kn_command(**workload_spec)\n",
    "print(kn_command)\n",
    "!{kn_command}\n",
    "print('waiting for settings to converge')\n",
    "time.sleep(10)"
   ]
  },
  {
   "cell_type": "code",
   "execution_count": 28,
   "metadata": {},
   "outputs": [
    {
     "output_type": "execute_result",
     "data": {
      "text/plain": [
       "{'prediction': [['platypus', 'echidna', 'partridge', 'beaver', 'house_finch']],\n",
       " 'response_time_ms': 1202.806}"
      ]
     },
     "metadata": {},
     "execution_count": 28
    }
   ],
   "source": [
    "# call the request function with proper arguments\n",
    "def call_request_func():\n",
    "    request_func = request_funcs.workload_funcs[service_name]\n",
    "    return request_func(url=override_url)\n",
    "    # return request_func(url='http://tfserving-resnetv2.default.kn.nima-dev.com/v1/models/resnet:predict')\n",
    "\n",
    "call_request_func()"
   ]
  },
  {
   "cell_type": "code",
   "execution_count": null,
   "metadata": {},
   "outputs": [],
   "source": []
  }
 ]
}