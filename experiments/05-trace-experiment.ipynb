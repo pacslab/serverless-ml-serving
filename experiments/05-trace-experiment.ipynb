{
 "metadata": {
  "language_info": {
   "codemirror_mode": {
    "name": "ipython",
    "version": 3
   },
   "file_extension": ".py",
   "mimetype": "text/x-python",
   "name": "python",
   "nbconvert_exporter": "python",
   "pygments_lexer": "ipython3",
   "version": "3.8.5"
  },
  "orig_nbformat": 2,
  "kernelspec": {
   "name": "python385jvsc74a57bd04f7b070ef049bbd8502237a868479304b4da16a010bb509c19371ab8ff01cc23",
   "display_name": "Python 3.8.5 64-bit ('base': conda)"
  }
 },
 "nbformat": 4,
 "nbformat_minor": 2,
 "cells": [
  {
   "cell_type": "code",
   "execution_count": 1,
   "metadata": {},
   "outputs": [
    {
     "output_type": "stream",
     "name": "stdout",
     "text": [
      "fetching imagenet v2\nresizing images\n"
     ]
    },
    {
     "output_type": "display_data",
     "data": {
      "text/plain": "  0%|          | 0/100 [00:00<?, ?it/s]",
      "application/vnd.jupyter.widget-view+json": {
       "version_major": 2,
       "version_minor": 0,
       "model_id": "48b9193f50ae4f248ce4485d9d9c24cc"
      }
     },
     "metadata": {}
    },
    {
     "output_type": "stream",
     "name": "stdout",
     "text": [
      "converting to bentoml files\n"
     ]
    },
    {
     "output_type": "display_data",
     "data": {
      "text/plain": "  0%|          | 0/100 [00:00<?, ?it/s]",
      "application/vnd.jupyter.widget-view+json": {
       "version_major": 2,
       "version_minor": 0,
       "model_id": "704c3810b5984d7095f77b5ddea02f92"
      }
     },
     "metadata": {}
    },
    {
     "output_type": "stream",
     "name": "stdout",
     "text": [
      "extracting base64 files\n"
     ]
    },
    {
     "output_type": "display_data",
     "data": {
      "text/plain": "  0%|          | 0/100 [00:00<?, ?it/s]",
      "application/vnd.jupyter.widget-view+json": {
       "version_major": 2,
       "version_minor": 0,
       "model_id": "8d0306b0fc0b4c83b170efeadf43039f"
      }
     },
     "metadata": {}
    },
    {
     "output_type": "stream",
     "name": "stdout",
     "text": [
      "preprocessing for mobilenet\n"
     ]
    },
    {
     "output_type": "display_data",
     "data": {
      "text/plain": "  0%|          | 0/100 [00:00<?, ?it/s]",
      "application/vnd.jupyter.widget-view+json": {
       "version_major": 2,
       "version_minor": 0,
       "model_id": "9789b8c0892746c0965e02b338faaaf1"
      }
     },
     "metadata": {}
    }
   ],
   "source": [
    "%load_ext autoreload\n",
    "%autoreload 2\n",
    "\n",
    "from tqdm.auto import tqdm\n",
    "import itertools\n",
    "\n",
    "import os\n",
    "import time\n",
    "import traceback\n",
    "from datetime import datetime\n",
    "import pytz\n",
    "\n",
    "# for processing\n",
    "import pandas as pd\n",
    "import numpy as np\n",
    "import matplotlib.pyplot as plt\n",
    "\n",
    "# my imports\n",
    "from helpers import kube\n",
    "from helpers import workload\n",
    "from helpers import util\n",
    "from helpers import request_funcs\n",
    "\n",
    "from_js_timestamp = lambda x: datetime.utcfromtimestamp(x/1000).astimezone(pytz.timezone('America/Toronto'))"
   ]
  },
  {
   "cell_type": "code",
   "execution_count": 2,
   "metadata": {},
   "outputs": [],
   "source": [
    "# experiment that we want to perform\n",
    "service_name = 'tfserving-resnetv2'\n",
    "# service_name = 'bentoml-onnx-resnet50'\n",
    "# service_name = 'bentoml-iris'\n",
    "# service_name = 'tfserving-mobilenetv1'\n",
    "\n",
    "override_url = f'http://localhost:3000/proxy/{service_name}'\n",
    "\n",
    "cpu_m = 1000\n",
    "ram_mb = 1000"
   ]
  },
  {
   "cell_type": "code",
   "execution_count": 3,
   "metadata": {},
   "outputs": [],
   "source": [
    "config_names = [\n",
    "    'bentoml-iris-250m-512mb',\n",
    "    'bentoml-onnx-resnet50-250m-512mb',\n",
    "    'tfserving-resnetv2-250m-512mb',\n",
    "    'tfserving-mobilenetv1-250m-512mb',\n",
    "]\n",
    "\n",
    "workload_configs = {}\n",
    "for exp_config_name in config_names:\n",
    "    exp_file = f\"deployments/{exp_config_name}.json\"\n",
    "    workload_spec = util.load_json_file(exp_file)\n",
    "    workload_configs[workload_spec['name']] = workload_spec"
   ]
  },
  {
   "cell_type": "code",
   "execution_count": 4,
   "metadata": {},
   "outputs": [
    {
     "output_type": "stream",
     "name": "stdout",
     "text": [
      "Request Limit Overrid: 'cpu=1000m,memory=1000Mi'\n",
      "kn service apply tfserving-resnetv2 --image ghcr.io/nimamahmoudi/tfserving-resnet:20210429213000 \\\n",
      "  --limit 'cpu=1000m,memory=1000Mi' \\\n",
      "  --request 'cpu=1000m,memory=1000Mi' \\\n",
      "  --port 5000 \\\n",
      "  -a autoscaling.knative.dev/target=1 \\\n",
      "  -a autoscaling.knative.dev/metric=concurrency\n",
      "No changes to apply to service 'tfserving-resnetv2'.\n",
      "Service 'tfserving-resnetv2' with latest revision 'tfserving-resnetv2-00079' (unchanged) is available at URL:\n",
      "http://tfserving-resnetv2.default.kn.nima-dev.com\n",
      "waiting for settings to converge\n"
     ]
    }
   ],
   "source": [
    "# deploy the function\n",
    "request_limit_override = f\"'cpu={cpu_m}m,memory={ram_mb}Mi'\"\n",
    "print('Request Limit Overrid:', request_limit_override)\n",
    "\n",
    "workload_spec = workload_configs[service_name]\n",
    "# override request and limit values\n",
    "workload_spec['opts']['--request'] = request_limit_override\n",
    "workload_spec['opts']['--limit'] = request_limit_override\n",
    "kn_command = kube.get_kn_command(**workload_spec)\n",
    "print(kn_command)\n",
    "!{kn_command}\n",
    "print('waiting for settings to converge')\n",
    "time.sleep(10)"
   ]
  },
  {
   "cell_type": "code",
   "execution_count": 5,
   "metadata": {},
   "outputs": [
    {
     "output_type": "execute_result",
     "data": {
      "text/plain": [
       "{'response_time_ms': 7111.382,\n",
       " 'request_id': '0d62a607-bac5-464b-af1a-6c17b4f306e4',\n",
       " 'queue_position': 0,\n",
       " 'received_at': datetime.datetime(2021, 5, 20, 11, 32, 56, 806000, tzinfo=<DstTzInfo 'America/Toronto' EDT-1 day, 20:00:00 DST>),\n",
       " 'response_at': datetime.datetime(2021, 5, 20, 11, 33, 3, 907000, tzinfo=<DstTzInfo 'America/Toronto' EDT-1 day, 20:00:00 DST>),\n",
       " 'upstream_response_time': 6099,\n",
       " 'upstream_request_count': 1,\n",
       " 'response_time_ms_server': 7101,\n",
       " 'queue_time_ms': 1002}"
      ]
     },
     "metadata": {},
     "execution_count": 5
    }
   ],
   "source": [
    "# call the request function with proper arguments\n",
    "def call_request_func():\n",
    "    request_func = request_funcs.workload_funcs[service_name]\n",
    "    result = request_func(url=override_url)\n",
    "\n",
    "    return {\n",
    "        'response_time_ms': result['response_time_ms'],\n",
    "        'request_id': result['headers']['X-Request-Id'],\n",
    "        'queue_position': int(result['headers']['X-SmartProxy-queuePosition']),\n",
    "        'received_at': from_js_timestamp(int(result['headers']['X-SmartProxy-receivedAt'])),\n",
    "        'response_at': from_js_timestamp(int(result['headers']['X-SmartProxy-responseAt'])),\n",
    "        'upstream_response_time': int(result['headers']['X-SmartProxy-upstreamResponseTime']),\n",
    "        'upstream_request_count': int(result['headers']['X-SmartProxy-upstreamRequestCount']),\n",
    "        'response_time_ms_server': int(result['headers']['X-SmartProxy-responseTime']),\n",
    "        'queue_time_ms': int(result['headers']['X-SmartProxy-queueTime']),\n",
    "    }\n",
    "\n",
    "call_request_func()"
   ]
  },
  {
   "cell_type": "code",
   "execution_count": 10,
   "metadata": {},
   "outputs": [
    {
     "output_type": "execute_result",
     "data": {
      "text/plain": [
       "   response_time_ms                            request_id  queue_position  \\\n",
       "0          1535.741  8969cd64-02f2-4eaa-985b-ec91182baed1               0   \n",
       "1          1184.268  cdfe6171-4f1f-4c87-b66c-eea024fcd822               0   \n",
       "2          1193.677  e5823ce2-7e4a-4096-9740-b218e430706c               0   \n",
       "3          1201.600  5093bf3b-45c4-49fa-b827-486b37382c84               0   \n",
       "4          1187.659  00fd443e-4b4c-4f38-8edc-0afa690b5501               0   \n",
       "5          1227.646  05cec817-0d57-45f5-b946-84bd3860996e               0   \n",
       "6          1169.100  b8fbe94c-737d-48ff-aa25-4f2ab6564277               0   \n",
       "7          1191.370  694bdf00-743c-4feb-bd7f-5a8b756a414d               0   \n",
       "8          1200.601  80377443-c2c8-47c4-bab2-28323cb087d0               0   \n",
       "9          1193.152  9af581c3-da51-41f6-83a4-af5ce2e71ec8               0   \n",
       "\n",
       "                       received_at                      response_at  \\\n",
       "0 2021-05-20 11:35:40.402000-04:00 2021-05-20 11:35:41.931000-04:00   \n",
       "1 2021-05-20 11:35:41.940000-04:00 2021-05-20 11:35:43.119000-04:00   \n",
       "2 2021-05-20 11:35:43.128000-04:00 2021-05-20 11:35:44.314000-04:00   \n",
       "3 2021-05-20 11:35:44.325000-04:00 2021-05-20 11:35:45.521000-04:00   \n",
       "4 2021-05-20 11:35:45.530000-04:00 2021-05-20 11:35:46.713000-04:00   \n",
       "5 2021-05-20 11:35:46.721000-04:00 2021-05-20 11:35:47.944000-04:00   \n",
       "6 2021-05-20 11:35:47.953000-04:00 2021-05-20 11:35:49.116000-04:00   \n",
       "7 2021-05-20 11:35:49.124000-04:00 2021-05-20 11:35:50.310000-04:00   \n",
       "8 2021-05-20 11:35:50.319000-04:00 2021-05-20 11:35:51.515000-04:00   \n",
       "9 2021-05-20 11:35:51.523000-04:00 2021-05-20 11:35:52.711000-04:00   \n",
       "\n",
       "   upstream_response_time  upstream_request_count  response_time_ms_server  \\\n",
       "0                     526                       1                     1529   \n",
       "1                     173                       1                     1179   \n",
       "2                     185                       1                     1186   \n",
       "3                     194                       1                     1196   \n",
       "4                     181                       1                     1183   \n",
       "5                     220                       1                     1223   \n",
       "6                     161                       1                     1163   \n",
       "7                     185                       1                     1186   \n",
       "8                     193                       1                     1196   \n",
       "9                     185                       1                     1188   \n",
       "\n",
       "   queue_time_ms  \n",
       "0           1003  \n",
       "1           1006  \n",
       "2           1001  \n",
       "3           1002  \n",
       "4           1002  \n",
       "5           1003  \n",
       "6           1002  \n",
       "7           1001  \n",
       "8           1003  \n",
       "9           1003  "
      ],
      "text/html": "<div>\n<style scoped>\n    .dataframe tbody tr th:only-of-type {\n        vertical-align: middle;\n    }\n\n    .dataframe tbody tr th {\n        vertical-align: top;\n    }\n\n    .dataframe thead th {\n        text-align: right;\n    }\n</style>\n<table border=\"1\" class=\"dataframe\">\n  <thead>\n    <tr style=\"text-align: right;\">\n      <th></th>\n      <th>response_time_ms</th>\n      <th>request_id</th>\n      <th>queue_position</th>\n      <th>received_at</th>\n      <th>response_at</th>\n      <th>upstream_response_time</th>\n      <th>upstream_request_count</th>\n      <th>response_time_ms_server</th>\n      <th>queue_time_ms</th>\n    </tr>\n  </thead>\n  <tbody>\n    <tr>\n      <th>0</th>\n      <td>1535.741</td>\n      <td>8969cd64-02f2-4eaa-985b-ec91182baed1</td>\n      <td>0</td>\n      <td>2021-05-20 11:35:40.402000-04:00</td>\n      <td>2021-05-20 11:35:41.931000-04:00</td>\n      <td>526</td>\n      <td>1</td>\n      <td>1529</td>\n      <td>1003</td>\n    </tr>\n    <tr>\n      <th>1</th>\n      <td>1184.268</td>\n      <td>cdfe6171-4f1f-4c87-b66c-eea024fcd822</td>\n      <td>0</td>\n      <td>2021-05-20 11:35:41.940000-04:00</td>\n      <td>2021-05-20 11:35:43.119000-04:00</td>\n      <td>173</td>\n      <td>1</td>\n      <td>1179</td>\n      <td>1006</td>\n    </tr>\n    <tr>\n      <th>2</th>\n      <td>1193.677</td>\n      <td>e5823ce2-7e4a-4096-9740-b218e430706c</td>\n      <td>0</td>\n      <td>2021-05-20 11:35:43.128000-04:00</td>\n      <td>2021-05-20 11:35:44.314000-04:00</td>\n      <td>185</td>\n      <td>1</td>\n      <td>1186</td>\n      <td>1001</td>\n    </tr>\n    <tr>\n      <th>3</th>\n      <td>1201.600</td>\n      <td>5093bf3b-45c4-49fa-b827-486b37382c84</td>\n      <td>0</td>\n      <td>2021-05-20 11:35:44.325000-04:00</td>\n      <td>2021-05-20 11:35:45.521000-04:00</td>\n      <td>194</td>\n      <td>1</td>\n      <td>1196</td>\n      <td>1002</td>\n    </tr>\n    <tr>\n      <th>4</th>\n      <td>1187.659</td>\n      <td>00fd443e-4b4c-4f38-8edc-0afa690b5501</td>\n      <td>0</td>\n      <td>2021-05-20 11:35:45.530000-04:00</td>\n      <td>2021-05-20 11:35:46.713000-04:00</td>\n      <td>181</td>\n      <td>1</td>\n      <td>1183</td>\n      <td>1002</td>\n    </tr>\n    <tr>\n      <th>5</th>\n      <td>1227.646</td>\n      <td>05cec817-0d57-45f5-b946-84bd3860996e</td>\n      <td>0</td>\n      <td>2021-05-20 11:35:46.721000-04:00</td>\n      <td>2021-05-20 11:35:47.944000-04:00</td>\n      <td>220</td>\n      <td>1</td>\n      <td>1223</td>\n      <td>1003</td>\n    </tr>\n    <tr>\n      <th>6</th>\n      <td>1169.100</td>\n      <td>b8fbe94c-737d-48ff-aa25-4f2ab6564277</td>\n      <td>0</td>\n      <td>2021-05-20 11:35:47.953000-04:00</td>\n      <td>2021-05-20 11:35:49.116000-04:00</td>\n      <td>161</td>\n      <td>1</td>\n      <td>1163</td>\n      <td>1002</td>\n    </tr>\n    <tr>\n      <th>7</th>\n      <td>1191.370</td>\n      <td>694bdf00-743c-4feb-bd7f-5a8b756a414d</td>\n      <td>0</td>\n      <td>2021-05-20 11:35:49.124000-04:00</td>\n      <td>2021-05-20 11:35:50.310000-04:00</td>\n      <td>185</td>\n      <td>1</td>\n      <td>1186</td>\n      <td>1001</td>\n    </tr>\n    <tr>\n      <th>8</th>\n      <td>1200.601</td>\n      <td>80377443-c2c8-47c4-bab2-28323cb087d0</td>\n      <td>0</td>\n      <td>2021-05-20 11:35:50.319000-04:00</td>\n      <td>2021-05-20 11:35:51.515000-04:00</td>\n      <td>193</td>\n      <td>1</td>\n      <td>1196</td>\n      <td>1003</td>\n    </tr>\n    <tr>\n      <th>9</th>\n      <td>1193.152</td>\n      <td>9af581c3-da51-41f6-83a4-af5ce2e71ec8</td>\n      <td>0</td>\n      <td>2021-05-20 11:35:51.523000-04:00</td>\n      <td>2021-05-20 11:35:52.711000-04:00</td>\n      <td>185</td>\n      <td>1</td>\n      <td>1188</td>\n      <td>1003</td>\n    </tr>\n  </tbody>\n</table>\n</div>"
     },
     "metadata": {},
     "execution_count": 10
    }
   ],
   "source": [
    "sample_reqs = [call_request_func() for _ in range(10)]\n",
    "pd.DataFrame(data=sample_reqs)"
   ]
  }
 ]
}