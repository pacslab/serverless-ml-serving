{
 "metadata": {
  "language_info": {
   "codemirror_mode": {
    "name": "ipython",
    "version": 3
   },
   "file_extension": ".py",
   "mimetype": "text/x-python",
   "name": "python",
   "nbconvert_exporter": "python",
   "pygments_lexer": "ipython3",
   "version": "3.8.5"
  },
  "orig_nbformat": 2,
  "kernelspec": {
   "name": "python385jvsc74a57bd04f7b070ef049bbd8502237a868479304b4da16a010bb509c19371ab8ff01cc23",
   "display_name": "Python 3.8.5 64-bit ('base': conda)"
  }
 },
 "nbformat": 4,
 "nbformat_minor": 2,
 "cells": [
  {
   "cell_type": "code",
   "execution_count": 1,
   "metadata": {},
   "outputs": [
    {
     "output_type": "stream",
     "name": "stdout",
     "text": [
      "fetching imagenet v2\nresizing images\n"
     ]
    },
    {
     "output_type": "display_data",
     "data": {
      "text/plain": "  0%|          | 0/100 [00:00<?, ?it/s]",
      "application/vnd.jupyter.widget-view+json": {
       "version_major": 2,
       "version_minor": 0,
       "model_id": "bff1b6e771f64ca1a0a88889f27ce5f5"
      }
     },
     "metadata": {}
    },
    {
     "output_type": "stream",
     "name": "stdout",
     "text": [
      "converting to bentoml files\n"
     ]
    },
    {
     "output_type": "display_data",
     "data": {
      "text/plain": "  0%|          | 0/100 [00:00<?, ?it/s]",
      "application/vnd.jupyter.widget-view+json": {
       "version_major": 2,
       "version_minor": 0,
       "model_id": "41dc0b62e3dc4145936396d2efe044cd"
      }
     },
     "metadata": {}
    },
    {
     "output_type": "stream",
     "name": "stdout",
     "text": [
      "extracting base64 files\n"
     ]
    },
    {
     "output_type": "display_data",
     "data": {
      "text/plain": "  0%|          | 0/100 [00:00<?, ?it/s]",
      "application/vnd.jupyter.widget-view+json": {
       "version_major": 2,
       "version_minor": 0,
       "model_id": "3f8bf14c4bbe45bfae83af55ccccb52c"
      }
     },
     "metadata": {}
    },
    {
     "output_type": "stream",
     "name": "stdout",
     "text": [
      "preprocessing for mobilenet\n"
     ]
    },
    {
     "output_type": "display_data",
     "data": {
      "text/plain": "  0%|          | 0/100 [00:00<?, ?it/s]",
      "application/vnd.jupyter.widget-view+json": {
       "version_major": 2,
       "version_minor": 0,
       "model_id": "d88bb7893099449d89667c1a73c88b39"
      }
     },
     "metadata": {}
    }
   ],
   "source": [
    "%load_ext autoreload\n",
    "%autoreload 2\n",
    "\n",
    "from tqdm.auto import tqdm\n",
    "import itertools\n",
    "\n",
    "import os\n",
    "import time\n",
    "import traceback\n",
    "from datetime import datetime\n",
    "import pytz\n",
    "\n",
    "# for processing\n",
    "import pandas as pd\n",
    "import numpy as np\n",
    "import matplotlib.pyplot as plt\n",
    "\n",
    "# my imports\n",
    "from helpers import kube\n",
    "from helpers import workload\n",
    "from helpers import util\n",
    "from helpers import request_funcs\n",
    "\n",
    "# config\n",
    "my_timezone = os.getenv('PY_TZ', 'America/Toronto')\n",
    "\n",
    "# small funcs\n",
    "from_js_timestamp = lambda x: datetime.utcfromtimestamp(x/1000).astimezone(pytz.timezone(my_timezone))\n",
    "def get_time_with_tz():\n",
    "    return datetime.now().astimezone(pytz.timezone(my_timezone))"
   ]
  },
  {
   "cell_type": "code",
   "execution_count": 2,
   "metadata": {},
   "outputs": [],
   "source": [
    "# experiment that we want to perform\n",
    "service_name = 'tfserving-resnetv2'\n",
    "# service_name = 'bentoml-onnx-resnet50'\n",
    "# service_name = 'bentoml-iris'\n",
    "# service_name = 'tfserving-mobilenetv1'\n",
    "\n",
    "override_url = f'http://localhost:3000/proxy/{service_name}'\n",
    "\n",
    "cpu_m = 1000\n",
    "ram_mb = 1000\n",
    "\n",
    "rps_list = [5] * 60"
   ]
  },
  {
   "cell_type": "code",
   "execution_count": 3,
   "metadata": {},
   "outputs": [],
   "source": [
    "config_names = [\n",
    "    'bentoml-iris-250m-512mb',\n",
    "    'bentoml-onnx-resnet50-250m-512mb',\n",
    "    'tfserving-resnetv2-250m-512mb',\n",
    "    'tfserving-mobilenetv1-250m-512mb',\n",
    "]\n",
    "\n",
    "workload_configs = {}\n",
    "for exp_config_name in config_names:\n",
    "    exp_file = f\"deployments/{exp_config_name}.json\"\n",
    "    workload_spec = util.load_json_file(exp_file)\n",
    "    workload_configs[workload_spec['name']] = workload_spec"
   ]
  },
  {
   "cell_type": "code",
   "execution_count": 4,
   "metadata": {},
   "outputs": [
    {
     "output_type": "stream",
     "name": "stdout",
     "text": [
      "Request Limit Overrid: 'cpu=1000m,memory=1000Mi'\n",
      "kn service apply tfserving-resnetv2 --image ghcr.io/nimamahmoudi/tfserving-resnet:20210429213000 \\\n",
      "  --limit 'cpu=1000m,memory=1000Mi' \\\n",
      "  --request 'cpu=1000m,memory=1000Mi' \\\n",
      "  --port 5000 \\\n",
      "  -a autoscaling.knative.dev/target=1 \\\n",
      "  -a autoscaling.knative.dev/metric=concurrency\n",
      "No changes to apply to service 'tfserving-resnetv2'.\n",
      "Service 'tfserving-resnetv2' with latest revision 'tfserving-resnetv2-00079' (unchanged) is available at URL:\n",
      "http://tfserving-resnetv2.default.kn.nima-dev.com\n",
      "waiting for settings to converge\n"
     ]
    }
   ],
   "source": [
    "# deploy the function\n",
    "request_limit_override = f\"'cpu={cpu_m}m,memory={ram_mb}Mi'\"\n",
    "print('Request Limit Overrid:', request_limit_override)\n",
    "\n",
    "workload_spec = workload_configs[service_name]\n",
    "# override request and limit values\n",
    "workload_spec['opts']['--request'] = request_limit_override\n",
    "workload_spec['opts']['--limit'] = request_limit_override\n",
    "kn_command = kube.get_kn_command(**workload_spec)\n",
    "print(kn_command)\n",
    "!{kn_command}\n",
    "print('waiting for settings to converge')\n",
    "time.sleep(10)"
   ]
  },
  {
   "cell_type": "code",
   "execution_count": 5,
   "metadata": {},
   "outputs": [
    {
     "output_type": "execute_result",
     "data": {
      "text/plain": [
       "{'response_time_ms': 3579.294,\n",
       " 'request_id': '2cda9c33-0a59-4ad8-9f99-fb11a7f09b7e',\n",
       " 'queue_position': 0,\n",
       " 'received_at': datetime.datetime(2021, 5, 20, 12, 2, 4, 330000, tzinfo=<DstTzInfo 'America/Toronto' EDT-1 day, 20:00:00 DST>),\n",
       " 'response_at': datetime.datetime(2021, 5, 20, 12, 2, 7, 896000, tzinfo=<DstTzInfo 'America/Toronto' EDT-1 day, 20:00:00 DST>),\n",
       " 'upstream_response_time': 2564,\n",
       " 'upstream_request_count': 1,\n",
       " 'response_time_ms_server': 3566,\n",
       " 'queue_time_ms': 1002}"
      ]
     },
     "metadata": {},
     "execution_count": 5
    }
   ],
   "source": [
    "# call the request function with proper arguments\n",
    "def call_request_func():\n",
    "    request_func = request_funcs.workload_funcs[service_name]\n",
    "    result = request_func(url=override_url)\n",
    "\n",
    "    return {\n",
    "        'response_time_ms': result['response_time_ms'],\n",
    "        'request_id': result['headers']['X-Request-Id'],\n",
    "        'queue_position': int(result['headers']['X-SmartProxy-queuePosition']),\n",
    "        'received_at': from_js_timestamp(int(result['headers']['X-SmartProxy-receivedAt'])),\n",
    "        'response_at': from_js_timestamp(int(result['headers']['X-SmartProxy-responseAt'])),\n",
    "        'upstream_response_time': int(result['headers']['X-SmartProxy-upstreamResponseTime']),\n",
    "        'upstream_request_count': int(result['headers']['X-SmartProxy-upstreamRequestCount']),\n",
    "        'response_time_ms_server': int(result['headers']['X-SmartProxy-responseTime']),\n",
    "        'queue_time_ms': int(result['headers']['X-SmartProxy-queueTime']),\n",
    "    }\n",
    "\n",
    "call_request_func()"
   ]
  },
  {
   "cell_type": "code",
   "execution_count": 6,
   "metadata": {},
   "outputs": [
    {
     "output_type": "execute_result",
     "data": {
      "text/plain": [
       "   response_time_ms                            request_id  queue_position  \\\n",
       "0          1231.654  64183de3-60fb-4ff4-8e6e-766fa804513b               0   \n",
       "1          1197.446  297f531f-418c-4f20-858e-90d5f646d85f               0   \n",
       "2          1183.854  5e573f7a-e483-4167-9ea3-cc2f3dec77fd               0   \n",
       "3          1295.762  42d2324c-ad16-4473-b9d2-de478b377b18               0   \n",
       "4          1211.550  ac81b5af-0c7b-4664-a972-495649fe9760               0   \n",
       "5          1186.048  675e33e0-e9fe-4f91-94cc-9e9dd2ee5b94               0   \n",
       "6          1208.725  0ca55bc5-1adf-40e5-9e74-0d0ca5bd483e               0   \n",
       "7          1173.017  83ca1cdf-a523-4c34-aaac-f35676fcc388               0   \n",
       "8          1202.773  39703455-460b-46a3-b1ea-90d2762b39df               0   \n",
       "9          1231.634  b13a7a6b-fdff-4288-a5ea-ed99e095bcf2               0   \n",
       "\n",
       "                       received_at                      response_at  \\\n",
       "0 2021-05-20 12:02:08.272000-04:00 2021-05-20 12:02:09.499000-04:00   \n",
       "1 2021-05-20 12:02:09.507000-04:00 2021-05-20 12:02:10.700000-04:00   \n",
       "2 2021-05-20 12:02:10.708000-04:00 2021-05-20 12:02:11.887000-04:00   \n",
       "3 2021-05-20 12:02:11.896000-04:00 2021-05-20 12:02:13.187000-04:00   \n",
       "4 2021-05-20 12:02:13.195000-04:00 2021-05-20 12:02:14.401000-04:00   \n",
       "5 2021-05-20 12:02:14.409000-04:00 2021-05-20 12:02:15.591000-04:00   \n",
       "6 2021-05-20 12:02:15.597000-04:00 2021-05-20 12:02:16.801000-04:00   \n",
       "7 2021-05-20 12:02:16.810000-04:00 2021-05-20 12:02:17.978000-04:00   \n",
       "8 2021-05-20 12:02:17.985000-04:00 2021-05-20 12:02:19.184000-04:00   \n",
       "9 2021-05-20 12:02:19.190000-04:00 2021-05-20 12:02:20.417000-04:00   \n",
       "\n",
       "   upstream_response_time  upstream_request_count  response_time_ms_server  \\\n",
       "0                     224                       1                     1227   \n",
       "1                     192                       1                     1193   \n",
       "2                     178                       1                     1179   \n",
       "3                     289                       1                     1291   \n",
       "4                     205                       1                     1206   \n",
       "5                     181                       1                     1182   \n",
       "6                     202                       1                     1204   \n",
       "7                     164                       1                     1168   \n",
       "8                     197                       1                     1199   \n",
       "9                     226                       1                     1227   \n",
       "\n",
       "   queue_time_ms  \n",
       "0           1003  \n",
       "1           1001  \n",
       "2           1001  \n",
       "3           1002  \n",
       "4           1001  \n",
       "5           1001  \n",
       "6           1002  \n",
       "7           1004  \n",
       "8           1002  \n",
       "9           1001  "
      ],
      "text/html": "<div>\n<style scoped>\n    .dataframe tbody tr th:only-of-type {\n        vertical-align: middle;\n    }\n\n    .dataframe tbody tr th {\n        vertical-align: top;\n    }\n\n    .dataframe thead th {\n        text-align: right;\n    }\n</style>\n<table border=\"1\" class=\"dataframe\">\n  <thead>\n    <tr style=\"text-align: right;\">\n      <th></th>\n      <th>response_time_ms</th>\n      <th>request_id</th>\n      <th>queue_position</th>\n      <th>received_at</th>\n      <th>response_at</th>\n      <th>upstream_response_time</th>\n      <th>upstream_request_count</th>\n      <th>response_time_ms_server</th>\n      <th>queue_time_ms</th>\n    </tr>\n  </thead>\n  <tbody>\n    <tr>\n      <th>0</th>\n      <td>1231.654</td>\n      <td>64183de3-60fb-4ff4-8e6e-766fa804513b</td>\n      <td>0</td>\n      <td>2021-05-20 12:02:08.272000-04:00</td>\n      <td>2021-05-20 12:02:09.499000-04:00</td>\n      <td>224</td>\n      <td>1</td>\n      <td>1227</td>\n      <td>1003</td>\n    </tr>\n    <tr>\n      <th>1</th>\n      <td>1197.446</td>\n      <td>297f531f-418c-4f20-858e-90d5f646d85f</td>\n      <td>0</td>\n      <td>2021-05-20 12:02:09.507000-04:00</td>\n      <td>2021-05-20 12:02:10.700000-04:00</td>\n      <td>192</td>\n      <td>1</td>\n      <td>1193</td>\n      <td>1001</td>\n    </tr>\n    <tr>\n      <th>2</th>\n      <td>1183.854</td>\n      <td>5e573f7a-e483-4167-9ea3-cc2f3dec77fd</td>\n      <td>0</td>\n      <td>2021-05-20 12:02:10.708000-04:00</td>\n      <td>2021-05-20 12:02:11.887000-04:00</td>\n      <td>178</td>\n      <td>1</td>\n      <td>1179</td>\n      <td>1001</td>\n    </tr>\n    <tr>\n      <th>3</th>\n      <td>1295.762</td>\n      <td>42d2324c-ad16-4473-b9d2-de478b377b18</td>\n      <td>0</td>\n      <td>2021-05-20 12:02:11.896000-04:00</td>\n      <td>2021-05-20 12:02:13.187000-04:00</td>\n      <td>289</td>\n      <td>1</td>\n      <td>1291</td>\n      <td>1002</td>\n    </tr>\n    <tr>\n      <th>4</th>\n      <td>1211.550</td>\n      <td>ac81b5af-0c7b-4664-a972-495649fe9760</td>\n      <td>0</td>\n      <td>2021-05-20 12:02:13.195000-04:00</td>\n      <td>2021-05-20 12:02:14.401000-04:00</td>\n      <td>205</td>\n      <td>1</td>\n      <td>1206</td>\n      <td>1001</td>\n    </tr>\n    <tr>\n      <th>5</th>\n      <td>1186.048</td>\n      <td>675e33e0-e9fe-4f91-94cc-9e9dd2ee5b94</td>\n      <td>0</td>\n      <td>2021-05-20 12:02:14.409000-04:00</td>\n      <td>2021-05-20 12:02:15.591000-04:00</td>\n      <td>181</td>\n      <td>1</td>\n      <td>1182</td>\n      <td>1001</td>\n    </tr>\n    <tr>\n      <th>6</th>\n      <td>1208.725</td>\n      <td>0ca55bc5-1adf-40e5-9e74-0d0ca5bd483e</td>\n      <td>0</td>\n      <td>2021-05-20 12:02:15.597000-04:00</td>\n      <td>2021-05-20 12:02:16.801000-04:00</td>\n      <td>202</td>\n      <td>1</td>\n      <td>1204</td>\n      <td>1002</td>\n    </tr>\n    <tr>\n      <th>7</th>\n      <td>1173.017</td>\n      <td>83ca1cdf-a523-4c34-aaac-f35676fcc388</td>\n      <td>0</td>\n      <td>2021-05-20 12:02:16.810000-04:00</td>\n      <td>2021-05-20 12:02:17.978000-04:00</td>\n      <td>164</td>\n      <td>1</td>\n      <td>1168</td>\n      <td>1004</td>\n    </tr>\n    <tr>\n      <th>8</th>\n      <td>1202.773</td>\n      <td>39703455-460b-46a3-b1ea-90d2762b39df</td>\n      <td>0</td>\n      <td>2021-05-20 12:02:17.985000-04:00</td>\n      <td>2021-05-20 12:02:19.184000-04:00</td>\n      <td>197</td>\n      <td>1</td>\n      <td>1199</td>\n      <td>1002</td>\n    </tr>\n    <tr>\n      <th>9</th>\n      <td>1231.634</td>\n      <td>b13a7a6b-fdff-4288-a5ea-ed99e095bcf2</td>\n      <td>0</td>\n      <td>2021-05-20 12:02:19.190000-04:00</td>\n      <td>2021-05-20 12:02:20.417000-04:00</td>\n      <td>226</td>\n      <td>1</td>\n      <td>1227</td>\n      <td>1001</td>\n    </tr>\n  </tbody>\n</table>\n</div>"
     },
     "metadata": {},
     "execution_count": 6
    }
   ],
   "source": [
    "sample_reqs = [call_request_func() for _ in range(10)]\n",
    "sample_reqs = [d for d in sample_reqs if d is not None]\n",
    "pd.DataFrame(data=sample_reqs)"
   ]
  },
  {
   "cell_type": "code",
   "execution_count": 7,
   "metadata": {},
   "outputs": [],
   "source": [
    "# adding exception handling to create worker func\n",
    "def worker_func():\n",
    "    try:\n",
    "        return call_request_func()\n",
    "    except Exception:\n",
    "        print('exception occured:')\n",
    "        traceback.print_exc()\n",
    "        return None"
   ]
  },
  {
   "cell_type": "code",
   "execution_count": 9,
   "metadata": {},
   "outputs": [
    {
     "output_type": "stream",
     "name": "stdout",
     "text": [
      "============ Experiment Started ============\nTime Started: 2021-05-20 12:02:21.783987-04:00\n"
     ]
    },
    {
     "output_type": "display_data",
     "data": {
      "text/plain": "  0%|          | 0/3 [00:00<?, ?it/s]",
      "application/vnd.jupyter.widget-view+json": {
       "version_major": 2,
       "version_minor": 0,
       "model_id": "96dc1e9eabec4cc2995bf59eec9ec75f"
      }
     },
     "metadata": {}
    },
    {
     "output_type": "stream",
     "name": "stdout",
     "text": [
      "Total Requests Made: 938\nSuccessful Requests Made: 938\n"
     ]
    }
   ],
   "source": [
    "# my library imports\n",
    "from pacswg.timer import TimerClass\n",
    "import pacswg\n",
    "\n",
    "# start workload generator\n",
    "wg = pacswg.WorkloadGenerator(worker_func=worker_func, rps=0, worker_thread_count=100)\n",
    "wg.start_workers()\n",
    "timer = TimerClass()\n",
    "\n",
    "print(\"============ Experiment Started ============\")\n",
    "print(\"Time Started:\", get_time_with_tz())\n",
    "\n",
    "for rps in tqdm(rps_list):\n",
    "    wg.set_rps(rps)\n",
    "    timer.tic()\n",
    "    # apply each for one minute\n",
    "    while timer.toc() < 60:\n",
    "        wg.fire_wait()\n",
    "\n",
    "# get the results\n",
    "wg.stop_workers()\n",
    "all_res = wg.get_stats()\n",
    "total_reqs = len(all_res)\n",
    "all_res = [d for d in all_res if d is not None]\n",
    "success_reqs = len(all_res)\n",
    "\n",
    "print(\"Total Requests Made:\", total_reqs)\n",
    "print(\"Successful Requests Made:\", success_reqs)"
   ]
  },
  {
   "cell_type": "code",
   "execution_count": 10,
   "metadata": {},
   "outputs": [
    {
     "output_type": "stream",
     "name": "stdout",
     "text": [
      "Results Name: res-2021-05-20_12-05-42\n"
     ]
    }
   ],
   "source": [
    "# collect the results\n",
    "df_res = pd.DataFrame(data=all_res)\n",
    "# save the results\n",
    "now = get_time_with_tz()\n",
    "res_name = now.strftime('res-%Y-%m-%d_%H-%M-%S')\n",
    "res_folder = f'results/trace1/{service_name}'\n",
    "# make the directory and file names\n",
    "! mkdir -p {res_folder}\n",
    "requests_results_filename = f'{res_name}_reqs.csv'\n",
    "df_res.to_csv(os.path.join(res_folder, requests_results_filename))\n",
    "print('Results Name:', res_name)"
   ]
  }
 ]
}