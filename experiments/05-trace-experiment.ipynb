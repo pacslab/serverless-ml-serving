{
 "metadata": {
  "language_info": {
   "codemirror_mode": {
    "name": "ipython",
    "version": 3
   },
   "file_extension": ".py",
   "mimetype": "text/x-python",
   "name": "python",
   "nbconvert_exporter": "python",
   "pygments_lexer": "ipython3",
   "version": "3.8.5"
  },
  "orig_nbformat": 2,
  "kernelspec": {
   "name": "python385jvsc74a57bd04f7b070ef049bbd8502237a868479304b4da16a010bb509c19371ab8ff01cc23",
   "display_name": "Python 3.8.5 64-bit ('base': conda)"
  }
 },
 "nbformat": 4,
 "nbformat_minor": 2,
 "cells": [
  {
   "cell_type": "code",
   "execution_count": 1,
   "metadata": {},
   "outputs": [
    {
     "output_type": "stream",
     "name": "stdout",
     "text": [
      "fetching imagenet v2\nresizing images\n"
     ]
    },
    {
     "output_type": "display_data",
     "data": {
      "text/plain": "  0%|          | 0/100 [00:00<?, ?it/s]",
      "application/vnd.jupyter.widget-view+json": {
       "version_major": 2,
       "version_minor": 0,
       "model_id": "a3d5457e925741fb8e6dad777a46af7f"
      }
     },
     "metadata": {}
    },
    {
     "output_type": "stream",
     "name": "stdout",
     "text": [
      "converting to bentoml files\n"
     ]
    },
    {
     "output_type": "display_data",
     "data": {
      "text/plain": "  0%|          | 0/100 [00:00<?, ?it/s]",
      "application/vnd.jupyter.widget-view+json": {
       "version_major": 2,
       "version_minor": 0,
       "model_id": "7f9a821d892c461fbfbff931d4a9df1e"
      }
     },
     "metadata": {}
    },
    {
     "output_type": "stream",
     "name": "stdout",
     "text": [
      "extracting base64 files\n"
     ]
    },
    {
     "output_type": "display_data",
     "data": {
      "text/plain": "  0%|          | 0/100 [00:00<?, ?it/s]",
      "application/vnd.jupyter.widget-view+json": {
       "version_major": 2,
       "version_minor": 0,
       "model_id": "3e1b3fd8816d49009cfb7c4c6e01e5e2"
      }
     },
     "metadata": {}
    },
    {
     "output_type": "stream",
     "name": "stdout",
     "text": [
      "preprocessing for mobilenet\n"
     ]
    },
    {
     "output_type": "display_data",
     "data": {
      "text/plain": "  0%|          | 0/100 [00:00<?, ?it/s]",
      "application/vnd.jupyter.widget-view+json": {
       "version_major": 2,
       "version_minor": 0,
       "model_id": "c23ac221720f48eeb5b3fb624d8ed5d7"
      }
     },
     "metadata": {}
    }
   ],
   "source": [
    "%load_ext autoreload\n",
    "%autoreload 2\n",
    "\n",
    "from tqdm.auto import tqdm\n",
    "import itertools\n",
    "\n",
    "import os\n",
    "import time\n",
    "import traceback\n",
    "from datetime import datetime\n",
    "import pytz\n",
    "\n",
    "# for processing\n",
    "import pandas as pd\n",
    "import numpy as np\n",
    "import matplotlib.pyplot as plt\n",
    "\n",
    "# my imports\n",
    "from helpers import kube\n",
    "from helpers import workload\n",
    "from helpers import util\n",
    "from helpers import request_funcs\n",
    "\n",
    "# config\n",
    "my_timezone = os.getenv('PY_TZ', 'America/Toronto')\n",
    "\n",
    "# small funcs\n",
    "from_js_timestamp = lambda x: datetime.utcfromtimestamp(x/1000).astimezone(pytz.timezone(my_timezone))\n",
    "def get_time_with_tz():\n",
    "    return datetime.now().astimezone(pytz.timezone(my_timezone))"
   ]
  },
  {
   "cell_type": "code",
   "execution_count": 2,
   "metadata": {},
   "outputs": [],
   "source": [
    "# experiment that we want to perform\n",
    "# service_name = 'tfserving-resnetv2'\n",
    "# service_name = 'bentoml-onnx-resnet50'\n",
    "service_name = 'bentoml-iris'\n",
    "# service_name = 'tfserving-mobilenetv1'\n",
    "\n",
    "override_url = f'http://localhost:3000/proxy/{service_name}'\n",
    "\n",
    "cpu_m = 1000\n",
    "ram_mb = 1000\n",
    "\n",
    "rps_list = [5] * 60"
   ]
  },
  {
   "cell_type": "code",
   "execution_count": 3,
   "metadata": {},
   "outputs": [],
   "source": [
    "config_names = [\n",
    "    'bentoml-iris-250m-512mb',\n",
    "    'bentoml-onnx-resnet50-250m-512mb',\n",
    "    'tfserving-resnetv2-250m-512mb',\n",
    "    'tfserving-mobilenetv1-250m-512mb',\n",
    "]\n",
    "\n",
    "workload_configs = {}\n",
    "for exp_config_name in config_names:\n",
    "    exp_file = f\"deployments/{exp_config_name}.json\"\n",
    "    workload_spec = util.load_json_file(exp_file)\n",
    "    workload_configs[workload_spec['name']] = workload_spec"
   ]
  },
  {
   "cell_type": "code",
   "execution_count": 4,
   "metadata": {},
   "outputs": [
    {
     "output_type": "stream",
     "name": "stdout",
     "text": [
      "Request Limit Overrid: 'cpu=1000m,memory=1000Mi'\n",
      "kn service apply tfserving-resnetv2 --image ghcr.io/nimamahmoudi/tfserving-resnet:20210429213000 \\\n",
      "  --limit 'cpu=1000m,memory=1000Mi' \\\n",
      "  --request 'cpu=1000m,memory=1000Mi' \\\n",
      "  --port 5000 \\\n",
      "  -a autoscaling.knative.dev/target=1 \\\n",
      "  -a autoscaling.knative.dev/metric=concurrency\n",
      "No changes to apply to service 'tfserving-resnetv2'.\n",
      "Service 'tfserving-resnetv2' with latest revision 'tfserving-resnetv2-00079' (unchanged) is available at URL:\n",
      "http://tfserving-resnetv2.default.kn.nima-dev.com\n",
      "waiting for settings to converge\n"
     ]
    }
   ],
   "source": [
    "# deploy the function\n",
    "request_limit_override = f\"'cpu={cpu_m}m,memory={ram_mb}Mi'\"\n",
    "print('Request Limit Overrid:', request_limit_override)\n",
    "\n",
    "workload_spec = workload_configs[service_name]\n",
    "# override request and limit values\n",
    "workload_spec['opts']['--request'] = request_limit_override\n",
    "workload_spec['opts']['--limit'] = request_limit_override\n",
    "kn_command = kube.get_kn_command(**workload_spec)\n",
    "print(kn_command)\n",
    "!{kn_command}\n",
    "print('waiting for settings to converge')\n",
    "time.sleep(10)"
   ]
  },
  {
   "cell_type": "code",
   "execution_count": 5,
   "metadata": {},
   "outputs": [
    {
     "output_type": "execute_result",
     "data": {
      "text/plain": [
       "{'response_time_ms': 3727.897,\n",
       " 'request_id': 'f57b5daf-5191-4c6c-bd1f-ea4cf6576c51',\n",
       " 'queue_position': 0,\n",
       " 'received_at': datetime.datetime(2021, 5, 20, 13, 12, 34, 621000, tzinfo=<DstTzInfo 'America/Toronto' EDT-1 day, 20:00:00 DST>),\n",
       " 'response_at': datetime.datetime(2021, 5, 20, 13, 12, 38, 322000, tzinfo=<DstTzInfo 'America/Toronto' EDT-1 day, 20:00:00 DST>),\n",
       " 'upstream_response_time': 2698,\n",
       " 'upstream_request_count': 1,\n",
       " 'response_time_ms_server': 3701,\n",
       " 'queue_time_ms': 1003}"
      ]
     },
     "metadata": {},
     "execution_count": 5
    }
   ],
   "source": [
    "# call the request function with proper arguments\n",
    "def call_request_func():\n",
    "    request_func = request_funcs.workload_funcs[service_name]\n",
    "    result = request_func(url=override_url)\n",
    "\n",
    "    return {\n",
    "        'response_time_ms': result['response_time_ms'],\n",
    "        'request_id': result['headers']['X-Request-Id'],\n",
    "        'queue_position': int(result['headers']['X-SmartProxy-queuePosition']),\n",
    "        'received_at': from_js_timestamp(int(result['headers']['X-SmartProxy-receivedAt'])),\n",
    "        'response_at': from_js_timestamp(int(result['headers']['X-SmartProxy-responseAt'])),\n",
    "        'upstream_response_time': int(result['headers']['X-SmartProxy-upstreamResponseTime']),\n",
    "        'upstream_request_count': int(result['headers']['X-SmartProxy-upstreamRequestCount']),\n",
    "        'response_time_ms_server': int(result['headers']['X-SmartProxy-responseTime']),\n",
    "        'queue_time_ms': int(result['headers']['X-SmartProxy-queueTime']),\n",
    "    }\n",
    "\n",
    "call_request_func()"
   ]
  },
  {
   "cell_type": "code",
   "execution_count": 6,
   "metadata": {},
   "outputs": [
    {
     "output_type": "execute_result",
     "data": {
      "text/plain": [
       "   response_time_ms                            request_id  queue_position  \\\n",
       "0          1196.154  4e5f6cc7-1b08-471d-97e8-3c7c0d287978               0   \n",
       "1          1200.356  09350232-b219-4492-aaf9-44af1769b94a               0   \n",
       "2          1198.542  1d13577f-f69e-4b7e-8ad4-9b5057301969               0   \n",
       "3          1198.774  d7716a16-7a3d-45f3-8378-3306f781f3d9               0   \n",
       "4          1202.769  6cbcd11f-c0ae-459a-a34c-4ad699650e41               0   \n",
       "5          1184.119  75946ecd-5f71-4c8f-8c7a-ef219dc681a7               0   \n",
       "6          1192.738  0e47c702-92df-4ac5-b4ee-0d2c0c9e674c               0   \n",
       "7          1208.973  68c6d598-5035-4bd4-b4db-ce6c7b4ccd30               0   \n",
       "8          1205.177  612c0791-8b22-4c43-bc5f-293131fc0dbf               0   \n",
       "9          1183.162  624441a5-3f0b-45dd-bc90-441b62043e67               0   \n",
       "\n",
       "                       received_at                      response_at  \\\n",
       "0 2021-05-20 13:12:38.726000-04:00 2021-05-20 13:12:39.915000-04:00   \n",
       "1 2021-05-20 13:12:39.925000-04:00 2021-05-20 13:12:41.121000-04:00   \n",
       "2 2021-05-20 13:12:41.128000-04:00 2021-05-20 13:12:42.322000-04:00   \n",
       "3 2021-05-20 13:12:42.329000-04:00 2021-05-20 13:12:43.523000-04:00   \n",
       "4 2021-05-20 13:12:43.531000-04:00 2021-05-20 13:12:44.728000-04:00   \n",
       "5 2021-05-20 13:12:44.737000-04:00 2021-05-20 13:12:45.916000-04:00   \n",
       "6 2021-05-20 13:12:45.922000-04:00 2021-05-20 13:12:47.110000-04:00   \n",
       "7 2021-05-20 13:12:47.118000-04:00 2021-05-20 13:12:48.322000-04:00   \n",
       "8 2021-05-20 13:12:48.331000-04:00 2021-05-20 13:12:49.531000-04:00   \n",
       "9 2021-05-20 13:12:49.541000-04:00 2021-05-20 13:12:50.717000-04:00   \n",
       "\n",
       "   upstream_response_time  upstream_request_count  response_time_ms_server  \\\n",
       "0                     187                       1                     1189   \n",
       "1                     194                       1                     1196   \n",
       "2                     192                       1                     1194   \n",
       "3                     193                       1                     1194   \n",
       "4                     196                       1                     1197   \n",
       "5                     178                       1                     1179   \n",
       "6                     187                       1                     1188   \n",
       "7                     202                       1                     1204   \n",
       "8                     199                       1                     1200   \n",
       "9                     174                       1                     1176   \n",
       "\n",
       "   queue_time_ms  \n",
       "0           1002  \n",
       "1           1002  \n",
       "2           1002  \n",
       "3           1001  \n",
       "4           1001  \n",
       "5           1001  \n",
       "6           1001  \n",
       "7           1002  \n",
       "8           1001  \n",
       "9           1002  "
      ],
      "text/html": "<div>\n<style scoped>\n    .dataframe tbody tr th:only-of-type {\n        vertical-align: middle;\n    }\n\n    .dataframe tbody tr th {\n        vertical-align: top;\n    }\n\n    .dataframe thead th {\n        text-align: right;\n    }\n</style>\n<table border=\"1\" class=\"dataframe\">\n  <thead>\n    <tr style=\"text-align: right;\">\n      <th></th>\n      <th>response_time_ms</th>\n      <th>request_id</th>\n      <th>queue_position</th>\n      <th>received_at</th>\n      <th>response_at</th>\n      <th>upstream_response_time</th>\n      <th>upstream_request_count</th>\n      <th>response_time_ms_server</th>\n      <th>queue_time_ms</th>\n    </tr>\n  </thead>\n  <tbody>\n    <tr>\n      <th>0</th>\n      <td>1196.154</td>\n      <td>4e5f6cc7-1b08-471d-97e8-3c7c0d287978</td>\n      <td>0</td>\n      <td>2021-05-20 13:12:38.726000-04:00</td>\n      <td>2021-05-20 13:12:39.915000-04:00</td>\n      <td>187</td>\n      <td>1</td>\n      <td>1189</td>\n      <td>1002</td>\n    </tr>\n    <tr>\n      <th>1</th>\n      <td>1200.356</td>\n      <td>09350232-b219-4492-aaf9-44af1769b94a</td>\n      <td>0</td>\n      <td>2021-05-20 13:12:39.925000-04:00</td>\n      <td>2021-05-20 13:12:41.121000-04:00</td>\n      <td>194</td>\n      <td>1</td>\n      <td>1196</td>\n      <td>1002</td>\n    </tr>\n    <tr>\n      <th>2</th>\n      <td>1198.542</td>\n      <td>1d13577f-f69e-4b7e-8ad4-9b5057301969</td>\n      <td>0</td>\n      <td>2021-05-20 13:12:41.128000-04:00</td>\n      <td>2021-05-20 13:12:42.322000-04:00</td>\n      <td>192</td>\n      <td>1</td>\n      <td>1194</td>\n      <td>1002</td>\n    </tr>\n    <tr>\n      <th>3</th>\n      <td>1198.774</td>\n      <td>d7716a16-7a3d-45f3-8378-3306f781f3d9</td>\n      <td>0</td>\n      <td>2021-05-20 13:12:42.329000-04:00</td>\n      <td>2021-05-20 13:12:43.523000-04:00</td>\n      <td>193</td>\n      <td>1</td>\n      <td>1194</td>\n      <td>1001</td>\n    </tr>\n    <tr>\n      <th>4</th>\n      <td>1202.769</td>\n      <td>6cbcd11f-c0ae-459a-a34c-4ad699650e41</td>\n      <td>0</td>\n      <td>2021-05-20 13:12:43.531000-04:00</td>\n      <td>2021-05-20 13:12:44.728000-04:00</td>\n      <td>196</td>\n      <td>1</td>\n      <td>1197</td>\n      <td>1001</td>\n    </tr>\n    <tr>\n      <th>5</th>\n      <td>1184.119</td>\n      <td>75946ecd-5f71-4c8f-8c7a-ef219dc681a7</td>\n      <td>0</td>\n      <td>2021-05-20 13:12:44.737000-04:00</td>\n      <td>2021-05-20 13:12:45.916000-04:00</td>\n      <td>178</td>\n      <td>1</td>\n      <td>1179</td>\n      <td>1001</td>\n    </tr>\n    <tr>\n      <th>6</th>\n      <td>1192.738</td>\n      <td>0e47c702-92df-4ac5-b4ee-0d2c0c9e674c</td>\n      <td>0</td>\n      <td>2021-05-20 13:12:45.922000-04:00</td>\n      <td>2021-05-20 13:12:47.110000-04:00</td>\n      <td>187</td>\n      <td>1</td>\n      <td>1188</td>\n      <td>1001</td>\n    </tr>\n    <tr>\n      <th>7</th>\n      <td>1208.973</td>\n      <td>68c6d598-5035-4bd4-b4db-ce6c7b4ccd30</td>\n      <td>0</td>\n      <td>2021-05-20 13:12:47.118000-04:00</td>\n      <td>2021-05-20 13:12:48.322000-04:00</td>\n      <td>202</td>\n      <td>1</td>\n      <td>1204</td>\n      <td>1002</td>\n    </tr>\n    <tr>\n      <th>8</th>\n      <td>1205.177</td>\n      <td>612c0791-8b22-4c43-bc5f-293131fc0dbf</td>\n      <td>0</td>\n      <td>2021-05-20 13:12:48.331000-04:00</td>\n      <td>2021-05-20 13:12:49.531000-04:00</td>\n      <td>199</td>\n      <td>1</td>\n      <td>1200</td>\n      <td>1001</td>\n    </tr>\n    <tr>\n      <th>9</th>\n      <td>1183.162</td>\n      <td>624441a5-3f0b-45dd-bc90-441b62043e67</td>\n      <td>0</td>\n      <td>2021-05-20 13:12:49.541000-04:00</td>\n      <td>2021-05-20 13:12:50.717000-04:00</td>\n      <td>174</td>\n      <td>1</td>\n      <td>1176</td>\n      <td>1002</td>\n    </tr>\n  </tbody>\n</table>\n</div>"
     },
     "metadata": {},
     "execution_count": 6
    }
   ],
   "source": [
    "sample_reqs = [call_request_func() for _ in range(10)]\n",
    "sample_reqs = [d for d in sample_reqs if d is not None]\n",
    "pd.DataFrame(data=sample_reqs)"
   ]
  },
  {
   "cell_type": "code",
   "execution_count": 7,
   "metadata": {},
   "outputs": [],
   "source": [
    "# adding exception handling to create worker func\n",
    "def worker_func():\n",
    "    try:\n",
    "        return call_request_func()\n",
    "    except Exception:\n",
    "        print('exception occured:')\n",
    "        traceback.print_exc()\n",
    "        return None"
   ]
  },
  {
   "cell_type": "code",
   "execution_count": 8,
   "metadata": {},
   "outputs": [
    {
     "output_type": "stream",
     "name": "stdout",
     "text": [
      "============ Experiment Started ============\nTime Started: 2021-05-20 13:12:51.546278-04:00\n"
     ]
    },
    {
     "output_type": "display_data",
     "data": {
      "text/plain": "  0%|          | 0/60 [00:00<?, ?it/s]",
      "application/vnd.jupyter.widget-view+json": {
       "version_major": 2,
       "version_minor": 0,
       "model_id": "4846875abf9342759d2d412e5ff8f4d2"
      }
     },
     "metadata": {}
    },
    {
     "output_type": "stream",
     "name": "stdout",
     "text": [
      "exception occured:exception occured:\n",
      "exception occured:\n",
      "\n",
      "exception occured:\n",
      "Traceback (most recent call last):\n",
      "Traceback (most recent call last):\n",
      "Traceback (most recent call last):\n",
      "  File \"<ipython-input-7-e79221552b7f>\", line 4, in worker_func\n",
      "    return call_request_func()\n",
      "  File \"<ipython-input-5-63e6ec19e9e8>\", line 4, in call_request_func\n",
      "    result = request_func(url=override_url)\n",
      "  File \"/home/ubuntu/serverless-ml-serving/experiments/helpers/request_funcs.py\", line 160, in request_tfserving_resnetv2\n",
      "    response.raise_for_status()\n",
      "  File \"/home/ubuntu/miniconda/lib/python3.8/site-packages/requests/models.py\", line 943, in raise_for_status\n",
      "    raise HTTPError(http_error_msg, response=self)\n",
      "requests.exceptions.HTTPError: 500 Server Error: Internal Server Error for url: http://localhost:3000/proxy/tfserving-resnetv2\n",
      "Traceback (most recent call last):\n",
      "  File \"<ipython-input-7-e79221552b7f>\", line 4, in worker_func\n",
      "    return call_request_func()\n",
      "  File \"<ipython-input-7-e79221552b7f>\", line 4, in worker_func\n",
      "    return call_request_func()\n",
      "  File \"<ipython-input-5-63e6ec19e9e8>\", line 4, in call_request_func\n",
      "    result = request_func(url=override_url)\n",
      "  File \"/home/ubuntu/serverless-ml-serving/experiments/helpers/request_funcs.py\", line 160, in request_tfserving_resnetv2\n",
      "    response.raise_for_status()\n",
      "  File \"/home/ubuntu/miniconda/lib/python3.8/site-packages/requests/models.py\", line 943, in raise_for_status\n",
      "    raise HTTPError(http_error_msg, response=self)\n",
      "requests.exceptions.HTTPError: 500 Server Error: Internal Server Error for url: http://localhost:3000/proxy/tfserving-resnetv2\n",
      "  File \"<ipython-input-7-e79221552b7f>\", line 4, in worker_func\n",
      "    return call_request_func()\n",
      "  File \"<ipython-input-5-63e6ec19e9e8>\", line 4, in call_request_func\n",
      "    result = request_func(url=override_url)\n",
      "  File \"/home/ubuntu/serverless-ml-serving/experiments/helpers/request_funcs.py\", line 160, in request_tfserving_resnetv2\n",
      "    response.raise_for_status()\n",
      "  File \"/home/ubuntu/miniconda/lib/python3.8/site-packages/requests/models.py\", line 943, in raise_for_status\n",
      "    raise HTTPError(http_error_msg, response=self)\n",
      "requests.exceptions.HTTPError: 500 Server Error: Internal Server Error for url: http://localhost:3000/proxy/tfserving-resnetv2\n",
      "  File \"<ipython-input-5-63e6ec19e9e8>\", line 4, in call_request_func\n",
      "    result = request_func(url=override_url)\n",
      "  File \"/home/ubuntu/serverless-ml-serving/experiments/helpers/request_funcs.py\", line 160, in request_tfserving_resnetv2\n",
      "    response.raise_for_status()\n",
      "  File \"/home/ubuntu/miniconda/lib/python3.8/site-packages/requests/models.py\", line 943, in raise_for_status\n",
      "    raise HTTPError(http_error_msg, response=self)\n",
      "requests.exceptions.HTTPError: 500 Server Error: Internal Server Error for url: http://localhost:3000/proxy/tfserving-resnetv2\n",
      "Total Requests Made: 18050\n",
      "Successful Requests Made: 18046\n"
     ]
    }
   ],
   "source": [
    "# my library imports\n",
    "from pacswg.timer import TimerClass\n",
    "import pacswg\n",
    "\n",
    "# start workload generator\n",
    "wg = pacswg.WorkloadGenerator(worker_func=worker_func, rps=0, worker_thread_count=100)\n",
    "wg.start_workers()\n",
    "timer = TimerClass()\n",
    "\n",
    "print(\"============ Experiment Started ============\")\n",
    "print(\"Time Started:\", get_time_with_tz())\n",
    "\n",
    "for rps in tqdm(rps_list):\n",
    "    wg.set_rps(rps)\n",
    "    timer.tic()\n",
    "    # apply each for one minute\n",
    "    while timer.toc() < 60:\n",
    "        wg.fire_wait()\n",
    "\n",
    "# get the results\n",
    "wg.stop_workers()\n",
    "all_res = wg.get_stats()\n",
    "total_reqs = len(all_res)\n",
    "all_res = [d for d in all_res if d is not None]\n",
    "success_reqs = len(all_res)\n",
    "\n",
    "print(\"Total Requests Made:\", total_reqs)\n",
    "print(\"Successful Requests Made:\", success_reqs)"
   ]
  },
  {
   "cell_type": "code",
   "execution_count": 9,
   "metadata": {},
   "outputs": [
    {
     "output_type": "stream",
     "name": "stdout",
     "text": [
      "Results Name: res-2021-05-20_14-13-02\n"
     ]
    }
   ],
   "source": [
    "# collect the results\n",
    "df_res = pd.DataFrame(data=all_res)\n",
    "# save the results\n",
    "now = get_time_with_tz()\n",
    "res_name = now.strftime('res-%Y-%m-%d_%H-%M-%S')\n",
    "res_folder = f'results/trace1/{service_name}'\n",
    "# make the directory and file names\n",
    "! mkdir -p {res_folder}\n",
    "requests_results_filename = f'{res_name}_reqs.csv'\n",
    "df_res.to_csv(os.path.join(res_folder, requests_results_filename))\n",
    "print('Results Name:', res_name)"
   ]
  }
 ]
}