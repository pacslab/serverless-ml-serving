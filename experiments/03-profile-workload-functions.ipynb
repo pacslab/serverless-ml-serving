{
 "cells": [
  {
   "cell_type": "markdown",
   "metadata": {},
   "source": [
    "# Prepare Workloads\n",
    "\n",
    "In this notebook, we will try to prepare the workloads that we will be applying\n",
    "to the deployments. Potentially, this leads to functions that will be called\n",
    "when we want to send traffic to the deployment and we want to measure the system's\n",
    "performance."
   ]
  },
  {
   "cell_type": "code",
   "execution_count": 1,
   "metadata": {
    "execution": {
     "iopub.execute_input": "2021-05-10T14:12:13.372495Z",
     "iopub.status.busy": "2021-05-10T14:12:13.371481Z",
     "iopub.status.idle": "2021-05-10T14:12:23.866431Z",
     "shell.execute_reply": "2021-05-10T14:12:23.867353Z"
    }
   },
   "outputs": [
    {
     "output_type": "stream",
     "name": "stdout",
     "text": [
      "fetching imagenet v2\nresizing images\n"
     ]
    },
    {
     "output_type": "display_data",
     "data": {
      "text/plain": "  0%|          | 0/100 [00:00<?, ?it/s]",
      "application/vnd.jupyter.widget-view+json": {
       "version_major": 2,
       "version_minor": 0,
       "model_id": "50ca7f1257c444c9a56860ddcb71db3d"
      }
     },
     "metadata": {}
    },
    {
     "output_type": "stream",
     "name": "stdout",
     "text": [
      "converting to bentoml files\n"
     ]
    },
    {
     "output_type": "display_data",
     "data": {
      "text/plain": "  0%|          | 0/100 [00:00<?, ?it/s]",
      "application/vnd.jupyter.widget-view+json": {
       "version_major": 2,
       "version_minor": 0,
       "model_id": "f65f16cb592a4cd68483d7db866dca1b"
      }
     },
     "metadata": {}
    },
    {
     "output_type": "stream",
     "name": "stdout",
     "text": [
      "extracting base64 files\n"
     ]
    },
    {
     "output_type": "display_data",
     "data": {
      "text/plain": "  0%|          | 0/100 [00:00<?, ?it/s]",
      "application/vnd.jupyter.widget-view+json": {
       "version_major": 2,
       "version_minor": 0,
       "model_id": "18c71f3ee29040ee9daeb6e544686d67"
      }
     },
     "metadata": {}
    },
    {
     "output_type": "stream",
     "name": "stdout",
     "text": [
      "preprocessing for mobilenet\n"
     ]
    },
    {
     "output_type": "display_data",
     "data": {
      "text/plain": "  0%|          | 0/100 [00:00<?, ?it/s]",
      "application/vnd.jupyter.widget-view+json": {
       "version_major": 2,
       "version_minor": 0,
       "model_id": "0f0fcfa2a9a64dc0bfe93e885b04ef91"
      }
     },
     "metadata": {}
    }
   ],
   "source": [
    "%load_ext autoreload\n",
    "%autoreload 2\n",
    "\n",
    "from tqdm.auto import tqdm\n",
    "import itertools\n",
    "\n",
    "import os\n",
    "import time\n",
    "import traceback\n",
    "\n",
    "# my imports\n",
    "from helpers import kube\n",
    "from helpers import workload\n",
    "from helpers import util\n",
    "from helpers import request_funcs"
   ]
  },
  {
   "cell_type": "code",
   "execution_count": 2,
   "metadata": {
    "execution": {
     "iopub.execute_input": "2021-05-10T14:12:23.873806Z",
     "iopub.status.busy": "2021-05-10T14:12:23.872719Z",
     "iopub.status.idle": "2021-05-10T14:12:23.912117Z",
     "shell.execute_reply": "2021-05-10T14:12:23.911384Z"
    }
   },
   "outputs": [],
   "source": [
    "config_names = [\n",
    "    'bentoml-iris-250m-512mb',\n",
    "    'bentoml-onnx-resnet50-250m-512mb',\n",
    "    'tfserving-resnetv2-250m-512mb',\n",
    "    'tfserving-mobilenetv1-250m-512mb',\n",
    "]\n",
    "\n",
    "workload_configs = {}\n",
    "for exp_config_name in config_names:\n",
    "    exp_file = f\"deployments/{exp_config_name}.json\"\n",
    "    workload_spec = util.load_json_file(exp_file)\n",
    "    workload_configs[workload_spec['name']] = workload_spec\n"
   ]
  },
  {
   "cell_type": "code",
   "execution_count": 3,
   "metadata": {
    "execution": {
     "iopub.execute_input": "2021-05-10T14:12:23.930311Z",
     "iopub.status.busy": "2021-05-10T14:12:23.929300Z",
     "iopub.status.idle": "2021-05-10T14:15:12.065190Z",
     "shell.execute_reply": "2021-05-10T14:15:12.066047Z"
    }
   },
   "outputs": [
    {
     "output_type": "stream",
     "name": "stdout",
     "text": [
      "configurables: ['cpu_m', 'batch_size']\n",
      "{'cpu_m': 250, 'batch_size': 1}\n",
      "Request Limit Overrid: 'cpu=250m,memory=375Mi'\n",
      "kn service apply bentoml-iris --image ghcr.io/nimamahmoudi/bentoml-iris-classifier:20210429201447 \\\n",
      "  --limit 'cpu=250m,memory=375Mi' \\\n",
      "  --request 'cpu=250m,memory=375Mi' \\\n",
      "  --port 5000 \\\n",
      "  -a autoscaling.knative.dev/target=1 \\\n",
      "  -a autoscaling.knative.dev/metric=concurrency\n",
      "Applying service 'bentoml-iris' in namespace 'default':\n",
      "\n",
      "  0.067s The Configuration is still working to reflect the latest desired specification.\n",
      " 13.144s Traffic is not yet migrated to the latest revision.\n",
      " 13.172s Ingress has not yet been reconciled.\n",
      " 13.542s Waiting for load balancer to be ready\n",
      " 13.832s Ready to serve.\n",
      "\n",
      "Service 'bentoml-iris' applied to latest revision 'bentoml-iris-00156' is available at URL:\n",
      "http://bentoml-iris.default.kn.nima-dev.com\n",
      "waiting for settings to converge\n",
      "warming up...\n",
      "running bentoml-iris workload function, batch_size: 1\n"
     ]
    },
    {
     "output_type": "display_data",
     "data": {
      "text/plain": "  0%|          | 0/10 [00:00<?, ?it/s]",
      "application/vnd.jupyter.widget-view+json": {
       "version_major": 2,
       "version_minor": 0,
       "model_id": "2801457da6a340efb78e64c3a7d0ac1e"
      }
     },
     "metadata": {}
    },
    {
     "output_type": "stream",
     "name": "stdout",
     "text": [
      "{'cpu_m': 250, 'batch_size': 10}\n",
      "Request Limit Overrid: 'cpu=250m,memory=375Mi'\n",
      "kn service apply bentoml-iris --image ghcr.io/nimamahmoudi/bentoml-iris-classifier:20210429201447 \\\n",
      "  --limit 'cpu=250m,memory=375Mi' \\\n",
      "  --request 'cpu=250m,memory=375Mi' \\\n",
      "  --port 5000 \\\n",
      "  -a autoscaling.knative.dev/target=1 \\\n",
      "  -a autoscaling.knative.dev/metric=concurrency\n",
      "No changes to apply to service 'bentoml-iris'.\n",
      "Service 'bentoml-iris' with latest revision 'bentoml-iris-00156' (unchanged) is available at URL:\n",
      "http://bentoml-iris.default.kn.nima-dev.com\n",
      "waiting for settings to converge\n",
      "warming up...\n",
      "running bentoml-iris workload function, batch_size: 10\n"
     ]
    },
    {
     "output_type": "display_data",
     "data": {
      "text/plain": "  0%|          | 0/10 [00:00<?, ?it/s]",
      "application/vnd.jupyter.widget-view+json": {
       "version_major": 2,
       "version_minor": 0,
       "model_id": "1344894c107842969096f0a3b9fd500e"
      }
     },
     "metadata": {}
    },
    {
     "output_type": "stream",
     "name": "stdout",
     "text": [
      "{'cpu_m': 250, 'batch_size': 50}\n",
      "Request Limit Overrid: 'cpu=250m,memory=375Mi'\n",
      "kn service apply bentoml-iris --image ghcr.io/nimamahmoudi/bentoml-iris-classifier:20210429201447 \\\n",
      "  --limit 'cpu=250m,memory=375Mi' \\\n",
      "  --request 'cpu=250m,memory=375Mi' \\\n",
      "  --port 5000 \\\n",
      "  -a autoscaling.knative.dev/target=1 \\\n",
      "  -a autoscaling.knative.dev/metric=concurrency\n",
      "No changes to apply to service 'bentoml-iris'.\n",
      "Service 'bentoml-iris' with latest revision 'bentoml-iris-00156' (unchanged) is available at URL:\n",
      "http://bentoml-iris.default.kn.nima-dev.com\n",
      "waiting for settings to converge\n",
      "warming up...\n",
      "running bentoml-iris workload function, batch_size: 50\n"
     ]
    },
    {
     "output_type": "display_data",
     "data": {
      "text/plain": "  0%|          | 0/10 [00:00<?, ?it/s]",
      "application/vnd.jupyter.widget-view+json": {
       "version_major": 2,
       "version_minor": 0,
       "model_id": "164adb0dd4284acd8debf3bddb533e78"
      }
     },
     "metadata": {}
    },
    {
     "output_type": "stream",
     "name": "stdout",
     "text": [
      "{'cpu_m': 250, 'batch_size': 100}\n",
      "Request Limit Overrid: 'cpu=250m,memory=375Mi'\n",
      "kn service apply bentoml-iris --image ghcr.io/nimamahmoudi/bentoml-iris-classifier:20210429201447 \\\n",
      "  --limit 'cpu=250m,memory=375Mi' \\\n",
      "  --request 'cpu=250m,memory=375Mi' \\\n",
      "  --port 5000 \\\n",
      "  -a autoscaling.knative.dev/target=1 \\\n",
      "  -a autoscaling.knative.dev/metric=concurrency\n",
      "No changes to apply to service 'bentoml-iris'.\n",
      "Service 'bentoml-iris' with latest revision 'bentoml-iris-00156' (unchanged) is available at URL:\n",
      "http://bentoml-iris.default.kn.nima-dev.com\n",
      "waiting for settings to converge\n",
      "warming up...\n"
     ]
    },
    {
     "output_type": "error",
     "ename": "KeyboardInterrupt",
     "evalue": "",
     "traceback": [
      "\u001b[0;31m---------------------------------------------------------------------------\u001b[0m",
      "\u001b[0;31mKeyboardInterrupt\u001b[0m                         Traceback (most recent call last)",
      "\u001b[0;32m<ipython-input-3-1941da4c2898>\u001b[0m in \u001b[0;36m<module>\u001b[0;34m\u001b[0m\n\u001b[1;32m     83\u001b[0m     \u001b[0;34m'batch_size'\u001b[0m\u001b[0;34m:\u001b[0m \u001b[0;34m[\u001b[0m\u001b[0;36m1\u001b[0m\u001b[0;34m,\u001b[0m\u001b[0;36m10\u001b[0m\u001b[0;34m,\u001b[0m\u001b[0;36m50\u001b[0m\u001b[0;34m,\u001b[0m\u001b[0;36m100\u001b[0m\u001b[0;34m]\u001b[0m\u001b[0;34m,\u001b[0m\u001b[0;34m\u001b[0m\u001b[0;34m\u001b[0m\u001b[0m\n\u001b[1;32m     84\u001b[0m }\n\u001b[0;32m---> 85\u001b[0;31m \u001b[0mresults\u001b[0m \u001b[0;34m=\u001b[0m \u001b[0mperform_experiment_batch\u001b[0m\u001b[0;34m(\u001b[0m\u001b[0mconfig\u001b[0m\u001b[0;34m)\u001b[0m\u001b[0;34m\u001b[0m\u001b[0;34m\u001b[0m\u001b[0m\n\u001b[0m",
      "\u001b[0;32m<ipython-input-3-1941da4c2898>\u001b[0m in \u001b[0;36mperform_experiment_batch\u001b[0;34m(config)\u001b[0m\n\u001b[1;32m     69\u001b[0m         \u001b[0mnew_config\u001b[0m\u001b[0;34m.\u001b[0m\u001b[0mupdate\u001b[0m\u001b[0;34m(\u001b[0m\u001b[0mconfigurable\u001b[0m\u001b[0;34m)\u001b[0m\u001b[0;34m\u001b[0m\u001b[0;34m\u001b[0m\u001b[0m\n\u001b[1;32m     70\u001b[0m \u001b[0;34m\u001b[0m\u001b[0m\n\u001b[0;32m---> 71\u001b[0;31m         \u001b[0mresult\u001b[0m \u001b[0;34m=\u001b[0m \u001b[0mexperiment_batch\u001b[0m\u001b[0;34m(\u001b[0m\u001b[0;34m**\u001b[0m\u001b[0mnew_config\u001b[0m\u001b[0;34m)\u001b[0m\u001b[0;34m\u001b[0m\u001b[0;34m\u001b[0m\u001b[0m\n\u001b[0m\u001b[1;32m     72\u001b[0m         \u001b[0mnew_config\u001b[0m\u001b[0;34m.\u001b[0m\u001b[0mupdate\u001b[0m\u001b[0;34m(\u001b[0m\u001b[0mresult\u001b[0m\u001b[0;34m)\u001b[0m\u001b[0;34m\u001b[0m\u001b[0;34m\u001b[0m\u001b[0m\n\u001b[1;32m     73\u001b[0m         \u001b[0mresults\u001b[0m\u001b[0;34m.\u001b[0m\u001b[0mappend\u001b[0m\u001b[0;34m(\u001b[0m\u001b[0mnew_config\u001b[0m\u001b[0;34m)\u001b[0m\u001b[0;34m\u001b[0m\u001b[0;34m\u001b[0m\u001b[0m\n",
      "\u001b[0;32m<ipython-input-3-1941da4c2898>\u001b[0m in \u001b[0;36mexperiment_batch\u001b[0;34m(warmup_req_count, total_req_count, batch_size, service_name, cpu_m)\u001b[0m\n\u001b[1;32m     26\u001b[0m         \u001b[0;32mtry\u001b[0m\u001b[0;34m:\u001b[0m\u001b[0;34m\u001b[0m\u001b[0;34m\u001b[0m\u001b[0m\n\u001b[1;32m     27\u001b[0m             \u001b[0;31m# discard the results\u001b[0m\u001b[0;34m\u001b[0m\u001b[0;34m\u001b[0m\u001b[0;34m\u001b[0m\u001b[0m\n\u001b[0;32m---> 28\u001b[0;31m             \u001b[0mrequest_funcs\u001b[0m\u001b[0;34m.\u001b[0m\u001b[0mworkload_funcs\u001b[0m\u001b[0;34m[\u001b[0m\u001b[0mservice_name\u001b[0m\u001b[0;34m]\u001b[0m\u001b[0;34m(\u001b[0m\u001b[0mbatch_size\u001b[0m\u001b[0;34m=\u001b[0m\u001b[0mbatch_size\u001b[0m\u001b[0;34m)\u001b[0m\u001b[0;34m\u001b[0m\u001b[0;34m\u001b[0m\u001b[0m\n\u001b[0m\u001b[1;32m     29\u001b[0m         \u001b[0;32mexcept\u001b[0m \u001b[0mException\u001b[0m\u001b[0;34m:\u001b[0m\u001b[0;34m\u001b[0m\u001b[0;34m\u001b[0m\u001b[0m\n\u001b[1;32m     30\u001b[0m             \u001b[0mprint\u001b[0m\u001b[0;34m(\u001b[0m\u001b[0;34m'exception occured:'\u001b[0m\u001b[0;34m)\u001b[0m\u001b[0;34m\u001b[0m\u001b[0;34m\u001b[0m\u001b[0m\n",
      "\u001b[0;32m~/serverless-ml-serving/experiments/helpers/request_funcs.py\u001b[0m in \u001b[0;36mrequest_bentoml_iris\u001b[0;34m(batch_size)\u001b[0m\n\u001b[1;32m     34\u001b[0m \u001b[0;32mdef\u001b[0m \u001b[0mrequest_bentoml_iris\u001b[0m\u001b[0;34m(\u001b[0m\u001b[0mbatch_size\u001b[0m\u001b[0;34m=\u001b[0m\u001b[0;36m1\u001b[0m\u001b[0;34m)\u001b[0m\u001b[0;34m:\u001b[0m\u001b[0;34m\u001b[0m\u001b[0;34m\u001b[0m\u001b[0m\n\u001b[1;32m     35\u001b[0m     \u001b[0mpredict_request\u001b[0m \u001b[0;34m=\u001b[0m \u001b[0mrandom\u001b[0m\u001b[0;34m.\u001b[0m\u001b[0mchoices\u001b[0m\u001b[0;34m(\u001b[0m\u001b[0miris_featurs\u001b[0m\u001b[0;34m,\u001b[0m \u001b[0mk\u001b[0m\u001b[0;34m=\u001b[0m\u001b[0mbatch_size\u001b[0m\u001b[0;34m)\u001b[0m\u001b[0;34m\u001b[0m\u001b[0;34m\u001b[0m\u001b[0m\n\u001b[0;32m---> 36\u001b[0;31m     response = requests.post(\n\u001b[0m\u001b[1;32m     37\u001b[0m         \u001b[0mdefault_server_urls\u001b[0m\u001b[0;34m[\u001b[0m\u001b[0mWORKLOAD_BENTOML_IRIS_NAME\u001b[0m\u001b[0;34m]\u001b[0m\u001b[0;34m,\u001b[0m \u001b[0mjson\u001b[0m\u001b[0;34m=\u001b[0m\u001b[0mpredict_request\u001b[0m\u001b[0;34m\u001b[0m\u001b[0;34m\u001b[0m\u001b[0m\n\u001b[1;32m     38\u001b[0m     )\n",
      "\u001b[0;32m~/miniconda/lib/python3.8/site-packages/requests/api.py\u001b[0m in \u001b[0;36mpost\u001b[0;34m(url, data, json, **kwargs)\u001b[0m\n\u001b[1;32m    117\u001b[0m     \"\"\"\n\u001b[1;32m    118\u001b[0m \u001b[0;34m\u001b[0m\u001b[0m\n\u001b[0;32m--> 119\u001b[0;31m     \u001b[0;32mreturn\u001b[0m \u001b[0mrequest\u001b[0m\u001b[0;34m(\u001b[0m\u001b[0;34m'post'\u001b[0m\u001b[0;34m,\u001b[0m \u001b[0murl\u001b[0m\u001b[0;34m,\u001b[0m \u001b[0mdata\u001b[0m\u001b[0;34m=\u001b[0m\u001b[0mdata\u001b[0m\u001b[0;34m,\u001b[0m \u001b[0mjson\u001b[0m\u001b[0;34m=\u001b[0m\u001b[0mjson\u001b[0m\u001b[0;34m,\u001b[0m \u001b[0;34m**\u001b[0m\u001b[0mkwargs\u001b[0m\u001b[0;34m)\u001b[0m\u001b[0;34m\u001b[0m\u001b[0;34m\u001b[0m\u001b[0m\n\u001b[0m\u001b[1;32m    120\u001b[0m \u001b[0;34m\u001b[0m\u001b[0m\n\u001b[1;32m    121\u001b[0m \u001b[0;34m\u001b[0m\u001b[0m\n",
      "\u001b[0;32m~/miniconda/lib/python3.8/site-packages/requests/api.py\u001b[0m in \u001b[0;36mrequest\u001b[0;34m(method, url, **kwargs)\u001b[0m\n\u001b[1;32m     59\u001b[0m     \u001b[0;31m# cases, and look like a memory leak in others.\u001b[0m\u001b[0;34m\u001b[0m\u001b[0;34m\u001b[0m\u001b[0;34m\u001b[0m\u001b[0m\n\u001b[1;32m     60\u001b[0m     \u001b[0;32mwith\u001b[0m \u001b[0msessions\u001b[0m\u001b[0;34m.\u001b[0m\u001b[0mSession\u001b[0m\u001b[0;34m(\u001b[0m\u001b[0;34m)\u001b[0m \u001b[0;32mas\u001b[0m \u001b[0msession\u001b[0m\u001b[0;34m:\u001b[0m\u001b[0;34m\u001b[0m\u001b[0;34m\u001b[0m\u001b[0m\n\u001b[0;32m---> 61\u001b[0;31m         \u001b[0;32mreturn\u001b[0m \u001b[0msession\u001b[0m\u001b[0;34m.\u001b[0m\u001b[0mrequest\u001b[0m\u001b[0;34m(\u001b[0m\u001b[0mmethod\u001b[0m\u001b[0;34m=\u001b[0m\u001b[0mmethod\u001b[0m\u001b[0;34m,\u001b[0m \u001b[0murl\u001b[0m\u001b[0;34m=\u001b[0m\u001b[0murl\u001b[0m\u001b[0;34m,\u001b[0m \u001b[0;34m**\u001b[0m\u001b[0mkwargs\u001b[0m\u001b[0;34m)\u001b[0m\u001b[0;34m\u001b[0m\u001b[0;34m\u001b[0m\u001b[0m\n\u001b[0m\u001b[1;32m     62\u001b[0m \u001b[0;34m\u001b[0m\u001b[0m\n\u001b[1;32m     63\u001b[0m \u001b[0;34m\u001b[0m\u001b[0m\n",
      "\u001b[0;32m~/miniconda/lib/python3.8/site-packages/requests/sessions.py\u001b[0m in \u001b[0;36mrequest\u001b[0;34m(self, method, url, params, data, headers, cookies, files, auth, timeout, allow_redirects, proxies, hooks, stream, verify, cert, json)\u001b[0m\n\u001b[1;32m    540\u001b[0m         }\n\u001b[1;32m    541\u001b[0m         \u001b[0msend_kwargs\u001b[0m\u001b[0;34m.\u001b[0m\u001b[0mupdate\u001b[0m\u001b[0;34m(\u001b[0m\u001b[0msettings\u001b[0m\u001b[0;34m)\u001b[0m\u001b[0;34m\u001b[0m\u001b[0;34m\u001b[0m\u001b[0m\n\u001b[0;32m--> 542\u001b[0;31m         \u001b[0mresp\u001b[0m \u001b[0;34m=\u001b[0m \u001b[0mself\u001b[0m\u001b[0;34m.\u001b[0m\u001b[0msend\u001b[0m\u001b[0;34m(\u001b[0m\u001b[0mprep\u001b[0m\u001b[0;34m,\u001b[0m \u001b[0;34m**\u001b[0m\u001b[0msend_kwargs\u001b[0m\u001b[0;34m)\u001b[0m\u001b[0;34m\u001b[0m\u001b[0;34m\u001b[0m\u001b[0m\n\u001b[0m\u001b[1;32m    543\u001b[0m \u001b[0;34m\u001b[0m\u001b[0m\n\u001b[1;32m    544\u001b[0m         \u001b[0;32mreturn\u001b[0m \u001b[0mresp\u001b[0m\u001b[0;34m\u001b[0m\u001b[0;34m\u001b[0m\u001b[0m\n",
      "\u001b[0;32m~/miniconda/lib/python3.8/site-packages/requests/sessions.py\u001b[0m in \u001b[0;36msend\u001b[0;34m(self, request, **kwargs)\u001b[0m\n\u001b[1;32m    653\u001b[0m \u001b[0;34m\u001b[0m\u001b[0m\n\u001b[1;32m    654\u001b[0m         \u001b[0;31m# Send the request\u001b[0m\u001b[0;34m\u001b[0m\u001b[0;34m\u001b[0m\u001b[0;34m\u001b[0m\u001b[0m\n\u001b[0;32m--> 655\u001b[0;31m         \u001b[0mr\u001b[0m \u001b[0;34m=\u001b[0m \u001b[0madapter\u001b[0m\u001b[0;34m.\u001b[0m\u001b[0msend\u001b[0m\u001b[0;34m(\u001b[0m\u001b[0mrequest\u001b[0m\u001b[0;34m,\u001b[0m \u001b[0;34m**\u001b[0m\u001b[0mkwargs\u001b[0m\u001b[0;34m)\u001b[0m\u001b[0;34m\u001b[0m\u001b[0;34m\u001b[0m\u001b[0m\n\u001b[0m\u001b[1;32m    656\u001b[0m \u001b[0;34m\u001b[0m\u001b[0m\n\u001b[1;32m    657\u001b[0m         \u001b[0;31m# Total elapsed time of the request (approximately)\u001b[0m\u001b[0;34m\u001b[0m\u001b[0;34m\u001b[0m\u001b[0;34m\u001b[0m\u001b[0m\n",
      "\u001b[0;32m~/miniconda/lib/python3.8/site-packages/requests/adapters.py\u001b[0m in \u001b[0;36msend\u001b[0;34m(self, request, stream, timeout, verify, cert, proxies)\u001b[0m\n\u001b[1;32m    437\u001b[0m         \u001b[0;32mtry\u001b[0m\u001b[0;34m:\u001b[0m\u001b[0;34m\u001b[0m\u001b[0;34m\u001b[0m\u001b[0m\n\u001b[1;32m    438\u001b[0m             \u001b[0;32mif\u001b[0m \u001b[0;32mnot\u001b[0m \u001b[0mchunked\u001b[0m\u001b[0;34m:\u001b[0m\u001b[0;34m\u001b[0m\u001b[0;34m\u001b[0m\u001b[0m\n\u001b[0;32m--> 439\u001b[0;31m                 resp = conn.urlopen(\n\u001b[0m\u001b[1;32m    440\u001b[0m                     \u001b[0mmethod\u001b[0m\u001b[0;34m=\u001b[0m\u001b[0mrequest\u001b[0m\u001b[0;34m.\u001b[0m\u001b[0mmethod\u001b[0m\u001b[0;34m,\u001b[0m\u001b[0;34m\u001b[0m\u001b[0;34m\u001b[0m\u001b[0m\n\u001b[1;32m    441\u001b[0m                     \u001b[0murl\u001b[0m\u001b[0;34m=\u001b[0m\u001b[0murl\u001b[0m\u001b[0;34m,\u001b[0m\u001b[0;34m\u001b[0m\u001b[0;34m\u001b[0m\u001b[0m\n",
      "\u001b[0;32m~/miniconda/lib/python3.8/site-packages/urllib3/connectionpool.py\u001b[0m in \u001b[0;36murlopen\u001b[0;34m(self, method, url, body, headers, retries, redirect, assert_same_host, timeout, pool_timeout, release_conn, chunked, body_pos, **response_kw)\u001b[0m\n\u001b[1;32m    668\u001b[0m \u001b[0;34m\u001b[0m\u001b[0m\n\u001b[1;32m    669\u001b[0m             \u001b[0;31m# Make the request on the httplib connection object.\u001b[0m\u001b[0;34m\u001b[0m\u001b[0;34m\u001b[0m\u001b[0;34m\u001b[0m\u001b[0m\n\u001b[0;32m--> 670\u001b[0;31m             httplib_response = self._make_request(\n\u001b[0m\u001b[1;32m    671\u001b[0m                 \u001b[0mconn\u001b[0m\u001b[0;34m,\u001b[0m\u001b[0;34m\u001b[0m\u001b[0;34m\u001b[0m\u001b[0m\n\u001b[1;32m    672\u001b[0m                 \u001b[0mmethod\u001b[0m\u001b[0;34m,\u001b[0m\u001b[0;34m\u001b[0m\u001b[0;34m\u001b[0m\u001b[0m\n",
      "\u001b[0;32m~/miniconda/lib/python3.8/site-packages/urllib3/connectionpool.py\u001b[0m in \u001b[0;36m_make_request\u001b[0;34m(self, conn, method, url, timeout, chunked, **httplib_request_kw)\u001b[0m\n\u001b[1;32m    424\u001b[0m                     \u001b[0;31m# Python 3 (including for exceptions like SystemExit).\u001b[0m\u001b[0;34m\u001b[0m\u001b[0;34m\u001b[0m\u001b[0;34m\u001b[0m\u001b[0m\n\u001b[1;32m    425\u001b[0m                     \u001b[0;31m# Otherwise it looks like a bug in the code.\u001b[0m\u001b[0;34m\u001b[0m\u001b[0;34m\u001b[0m\u001b[0;34m\u001b[0m\u001b[0m\n\u001b[0;32m--> 426\u001b[0;31m                     \u001b[0msix\u001b[0m\u001b[0;34m.\u001b[0m\u001b[0mraise_from\u001b[0m\u001b[0;34m(\u001b[0m\u001b[0me\u001b[0m\u001b[0;34m,\u001b[0m \u001b[0;32mNone\u001b[0m\u001b[0;34m)\u001b[0m\u001b[0;34m\u001b[0m\u001b[0;34m\u001b[0m\u001b[0m\n\u001b[0m\u001b[1;32m    427\u001b[0m         \u001b[0;32mexcept\u001b[0m \u001b[0;34m(\u001b[0m\u001b[0mSocketTimeout\u001b[0m\u001b[0;34m,\u001b[0m \u001b[0mBaseSSLError\u001b[0m\u001b[0;34m,\u001b[0m \u001b[0mSocketError\u001b[0m\u001b[0;34m)\u001b[0m \u001b[0;32mas\u001b[0m \u001b[0me\u001b[0m\u001b[0;34m:\u001b[0m\u001b[0;34m\u001b[0m\u001b[0;34m\u001b[0m\u001b[0m\n\u001b[1;32m    428\u001b[0m             \u001b[0mself\u001b[0m\u001b[0;34m.\u001b[0m\u001b[0m_raise_timeout\u001b[0m\u001b[0;34m(\u001b[0m\u001b[0merr\u001b[0m\u001b[0;34m=\u001b[0m\u001b[0me\u001b[0m\u001b[0;34m,\u001b[0m \u001b[0murl\u001b[0m\u001b[0;34m=\u001b[0m\u001b[0murl\u001b[0m\u001b[0;34m,\u001b[0m \u001b[0mtimeout_value\u001b[0m\u001b[0;34m=\u001b[0m\u001b[0mread_timeout\u001b[0m\u001b[0;34m)\u001b[0m\u001b[0;34m\u001b[0m\u001b[0;34m\u001b[0m\u001b[0m\n",
      "\u001b[0;32m~/miniconda/lib/python3.8/site-packages/urllib3/packages/six.py\u001b[0m in \u001b[0;36mraise_from\u001b[0;34m(value, from_value)\u001b[0m\n",
      "\u001b[0;32m~/miniconda/lib/python3.8/site-packages/urllib3/connectionpool.py\u001b[0m in \u001b[0;36m_make_request\u001b[0;34m(self, conn, method, url, timeout, chunked, **httplib_request_kw)\u001b[0m\n\u001b[1;32m    419\u001b[0m                 \u001b[0;31m# Python 3\u001b[0m\u001b[0;34m\u001b[0m\u001b[0;34m\u001b[0m\u001b[0;34m\u001b[0m\u001b[0m\n\u001b[1;32m    420\u001b[0m                 \u001b[0;32mtry\u001b[0m\u001b[0;34m:\u001b[0m\u001b[0;34m\u001b[0m\u001b[0;34m\u001b[0m\u001b[0m\n\u001b[0;32m--> 421\u001b[0;31m                     \u001b[0mhttplib_response\u001b[0m \u001b[0;34m=\u001b[0m \u001b[0mconn\u001b[0m\u001b[0;34m.\u001b[0m\u001b[0mgetresponse\u001b[0m\u001b[0;34m(\u001b[0m\u001b[0;34m)\u001b[0m\u001b[0;34m\u001b[0m\u001b[0;34m\u001b[0m\u001b[0m\n\u001b[0m\u001b[1;32m    422\u001b[0m                 \u001b[0;32mexcept\u001b[0m \u001b[0mBaseException\u001b[0m \u001b[0;32mas\u001b[0m \u001b[0me\u001b[0m\u001b[0;34m:\u001b[0m\u001b[0;34m\u001b[0m\u001b[0;34m\u001b[0m\u001b[0m\n\u001b[1;32m    423\u001b[0m                     \u001b[0;31m# Remove the TypeError from the exception chain in\u001b[0m\u001b[0;34m\u001b[0m\u001b[0;34m\u001b[0m\u001b[0;34m\u001b[0m\u001b[0m\n",
      "\u001b[0;32m~/miniconda/lib/python3.8/http/client.py\u001b[0m in \u001b[0;36mgetresponse\u001b[0;34m(self)\u001b[0m\n\u001b[1;32m   1345\u001b[0m         \u001b[0;32mtry\u001b[0m\u001b[0;34m:\u001b[0m\u001b[0;34m\u001b[0m\u001b[0;34m\u001b[0m\u001b[0m\n\u001b[1;32m   1346\u001b[0m             \u001b[0;32mtry\u001b[0m\u001b[0;34m:\u001b[0m\u001b[0;34m\u001b[0m\u001b[0;34m\u001b[0m\u001b[0m\n\u001b[0;32m-> 1347\u001b[0;31m                 \u001b[0mresponse\u001b[0m\u001b[0;34m.\u001b[0m\u001b[0mbegin\u001b[0m\u001b[0;34m(\u001b[0m\u001b[0;34m)\u001b[0m\u001b[0;34m\u001b[0m\u001b[0;34m\u001b[0m\u001b[0m\n\u001b[0m\u001b[1;32m   1348\u001b[0m             \u001b[0;32mexcept\u001b[0m \u001b[0mConnectionError\u001b[0m\u001b[0;34m:\u001b[0m\u001b[0;34m\u001b[0m\u001b[0;34m\u001b[0m\u001b[0m\n\u001b[1;32m   1349\u001b[0m                 \u001b[0mself\u001b[0m\u001b[0;34m.\u001b[0m\u001b[0mclose\u001b[0m\u001b[0;34m(\u001b[0m\u001b[0;34m)\u001b[0m\u001b[0;34m\u001b[0m\u001b[0;34m\u001b[0m\u001b[0m\n",
      "\u001b[0;32m~/miniconda/lib/python3.8/http/client.py\u001b[0m in \u001b[0;36mbegin\u001b[0;34m(self)\u001b[0m\n\u001b[1;32m    305\u001b[0m         \u001b[0;31m# read until we get a non-100 response\u001b[0m\u001b[0;34m\u001b[0m\u001b[0;34m\u001b[0m\u001b[0;34m\u001b[0m\u001b[0m\n\u001b[1;32m    306\u001b[0m         \u001b[0;32mwhile\u001b[0m \u001b[0;32mTrue\u001b[0m\u001b[0;34m:\u001b[0m\u001b[0;34m\u001b[0m\u001b[0;34m\u001b[0m\u001b[0m\n\u001b[0;32m--> 307\u001b[0;31m             \u001b[0mversion\u001b[0m\u001b[0;34m,\u001b[0m \u001b[0mstatus\u001b[0m\u001b[0;34m,\u001b[0m \u001b[0mreason\u001b[0m \u001b[0;34m=\u001b[0m \u001b[0mself\u001b[0m\u001b[0;34m.\u001b[0m\u001b[0m_read_status\u001b[0m\u001b[0;34m(\u001b[0m\u001b[0;34m)\u001b[0m\u001b[0;34m\u001b[0m\u001b[0;34m\u001b[0m\u001b[0m\n\u001b[0m\u001b[1;32m    308\u001b[0m             \u001b[0;32mif\u001b[0m \u001b[0mstatus\u001b[0m \u001b[0;34m!=\u001b[0m \u001b[0mCONTINUE\u001b[0m\u001b[0;34m:\u001b[0m\u001b[0;34m\u001b[0m\u001b[0;34m\u001b[0m\u001b[0m\n\u001b[1;32m    309\u001b[0m                 \u001b[0;32mbreak\u001b[0m\u001b[0;34m\u001b[0m\u001b[0;34m\u001b[0m\u001b[0m\n",
      "\u001b[0;32m~/miniconda/lib/python3.8/http/client.py\u001b[0m in \u001b[0;36m_read_status\u001b[0;34m(self)\u001b[0m\n\u001b[1;32m    266\u001b[0m \u001b[0;34m\u001b[0m\u001b[0m\n\u001b[1;32m    267\u001b[0m     \u001b[0;32mdef\u001b[0m \u001b[0m_read_status\u001b[0m\u001b[0;34m(\u001b[0m\u001b[0mself\u001b[0m\u001b[0;34m)\u001b[0m\u001b[0;34m:\u001b[0m\u001b[0;34m\u001b[0m\u001b[0;34m\u001b[0m\u001b[0m\n\u001b[0;32m--> 268\u001b[0;31m         \u001b[0mline\u001b[0m \u001b[0;34m=\u001b[0m \u001b[0mstr\u001b[0m\u001b[0;34m(\u001b[0m\u001b[0mself\u001b[0m\u001b[0;34m.\u001b[0m\u001b[0mfp\u001b[0m\u001b[0;34m.\u001b[0m\u001b[0mreadline\u001b[0m\u001b[0;34m(\u001b[0m\u001b[0m_MAXLINE\u001b[0m \u001b[0;34m+\u001b[0m \u001b[0;36m1\u001b[0m\u001b[0;34m)\u001b[0m\u001b[0;34m,\u001b[0m \u001b[0;34m\"iso-8859-1\"\u001b[0m\u001b[0;34m)\u001b[0m\u001b[0;34m\u001b[0m\u001b[0;34m\u001b[0m\u001b[0m\n\u001b[0m\u001b[1;32m    269\u001b[0m         \u001b[0;32mif\u001b[0m \u001b[0mlen\u001b[0m\u001b[0;34m(\u001b[0m\u001b[0mline\u001b[0m\u001b[0;34m)\u001b[0m \u001b[0;34m>\u001b[0m \u001b[0m_MAXLINE\u001b[0m\u001b[0;34m:\u001b[0m\u001b[0;34m\u001b[0m\u001b[0;34m\u001b[0m\u001b[0m\n\u001b[1;32m    270\u001b[0m             \u001b[0;32mraise\u001b[0m \u001b[0mLineTooLong\u001b[0m\u001b[0;34m(\u001b[0m\u001b[0;34m\"status line\"\u001b[0m\u001b[0;34m)\u001b[0m\u001b[0;34m\u001b[0m\u001b[0;34m\u001b[0m\u001b[0m\n",
      "\u001b[0;32m~/miniconda/lib/python3.8/socket.py\u001b[0m in \u001b[0;36mreadinto\u001b[0;34m(self, b)\u001b[0m\n\u001b[1;32m    667\u001b[0m         \u001b[0;32mwhile\u001b[0m \u001b[0;32mTrue\u001b[0m\u001b[0;34m:\u001b[0m\u001b[0;34m\u001b[0m\u001b[0;34m\u001b[0m\u001b[0m\n\u001b[1;32m    668\u001b[0m             \u001b[0;32mtry\u001b[0m\u001b[0;34m:\u001b[0m\u001b[0;34m\u001b[0m\u001b[0;34m\u001b[0m\u001b[0m\n\u001b[0;32m--> 669\u001b[0;31m                 \u001b[0;32mreturn\u001b[0m \u001b[0mself\u001b[0m\u001b[0;34m.\u001b[0m\u001b[0m_sock\u001b[0m\u001b[0;34m.\u001b[0m\u001b[0mrecv_into\u001b[0m\u001b[0;34m(\u001b[0m\u001b[0mb\u001b[0m\u001b[0;34m)\u001b[0m\u001b[0;34m\u001b[0m\u001b[0;34m\u001b[0m\u001b[0m\n\u001b[0m\u001b[1;32m    670\u001b[0m             \u001b[0;32mexcept\u001b[0m \u001b[0mtimeout\u001b[0m\u001b[0;34m:\u001b[0m\u001b[0;34m\u001b[0m\u001b[0;34m\u001b[0m\u001b[0m\n\u001b[1;32m    671\u001b[0m                 \u001b[0mself\u001b[0m\u001b[0;34m.\u001b[0m\u001b[0m_timeout_occurred\u001b[0m \u001b[0;34m=\u001b[0m \u001b[0;32mTrue\u001b[0m\u001b[0;34m\u001b[0m\u001b[0;34m\u001b[0m\u001b[0m\n",
      "\u001b[0;31mKeyboardInterrupt\u001b[0m: "
     ]
    }
   ],
   "source": [
    "def experiment_batch(warmup_req_count, total_req_count, batch_size, service_name, cpu_m):\n",
    "    # apply new cpu configuration to the deployment\n",
    "    ram_mb = int(cpu_m * 1.5)\n",
    "    request_limit_override = f\"'cpu={cpu_m}m,memory={ram_mb}Mi'\"\n",
    "    print('Request Limit Overrid:', request_limit_override)\n",
    "\n",
    "    workload_spec = workload_configs[service_name]\n",
    "    # override request and limit values\n",
    "    workload_spec['opts']['--request'] = request_limit_override\n",
    "    workload_spec['opts']['--limit'] = request_limit_override\n",
    "    kn_command = kube.get_kn_command(**workload_spec)\n",
    "    print(kn_command)\n",
    "    !{kn_command}\n",
    "    print('waiting for settings to converge')\n",
    "    time.sleep(10)\n",
    "\n",
    "    # an array as the same length as \n",
    "    batch_results = {\n",
    "        'response_times_ms': [],\n",
    "    }\n",
    "    reqs_failed = 0\n",
    "    reqs_succeeded = 0\n",
    "\n",
    "    print('warming up...')\n",
    "    for _ in range(warmup_req_count):\n",
    "        try:\n",
    "            # discard the results\n",
    "            request_funcs.workload_funcs[service_name](batch_size=batch_size)\n",
    "        except Exception:\n",
    "            print('exception occured:')\n",
    "            traceback.print_exc()\n",
    "\n",
    "    # running the main workload\n",
    "    print(f'running {service_name} workload function, batch_size: {batch_size}')\n",
    "    for _ in tqdm(range(total_req_count)):\n",
    "        try:\n",
    "            result = request_funcs.workload_funcs[service_name](batch_size=batch_size)\n",
    "            batch_results['response_times_ms'].append(result['response_time_ms'])\n",
    "            reqs_succeeded += 1\n",
    "        except Exception:\n",
    "            print('exception occured:')\n",
    "            traceback.print_exc()\n",
    "            reqs_failed += 1\n",
    "\n",
    "    batch_results.update({\n",
    "        'reqs_failed': reqs_failed,\n",
    "        'reqs_succeeded': reqs_succeeded,\n",
    "        'ram_mb': ram_mb,\n",
    "    })\n",
    "\n",
    "    return batch_results\n",
    "\n",
    "def perform_experiment_batch(config):\n",
    "    # configurables = ['batch_size']\n",
    "    configurables = [k for k in config if isinstance(config[k], list)]\n",
    "    print(f'configurables: {configurables}')\n",
    "\n",
    "    # make a copy of config\n",
    "    config_base = {k:config[k] for k in config if k not in configurables}\n",
    "    configurable_base = {k:config[k] for k in config if k in configurables}\n",
    "\n",
    "    results = []\n",
    "    config_combinations_keys = list(configurable_base.keys())\n",
    "    for config_combination in itertools.product(*configurable_base.values()):\n",
    "        configurable = {config_combinations_keys[i]: config_combination[i]  for i in range(len(config_combinations_keys))}\n",
    "        \n",
    "        print(configurable)\n",
    "        new_config = {**config_base}\n",
    "        new_config.update(configurable)\n",
    "\n",
    "        result = experiment_batch(**new_config)\n",
    "        new_config.update(result)\n",
    "        results.append(new_config)\n",
    "        \n",
    "    return results\n",
    "\n",
    "config = {\n",
    "    'warmup_req_count': 20,\n",
    "    'total_req_count': 10,\n",
    "    'service_name': 'bentoml-iris',\n",
    "    # cpu_m should always be the first to avoid changing deployment too much\n",
    "    'cpu_m': [250,1000],\n",
    "    'batch_size': [1,10,50,100],\n",
    "}\n",
    "results = perform_experiment_batch(config)"
   ]
  },
  {
   "cell_type": "code",
   "execution_count": 4,
   "metadata": {
    "execution": {
     "iopub.execute_input": "2021-05-10T14:15:12.071413Z",
     "iopub.status.busy": "2021-05-10T14:15:12.070521Z",
     "iopub.status.idle": "2021-05-10T14:15:12.181669Z",
     "shell.execute_reply": "2021-05-10T14:15:12.182392Z"
    }
   },
   "outputs": [
    {
     "data": {
      "text/html": [
       "<div>\n",
       "<style scoped>\n",
       "    .dataframe tbody tr th:only-of-type {\n",
       "        vertical-align: middle;\n",
       "    }\n",
       "\n",
       "    .dataframe tbody tr th {\n",
       "        vertical-align: top;\n",
       "    }\n",
       "\n",
       "    .dataframe thead th {\n",
       "        text-align: right;\n",
       "    }\n",
       "</style>\n",
       "<table border=\"1\" class=\"dataframe\">\n",
       "  <thead>\n",
       "    <tr style=\"text-align: right;\">\n",
       "      <th></th>\n",
       "      <th>warmup_req_count</th>\n",
       "      <th>total_req_count</th>\n",
       "      <th>service_name</th>\n",
       "      <th>batch_size</th>\n",
       "      <th>cpu_m</th>\n",
       "      <th>response_times_ms</th>\n",
       "      <th>reqs_failed</th>\n",
       "      <th>reqs_succeeded</th>\n",
       "      <th>ram_mb</th>\n",
       "    </tr>\n",
       "  </thead>\n",
       "  <tbody>\n",
       "    <tr>\n",
       "      <th>0</th>\n",
       "      <td>20</td>\n",
       "      <td>10</td>\n",
       "      <td>bentoml-iris</td>\n",
       "      <td>1</td>\n",
       "      <td>250</td>\n",
       "      <td>[25.247, 18.166, 20.366, 73.077, 21.473, 76.03...</td>\n",
       "      <td>0</td>\n",
       "      <td>10</td>\n",
       "      <td>375</td>\n",
       "    </tr>\n",
       "    <tr>\n",
       "      <th>1</th>\n",
       "      <td>20</td>\n",
       "      <td>10</td>\n",
       "      <td>bentoml-iris</td>\n",
       "      <td>1</td>\n",
       "      <td>1000</td>\n",
       "      <td>[20.070999999999998, 17.647, 20.36900000000000...</td>\n",
       "      <td>0</td>\n",
       "      <td>10</td>\n",
       "      <td>1500</td>\n",
       "    </tr>\n",
       "    <tr>\n",
       "      <th>2</th>\n",
       "      <td>20</td>\n",
       "      <td>10</td>\n",
       "      <td>bentoml-iris</td>\n",
       "      <td>10</td>\n",
       "      <td>250</td>\n",
       "      <td>[26.223, 50.69, 91.308, 87.798, 24.36200000000...</td>\n",
       "      <td>0</td>\n",
       "      <td>10</td>\n",
       "      <td>375</td>\n",
       "    </tr>\n",
       "    <tr>\n",
       "      <th>3</th>\n",
       "      <td>20</td>\n",
       "      <td>10</td>\n",
       "      <td>bentoml-iris</td>\n",
       "      <td>10</td>\n",
       "      <td>1000</td>\n",
       "      <td>[26.581, 27.768, 22.821, 22.174, 21.527, 38.28...</td>\n",
       "      <td>0</td>\n",
       "      <td>10</td>\n",
       "      <td>1500</td>\n",
       "    </tr>\n",
       "    <tr>\n",
       "      <th>4</th>\n",
       "      <td>20</td>\n",
       "      <td>10</td>\n",
       "      <td>bentoml-iris</td>\n",
       "      <td>50</td>\n",
       "      <td>250</td>\n",
       "      <td>[264.73999999999995, 55.063, 35.802, 61.022, 3...</td>\n",
       "      <td>0</td>\n",
       "      <td>10</td>\n",
       "      <td>375</td>\n",
       "    </tr>\n",
       "    <tr>\n",
       "      <th>5</th>\n",
       "      <td>20</td>\n",
       "      <td>10</td>\n",
       "      <td>bentoml-iris</td>\n",
       "      <td>50</td>\n",
       "      <td>1000</td>\n",
       "      <td>[18.764, 34.611999999999995, 35.161, 34.553, 2...</td>\n",
       "      <td>0</td>\n",
       "      <td>10</td>\n",
       "      <td>1500</td>\n",
       "    </tr>\n",
       "    <tr>\n",
       "      <th>6</th>\n",
       "      <td>20</td>\n",
       "      <td>10</td>\n",
       "      <td>bentoml-iris</td>\n",
       "      <td>100</td>\n",
       "      <td>250</td>\n",
       "      <td>[72.015, 91.828, 89.056, 44.651999999999994, 5...</td>\n",
       "      <td>0</td>\n",
       "      <td>10</td>\n",
       "      <td>375</td>\n",
       "    </tr>\n",
       "    <tr>\n",
       "      <th>7</th>\n",
       "      <td>20</td>\n",
       "      <td>10</td>\n",
       "      <td>bentoml-iris</td>\n",
       "      <td>100</td>\n",
       "      <td>1000</td>\n",
       "      <td>[44.786, 49.463, 49.873, 38.864000000000004, 7...</td>\n",
       "      <td>0</td>\n",
       "      <td>10</td>\n",
       "      <td>1500</td>\n",
       "    </tr>\n",
       "  </tbody>\n",
       "</table>\n",
       "</div>"
      ],
      "text/plain": [
       "   warmup_req_count  total_req_count  service_name  batch_size  cpu_m  \\\n",
       "0                20               10  bentoml-iris           1    250   \n",
       "1                20               10  bentoml-iris           1   1000   \n",
       "2                20               10  bentoml-iris          10    250   \n",
       "3                20               10  bentoml-iris          10   1000   \n",
       "4                20               10  bentoml-iris          50    250   \n",
       "5                20               10  bentoml-iris          50   1000   \n",
       "6                20               10  bentoml-iris         100    250   \n",
       "7                20               10  bentoml-iris         100   1000   \n",
       "\n",
       "                                   response_times_ms  reqs_failed  \\\n",
       "0  [25.247, 18.166, 20.366, 73.077, 21.473, 76.03...            0   \n",
       "1  [20.070999999999998, 17.647, 20.36900000000000...            0   \n",
       "2  [26.223, 50.69, 91.308, 87.798, 24.36200000000...            0   \n",
       "3  [26.581, 27.768, 22.821, 22.174, 21.527, 38.28...            0   \n",
       "4  [264.73999999999995, 55.063, 35.802, 61.022, 3...            0   \n",
       "5  [18.764, 34.611999999999995, 35.161, 34.553, 2...            0   \n",
       "6  [72.015, 91.828, 89.056, 44.651999999999994, 5...            0   \n",
       "7  [44.786, 49.463, 49.873, 38.864000000000004, 7...            0   \n",
       "\n",
       "   reqs_succeeded  ram_mb  \n",
       "0              10     375  \n",
       "1              10    1500  \n",
       "2              10     375  \n",
       "3              10    1500  \n",
       "4              10     375  \n",
       "5              10    1500  \n",
       "6              10     375  \n",
       "7              10    1500  "
      ]
     },
     "execution_count": 1,
     "metadata": {},
     "output_type": "execute_result"
    }
   ],
   "source": [
    "import pandas as pd\n",
    "import numpy as np\n",
    "import matplotlib.pyplot as plt\n",
    "\n",
    "def post_process(df):\n",
    "    df['resp_time_avg'] = df.apply(lambda x: np.mean(x['response_times_ms']), axis=1)\n",
    "    for percentile in [50,90,95,99]:\n",
    "        df[f'resp_time_p{percentile}'] = df.apply(lambda x: np.percentile(x['response_times_ms'], percentile), axis=1)\n",
    "    return df\n",
    "\n",
    "\n",
    "df = pd.DataFrame(data=results)\n",
    "# df = post_process(df)\n",
    "df"
   ]
  },
  {
   "cell_type": "code",
   "execution_count": 5,
   "metadata": {
    "execution": {
     "iopub.execute_input": "2021-05-10T14:15:12.186107Z",
     "iopub.status.busy": "2021-05-10T14:15:12.185232Z",
     "iopub.status.idle": "2021-05-11T13:38:49.173887Z",
     "shell.execute_reply": "2021-05-11T13:38:49.174652Z"
    }
   },
   "outputs": [
    {
     "name": "stdout",
     "output_type": "stream",
     "text": [
      "configurables: ['batch_size', 'cpu_m']\n",
      "{'batch_size': 1, 'cpu_m': 250}\n",
      "Request Limit Overrid: 'cpu=250m,memory=375Mi'\n",
      "kn service apply tfserving-resnetv2 --image ghcr.io/nimamahmoudi/tfserving-resnet:20210429213000 \\\n",
      "  --limit 'cpu=250m,memory=375Mi' \\\n",
      "  --request 'cpu=250m,memory=375Mi' \\\n",
      "  --port 5000 \\\n",
      "  -a autoscaling.knative.dev/target=1 \\\n",
      "  -a autoscaling.knative.dev/metric=concurrency\n",
      "No changes to apply to service 'tfserving-resnetv2'.\r\n",
      "Service 'tfserving-resnetv2' with latest revision 'tfserving-resnetv2-00050' (unchanged) is available at URL:\r\n",
      "http://tfserving-resnetv2.default.kn.nima-dev.com\r\n",
      "waiting for settings to converge\n",
      "warming up...\n",
      "running tfserving-resnetv2 workload function, batch_size: 1\n"
     ]
    },
    {
     "data": {
      "application/vnd.jupyter.widget-view+json": {
       "model_id": "371355f34bb14219ae9a56e51d5b2ff4",
       "version_major": 2,
       "version_minor": 0
      },
      "text/plain": [
       "  0%|          | 0/1000 [00:00<?, ?it/s]"
      ]
     },
     "metadata": {},
     "output_type": "display_data"
    },
    {
     "name": "stdout",
     "output_type": "stream",
     "text": [
      "{'batch_size': 1, 'cpu_m': 500}\n",
      "Request Limit Overrid: 'cpu=500m,memory=750Mi'\n",
      "kn service apply tfserving-resnetv2 --image ghcr.io/nimamahmoudi/tfserving-resnet:20210429213000 \\\n",
      "  --limit 'cpu=500m,memory=750Mi' \\\n",
      "  --request 'cpu=500m,memory=750Mi' \\\n",
      "  --port 5000 \\\n",
      "  -a autoscaling.knative.dev/target=1 \\\n",
      "  -a autoscaling.knative.dev/metric=concurrency\n",
      "Applying service 'tfserving-resnetv2' in namespace 'default':\r\n",
      "\r\n",
      "  0.101s The Configuration is still working to reflect the latest desired specification.\r\n",
      "  8.471s Traffic is not yet migrated to the latest revision.\r\n",
      "  8.535s Ingress has not yet been reconciled.\r\n",
      "  8.567s Waiting for load balancer to be ready\r\n",
      "  8.792s Ready to serve.\r\n",
      "\r\n",
      "Service 'tfserving-resnetv2' applied to latest revision 'tfserving-resnetv2-00051' is available at URL:\r\n",
      "http://tfserving-resnetv2.default.kn.nima-dev.com\r\n",
      "waiting for settings to converge\n",
      "warming up...\n",
      "running tfserving-resnetv2 workload function, batch_size: 1\n"
     ]
    },
    {
     "data": {
      "application/vnd.jupyter.widget-view+json": {
       "model_id": "5d76687272844ce4ac472b7c8ac1d280",
       "version_major": 2,
       "version_minor": 0
      },
      "text/plain": [
       "  0%|          | 0/1000 [00:00<?, ?it/s]"
      ]
     },
     "metadata": {},
     "output_type": "display_data"
    },
    {
     "name": "stdout",
     "output_type": "stream",
     "text": [
      "{'batch_size': 1, 'cpu_m': 1000}\n",
      "Request Limit Overrid: 'cpu=1000m,memory=1500Mi'\n",
      "kn service apply tfserving-resnetv2 --image ghcr.io/nimamahmoudi/tfserving-resnet:20210429213000 \\\n",
      "  --limit 'cpu=1000m,memory=1500Mi' \\\n",
      "  --request 'cpu=1000m,memory=1500Mi' \\\n",
      "  --port 5000 \\\n",
      "  -a autoscaling.knative.dev/target=1 \\\n",
      "  -a autoscaling.knative.dev/metric=concurrency\n",
      "Applying service 'tfserving-resnetv2' in namespace 'default':\r\n",
      "\r\n",
      "  0.067s The Configuration is still working to reflect the latest desired specification.\r\n",
      "  4.420s Traffic is not yet migrated to the latest revision.\r\n",
      "  4.500s Ingress has not yet been reconciled.\r\n",
      "  4.600s Waiting for load balancer to be ready\r\n",
      "  4.808s Ready to serve.\r\n",
      "\r\n",
      "Service 'tfserving-resnetv2' applied to latest revision 'tfserving-resnetv2-00052' is available at URL:\r\n",
      "http://tfserving-resnetv2.default.kn.nima-dev.com\r\n",
      "waiting for settings to converge\n",
      "warming up...\n",
      "running tfserving-resnetv2 workload function, batch_size: 1\n"
     ]
    },
    {
     "data": {
      "application/vnd.jupyter.widget-view+json": {
       "model_id": "97f186bfb8d6429388f133f5d48866b2",
       "version_major": 2,
       "version_minor": 0
      },
      "text/plain": [
       "  0%|          | 0/1000 [00:00<?, ?it/s]"
      ]
     },
     "metadata": {},
     "output_type": "display_data"
    },
    {
     "name": "stdout",
     "output_type": "stream",
     "text": [
      "{'batch_size': 1, 'cpu_m': 1500}\n",
      "Request Limit Overrid: 'cpu=1500m,memory=2250Mi'\n",
      "kn service apply tfserving-resnetv2 --image ghcr.io/nimamahmoudi/tfserving-resnet:20210429213000 \\\n",
      "  --limit 'cpu=1500m,memory=2250Mi' \\\n",
      "  --request 'cpu=1500m,memory=2250Mi' \\\n",
      "  --port 5000 \\\n",
      "  -a autoscaling.knative.dev/target=1 \\\n",
      "  -a autoscaling.knative.dev/metric=concurrency\n",
      "Applying service 'tfserving-resnetv2' in namespace 'default':\r\n",
      "\r\n",
      "  0.287s The Configuration is still working to reflect the latest desired specification.\r\n",
      "  9.356s Traffic is not yet migrated to the latest revision.\r\n",
      "  9.425s Ingress has not yet been reconciled.\r\n",
      "  9.494s Waiting for load balancer to be ready\r\n",
      "  9.712s Ready to serve.\r\n",
      "\r\n",
      "Service 'tfserving-resnetv2' applied to latest revision 'tfserving-resnetv2-00053' is available at URL:\r\n",
      "http://tfserving-resnetv2.default.kn.nima-dev.com\r\n",
      "waiting for settings to converge\n",
      "warming up...\n",
      "running tfserving-resnetv2 workload function, batch_size: 1\n"
     ]
    },
    {
     "data": {
      "application/vnd.jupyter.widget-view+json": {
       "model_id": "5a6d4655592441a4a614565662550d6f",
       "version_major": 2,
       "version_minor": 0
      },
      "text/plain": [
       "  0%|          | 0/1000 [00:00<?, ?it/s]"
      ]
     },
     "metadata": {},
     "output_type": "display_data"
    },
    {
     "name": "stdout",
     "output_type": "stream",
     "text": [
      "{'batch_size': 1, 'cpu_m': 2000}\n",
      "Request Limit Overrid: 'cpu=2000m,memory=3000Mi'\n",
      "kn service apply tfserving-resnetv2 --image ghcr.io/nimamahmoudi/tfserving-resnet:20210429213000 \\\n",
      "  --limit 'cpu=2000m,memory=3000Mi' \\\n",
      "  --request 'cpu=2000m,memory=3000Mi' \\\n",
      "  --port 5000 \\\n",
      "  -a autoscaling.knative.dev/target=1 \\\n",
      "  -a autoscaling.knative.dev/metric=concurrency\n",
      "Applying service 'tfserving-resnetv2' in namespace 'default':\r\n",
      "\r\n",
      "  0.104s The Configuration is still working to reflect the latest desired specification.\r\n",
      "  5.051s Traffic is not yet migrated to the latest revision.\r\n",
      "  5.151s Ingress has not yet been reconciled.\r\n",
      "  5.394s Ready to serve.\r\n",
      "\r\n",
      "Service 'tfserving-resnetv2' applied to latest revision 'tfserving-resnetv2-00054' is available at URL:\r\n",
      "http://tfserving-resnetv2.default.kn.nima-dev.com\r\n",
      "waiting for settings to converge\n",
      "warming up...\n",
      "running tfserving-resnetv2 workload function, batch_size: 1\n"
     ]
    },
    {
     "data": {
      "application/vnd.jupyter.widget-view+json": {
       "model_id": "744e7d49a88c462996b6f7f6a6d6b1e0",
       "version_major": 2,
       "version_minor": 0
      },
      "text/plain": [
       "  0%|          | 0/1000 [00:00<?, ?it/s]"
      ]
     },
     "metadata": {},
     "output_type": "display_data"
    },
    {
     "name": "stdout",
     "output_type": "stream",
     "text": [
      "{'batch_size': 2, 'cpu_m': 250}\n",
      "Request Limit Overrid: 'cpu=250m,memory=375Mi'\n",
      "kn service apply tfserving-resnetv2 --image ghcr.io/nimamahmoudi/tfserving-resnet:20210429213000 \\\n",
      "  --limit 'cpu=250m,memory=375Mi' \\\n",
      "  --request 'cpu=250m,memory=375Mi' \\\n",
      "  --port 5000 \\\n",
      "  -a autoscaling.knative.dev/target=1 \\\n",
      "  -a autoscaling.knative.dev/metric=concurrency\n",
      "Applying service 'tfserving-resnetv2' in namespace 'default':\r\n",
      "\r\n",
      "  0.296s The Configuration is still working to reflect the latest desired specification.\r\n",
      "  6.559s Traffic is not yet migrated to the latest revision.\r\n",
      "  6.624s Ingress has not yet been reconciled.\r\n",
      "  6.667s Waiting for load balancer to be ready\r\n",
      "  6.860s Ready to serve.\r\n",
      "\r\n",
      "Service 'tfserving-resnetv2' applied to latest revision 'tfserving-resnetv2-00055' is available at URL:\r\n",
      "http://tfserving-resnetv2.default.kn.nima-dev.com\r\n",
      "waiting for settings to converge\n",
      "warming up...\n",
      "running tfserving-resnetv2 workload function, batch_size: 2\n"
     ]
    },
    {
     "data": {
      "application/vnd.jupyter.widget-view+json": {
       "model_id": "e63c5721c7e14f53bab488c806b63608",
       "version_major": 2,
       "version_minor": 0
      },
      "text/plain": [
       "  0%|          | 0/1000 [00:00<?, ?it/s]"
      ]
     },
     "metadata": {},
     "output_type": "display_data"
    },
    {
     "name": "stdout",
     "output_type": "stream",
     "text": [
      "{'batch_size': 2, 'cpu_m': 500}\n",
      "Request Limit Overrid: 'cpu=500m,memory=750Mi'\n",
      "kn service apply tfserving-resnetv2 --image ghcr.io/nimamahmoudi/tfserving-resnet:20210429213000 \\\n",
      "  --limit 'cpu=500m,memory=750Mi' \\\n",
      "  --request 'cpu=500m,memory=750Mi' \\\n",
      "  --port 5000 \\\n",
      "  -a autoscaling.knative.dev/target=1 \\\n",
      "  -a autoscaling.knative.dev/metric=concurrency\n",
      "Applying service 'tfserving-resnetv2' in namespace 'default':\r\n",
      "\r\n",
      "  0.079s The Configuration is still working to reflect the latest desired specification.\r\n",
      "  5.740s Traffic is not yet migrated to the latest revision.\r\n",
      "  5.775s Ingress has not yet been reconciled.\r\n",
      "  5.873s Waiting for load balancer to be ready\r\n",
      "  6.019s Ready to serve.\r\n",
      "\r\n",
      "Service 'tfserving-resnetv2' applied to latest revision 'tfserving-resnetv2-00056' is available at URL:\r\n",
      "http://tfserving-resnetv2.default.kn.nima-dev.com\r\n",
      "waiting for settings to converge\n",
      "warming up...\n",
      "running tfserving-resnetv2 workload function, batch_size: 2\n"
     ]
    },
    {
     "data": {
      "application/vnd.jupyter.widget-view+json": {
       "model_id": "7965d3cec6ce4dd5b102406b81d68d13",
       "version_major": 2,
       "version_minor": 0
      },
      "text/plain": [
       "  0%|          | 0/1000 [00:00<?, ?it/s]"
      ]
     },
     "metadata": {},
     "output_type": "display_data"
    },
    {
     "name": "stdout",
     "output_type": "stream",
     "text": [
      "{'batch_size': 2, 'cpu_m': 1000}\n",
      "Request Limit Overrid: 'cpu=1000m,memory=1500Mi'\n",
      "kn service apply tfserving-resnetv2 --image ghcr.io/nimamahmoudi/tfserving-resnet:20210429213000 \\\n",
      "  --limit 'cpu=1000m,memory=1500Mi' \\\n",
      "  --request 'cpu=1000m,memory=1500Mi' \\\n",
      "  --port 5000 \\\n",
      "  -a autoscaling.knative.dev/target=1 \\\n",
      "  -a autoscaling.knative.dev/metric=concurrency\n",
      "Applying service 'tfserving-resnetv2' in namespace 'default':\r\n",
      "\r\n",
      "  0.058s The Configuration is still working to reflect the latest desired specification.\r\n",
      "  9.607s Traffic is not yet migrated to the latest revision.\r\n",
      "  9.690s Ingress has not yet been reconciled.\r\n",
      "  9.779s Waiting for load balancer to be ready\r\n",
      " 10.101s Ready to serve.\r\n",
      "\r\n",
      "Service 'tfserving-resnetv2' applied to latest revision 'tfserving-resnetv2-00057' is available at URL:\r\n",
      "http://tfserving-resnetv2.default.kn.nima-dev.com\r\n",
      "waiting for settings to converge\n",
      "warming up...\n",
      "running tfserving-resnetv2 workload function, batch_size: 2\n"
     ]
    },
    {
     "data": {
      "application/vnd.jupyter.widget-view+json": {
       "model_id": "4448d84cce9249cb99276c203b831dc7",
       "version_major": 2,
       "version_minor": 0
      },
      "text/plain": [
       "  0%|          | 0/1000 [00:00<?, ?it/s]"
      ]
     },
     "metadata": {},
     "output_type": "display_data"
    },
    {
     "name": "stdout",
     "output_type": "stream",
     "text": [
      "{'batch_size': 2, 'cpu_m': 1500}\n",
      "Request Limit Overrid: 'cpu=1500m,memory=2250Mi'\n",
      "kn service apply tfserving-resnetv2 --image ghcr.io/nimamahmoudi/tfserving-resnet:20210429213000 \\\n",
      "  --limit 'cpu=1500m,memory=2250Mi' \\\n",
      "  --request 'cpu=1500m,memory=2250Mi' \\\n",
      "  --port 5000 \\\n",
      "  -a autoscaling.knative.dev/target=1 \\\n",
      "  -a autoscaling.knative.dev/metric=concurrency\n",
      "Applying service 'tfserving-resnetv2' in namespace 'default':\r\n",
      "\r\n",
      "  0.077s The Configuration is still working to reflect the latest desired specification.\r\n",
      "  6.028s Traffic is not yet migrated to the latest revision.\r\n",
      "  6.115s Ingress has not yet been reconciled.\r\n",
      "  6.202s Waiting for load balancer to be ready\r\n",
      "  6.371s Ready to serve.\r\n",
      "\r\n",
      "Service 'tfserving-resnetv2' applied to latest revision 'tfserving-resnetv2-00058' is available at URL:\r\n",
      "http://tfserving-resnetv2.default.kn.nima-dev.com\r\n",
      "waiting for settings to converge\n",
      "warming up...\n",
      "running tfserving-resnetv2 workload function, batch_size: 2\n"
     ]
    },
    {
     "data": {
      "application/vnd.jupyter.widget-view+json": {
       "model_id": "8afb02ef9d9e4e38913cb3dbd415a8e1",
       "version_major": 2,
       "version_minor": 0
      },
      "text/plain": [
       "  0%|          | 0/1000 [00:00<?, ?it/s]"
      ]
     },
     "metadata": {},
     "output_type": "display_data"
    },
    {
     "name": "stdout",
     "output_type": "stream",
     "text": [
      "{'batch_size': 2, 'cpu_m': 2000}\n",
      "Request Limit Overrid: 'cpu=2000m,memory=3000Mi'\n",
      "kn service apply tfserving-resnetv2 --image ghcr.io/nimamahmoudi/tfserving-resnet:20210429213000 \\\n",
      "  --limit 'cpu=2000m,memory=3000Mi' \\\n",
      "  --request 'cpu=2000m,memory=3000Mi' \\\n",
      "  --port 5000 \\\n",
      "  -a autoscaling.knative.dev/target=1 \\\n",
      "  -a autoscaling.knative.dev/metric=concurrency\n",
      "Applying service 'tfserving-resnetv2' in namespace 'default':\r\n",
      "\r\n",
      "  0.063s The Configuration is still working to reflect the latest desired specification.\r\n",
      "  8.523s Traffic is not yet migrated to the latest revision.\r\n",
      "  8.591s Ingress has not yet been reconciled.\r\n",
      "  8.630s Waiting for load balancer to be ready\r\n",
      "  8.885s Ready to serve.\r\n",
      "\r\n",
      "Service 'tfserving-resnetv2' applied to latest revision 'tfserving-resnetv2-00059' is available at URL:\r\n",
      "http://tfserving-resnetv2.default.kn.nima-dev.com\r\n",
      "waiting for settings to converge\n",
      "warming up...\n",
      "running tfserving-resnetv2 workload function, batch_size: 2\n"
     ]
    },
    {
     "data": {
      "application/vnd.jupyter.widget-view+json": {
       "model_id": "8cdbfec133a547d587357e9fadd0f2fb",
       "version_major": 2,
       "version_minor": 0
      },
      "text/plain": [
       "  0%|          | 0/1000 [00:00<?, ?it/s]"
      ]
     },
     "metadata": {},
     "output_type": "display_data"
    },
    {
     "name": "stdout",
     "output_type": "stream",
     "text": [
      "{'batch_size': 3, 'cpu_m': 250}\n",
      "Request Limit Overrid: 'cpu=250m,memory=375Mi'\n",
      "kn service apply tfserving-resnetv2 --image ghcr.io/nimamahmoudi/tfserving-resnet:20210429213000 \\\n",
      "  --limit 'cpu=250m,memory=375Mi' \\\n",
      "  --request 'cpu=250m,memory=375Mi' \\\n",
      "  --port 5000 \\\n",
      "  -a autoscaling.knative.dev/target=1 \\\n",
      "  -a autoscaling.knative.dev/metric=concurrency\n",
      "Applying service 'tfserving-resnetv2' in namespace 'default':\r\n",
      "\r\n",
      "  0.093s The Configuration is still working to reflect the latest desired specification.\r\n",
      "  8.450s Traffic is not yet migrated to the latest revision.\r\n",
      "  8.504s Ingress has not yet been reconciled.\r\n",
      "  8.818s Waiting for load balancer to be ready\r\n",
      "  9.126s Ready to serve.\r\n",
      "\r\n",
      "Service 'tfserving-resnetv2' applied to latest revision 'tfserving-resnetv2-00060' is available at URL:\r\n",
      "http://tfserving-resnetv2.default.kn.nima-dev.com\r\n",
      "waiting for settings to converge\n",
      "warming up...\n",
      "running tfserving-resnetv2 workload function, batch_size: 3\n"
     ]
    },
    {
     "data": {
      "application/vnd.jupyter.widget-view+json": {
       "model_id": "6f86a9f73d874418a44583f2dedf0fca",
       "version_major": 2,
       "version_minor": 0
      },
      "text/plain": [
       "  0%|          | 0/1000 [00:00<?, ?it/s]"
      ]
     },
     "metadata": {},
     "output_type": "display_data"
    },
    {
     "name": "stdout",
     "output_type": "stream",
     "text": [
      "{'batch_size': 3, 'cpu_m': 500}\n",
      "Request Limit Overrid: 'cpu=500m,memory=750Mi'\n",
      "kn service apply tfserving-resnetv2 --image ghcr.io/nimamahmoudi/tfserving-resnet:20210429213000 \\\n",
      "  --limit 'cpu=500m,memory=750Mi' \\\n",
      "  --request 'cpu=500m,memory=750Mi' \\\n",
      "  --port 5000 \\\n",
      "  -a autoscaling.knative.dev/target=1 \\\n",
      "  -a autoscaling.knative.dev/metric=concurrency\n",
      "Applying service 'tfserving-resnetv2' in namespace 'default':\r\n",
      "\r\n",
      "  0.118s The Configuration is still working to reflect the latest desired specification.\r\n",
      " 10.535s Traffic is not yet migrated to the latest revision.\r\n",
      " 10.589s Ingress has not yet been reconciled.\r\n",
      " 10.732s Waiting for load balancer to be ready\r\n",
      " 11.083s Ready to serve.\r\n",
      "\r\n",
      "Service 'tfserving-resnetv2' applied to latest revision 'tfserving-resnetv2-00061' is available at URL:\r\n",
      "http://tfserving-resnetv2.default.kn.nima-dev.com\r\n",
      "waiting for settings to converge\n",
      "warming up...\n",
      "running tfserving-resnetv2 workload function, batch_size: 3\n"
     ]
    },
    {
     "data": {
      "application/vnd.jupyter.widget-view+json": {
       "model_id": "e50731b23e9e49928c24ef822ff8c7d8",
       "version_major": 2,
       "version_minor": 0
      },
      "text/plain": [
       "  0%|          | 0/1000 [00:00<?, ?it/s]"
      ]
     },
     "metadata": {},
     "output_type": "display_data"
    },
    {
     "name": "stdout",
     "output_type": "stream",
     "text": [
      "{'batch_size': 3, 'cpu_m': 1000}\n",
      "Request Limit Overrid: 'cpu=1000m,memory=1500Mi'\n",
      "kn service apply tfserving-resnetv2 --image ghcr.io/nimamahmoudi/tfserving-resnet:20210429213000 \\\n",
      "  --limit 'cpu=1000m,memory=1500Mi' \\\n",
      "  --request 'cpu=1000m,memory=1500Mi' \\\n",
      "  --port 5000 \\\n",
      "  -a autoscaling.knative.dev/target=1 \\\n",
      "  -a autoscaling.knative.dev/metric=concurrency\n",
      "Applying service 'tfserving-resnetv2' in namespace 'default':\r\n",
      "\r\n",
      "  0.057s The Configuration is still working to reflect the latest desired specification.\r\n",
      " 11.785s Traffic is not yet migrated to the latest revision.\r\n",
      " 11.878s Ingress has not yet been reconciled.\r\n",
      " 11.954s Waiting for load balancer to be ready\r\n",
      " 12.119s Ready to serve.\r\n",
      "\r\n",
      "Service 'tfserving-resnetv2' applied to latest revision 'tfserving-resnetv2-00062' is available at URL:\r\n",
      "http://tfserving-resnetv2.default.kn.nima-dev.com\r\n",
      "waiting for settings to converge\n",
      "warming up...\n",
      "running tfserving-resnetv2 workload function, batch_size: 3\n"
     ]
    },
    {
     "data": {
      "application/vnd.jupyter.widget-view+json": {
       "model_id": "5f4481ada7274cfaa6c343506467ae60",
       "version_major": 2,
       "version_minor": 0
      },
      "text/plain": [
       "  0%|          | 0/1000 [00:00<?, ?it/s]"
      ]
     },
     "metadata": {},
     "output_type": "display_data"
    },
    {
     "name": "stdout",
     "output_type": "stream",
     "text": [
      "{'batch_size': 3, 'cpu_m': 1500}\n",
      "Request Limit Overrid: 'cpu=1500m,memory=2250Mi'\n",
      "kn service apply tfserving-resnetv2 --image ghcr.io/nimamahmoudi/tfserving-resnet:20210429213000 \\\n",
      "  --limit 'cpu=1500m,memory=2250Mi' \\\n",
      "  --request 'cpu=1500m,memory=2250Mi' \\\n",
      "  --port 5000 \\\n",
      "  -a autoscaling.knative.dev/target=1 \\\n",
      "  -a autoscaling.knative.dev/metric=concurrency\n",
      "Applying service 'tfserving-resnetv2' in namespace 'default':\r\n",
      "\r\n",
      "  0.084s The Configuration is still working to reflect the latest desired specification.\r\n",
      " 12.242s Traffic is not yet migrated to the latest revision.\r\n",
      " 12.346s Ingress has not yet been reconciled.\r\n",
      " 12.396s Waiting for load balancer to be ready\r\n",
      " 12.750s Ready to serve.\r\n",
      "\r\n",
      "Service 'tfserving-resnetv2' applied to latest revision 'tfserving-resnetv2-00063' is available at URL:\r\n",
      "http://tfserving-resnetv2.default.kn.nima-dev.com\r\n",
      "waiting for settings to converge\n",
      "warming up...\n",
      "running tfserving-resnetv2 workload function, batch_size: 3\n"
     ]
    },
    {
     "data": {
      "application/vnd.jupyter.widget-view+json": {
       "model_id": "65ebd8d5ada9494cba8696153239b817",
       "version_major": 2,
       "version_minor": 0
      },
      "text/plain": [
       "  0%|          | 0/1000 [00:00<?, ?it/s]"
      ]
     },
     "metadata": {},
     "output_type": "display_data"
    },
    {
     "name": "stdout",
     "output_type": "stream",
     "text": [
      "{'batch_size': 3, 'cpu_m': 2000}\n",
      "Request Limit Overrid: 'cpu=2000m,memory=3000Mi'\n",
      "kn service apply tfserving-resnetv2 --image ghcr.io/nimamahmoudi/tfserving-resnet:20210429213000 \\\n",
      "  --limit 'cpu=2000m,memory=3000Mi' \\\n",
      "  --request 'cpu=2000m,memory=3000Mi' \\\n",
      "  --port 5000 \\\n",
      "  -a autoscaling.knative.dev/target=1 \\\n",
      "  -a autoscaling.knative.dev/metric=concurrency\n",
      "Applying service 'tfserving-resnetv2' in namespace 'default':\r\n",
      "\r\n",
      "  0.491s The Configuration is still working to reflect the latest desired specification.\r\n",
      "  8.135s Traffic is not yet migrated to the latest revision.\r\n",
      "  8.178s Ingress has not yet been reconciled.\r\n",
      "  8.259s Waiting for load balancer to be ready\r\n",
      "  8.579s Ready to serve.\r\n",
      "\r\n",
      "Service 'tfserving-resnetv2' applied to latest revision 'tfserving-resnetv2-00064' is available at URL:\r\n",
      "http://tfserving-resnetv2.default.kn.nima-dev.com\r\n",
      "waiting for settings to converge\n",
      "warming up...\n",
      "running tfserving-resnetv2 workload function, batch_size: 3\n"
     ]
    },
    {
     "data": {
      "application/vnd.jupyter.widget-view+json": {
       "model_id": "00308b9a15fd4ff7b11f380bb532140b",
       "version_major": 2,
       "version_minor": 0
      },
      "text/plain": [
       "  0%|          | 0/1000 [00:00<?, ?it/s]"
      ]
     },
     "metadata": {},
     "output_type": "display_data"
    },
    {
     "name": "stdout",
     "output_type": "stream",
     "text": [
      "{'batch_size': 5, 'cpu_m': 250}\n",
      "Request Limit Overrid: 'cpu=250m,memory=375Mi'\n",
      "kn service apply tfserving-resnetv2 --image ghcr.io/nimamahmoudi/tfserving-resnet:20210429213000 \\\n",
      "  --limit 'cpu=250m,memory=375Mi' \\\n",
      "  --request 'cpu=250m,memory=375Mi' \\\n",
      "  --port 5000 \\\n",
      "  -a autoscaling.knative.dev/target=1 \\\n",
      "  -a autoscaling.knative.dev/metric=concurrency\n",
      "Applying service 'tfserving-resnetv2' in namespace 'default':\r\n",
      "\r\n",
      "  0.090s The Configuration is still working to reflect the latest desired specification.\r\n",
      "  7.735s Traffic is not yet migrated to the latest revision.\r\n",
      "  7.840s Ingress has not yet been reconciled.\r\n",
      "  8.076s Waiting for load balancer to be ready\r\n",
      "  8.187s Ready to serve.\r\n",
      "\r\n",
      "Service 'tfserving-resnetv2' applied to latest revision 'tfserving-resnetv2-00065' is available at URL:\r\n",
      "http://tfserving-resnetv2.default.kn.nima-dev.com\r\n",
      "waiting for settings to converge\n",
      "warming up...\n",
      "running tfserving-resnetv2 workload function, batch_size: 5\n"
     ]
    },
    {
     "data": {
      "application/vnd.jupyter.widget-view+json": {
       "model_id": "79212d35964249ae830beacbcda243c8",
       "version_major": 2,
       "version_minor": 0
      },
      "text/plain": [
       "  0%|          | 0/1000 [00:00<?, ?it/s]"
      ]
     },
     "metadata": {},
     "output_type": "display_data"
    },
    {
     "name": "stdout",
     "output_type": "stream",
     "text": [
      "{'batch_size': 5, 'cpu_m': 500}\n",
      "Request Limit Overrid: 'cpu=500m,memory=750Mi'\n",
      "kn service apply tfserving-resnetv2 --image ghcr.io/nimamahmoudi/tfserving-resnet:20210429213000 \\\n",
      "  --limit 'cpu=500m,memory=750Mi' \\\n",
      "  --request 'cpu=500m,memory=750Mi' \\\n",
      "  --port 5000 \\\n",
      "  -a autoscaling.knative.dev/target=1 \\\n",
      "  -a autoscaling.knative.dev/metric=concurrency\n",
      "Applying service 'tfserving-resnetv2' in namespace 'default':\r\n",
      "\r\n",
      "  0.060s The Configuration is still working to reflect the latest desired specification.\r\n",
      " 13.248s Traffic is not yet migrated to the latest revision.\r\n",
      " 13.308s Ingress has not yet been reconciled.\r\n",
      " 13.407s Waiting for load balancer to be ready\r\n",
      " 13.569s Ready to serve.\r\n",
      "\r\n",
      "Service 'tfserving-resnetv2' applied to latest revision 'tfserving-resnetv2-00066' is available at URL:\r\n",
      "http://tfserving-resnetv2.default.kn.nima-dev.com\r\n",
      "waiting for settings to converge\n",
      "warming up...\n",
      "running tfserving-resnetv2 workload function, batch_size: 5\n"
     ]
    },
    {
     "data": {
      "application/vnd.jupyter.widget-view+json": {
       "model_id": "21fadf24f8b84923bad04cb748807925",
       "version_major": 2,
       "version_minor": 0
      },
      "text/plain": [
       "  0%|          | 0/1000 [00:00<?, ?it/s]"
      ]
     },
     "metadata": {},
     "output_type": "display_data"
    },
    {
     "name": "stdout",
     "output_type": "stream",
     "text": [
      "{'batch_size': 5, 'cpu_m': 1000}\n",
      "Request Limit Overrid: 'cpu=1000m,memory=1500Mi'\n",
      "kn service apply tfserving-resnetv2 --image ghcr.io/nimamahmoudi/tfserving-resnet:20210429213000 \\\n",
      "  --limit 'cpu=1000m,memory=1500Mi' \\\n",
      "  --request 'cpu=1000m,memory=1500Mi' \\\n",
      "  --port 5000 \\\n",
      "  -a autoscaling.knative.dev/target=1 \\\n",
      "  -a autoscaling.knative.dev/metric=concurrency\n",
      "Applying service 'tfserving-resnetv2' in namespace 'default':\r\n",
      "\r\n",
      "  0.091s The Configuration is still working to reflect the latest desired specification.\r\n",
      "  6.686s Traffic is not yet migrated to the latest revision.\r\n",
      "  6.927s Ingress has not yet been reconciled.\r\n",
      "  6.959s Waiting for load balancer to be ready\r\n",
      "  7.239s Ready to serve.\r\n",
      "\r\n",
      "Service 'tfserving-resnetv2' applied to latest revision 'tfserving-resnetv2-00067' is available at URL:\r\n",
      "http://tfserving-resnetv2.default.kn.nima-dev.com\r\n",
      "waiting for settings to converge\n",
      "warming up...\n",
      "running tfserving-resnetv2 workload function, batch_size: 5\n"
     ]
    },
    {
     "data": {
      "application/vnd.jupyter.widget-view+json": {
       "model_id": "6486cf4f134f4dd2a963863d22aba29e",
       "version_major": 2,
       "version_minor": 0
      },
      "text/plain": [
       "  0%|          | 0/1000 [00:00<?, ?it/s]"
      ]
     },
     "metadata": {},
     "output_type": "display_data"
    },
    {
     "name": "stdout",
     "output_type": "stream",
     "text": [
      "{'batch_size': 5, 'cpu_m': 1500}\n",
      "Request Limit Overrid: 'cpu=1500m,memory=2250Mi'\n",
      "kn service apply tfserving-resnetv2 --image ghcr.io/nimamahmoudi/tfserving-resnet:20210429213000 \\\n",
      "  --limit 'cpu=1500m,memory=2250Mi' \\\n",
      "  --request 'cpu=1500m,memory=2250Mi' \\\n",
      "  --port 5000 \\\n",
      "  -a autoscaling.knative.dev/target=1 \\\n",
      "  -a autoscaling.knative.dev/metric=concurrency\n",
      "Applying service 'tfserving-resnetv2' in namespace 'default':\r\n",
      "\r\n",
      "  0.078s The Configuration is still working to reflect the latest desired specification.\r\n",
      "  5.397s Traffic is not yet migrated to the latest revision.\r\n",
      "  5.449s Ingress has not yet been reconciled.\r\n",
      "  5.477s Waiting for load balancer to be ready\r\n",
      "  5.688s Ready to serve.\r\n",
      "\r\n",
      "Service 'tfserving-resnetv2' applied to latest revision 'tfserving-resnetv2-00068' is available at URL:\r\n",
      "http://tfserving-resnetv2.default.kn.nima-dev.com\r\n",
      "waiting for settings to converge\n",
      "warming up...\n",
      "running tfserving-resnetv2 workload function, batch_size: 5\n"
     ]
    },
    {
     "data": {
      "application/vnd.jupyter.widget-view+json": {
       "model_id": "67a38c12b7ae4ed2848fbe32a11606d9",
       "version_major": 2,
       "version_minor": 0
      },
      "text/plain": [
       "  0%|          | 0/1000 [00:00<?, ?it/s]"
      ]
     },
     "metadata": {},
     "output_type": "display_data"
    },
    {
     "name": "stdout",
     "output_type": "stream",
     "text": [
      "{'batch_size': 5, 'cpu_m': 2000}\n",
      "Request Limit Overrid: 'cpu=2000m,memory=3000Mi'\n",
      "kn service apply tfserving-resnetv2 --image ghcr.io/nimamahmoudi/tfserving-resnet:20210429213000 \\\n",
      "  --limit 'cpu=2000m,memory=3000Mi' \\\n",
      "  --request 'cpu=2000m,memory=3000Mi' \\\n",
      "  --port 5000 \\\n",
      "  -a autoscaling.knative.dev/target=1 \\\n",
      "  -a autoscaling.knative.dev/metric=concurrency\n",
      "Applying service 'tfserving-resnetv2' in namespace 'default':\r\n",
      "\r\n",
      "  0.069s The Configuration is still working to reflect the latest desired specification.\r\n",
      "  7.499s Traffic is not yet migrated to the latest revision.\r\n",
      "  7.630s Ingress has not yet been reconciled.\r\n",
      "  7.659s Waiting for load balancer to be ready\r\n",
      "  8.253s Ready to serve.\r\n",
      "\r\n",
      "Service 'tfserving-resnetv2' applied to latest revision 'tfserving-resnetv2-00069' is available at URL:\r\n",
      "http://tfserving-resnetv2.default.kn.nima-dev.com\r\n",
      "waiting for settings to converge\n",
      "warming up...\n",
      "running tfserving-resnetv2 workload function, batch_size: 5\n"
     ]
    },
    {
     "data": {
      "application/vnd.jupyter.widget-view+json": {
       "model_id": "27a2398383b948279911d489c7217836",
       "version_major": 2,
       "version_minor": 0
      },
      "text/plain": [
       "  0%|          | 0/1000 [00:00<?, ?it/s]"
      ]
     },
     "metadata": {},
     "output_type": "display_data"
    },
    {
     "name": "stdout",
     "output_type": "stream",
     "text": [
      "{'batch_size': 10, 'cpu_m': 250}\n",
      "Request Limit Overrid: 'cpu=250m,memory=375Mi'\n",
      "kn service apply tfserving-resnetv2 --image ghcr.io/nimamahmoudi/tfserving-resnet:20210429213000 \\\n",
      "  --limit 'cpu=250m,memory=375Mi' \\\n",
      "  --request 'cpu=250m,memory=375Mi' \\\n",
      "  --port 5000 \\\n",
      "  -a autoscaling.knative.dev/target=1 \\\n",
      "  -a autoscaling.knative.dev/metric=concurrency\n",
      "Applying service 'tfserving-resnetv2' in namespace 'default':\r\n",
      "\r\n",
      "  0.504s The Configuration is still working to reflect the latest desired specification.\r\n",
      "  6.744s Traffic is not yet migrated to the latest revision.\r\n",
      "  6.820s Ingress has not yet been reconciled.\r\n",
      "  6.861s Waiting for load balancer to be ready\r\n",
      "  7.854s Ready to serve.\r\n",
      "\r\n",
      "Service 'tfserving-resnetv2' applied to latest revision 'tfserving-resnetv2-00070' is available at URL:\r\n",
      "http://tfserving-resnetv2.default.kn.nima-dev.com\r\n",
      "waiting for settings to converge\n",
      "warming up...\n",
      "exception occured:\n"
     ]
    },
    {
     "name": "stderr",
     "output_type": "stream",
     "text": [
      "Traceback (most recent call last):\n",
      "  File \"<ipython-input-1-2819997e6078>\", line 28, in experiment_batch\n",
      "    request_funcs.workload_funcs[service_name](batch_size=batch_size)\n",
      "  File \"/home/ubuntu/serverless-ml-serving/experiments/helpers/request_funcs.py\", line 150, in request_tfserving_resnetv2\n",
      "    response.raise_for_status()\n",
      "  File \"/home/ubuntu/miniconda/lib/python3.8/site-packages/requests/models.py\", line 943, in raise_for_status\n",
      "    raise HTTPError(http_error_msg, response=self)\n",
      "requests.exceptions.HTTPError: 504 Server Error: Gateway Timeout for url: http://tfserving-resnetv2.default.kn.nima-dev.com/v1/models/resnet:predict\n"
     ]
    },
    {
     "name": "stdout",
     "output_type": "stream",
     "text": [
      "exception occured:\n"
     ]
    },
    {
     "name": "stderr",
     "output_type": "stream",
     "text": [
      "Traceback (most recent call last):\n",
      "  File \"<ipython-input-1-2819997e6078>\", line 28, in experiment_batch\n",
      "    request_funcs.workload_funcs[service_name](batch_size=batch_size)\n",
      "  File \"/home/ubuntu/serverless-ml-serving/experiments/helpers/request_funcs.py\", line 150, in request_tfserving_resnetv2\n",
      "    response.raise_for_status()\n",
      "  File \"/home/ubuntu/miniconda/lib/python3.8/site-packages/requests/models.py\", line 943, in raise_for_status\n",
      "    raise HTTPError(http_error_msg, response=self)\n",
      "requests.exceptions.HTTPError: 504 Server Error: Gateway Timeout for url: http://tfserving-resnetv2.default.kn.nima-dev.com/v1/models/resnet:predict\n"
     ]
    },
    {
     "name": "stdout",
     "output_type": "stream",
     "text": [
      "exception occured:\n"
     ]
    },
    {
     "name": "stderr",
     "output_type": "stream",
     "text": [
      "Traceback (most recent call last):\n",
      "  File \"<ipython-input-1-2819997e6078>\", line 28, in experiment_batch\n",
      "    request_funcs.workload_funcs[service_name](batch_size=batch_size)\n",
      "  File \"/home/ubuntu/serverless-ml-serving/experiments/helpers/request_funcs.py\", line 150, in request_tfserving_resnetv2\n",
      "    response.raise_for_status()\n",
      "  File \"/home/ubuntu/miniconda/lib/python3.8/site-packages/requests/models.py\", line 943, in raise_for_status\n",
      "    raise HTTPError(http_error_msg, response=self)\n",
      "requests.exceptions.HTTPError: 504 Server Error: Gateway Timeout for url: http://tfserving-resnetv2.default.kn.nima-dev.com/v1/models/resnet:predict\n"
     ]
    },
    {
     "name": "stdout",
     "output_type": "stream",
     "text": [
      "exception occured:\n"
     ]
    },
    {
     "name": "stderr",
     "output_type": "stream",
     "text": [
      "Traceback (most recent call last):\n",
      "  File \"<ipython-input-1-2819997e6078>\", line 28, in experiment_batch\n",
      "    request_funcs.workload_funcs[service_name](batch_size=batch_size)\n",
      "  File \"/home/ubuntu/serverless-ml-serving/experiments/helpers/request_funcs.py\", line 150, in request_tfserving_resnetv2\n",
      "    response.raise_for_status()\n",
      "  File \"/home/ubuntu/miniconda/lib/python3.8/site-packages/requests/models.py\", line 943, in raise_for_status\n",
      "    raise HTTPError(http_error_msg, response=self)\n",
      "requests.exceptions.HTTPError: 504 Server Error: Gateway Timeout for url: http://tfserving-resnetv2.default.kn.nima-dev.com/v1/models/resnet:predict\n"
     ]
    },
    {
     "name": "stdout",
     "output_type": "stream",
     "text": [
      "exception occured:\n",
      "running tfserving-resnetv2 workload function, batch_size: 10\n"
     ]
    },
    {
     "name": "stderr",
     "output_type": "stream",
     "text": [
      "Traceback (most recent call last):\n",
      "  File \"<ipython-input-1-2819997e6078>\", line 28, in experiment_batch\n",
      "    request_funcs.workload_funcs[service_name](batch_size=batch_size)\n",
      "  File \"/home/ubuntu/serverless-ml-serving/experiments/helpers/request_funcs.py\", line 150, in request_tfserving_resnetv2\n",
      "    response.raise_for_status()\n",
      "  File \"/home/ubuntu/miniconda/lib/python3.8/site-packages/requests/models.py\", line 943, in raise_for_status\n",
      "    raise HTTPError(http_error_msg, response=self)\n",
      "requests.exceptions.HTTPError: 504 Server Error: Gateway Timeout for url: http://tfserving-resnetv2.default.kn.nima-dev.com/v1/models/resnet:predict\n"
     ]
    },
    {
     "data": {
      "application/vnd.jupyter.widget-view+json": {
       "model_id": "f37b1ad601584467aee64515fb1b1dab",
       "version_major": 2,
       "version_minor": 0
      },
      "text/plain": [
       "  0%|          | 0/1000 [00:00<?, ?it/s]"
      ]
     },
     "metadata": {},
     "output_type": "display_data"
    },
    {
     "name": "stdout",
     "output_type": "stream",
     "text": [
      "exception occured:\n"
     ]
    },
    {
     "name": "stderr",
     "output_type": "stream",
     "text": [
      "Traceback (most recent call last):\n",
      "  File \"<ipython-input-1-2819997e6078>\", line 37, in experiment_batch\n",
      "    result = request_funcs.workload_funcs[service_name](batch_size=batch_size)\n",
      "  File \"/home/ubuntu/serverless-ml-serving/experiments/helpers/request_funcs.py\", line 150, in request_tfserving_resnetv2\n",
      "    response.raise_for_status()\n",
      "  File \"/home/ubuntu/miniconda/lib/python3.8/site-packages/requests/models.py\", line 943, in raise_for_status\n",
      "    raise HTTPError(http_error_msg, response=self)\n",
      "requests.exceptions.HTTPError: 504 Server Error: Gateway Timeout for url: http://tfserving-resnetv2.default.kn.nima-dev.com/v1/models/resnet:predict\n"
     ]
    },
    {
     "name": "stdout",
     "output_type": "stream",
     "text": [
      "exception occured:\n"
     ]
    },
    {
     "name": "stderr",
     "output_type": "stream",
     "text": [
      "Traceback (most recent call last):\n",
      "  File \"<ipython-input-1-2819997e6078>\", line 37, in experiment_batch\n",
      "    result = request_funcs.workload_funcs[service_name](batch_size=batch_size)\n",
      "  File \"/home/ubuntu/serverless-ml-serving/experiments/helpers/request_funcs.py\", line 150, in request_tfserving_resnetv2\n",
      "    response.raise_for_status()\n",
      "  File \"/home/ubuntu/miniconda/lib/python3.8/site-packages/requests/models.py\", line 943, in raise_for_status\n",
      "    raise HTTPError(http_error_msg, response=self)\n",
      "requests.exceptions.HTTPError: 504 Server Error: Gateway Timeout for url: http://tfserving-resnetv2.default.kn.nima-dev.com/v1/models/resnet:predict\n"
     ]
    },
    {
     "name": "stdout",
     "output_type": "stream",
     "text": [
      "exception occured:\n"
     ]
    },
    {
     "name": "stderr",
     "output_type": "stream",
     "text": [
      "Traceback (most recent call last):\n",
      "  File \"<ipython-input-1-2819997e6078>\", line 37, in experiment_batch\n",
      "    result = request_funcs.workload_funcs[service_name](batch_size=batch_size)\n",
      "  File \"/home/ubuntu/serverless-ml-serving/experiments/helpers/request_funcs.py\", line 150, in request_tfserving_resnetv2\n",
      "    response.raise_for_status()\n",
      "  File \"/home/ubuntu/miniconda/lib/python3.8/site-packages/requests/models.py\", line 943, in raise_for_status\n",
      "    raise HTTPError(http_error_msg, response=self)\n",
      "requests.exceptions.HTTPError: 504 Server Error: Gateway Timeout for url: http://tfserving-resnetv2.default.kn.nima-dev.com/v1/models/resnet:predict\n"
     ]
    },
    {
     "name": "stdout",
     "output_type": "stream",
     "text": [
      "exception occured:\n"
     ]
    },
    {
     "name": "stderr",
     "output_type": "stream",
     "text": [
      "Traceback (most recent call last):\n",
      "  File \"<ipython-input-1-2819997e6078>\", line 37, in experiment_batch\n",
      "    result = request_funcs.workload_funcs[service_name](batch_size=batch_size)\n",
      "  File \"/home/ubuntu/serverless-ml-serving/experiments/helpers/request_funcs.py\", line 150, in request_tfserving_resnetv2\n",
      "    response.raise_for_status()\n",
      "  File \"/home/ubuntu/miniconda/lib/python3.8/site-packages/requests/models.py\", line 943, in raise_for_status\n",
      "    raise HTTPError(http_error_msg, response=self)\n",
      "requests.exceptions.HTTPError: 504 Server Error: Gateway Timeout for url: http://tfserving-resnetv2.default.kn.nima-dev.com/v1/models/resnet:predict\n"
     ]
    },
    {
     "name": "stdout",
     "output_type": "stream",
     "text": [
      "exception occured:\n"
     ]
    },
    {
     "name": "stderr",
     "output_type": "stream",
     "text": [
      "Traceback (most recent call last):\n",
      "  File \"<ipython-input-1-2819997e6078>\", line 37, in experiment_batch\n",
      "    result = request_funcs.workload_funcs[service_name](batch_size=batch_size)\n",
      "  File \"/home/ubuntu/serverless-ml-serving/experiments/helpers/request_funcs.py\", line 150, in request_tfserving_resnetv2\n",
      "    response.raise_for_status()\n",
      "  File \"/home/ubuntu/miniconda/lib/python3.8/site-packages/requests/models.py\", line 943, in raise_for_status\n",
      "    raise HTTPError(http_error_msg, response=self)\n",
      "requests.exceptions.HTTPError: 504 Server Error: Gateway Timeout for url: http://tfserving-resnetv2.default.kn.nima-dev.com/v1/models/resnet:predict\n"
     ]
    },
    {
     "name": "stdout",
     "output_type": "stream",
     "text": [
      "exception occured:\n"
     ]
    },
    {
     "name": "stderr",
     "output_type": "stream",
     "text": [
      "Traceback (most recent call last):\n",
      "  File \"<ipython-input-1-2819997e6078>\", line 37, in experiment_batch\n",
      "    result = request_funcs.workload_funcs[service_name](batch_size=batch_size)\n",
      "  File \"/home/ubuntu/serverless-ml-serving/experiments/helpers/request_funcs.py\", line 150, in request_tfserving_resnetv2\n",
      "    response.raise_for_status()\n",
      "  File \"/home/ubuntu/miniconda/lib/python3.8/site-packages/requests/models.py\", line 943, in raise_for_status\n",
      "    raise HTTPError(http_error_msg, response=self)\n",
      "requests.exceptions.HTTPError: 504 Server Error: Gateway Timeout for url: http://tfserving-resnetv2.default.kn.nima-dev.com/v1/models/resnet:predict\n"
     ]
    },
    {
     "name": "stdout",
     "output_type": "stream",
     "text": [
      "exception occured:\n"
     ]
    },
    {
     "name": "stderr",
     "output_type": "stream",
     "text": [
      "Traceback (most recent call last):\n",
      "  File \"<ipython-input-1-2819997e6078>\", line 37, in experiment_batch\n",
      "    result = request_funcs.workload_funcs[service_name](batch_size=batch_size)\n",
      "  File \"/home/ubuntu/serverless-ml-serving/experiments/helpers/request_funcs.py\", line 150, in request_tfserving_resnetv2\n",
      "    response.raise_for_status()\n",
      "  File \"/home/ubuntu/miniconda/lib/python3.8/site-packages/requests/models.py\", line 943, in raise_for_status\n",
      "    raise HTTPError(http_error_msg, response=self)\n",
      "requests.exceptions.HTTPError: 504 Server Error: Gateway Timeout for url: http://tfserving-resnetv2.default.kn.nima-dev.com/v1/models/resnet:predict\n"
     ]
    },
    {
     "name": "stdout",
     "output_type": "stream",
     "text": [
      "exception occured:\n"
     ]
    },
    {
     "name": "stderr",
     "output_type": "stream",
     "text": [
      "Traceback (most recent call last):\n",
      "  File \"<ipython-input-1-2819997e6078>\", line 37, in experiment_batch\n",
      "    result = request_funcs.workload_funcs[service_name](batch_size=batch_size)\n",
      "  File \"/home/ubuntu/serverless-ml-serving/experiments/helpers/request_funcs.py\", line 150, in request_tfserving_resnetv2\n",
      "    response.raise_for_status()\n",
      "  File \"/home/ubuntu/miniconda/lib/python3.8/site-packages/requests/models.py\", line 943, in raise_for_status\n",
      "    raise HTTPError(http_error_msg, response=self)\n",
      "requests.exceptions.HTTPError: 504 Server Error: Gateway Timeout for url: http://tfserving-resnetv2.default.kn.nima-dev.com/v1/models/resnet:predict\n"
     ]
    },
    {
     "name": "stdout",
     "output_type": "stream",
     "text": [
      "exception occured:\n"
     ]
    },
    {
     "name": "stderr",
     "output_type": "stream",
     "text": [
      "Traceback (most recent call last):\n",
      "  File \"<ipython-input-1-2819997e6078>\", line 37, in experiment_batch\n",
      "    result = request_funcs.workload_funcs[service_name](batch_size=batch_size)\n",
      "  File \"/home/ubuntu/serverless-ml-serving/experiments/helpers/request_funcs.py\", line 150, in request_tfserving_resnetv2\n",
      "    response.raise_for_status()\n",
      "  File \"/home/ubuntu/miniconda/lib/python3.8/site-packages/requests/models.py\", line 943, in raise_for_status\n",
      "    raise HTTPError(http_error_msg, response=self)\n",
      "requests.exceptions.HTTPError: 504 Server Error: Gateway Timeout for url: http://tfserving-resnetv2.default.kn.nima-dev.com/v1/models/resnet:predict\n"
     ]
    },
    {
     "name": "stdout",
     "output_type": "stream",
     "text": [
      "exception occured:\n"
     ]
    },
    {
     "name": "stderr",
     "output_type": "stream",
     "text": [
      "Traceback (most recent call last):\n",
      "  File \"<ipython-input-1-2819997e6078>\", line 37, in experiment_batch\n",
      "    result = request_funcs.workload_funcs[service_name](batch_size=batch_size)\n",
      "  File \"/home/ubuntu/serverless-ml-serving/experiments/helpers/request_funcs.py\", line 150, in request_tfserving_resnetv2\n",
      "    response.raise_for_status()\n",
      "  File \"/home/ubuntu/miniconda/lib/python3.8/site-packages/requests/models.py\", line 943, in raise_for_status\n",
      "    raise HTTPError(http_error_msg, response=self)\n",
      "requests.exceptions.HTTPError: 504 Server Error: Gateway Timeout for url: http://tfserving-resnetv2.default.kn.nima-dev.com/v1/models/resnet:predict\n"
     ]
    },
    {
     "name": "stdout",
     "output_type": "stream",
     "text": [
      "exception occured:\n"
     ]
    },
    {
     "name": "stderr",
     "output_type": "stream",
     "text": [
      "Traceback (most recent call last):\n",
      "  File \"<ipython-input-1-2819997e6078>\", line 37, in experiment_batch\n",
      "    result = request_funcs.workload_funcs[service_name](batch_size=batch_size)\n",
      "  File \"/home/ubuntu/serverless-ml-serving/experiments/helpers/request_funcs.py\", line 150, in request_tfserving_resnetv2\n",
      "    response.raise_for_status()\n",
      "  File \"/home/ubuntu/miniconda/lib/python3.8/site-packages/requests/models.py\", line 943, in raise_for_status\n",
      "    raise HTTPError(http_error_msg, response=self)\n",
      "requests.exceptions.HTTPError: 504 Server Error: Gateway Timeout for url: http://tfserving-resnetv2.default.kn.nima-dev.com/v1/models/resnet:predict\n"
     ]
    },
    {
     "name": "stdout",
     "output_type": "stream",
     "text": [
      "exception occured:\n"
     ]
    },
    {
     "name": "stderr",
     "output_type": "stream",
     "text": [
      "Traceback (most recent call last):\n",
      "  File \"<ipython-input-1-2819997e6078>\", line 37, in experiment_batch\n",
      "    result = request_funcs.workload_funcs[service_name](batch_size=batch_size)\n",
      "  File \"/home/ubuntu/serverless-ml-serving/experiments/helpers/request_funcs.py\", line 150, in request_tfserving_resnetv2\n",
      "    response.raise_for_status()\n",
      "  File \"/home/ubuntu/miniconda/lib/python3.8/site-packages/requests/models.py\", line 943, in raise_for_status\n",
      "    raise HTTPError(http_error_msg, response=self)\n",
      "requests.exceptions.HTTPError: 504 Server Error: Gateway Timeout for url: http://tfserving-resnetv2.default.kn.nima-dev.com/v1/models/resnet:predict\n"
     ]
    },
    {
     "name": "stdout",
     "output_type": "stream",
     "text": [
      "exception occured:\n"
     ]
    },
    {
     "name": "stderr",
     "output_type": "stream",
     "text": [
      "Traceback (most recent call last):\n",
      "  File \"<ipython-input-1-2819997e6078>\", line 37, in experiment_batch\n",
      "    result = request_funcs.workload_funcs[service_name](batch_size=batch_size)\n",
      "  File \"/home/ubuntu/serverless-ml-serving/experiments/helpers/request_funcs.py\", line 150, in request_tfserving_resnetv2\n",
      "    response.raise_for_status()\n",
      "  File \"/home/ubuntu/miniconda/lib/python3.8/site-packages/requests/models.py\", line 943, in raise_for_status\n",
      "    raise HTTPError(http_error_msg, response=self)\n",
      "requests.exceptions.HTTPError: 504 Server Error: Gateway Timeout for url: http://tfserving-resnetv2.default.kn.nima-dev.com/v1/models/resnet:predict\n"
     ]
    },
    {
     "name": "stdout",
     "output_type": "stream",
     "text": [
      "exception occured:\n"
     ]
    },
    {
     "name": "stderr",
     "output_type": "stream",
     "text": [
      "Traceback (most recent call last):\n",
      "  File \"<ipython-input-1-2819997e6078>\", line 37, in experiment_batch\n",
      "    result = request_funcs.workload_funcs[service_name](batch_size=batch_size)\n",
      "  File \"/home/ubuntu/serverless-ml-serving/experiments/helpers/request_funcs.py\", line 150, in request_tfserving_resnetv2\n",
      "    response.raise_for_status()\n",
      "  File \"/home/ubuntu/miniconda/lib/python3.8/site-packages/requests/models.py\", line 943, in raise_for_status\n",
      "    raise HTTPError(http_error_msg, response=self)\n",
      "requests.exceptions.HTTPError: 504 Server Error: Gateway Timeout for url: http://tfserving-resnetv2.default.kn.nima-dev.com/v1/models/resnet:predict\n"
     ]
    },
    {
     "name": "stdout",
     "output_type": "stream",
     "text": [
      "exception occured:\n"
     ]
    },
    {
     "name": "stderr",
     "output_type": "stream",
     "text": [
      "Traceback (most recent call last):\n",
      "  File \"<ipython-input-1-2819997e6078>\", line 37, in experiment_batch\n",
      "    result = request_funcs.workload_funcs[service_name](batch_size=batch_size)\n",
      "  File \"/home/ubuntu/serverless-ml-serving/experiments/helpers/request_funcs.py\", line 150, in request_tfserving_resnetv2\n",
      "    response.raise_for_status()\n",
      "  File \"/home/ubuntu/miniconda/lib/python3.8/site-packages/requests/models.py\", line 943, in raise_for_status\n",
      "    raise HTTPError(http_error_msg, response=self)\n",
      "requests.exceptions.HTTPError: 504 Server Error: Gateway Timeout for url: http://tfserving-resnetv2.default.kn.nima-dev.com/v1/models/resnet:predict\n"
     ]
    },
    {
     "name": "stdout",
     "output_type": "stream",
     "text": [
      "exception occured:\n"
     ]
    },
    {
     "name": "stderr",
     "output_type": "stream",
     "text": [
      "Traceback (most recent call last):\n",
      "  File \"<ipython-input-1-2819997e6078>\", line 37, in experiment_batch\n",
      "    result = request_funcs.workload_funcs[service_name](batch_size=batch_size)\n",
      "  File \"/home/ubuntu/serverless-ml-serving/experiments/helpers/request_funcs.py\", line 150, in request_tfserving_resnetv2\n",
      "    response.raise_for_status()\n",
      "  File \"/home/ubuntu/miniconda/lib/python3.8/site-packages/requests/models.py\", line 943, in raise_for_status\n",
      "    raise HTTPError(http_error_msg, response=self)\n",
      "requests.exceptions.HTTPError: 504 Server Error: Gateway Timeout for url: http://tfserving-resnetv2.default.kn.nima-dev.com/v1/models/resnet:predict\n"
     ]
    },
    {
     "name": "stdout",
     "output_type": "stream",
     "text": [
      "exception occured:\n"
     ]
    },
    {
     "name": "stderr",
     "output_type": "stream",
     "text": [
      "Traceback (most recent call last):\n",
      "  File \"<ipython-input-1-2819997e6078>\", line 37, in experiment_batch\n",
      "    result = request_funcs.workload_funcs[service_name](batch_size=batch_size)\n",
      "  File \"/home/ubuntu/serverless-ml-serving/experiments/helpers/request_funcs.py\", line 150, in request_tfserving_resnetv2\n",
      "    response.raise_for_status()\n",
      "  File \"/home/ubuntu/miniconda/lib/python3.8/site-packages/requests/models.py\", line 943, in raise_for_status\n",
      "    raise HTTPError(http_error_msg, response=self)\n",
      "requests.exceptions.HTTPError: 504 Server Error: Gateway Timeout for url: http://tfserving-resnetv2.default.kn.nima-dev.com/v1/models/resnet:predict\n"
     ]
    },
    {
     "name": "stdout",
     "output_type": "stream",
     "text": [
      "exception occured:\n"
     ]
    },
    {
     "name": "stderr",
     "output_type": "stream",
     "text": [
      "Traceback (most recent call last):\n",
      "  File \"<ipython-input-1-2819997e6078>\", line 37, in experiment_batch\n",
      "    result = request_funcs.workload_funcs[service_name](batch_size=batch_size)\n",
      "  File \"/home/ubuntu/serverless-ml-serving/experiments/helpers/request_funcs.py\", line 150, in request_tfserving_resnetv2\n",
      "    response.raise_for_status()\n",
      "  File \"/home/ubuntu/miniconda/lib/python3.8/site-packages/requests/models.py\", line 943, in raise_for_status\n",
      "    raise HTTPError(http_error_msg, response=self)\n",
      "requests.exceptions.HTTPError: 504 Server Error: Gateway Timeout for url: http://tfserving-resnetv2.default.kn.nima-dev.com/v1/models/resnet:predict\n"
     ]
    },
    {
     "name": "stdout",
     "output_type": "stream",
     "text": [
      "exception occured:\n"
     ]
    },
    {
     "name": "stderr",
     "output_type": "stream",
     "text": [
      "Traceback (most recent call last):\n",
      "  File \"<ipython-input-1-2819997e6078>\", line 37, in experiment_batch\n",
      "    result = request_funcs.workload_funcs[service_name](batch_size=batch_size)\n",
      "  File \"/home/ubuntu/serverless-ml-serving/experiments/helpers/request_funcs.py\", line 150, in request_tfserving_resnetv2\n",
      "    response.raise_for_status()\n",
      "  File \"/home/ubuntu/miniconda/lib/python3.8/site-packages/requests/models.py\", line 943, in raise_for_status\n",
      "    raise HTTPError(http_error_msg, response=self)\n",
      "requests.exceptions.HTTPError: 504 Server Error: Gateway Timeout for url: http://tfserving-resnetv2.default.kn.nima-dev.com/v1/models/resnet:predict\n"
     ]
    },
    {
     "name": "stdout",
     "output_type": "stream",
     "text": [
      "exception occured:\n"
     ]
    },
    {
     "name": "stderr",
     "output_type": "stream",
     "text": [
      "Traceback (most recent call last):\n",
      "  File \"<ipython-input-1-2819997e6078>\", line 37, in experiment_batch\n",
      "    result = request_funcs.workload_funcs[service_name](batch_size=batch_size)\n",
      "  File \"/home/ubuntu/serverless-ml-serving/experiments/helpers/request_funcs.py\", line 150, in request_tfserving_resnetv2\n",
      "    response.raise_for_status()\n",
      "  File \"/home/ubuntu/miniconda/lib/python3.8/site-packages/requests/models.py\", line 943, in raise_for_status\n",
      "    raise HTTPError(http_error_msg, response=self)\n",
      "requests.exceptions.HTTPError: 504 Server Error: Gateway Timeout for url: http://tfserving-resnetv2.default.kn.nima-dev.com/v1/models/resnet:predict\n"
     ]
    },
    {
     "name": "stdout",
     "output_type": "stream",
     "text": [
      "exception occured:\n"
     ]
    },
    {
     "name": "stderr",
     "output_type": "stream",
     "text": [
      "Traceback (most recent call last):\n",
      "  File \"<ipython-input-1-2819997e6078>\", line 37, in experiment_batch\n",
      "    result = request_funcs.workload_funcs[service_name](batch_size=batch_size)\n",
      "  File \"/home/ubuntu/serverless-ml-serving/experiments/helpers/request_funcs.py\", line 150, in request_tfserving_resnetv2\n",
      "    response.raise_for_status()\n",
      "  File \"/home/ubuntu/miniconda/lib/python3.8/site-packages/requests/models.py\", line 943, in raise_for_status\n",
      "    raise HTTPError(http_error_msg, response=self)\n",
      "requests.exceptions.HTTPError: 504 Server Error: Gateway Timeout for url: http://tfserving-resnetv2.default.kn.nima-dev.com/v1/models/resnet:predict\n"
     ]
    },
    {
     "name": "stdout",
     "output_type": "stream",
     "text": [
      "exception occured:\n"
     ]
    },
    {
     "name": "stderr",
     "output_type": "stream",
     "text": [
      "Traceback (most recent call last):\n",
      "  File \"<ipython-input-1-2819997e6078>\", line 37, in experiment_batch\n",
      "    result = request_funcs.workload_funcs[service_name](batch_size=batch_size)\n",
      "  File \"/home/ubuntu/serverless-ml-serving/experiments/helpers/request_funcs.py\", line 150, in request_tfserving_resnetv2\n",
      "    response.raise_for_status()\n",
      "  File \"/home/ubuntu/miniconda/lib/python3.8/site-packages/requests/models.py\", line 943, in raise_for_status\n",
      "    raise HTTPError(http_error_msg, response=self)\n",
      "requests.exceptions.HTTPError: 504 Server Error: Gateway Timeout for url: http://tfserving-resnetv2.default.kn.nima-dev.com/v1/models/resnet:predict\n"
     ]
    },
    {
     "name": "stdout",
     "output_type": "stream",
     "text": [
      "exception occured:\n"
     ]
    },
    {
     "name": "stderr",
     "output_type": "stream",
     "text": [
      "Traceback (most recent call last):\n",
      "  File \"<ipython-input-1-2819997e6078>\", line 37, in experiment_batch\n",
      "    result = request_funcs.workload_funcs[service_name](batch_size=batch_size)\n",
      "  File \"/home/ubuntu/serverless-ml-serving/experiments/helpers/request_funcs.py\", line 150, in request_tfserving_resnetv2\n",
      "    response.raise_for_status()\n",
      "  File \"/home/ubuntu/miniconda/lib/python3.8/site-packages/requests/models.py\", line 943, in raise_for_status\n",
      "    raise HTTPError(http_error_msg, response=self)\n",
      "requests.exceptions.HTTPError: 504 Server Error: Gateway Timeout for url: http://tfserving-resnetv2.default.kn.nima-dev.com/v1/models/resnet:predict\n"
     ]
    },
    {
     "name": "stdout",
     "output_type": "stream",
     "text": [
      "exception occured:\n"
     ]
    },
    {
     "name": "stderr",
     "output_type": "stream",
     "text": [
      "Traceback (most recent call last):\n",
      "  File \"<ipython-input-1-2819997e6078>\", line 37, in experiment_batch\n",
      "    result = request_funcs.workload_funcs[service_name](batch_size=batch_size)\n",
      "  File \"/home/ubuntu/serverless-ml-serving/experiments/helpers/request_funcs.py\", line 150, in request_tfserving_resnetv2\n",
      "    response.raise_for_status()\n",
      "  File \"/home/ubuntu/miniconda/lib/python3.8/site-packages/requests/models.py\", line 943, in raise_for_status\n",
      "    raise HTTPError(http_error_msg, response=self)\n",
      "requests.exceptions.HTTPError: 504 Server Error: Gateway Timeout for url: http://tfserving-resnetv2.default.kn.nima-dev.com/v1/models/resnet:predict\n"
     ]
    },
    {
     "name": "stdout",
     "output_type": "stream",
     "text": [
      "exception occured:\n"
     ]
    },
    {
     "name": "stderr",
     "output_type": "stream",
     "text": [
      "Traceback (most recent call last):\n",
      "  File \"<ipython-input-1-2819997e6078>\", line 37, in experiment_batch\n",
      "    result = request_funcs.workload_funcs[service_name](batch_size=batch_size)\n",
      "  File \"/home/ubuntu/serverless-ml-serving/experiments/helpers/request_funcs.py\", line 150, in request_tfserving_resnetv2\n",
      "    response.raise_for_status()\n",
      "  File \"/home/ubuntu/miniconda/lib/python3.8/site-packages/requests/models.py\", line 943, in raise_for_status\n",
      "    raise HTTPError(http_error_msg, response=self)\n",
      "requests.exceptions.HTTPError: 504 Server Error: Gateway Timeout for url: http://tfserving-resnetv2.default.kn.nima-dev.com/v1/models/resnet:predict\n"
     ]
    },
    {
     "name": "stdout",
     "output_type": "stream",
     "text": [
      "exception occured:\n"
     ]
    },
    {
     "name": "stderr",
     "output_type": "stream",
     "text": [
      "Traceback (most recent call last):\n",
      "  File \"<ipython-input-1-2819997e6078>\", line 37, in experiment_batch\n",
      "    result = request_funcs.workload_funcs[service_name](batch_size=batch_size)\n",
      "  File \"/home/ubuntu/serverless-ml-serving/experiments/helpers/request_funcs.py\", line 150, in request_tfserving_resnetv2\n",
      "    response.raise_for_status()\n",
      "  File \"/home/ubuntu/miniconda/lib/python3.8/site-packages/requests/models.py\", line 943, in raise_for_status\n",
      "    raise HTTPError(http_error_msg, response=self)\n",
      "requests.exceptions.HTTPError: 504 Server Error: Gateway Timeout for url: http://tfserving-resnetv2.default.kn.nima-dev.com/v1/models/resnet:predict\n"
     ]
    },
    {
     "name": "stdout",
     "output_type": "stream",
     "text": [
      "exception occured:\n"
     ]
    },
    {
     "name": "stderr",
     "output_type": "stream",
     "text": [
      "Traceback (most recent call last):\n",
      "  File \"<ipython-input-1-2819997e6078>\", line 37, in experiment_batch\n",
      "    result = request_funcs.workload_funcs[service_name](batch_size=batch_size)\n",
      "  File \"/home/ubuntu/serverless-ml-serving/experiments/helpers/request_funcs.py\", line 150, in request_tfserving_resnetv2\n",
      "    response.raise_for_status()\n",
      "  File \"/home/ubuntu/miniconda/lib/python3.8/site-packages/requests/models.py\", line 943, in raise_for_status\n",
      "    raise HTTPError(http_error_msg, response=self)\n",
      "requests.exceptions.HTTPError: 504 Server Error: Gateway Timeout for url: http://tfserving-resnetv2.default.kn.nima-dev.com/v1/models/resnet:predict\n"
     ]
    },
    {
     "name": "stdout",
     "output_type": "stream",
     "text": [
      "exception occured:\n"
     ]
    },
    {
     "name": "stderr",
     "output_type": "stream",
     "text": [
      "Traceback (most recent call last):\n",
      "  File \"<ipython-input-1-2819997e6078>\", line 37, in experiment_batch\n",
      "    result = request_funcs.workload_funcs[service_name](batch_size=batch_size)\n",
      "  File \"/home/ubuntu/serverless-ml-serving/experiments/helpers/request_funcs.py\", line 150, in request_tfserving_resnetv2\n",
      "    response.raise_for_status()\n",
      "  File \"/home/ubuntu/miniconda/lib/python3.8/site-packages/requests/models.py\", line 943, in raise_for_status\n",
      "    raise HTTPError(http_error_msg, response=self)\n",
      "requests.exceptions.HTTPError: 504 Server Error: Gateway Timeout for url: http://tfserving-resnetv2.default.kn.nima-dev.com/v1/models/resnet:predict\n"
     ]
    },
    {
     "name": "stdout",
     "output_type": "stream",
     "text": [
      "exception occured:\n"
     ]
    },
    {
     "name": "stderr",
     "output_type": "stream",
     "text": [
      "Traceback (most recent call last):\n",
      "  File \"<ipython-input-1-2819997e6078>\", line 37, in experiment_batch\n",
      "    result = request_funcs.workload_funcs[service_name](batch_size=batch_size)\n",
      "  File \"/home/ubuntu/serverless-ml-serving/experiments/helpers/request_funcs.py\", line 150, in request_tfserving_resnetv2\n",
      "    response.raise_for_status()\n",
      "  File \"/home/ubuntu/miniconda/lib/python3.8/site-packages/requests/models.py\", line 943, in raise_for_status\n",
      "    raise HTTPError(http_error_msg, response=self)\n",
      "requests.exceptions.HTTPError: 504 Server Error: Gateway Timeout for url: http://tfserving-resnetv2.default.kn.nima-dev.com/v1/models/resnet:predict\n"
     ]
    },
    {
     "name": "stdout",
     "output_type": "stream",
     "text": [
      "exception occured:\n"
     ]
    },
    {
     "name": "stderr",
     "output_type": "stream",
     "text": [
      "Traceback (most recent call last):\n",
      "  File \"<ipython-input-1-2819997e6078>\", line 37, in experiment_batch\n",
      "    result = request_funcs.workload_funcs[service_name](batch_size=batch_size)\n",
      "  File \"/home/ubuntu/serverless-ml-serving/experiments/helpers/request_funcs.py\", line 150, in request_tfserving_resnetv2\n",
      "    response.raise_for_status()\n",
      "  File \"/home/ubuntu/miniconda/lib/python3.8/site-packages/requests/models.py\", line 943, in raise_for_status\n",
      "    raise HTTPError(http_error_msg, response=self)\n",
      "requests.exceptions.HTTPError: 504 Server Error: Gateway Timeout for url: http://tfserving-resnetv2.default.kn.nima-dev.com/v1/models/resnet:predict\n"
     ]
    },
    {
     "name": "stdout",
     "output_type": "stream",
     "text": [
      "exception occured:\n"
     ]
    },
    {
     "name": "stderr",
     "output_type": "stream",
     "text": [
      "Traceback (most recent call last):\n",
      "  File \"<ipython-input-1-2819997e6078>\", line 37, in experiment_batch\n",
      "    result = request_funcs.workload_funcs[service_name](batch_size=batch_size)\n",
      "  File \"/home/ubuntu/serverless-ml-serving/experiments/helpers/request_funcs.py\", line 150, in request_tfserving_resnetv2\n",
      "    response.raise_for_status()\n",
      "  File \"/home/ubuntu/miniconda/lib/python3.8/site-packages/requests/models.py\", line 943, in raise_for_status\n",
      "    raise HTTPError(http_error_msg, response=self)\n",
      "requests.exceptions.HTTPError: 504 Server Error: Gateway Timeout for url: http://tfserving-resnetv2.default.kn.nima-dev.com/v1/models/resnet:predict\n"
     ]
    },
    {
     "name": "stdout",
     "output_type": "stream",
     "text": [
      "exception occured:\n"
     ]
    },
    {
     "name": "stderr",
     "output_type": "stream",
     "text": [
      "Traceback (most recent call last):\n",
      "  File \"<ipython-input-1-2819997e6078>\", line 37, in experiment_batch\n",
      "    result = request_funcs.workload_funcs[service_name](batch_size=batch_size)\n",
      "  File \"/home/ubuntu/serverless-ml-serving/experiments/helpers/request_funcs.py\", line 150, in request_tfserving_resnetv2\n",
      "    response.raise_for_status()\n",
      "  File \"/home/ubuntu/miniconda/lib/python3.8/site-packages/requests/models.py\", line 943, in raise_for_status\n",
      "    raise HTTPError(http_error_msg, response=self)\n",
      "requests.exceptions.HTTPError: 504 Server Error: Gateway Timeout for url: http://tfserving-resnetv2.default.kn.nima-dev.com/v1/models/resnet:predict\n"
     ]
    },
    {
     "name": "stdout",
     "output_type": "stream",
     "text": [
      "exception occured:\n"
     ]
    },
    {
     "name": "stderr",
     "output_type": "stream",
     "text": [
      "Traceback (most recent call last):\n",
      "  File \"<ipython-input-1-2819997e6078>\", line 37, in experiment_batch\n",
      "    result = request_funcs.workload_funcs[service_name](batch_size=batch_size)\n",
      "  File \"/home/ubuntu/serverless-ml-serving/experiments/helpers/request_funcs.py\", line 150, in request_tfserving_resnetv2\n",
      "    response.raise_for_status()\n",
      "  File \"/home/ubuntu/miniconda/lib/python3.8/site-packages/requests/models.py\", line 943, in raise_for_status\n",
      "    raise HTTPError(http_error_msg, response=self)\n",
      "requests.exceptions.HTTPError: 504 Server Error: Gateway Timeout for url: http://tfserving-resnetv2.default.kn.nima-dev.com/v1/models/resnet:predict\n"
     ]
    },
    {
     "name": "stdout",
     "output_type": "stream",
     "text": [
      "exception occured:\n"
     ]
    },
    {
     "name": "stderr",
     "output_type": "stream",
     "text": [
      "Traceback (most recent call last):\n",
      "  File \"<ipython-input-1-2819997e6078>\", line 37, in experiment_batch\n",
      "    result = request_funcs.workload_funcs[service_name](batch_size=batch_size)\n",
      "  File \"/home/ubuntu/serverless-ml-serving/experiments/helpers/request_funcs.py\", line 150, in request_tfserving_resnetv2\n",
      "    response.raise_for_status()\n",
      "  File \"/home/ubuntu/miniconda/lib/python3.8/site-packages/requests/models.py\", line 943, in raise_for_status\n",
      "    raise HTTPError(http_error_msg, response=self)\n",
      "requests.exceptions.HTTPError: 504 Server Error: Gateway Timeout for url: http://tfserving-resnetv2.default.kn.nima-dev.com/v1/models/resnet:predict\n"
     ]
    },
    {
     "name": "stdout",
     "output_type": "stream",
     "text": [
      "exception occured:\n"
     ]
    },
    {
     "name": "stderr",
     "output_type": "stream",
     "text": [
      "Traceback (most recent call last):\n",
      "  File \"<ipython-input-1-2819997e6078>\", line 37, in experiment_batch\n",
      "    result = request_funcs.workload_funcs[service_name](batch_size=batch_size)\n",
      "  File \"/home/ubuntu/serverless-ml-serving/experiments/helpers/request_funcs.py\", line 150, in request_tfserving_resnetv2\n",
      "    response.raise_for_status()\n",
      "  File \"/home/ubuntu/miniconda/lib/python3.8/site-packages/requests/models.py\", line 943, in raise_for_status\n",
      "    raise HTTPError(http_error_msg, response=self)\n",
      "requests.exceptions.HTTPError: 504 Server Error: Gateway Timeout for url: http://tfserving-resnetv2.default.kn.nima-dev.com/v1/models/resnet:predict\n"
     ]
    },
    {
     "name": "stdout",
     "output_type": "stream",
     "text": [
      "exception occured:\n"
     ]
    },
    {
     "name": "stderr",
     "output_type": "stream",
     "text": [
      "Traceback (most recent call last):\n",
      "  File \"<ipython-input-1-2819997e6078>\", line 37, in experiment_batch\n",
      "    result = request_funcs.workload_funcs[service_name](batch_size=batch_size)\n",
      "  File \"/home/ubuntu/serverless-ml-serving/experiments/helpers/request_funcs.py\", line 150, in request_tfserving_resnetv2\n",
      "    response.raise_for_status()\n",
      "  File \"/home/ubuntu/miniconda/lib/python3.8/site-packages/requests/models.py\", line 943, in raise_for_status\n",
      "    raise HTTPError(http_error_msg, response=self)\n",
      "requests.exceptions.HTTPError: 504 Server Error: Gateway Timeout for url: http://tfserving-resnetv2.default.kn.nima-dev.com/v1/models/resnet:predict\n"
     ]
    },
    {
     "name": "stdout",
     "output_type": "stream",
     "text": [
      "exception occured:\n"
     ]
    },
    {
     "name": "stderr",
     "output_type": "stream",
     "text": [
      "Traceback (most recent call last):\n",
      "  File \"<ipython-input-1-2819997e6078>\", line 37, in experiment_batch\n",
      "    result = request_funcs.workload_funcs[service_name](batch_size=batch_size)\n",
      "  File \"/home/ubuntu/serverless-ml-serving/experiments/helpers/request_funcs.py\", line 150, in request_tfserving_resnetv2\n",
      "    response.raise_for_status()\n",
      "  File \"/home/ubuntu/miniconda/lib/python3.8/site-packages/requests/models.py\", line 943, in raise_for_status\n",
      "    raise HTTPError(http_error_msg, response=self)\n",
      "requests.exceptions.HTTPError: 504 Server Error: Gateway Timeout for url: http://tfserving-resnetv2.default.kn.nima-dev.com/v1/models/resnet:predict\n"
     ]
    },
    {
     "name": "stdout",
     "output_type": "stream",
     "text": [
      "exception occured:\n"
     ]
    },
    {
     "name": "stderr",
     "output_type": "stream",
     "text": [
      "Traceback (most recent call last):\n",
      "  File \"<ipython-input-1-2819997e6078>\", line 37, in experiment_batch\n",
      "    result = request_funcs.workload_funcs[service_name](batch_size=batch_size)\n",
      "  File \"/home/ubuntu/serverless-ml-serving/experiments/helpers/request_funcs.py\", line 150, in request_tfserving_resnetv2\n",
      "    response.raise_for_status()\n",
      "  File \"/home/ubuntu/miniconda/lib/python3.8/site-packages/requests/models.py\", line 943, in raise_for_status\n",
      "    raise HTTPError(http_error_msg, response=self)\n",
      "requests.exceptions.HTTPError: 504 Server Error: Gateway Timeout for url: http://tfserving-resnetv2.default.kn.nima-dev.com/v1/models/resnet:predict\n"
     ]
    },
    {
     "name": "stdout",
     "output_type": "stream",
     "text": [
      "exception occured:\n"
     ]
    },
    {
     "name": "stderr",
     "output_type": "stream",
     "text": [
      "Traceback (most recent call last):\n",
      "  File \"<ipython-input-1-2819997e6078>\", line 37, in experiment_batch\n",
      "    result = request_funcs.workload_funcs[service_name](batch_size=batch_size)\n",
      "  File \"/home/ubuntu/serverless-ml-serving/experiments/helpers/request_funcs.py\", line 150, in request_tfserving_resnetv2\n",
      "    response.raise_for_status()\n",
      "  File \"/home/ubuntu/miniconda/lib/python3.8/site-packages/requests/models.py\", line 943, in raise_for_status\n",
      "    raise HTTPError(http_error_msg, response=self)\n",
      "requests.exceptions.HTTPError: 504 Server Error: Gateway Timeout for url: http://tfserving-resnetv2.default.kn.nima-dev.com/v1/models/resnet:predict\n"
     ]
    },
    {
     "name": "stdout",
     "output_type": "stream",
     "text": [
      "exception occured:\n"
     ]
    },
    {
     "name": "stderr",
     "output_type": "stream",
     "text": [
      "Traceback (most recent call last):\n",
      "  File \"<ipython-input-1-2819997e6078>\", line 37, in experiment_batch\n",
      "    result = request_funcs.workload_funcs[service_name](batch_size=batch_size)\n",
      "  File \"/home/ubuntu/serverless-ml-serving/experiments/helpers/request_funcs.py\", line 150, in request_tfserving_resnetv2\n",
      "    response.raise_for_status()\n",
      "  File \"/home/ubuntu/miniconda/lib/python3.8/site-packages/requests/models.py\", line 943, in raise_for_status\n",
      "    raise HTTPError(http_error_msg, response=self)\n",
      "requests.exceptions.HTTPError: 504 Server Error: Gateway Timeout for url: http://tfserving-resnetv2.default.kn.nima-dev.com/v1/models/resnet:predict\n"
     ]
    },
    {
     "name": "stdout",
     "output_type": "stream",
     "text": [
      "exception occured:\n"
     ]
    },
    {
     "name": "stderr",
     "output_type": "stream",
     "text": [
      "Traceback (most recent call last):\n",
      "  File \"<ipython-input-1-2819997e6078>\", line 37, in experiment_batch\n",
      "    result = request_funcs.workload_funcs[service_name](batch_size=batch_size)\n",
      "  File \"/home/ubuntu/serverless-ml-serving/experiments/helpers/request_funcs.py\", line 150, in request_tfserving_resnetv2\n",
      "    response.raise_for_status()\n",
      "  File \"/home/ubuntu/miniconda/lib/python3.8/site-packages/requests/models.py\", line 943, in raise_for_status\n",
      "    raise HTTPError(http_error_msg, response=self)\n",
      "requests.exceptions.HTTPError: 504 Server Error: Gateway Timeout for url: http://tfserving-resnetv2.default.kn.nima-dev.com/v1/models/resnet:predict\n"
     ]
    },
    {
     "name": "stdout",
     "output_type": "stream",
     "text": [
      "exception occured:\n"
     ]
    },
    {
     "name": "stderr",
     "output_type": "stream",
     "text": [
      "Traceback (most recent call last):\n",
      "  File \"<ipython-input-1-2819997e6078>\", line 37, in experiment_batch\n",
      "    result = request_funcs.workload_funcs[service_name](batch_size=batch_size)\n",
      "  File \"/home/ubuntu/serverless-ml-serving/experiments/helpers/request_funcs.py\", line 150, in request_tfserving_resnetv2\n",
      "    response.raise_for_status()\n",
      "  File \"/home/ubuntu/miniconda/lib/python3.8/site-packages/requests/models.py\", line 943, in raise_for_status\n",
      "    raise HTTPError(http_error_msg, response=self)\n",
      "requests.exceptions.HTTPError: 504 Server Error: Gateway Timeout for url: http://tfserving-resnetv2.default.kn.nima-dev.com/v1/models/resnet:predict\n"
     ]
    },
    {
     "name": "stdout",
     "output_type": "stream",
     "text": [
      "exception occured:\n"
     ]
    },
    {
     "name": "stderr",
     "output_type": "stream",
     "text": [
      "Traceback (most recent call last):\n",
      "  File \"<ipython-input-1-2819997e6078>\", line 37, in experiment_batch\n",
      "    result = request_funcs.workload_funcs[service_name](batch_size=batch_size)\n",
      "  File \"/home/ubuntu/serverless-ml-serving/experiments/helpers/request_funcs.py\", line 150, in request_tfserving_resnetv2\n",
      "    response.raise_for_status()\n",
      "  File \"/home/ubuntu/miniconda/lib/python3.8/site-packages/requests/models.py\", line 943, in raise_for_status\n",
      "    raise HTTPError(http_error_msg, response=self)\n",
      "requests.exceptions.HTTPError: 504 Server Error: Gateway Timeout for url: http://tfserving-resnetv2.default.kn.nima-dev.com/v1/models/resnet:predict\n"
     ]
    },
    {
     "name": "stdout",
     "output_type": "stream",
     "text": [
      "exception occured:\n"
     ]
    },
    {
     "name": "stderr",
     "output_type": "stream",
     "text": [
      "Traceback (most recent call last):\n",
      "  File \"<ipython-input-1-2819997e6078>\", line 37, in experiment_batch\n",
      "    result = request_funcs.workload_funcs[service_name](batch_size=batch_size)\n",
      "  File \"/home/ubuntu/serverless-ml-serving/experiments/helpers/request_funcs.py\", line 150, in request_tfserving_resnetv2\n",
      "    response.raise_for_status()\n",
      "  File \"/home/ubuntu/miniconda/lib/python3.8/site-packages/requests/models.py\", line 943, in raise_for_status\n",
      "    raise HTTPError(http_error_msg, response=self)\n",
      "requests.exceptions.HTTPError: 504 Server Error: Gateway Timeout for url: http://tfserving-resnetv2.default.kn.nima-dev.com/v1/models/resnet:predict\n"
     ]
    },
    {
     "name": "stdout",
     "output_type": "stream",
     "text": [
      "exception occured:\n"
     ]
    },
    {
     "name": "stderr",
     "output_type": "stream",
     "text": [
      "Traceback (most recent call last):\n",
      "  File \"<ipython-input-1-2819997e6078>\", line 37, in experiment_batch\n",
      "    result = request_funcs.workload_funcs[service_name](batch_size=batch_size)\n",
      "  File \"/home/ubuntu/serverless-ml-serving/experiments/helpers/request_funcs.py\", line 150, in request_tfserving_resnetv2\n",
      "    response.raise_for_status()\n",
      "  File \"/home/ubuntu/miniconda/lib/python3.8/site-packages/requests/models.py\", line 943, in raise_for_status\n",
      "    raise HTTPError(http_error_msg, response=self)\n",
      "requests.exceptions.HTTPError: 504 Server Error: Gateway Timeout for url: http://tfserving-resnetv2.default.kn.nima-dev.com/v1/models/resnet:predict\n"
     ]
    },
    {
     "name": "stdout",
     "output_type": "stream",
     "text": [
      "exception occured:\n"
     ]
    },
    {
     "name": "stderr",
     "output_type": "stream",
     "text": [
      "Traceback (most recent call last):\n",
      "  File \"<ipython-input-1-2819997e6078>\", line 37, in experiment_batch\n",
      "    result = request_funcs.workload_funcs[service_name](batch_size=batch_size)\n",
      "  File \"/home/ubuntu/serverless-ml-serving/experiments/helpers/request_funcs.py\", line 150, in request_tfserving_resnetv2\n",
      "    response.raise_for_status()\n",
      "  File \"/home/ubuntu/miniconda/lib/python3.8/site-packages/requests/models.py\", line 943, in raise_for_status\n",
      "    raise HTTPError(http_error_msg, response=self)\n",
      "requests.exceptions.HTTPError: 504 Server Error: Gateway Timeout for url: http://tfserving-resnetv2.default.kn.nima-dev.com/v1/models/resnet:predict\n"
     ]
    },
    {
     "name": "stdout",
     "output_type": "stream",
     "text": [
      "exception occured:\n"
     ]
    },
    {
     "name": "stderr",
     "output_type": "stream",
     "text": [
      "Traceback (most recent call last):\n",
      "  File \"<ipython-input-1-2819997e6078>\", line 37, in experiment_batch\n",
      "    result = request_funcs.workload_funcs[service_name](batch_size=batch_size)\n",
      "  File \"/home/ubuntu/serverless-ml-serving/experiments/helpers/request_funcs.py\", line 150, in request_tfserving_resnetv2\n",
      "    response.raise_for_status()\n",
      "  File \"/home/ubuntu/miniconda/lib/python3.8/site-packages/requests/models.py\", line 943, in raise_for_status\n",
      "    raise HTTPError(http_error_msg, response=self)\n",
      "requests.exceptions.HTTPError: 504 Server Error: Gateway Timeout for url: http://tfserving-resnetv2.default.kn.nima-dev.com/v1/models/resnet:predict\n"
     ]
    },
    {
     "name": "stdout",
     "output_type": "stream",
     "text": [
      "exception occured:\n"
     ]
    },
    {
     "name": "stderr",
     "output_type": "stream",
     "text": [
      "Traceback (most recent call last):\n",
      "  File \"<ipython-input-1-2819997e6078>\", line 37, in experiment_batch\n",
      "    result = request_funcs.workload_funcs[service_name](batch_size=batch_size)\n",
      "  File \"/home/ubuntu/serverless-ml-serving/experiments/helpers/request_funcs.py\", line 150, in request_tfserving_resnetv2\n",
      "    response.raise_for_status()\n",
      "  File \"/home/ubuntu/miniconda/lib/python3.8/site-packages/requests/models.py\", line 943, in raise_for_status\n",
      "    raise HTTPError(http_error_msg, response=self)\n",
      "requests.exceptions.HTTPError: 504 Server Error: Gateway Timeout for url: http://tfserving-resnetv2.default.kn.nima-dev.com/v1/models/resnet:predict\n"
     ]
    },
    {
     "name": "stdout",
     "output_type": "stream",
     "text": [
      "exception occured:\n"
     ]
    },
    {
     "name": "stderr",
     "output_type": "stream",
     "text": [
      "Traceback (most recent call last):\n",
      "  File \"<ipython-input-1-2819997e6078>\", line 37, in experiment_batch\n",
      "    result = request_funcs.workload_funcs[service_name](batch_size=batch_size)\n",
      "  File \"/home/ubuntu/serverless-ml-serving/experiments/helpers/request_funcs.py\", line 150, in request_tfserving_resnetv2\n",
      "    response.raise_for_status()\n",
      "  File \"/home/ubuntu/miniconda/lib/python3.8/site-packages/requests/models.py\", line 943, in raise_for_status\n",
      "    raise HTTPError(http_error_msg, response=self)\n",
      "requests.exceptions.HTTPError: 504 Server Error: Gateway Timeout for url: http://tfserving-resnetv2.default.kn.nima-dev.com/v1/models/resnet:predict\n"
     ]
    },
    {
     "name": "stdout",
     "output_type": "stream",
     "text": [
      "exception occured:\n"
     ]
    },
    {
     "name": "stderr",
     "output_type": "stream",
     "text": [
      "Traceback (most recent call last):\n",
      "  File \"<ipython-input-1-2819997e6078>\", line 37, in experiment_batch\n",
      "    result = request_funcs.workload_funcs[service_name](batch_size=batch_size)\n",
      "  File \"/home/ubuntu/serverless-ml-serving/experiments/helpers/request_funcs.py\", line 150, in request_tfserving_resnetv2\n",
      "    response.raise_for_status()\n",
      "  File \"/home/ubuntu/miniconda/lib/python3.8/site-packages/requests/models.py\", line 943, in raise_for_status\n",
      "    raise HTTPError(http_error_msg, response=self)\n",
      "requests.exceptions.HTTPError: 504 Server Error: Gateway Timeout for url: http://tfserving-resnetv2.default.kn.nima-dev.com/v1/models/resnet:predict\n"
     ]
    },
    {
     "name": "stdout",
     "output_type": "stream",
     "text": [
      "exception occured:\n"
     ]
    },
    {
     "name": "stderr",
     "output_type": "stream",
     "text": [
      "Traceback (most recent call last):\n",
      "  File \"<ipython-input-1-2819997e6078>\", line 37, in experiment_batch\n",
      "    result = request_funcs.workload_funcs[service_name](batch_size=batch_size)\n",
      "  File \"/home/ubuntu/serverless-ml-serving/experiments/helpers/request_funcs.py\", line 150, in request_tfserving_resnetv2\n",
      "    response.raise_for_status()\n",
      "  File \"/home/ubuntu/miniconda/lib/python3.8/site-packages/requests/models.py\", line 943, in raise_for_status\n",
      "    raise HTTPError(http_error_msg, response=self)\n",
      "requests.exceptions.HTTPError: 504 Server Error: Gateway Timeout for url: http://tfserving-resnetv2.default.kn.nima-dev.com/v1/models/resnet:predict\n"
     ]
    },
    {
     "name": "stdout",
     "output_type": "stream",
     "text": [
      "exception occured:\n"
     ]
    },
    {
     "name": "stderr",
     "output_type": "stream",
     "text": [
      "Traceback (most recent call last):\n",
      "  File \"<ipython-input-1-2819997e6078>\", line 37, in experiment_batch\n",
      "    result = request_funcs.workload_funcs[service_name](batch_size=batch_size)\n",
      "  File \"/home/ubuntu/serverless-ml-serving/experiments/helpers/request_funcs.py\", line 150, in request_tfserving_resnetv2\n",
      "    response.raise_for_status()\n",
      "  File \"/home/ubuntu/miniconda/lib/python3.8/site-packages/requests/models.py\", line 943, in raise_for_status\n",
      "    raise HTTPError(http_error_msg, response=self)\n",
      "requests.exceptions.HTTPError: 504 Server Error: Gateway Timeout for url: http://tfserving-resnetv2.default.kn.nima-dev.com/v1/models/resnet:predict\n"
     ]
    },
    {
     "name": "stdout",
     "output_type": "stream",
     "text": [
      "exception occured:\n"
     ]
    },
    {
     "name": "stderr",
     "output_type": "stream",
     "text": [
      "Traceback (most recent call last):\n",
      "  File \"<ipython-input-1-2819997e6078>\", line 37, in experiment_batch\n",
      "    result = request_funcs.workload_funcs[service_name](batch_size=batch_size)\n",
      "  File \"/home/ubuntu/serverless-ml-serving/experiments/helpers/request_funcs.py\", line 150, in request_tfserving_resnetv2\n",
      "    response.raise_for_status()\n",
      "  File \"/home/ubuntu/miniconda/lib/python3.8/site-packages/requests/models.py\", line 943, in raise_for_status\n",
      "    raise HTTPError(http_error_msg, response=self)\n",
      "requests.exceptions.HTTPError: 504 Server Error: Gateway Timeout for url: http://tfserving-resnetv2.default.kn.nima-dev.com/v1/models/resnet:predict\n"
     ]
    },
    {
     "name": "stdout",
     "output_type": "stream",
     "text": [
      "exception occured:\n"
     ]
    },
    {
     "name": "stderr",
     "output_type": "stream",
     "text": [
      "Traceback (most recent call last):\n",
      "  File \"<ipython-input-1-2819997e6078>\", line 37, in experiment_batch\n",
      "    result = request_funcs.workload_funcs[service_name](batch_size=batch_size)\n",
      "  File \"/home/ubuntu/serverless-ml-serving/experiments/helpers/request_funcs.py\", line 150, in request_tfserving_resnetv2\n",
      "    response.raise_for_status()\n",
      "  File \"/home/ubuntu/miniconda/lib/python3.8/site-packages/requests/models.py\", line 943, in raise_for_status\n",
      "    raise HTTPError(http_error_msg, response=self)\n",
      "requests.exceptions.HTTPError: 504 Server Error: Gateway Timeout for url: http://tfserving-resnetv2.default.kn.nima-dev.com/v1/models/resnet:predict\n"
     ]
    },
    {
     "name": "stdout",
     "output_type": "stream",
     "text": [
      "exception occured:\n"
     ]
    },
    {
     "name": "stderr",
     "output_type": "stream",
     "text": [
      "Traceback (most recent call last):\n",
      "  File \"<ipython-input-1-2819997e6078>\", line 37, in experiment_batch\n",
      "    result = request_funcs.workload_funcs[service_name](batch_size=batch_size)\n",
      "  File \"/home/ubuntu/serverless-ml-serving/experiments/helpers/request_funcs.py\", line 150, in request_tfserving_resnetv2\n",
      "    response.raise_for_status()\n",
      "  File \"/home/ubuntu/miniconda/lib/python3.8/site-packages/requests/models.py\", line 943, in raise_for_status\n",
      "    raise HTTPError(http_error_msg, response=self)\n",
      "requests.exceptions.HTTPError: 504 Server Error: Gateway Timeout for url: http://tfserving-resnetv2.default.kn.nima-dev.com/v1/models/resnet:predict\n"
     ]
    },
    {
     "name": "stdout",
     "output_type": "stream",
     "text": [
      "exception occured:\n"
     ]
    },
    {
     "name": "stderr",
     "output_type": "stream",
     "text": [
      "Traceback (most recent call last):\n",
      "  File \"<ipython-input-1-2819997e6078>\", line 37, in experiment_batch\n",
      "    result = request_funcs.workload_funcs[service_name](batch_size=batch_size)\n",
      "  File \"/home/ubuntu/serverless-ml-serving/experiments/helpers/request_funcs.py\", line 150, in request_tfserving_resnetv2\n",
      "    response.raise_for_status()\n",
      "  File \"/home/ubuntu/miniconda/lib/python3.8/site-packages/requests/models.py\", line 943, in raise_for_status\n",
      "    raise HTTPError(http_error_msg, response=self)\n",
      "requests.exceptions.HTTPError: 504 Server Error: Gateway Timeout for url: http://tfserving-resnetv2.default.kn.nima-dev.com/v1/models/resnet:predict\n"
     ]
    },
    {
     "name": "stdout",
     "output_type": "stream",
     "text": [
      "exception occured:\n"
     ]
    },
    {
     "name": "stderr",
     "output_type": "stream",
     "text": [
      "Traceback (most recent call last):\n",
      "  File \"<ipython-input-1-2819997e6078>\", line 37, in experiment_batch\n",
      "    result = request_funcs.workload_funcs[service_name](batch_size=batch_size)\n",
      "  File \"/home/ubuntu/serverless-ml-serving/experiments/helpers/request_funcs.py\", line 150, in request_tfserving_resnetv2\n",
      "    response.raise_for_status()\n",
      "  File \"/home/ubuntu/miniconda/lib/python3.8/site-packages/requests/models.py\", line 943, in raise_for_status\n",
      "    raise HTTPError(http_error_msg, response=self)\n",
      "requests.exceptions.HTTPError: 504 Server Error: Gateway Timeout for url: http://tfserving-resnetv2.default.kn.nima-dev.com/v1/models/resnet:predict\n"
     ]
    },
    {
     "name": "stdout",
     "output_type": "stream",
     "text": [
      "exception occured:\n"
     ]
    },
    {
     "name": "stderr",
     "output_type": "stream",
     "text": [
      "Traceback (most recent call last):\n",
      "  File \"<ipython-input-1-2819997e6078>\", line 37, in experiment_batch\n",
      "    result = request_funcs.workload_funcs[service_name](batch_size=batch_size)\n",
      "  File \"/home/ubuntu/serverless-ml-serving/experiments/helpers/request_funcs.py\", line 150, in request_tfserving_resnetv2\n",
      "    response.raise_for_status()\n",
      "  File \"/home/ubuntu/miniconda/lib/python3.8/site-packages/requests/models.py\", line 943, in raise_for_status\n",
      "    raise HTTPError(http_error_msg, response=self)\n",
      "requests.exceptions.HTTPError: 504 Server Error: Gateway Timeout for url: http://tfserving-resnetv2.default.kn.nima-dev.com/v1/models/resnet:predict\n"
     ]
    },
    {
     "name": "stdout",
     "output_type": "stream",
     "text": [
      "exception occured:\n"
     ]
    },
    {
     "name": "stderr",
     "output_type": "stream",
     "text": [
      "Traceback (most recent call last):\n",
      "  File \"<ipython-input-1-2819997e6078>\", line 37, in experiment_batch\n",
      "    result = request_funcs.workload_funcs[service_name](batch_size=batch_size)\n",
      "  File \"/home/ubuntu/serverless-ml-serving/experiments/helpers/request_funcs.py\", line 150, in request_tfserving_resnetv2\n",
      "    response.raise_for_status()\n",
      "  File \"/home/ubuntu/miniconda/lib/python3.8/site-packages/requests/models.py\", line 943, in raise_for_status\n",
      "    raise HTTPError(http_error_msg, response=self)\n",
      "requests.exceptions.HTTPError: 504 Server Error: Gateway Timeout for url: http://tfserving-resnetv2.default.kn.nima-dev.com/v1/models/resnet:predict\n"
     ]
    },
    {
     "name": "stdout",
     "output_type": "stream",
     "text": [
      "exception occured:\n"
     ]
    },
    {
     "name": "stderr",
     "output_type": "stream",
     "text": [
      "Traceback (most recent call last):\n",
      "  File \"<ipython-input-1-2819997e6078>\", line 37, in experiment_batch\n",
      "    result = request_funcs.workload_funcs[service_name](batch_size=batch_size)\n",
      "  File \"/home/ubuntu/serverless-ml-serving/experiments/helpers/request_funcs.py\", line 150, in request_tfserving_resnetv2\n",
      "    response.raise_for_status()\n",
      "  File \"/home/ubuntu/miniconda/lib/python3.8/site-packages/requests/models.py\", line 943, in raise_for_status\n",
      "    raise HTTPError(http_error_msg, response=self)\n",
      "requests.exceptions.HTTPError: 504 Server Error: Gateway Timeout for url: http://tfserving-resnetv2.default.kn.nima-dev.com/v1/models/resnet:predict\n"
     ]
    },
    {
     "name": "stdout",
     "output_type": "stream",
     "text": [
      "exception occured:\n"
     ]
    },
    {
     "name": "stderr",
     "output_type": "stream",
     "text": [
      "Traceback (most recent call last):\n",
      "  File \"<ipython-input-1-2819997e6078>\", line 37, in experiment_batch\n",
      "    result = request_funcs.workload_funcs[service_name](batch_size=batch_size)\n",
      "  File \"/home/ubuntu/serverless-ml-serving/experiments/helpers/request_funcs.py\", line 150, in request_tfserving_resnetv2\n",
      "    response.raise_for_status()\n",
      "  File \"/home/ubuntu/miniconda/lib/python3.8/site-packages/requests/models.py\", line 943, in raise_for_status\n",
      "    raise HTTPError(http_error_msg, response=self)\n",
      "requests.exceptions.HTTPError: 504 Server Error: Gateway Timeout for url: http://tfserving-resnetv2.default.kn.nima-dev.com/v1/models/resnet:predict\n"
     ]
    },
    {
     "name": "stdout",
     "output_type": "stream",
     "text": [
      "exception occured:\n"
     ]
    },
    {
     "name": "stderr",
     "output_type": "stream",
     "text": [
      "Traceback (most recent call last):\n",
      "  File \"<ipython-input-1-2819997e6078>\", line 37, in experiment_batch\n",
      "    result = request_funcs.workload_funcs[service_name](batch_size=batch_size)\n",
      "  File \"/home/ubuntu/serverless-ml-serving/experiments/helpers/request_funcs.py\", line 150, in request_tfserving_resnetv2\n",
      "    response.raise_for_status()\n",
      "  File \"/home/ubuntu/miniconda/lib/python3.8/site-packages/requests/models.py\", line 943, in raise_for_status\n",
      "    raise HTTPError(http_error_msg, response=self)\n",
      "requests.exceptions.HTTPError: 504 Server Error: Gateway Timeout for url: http://tfserving-resnetv2.default.kn.nima-dev.com/v1/models/resnet:predict\n"
     ]
    },
    {
     "name": "stdout",
     "output_type": "stream",
     "text": [
      "exception occured:\n"
     ]
    },
    {
     "name": "stderr",
     "output_type": "stream",
     "text": [
      "Traceback (most recent call last):\n",
      "  File \"<ipython-input-1-2819997e6078>\", line 37, in experiment_batch\n",
      "    result = request_funcs.workload_funcs[service_name](batch_size=batch_size)\n",
      "  File \"/home/ubuntu/serverless-ml-serving/experiments/helpers/request_funcs.py\", line 150, in request_tfserving_resnetv2\n",
      "    response.raise_for_status()\n",
      "  File \"/home/ubuntu/miniconda/lib/python3.8/site-packages/requests/models.py\", line 943, in raise_for_status\n",
      "    raise HTTPError(http_error_msg, response=self)\n",
      "requests.exceptions.HTTPError: 504 Server Error: Gateway Timeout for url: http://tfserving-resnetv2.default.kn.nima-dev.com/v1/models/resnet:predict\n"
     ]
    },
    {
     "name": "stdout",
     "output_type": "stream",
     "text": [
      "exception occured:\n"
     ]
    },
    {
     "name": "stderr",
     "output_type": "stream",
     "text": [
      "Traceback (most recent call last):\n",
      "  File \"<ipython-input-1-2819997e6078>\", line 37, in experiment_batch\n",
      "    result = request_funcs.workload_funcs[service_name](batch_size=batch_size)\n",
      "  File \"/home/ubuntu/serverless-ml-serving/experiments/helpers/request_funcs.py\", line 150, in request_tfserving_resnetv2\n",
      "    response.raise_for_status()\n",
      "  File \"/home/ubuntu/miniconda/lib/python3.8/site-packages/requests/models.py\", line 943, in raise_for_status\n",
      "    raise HTTPError(http_error_msg, response=self)\n",
      "requests.exceptions.HTTPError: 504 Server Error: Gateway Timeout for url: http://tfserving-resnetv2.default.kn.nima-dev.com/v1/models/resnet:predict\n"
     ]
    },
    {
     "name": "stdout",
     "output_type": "stream",
     "text": [
      "exception occured:\n"
     ]
    },
    {
     "name": "stderr",
     "output_type": "stream",
     "text": [
      "Traceback (most recent call last):\n",
      "  File \"<ipython-input-1-2819997e6078>\", line 37, in experiment_batch\n",
      "    result = request_funcs.workload_funcs[service_name](batch_size=batch_size)\n",
      "  File \"/home/ubuntu/serverless-ml-serving/experiments/helpers/request_funcs.py\", line 150, in request_tfserving_resnetv2\n",
      "    response.raise_for_status()\n",
      "  File \"/home/ubuntu/miniconda/lib/python3.8/site-packages/requests/models.py\", line 943, in raise_for_status\n",
      "    raise HTTPError(http_error_msg, response=self)\n",
      "requests.exceptions.HTTPError: 504 Server Error: Gateway Timeout for url: http://tfserving-resnetv2.default.kn.nima-dev.com/v1/models/resnet:predict\n"
     ]
    },
    {
     "name": "stdout",
     "output_type": "stream",
     "text": [
      "exception occured:\n"
     ]
    },
    {
     "name": "stderr",
     "output_type": "stream",
     "text": [
      "Traceback (most recent call last):\n",
      "  File \"<ipython-input-1-2819997e6078>\", line 37, in experiment_batch\n",
      "    result = request_funcs.workload_funcs[service_name](batch_size=batch_size)\n",
      "  File \"/home/ubuntu/serverless-ml-serving/experiments/helpers/request_funcs.py\", line 150, in request_tfserving_resnetv2\n",
      "    response.raise_for_status()\n",
      "  File \"/home/ubuntu/miniconda/lib/python3.8/site-packages/requests/models.py\", line 943, in raise_for_status\n",
      "    raise HTTPError(http_error_msg, response=self)\n",
      "requests.exceptions.HTTPError: 504 Server Error: Gateway Timeout for url: http://tfserving-resnetv2.default.kn.nima-dev.com/v1/models/resnet:predict\n"
     ]
    },
    {
     "name": "stdout",
     "output_type": "stream",
     "text": [
      "exception occured:\n"
     ]
    },
    {
     "name": "stderr",
     "output_type": "stream",
     "text": [
      "Traceback (most recent call last):\n",
      "  File \"<ipython-input-1-2819997e6078>\", line 37, in experiment_batch\n",
      "    result = request_funcs.workload_funcs[service_name](batch_size=batch_size)\n",
      "  File \"/home/ubuntu/serverless-ml-serving/experiments/helpers/request_funcs.py\", line 150, in request_tfserving_resnetv2\n",
      "    response.raise_for_status()\n",
      "  File \"/home/ubuntu/miniconda/lib/python3.8/site-packages/requests/models.py\", line 943, in raise_for_status\n",
      "    raise HTTPError(http_error_msg, response=self)\n",
      "requests.exceptions.HTTPError: 504 Server Error: Gateway Timeout for url: http://tfserving-resnetv2.default.kn.nima-dev.com/v1/models/resnet:predict\n"
     ]
    },
    {
     "name": "stdout",
     "output_type": "stream",
     "text": [
      "exception occured:\n"
     ]
    },
    {
     "name": "stderr",
     "output_type": "stream",
     "text": [
      "Traceback (most recent call last):\n",
      "  File \"<ipython-input-1-2819997e6078>\", line 37, in experiment_batch\n",
      "    result = request_funcs.workload_funcs[service_name](batch_size=batch_size)\n",
      "  File \"/home/ubuntu/serverless-ml-serving/experiments/helpers/request_funcs.py\", line 150, in request_tfserving_resnetv2\n",
      "    response.raise_for_status()\n",
      "  File \"/home/ubuntu/miniconda/lib/python3.8/site-packages/requests/models.py\", line 943, in raise_for_status\n",
      "    raise HTTPError(http_error_msg, response=self)\n",
      "requests.exceptions.HTTPError: 504 Server Error: Gateway Timeout for url: http://tfserving-resnetv2.default.kn.nima-dev.com/v1/models/resnet:predict\n"
     ]
    },
    {
     "name": "stdout",
     "output_type": "stream",
     "text": [
      "exception occured:\n"
     ]
    },
    {
     "name": "stderr",
     "output_type": "stream",
     "text": [
      "Traceback (most recent call last):\n",
      "  File \"<ipython-input-1-2819997e6078>\", line 37, in experiment_batch\n",
      "    result = request_funcs.workload_funcs[service_name](batch_size=batch_size)\n",
      "  File \"/home/ubuntu/serverless-ml-serving/experiments/helpers/request_funcs.py\", line 150, in request_tfserving_resnetv2\n",
      "    response.raise_for_status()\n",
      "  File \"/home/ubuntu/miniconda/lib/python3.8/site-packages/requests/models.py\", line 943, in raise_for_status\n",
      "    raise HTTPError(http_error_msg, response=self)\n",
      "requests.exceptions.HTTPError: 504 Server Error: Gateway Timeout for url: http://tfserving-resnetv2.default.kn.nima-dev.com/v1/models/resnet:predict\n"
     ]
    },
    {
     "name": "stdout",
     "output_type": "stream",
     "text": [
      "exception occured:\n"
     ]
    },
    {
     "name": "stderr",
     "output_type": "stream",
     "text": [
      "Traceback (most recent call last):\n",
      "  File \"<ipython-input-1-2819997e6078>\", line 37, in experiment_batch\n",
      "    result = request_funcs.workload_funcs[service_name](batch_size=batch_size)\n",
      "  File \"/home/ubuntu/serverless-ml-serving/experiments/helpers/request_funcs.py\", line 150, in request_tfserving_resnetv2\n",
      "    response.raise_for_status()\n",
      "  File \"/home/ubuntu/miniconda/lib/python3.8/site-packages/requests/models.py\", line 943, in raise_for_status\n",
      "    raise HTTPError(http_error_msg, response=self)\n",
      "requests.exceptions.HTTPError: 504 Server Error: Gateway Timeout for url: http://tfserving-resnetv2.default.kn.nima-dev.com/v1/models/resnet:predict\n"
     ]
    },
    {
     "name": "stdout",
     "output_type": "stream",
     "text": [
      "exception occured:\n"
     ]
    },
    {
     "name": "stderr",
     "output_type": "stream",
     "text": [
      "Traceback (most recent call last):\n",
      "  File \"<ipython-input-1-2819997e6078>\", line 37, in experiment_batch\n",
      "    result = request_funcs.workload_funcs[service_name](batch_size=batch_size)\n",
      "  File \"/home/ubuntu/serverless-ml-serving/experiments/helpers/request_funcs.py\", line 150, in request_tfserving_resnetv2\n",
      "    response.raise_for_status()\n",
      "  File \"/home/ubuntu/miniconda/lib/python3.8/site-packages/requests/models.py\", line 943, in raise_for_status\n",
      "    raise HTTPError(http_error_msg, response=self)\n",
      "requests.exceptions.HTTPError: 504 Server Error: Gateway Timeout for url: http://tfserving-resnetv2.default.kn.nima-dev.com/v1/models/resnet:predict\n"
     ]
    },
    {
     "name": "stdout",
     "output_type": "stream",
     "text": [
      "exception occured:\n"
     ]
    },
    {
     "name": "stderr",
     "output_type": "stream",
     "text": [
      "Traceback (most recent call last):\n",
      "  File \"<ipython-input-1-2819997e6078>\", line 37, in experiment_batch\n",
      "    result = request_funcs.workload_funcs[service_name](batch_size=batch_size)\n",
      "  File \"/home/ubuntu/serverless-ml-serving/experiments/helpers/request_funcs.py\", line 150, in request_tfserving_resnetv2\n",
      "    response.raise_for_status()\n",
      "  File \"/home/ubuntu/miniconda/lib/python3.8/site-packages/requests/models.py\", line 943, in raise_for_status\n",
      "    raise HTTPError(http_error_msg, response=self)\n",
      "requests.exceptions.HTTPError: 504 Server Error: Gateway Timeout for url: http://tfserving-resnetv2.default.kn.nima-dev.com/v1/models/resnet:predict\n"
     ]
    },
    {
     "name": "stdout",
     "output_type": "stream",
     "text": [
      "exception occured:\n"
     ]
    },
    {
     "name": "stderr",
     "output_type": "stream",
     "text": [
      "Traceback (most recent call last):\n",
      "  File \"<ipython-input-1-2819997e6078>\", line 37, in experiment_batch\n",
      "    result = request_funcs.workload_funcs[service_name](batch_size=batch_size)\n",
      "  File \"/home/ubuntu/serverless-ml-serving/experiments/helpers/request_funcs.py\", line 150, in request_tfserving_resnetv2\n",
      "    response.raise_for_status()\n",
      "  File \"/home/ubuntu/miniconda/lib/python3.8/site-packages/requests/models.py\", line 943, in raise_for_status\n",
      "    raise HTTPError(http_error_msg, response=self)\n",
      "requests.exceptions.HTTPError: 504 Server Error: Gateway Timeout for url: http://tfserving-resnetv2.default.kn.nima-dev.com/v1/models/resnet:predict\n"
     ]
    },
    {
     "name": "stdout",
     "output_type": "stream",
     "text": [
      "exception occured:\n"
     ]
    },
    {
     "name": "stderr",
     "output_type": "stream",
     "text": [
      "Traceback (most recent call last):\n",
      "  File \"<ipython-input-1-2819997e6078>\", line 37, in experiment_batch\n",
      "    result = request_funcs.workload_funcs[service_name](batch_size=batch_size)\n",
      "  File \"/home/ubuntu/serverless-ml-serving/experiments/helpers/request_funcs.py\", line 150, in request_tfserving_resnetv2\n",
      "    response.raise_for_status()\n",
      "  File \"/home/ubuntu/miniconda/lib/python3.8/site-packages/requests/models.py\", line 943, in raise_for_status\n",
      "    raise HTTPError(http_error_msg, response=self)\n",
      "requests.exceptions.HTTPError: 504 Server Error: Gateway Timeout for url: http://tfserving-resnetv2.default.kn.nima-dev.com/v1/models/resnet:predict\n"
     ]
    },
    {
     "name": "stdout",
     "output_type": "stream",
     "text": [
      "exception occured:\n"
     ]
    },
    {
     "name": "stderr",
     "output_type": "stream",
     "text": [
      "Traceback (most recent call last):\n",
      "  File \"<ipython-input-1-2819997e6078>\", line 37, in experiment_batch\n",
      "    result = request_funcs.workload_funcs[service_name](batch_size=batch_size)\n",
      "  File \"/home/ubuntu/serverless-ml-serving/experiments/helpers/request_funcs.py\", line 150, in request_tfserving_resnetv2\n",
      "    response.raise_for_status()\n",
      "  File \"/home/ubuntu/miniconda/lib/python3.8/site-packages/requests/models.py\", line 943, in raise_for_status\n",
      "    raise HTTPError(http_error_msg, response=self)\n",
      "requests.exceptions.HTTPError: 504 Server Error: Gateway Timeout for url: http://tfserving-resnetv2.default.kn.nima-dev.com/v1/models/resnet:predict\n"
     ]
    },
    {
     "name": "stdout",
     "output_type": "stream",
     "text": [
      "exception occured:\n"
     ]
    },
    {
     "name": "stderr",
     "output_type": "stream",
     "text": [
      "Traceback (most recent call last):\n",
      "  File \"<ipython-input-1-2819997e6078>\", line 37, in experiment_batch\n",
      "    result = request_funcs.workload_funcs[service_name](batch_size=batch_size)\n",
      "  File \"/home/ubuntu/serverless-ml-serving/experiments/helpers/request_funcs.py\", line 150, in request_tfserving_resnetv2\n",
      "    response.raise_for_status()\n",
      "  File \"/home/ubuntu/miniconda/lib/python3.8/site-packages/requests/models.py\", line 943, in raise_for_status\n",
      "    raise HTTPError(http_error_msg, response=self)\n",
      "requests.exceptions.HTTPError: 504 Server Error: Gateway Timeout for url: http://tfserving-resnetv2.default.kn.nima-dev.com/v1/models/resnet:predict\n"
     ]
    },
    {
     "name": "stdout",
     "output_type": "stream",
     "text": [
      "exception occured:\n"
     ]
    },
    {
     "name": "stderr",
     "output_type": "stream",
     "text": [
      "Traceback (most recent call last):\n",
      "  File \"<ipython-input-1-2819997e6078>\", line 37, in experiment_batch\n",
      "    result = request_funcs.workload_funcs[service_name](batch_size=batch_size)\n",
      "  File \"/home/ubuntu/serverless-ml-serving/experiments/helpers/request_funcs.py\", line 150, in request_tfserving_resnetv2\n",
      "    response.raise_for_status()\n",
      "  File \"/home/ubuntu/miniconda/lib/python3.8/site-packages/requests/models.py\", line 943, in raise_for_status\n",
      "    raise HTTPError(http_error_msg, response=self)\n",
      "requests.exceptions.HTTPError: 504 Server Error: Gateway Timeout for url: http://tfserving-resnetv2.default.kn.nima-dev.com/v1/models/resnet:predict\n"
     ]
    },
    {
     "name": "stdout",
     "output_type": "stream",
     "text": [
      "exception occured:\n"
     ]
    },
    {
     "name": "stderr",
     "output_type": "stream",
     "text": [
      "Traceback (most recent call last):\n",
      "  File \"<ipython-input-1-2819997e6078>\", line 37, in experiment_batch\n",
      "    result = request_funcs.workload_funcs[service_name](batch_size=batch_size)\n",
      "  File \"/home/ubuntu/serverless-ml-serving/experiments/helpers/request_funcs.py\", line 150, in request_tfserving_resnetv2\n",
      "    response.raise_for_status()\n",
      "  File \"/home/ubuntu/miniconda/lib/python3.8/site-packages/requests/models.py\", line 943, in raise_for_status\n",
      "    raise HTTPError(http_error_msg, response=self)\n",
      "requests.exceptions.HTTPError: 504 Server Error: Gateway Timeout for url: http://tfserving-resnetv2.default.kn.nima-dev.com/v1/models/resnet:predict\n"
     ]
    },
    {
     "name": "stdout",
     "output_type": "stream",
     "text": [
      "exception occured:\n"
     ]
    },
    {
     "name": "stderr",
     "output_type": "stream",
     "text": [
      "Traceback (most recent call last):\n",
      "  File \"<ipython-input-1-2819997e6078>\", line 37, in experiment_batch\n",
      "    result = request_funcs.workload_funcs[service_name](batch_size=batch_size)\n",
      "  File \"/home/ubuntu/serverless-ml-serving/experiments/helpers/request_funcs.py\", line 150, in request_tfserving_resnetv2\n",
      "    response.raise_for_status()\n",
      "  File \"/home/ubuntu/miniconda/lib/python3.8/site-packages/requests/models.py\", line 943, in raise_for_status\n",
      "    raise HTTPError(http_error_msg, response=self)\n",
      "requests.exceptions.HTTPError: 504 Server Error: Gateway Timeout for url: http://tfserving-resnetv2.default.kn.nima-dev.com/v1/models/resnet:predict\n"
     ]
    },
    {
     "name": "stdout",
     "output_type": "stream",
     "text": [
      "exception occured:\n"
     ]
    },
    {
     "name": "stderr",
     "output_type": "stream",
     "text": [
      "Traceback (most recent call last):\n",
      "  File \"<ipython-input-1-2819997e6078>\", line 37, in experiment_batch\n",
      "    result = request_funcs.workload_funcs[service_name](batch_size=batch_size)\n",
      "  File \"/home/ubuntu/serverless-ml-serving/experiments/helpers/request_funcs.py\", line 150, in request_tfserving_resnetv2\n",
      "    response.raise_for_status()\n",
      "  File \"/home/ubuntu/miniconda/lib/python3.8/site-packages/requests/models.py\", line 943, in raise_for_status\n",
      "    raise HTTPError(http_error_msg, response=self)\n",
      "requests.exceptions.HTTPError: 504 Server Error: Gateway Timeout for url: http://tfserving-resnetv2.default.kn.nima-dev.com/v1/models/resnet:predict\n"
     ]
    },
    {
     "name": "stdout",
     "output_type": "stream",
     "text": [
      "exception occured:\n"
     ]
    },
    {
     "name": "stderr",
     "output_type": "stream",
     "text": [
      "Traceback (most recent call last):\n",
      "  File \"<ipython-input-1-2819997e6078>\", line 37, in experiment_batch\n",
      "    result = request_funcs.workload_funcs[service_name](batch_size=batch_size)\n",
      "  File \"/home/ubuntu/serverless-ml-serving/experiments/helpers/request_funcs.py\", line 150, in request_tfserving_resnetv2\n",
      "    response.raise_for_status()\n",
      "  File \"/home/ubuntu/miniconda/lib/python3.8/site-packages/requests/models.py\", line 943, in raise_for_status\n",
      "    raise HTTPError(http_error_msg, response=self)\n",
      "requests.exceptions.HTTPError: 504 Server Error: Gateway Timeout for url: http://tfserving-resnetv2.default.kn.nima-dev.com/v1/models/resnet:predict\n"
     ]
    },
    {
     "name": "stdout",
     "output_type": "stream",
     "text": [
      "exception occured:\n"
     ]
    },
    {
     "name": "stderr",
     "output_type": "stream",
     "text": [
      "Traceback (most recent call last):\n",
      "  File \"<ipython-input-1-2819997e6078>\", line 37, in experiment_batch\n",
      "    result = request_funcs.workload_funcs[service_name](batch_size=batch_size)\n",
      "  File \"/home/ubuntu/serverless-ml-serving/experiments/helpers/request_funcs.py\", line 150, in request_tfserving_resnetv2\n",
      "    response.raise_for_status()\n",
      "  File \"/home/ubuntu/miniconda/lib/python3.8/site-packages/requests/models.py\", line 943, in raise_for_status\n",
      "    raise HTTPError(http_error_msg, response=self)\n",
      "requests.exceptions.HTTPError: 504 Server Error: Gateway Timeout for url: http://tfserving-resnetv2.default.kn.nima-dev.com/v1/models/resnet:predict\n"
     ]
    },
    {
     "name": "stdout",
     "output_type": "stream",
     "text": [
      "exception occured:\n"
     ]
    },
    {
     "name": "stderr",
     "output_type": "stream",
     "text": [
      "Traceback (most recent call last):\n",
      "  File \"<ipython-input-1-2819997e6078>\", line 37, in experiment_batch\n",
      "    result = request_funcs.workload_funcs[service_name](batch_size=batch_size)\n",
      "  File \"/home/ubuntu/serverless-ml-serving/experiments/helpers/request_funcs.py\", line 150, in request_tfserving_resnetv2\n",
      "    response.raise_for_status()\n",
      "  File \"/home/ubuntu/miniconda/lib/python3.8/site-packages/requests/models.py\", line 943, in raise_for_status\n",
      "    raise HTTPError(http_error_msg, response=self)\n",
      "requests.exceptions.HTTPError: 504 Server Error: Gateway Timeout for url: http://tfserving-resnetv2.default.kn.nima-dev.com/v1/models/resnet:predict\n"
     ]
    },
    {
     "name": "stdout",
     "output_type": "stream",
     "text": [
      "exception occured:\n"
     ]
    },
    {
     "name": "stderr",
     "output_type": "stream",
     "text": [
      "Traceback (most recent call last):\n",
      "  File \"<ipython-input-1-2819997e6078>\", line 37, in experiment_batch\n",
      "    result = request_funcs.workload_funcs[service_name](batch_size=batch_size)\n",
      "  File \"/home/ubuntu/serverless-ml-serving/experiments/helpers/request_funcs.py\", line 150, in request_tfserving_resnetv2\n",
      "    response.raise_for_status()\n",
      "  File \"/home/ubuntu/miniconda/lib/python3.8/site-packages/requests/models.py\", line 943, in raise_for_status\n",
      "    raise HTTPError(http_error_msg, response=self)\n",
      "requests.exceptions.HTTPError: 504 Server Error: Gateway Timeout for url: http://tfserving-resnetv2.default.kn.nima-dev.com/v1/models/resnet:predict\n"
     ]
    },
    {
     "name": "stdout",
     "output_type": "stream",
     "text": [
      "exception occured:\n"
     ]
    },
    {
     "name": "stderr",
     "output_type": "stream",
     "text": [
      "Traceback (most recent call last):\n",
      "  File \"<ipython-input-1-2819997e6078>\", line 37, in experiment_batch\n",
      "    result = request_funcs.workload_funcs[service_name](batch_size=batch_size)\n",
      "  File \"/home/ubuntu/serverless-ml-serving/experiments/helpers/request_funcs.py\", line 150, in request_tfserving_resnetv2\n",
      "    response.raise_for_status()\n",
      "  File \"/home/ubuntu/miniconda/lib/python3.8/site-packages/requests/models.py\", line 943, in raise_for_status\n",
      "    raise HTTPError(http_error_msg, response=self)\n",
      "requests.exceptions.HTTPError: 504 Server Error: Gateway Timeout for url: http://tfserving-resnetv2.default.kn.nima-dev.com/v1/models/resnet:predict\n"
     ]
    },
    {
     "name": "stdout",
     "output_type": "stream",
     "text": [
      "exception occured:\n"
     ]
    },
    {
     "name": "stderr",
     "output_type": "stream",
     "text": [
      "Traceback (most recent call last):\n",
      "  File \"<ipython-input-1-2819997e6078>\", line 37, in experiment_batch\n",
      "    result = request_funcs.workload_funcs[service_name](batch_size=batch_size)\n",
      "  File \"/home/ubuntu/serverless-ml-serving/experiments/helpers/request_funcs.py\", line 150, in request_tfserving_resnetv2\n",
      "    response.raise_for_status()\n",
      "  File \"/home/ubuntu/miniconda/lib/python3.8/site-packages/requests/models.py\", line 943, in raise_for_status\n",
      "    raise HTTPError(http_error_msg, response=self)\n",
      "requests.exceptions.HTTPError: 504 Server Error: Gateway Timeout for url: http://tfserving-resnetv2.default.kn.nima-dev.com/v1/models/resnet:predict\n"
     ]
    },
    {
     "name": "stdout",
     "output_type": "stream",
     "text": [
      "exception occured:\n"
     ]
    },
    {
     "name": "stderr",
     "output_type": "stream",
     "text": [
      "Traceback (most recent call last):\n",
      "  File \"<ipython-input-1-2819997e6078>\", line 37, in experiment_batch\n",
      "    result = request_funcs.workload_funcs[service_name](batch_size=batch_size)\n",
      "  File \"/home/ubuntu/serverless-ml-serving/experiments/helpers/request_funcs.py\", line 150, in request_tfserving_resnetv2\n",
      "    response.raise_for_status()\n",
      "  File \"/home/ubuntu/miniconda/lib/python3.8/site-packages/requests/models.py\", line 943, in raise_for_status\n",
      "    raise HTTPError(http_error_msg, response=self)\n",
      "requests.exceptions.HTTPError: 504 Server Error: Gateway Timeout for url: http://tfserving-resnetv2.default.kn.nima-dev.com/v1/models/resnet:predict\n"
     ]
    },
    {
     "name": "stdout",
     "output_type": "stream",
     "text": [
      "exception occured:\n"
     ]
    },
    {
     "name": "stderr",
     "output_type": "stream",
     "text": [
      "Traceback (most recent call last):\n",
      "  File \"<ipython-input-1-2819997e6078>\", line 37, in experiment_batch\n",
      "    result = request_funcs.workload_funcs[service_name](batch_size=batch_size)\n",
      "  File \"/home/ubuntu/serverless-ml-serving/experiments/helpers/request_funcs.py\", line 150, in request_tfserving_resnetv2\n",
      "    response.raise_for_status()\n",
      "  File \"/home/ubuntu/miniconda/lib/python3.8/site-packages/requests/models.py\", line 943, in raise_for_status\n",
      "    raise HTTPError(http_error_msg, response=self)\n",
      "requests.exceptions.HTTPError: 504 Server Error: Gateway Timeout for url: http://tfserving-resnetv2.default.kn.nima-dev.com/v1/models/resnet:predict\n"
     ]
    },
    {
     "name": "stdout",
     "output_type": "stream",
     "text": [
      "exception occured:\n"
     ]
    },
    {
     "name": "stderr",
     "output_type": "stream",
     "text": [
      "Traceback (most recent call last):\n",
      "  File \"<ipython-input-1-2819997e6078>\", line 37, in experiment_batch\n",
      "    result = request_funcs.workload_funcs[service_name](batch_size=batch_size)\n",
      "  File \"/home/ubuntu/serverless-ml-serving/experiments/helpers/request_funcs.py\", line 150, in request_tfserving_resnetv2\n",
      "    response.raise_for_status()\n",
      "  File \"/home/ubuntu/miniconda/lib/python3.8/site-packages/requests/models.py\", line 943, in raise_for_status\n",
      "    raise HTTPError(http_error_msg, response=self)\n",
      "requests.exceptions.HTTPError: 504 Server Error: Gateway Timeout for url: http://tfserving-resnetv2.default.kn.nima-dev.com/v1/models/resnet:predict\n"
     ]
    },
    {
     "name": "stdout",
     "output_type": "stream",
     "text": [
      "exception occured:\n"
     ]
    },
    {
     "name": "stderr",
     "output_type": "stream",
     "text": [
      "Traceback (most recent call last):\n",
      "  File \"<ipython-input-1-2819997e6078>\", line 37, in experiment_batch\n",
      "    result = request_funcs.workload_funcs[service_name](batch_size=batch_size)\n",
      "  File \"/home/ubuntu/serverless-ml-serving/experiments/helpers/request_funcs.py\", line 150, in request_tfserving_resnetv2\n",
      "    response.raise_for_status()\n",
      "  File \"/home/ubuntu/miniconda/lib/python3.8/site-packages/requests/models.py\", line 943, in raise_for_status\n",
      "    raise HTTPError(http_error_msg, response=self)\n",
      "requests.exceptions.HTTPError: 504 Server Error: Gateway Timeout for url: http://tfserving-resnetv2.default.kn.nima-dev.com/v1/models/resnet:predict\n"
     ]
    },
    {
     "name": "stdout",
     "output_type": "stream",
     "text": [
      "exception occured:\n"
     ]
    },
    {
     "name": "stderr",
     "output_type": "stream",
     "text": [
      "Traceback (most recent call last):\n",
      "  File \"<ipython-input-1-2819997e6078>\", line 37, in experiment_batch\n",
      "    result = request_funcs.workload_funcs[service_name](batch_size=batch_size)\n",
      "  File \"/home/ubuntu/serverless-ml-serving/experiments/helpers/request_funcs.py\", line 150, in request_tfserving_resnetv2\n",
      "    response.raise_for_status()\n",
      "  File \"/home/ubuntu/miniconda/lib/python3.8/site-packages/requests/models.py\", line 943, in raise_for_status\n",
      "    raise HTTPError(http_error_msg, response=self)\n",
      "requests.exceptions.HTTPError: 504 Server Error: Gateway Timeout for url: http://tfserving-resnetv2.default.kn.nima-dev.com/v1/models/resnet:predict\n"
     ]
    },
    {
     "name": "stdout",
     "output_type": "stream",
     "text": [
      "exception occured:\n"
     ]
    },
    {
     "name": "stderr",
     "output_type": "stream",
     "text": [
      "Traceback (most recent call last):\n",
      "  File \"<ipython-input-1-2819997e6078>\", line 37, in experiment_batch\n",
      "    result = request_funcs.workload_funcs[service_name](batch_size=batch_size)\n",
      "  File \"/home/ubuntu/serverless-ml-serving/experiments/helpers/request_funcs.py\", line 150, in request_tfserving_resnetv2\n",
      "    response.raise_for_status()\n",
      "  File \"/home/ubuntu/miniconda/lib/python3.8/site-packages/requests/models.py\", line 943, in raise_for_status\n",
      "    raise HTTPError(http_error_msg, response=self)\n",
      "requests.exceptions.HTTPError: 504 Server Error: Gateway Timeout for url: http://tfserving-resnetv2.default.kn.nima-dev.com/v1/models/resnet:predict\n"
     ]
    },
    {
     "name": "stdout",
     "output_type": "stream",
     "text": [
      "exception occured:\n"
     ]
    },
    {
     "name": "stderr",
     "output_type": "stream",
     "text": [
      "Traceback (most recent call last):\n",
      "  File \"<ipython-input-1-2819997e6078>\", line 37, in experiment_batch\n",
      "    result = request_funcs.workload_funcs[service_name](batch_size=batch_size)\n",
      "  File \"/home/ubuntu/serverless-ml-serving/experiments/helpers/request_funcs.py\", line 150, in request_tfserving_resnetv2\n",
      "    response.raise_for_status()\n",
      "  File \"/home/ubuntu/miniconda/lib/python3.8/site-packages/requests/models.py\", line 943, in raise_for_status\n",
      "    raise HTTPError(http_error_msg, response=self)\n",
      "requests.exceptions.HTTPError: 504 Server Error: Gateway Timeout for url: http://tfserving-resnetv2.default.kn.nima-dev.com/v1/models/resnet:predict\n"
     ]
    },
    {
     "name": "stdout",
     "output_type": "stream",
     "text": [
      "exception occured:\n"
     ]
    },
    {
     "name": "stderr",
     "output_type": "stream",
     "text": [
      "Traceback (most recent call last):\n",
      "  File \"<ipython-input-1-2819997e6078>\", line 37, in experiment_batch\n",
      "    result = request_funcs.workload_funcs[service_name](batch_size=batch_size)\n",
      "  File \"/home/ubuntu/serverless-ml-serving/experiments/helpers/request_funcs.py\", line 150, in request_tfserving_resnetv2\n",
      "    response.raise_for_status()\n",
      "  File \"/home/ubuntu/miniconda/lib/python3.8/site-packages/requests/models.py\", line 943, in raise_for_status\n",
      "    raise HTTPError(http_error_msg, response=self)\n",
      "requests.exceptions.HTTPError: 504 Server Error: Gateway Timeout for url: http://tfserving-resnetv2.default.kn.nima-dev.com/v1/models/resnet:predict\n"
     ]
    },
    {
     "name": "stdout",
     "output_type": "stream",
     "text": [
      "exception occured:\n"
     ]
    },
    {
     "name": "stderr",
     "output_type": "stream",
     "text": [
      "Traceback (most recent call last):\n",
      "  File \"<ipython-input-1-2819997e6078>\", line 37, in experiment_batch\n",
      "    result = request_funcs.workload_funcs[service_name](batch_size=batch_size)\n",
      "  File \"/home/ubuntu/serverless-ml-serving/experiments/helpers/request_funcs.py\", line 150, in request_tfserving_resnetv2\n",
      "    response.raise_for_status()\n",
      "  File \"/home/ubuntu/miniconda/lib/python3.8/site-packages/requests/models.py\", line 943, in raise_for_status\n",
      "    raise HTTPError(http_error_msg, response=self)\n",
      "requests.exceptions.HTTPError: 504 Server Error: Gateway Timeout for url: http://tfserving-resnetv2.default.kn.nima-dev.com/v1/models/resnet:predict\n"
     ]
    },
    {
     "name": "stdout",
     "output_type": "stream",
     "text": [
      "exception occured:\n"
     ]
    },
    {
     "name": "stderr",
     "output_type": "stream",
     "text": [
      "Traceback (most recent call last):\n",
      "  File \"<ipython-input-1-2819997e6078>\", line 37, in experiment_batch\n",
      "    result = request_funcs.workload_funcs[service_name](batch_size=batch_size)\n",
      "  File \"/home/ubuntu/serverless-ml-serving/experiments/helpers/request_funcs.py\", line 150, in request_tfserving_resnetv2\n",
      "    response.raise_for_status()\n",
      "  File \"/home/ubuntu/miniconda/lib/python3.8/site-packages/requests/models.py\", line 943, in raise_for_status\n",
      "    raise HTTPError(http_error_msg, response=self)\n",
      "requests.exceptions.HTTPError: 504 Server Error: Gateway Timeout for url: http://tfserving-resnetv2.default.kn.nima-dev.com/v1/models/resnet:predict\n"
     ]
    },
    {
     "name": "stdout",
     "output_type": "stream",
     "text": [
      "exception occured:\n"
     ]
    },
    {
     "name": "stderr",
     "output_type": "stream",
     "text": [
      "Traceback (most recent call last):\n",
      "  File \"<ipython-input-1-2819997e6078>\", line 37, in experiment_batch\n",
      "    result = request_funcs.workload_funcs[service_name](batch_size=batch_size)\n",
      "  File \"/home/ubuntu/serverless-ml-serving/experiments/helpers/request_funcs.py\", line 150, in request_tfserving_resnetv2\n",
      "    response.raise_for_status()\n",
      "  File \"/home/ubuntu/miniconda/lib/python3.8/site-packages/requests/models.py\", line 943, in raise_for_status\n",
      "    raise HTTPError(http_error_msg, response=self)\n",
      "requests.exceptions.HTTPError: 504 Server Error: Gateway Timeout for url: http://tfserving-resnetv2.default.kn.nima-dev.com/v1/models/resnet:predict\n"
     ]
    },
    {
     "name": "stdout",
     "output_type": "stream",
     "text": [
      "exception occured:\n"
     ]
    },
    {
     "name": "stderr",
     "output_type": "stream",
     "text": [
      "Traceback (most recent call last):\n",
      "  File \"<ipython-input-1-2819997e6078>\", line 37, in experiment_batch\n",
      "    result = request_funcs.workload_funcs[service_name](batch_size=batch_size)\n",
      "  File \"/home/ubuntu/serverless-ml-serving/experiments/helpers/request_funcs.py\", line 150, in request_tfserving_resnetv2\n",
      "    response.raise_for_status()\n",
      "  File \"/home/ubuntu/miniconda/lib/python3.8/site-packages/requests/models.py\", line 943, in raise_for_status\n",
      "    raise HTTPError(http_error_msg, response=self)\n",
      "requests.exceptions.HTTPError: 504 Server Error: Gateway Timeout for url: http://tfserving-resnetv2.default.kn.nima-dev.com/v1/models/resnet:predict\n"
     ]
    },
    {
     "name": "stdout",
     "output_type": "stream",
     "text": [
      "exception occured:\n"
     ]
    },
    {
     "name": "stderr",
     "output_type": "stream",
     "text": [
      "Traceback (most recent call last):\n",
      "  File \"<ipython-input-1-2819997e6078>\", line 37, in experiment_batch\n",
      "    result = request_funcs.workload_funcs[service_name](batch_size=batch_size)\n",
      "  File \"/home/ubuntu/serverless-ml-serving/experiments/helpers/request_funcs.py\", line 150, in request_tfserving_resnetv2\n",
      "    response.raise_for_status()\n",
      "  File \"/home/ubuntu/miniconda/lib/python3.8/site-packages/requests/models.py\", line 943, in raise_for_status\n",
      "    raise HTTPError(http_error_msg, response=self)\n",
      "requests.exceptions.HTTPError: 504 Server Error: Gateway Timeout for url: http://tfserving-resnetv2.default.kn.nima-dev.com/v1/models/resnet:predict\n"
     ]
    },
    {
     "name": "stdout",
     "output_type": "stream",
     "text": [
      "exception occured:\n"
     ]
    },
    {
     "name": "stderr",
     "output_type": "stream",
     "text": [
      "Traceback (most recent call last):\n",
      "  File \"<ipython-input-1-2819997e6078>\", line 37, in experiment_batch\n",
      "    result = request_funcs.workload_funcs[service_name](batch_size=batch_size)\n",
      "  File \"/home/ubuntu/serverless-ml-serving/experiments/helpers/request_funcs.py\", line 150, in request_tfserving_resnetv2\n",
      "    response.raise_for_status()\n",
      "  File \"/home/ubuntu/miniconda/lib/python3.8/site-packages/requests/models.py\", line 943, in raise_for_status\n",
      "    raise HTTPError(http_error_msg, response=self)\n",
      "requests.exceptions.HTTPError: 504 Server Error: Gateway Timeout for url: http://tfserving-resnetv2.default.kn.nima-dev.com/v1/models/resnet:predict\n"
     ]
    },
    {
     "name": "stdout",
     "output_type": "stream",
     "text": [
      "exception occured:\n"
     ]
    },
    {
     "name": "stderr",
     "output_type": "stream",
     "text": [
      "Traceback (most recent call last):\n",
      "  File \"<ipython-input-1-2819997e6078>\", line 37, in experiment_batch\n",
      "    result = request_funcs.workload_funcs[service_name](batch_size=batch_size)\n",
      "  File \"/home/ubuntu/serverless-ml-serving/experiments/helpers/request_funcs.py\", line 150, in request_tfserving_resnetv2\n",
      "    response.raise_for_status()\n",
      "  File \"/home/ubuntu/miniconda/lib/python3.8/site-packages/requests/models.py\", line 943, in raise_for_status\n",
      "    raise HTTPError(http_error_msg, response=self)\n",
      "requests.exceptions.HTTPError: 504 Server Error: Gateway Timeout for url: http://tfserving-resnetv2.default.kn.nima-dev.com/v1/models/resnet:predict\n"
     ]
    },
    {
     "name": "stdout",
     "output_type": "stream",
     "text": [
      "exception occured:\n"
     ]
    },
    {
     "name": "stderr",
     "output_type": "stream",
     "text": [
      "Traceback (most recent call last):\n",
      "  File \"<ipython-input-1-2819997e6078>\", line 37, in experiment_batch\n",
      "    result = request_funcs.workload_funcs[service_name](batch_size=batch_size)\n",
      "  File \"/home/ubuntu/serverless-ml-serving/experiments/helpers/request_funcs.py\", line 150, in request_tfserving_resnetv2\n",
      "    response.raise_for_status()\n",
      "  File \"/home/ubuntu/miniconda/lib/python3.8/site-packages/requests/models.py\", line 943, in raise_for_status\n",
      "    raise HTTPError(http_error_msg, response=self)\n",
      "requests.exceptions.HTTPError: 504 Server Error: Gateway Timeout for url: http://tfserving-resnetv2.default.kn.nima-dev.com/v1/models/resnet:predict\n"
     ]
    },
    {
     "name": "stdout",
     "output_type": "stream",
     "text": [
      "exception occured:\n"
     ]
    },
    {
     "name": "stderr",
     "output_type": "stream",
     "text": [
      "Traceback (most recent call last):\n",
      "  File \"<ipython-input-1-2819997e6078>\", line 37, in experiment_batch\n",
      "    result = request_funcs.workload_funcs[service_name](batch_size=batch_size)\n",
      "  File \"/home/ubuntu/serverless-ml-serving/experiments/helpers/request_funcs.py\", line 150, in request_tfserving_resnetv2\n",
      "    response.raise_for_status()\n",
      "  File \"/home/ubuntu/miniconda/lib/python3.8/site-packages/requests/models.py\", line 943, in raise_for_status\n",
      "    raise HTTPError(http_error_msg, response=self)\n",
      "requests.exceptions.HTTPError: 504 Server Error: Gateway Timeout for url: http://tfserving-resnetv2.default.kn.nima-dev.com/v1/models/resnet:predict\n"
     ]
    },
    {
     "name": "stdout",
     "output_type": "stream",
     "text": [
      "exception occured:\n"
     ]
    },
    {
     "name": "stderr",
     "output_type": "stream",
     "text": [
      "Traceback (most recent call last):\n",
      "  File \"<ipython-input-1-2819997e6078>\", line 37, in experiment_batch\n",
      "    result = request_funcs.workload_funcs[service_name](batch_size=batch_size)\n",
      "  File \"/home/ubuntu/serverless-ml-serving/experiments/helpers/request_funcs.py\", line 150, in request_tfserving_resnetv2\n",
      "    response.raise_for_status()\n",
      "  File \"/home/ubuntu/miniconda/lib/python3.8/site-packages/requests/models.py\", line 943, in raise_for_status\n",
      "    raise HTTPError(http_error_msg, response=self)\n",
      "requests.exceptions.HTTPError: 504 Server Error: Gateway Timeout for url: http://tfserving-resnetv2.default.kn.nima-dev.com/v1/models/resnet:predict\n"
     ]
    },
    {
     "name": "stdout",
     "output_type": "stream",
     "text": [
      "exception occured:\n"
     ]
    },
    {
     "name": "stderr",
     "output_type": "stream",
     "text": [
      "Traceback (most recent call last):\n",
      "  File \"<ipython-input-1-2819997e6078>\", line 37, in experiment_batch\n",
      "    result = request_funcs.workload_funcs[service_name](batch_size=batch_size)\n",
      "  File \"/home/ubuntu/serverless-ml-serving/experiments/helpers/request_funcs.py\", line 150, in request_tfserving_resnetv2\n",
      "    response.raise_for_status()\n",
      "  File \"/home/ubuntu/miniconda/lib/python3.8/site-packages/requests/models.py\", line 943, in raise_for_status\n",
      "    raise HTTPError(http_error_msg, response=self)\n",
      "requests.exceptions.HTTPError: 504 Server Error: Gateway Timeout for url: http://tfserving-resnetv2.default.kn.nima-dev.com/v1/models/resnet:predict\n"
     ]
    },
    {
     "name": "stdout",
     "output_type": "stream",
     "text": [
      "exception occured:\n"
     ]
    },
    {
     "name": "stderr",
     "output_type": "stream",
     "text": [
      "Traceback (most recent call last):\n",
      "  File \"<ipython-input-1-2819997e6078>\", line 37, in experiment_batch\n",
      "    result = request_funcs.workload_funcs[service_name](batch_size=batch_size)\n",
      "  File \"/home/ubuntu/serverless-ml-serving/experiments/helpers/request_funcs.py\", line 150, in request_tfserving_resnetv2\n",
      "    response.raise_for_status()\n",
      "  File \"/home/ubuntu/miniconda/lib/python3.8/site-packages/requests/models.py\", line 943, in raise_for_status\n",
      "    raise HTTPError(http_error_msg, response=self)\n",
      "requests.exceptions.HTTPError: 504 Server Error: Gateway Timeout for url: http://tfserving-resnetv2.default.kn.nima-dev.com/v1/models/resnet:predict\n"
     ]
    },
    {
     "name": "stdout",
     "output_type": "stream",
     "text": [
      "exception occured:\n"
     ]
    },
    {
     "name": "stderr",
     "output_type": "stream",
     "text": [
      "Traceback (most recent call last):\n",
      "  File \"<ipython-input-1-2819997e6078>\", line 37, in experiment_batch\n",
      "    result = request_funcs.workload_funcs[service_name](batch_size=batch_size)\n",
      "  File \"/home/ubuntu/serverless-ml-serving/experiments/helpers/request_funcs.py\", line 150, in request_tfserving_resnetv2\n",
      "    response.raise_for_status()\n",
      "  File \"/home/ubuntu/miniconda/lib/python3.8/site-packages/requests/models.py\", line 943, in raise_for_status\n",
      "    raise HTTPError(http_error_msg, response=self)\n",
      "requests.exceptions.HTTPError: 504 Server Error: Gateway Timeout for url: http://tfserving-resnetv2.default.kn.nima-dev.com/v1/models/resnet:predict\n"
     ]
    },
    {
     "name": "stdout",
     "output_type": "stream",
     "text": [
      "exception occured:\n"
     ]
    },
    {
     "name": "stderr",
     "output_type": "stream",
     "text": [
      "Traceback (most recent call last):\n",
      "  File \"<ipython-input-1-2819997e6078>\", line 37, in experiment_batch\n",
      "    result = request_funcs.workload_funcs[service_name](batch_size=batch_size)\n",
      "  File \"/home/ubuntu/serverless-ml-serving/experiments/helpers/request_funcs.py\", line 150, in request_tfserving_resnetv2\n",
      "    response.raise_for_status()\n",
      "  File \"/home/ubuntu/miniconda/lib/python3.8/site-packages/requests/models.py\", line 943, in raise_for_status\n",
      "    raise HTTPError(http_error_msg, response=self)\n",
      "requests.exceptions.HTTPError: 504 Server Error: Gateway Timeout for url: http://tfserving-resnetv2.default.kn.nima-dev.com/v1/models/resnet:predict\n"
     ]
    },
    {
     "name": "stdout",
     "output_type": "stream",
     "text": [
      "exception occured:\n"
     ]
    },
    {
     "name": "stderr",
     "output_type": "stream",
     "text": [
      "Traceback (most recent call last):\n",
      "  File \"<ipython-input-1-2819997e6078>\", line 37, in experiment_batch\n",
      "    result = request_funcs.workload_funcs[service_name](batch_size=batch_size)\n",
      "  File \"/home/ubuntu/serverless-ml-serving/experiments/helpers/request_funcs.py\", line 150, in request_tfserving_resnetv2\n",
      "    response.raise_for_status()\n",
      "  File \"/home/ubuntu/miniconda/lib/python3.8/site-packages/requests/models.py\", line 943, in raise_for_status\n",
      "    raise HTTPError(http_error_msg, response=self)\n",
      "requests.exceptions.HTTPError: 504 Server Error: Gateway Timeout for url: http://tfserving-resnetv2.default.kn.nima-dev.com/v1/models/resnet:predict\n"
     ]
    },
    {
     "name": "stdout",
     "output_type": "stream",
     "text": [
      "exception occured:\n"
     ]
    },
    {
     "name": "stderr",
     "output_type": "stream",
     "text": [
      "Traceback (most recent call last):\n",
      "  File \"<ipython-input-1-2819997e6078>\", line 37, in experiment_batch\n",
      "    result = request_funcs.workload_funcs[service_name](batch_size=batch_size)\n",
      "  File \"/home/ubuntu/serverless-ml-serving/experiments/helpers/request_funcs.py\", line 150, in request_tfserving_resnetv2\n",
      "    response.raise_for_status()\n",
      "  File \"/home/ubuntu/miniconda/lib/python3.8/site-packages/requests/models.py\", line 943, in raise_for_status\n",
      "    raise HTTPError(http_error_msg, response=self)\n",
      "requests.exceptions.HTTPError: 504 Server Error: Gateway Timeout for url: http://tfserving-resnetv2.default.kn.nima-dev.com/v1/models/resnet:predict\n"
     ]
    },
    {
     "name": "stdout",
     "output_type": "stream",
     "text": [
      "exception occured:\n"
     ]
    },
    {
     "name": "stderr",
     "output_type": "stream",
     "text": [
      "Traceback (most recent call last):\n",
      "  File \"<ipython-input-1-2819997e6078>\", line 37, in experiment_batch\n",
      "    result = request_funcs.workload_funcs[service_name](batch_size=batch_size)\n",
      "  File \"/home/ubuntu/serverless-ml-serving/experiments/helpers/request_funcs.py\", line 150, in request_tfserving_resnetv2\n",
      "    response.raise_for_status()\n",
      "  File \"/home/ubuntu/miniconda/lib/python3.8/site-packages/requests/models.py\", line 943, in raise_for_status\n",
      "    raise HTTPError(http_error_msg, response=self)\n",
      "requests.exceptions.HTTPError: 504 Server Error: Gateway Timeout for url: http://tfserving-resnetv2.default.kn.nima-dev.com/v1/models/resnet:predict\n"
     ]
    },
    {
     "name": "stdout",
     "output_type": "stream",
     "text": [
      "exception occured:\n"
     ]
    },
    {
     "name": "stderr",
     "output_type": "stream",
     "text": [
      "Traceback (most recent call last):\n",
      "  File \"<ipython-input-1-2819997e6078>\", line 37, in experiment_batch\n",
      "    result = request_funcs.workload_funcs[service_name](batch_size=batch_size)\n",
      "  File \"/home/ubuntu/serverless-ml-serving/experiments/helpers/request_funcs.py\", line 150, in request_tfserving_resnetv2\n",
      "    response.raise_for_status()\n",
      "  File \"/home/ubuntu/miniconda/lib/python3.8/site-packages/requests/models.py\", line 943, in raise_for_status\n",
      "    raise HTTPError(http_error_msg, response=self)\n",
      "requests.exceptions.HTTPError: 504 Server Error: Gateway Timeout for url: http://tfserving-resnetv2.default.kn.nima-dev.com/v1/models/resnet:predict\n"
     ]
    },
    {
     "name": "stdout",
     "output_type": "stream",
     "text": [
      "exception occured:\n"
     ]
    },
    {
     "name": "stderr",
     "output_type": "stream",
     "text": [
      "Traceback (most recent call last):\n",
      "  File \"<ipython-input-1-2819997e6078>\", line 37, in experiment_batch\n",
      "    result = request_funcs.workload_funcs[service_name](batch_size=batch_size)\n",
      "  File \"/home/ubuntu/serverless-ml-serving/experiments/helpers/request_funcs.py\", line 150, in request_tfserving_resnetv2\n",
      "    response.raise_for_status()\n",
      "  File \"/home/ubuntu/miniconda/lib/python3.8/site-packages/requests/models.py\", line 943, in raise_for_status\n",
      "    raise HTTPError(http_error_msg, response=self)\n",
      "requests.exceptions.HTTPError: 504 Server Error: Gateway Timeout for url: http://tfserving-resnetv2.default.kn.nima-dev.com/v1/models/resnet:predict\n"
     ]
    },
    {
     "name": "stdout",
     "output_type": "stream",
     "text": [
      "exception occured:\n"
     ]
    },
    {
     "name": "stderr",
     "output_type": "stream",
     "text": [
      "Traceback (most recent call last):\n",
      "  File \"<ipython-input-1-2819997e6078>\", line 37, in experiment_batch\n",
      "    result = request_funcs.workload_funcs[service_name](batch_size=batch_size)\n",
      "  File \"/home/ubuntu/serverless-ml-serving/experiments/helpers/request_funcs.py\", line 150, in request_tfserving_resnetv2\n",
      "    response.raise_for_status()\n",
      "  File \"/home/ubuntu/miniconda/lib/python3.8/site-packages/requests/models.py\", line 943, in raise_for_status\n",
      "    raise HTTPError(http_error_msg, response=self)\n",
      "requests.exceptions.HTTPError: 504 Server Error: Gateway Timeout for url: http://tfserving-resnetv2.default.kn.nima-dev.com/v1/models/resnet:predict\n"
     ]
    },
    {
     "name": "stdout",
     "output_type": "stream",
     "text": [
      "exception occured:\n"
     ]
    },
    {
     "name": "stderr",
     "output_type": "stream",
     "text": [
      "Traceback (most recent call last):\n",
      "  File \"<ipython-input-1-2819997e6078>\", line 37, in experiment_batch\n",
      "    result = request_funcs.workload_funcs[service_name](batch_size=batch_size)\n",
      "  File \"/home/ubuntu/serverless-ml-serving/experiments/helpers/request_funcs.py\", line 150, in request_tfserving_resnetv2\n",
      "    response.raise_for_status()\n",
      "  File \"/home/ubuntu/miniconda/lib/python3.8/site-packages/requests/models.py\", line 943, in raise_for_status\n",
      "    raise HTTPError(http_error_msg, response=self)\n",
      "requests.exceptions.HTTPError: 504 Server Error: Gateway Timeout for url: http://tfserving-resnetv2.default.kn.nima-dev.com/v1/models/resnet:predict\n"
     ]
    },
    {
     "name": "stdout",
     "output_type": "stream",
     "text": [
      "exception occured:\n"
     ]
    },
    {
     "name": "stderr",
     "output_type": "stream",
     "text": [
      "Traceback (most recent call last):\n",
      "  File \"<ipython-input-1-2819997e6078>\", line 37, in experiment_batch\n",
      "    result = request_funcs.workload_funcs[service_name](batch_size=batch_size)\n",
      "  File \"/home/ubuntu/serverless-ml-serving/experiments/helpers/request_funcs.py\", line 150, in request_tfserving_resnetv2\n",
      "    response.raise_for_status()\n",
      "  File \"/home/ubuntu/miniconda/lib/python3.8/site-packages/requests/models.py\", line 943, in raise_for_status\n",
      "    raise HTTPError(http_error_msg, response=self)\n",
      "requests.exceptions.HTTPError: 504 Server Error: Gateway Timeout for url: http://tfserving-resnetv2.default.kn.nima-dev.com/v1/models/resnet:predict\n"
     ]
    },
    {
     "name": "stdout",
     "output_type": "stream",
     "text": [
      "exception occured:\n"
     ]
    },
    {
     "name": "stderr",
     "output_type": "stream",
     "text": [
      "Traceback (most recent call last):\n",
      "  File \"<ipython-input-1-2819997e6078>\", line 37, in experiment_batch\n",
      "    result = request_funcs.workload_funcs[service_name](batch_size=batch_size)\n",
      "  File \"/home/ubuntu/serverless-ml-serving/experiments/helpers/request_funcs.py\", line 150, in request_tfserving_resnetv2\n",
      "    response.raise_for_status()\n",
      "  File \"/home/ubuntu/miniconda/lib/python3.8/site-packages/requests/models.py\", line 943, in raise_for_status\n",
      "    raise HTTPError(http_error_msg, response=self)\n",
      "requests.exceptions.HTTPError: 504 Server Error: Gateway Timeout for url: http://tfserving-resnetv2.default.kn.nima-dev.com/v1/models/resnet:predict\n"
     ]
    },
    {
     "name": "stdout",
     "output_type": "stream",
     "text": [
      "exception occured:\n"
     ]
    },
    {
     "name": "stderr",
     "output_type": "stream",
     "text": [
      "Traceback (most recent call last):\n",
      "  File \"<ipython-input-1-2819997e6078>\", line 37, in experiment_batch\n",
      "    result = request_funcs.workload_funcs[service_name](batch_size=batch_size)\n",
      "  File \"/home/ubuntu/serverless-ml-serving/experiments/helpers/request_funcs.py\", line 150, in request_tfserving_resnetv2\n",
      "    response.raise_for_status()\n",
      "  File \"/home/ubuntu/miniconda/lib/python3.8/site-packages/requests/models.py\", line 943, in raise_for_status\n",
      "    raise HTTPError(http_error_msg, response=self)\n",
      "requests.exceptions.HTTPError: 504 Server Error: Gateway Timeout for url: http://tfserving-resnetv2.default.kn.nima-dev.com/v1/models/resnet:predict\n"
     ]
    },
    {
     "name": "stdout",
     "output_type": "stream",
     "text": [
      "exception occured:\n"
     ]
    },
    {
     "name": "stderr",
     "output_type": "stream",
     "text": [
      "Traceback (most recent call last):\n",
      "  File \"<ipython-input-1-2819997e6078>\", line 37, in experiment_batch\n",
      "    result = request_funcs.workload_funcs[service_name](batch_size=batch_size)\n",
      "  File \"/home/ubuntu/serverless-ml-serving/experiments/helpers/request_funcs.py\", line 150, in request_tfserving_resnetv2\n",
      "    response.raise_for_status()\n",
      "  File \"/home/ubuntu/miniconda/lib/python3.8/site-packages/requests/models.py\", line 943, in raise_for_status\n",
      "    raise HTTPError(http_error_msg, response=self)\n",
      "requests.exceptions.HTTPError: 504 Server Error: Gateway Timeout for url: http://tfserving-resnetv2.default.kn.nima-dev.com/v1/models/resnet:predict\n"
     ]
    },
    {
     "name": "stdout",
     "output_type": "stream",
     "text": [
      "exception occured:\n"
     ]
    },
    {
     "name": "stderr",
     "output_type": "stream",
     "text": [
      "Traceback (most recent call last):\n",
      "  File \"<ipython-input-1-2819997e6078>\", line 37, in experiment_batch\n",
      "    result = request_funcs.workload_funcs[service_name](batch_size=batch_size)\n",
      "  File \"/home/ubuntu/serverless-ml-serving/experiments/helpers/request_funcs.py\", line 150, in request_tfserving_resnetv2\n",
      "    response.raise_for_status()\n",
      "  File \"/home/ubuntu/miniconda/lib/python3.8/site-packages/requests/models.py\", line 943, in raise_for_status\n",
      "    raise HTTPError(http_error_msg, response=self)\n",
      "requests.exceptions.HTTPError: 504 Server Error: Gateway Timeout for url: http://tfserving-resnetv2.default.kn.nima-dev.com/v1/models/resnet:predict\n"
     ]
    },
    {
     "name": "stdout",
     "output_type": "stream",
     "text": [
      "exception occured:\n"
     ]
    },
    {
     "name": "stderr",
     "output_type": "stream",
     "text": [
      "Traceback (most recent call last):\n",
      "  File \"<ipython-input-1-2819997e6078>\", line 37, in experiment_batch\n",
      "    result = request_funcs.workload_funcs[service_name](batch_size=batch_size)\n",
      "  File \"/home/ubuntu/serverless-ml-serving/experiments/helpers/request_funcs.py\", line 150, in request_tfserving_resnetv2\n",
      "    response.raise_for_status()\n",
      "  File \"/home/ubuntu/miniconda/lib/python3.8/site-packages/requests/models.py\", line 943, in raise_for_status\n",
      "    raise HTTPError(http_error_msg, response=self)\n",
      "requests.exceptions.HTTPError: 504 Server Error: Gateway Timeout for url: http://tfserving-resnetv2.default.kn.nima-dev.com/v1/models/resnet:predict\n"
     ]
    },
    {
     "name": "stdout",
     "output_type": "stream",
     "text": [
      "exception occured:\n"
     ]
    },
    {
     "name": "stderr",
     "output_type": "stream",
     "text": [
      "Traceback (most recent call last):\n",
      "  File \"<ipython-input-1-2819997e6078>\", line 37, in experiment_batch\n",
      "    result = request_funcs.workload_funcs[service_name](batch_size=batch_size)\n",
      "  File \"/home/ubuntu/serverless-ml-serving/experiments/helpers/request_funcs.py\", line 150, in request_tfserving_resnetv2\n",
      "    response.raise_for_status()\n",
      "  File \"/home/ubuntu/miniconda/lib/python3.8/site-packages/requests/models.py\", line 943, in raise_for_status\n",
      "    raise HTTPError(http_error_msg, response=self)\n",
      "requests.exceptions.HTTPError: 504 Server Error: Gateway Timeout for url: http://tfserving-resnetv2.default.kn.nima-dev.com/v1/models/resnet:predict\n"
     ]
    },
    {
     "name": "stdout",
     "output_type": "stream",
     "text": [
      "exception occured:\n"
     ]
    },
    {
     "name": "stderr",
     "output_type": "stream",
     "text": [
      "Traceback (most recent call last):\n",
      "  File \"<ipython-input-1-2819997e6078>\", line 37, in experiment_batch\n",
      "    result = request_funcs.workload_funcs[service_name](batch_size=batch_size)\n",
      "  File \"/home/ubuntu/serverless-ml-serving/experiments/helpers/request_funcs.py\", line 150, in request_tfserving_resnetv2\n",
      "    response.raise_for_status()\n",
      "  File \"/home/ubuntu/miniconda/lib/python3.8/site-packages/requests/models.py\", line 943, in raise_for_status\n",
      "    raise HTTPError(http_error_msg, response=self)\n",
      "requests.exceptions.HTTPError: 504 Server Error: Gateway Timeout for url: http://tfserving-resnetv2.default.kn.nima-dev.com/v1/models/resnet:predict\n"
     ]
    },
    {
     "name": "stdout",
     "output_type": "stream",
     "text": [
      "exception occured:\n"
     ]
    },
    {
     "name": "stderr",
     "output_type": "stream",
     "text": [
      "Traceback (most recent call last):\n",
      "  File \"<ipython-input-1-2819997e6078>\", line 37, in experiment_batch\n",
      "    result = request_funcs.workload_funcs[service_name](batch_size=batch_size)\n",
      "  File \"/home/ubuntu/serverless-ml-serving/experiments/helpers/request_funcs.py\", line 150, in request_tfserving_resnetv2\n",
      "    response.raise_for_status()\n",
      "  File \"/home/ubuntu/miniconda/lib/python3.8/site-packages/requests/models.py\", line 943, in raise_for_status\n",
      "    raise HTTPError(http_error_msg, response=self)\n",
      "requests.exceptions.HTTPError: 504 Server Error: Gateway Timeout for url: http://tfserving-resnetv2.default.kn.nima-dev.com/v1/models/resnet:predict\n"
     ]
    },
    {
     "name": "stdout",
     "output_type": "stream",
     "text": [
      "exception occured:\n"
     ]
    },
    {
     "name": "stderr",
     "output_type": "stream",
     "text": [
      "Traceback (most recent call last):\n",
      "  File \"<ipython-input-1-2819997e6078>\", line 37, in experiment_batch\n",
      "    result = request_funcs.workload_funcs[service_name](batch_size=batch_size)\n",
      "  File \"/home/ubuntu/serverless-ml-serving/experiments/helpers/request_funcs.py\", line 150, in request_tfserving_resnetv2\n",
      "    response.raise_for_status()\n",
      "  File \"/home/ubuntu/miniconda/lib/python3.8/site-packages/requests/models.py\", line 943, in raise_for_status\n",
      "    raise HTTPError(http_error_msg, response=self)\n",
      "requests.exceptions.HTTPError: 504 Server Error: Gateway Timeout for url: http://tfserving-resnetv2.default.kn.nima-dev.com/v1/models/resnet:predict\n"
     ]
    },
    {
     "name": "stdout",
     "output_type": "stream",
     "text": [
      "exception occured:\n"
     ]
    },
    {
     "name": "stderr",
     "output_type": "stream",
     "text": [
      "Traceback (most recent call last):\n",
      "  File \"<ipython-input-1-2819997e6078>\", line 37, in experiment_batch\n",
      "    result = request_funcs.workload_funcs[service_name](batch_size=batch_size)\n",
      "  File \"/home/ubuntu/serverless-ml-serving/experiments/helpers/request_funcs.py\", line 150, in request_tfserving_resnetv2\n",
      "    response.raise_for_status()\n",
      "  File \"/home/ubuntu/miniconda/lib/python3.8/site-packages/requests/models.py\", line 943, in raise_for_status\n",
      "    raise HTTPError(http_error_msg, response=self)\n",
      "requests.exceptions.HTTPError: 504 Server Error: Gateway Timeout for url: http://tfserving-resnetv2.default.kn.nima-dev.com/v1/models/resnet:predict\n"
     ]
    },
    {
     "name": "stdout",
     "output_type": "stream",
     "text": [
      "exception occured:\n"
     ]
    },
    {
     "name": "stderr",
     "output_type": "stream",
     "text": [
      "Traceback (most recent call last):\n",
      "  File \"<ipython-input-1-2819997e6078>\", line 37, in experiment_batch\n",
      "    result = request_funcs.workload_funcs[service_name](batch_size=batch_size)\n",
      "  File \"/home/ubuntu/serverless-ml-serving/experiments/helpers/request_funcs.py\", line 150, in request_tfserving_resnetv2\n",
      "    response.raise_for_status()\n",
      "  File \"/home/ubuntu/miniconda/lib/python3.8/site-packages/requests/models.py\", line 943, in raise_for_status\n",
      "    raise HTTPError(http_error_msg, response=self)\n",
      "requests.exceptions.HTTPError: 504 Server Error: Gateway Timeout for url: http://tfserving-resnetv2.default.kn.nima-dev.com/v1/models/resnet:predict\n"
     ]
    },
    {
     "name": "stdout",
     "output_type": "stream",
     "text": [
      "exception occured:\n"
     ]
    },
    {
     "name": "stderr",
     "output_type": "stream",
     "text": [
      "Traceback (most recent call last):\n",
      "  File \"<ipython-input-1-2819997e6078>\", line 37, in experiment_batch\n",
      "    result = request_funcs.workload_funcs[service_name](batch_size=batch_size)\n",
      "  File \"/home/ubuntu/serverless-ml-serving/experiments/helpers/request_funcs.py\", line 150, in request_tfserving_resnetv2\n",
      "    response.raise_for_status()\n",
      "  File \"/home/ubuntu/miniconda/lib/python3.8/site-packages/requests/models.py\", line 943, in raise_for_status\n",
      "    raise HTTPError(http_error_msg, response=self)\n",
      "requests.exceptions.HTTPError: 504 Server Error: Gateway Timeout for url: http://tfserving-resnetv2.default.kn.nima-dev.com/v1/models/resnet:predict\n"
     ]
    },
    {
     "name": "stdout",
     "output_type": "stream",
     "text": [
      "exception occured:\n"
     ]
    },
    {
     "name": "stderr",
     "output_type": "stream",
     "text": [
      "Traceback (most recent call last):\n",
      "  File \"<ipython-input-1-2819997e6078>\", line 37, in experiment_batch\n",
      "    result = request_funcs.workload_funcs[service_name](batch_size=batch_size)\n",
      "  File \"/home/ubuntu/serverless-ml-serving/experiments/helpers/request_funcs.py\", line 150, in request_tfserving_resnetv2\n",
      "    response.raise_for_status()\n",
      "  File \"/home/ubuntu/miniconda/lib/python3.8/site-packages/requests/models.py\", line 943, in raise_for_status\n",
      "    raise HTTPError(http_error_msg, response=self)\n",
      "requests.exceptions.HTTPError: 504 Server Error: Gateway Timeout for url: http://tfserving-resnetv2.default.kn.nima-dev.com/v1/models/resnet:predict\n"
     ]
    },
    {
     "name": "stdout",
     "output_type": "stream",
     "text": [
      "exception occured:\n"
     ]
    },
    {
     "name": "stderr",
     "output_type": "stream",
     "text": [
      "Traceback (most recent call last):\n",
      "  File \"<ipython-input-1-2819997e6078>\", line 37, in experiment_batch\n",
      "    result = request_funcs.workload_funcs[service_name](batch_size=batch_size)\n",
      "  File \"/home/ubuntu/serverless-ml-serving/experiments/helpers/request_funcs.py\", line 150, in request_tfserving_resnetv2\n",
      "    response.raise_for_status()\n",
      "  File \"/home/ubuntu/miniconda/lib/python3.8/site-packages/requests/models.py\", line 943, in raise_for_status\n",
      "    raise HTTPError(http_error_msg, response=self)\n",
      "requests.exceptions.HTTPError: 504 Server Error: Gateway Timeout for url: http://tfserving-resnetv2.default.kn.nima-dev.com/v1/models/resnet:predict\n"
     ]
    },
    {
     "name": "stdout",
     "output_type": "stream",
     "text": [
      "exception occured:\n"
     ]
    },
    {
     "name": "stderr",
     "output_type": "stream",
     "text": [
      "Traceback (most recent call last):\n",
      "  File \"<ipython-input-1-2819997e6078>\", line 37, in experiment_batch\n",
      "    result = request_funcs.workload_funcs[service_name](batch_size=batch_size)\n",
      "  File \"/home/ubuntu/serverless-ml-serving/experiments/helpers/request_funcs.py\", line 150, in request_tfserving_resnetv2\n",
      "    response.raise_for_status()\n",
      "  File \"/home/ubuntu/miniconda/lib/python3.8/site-packages/requests/models.py\", line 943, in raise_for_status\n",
      "    raise HTTPError(http_error_msg, response=self)\n",
      "requests.exceptions.HTTPError: 504 Server Error: Gateway Timeout for url: http://tfserving-resnetv2.default.kn.nima-dev.com/v1/models/resnet:predict\n"
     ]
    },
    {
     "name": "stdout",
     "output_type": "stream",
     "text": [
      "exception occured:\n"
     ]
    },
    {
     "name": "stderr",
     "output_type": "stream",
     "text": [
      "Traceback (most recent call last):\n",
      "  File \"<ipython-input-1-2819997e6078>\", line 37, in experiment_batch\n",
      "    result = request_funcs.workload_funcs[service_name](batch_size=batch_size)\n",
      "  File \"/home/ubuntu/serverless-ml-serving/experiments/helpers/request_funcs.py\", line 150, in request_tfserving_resnetv2\n",
      "    response.raise_for_status()\n",
      "  File \"/home/ubuntu/miniconda/lib/python3.8/site-packages/requests/models.py\", line 943, in raise_for_status\n",
      "    raise HTTPError(http_error_msg, response=self)\n",
      "requests.exceptions.HTTPError: 504 Server Error: Gateway Timeout for url: http://tfserving-resnetv2.default.kn.nima-dev.com/v1/models/resnet:predict\n"
     ]
    },
    {
     "name": "stdout",
     "output_type": "stream",
     "text": [
      "exception occured:\n"
     ]
    },
    {
     "name": "stderr",
     "output_type": "stream",
     "text": [
      "Traceback (most recent call last):\n",
      "  File \"<ipython-input-1-2819997e6078>\", line 37, in experiment_batch\n",
      "    result = request_funcs.workload_funcs[service_name](batch_size=batch_size)\n",
      "  File \"/home/ubuntu/serverless-ml-serving/experiments/helpers/request_funcs.py\", line 150, in request_tfserving_resnetv2\n",
      "    response.raise_for_status()\n",
      "  File \"/home/ubuntu/miniconda/lib/python3.8/site-packages/requests/models.py\", line 943, in raise_for_status\n",
      "    raise HTTPError(http_error_msg, response=self)\n",
      "requests.exceptions.HTTPError: 504 Server Error: Gateway Timeout for url: http://tfserving-resnetv2.default.kn.nima-dev.com/v1/models/resnet:predict\n"
     ]
    },
    {
     "name": "stdout",
     "output_type": "stream",
     "text": [
      "exception occured:\n"
     ]
    },
    {
     "name": "stderr",
     "output_type": "stream",
     "text": [
      "Traceback (most recent call last):\n",
      "  File \"<ipython-input-1-2819997e6078>\", line 37, in experiment_batch\n",
      "    result = request_funcs.workload_funcs[service_name](batch_size=batch_size)\n",
      "  File \"/home/ubuntu/serverless-ml-serving/experiments/helpers/request_funcs.py\", line 150, in request_tfserving_resnetv2\n",
      "    response.raise_for_status()\n",
      "  File \"/home/ubuntu/miniconda/lib/python3.8/site-packages/requests/models.py\", line 943, in raise_for_status\n",
      "    raise HTTPError(http_error_msg, response=self)\n",
      "requests.exceptions.HTTPError: 504 Server Error: Gateway Timeout for url: http://tfserving-resnetv2.default.kn.nima-dev.com/v1/models/resnet:predict\n"
     ]
    },
    {
     "name": "stdout",
     "output_type": "stream",
     "text": [
      "exception occured:\n"
     ]
    },
    {
     "name": "stderr",
     "output_type": "stream",
     "text": [
      "Traceback (most recent call last):\n",
      "  File \"<ipython-input-1-2819997e6078>\", line 37, in experiment_batch\n",
      "    result = request_funcs.workload_funcs[service_name](batch_size=batch_size)\n",
      "  File \"/home/ubuntu/serverless-ml-serving/experiments/helpers/request_funcs.py\", line 150, in request_tfserving_resnetv2\n",
      "    response.raise_for_status()\n",
      "  File \"/home/ubuntu/miniconda/lib/python3.8/site-packages/requests/models.py\", line 943, in raise_for_status\n",
      "    raise HTTPError(http_error_msg, response=self)\n",
      "requests.exceptions.HTTPError: 504 Server Error: Gateway Timeout for url: http://tfserving-resnetv2.default.kn.nima-dev.com/v1/models/resnet:predict\n"
     ]
    },
    {
     "name": "stdout",
     "output_type": "stream",
     "text": [
      "exception occured:\n"
     ]
    },
    {
     "name": "stderr",
     "output_type": "stream",
     "text": [
      "Traceback (most recent call last):\n",
      "  File \"<ipython-input-1-2819997e6078>\", line 37, in experiment_batch\n",
      "    result = request_funcs.workload_funcs[service_name](batch_size=batch_size)\n",
      "  File \"/home/ubuntu/serverless-ml-serving/experiments/helpers/request_funcs.py\", line 150, in request_tfserving_resnetv2\n",
      "    response.raise_for_status()\n",
      "  File \"/home/ubuntu/miniconda/lib/python3.8/site-packages/requests/models.py\", line 943, in raise_for_status\n",
      "    raise HTTPError(http_error_msg, response=self)\n",
      "requests.exceptions.HTTPError: 504 Server Error: Gateway Timeout for url: http://tfserving-resnetv2.default.kn.nima-dev.com/v1/models/resnet:predict\n"
     ]
    },
    {
     "name": "stdout",
     "output_type": "stream",
     "text": [
      "exception occured:\n"
     ]
    },
    {
     "name": "stderr",
     "output_type": "stream",
     "text": [
      "Traceback (most recent call last):\n",
      "  File \"<ipython-input-1-2819997e6078>\", line 37, in experiment_batch\n",
      "    result = request_funcs.workload_funcs[service_name](batch_size=batch_size)\n",
      "  File \"/home/ubuntu/serverless-ml-serving/experiments/helpers/request_funcs.py\", line 150, in request_tfserving_resnetv2\n",
      "    response.raise_for_status()\n",
      "  File \"/home/ubuntu/miniconda/lib/python3.8/site-packages/requests/models.py\", line 943, in raise_for_status\n",
      "    raise HTTPError(http_error_msg, response=self)\n",
      "requests.exceptions.HTTPError: 504 Server Error: Gateway Timeout for url: http://tfserving-resnetv2.default.kn.nima-dev.com/v1/models/resnet:predict\n"
     ]
    },
    {
     "name": "stdout",
     "output_type": "stream",
     "text": [
      "exception occured:\n"
     ]
    },
    {
     "name": "stderr",
     "output_type": "stream",
     "text": [
      "Traceback (most recent call last):\n",
      "  File \"<ipython-input-1-2819997e6078>\", line 37, in experiment_batch\n",
      "    result = request_funcs.workload_funcs[service_name](batch_size=batch_size)\n",
      "  File \"/home/ubuntu/serverless-ml-serving/experiments/helpers/request_funcs.py\", line 150, in request_tfserving_resnetv2\n",
      "    response.raise_for_status()\n",
      "  File \"/home/ubuntu/miniconda/lib/python3.8/site-packages/requests/models.py\", line 943, in raise_for_status\n",
      "    raise HTTPError(http_error_msg, response=self)\n",
      "requests.exceptions.HTTPError: 504 Server Error: Gateway Timeout for url: http://tfserving-resnetv2.default.kn.nima-dev.com/v1/models/resnet:predict\n"
     ]
    },
    {
     "name": "stdout",
     "output_type": "stream",
     "text": [
      "exception occured:\n"
     ]
    },
    {
     "name": "stderr",
     "output_type": "stream",
     "text": [
      "Traceback (most recent call last):\n",
      "  File \"<ipython-input-1-2819997e6078>\", line 37, in experiment_batch\n",
      "    result = request_funcs.workload_funcs[service_name](batch_size=batch_size)\n",
      "  File \"/home/ubuntu/serverless-ml-serving/experiments/helpers/request_funcs.py\", line 150, in request_tfserving_resnetv2\n",
      "    response.raise_for_status()\n",
      "  File \"/home/ubuntu/miniconda/lib/python3.8/site-packages/requests/models.py\", line 943, in raise_for_status\n",
      "    raise HTTPError(http_error_msg, response=self)\n",
      "requests.exceptions.HTTPError: 504 Server Error: Gateway Timeout for url: http://tfserving-resnetv2.default.kn.nima-dev.com/v1/models/resnet:predict\n"
     ]
    },
    {
     "name": "stdout",
     "output_type": "stream",
     "text": [
      "exception occured:\n"
     ]
    },
    {
     "name": "stderr",
     "output_type": "stream",
     "text": [
      "Traceback (most recent call last):\n",
      "  File \"<ipython-input-1-2819997e6078>\", line 37, in experiment_batch\n",
      "    result = request_funcs.workload_funcs[service_name](batch_size=batch_size)\n",
      "  File \"/home/ubuntu/serverless-ml-serving/experiments/helpers/request_funcs.py\", line 150, in request_tfserving_resnetv2\n",
      "    response.raise_for_status()\n",
      "  File \"/home/ubuntu/miniconda/lib/python3.8/site-packages/requests/models.py\", line 943, in raise_for_status\n",
      "    raise HTTPError(http_error_msg, response=self)\n",
      "requests.exceptions.HTTPError: 504 Server Error: Gateway Timeout for url: http://tfserving-resnetv2.default.kn.nima-dev.com/v1/models/resnet:predict\n"
     ]
    },
    {
     "name": "stdout",
     "output_type": "stream",
     "text": [
      "exception occured:\n"
     ]
    },
    {
     "name": "stderr",
     "output_type": "stream",
     "text": [
      "Traceback (most recent call last):\n",
      "  File \"<ipython-input-1-2819997e6078>\", line 37, in experiment_batch\n",
      "    result = request_funcs.workload_funcs[service_name](batch_size=batch_size)\n",
      "  File \"/home/ubuntu/serverless-ml-serving/experiments/helpers/request_funcs.py\", line 150, in request_tfserving_resnetv2\n",
      "    response.raise_for_status()\n",
      "  File \"/home/ubuntu/miniconda/lib/python3.8/site-packages/requests/models.py\", line 943, in raise_for_status\n",
      "    raise HTTPError(http_error_msg, response=self)\n",
      "requests.exceptions.HTTPError: 504 Server Error: Gateway Timeout for url: http://tfserving-resnetv2.default.kn.nima-dev.com/v1/models/resnet:predict\n"
     ]
    },
    {
     "name": "stdout",
     "output_type": "stream",
     "text": [
      "exception occured:\n"
     ]
    },
    {
     "name": "stderr",
     "output_type": "stream",
     "text": [
      "Traceback (most recent call last):\n",
      "  File \"<ipython-input-1-2819997e6078>\", line 37, in experiment_batch\n",
      "    result = request_funcs.workload_funcs[service_name](batch_size=batch_size)\n",
      "  File \"/home/ubuntu/serverless-ml-serving/experiments/helpers/request_funcs.py\", line 150, in request_tfserving_resnetv2\n",
      "    response.raise_for_status()\n",
      "  File \"/home/ubuntu/miniconda/lib/python3.8/site-packages/requests/models.py\", line 943, in raise_for_status\n",
      "    raise HTTPError(http_error_msg, response=self)\n",
      "requests.exceptions.HTTPError: 504 Server Error: Gateway Timeout for url: http://tfserving-resnetv2.default.kn.nima-dev.com/v1/models/resnet:predict\n"
     ]
    },
    {
     "name": "stdout",
     "output_type": "stream",
     "text": [
      "exception occured:\n"
     ]
    },
    {
     "name": "stderr",
     "output_type": "stream",
     "text": [
      "Traceback (most recent call last):\n",
      "  File \"<ipython-input-1-2819997e6078>\", line 37, in experiment_batch\n",
      "    result = request_funcs.workload_funcs[service_name](batch_size=batch_size)\n",
      "  File \"/home/ubuntu/serverless-ml-serving/experiments/helpers/request_funcs.py\", line 150, in request_tfserving_resnetv2\n",
      "    response.raise_for_status()\n",
      "  File \"/home/ubuntu/miniconda/lib/python3.8/site-packages/requests/models.py\", line 943, in raise_for_status\n",
      "    raise HTTPError(http_error_msg, response=self)\n",
      "requests.exceptions.HTTPError: 504 Server Error: Gateway Timeout for url: http://tfserving-resnetv2.default.kn.nima-dev.com/v1/models/resnet:predict\n"
     ]
    },
    {
     "name": "stdout",
     "output_type": "stream",
     "text": [
      "exception occured:\n"
     ]
    },
    {
     "name": "stderr",
     "output_type": "stream",
     "text": [
      "Traceback (most recent call last):\n",
      "  File \"<ipython-input-1-2819997e6078>\", line 37, in experiment_batch\n",
      "    result = request_funcs.workload_funcs[service_name](batch_size=batch_size)\n",
      "  File \"/home/ubuntu/serverless-ml-serving/experiments/helpers/request_funcs.py\", line 150, in request_tfserving_resnetv2\n",
      "    response.raise_for_status()\n",
      "  File \"/home/ubuntu/miniconda/lib/python3.8/site-packages/requests/models.py\", line 943, in raise_for_status\n",
      "    raise HTTPError(http_error_msg, response=self)\n",
      "requests.exceptions.HTTPError: 504 Server Error: Gateway Timeout for url: http://tfserving-resnetv2.default.kn.nima-dev.com/v1/models/resnet:predict\n"
     ]
    },
    {
     "name": "stdout",
     "output_type": "stream",
     "text": [
      "exception occured:\n"
     ]
    },
    {
     "name": "stderr",
     "output_type": "stream",
     "text": [
      "Traceback (most recent call last):\n",
      "  File \"<ipython-input-1-2819997e6078>\", line 37, in experiment_batch\n",
      "    result = request_funcs.workload_funcs[service_name](batch_size=batch_size)\n",
      "  File \"/home/ubuntu/serverless-ml-serving/experiments/helpers/request_funcs.py\", line 150, in request_tfserving_resnetv2\n",
      "    response.raise_for_status()\n",
      "  File \"/home/ubuntu/miniconda/lib/python3.8/site-packages/requests/models.py\", line 943, in raise_for_status\n",
      "    raise HTTPError(http_error_msg, response=self)\n",
      "requests.exceptions.HTTPError: 504 Server Error: Gateway Timeout for url: http://tfserving-resnetv2.default.kn.nima-dev.com/v1/models/resnet:predict\n"
     ]
    },
    {
     "name": "stdout",
     "output_type": "stream",
     "text": [
      "exception occured:\n"
     ]
    },
    {
     "name": "stderr",
     "output_type": "stream",
     "text": [
      "Traceback (most recent call last):\n",
      "  File \"<ipython-input-1-2819997e6078>\", line 37, in experiment_batch\n",
      "    result = request_funcs.workload_funcs[service_name](batch_size=batch_size)\n",
      "  File \"/home/ubuntu/serverless-ml-serving/experiments/helpers/request_funcs.py\", line 150, in request_tfserving_resnetv2\n",
      "    response.raise_for_status()\n",
      "  File \"/home/ubuntu/miniconda/lib/python3.8/site-packages/requests/models.py\", line 943, in raise_for_status\n",
      "    raise HTTPError(http_error_msg, response=self)\n",
      "requests.exceptions.HTTPError: 504 Server Error: Gateway Timeout for url: http://tfserving-resnetv2.default.kn.nima-dev.com/v1/models/resnet:predict\n"
     ]
    },
    {
     "name": "stdout",
     "output_type": "stream",
     "text": [
      "exception occured:\n"
     ]
    },
    {
     "name": "stderr",
     "output_type": "stream",
     "text": [
      "Traceback (most recent call last):\n",
      "  File \"<ipython-input-1-2819997e6078>\", line 37, in experiment_batch\n",
      "    result = request_funcs.workload_funcs[service_name](batch_size=batch_size)\n",
      "  File \"/home/ubuntu/serverless-ml-serving/experiments/helpers/request_funcs.py\", line 150, in request_tfserving_resnetv2\n",
      "    response.raise_for_status()\n",
      "  File \"/home/ubuntu/miniconda/lib/python3.8/site-packages/requests/models.py\", line 943, in raise_for_status\n",
      "    raise HTTPError(http_error_msg, response=self)\n",
      "requests.exceptions.HTTPError: 504 Server Error: Gateway Timeout for url: http://tfserving-resnetv2.default.kn.nima-dev.com/v1/models/resnet:predict\n"
     ]
    },
    {
     "name": "stdout",
     "output_type": "stream",
     "text": [
      "exception occured:\n"
     ]
    },
    {
     "name": "stderr",
     "output_type": "stream",
     "text": [
      "Traceback (most recent call last):\n",
      "  File \"<ipython-input-1-2819997e6078>\", line 37, in experiment_batch\n",
      "    result = request_funcs.workload_funcs[service_name](batch_size=batch_size)\n",
      "  File \"/home/ubuntu/serverless-ml-serving/experiments/helpers/request_funcs.py\", line 150, in request_tfserving_resnetv2\n",
      "    response.raise_for_status()\n",
      "  File \"/home/ubuntu/miniconda/lib/python3.8/site-packages/requests/models.py\", line 943, in raise_for_status\n",
      "    raise HTTPError(http_error_msg, response=self)\n",
      "requests.exceptions.HTTPError: 504 Server Error: Gateway Timeout for url: http://tfserving-resnetv2.default.kn.nima-dev.com/v1/models/resnet:predict\n"
     ]
    },
    {
     "name": "stdout",
     "output_type": "stream",
     "text": [
      "exception occured:\n"
     ]
    },
    {
     "name": "stderr",
     "output_type": "stream",
     "text": [
      "Traceback (most recent call last):\n",
      "  File \"<ipython-input-1-2819997e6078>\", line 37, in experiment_batch\n",
      "    result = request_funcs.workload_funcs[service_name](batch_size=batch_size)\n",
      "  File \"/home/ubuntu/serverless-ml-serving/experiments/helpers/request_funcs.py\", line 150, in request_tfserving_resnetv2\n",
      "    response.raise_for_status()\n",
      "  File \"/home/ubuntu/miniconda/lib/python3.8/site-packages/requests/models.py\", line 943, in raise_for_status\n",
      "    raise HTTPError(http_error_msg, response=self)\n",
      "requests.exceptions.HTTPError: 504 Server Error: Gateway Timeout for url: http://tfserving-resnetv2.default.kn.nima-dev.com/v1/models/resnet:predict\n"
     ]
    },
    {
     "name": "stdout",
     "output_type": "stream",
     "text": [
      "exception occured:\n"
     ]
    },
    {
     "name": "stderr",
     "output_type": "stream",
     "text": [
      "Traceback (most recent call last):\n",
      "  File \"<ipython-input-1-2819997e6078>\", line 37, in experiment_batch\n",
      "    result = request_funcs.workload_funcs[service_name](batch_size=batch_size)\n",
      "  File \"/home/ubuntu/serverless-ml-serving/experiments/helpers/request_funcs.py\", line 150, in request_tfserving_resnetv2\n",
      "    response.raise_for_status()\n",
      "  File \"/home/ubuntu/miniconda/lib/python3.8/site-packages/requests/models.py\", line 943, in raise_for_status\n",
      "    raise HTTPError(http_error_msg, response=self)\n",
      "requests.exceptions.HTTPError: 504 Server Error: Gateway Timeout for url: http://tfserving-resnetv2.default.kn.nima-dev.com/v1/models/resnet:predict\n"
     ]
    },
    {
     "name": "stdout",
     "output_type": "stream",
     "text": [
      "exception occured:\n"
     ]
    },
    {
     "name": "stderr",
     "output_type": "stream",
     "text": [
      "Traceback (most recent call last):\n",
      "  File \"<ipython-input-1-2819997e6078>\", line 37, in experiment_batch\n",
      "    result = request_funcs.workload_funcs[service_name](batch_size=batch_size)\n",
      "  File \"/home/ubuntu/serverless-ml-serving/experiments/helpers/request_funcs.py\", line 150, in request_tfserving_resnetv2\n",
      "    response.raise_for_status()\n",
      "  File \"/home/ubuntu/miniconda/lib/python3.8/site-packages/requests/models.py\", line 943, in raise_for_status\n",
      "    raise HTTPError(http_error_msg, response=self)\n",
      "requests.exceptions.HTTPError: 504 Server Error: Gateway Timeout for url: http://tfserving-resnetv2.default.kn.nima-dev.com/v1/models/resnet:predict\n"
     ]
    },
    {
     "name": "stdout",
     "output_type": "stream",
     "text": [
      "exception occured:\n"
     ]
    },
    {
     "name": "stderr",
     "output_type": "stream",
     "text": [
      "Traceback (most recent call last):\n",
      "  File \"<ipython-input-1-2819997e6078>\", line 37, in experiment_batch\n",
      "    result = request_funcs.workload_funcs[service_name](batch_size=batch_size)\n",
      "  File \"/home/ubuntu/serverless-ml-serving/experiments/helpers/request_funcs.py\", line 150, in request_tfserving_resnetv2\n",
      "    response.raise_for_status()\n",
      "  File \"/home/ubuntu/miniconda/lib/python3.8/site-packages/requests/models.py\", line 943, in raise_for_status\n",
      "    raise HTTPError(http_error_msg, response=self)\n",
      "requests.exceptions.HTTPError: 504 Server Error: Gateway Timeout for url: http://tfserving-resnetv2.default.kn.nima-dev.com/v1/models/resnet:predict\n"
     ]
    },
    {
     "name": "stdout",
     "output_type": "stream",
     "text": [
      "exception occured:\n"
     ]
    },
    {
     "name": "stderr",
     "output_type": "stream",
     "text": [
      "Traceback (most recent call last):\n",
      "  File \"<ipython-input-1-2819997e6078>\", line 37, in experiment_batch\n",
      "    result = request_funcs.workload_funcs[service_name](batch_size=batch_size)\n",
      "  File \"/home/ubuntu/serverless-ml-serving/experiments/helpers/request_funcs.py\", line 150, in request_tfserving_resnetv2\n",
      "    response.raise_for_status()\n",
      "  File \"/home/ubuntu/miniconda/lib/python3.8/site-packages/requests/models.py\", line 943, in raise_for_status\n",
      "    raise HTTPError(http_error_msg, response=self)\n",
      "requests.exceptions.HTTPError: 504 Server Error: Gateway Timeout for url: http://tfserving-resnetv2.default.kn.nima-dev.com/v1/models/resnet:predict\n"
     ]
    },
    {
     "name": "stdout",
     "output_type": "stream",
     "text": [
      "exception occured:\n"
     ]
    },
    {
     "name": "stderr",
     "output_type": "stream",
     "text": [
      "Traceback (most recent call last):\n",
      "  File \"<ipython-input-1-2819997e6078>\", line 37, in experiment_batch\n",
      "    result = request_funcs.workload_funcs[service_name](batch_size=batch_size)\n",
      "  File \"/home/ubuntu/serverless-ml-serving/experiments/helpers/request_funcs.py\", line 150, in request_tfserving_resnetv2\n",
      "    response.raise_for_status()\n",
      "  File \"/home/ubuntu/miniconda/lib/python3.8/site-packages/requests/models.py\", line 943, in raise_for_status\n",
      "    raise HTTPError(http_error_msg, response=self)\n",
      "requests.exceptions.HTTPError: 504 Server Error: Gateway Timeout for url: http://tfserving-resnetv2.default.kn.nima-dev.com/v1/models/resnet:predict\n"
     ]
    },
    {
     "name": "stdout",
     "output_type": "stream",
     "text": [
      "exception occured:\n"
     ]
    },
    {
     "name": "stderr",
     "output_type": "stream",
     "text": [
      "Traceback (most recent call last):\n",
      "  File \"<ipython-input-1-2819997e6078>\", line 37, in experiment_batch\n",
      "    result = request_funcs.workload_funcs[service_name](batch_size=batch_size)\n",
      "  File \"/home/ubuntu/serverless-ml-serving/experiments/helpers/request_funcs.py\", line 150, in request_tfserving_resnetv2\n",
      "    response.raise_for_status()\n",
      "  File \"/home/ubuntu/miniconda/lib/python3.8/site-packages/requests/models.py\", line 943, in raise_for_status\n",
      "    raise HTTPError(http_error_msg, response=self)\n",
      "requests.exceptions.HTTPError: 504 Server Error: Gateway Timeout for url: http://tfserving-resnetv2.default.kn.nima-dev.com/v1/models/resnet:predict\n"
     ]
    },
    {
     "name": "stdout",
     "output_type": "stream",
     "text": [
      "exception occured:\n"
     ]
    },
    {
     "name": "stderr",
     "output_type": "stream",
     "text": [
      "Traceback (most recent call last):\n",
      "  File \"<ipython-input-1-2819997e6078>\", line 37, in experiment_batch\n",
      "    result = request_funcs.workload_funcs[service_name](batch_size=batch_size)\n",
      "  File \"/home/ubuntu/serverless-ml-serving/experiments/helpers/request_funcs.py\", line 150, in request_tfserving_resnetv2\n",
      "    response.raise_for_status()\n",
      "  File \"/home/ubuntu/miniconda/lib/python3.8/site-packages/requests/models.py\", line 943, in raise_for_status\n",
      "    raise HTTPError(http_error_msg, response=self)\n",
      "requests.exceptions.HTTPError: 504 Server Error: Gateway Timeout for url: http://tfserving-resnetv2.default.kn.nima-dev.com/v1/models/resnet:predict\n"
     ]
    },
    {
     "name": "stdout",
     "output_type": "stream",
     "text": [
      "exception occured:\n"
     ]
    },
    {
     "name": "stderr",
     "output_type": "stream",
     "text": [
      "Traceback (most recent call last):\n",
      "  File \"<ipython-input-1-2819997e6078>\", line 37, in experiment_batch\n",
      "    result = request_funcs.workload_funcs[service_name](batch_size=batch_size)\n",
      "  File \"/home/ubuntu/serverless-ml-serving/experiments/helpers/request_funcs.py\", line 150, in request_tfserving_resnetv2\n",
      "    response.raise_for_status()\n",
      "  File \"/home/ubuntu/miniconda/lib/python3.8/site-packages/requests/models.py\", line 943, in raise_for_status\n",
      "    raise HTTPError(http_error_msg, response=self)\n",
      "requests.exceptions.HTTPError: 504 Server Error: Gateway Timeout for url: http://tfserving-resnetv2.default.kn.nima-dev.com/v1/models/resnet:predict\n"
     ]
    },
    {
     "name": "stdout",
     "output_type": "stream",
     "text": [
      "exception occured:\n"
     ]
    },
    {
     "name": "stderr",
     "output_type": "stream",
     "text": [
      "Traceback (most recent call last):\n",
      "  File \"<ipython-input-1-2819997e6078>\", line 37, in experiment_batch\n",
      "    result = request_funcs.workload_funcs[service_name](batch_size=batch_size)\n",
      "  File \"/home/ubuntu/serverless-ml-serving/experiments/helpers/request_funcs.py\", line 150, in request_tfserving_resnetv2\n",
      "    response.raise_for_status()\n",
      "  File \"/home/ubuntu/miniconda/lib/python3.8/site-packages/requests/models.py\", line 943, in raise_for_status\n",
      "    raise HTTPError(http_error_msg, response=self)\n",
      "requests.exceptions.HTTPError: 504 Server Error: Gateway Timeout for url: http://tfserving-resnetv2.default.kn.nima-dev.com/v1/models/resnet:predict\n"
     ]
    },
    {
     "name": "stdout",
     "output_type": "stream",
     "text": [
      "exception occured:\n"
     ]
    },
    {
     "name": "stderr",
     "output_type": "stream",
     "text": [
      "Traceback (most recent call last):\n",
      "  File \"<ipython-input-1-2819997e6078>\", line 37, in experiment_batch\n",
      "    result = request_funcs.workload_funcs[service_name](batch_size=batch_size)\n",
      "  File \"/home/ubuntu/serverless-ml-serving/experiments/helpers/request_funcs.py\", line 150, in request_tfserving_resnetv2\n",
      "    response.raise_for_status()\n",
      "  File \"/home/ubuntu/miniconda/lib/python3.8/site-packages/requests/models.py\", line 943, in raise_for_status\n",
      "    raise HTTPError(http_error_msg, response=self)\n",
      "requests.exceptions.HTTPError: 504 Server Error: Gateway Timeout for url: http://tfserving-resnetv2.default.kn.nima-dev.com/v1/models/resnet:predict\n"
     ]
    },
    {
     "name": "stdout",
     "output_type": "stream",
     "text": [
      "exception occured:\n"
     ]
    },
    {
     "name": "stderr",
     "output_type": "stream",
     "text": [
      "Traceback (most recent call last):\n",
      "  File \"<ipython-input-1-2819997e6078>\", line 37, in experiment_batch\n",
      "    result = request_funcs.workload_funcs[service_name](batch_size=batch_size)\n",
      "  File \"/home/ubuntu/serverless-ml-serving/experiments/helpers/request_funcs.py\", line 150, in request_tfserving_resnetv2\n",
      "    response.raise_for_status()\n",
      "  File \"/home/ubuntu/miniconda/lib/python3.8/site-packages/requests/models.py\", line 943, in raise_for_status\n",
      "    raise HTTPError(http_error_msg, response=self)\n",
      "requests.exceptions.HTTPError: 504 Server Error: Gateway Timeout for url: http://tfserving-resnetv2.default.kn.nima-dev.com/v1/models/resnet:predict\n"
     ]
    },
    {
     "name": "stdout",
     "output_type": "stream",
     "text": [
      "exception occured:\n"
     ]
    },
    {
     "name": "stderr",
     "output_type": "stream",
     "text": [
      "Traceback (most recent call last):\n",
      "  File \"<ipython-input-1-2819997e6078>\", line 37, in experiment_batch\n",
      "    result = request_funcs.workload_funcs[service_name](batch_size=batch_size)\n",
      "  File \"/home/ubuntu/serverless-ml-serving/experiments/helpers/request_funcs.py\", line 150, in request_tfserving_resnetv2\n",
      "    response.raise_for_status()\n",
      "  File \"/home/ubuntu/miniconda/lib/python3.8/site-packages/requests/models.py\", line 943, in raise_for_status\n",
      "    raise HTTPError(http_error_msg, response=self)\n",
      "requests.exceptions.HTTPError: 504 Server Error: Gateway Timeout for url: http://tfserving-resnetv2.default.kn.nima-dev.com/v1/models/resnet:predict\n"
     ]
    },
    {
     "name": "stdout",
     "output_type": "stream",
     "text": [
      "exception occured:\n"
     ]
    },
    {
     "name": "stderr",
     "output_type": "stream",
     "text": [
      "Traceback (most recent call last):\n",
      "  File \"<ipython-input-1-2819997e6078>\", line 37, in experiment_batch\n",
      "    result = request_funcs.workload_funcs[service_name](batch_size=batch_size)\n",
      "  File \"/home/ubuntu/serverless-ml-serving/experiments/helpers/request_funcs.py\", line 150, in request_tfserving_resnetv2\n",
      "    response.raise_for_status()\n",
      "  File \"/home/ubuntu/miniconda/lib/python3.8/site-packages/requests/models.py\", line 943, in raise_for_status\n",
      "    raise HTTPError(http_error_msg, response=self)\n",
      "requests.exceptions.HTTPError: 504 Server Error: Gateway Timeout for url: http://tfserving-resnetv2.default.kn.nima-dev.com/v1/models/resnet:predict\n"
     ]
    },
    {
     "name": "stdout",
     "output_type": "stream",
     "text": [
      "exception occured:\n"
     ]
    },
    {
     "name": "stderr",
     "output_type": "stream",
     "text": [
      "Traceback (most recent call last):\n",
      "  File \"<ipython-input-1-2819997e6078>\", line 37, in experiment_batch\n",
      "    result = request_funcs.workload_funcs[service_name](batch_size=batch_size)\n",
      "  File \"/home/ubuntu/serverless-ml-serving/experiments/helpers/request_funcs.py\", line 150, in request_tfserving_resnetv2\n",
      "    response.raise_for_status()\n",
      "  File \"/home/ubuntu/miniconda/lib/python3.8/site-packages/requests/models.py\", line 943, in raise_for_status\n",
      "    raise HTTPError(http_error_msg, response=self)\n",
      "requests.exceptions.HTTPError: 504 Server Error: Gateway Timeout for url: http://tfserving-resnetv2.default.kn.nima-dev.com/v1/models/resnet:predict\n"
     ]
    },
    {
     "name": "stdout",
     "output_type": "stream",
     "text": [
      "exception occured:\n"
     ]
    },
    {
     "name": "stderr",
     "output_type": "stream",
     "text": [
      "Traceback (most recent call last):\n",
      "  File \"<ipython-input-1-2819997e6078>\", line 37, in experiment_batch\n",
      "    result = request_funcs.workload_funcs[service_name](batch_size=batch_size)\n",
      "  File \"/home/ubuntu/serverless-ml-serving/experiments/helpers/request_funcs.py\", line 150, in request_tfserving_resnetv2\n",
      "    response.raise_for_status()\n",
      "  File \"/home/ubuntu/miniconda/lib/python3.8/site-packages/requests/models.py\", line 943, in raise_for_status\n",
      "    raise HTTPError(http_error_msg, response=self)\n",
      "requests.exceptions.HTTPError: 504 Server Error: Gateway Timeout for url: http://tfserving-resnetv2.default.kn.nima-dev.com/v1/models/resnet:predict\n"
     ]
    },
    {
     "name": "stdout",
     "output_type": "stream",
     "text": [
      "exception occured:\n"
     ]
    },
    {
     "name": "stderr",
     "output_type": "stream",
     "text": [
      "Traceback (most recent call last):\n",
      "  File \"<ipython-input-1-2819997e6078>\", line 37, in experiment_batch\n",
      "    result = request_funcs.workload_funcs[service_name](batch_size=batch_size)\n",
      "  File \"/home/ubuntu/serverless-ml-serving/experiments/helpers/request_funcs.py\", line 150, in request_tfserving_resnetv2\n",
      "    response.raise_for_status()\n",
      "  File \"/home/ubuntu/miniconda/lib/python3.8/site-packages/requests/models.py\", line 943, in raise_for_status\n",
      "    raise HTTPError(http_error_msg, response=self)\n",
      "requests.exceptions.HTTPError: 504 Server Error: Gateway Timeout for url: http://tfserving-resnetv2.default.kn.nima-dev.com/v1/models/resnet:predict\n"
     ]
    },
    {
     "name": "stdout",
     "output_type": "stream",
     "text": [
      "exception occured:\n"
     ]
    },
    {
     "name": "stderr",
     "output_type": "stream",
     "text": [
      "Traceback (most recent call last):\n",
      "  File \"<ipython-input-1-2819997e6078>\", line 37, in experiment_batch\n",
      "    result = request_funcs.workload_funcs[service_name](batch_size=batch_size)\n",
      "  File \"/home/ubuntu/serverless-ml-serving/experiments/helpers/request_funcs.py\", line 150, in request_tfserving_resnetv2\n",
      "    response.raise_for_status()\n",
      "  File \"/home/ubuntu/miniconda/lib/python3.8/site-packages/requests/models.py\", line 943, in raise_for_status\n",
      "    raise HTTPError(http_error_msg, response=self)\n",
      "requests.exceptions.HTTPError: 504 Server Error: Gateway Timeout for url: http://tfserving-resnetv2.default.kn.nima-dev.com/v1/models/resnet:predict\n"
     ]
    },
    {
     "name": "stdout",
     "output_type": "stream",
     "text": [
      "exception occured:\n"
     ]
    },
    {
     "name": "stderr",
     "output_type": "stream",
     "text": [
      "Traceback (most recent call last):\n",
      "  File \"<ipython-input-1-2819997e6078>\", line 37, in experiment_batch\n",
      "    result = request_funcs.workload_funcs[service_name](batch_size=batch_size)\n",
      "  File \"/home/ubuntu/serverless-ml-serving/experiments/helpers/request_funcs.py\", line 150, in request_tfserving_resnetv2\n",
      "    response.raise_for_status()\n",
      "  File \"/home/ubuntu/miniconda/lib/python3.8/site-packages/requests/models.py\", line 943, in raise_for_status\n",
      "    raise HTTPError(http_error_msg, response=self)\n",
      "requests.exceptions.HTTPError: 504 Server Error: Gateway Timeout for url: http://tfserving-resnetv2.default.kn.nima-dev.com/v1/models/resnet:predict\n"
     ]
    },
    {
     "name": "stdout",
     "output_type": "stream",
     "text": [
      "exception occured:\n"
     ]
    },
    {
     "name": "stderr",
     "output_type": "stream",
     "text": [
      "Traceback (most recent call last):\n",
      "  File \"<ipython-input-1-2819997e6078>\", line 37, in experiment_batch\n",
      "    result = request_funcs.workload_funcs[service_name](batch_size=batch_size)\n",
      "  File \"/home/ubuntu/serverless-ml-serving/experiments/helpers/request_funcs.py\", line 150, in request_tfserving_resnetv2\n",
      "    response.raise_for_status()\n",
      "  File \"/home/ubuntu/miniconda/lib/python3.8/site-packages/requests/models.py\", line 943, in raise_for_status\n",
      "    raise HTTPError(http_error_msg, response=self)\n",
      "requests.exceptions.HTTPError: 504 Server Error: Gateway Timeout for url: http://tfserving-resnetv2.default.kn.nima-dev.com/v1/models/resnet:predict\n"
     ]
    },
    {
     "name": "stdout",
     "output_type": "stream",
     "text": [
      "exception occured:\n"
     ]
    },
    {
     "name": "stderr",
     "output_type": "stream",
     "text": [
      "Traceback (most recent call last):\n",
      "  File \"<ipython-input-1-2819997e6078>\", line 37, in experiment_batch\n",
      "    result = request_funcs.workload_funcs[service_name](batch_size=batch_size)\n",
      "  File \"/home/ubuntu/serverless-ml-serving/experiments/helpers/request_funcs.py\", line 150, in request_tfserving_resnetv2\n",
      "    response.raise_for_status()\n",
      "  File \"/home/ubuntu/miniconda/lib/python3.8/site-packages/requests/models.py\", line 943, in raise_for_status\n",
      "    raise HTTPError(http_error_msg, response=self)\n",
      "requests.exceptions.HTTPError: 504 Server Error: Gateway Timeout for url: http://tfserving-resnetv2.default.kn.nima-dev.com/v1/models/resnet:predict\n"
     ]
    },
    {
     "name": "stdout",
     "output_type": "stream",
     "text": [
      "exception occured:\n"
     ]
    },
    {
     "name": "stderr",
     "output_type": "stream",
     "text": [
      "Traceback (most recent call last):\n",
      "  File \"<ipython-input-1-2819997e6078>\", line 37, in experiment_batch\n",
      "    result = request_funcs.workload_funcs[service_name](batch_size=batch_size)\n",
      "  File \"/home/ubuntu/serverless-ml-serving/experiments/helpers/request_funcs.py\", line 150, in request_tfserving_resnetv2\n",
      "    response.raise_for_status()\n",
      "  File \"/home/ubuntu/miniconda/lib/python3.8/site-packages/requests/models.py\", line 943, in raise_for_status\n",
      "    raise HTTPError(http_error_msg, response=self)\n",
      "requests.exceptions.HTTPError: 504 Server Error: Gateway Timeout for url: http://tfserving-resnetv2.default.kn.nima-dev.com/v1/models/resnet:predict\n"
     ]
    },
    {
     "name": "stdout",
     "output_type": "stream",
     "text": [
      "exception occured:\n"
     ]
    },
    {
     "name": "stderr",
     "output_type": "stream",
     "text": [
      "Traceback (most recent call last):\n",
      "  File \"<ipython-input-1-2819997e6078>\", line 37, in experiment_batch\n",
      "    result = request_funcs.workload_funcs[service_name](batch_size=batch_size)\n",
      "  File \"/home/ubuntu/serverless-ml-serving/experiments/helpers/request_funcs.py\", line 150, in request_tfserving_resnetv2\n",
      "    response.raise_for_status()\n",
      "  File \"/home/ubuntu/miniconda/lib/python3.8/site-packages/requests/models.py\", line 943, in raise_for_status\n",
      "    raise HTTPError(http_error_msg, response=self)\n",
      "requests.exceptions.HTTPError: 504 Server Error: Gateway Timeout for url: http://tfserving-resnetv2.default.kn.nima-dev.com/v1/models/resnet:predict\n"
     ]
    },
    {
     "name": "stdout",
     "output_type": "stream",
     "text": [
      "exception occured:\n"
     ]
    },
    {
     "name": "stderr",
     "output_type": "stream",
     "text": [
      "Traceback (most recent call last):\n",
      "  File \"<ipython-input-1-2819997e6078>\", line 37, in experiment_batch\n",
      "    result = request_funcs.workload_funcs[service_name](batch_size=batch_size)\n",
      "  File \"/home/ubuntu/serverless-ml-serving/experiments/helpers/request_funcs.py\", line 150, in request_tfserving_resnetv2\n",
      "    response.raise_for_status()\n",
      "  File \"/home/ubuntu/miniconda/lib/python3.8/site-packages/requests/models.py\", line 943, in raise_for_status\n",
      "    raise HTTPError(http_error_msg, response=self)\n",
      "requests.exceptions.HTTPError: 504 Server Error: Gateway Timeout for url: http://tfserving-resnetv2.default.kn.nima-dev.com/v1/models/resnet:predict\n"
     ]
    },
    {
     "name": "stdout",
     "output_type": "stream",
     "text": [
      "exception occured:\n"
     ]
    },
    {
     "name": "stderr",
     "output_type": "stream",
     "text": [
      "Traceback (most recent call last):\n",
      "  File \"<ipython-input-1-2819997e6078>\", line 37, in experiment_batch\n",
      "    result = request_funcs.workload_funcs[service_name](batch_size=batch_size)\n",
      "  File \"/home/ubuntu/serverless-ml-serving/experiments/helpers/request_funcs.py\", line 150, in request_tfserving_resnetv2\n",
      "    response.raise_for_status()\n",
      "  File \"/home/ubuntu/miniconda/lib/python3.8/site-packages/requests/models.py\", line 943, in raise_for_status\n",
      "    raise HTTPError(http_error_msg, response=self)\n",
      "requests.exceptions.HTTPError: 504 Server Error: Gateway Timeout for url: http://tfserving-resnetv2.default.kn.nima-dev.com/v1/models/resnet:predict\n"
     ]
    },
    {
     "name": "stdout",
     "output_type": "stream",
     "text": [
      "exception occured:\n"
     ]
    },
    {
     "name": "stderr",
     "output_type": "stream",
     "text": [
      "Traceback (most recent call last):\n",
      "  File \"<ipython-input-1-2819997e6078>\", line 37, in experiment_batch\n",
      "    result = request_funcs.workload_funcs[service_name](batch_size=batch_size)\n",
      "  File \"/home/ubuntu/serverless-ml-serving/experiments/helpers/request_funcs.py\", line 150, in request_tfserving_resnetv2\n",
      "    response.raise_for_status()\n",
      "  File \"/home/ubuntu/miniconda/lib/python3.8/site-packages/requests/models.py\", line 943, in raise_for_status\n",
      "    raise HTTPError(http_error_msg, response=self)\n",
      "requests.exceptions.HTTPError: 504 Server Error: Gateway Timeout for url: http://tfserving-resnetv2.default.kn.nima-dev.com/v1/models/resnet:predict\n"
     ]
    },
    {
     "name": "stdout",
     "output_type": "stream",
     "text": [
      "exception occured:\n"
     ]
    },
    {
     "name": "stderr",
     "output_type": "stream",
     "text": [
      "Traceback (most recent call last):\n",
      "  File \"<ipython-input-1-2819997e6078>\", line 37, in experiment_batch\n",
      "    result = request_funcs.workload_funcs[service_name](batch_size=batch_size)\n",
      "  File \"/home/ubuntu/serverless-ml-serving/experiments/helpers/request_funcs.py\", line 150, in request_tfserving_resnetv2\n",
      "    response.raise_for_status()\n",
      "  File \"/home/ubuntu/miniconda/lib/python3.8/site-packages/requests/models.py\", line 943, in raise_for_status\n",
      "    raise HTTPError(http_error_msg, response=self)\n",
      "requests.exceptions.HTTPError: 504 Server Error: Gateway Timeout for url: http://tfserving-resnetv2.default.kn.nima-dev.com/v1/models/resnet:predict\n"
     ]
    },
    {
     "name": "stdout",
     "output_type": "stream",
     "text": [
      "exception occured:\n"
     ]
    },
    {
     "name": "stderr",
     "output_type": "stream",
     "text": [
      "Traceback (most recent call last):\n",
      "  File \"<ipython-input-1-2819997e6078>\", line 37, in experiment_batch\n",
      "    result = request_funcs.workload_funcs[service_name](batch_size=batch_size)\n",
      "  File \"/home/ubuntu/serverless-ml-serving/experiments/helpers/request_funcs.py\", line 150, in request_tfserving_resnetv2\n",
      "    response.raise_for_status()\n",
      "  File \"/home/ubuntu/miniconda/lib/python3.8/site-packages/requests/models.py\", line 943, in raise_for_status\n",
      "    raise HTTPError(http_error_msg, response=self)\n",
      "requests.exceptions.HTTPError: 504 Server Error: Gateway Timeout for url: http://tfserving-resnetv2.default.kn.nima-dev.com/v1/models/resnet:predict\n"
     ]
    },
    {
     "name": "stdout",
     "output_type": "stream",
     "text": [
      "exception occured:\n"
     ]
    },
    {
     "name": "stderr",
     "output_type": "stream",
     "text": [
      "Traceback (most recent call last):\n",
      "  File \"<ipython-input-1-2819997e6078>\", line 37, in experiment_batch\n",
      "    result = request_funcs.workload_funcs[service_name](batch_size=batch_size)\n",
      "  File \"/home/ubuntu/serverless-ml-serving/experiments/helpers/request_funcs.py\", line 150, in request_tfserving_resnetv2\n",
      "    response.raise_for_status()\n",
      "  File \"/home/ubuntu/miniconda/lib/python3.8/site-packages/requests/models.py\", line 943, in raise_for_status\n",
      "    raise HTTPError(http_error_msg, response=self)\n",
      "requests.exceptions.HTTPError: 504 Server Error: Gateway Timeout for url: http://tfserving-resnetv2.default.kn.nima-dev.com/v1/models/resnet:predict\n"
     ]
    },
    {
     "name": "stdout",
     "output_type": "stream",
     "text": [
      "exception occured:\n"
     ]
    },
    {
     "name": "stderr",
     "output_type": "stream",
     "text": [
      "Traceback (most recent call last):\n",
      "  File \"<ipython-input-1-2819997e6078>\", line 37, in experiment_batch\n",
      "    result = request_funcs.workload_funcs[service_name](batch_size=batch_size)\n",
      "  File \"/home/ubuntu/serverless-ml-serving/experiments/helpers/request_funcs.py\", line 150, in request_tfserving_resnetv2\n",
      "    response.raise_for_status()\n",
      "  File \"/home/ubuntu/miniconda/lib/python3.8/site-packages/requests/models.py\", line 943, in raise_for_status\n",
      "    raise HTTPError(http_error_msg, response=self)\n",
      "requests.exceptions.HTTPError: 504 Server Error: Gateway Timeout for url: http://tfserving-resnetv2.default.kn.nima-dev.com/v1/models/resnet:predict\n"
     ]
    },
    {
     "name": "stdout",
     "output_type": "stream",
     "text": [
      "exception occured:\n"
     ]
    },
    {
     "name": "stderr",
     "output_type": "stream",
     "text": [
      "Traceback (most recent call last):\n",
      "  File \"<ipython-input-1-2819997e6078>\", line 37, in experiment_batch\n",
      "    result = request_funcs.workload_funcs[service_name](batch_size=batch_size)\n",
      "  File \"/home/ubuntu/serverless-ml-serving/experiments/helpers/request_funcs.py\", line 150, in request_tfserving_resnetv2\n",
      "    response.raise_for_status()\n",
      "  File \"/home/ubuntu/miniconda/lib/python3.8/site-packages/requests/models.py\", line 943, in raise_for_status\n",
      "    raise HTTPError(http_error_msg, response=self)\n",
      "requests.exceptions.HTTPError: 504 Server Error: Gateway Timeout for url: http://tfserving-resnetv2.default.kn.nima-dev.com/v1/models/resnet:predict\n"
     ]
    },
    {
     "name": "stdout",
     "output_type": "stream",
     "text": [
      "exception occured:\n"
     ]
    },
    {
     "name": "stderr",
     "output_type": "stream",
     "text": [
      "Traceback (most recent call last):\n",
      "  File \"<ipython-input-1-2819997e6078>\", line 37, in experiment_batch\n",
      "    result = request_funcs.workload_funcs[service_name](batch_size=batch_size)\n",
      "  File \"/home/ubuntu/serverless-ml-serving/experiments/helpers/request_funcs.py\", line 150, in request_tfserving_resnetv2\n",
      "    response.raise_for_status()\n",
      "  File \"/home/ubuntu/miniconda/lib/python3.8/site-packages/requests/models.py\", line 943, in raise_for_status\n",
      "    raise HTTPError(http_error_msg, response=self)\n",
      "requests.exceptions.HTTPError: 504 Server Error: Gateway Timeout for url: http://tfserving-resnetv2.default.kn.nima-dev.com/v1/models/resnet:predict\n"
     ]
    },
    {
     "name": "stdout",
     "output_type": "stream",
     "text": [
      "exception occured:\n"
     ]
    },
    {
     "name": "stderr",
     "output_type": "stream",
     "text": [
      "Traceback (most recent call last):\n",
      "  File \"<ipython-input-1-2819997e6078>\", line 37, in experiment_batch\n",
      "    result = request_funcs.workload_funcs[service_name](batch_size=batch_size)\n",
      "  File \"/home/ubuntu/serverless-ml-serving/experiments/helpers/request_funcs.py\", line 150, in request_tfserving_resnetv2\n",
      "    response.raise_for_status()\n",
      "  File \"/home/ubuntu/miniconda/lib/python3.8/site-packages/requests/models.py\", line 943, in raise_for_status\n",
      "    raise HTTPError(http_error_msg, response=self)\n",
      "requests.exceptions.HTTPError: 504 Server Error: Gateway Timeout for url: http://tfserving-resnetv2.default.kn.nima-dev.com/v1/models/resnet:predict\n"
     ]
    },
    {
     "name": "stdout",
     "output_type": "stream",
     "text": [
      "exception occured:\n"
     ]
    },
    {
     "name": "stderr",
     "output_type": "stream",
     "text": [
      "Traceback (most recent call last):\n",
      "  File \"<ipython-input-1-2819997e6078>\", line 37, in experiment_batch\n",
      "    result = request_funcs.workload_funcs[service_name](batch_size=batch_size)\n",
      "  File \"/home/ubuntu/serverless-ml-serving/experiments/helpers/request_funcs.py\", line 150, in request_tfserving_resnetv2\n",
      "    response.raise_for_status()\n",
      "  File \"/home/ubuntu/miniconda/lib/python3.8/site-packages/requests/models.py\", line 943, in raise_for_status\n",
      "    raise HTTPError(http_error_msg, response=self)\n",
      "requests.exceptions.HTTPError: 504 Server Error: Gateway Timeout for url: http://tfserving-resnetv2.default.kn.nima-dev.com/v1/models/resnet:predict\n"
     ]
    },
    {
     "name": "stdout",
     "output_type": "stream",
     "text": [
      "exception occured:\n"
     ]
    },
    {
     "name": "stderr",
     "output_type": "stream",
     "text": [
      "Traceback (most recent call last):\n",
      "  File \"<ipython-input-1-2819997e6078>\", line 37, in experiment_batch\n",
      "    result = request_funcs.workload_funcs[service_name](batch_size=batch_size)\n",
      "  File \"/home/ubuntu/serverless-ml-serving/experiments/helpers/request_funcs.py\", line 150, in request_tfserving_resnetv2\n",
      "    response.raise_for_status()\n",
      "  File \"/home/ubuntu/miniconda/lib/python3.8/site-packages/requests/models.py\", line 943, in raise_for_status\n",
      "    raise HTTPError(http_error_msg, response=self)\n",
      "requests.exceptions.HTTPError: 504 Server Error: Gateway Timeout for url: http://tfserving-resnetv2.default.kn.nima-dev.com/v1/models/resnet:predict\n"
     ]
    },
    {
     "name": "stdout",
     "output_type": "stream",
     "text": [
      "exception occured:\n"
     ]
    },
    {
     "name": "stderr",
     "output_type": "stream",
     "text": [
      "Traceback (most recent call last):\n",
      "  File \"<ipython-input-1-2819997e6078>\", line 37, in experiment_batch\n",
      "    result = request_funcs.workload_funcs[service_name](batch_size=batch_size)\n",
      "  File \"/home/ubuntu/serverless-ml-serving/experiments/helpers/request_funcs.py\", line 150, in request_tfserving_resnetv2\n",
      "    response.raise_for_status()\n",
      "  File \"/home/ubuntu/miniconda/lib/python3.8/site-packages/requests/models.py\", line 943, in raise_for_status\n",
      "    raise HTTPError(http_error_msg, response=self)\n",
      "requests.exceptions.HTTPError: 504 Server Error: Gateway Timeout for url: http://tfserving-resnetv2.default.kn.nima-dev.com/v1/models/resnet:predict\n"
     ]
    },
    {
     "name": "stdout",
     "output_type": "stream",
     "text": [
      "exception occured:\n"
     ]
    },
    {
     "name": "stderr",
     "output_type": "stream",
     "text": [
      "Traceback (most recent call last):\n",
      "  File \"<ipython-input-1-2819997e6078>\", line 37, in experiment_batch\n",
      "    result = request_funcs.workload_funcs[service_name](batch_size=batch_size)\n",
      "  File \"/home/ubuntu/serverless-ml-serving/experiments/helpers/request_funcs.py\", line 150, in request_tfserving_resnetv2\n",
      "    response.raise_for_status()\n",
      "  File \"/home/ubuntu/miniconda/lib/python3.8/site-packages/requests/models.py\", line 943, in raise_for_status\n",
      "    raise HTTPError(http_error_msg, response=self)\n",
      "requests.exceptions.HTTPError: 504 Server Error: Gateway Timeout for url: http://tfserving-resnetv2.default.kn.nima-dev.com/v1/models/resnet:predict\n"
     ]
    },
    {
     "name": "stdout",
     "output_type": "stream",
     "text": [
      "exception occured:\n"
     ]
    },
    {
     "name": "stderr",
     "output_type": "stream",
     "text": [
      "Traceback (most recent call last):\n",
      "  File \"<ipython-input-1-2819997e6078>\", line 37, in experiment_batch\n",
      "    result = request_funcs.workload_funcs[service_name](batch_size=batch_size)\n",
      "  File \"/home/ubuntu/serverless-ml-serving/experiments/helpers/request_funcs.py\", line 150, in request_tfserving_resnetv2\n",
      "    response.raise_for_status()\n",
      "  File \"/home/ubuntu/miniconda/lib/python3.8/site-packages/requests/models.py\", line 943, in raise_for_status\n",
      "    raise HTTPError(http_error_msg, response=self)\n",
      "requests.exceptions.HTTPError: 504 Server Error: Gateway Timeout for url: http://tfserving-resnetv2.default.kn.nima-dev.com/v1/models/resnet:predict\n"
     ]
    },
    {
     "name": "stdout",
     "output_type": "stream",
     "text": [
      "exception occured:\n"
     ]
    },
    {
     "name": "stderr",
     "output_type": "stream",
     "text": [
      "Traceback (most recent call last):\n",
      "  File \"<ipython-input-1-2819997e6078>\", line 37, in experiment_batch\n",
      "    result = request_funcs.workload_funcs[service_name](batch_size=batch_size)\n",
      "  File \"/home/ubuntu/serverless-ml-serving/experiments/helpers/request_funcs.py\", line 150, in request_tfserving_resnetv2\n",
      "    response.raise_for_status()\n",
      "  File \"/home/ubuntu/miniconda/lib/python3.8/site-packages/requests/models.py\", line 943, in raise_for_status\n",
      "    raise HTTPError(http_error_msg, response=self)\n",
      "requests.exceptions.HTTPError: 504 Server Error: Gateway Timeout for url: http://tfserving-resnetv2.default.kn.nima-dev.com/v1/models/resnet:predict\n"
     ]
    },
    {
     "name": "stdout",
     "output_type": "stream",
     "text": [
      "exception occured:\n"
     ]
    },
    {
     "name": "stderr",
     "output_type": "stream",
     "text": [
      "Traceback (most recent call last):\n",
      "  File \"<ipython-input-1-2819997e6078>\", line 37, in experiment_batch\n",
      "    result = request_funcs.workload_funcs[service_name](batch_size=batch_size)\n",
      "  File \"/home/ubuntu/serverless-ml-serving/experiments/helpers/request_funcs.py\", line 150, in request_tfserving_resnetv2\n",
      "    response.raise_for_status()\n",
      "  File \"/home/ubuntu/miniconda/lib/python3.8/site-packages/requests/models.py\", line 943, in raise_for_status\n",
      "    raise HTTPError(http_error_msg, response=self)\n",
      "requests.exceptions.HTTPError: 504 Server Error: Gateway Timeout for url: http://tfserving-resnetv2.default.kn.nima-dev.com/v1/models/resnet:predict\n"
     ]
    },
    {
     "name": "stdout",
     "output_type": "stream",
     "text": [
      "exception occured:\n"
     ]
    },
    {
     "name": "stderr",
     "output_type": "stream",
     "text": [
      "Traceback (most recent call last):\n",
      "  File \"<ipython-input-1-2819997e6078>\", line 37, in experiment_batch\n",
      "    result = request_funcs.workload_funcs[service_name](batch_size=batch_size)\n",
      "  File \"/home/ubuntu/serverless-ml-serving/experiments/helpers/request_funcs.py\", line 150, in request_tfserving_resnetv2\n",
      "    response.raise_for_status()\n",
      "  File \"/home/ubuntu/miniconda/lib/python3.8/site-packages/requests/models.py\", line 943, in raise_for_status\n",
      "    raise HTTPError(http_error_msg, response=self)\n",
      "requests.exceptions.HTTPError: 504 Server Error: Gateway Timeout for url: http://tfserving-resnetv2.default.kn.nima-dev.com/v1/models/resnet:predict\n"
     ]
    },
    {
     "name": "stdout",
     "output_type": "stream",
     "text": [
      "exception occured:\n"
     ]
    },
    {
     "name": "stderr",
     "output_type": "stream",
     "text": [
      "Traceback (most recent call last):\n",
      "  File \"<ipython-input-1-2819997e6078>\", line 37, in experiment_batch\n",
      "    result = request_funcs.workload_funcs[service_name](batch_size=batch_size)\n",
      "  File \"/home/ubuntu/serverless-ml-serving/experiments/helpers/request_funcs.py\", line 150, in request_tfserving_resnetv2\n",
      "    response.raise_for_status()\n",
      "  File \"/home/ubuntu/miniconda/lib/python3.8/site-packages/requests/models.py\", line 943, in raise_for_status\n",
      "    raise HTTPError(http_error_msg, response=self)\n",
      "requests.exceptions.HTTPError: 504 Server Error: Gateway Timeout for url: http://tfserving-resnetv2.default.kn.nima-dev.com/v1/models/resnet:predict\n"
     ]
    },
    {
     "name": "stdout",
     "output_type": "stream",
     "text": [
      "exception occured:\n"
     ]
    },
    {
     "name": "stderr",
     "output_type": "stream",
     "text": [
      "Traceback (most recent call last):\n",
      "  File \"<ipython-input-1-2819997e6078>\", line 37, in experiment_batch\n",
      "    result = request_funcs.workload_funcs[service_name](batch_size=batch_size)\n",
      "  File \"/home/ubuntu/serverless-ml-serving/experiments/helpers/request_funcs.py\", line 150, in request_tfserving_resnetv2\n",
      "    response.raise_for_status()\n",
      "  File \"/home/ubuntu/miniconda/lib/python3.8/site-packages/requests/models.py\", line 943, in raise_for_status\n",
      "    raise HTTPError(http_error_msg, response=self)\n",
      "requests.exceptions.HTTPError: 504 Server Error: Gateway Timeout for url: http://tfserving-resnetv2.default.kn.nima-dev.com/v1/models/resnet:predict\n"
     ]
    },
    {
     "name": "stdout",
     "output_type": "stream",
     "text": [
      "exception occured:\n"
     ]
    },
    {
     "name": "stderr",
     "output_type": "stream",
     "text": [
      "Traceback (most recent call last):\n",
      "  File \"<ipython-input-1-2819997e6078>\", line 37, in experiment_batch\n",
      "    result = request_funcs.workload_funcs[service_name](batch_size=batch_size)\n",
      "  File \"/home/ubuntu/serverless-ml-serving/experiments/helpers/request_funcs.py\", line 150, in request_tfserving_resnetv2\n",
      "    response.raise_for_status()\n",
      "  File \"/home/ubuntu/miniconda/lib/python3.8/site-packages/requests/models.py\", line 943, in raise_for_status\n",
      "    raise HTTPError(http_error_msg, response=self)\n",
      "requests.exceptions.HTTPError: 504 Server Error: Gateway Timeout for url: http://tfserving-resnetv2.default.kn.nima-dev.com/v1/models/resnet:predict\n"
     ]
    },
    {
     "name": "stdout",
     "output_type": "stream",
     "text": [
      "exception occured:\n"
     ]
    },
    {
     "name": "stderr",
     "output_type": "stream",
     "text": [
      "Traceback (most recent call last):\n",
      "  File \"<ipython-input-1-2819997e6078>\", line 37, in experiment_batch\n",
      "    result = request_funcs.workload_funcs[service_name](batch_size=batch_size)\n",
      "  File \"/home/ubuntu/serverless-ml-serving/experiments/helpers/request_funcs.py\", line 150, in request_tfserving_resnetv2\n",
      "    response.raise_for_status()\n",
      "  File \"/home/ubuntu/miniconda/lib/python3.8/site-packages/requests/models.py\", line 943, in raise_for_status\n",
      "    raise HTTPError(http_error_msg, response=self)\n",
      "requests.exceptions.HTTPError: 504 Server Error: Gateway Timeout for url: http://tfserving-resnetv2.default.kn.nima-dev.com/v1/models/resnet:predict\n"
     ]
    },
    {
     "name": "stdout",
     "output_type": "stream",
     "text": [
      "exception occured:\n"
     ]
    },
    {
     "name": "stderr",
     "output_type": "stream",
     "text": [
      "Traceback (most recent call last):\n",
      "  File \"<ipython-input-1-2819997e6078>\", line 37, in experiment_batch\n",
      "    result = request_funcs.workload_funcs[service_name](batch_size=batch_size)\n",
      "  File \"/home/ubuntu/serverless-ml-serving/experiments/helpers/request_funcs.py\", line 150, in request_tfserving_resnetv2\n",
      "    response.raise_for_status()\n",
      "  File \"/home/ubuntu/miniconda/lib/python3.8/site-packages/requests/models.py\", line 943, in raise_for_status\n",
      "    raise HTTPError(http_error_msg, response=self)\n",
      "requests.exceptions.HTTPError: 504 Server Error: Gateway Timeout for url: http://tfserving-resnetv2.default.kn.nima-dev.com/v1/models/resnet:predict\n"
     ]
    },
    {
     "name": "stdout",
     "output_type": "stream",
     "text": [
      "exception occured:\n"
     ]
    },
    {
     "name": "stderr",
     "output_type": "stream",
     "text": [
      "Traceback (most recent call last):\n",
      "  File \"<ipython-input-1-2819997e6078>\", line 37, in experiment_batch\n",
      "    result = request_funcs.workload_funcs[service_name](batch_size=batch_size)\n",
      "  File \"/home/ubuntu/serverless-ml-serving/experiments/helpers/request_funcs.py\", line 150, in request_tfserving_resnetv2\n",
      "    response.raise_for_status()\n",
      "  File \"/home/ubuntu/miniconda/lib/python3.8/site-packages/requests/models.py\", line 943, in raise_for_status\n",
      "    raise HTTPError(http_error_msg, response=self)\n",
      "requests.exceptions.HTTPError: 504 Server Error: Gateway Timeout for url: http://tfserving-resnetv2.default.kn.nima-dev.com/v1/models/resnet:predict\n"
     ]
    },
    {
     "name": "stdout",
     "output_type": "stream",
     "text": [
      "exception occured:\n"
     ]
    },
    {
     "name": "stderr",
     "output_type": "stream",
     "text": [
      "Traceback (most recent call last):\n",
      "  File \"<ipython-input-1-2819997e6078>\", line 37, in experiment_batch\n",
      "    result = request_funcs.workload_funcs[service_name](batch_size=batch_size)\n",
      "  File \"/home/ubuntu/serverless-ml-serving/experiments/helpers/request_funcs.py\", line 150, in request_tfserving_resnetv2\n",
      "    response.raise_for_status()\n",
      "  File \"/home/ubuntu/miniconda/lib/python3.8/site-packages/requests/models.py\", line 943, in raise_for_status\n",
      "    raise HTTPError(http_error_msg, response=self)\n",
      "requests.exceptions.HTTPError: 504 Server Error: Gateway Timeout for url: http://tfserving-resnetv2.default.kn.nima-dev.com/v1/models/resnet:predict\n"
     ]
    },
    {
     "name": "stdout",
     "output_type": "stream",
     "text": [
      "exception occured:\n"
     ]
    },
    {
     "name": "stderr",
     "output_type": "stream",
     "text": [
      "Traceback (most recent call last):\n",
      "  File \"<ipython-input-1-2819997e6078>\", line 37, in experiment_batch\n",
      "    result = request_funcs.workload_funcs[service_name](batch_size=batch_size)\n",
      "  File \"/home/ubuntu/serverless-ml-serving/experiments/helpers/request_funcs.py\", line 150, in request_tfserving_resnetv2\n",
      "    response.raise_for_status()\n",
      "  File \"/home/ubuntu/miniconda/lib/python3.8/site-packages/requests/models.py\", line 943, in raise_for_status\n",
      "    raise HTTPError(http_error_msg, response=self)\n",
      "requests.exceptions.HTTPError: 504 Server Error: Gateway Timeout for url: http://tfserving-resnetv2.default.kn.nima-dev.com/v1/models/resnet:predict\n"
     ]
    },
    {
     "name": "stdout",
     "output_type": "stream",
     "text": [
      "exception occured:\n"
     ]
    },
    {
     "name": "stderr",
     "output_type": "stream",
     "text": [
      "Traceback (most recent call last):\n",
      "  File \"<ipython-input-1-2819997e6078>\", line 37, in experiment_batch\n",
      "    result = request_funcs.workload_funcs[service_name](batch_size=batch_size)\n",
      "  File \"/home/ubuntu/serverless-ml-serving/experiments/helpers/request_funcs.py\", line 150, in request_tfserving_resnetv2\n",
      "    response.raise_for_status()\n",
      "  File \"/home/ubuntu/miniconda/lib/python3.8/site-packages/requests/models.py\", line 943, in raise_for_status\n",
      "    raise HTTPError(http_error_msg, response=self)\n",
      "requests.exceptions.HTTPError: 504 Server Error: Gateway Timeout for url: http://tfserving-resnetv2.default.kn.nima-dev.com/v1/models/resnet:predict\n"
     ]
    },
    {
     "name": "stdout",
     "output_type": "stream",
     "text": [
      "exception occured:\n"
     ]
    },
    {
     "name": "stderr",
     "output_type": "stream",
     "text": [
      "Traceback (most recent call last):\n",
      "  File \"<ipython-input-1-2819997e6078>\", line 37, in experiment_batch\n",
      "    result = request_funcs.workload_funcs[service_name](batch_size=batch_size)\n",
      "  File \"/home/ubuntu/serverless-ml-serving/experiments/helpers/request_funcs.py\", line 150, in request_tfserving_resnetv2\n",
      "    response.raise_for_status()\n",
      "  File \"/home/ubuntu/miniconda/lib/python3.8/site-packages/requests/models.py\", line 943, in raise_for_status\n",
      "    raise HTTPError(http_error_msg, response=self)\n",
      "requests.exceptions.HTTPError: 504 Server Error: Gateway Timeout for url: http://tfserving-resnetv2.default.kn.nima-dev.com/v1/models/resnet:predict\n"
     ]
    },
    {
     "name": "stdout",
     "output_type": "stream",
     "text": [
      "exception occured:\n"
     ]
    },
    {
     "name": "stderr",
     "output_type": "stream",
     "text": [
      "Traceback (most recent call last):\n",
      "  File \"<ipython-input-1-2819997e6078>\", line 37, in experiment_batch\n",
      "    result = request_funcs.workload_funcs[service_name](batch_size=batch_size)\n",
      "  File \"/home/ubuntu/serverless-ml-serving/experiments/helpers/request_funcs.py\", line 150, in request_tfserving_resnetv2\n",
      "    response.raise_for_status()\n",
      "  File \"/home/ubuntu/miniconda/lib/python3.8/site-packages/requests/models.py\", line 943, in raise_for_status\n",
      "    raise HTTPError(http_error_msg, response=self)\n",
      "requests.exceptions.HTTPError: 504 Server Error: Gateway Timeout for url: http://tfserving-resnetv2.default.kn.nima-dev.com/v1/models/resnet:predict\n"
     ]
    },
    {
     "name": "stdout",
     "output_type": "stream",
     "text": [
      "exception occured:\n"
     ]
    },
    {
     "name": "stderr",
     "output_type": "stream",
     "text": [
      "Traceback (most recent call last):\n",
      "  File \"<ipython-input-1-2819997e6078>\", line 37, in experiment_batch\n",
      "    result = request_funcs.workload_funcs[service_name](batch_size=batch_size)\n",
      "  File \"/home/ubuntu/serverless-ml-serving/experiments/helpers/request_funcs.py\", line 150, in request_tfserving_resnetv2\n",
      "    response.raise_for_status()\n",
      "  File \"/home/ubuntu/miniconda/lib/python3.8/site-packages/requests/models.py\", line 943, in raise_for_status\n",
      "    raise HTTPError(http_error_msg, response=self)\n",
      "requests.exceptions.HTTPError: 504 Server Error: Gateway Timeout for url: http://tfserving-resnetv2.default.kn.nima-dev.com/v1/models/resnet:predict\n"
     ]
    },
    {
     "name": "stdout",
     "output_type": "stream",
     "text": [
      "exception occured:\n"
     ]
    },
    {
     "name": "stderr",
     "output_type": "stream",
     "text": [
      "Traceback (most recent call last):\n",
      "  File \"<ipython-input-1-2819997e6078>\", line 37, in experiment_batch\n",
      "    result = request_funcs.workload_funcs[service_name](batch_size=batch_size)\n",
      "  File \"/home/ubuntu/serverless-ml-serving/experiments/helpers/request_funcs.py\", line 150, in request_tfserving_resnetv2\n",
      "    response.raise_for_status()\n",
      "  File \"/home/ubuntu/miniconda/lib/python3.8/site-packages/requests/models.py\", line 943, in raise_for_status\n",
      "    raise HTTPError(http_error_msg, response=self)\n",
      "requests.exceptions.HTTPError: 504 Server Error: Gateway Timeout for url: http://tfserving-resnetv2.default.kn.nima-dev.com/v1/models/resnet:predict\n"
     ]
    },
    {
     "name": "stdout",
     "output_type": "stream",
     "text": [
      "exception occured:\n"
     ]
    },
    {
     "name": "stderr",
     "output_type": "stream",
     "text": [
      "Traceback (most recent call last):\n",
      "  File \"<ipython-input-1-2819997e6078>\", line 37, in experiment_batch\n",
      "    result = request_funcs.workload_funcs[service_name](batch_size=batch_size)\n",
      "  File \"/home/ubuntu/serverless-ml-serving/experiments/helpers/request_funcs.py\", line 150, in request_tfserving_resnetv2\n",
      "    response.raise_for_status()\n",
      "  File \"/home/ubuntu/miniconda/lib/python3.8/site-packages/requests/models.py\", line 943, in raise_for_status\n",
      "    raise HTTPError(http_error_msg, response=self)\n",
      "requests.exceptions.HTTPError: 504 Server Error: Gateway Timeout for url: http://tfserving-resnetv2.default.kn.nima-dev.com/v1/models/resnet:predict\n"
     ]
    },
    {
     "name": "stdout",
     "output_type": "stream",
     "text": [
      "exception occured:\n"
     ]
    },
    {
     "name": "stderr",
     "output_type": "stream",
     "text": [
      "Traceback (most recent call last):\n",
      "  File \"<ipython-input-1-2819997e6078>\", line 37, in experiment_batch\n",
      "    result = request_funcs.workload_funcs[service_name](batch_size=batch_size)\n",
      "  File \"/home/ubuntu/serverless-ml-serving/experiments/helpers/request_funcs.py\", line 150, in request_tfserving_resnetv2\n",
      "    response.raise_for_status()\n",
      "  File \"/home/ubuntu/miniconda/lib/python3.8/site-packages/requests/models.py\", line 943, in raise_for_status\n",
      "    raise HTTPError(http_error_msg, response=self)\n",
      "requests.exceptions.HTTPError: 504 Server Error: Gateway Timeout for url: http://tfserving-resnetv2.default.kn.nima-dev.com/v1/models/resnet:predict\n"
     ]
    },
    {
     "name": "stdout",
     "output_type": "stream",
     "text": [
      "exception occured:\n"
     ]
    },
    {
     "name": "stderr",
     "output_type": "stream",
     "text": [
      "Traceback (most recent call last):\n",
      "  File \"<ipython-input-1-2819997e6078>\", line 37, in experiment_batch\n",
      "    result = request_funcs.workload_funcs[service_name](batch_size=batch_size)\n",
      "  File \"/home/ubuntu/serverless-ml-serving/experiments/helpers/request_funcs.py\", line 150, in request_tfserving_resnetv2\n",
      "    response.raise_for_status()\n",
      "  File \"/home/ubuntu/miniconda/lib/python3.8/site-packages/requests/models.py\", line 943, in raise_for_status\n",
      "    raise HTTPError(http_error_msg, response=self)\n",
      "requests.exceptions.HTTPError: 504 Server Error: Gateway Timeout for url: http://tfserving-resnetv2.default.kn.nima-dev.com/v1/models/resnet:predict\n"
     ]
    },
    {
     "name": "stdout",
     "output_type": "stream",
     "text": [
      "exception occured:\n"
     ]
    },
    {
     "name": "stderr",
     "output_type": "stream",
     "text": [
      "Traceback (most recent call last):\n",
      "  File \"<ipython-input-1-2819997e6078>\", line 37, in experiment_batch\n",
      "    result = request_funcs.workload_funcs[service_name](batch_size=batch_size)\n",
      "  File \"/home/ubuntu/serverless-ml-serving/experiments/helpers/request_funcs.py\", line 150, in request_tfserving_resnetv2\n",
      "    response.raise_for_status()\n",
      "  File \"/home/ubuntu/miniconda/lib/python3.8/site-packages/requests/models.py\", line 943, in raise_for_status\n",
      "    raise HTTPError(http_error_msg, response=self)\n",
      "requests.exceptions.HTTPError: 504 Server Error: Gateway Timeout for url: http://tfserving-resnetv2.default.kn.nima-dev.com/v1/models/resnet:predict\n"
     ]
    },
    {
     "name": "stdout",
     "output_type": "stream",
     "text": [
      "exception occured:\n"
     ]
    },
    {
     "name": "stderr",
     "output_type": "stream",
     "text": [
      "Traceback (most recent call last):\n",
      "  File \"<ipython-input-1-2819997e6078>\", line 37, in experiment_batch\n",
      "    result = request_funcs.workload_funcs[service_name](batch_size=batch_size)\n",
      "  File \"/home/ubuntu/serverless-ml-serving/experiments/helpers/request_funcs.py\", line 150, in request_tfserving_resnetv2\n",
      "    response.raise_for_status()\n",
      "  File \"/home/ubuntu/miniconda/lib/python3.8/site-packages/requests/models.py\", line 943, in raise_for_status\n",
      "    raise HTTPError(http_error_msg, response=self)\n",
      "requests.exceptions.HTTPError: 504 Server Error: Gateway Timeout for url: http://tfserving-resnetv2.default.kn.nima-dev.com/v1/models/resnet:predict\n"
     ]
    },
    {
     "name": "stdout",
     "output_type": "stream",
     "text": [
      "exception occured:\n"
     ]
    },
    {
     "name": "stderr",
     "output_type": "stream",
     "text": [
      "Traceback (most recent call last):\n",
      "  File \"<ipython-input-1-2819997e6078>\", line 37, in experiment_batch\n",
      "    result = request_funcs.workload_funcs[service_name](batch_size=batch_size)\n",
      "  File \"/home/ubuntu/serverless-ml-serving/experiments/helpers/request_funcs.py\", line 150, in request_tfserving_resnetv2\n",
      "    response.raise_for_status()\n",
      "  File \"/home/ubuntu/miniconda/lib/python3.8/site-packages/requests/models.py\", line 943, in raise_for_status\n",
      "    raise HTTPError(http_error_msg, response=self)\n",
      "requests.exceptions.HTTPError: 504 Server Error: Gateway Timeout for url: http://tfserving-resnetv2.default.kn.nima-dev.com/v1/models/resnet:predict\n"
     ]
    },
    {
     "name": "stdout",
     "output_type": "stream",
     "text": [
      "exception occured:\n"
     ]
    },
    {
     "name": "stderr",
     "output_type": "stream",
     "text": [
      "Traceback (most recent call last):\n",
      "  File \"<ipython-input-1-2819997e6078>\", line 37, in experiment_batch\n",
      "    result = request_funcs.workload_funcs[service_name](batch_size=batch_size)\n",
      "  File \"/home/ubuntu/serverless-ml-serving/experiments/helpers/request_funcs.py\", line 150, in request_tfserving_resnetv2\n",
      "    response.raise_for_status()\n",
      "  File \"/home/ubuntu/miniconda/lib/python3.8/site-packages/requests/models.py\", line 943, in raise_for_status\n",
      "    raise HTTPError(http_error_msg, response=self)\n",
      "requests.exceptions.HTTPError: 504 Server Error: Gateway Timeout for url: http://tfserving-resnetv2.default.kn.nima-dev.com/v1/models/resnet:predict\n"
     ]
    },
    {
     "name": "stdout",
     "output_type": "stream",
     "text": [
      "exception occured:\n"
     ]
    },
    {
     "name": "stderr",
     "output_type": "stream",
     "text": [
      "Traceback (most recent call last):\n",
      "  File \"<ipython-input-1-2819997e6078>\", line 37, in experiment_batch\n",
      "    result = request_funcs.workload_funcs[service_name](batch_size=batch_size)\n",
      "  File \"/home/ubuntu/serverless-ml-serving/experiments/helpers/request_funcs.py\", line 150, in request_tfserving_resnetv2\n",
      "    response.raise_for_status()\n",
      "  File \"/home/ubuntu/miniconda/lib/python3.8/site-packages/requests/models.py\", line 943, in raise_for_status\n",
      "    raise HTTPError(http_error_msg, response=self)\n",
      "requests.exceptions.HTTPError: 504 Server Error: Gateway Timeout for url: http://tfserving-resnetv2.default.kn.nima-dev.com/v1/models/resnet:predict\n"
     ]
    },
    {
     "name": "stdout",
     "output_type": "stream",
     "text": [
      "exception occured:\n"
     ]
    },
    {
     "name": "stderr",
     "output_type": "stream",
     "text": [
      "Traceback (most recent call last):\n",
      "  File \"<ipython-input-1-2819997e6078>\", line 37, in experiment_batch\n",
      "    result = request_funcs.workload_funcs[service_name](batch_size=batch_size)\n",
      "  File \"/home/ubuntu/serverless-ml-serving/experiments/helpers/request_funcs.py\", line 150, in request_tfserving_resnetv2\n",
      "    response.raise_for_status()\n",
      "  File \"/home/ubuntu/miniconda/lib/python3.8/site-packages/requests/models.py\", line 943, in raise_for_status\n",
      "    raise HTTPError(http_error_msg, response=self)\n",
      "requests.exceptions.HTTPError: 504 Server Error: Gateway Timeout for url: http://tfserving-resnetv2.default.kn.nima-dev.com/v1/models/resnet:predict\n"
     ]
    },
    {
     "name": "stdout",
     "output_type": "stream",
     "text": [
      "exception occured:\n"
     ]
    },
    {
     "name": "stderr",
     "output_type": "stream",
     "text": [
      "Traceback (most recent call last):\n",
      "  File \"<ipython-input-1-2819997e6078>\", line 37, in experiment_batch\n",
      "    result = request_funcs.workload_funcs[service_name](batch_size=batch_size)\n",
      "  File \"/home/ubuntu/serverless-ml-serving/experiments/helpers/request_funcs.py\", line 150, in request_tfserving_resnetv2\n",
      "    response.raise_for_status()\n",
      "  File \"/home/ubuntu/miniconda/lib/python3.8/site-packages/requests/models.py\", line 943, in raise_for_status\n",
      "    raise HTTPError(http_error_msg, response=self)\n",
      "requests.exceptions.HTTPError: 504 Server Error: Gateway Timeout for url: http://tfserving-resnetv2.default.kn.nima-dev.com/v1/models/resnet:predict\n"
     ]
    },
    {
     "name": "stdout",
     "output_type": "stream",
     "text": [
      "exception occured:\n"
     ]
    },
    {
     "name": "stderr",
     "output_type": "stream",
     "text": [
      "Traceback (most recent call last):\n",
      "  File \"<ipython-input-1-2819997e6078>\", line 37, in experiment_batch\n",
      "    result = request_funcs.workload_funcs[service_name](batch_size=batch_size)\n",
      "  File \"/home/ubuntu/serverless-ml-serving/experiments/helpers/request_funcs.py\", line 150, in request_tfserving_resnetv2\n",
      "    response.raise_for_status()\n",
      "  File \"/home/ubuntu/miniconda/lib/python3.8/site-packages/requests/models.py\", line 943, in raise_for_status\n",
      "    raise HTTPError(http_error_msg, response=self)\n",
      "requests.exceptions.HTTPError: 504 Server Error: Gateway Timeout for url: http://tfserving-resnetv2.default.kn.nima-dev.com/v1/models/resnet:predict\n"
     ]
    },
    {
     "name": "stdout",
     "output_type": "stream",
     "text": [
      "exception occured:\n"
     ]
    },
    {
     "name": "stderr",
     "output_type": "stream",
     "text": [
      "Traceback (most recent call last):\n",
      "  File \"<ipython-input-1-2819997e6078>\", line 37, in experiment_batch\n",
      "    result = request_funcs.workload_funcs[service_name](batch_size=batch_size)\n",
      "  File \"/home/ubuntu/serverless-ml-serving/experiments/helpers/request_funcs.py\", line 150, in request_tfserving_resnetv2\n",
      "    response.raise_for_status()\n",
      "  File \"/home/ubuntu/miniconda/lib/python3.8/site-packages/requests/models.py\", line 943, in raise_for_status\n",
      "    raise HTTPError(http_error_msg, response=self)\n",
      "requests.exceptions.HTTPError: 504 Server Error: Gateway Timeout for url: http://tfserving-resnetv2.default.kn.nima-dev.com/v1/models/resnet:predict\n"
     ]
    },
    {
     "name": "stdout",
     "output_type": "stream",
     "text": [
      "exception occured:\n"
     ]
    },
    {
     "name": "stderr",
     "output_type": "stream",
     "text": [
      "Traceback (most recent call last):\n",
      "  File \"<ipython-input-1-2819997e6078>\", line 37, in experiment_batch\n",
      "    result = request_funcs.workload_funcs[service_name](batch_size=batch_size)\n",
      "  File \"/home/ubuntu/serverless-ml-serving/experiments/helpers/request_funcs.py\", line 150, in request_tfserving_resnetv2\n",
      "    response.raise_for_status()\n",
      "  File \"/home/ubuntu/miniconda/lib/python3.8/site-packages/requests/models.py\", line 943, in raise_for_status\n",
      "    raise HTTPError(http_error_msg, response=self)\n",
      "requests.exceptions.HTTPError: 504 Server Error: Gateway Timeout for url: http://tfserving-resnetv2.default.kn.nima-dev.com/v1/models/resnet:predict\n"
     ]
    },
    {
     "name": "stdout",
     "output_type": "stream",
     "text": [
      "exception occured:\n"
     ]
    },
    {
     "name": "stderr",
     "output_type": "stream",
     "text": [
      "Traceback (most recent call last):\n",
      "  File \"<ipython-input-1-2819997e6078>\", line 37, in experiment_batch\n",
      "    result = request_funcs.workload_funcs[service_name](batch_size=batch_size)\n",
      "  File \"/home/ubuntu/serverless-ml-serving/experiments/helpers/request_funcs.py\", line 150, in request_tfserving_resnetv2\n",
      "    response.raise_for_status()\n",
      "  File \"/home/ubuntu/miniconda/lib/python3.8/site-packages/requests/models.py\", line 943, in raise_for_status\n",
      "    raise HTTPError(http_error_msg, response=self)\n",
      "requests.exceptions.HTTPError: 504 Server Error: Gateway Timeout for url: http://tfserving-resnetv2.default.kn.nima-dev.com/v1/models/resnet:predict\n"
     ]
    },
    {
     "name": "stdout",
     "output_type": "stream",
     "text": [
      "exception occured:\n"
     ]
    },
    {
     "name": "stderr",
     "output_type": "stream",
     "text": [
      "Traceback (most recent call last):\n",
      "  File \"<ipython-input-1-2819997e6078>\", line 37, in experiment_batch\n",
      "    result = request_funcs.workload_funcs[service_name](batch_size=batch_size)\n",
      "  File \"/home/ubuntu/serverless-ml-serving/experiments/helpers/request_funcs.py\", line 150, in request_tfserving_resnetv2\n",
      "    response.raise_for_status()\n",
      "  File \"/home/ubuntu/miniconda/lib/python3.8/site-packages/requests/models.py\", line 943, in raise_for_status\n",
      "    raise HTTPError(http_error_msg, response=self)\n",
      "requests.exceptions.HTTPError: 504 Server Error: Gateway Timeout for url: http://tfserving-resnetv2.default.kn.nima-dev.com/v1/models/resnet:predict\n"
     ]
    },
    {
     "name": "stdout",
     "output_type": "stream",
     "text": [
      "exception occured:\n"
     ]
    },
    {
     "name": "stderr",
     "output_type": "stream",
     "text": [
      "Traceback (most recent call last):\n",
      "  File \"<ipython-input-1-2819997e6078>\", line 37, in experiment_batch\n",
      "    result = request_funcs.workload_funcs[service_name](batch_size=batch_size)\n",
      "  File \"/home/ubuntu/serverless-ml-serving/experiments/helpers/request_funcs.py\", line 150, in request_tfserving_resnetv2\n",
      "    response.raise_for_status()\n",
      "  File \"/home/ubuntu/miniconda/lib/python3.8/site-packages/requests/models.py\", line 943, in raise_for_status\n",
      "    raise HTTPError(http_error_msg, response=self)\n",
      "requests.exceptions.HTTPError: 504 Server Error: Gateway Timeout for url: http://tfserving-resnetv2.default.kn.nima-dev.com/v1/models/resnet:predict\n"
     ]
    },
    {
     "name": "stdout",
     "output_type": "stream",
     "text": [
      "exception occured:\n"
     ]
    },
    {
     "name": "stderr",
     "output_type": "stream",
     "text": [
      "Traceback (most recent call last):\n",
      "  File \"<ipython-input-1-2819997e6078>\", line 37, in experiment_batch\n",
      "    result = request_funcs.workload_funcs[service_name](batch_size=batch_size)\n",
      "  File \"/home/ubuntu/serverless-ml-serving/experiments/helpers/request_funcs.py\", line 150, in request_tfserving_resnetv2\n",
      "    response.raise_for_status()\n",
      "  File \"/home/ubuntu/miniconda/lib/python3.8/site-packages/requests/models.py\", line 943, in raise_for_status\n",
      "    raise HTTPError(http_error_msg, response=self)\n",
      "requests.exceptions.HTTPError: 504 Server Error: Gateway Timeout for url: http://tfserving-resnetv2.default.kn.nima-dev.com/v1/models/resnet:predict\n"
     ]
    },
    {
     "name": "stdout",
     "output_type": "stream",
     "text": [
      "exception occured:\n"
     ]
    },
    {
     "name": "stderr",
     "output_type": "stream",
     "text": [
      "Traceback (most recent call last):\n",
      "  File \"<ipython-input-1-2819997e6078>\", line 37, in experiment_batch\n",
      "    result = request_funcs.workload_funcs[service_name](batch_size=batch_size)\n",
      "  File \"/home/ubuntu/serverless-ml-serving/experiments/helpers/request_funcs.py\", line 150, in request_tfserving_resnetv2\n",
      "    response.raise_for_status()\n",
      "  File \"/home/ubuntu/miniconda/lib/python3.8/site-packages/requests/models.py\", line 943, in raise_for_status\n",
      "    raise HTTPError(http_error_msg, response=self)\n",
      "requests.exceptions.HTTPError: 504 Server Error: Gateway Timeout for url: http://tfserving-resnetv2.default.kn.nima-dev.com/v1/models/resnet:predict\n"
     ]
    },
    {
     "name": "stdout",
     "output_type": "stream",
     "text": [
      "exception occured:\n"
     ]
    },
    {
     "name": "stderr",
     "output_type": "stream",
     "text": [
      "Traceback (most recent call last):\n",
      "  File \"<ipython-input-1-2819997e6078>\", line 37, in experiment_batch\n",
      "    result = request_funcs.workload_funcs[service_name](batch_size=batch_size)\n",
      "  File \"/home/ubuntu/serverless-ml-serving/experiments/helpers/request_funcs.py\", line 150, in request_tfserving_resnetv2\n",
      "    response.raise_for_status()\n",
      "  File \"/home/ubuntu/miniconda/lib/python3.8/site-packages/requests/models.py\", line 943, in raise_for_status\n",
      "    raise HTTPError(http_error_msg, response=self)\n",
      "requests.exceptions.HTTPError: 504 Server Error: Gateway Timeout for url: http://tfserving-resnetv2.default.kn.nima-dev.com/v1/models/resnet:predict\n"
     ]
    },
    {
     "name": "stdout",
     "output_type": "stream",
     "text": [
      "exception occured:\n"
     ]
    },
    {
     "name": "stderr",
     "output_type": "stream",
     "text": [
      "Traceback (most recent call last):\n",
      "  File \"<ipython-input-1-2819997e6078>\", line 37, in experiment_batch\n",
      "    result = request_funcs.workload_funcs[service_name](batch_size=batch_size)\n",
      "  File \"/home/ubuntu/serverless-ml-serving/experiments/helpers/request_funcs.py\", line 150, in request_tfserving_resnetv2\n",
      "    response.raise_for_status()\n",
      "  File \"/home/ubuntu/miniconda/lib/python3.8/site-packages/requests/models.py\", line 943, in raise_for_status\n",
      "    raise HTTPError(http_error_msg, response=self)\n",
      "requests.exceptions.HTTPError: 504 Server Error: Gateway Timeout for url: http://tfserving-resnetv2.default.kn.nima-dev.com/v1/models/resnet:predict\n"
     ]
    },
    {
     "name": "stdout",
     "output_type": "stream",
     "text": [
      "exception occured:\n"
     ]
    },
    {
     "name": "stderr",
     "output_type": "stream",
     "text": [
      "Traceback (most recent call last):\n",
      "  File \"<ipython-input-1-2819997e6078>\", line 37, in experiment_batch\n",
      "    result = request_funcs.workload_funcs[service_name](batch_size=batch_size)\n",
      "  File \"/home/ubuntu/serverless-ml-serving/experiments/helpers/request_funcs.py\", line 150, in request_tfserving_resnetv2\n",
      "    response.raise_for_status()\n",
      "  File \"/home/ubuntu/miniconda/lib/python3.8/site-packages/requests/models.py\", line 943, in raise_for_status\n",
      "    raise HTTPError(http_error_msg, response=self)\n",
      "requests.exceptions.HTTPError: 504 Server Error: Gateway Timeout for url: http://tfserving-resnetv2.default.kn.nima-dev.com/v1/models/resnet:predict\n"
     ]
    },
    {
     "name": "stdout",
     "output_type": "stream",
     "text": [
      "exception occured:\n"
     ]
    },
    {
     "name": "stderr",
     "output_type": "stream",
     "text": [
      "Traceback (most recent call last):\n",
      "  File \"<ipython-input-1-2819997e6078>\", line 37, in experiment_batch\n",
      "    result = request_funcs.workload_funcs[service_name](batch_size=batch_size)\n",
      "  File \"/home/ubuntu/serverless-ml-serving/experiments/helpers/request_funcs.py\", line 150, in request_tfserving_resnetv2\n",
      "    response.raise_for_status()\n",
      "  File \"/home/ubuntu/miniconda/lib/python3.8/site-packages/requests/models.py\", line 943, in raise_for_status\n",
      "    raise HTTPError(http_error_msg, response=self)\n",
      "requests.exceptions.HTTPError: 504 Server Error: Gateway Timeout for url: http://tfserving-resnetv2.default.kn.nima-dev.com/v1/models/resnet:predict\n"
     ]
    },
    {
     "name": "stdout",
     "output_type": "stream",
     "text": [
      "exception occured:\n"
     ]
    },
    {
     "name": "stderr",
     "output_type": "stream",
     "text": [
      "Traceback (most recent call last):\n",
      "  File \"<ipython-input-1-2819997e6078>\", line 37, in experiment_batch\n",
      "    result = request_funcs.workload_funcs[service_name](batch_size=batch_size)\n",
      "  File \"/home/ubuntu/serverless-ml-serving/experiments/helpers/request_funcs.py\", line 150, in request_tfserving_resnetv2\n",
      "    response.raise_for_status()\n",
      "  File \"/home/ubuntu/miniconda/lib/python3.8/site-packages/requests/models.py\", line 943, in raise_for_status\n",
      "    raise HTTPError(http_error_msg, response=self)\n",
      "requests.exceptions.HTTPError: 504 Server Error: Gateway Timeout for url: http://tfserving-resnetv2.default.kn.nima-dev.com/v1/models/resnet:predict\n"
     ]
    },
    {
     "name": "stdout",
     "output_type": "stream",
     "text": [
      "exception occured:\n"
     ]
    },
    {
     "name": "stderr",
     "output_type": "stream",
     "text": [
      "Traceback (most recent call last):\n",
      "  File \"<ipython-input-1-2819997e6078>\", line 37, in experiment_batch\n",
      "    result = request_funcs.workload_funcs[service_name](batch_size=batch_size)\n",
      "  File \"/home/ubuntu/serverless-ml-serving/experiments/helpers/request_funcs.py\", line 150, in request_tfserving_resnetv2\n",
      "    response.raise_for_status()\n",
      "  File \"/home/ubuntu/miniconda/lib/python3.8/site-packages/requests/models.py\", line 943, in raise_for_status\n",
      "    raise HTTPError(http_error_msg, response=self)\n",
      "requests.exceptions.HTTPError: 504 Server Error: Gateway Timeout for url: http://tfserving-resnetv2.default.kn.nima-dev.com/v1/models/resnet:predict\n"
     ]
    },
    {
     "name": "stdout",
     "output_type": "stream",
     "text": [
      "exception occured:\n"
     ]
    },
    {
     "name": "stderr",
     "output_type": "stream",
     "text": [
      "Traceback (most recent call last):\n",
      "  File \"<ipython-input-1-2819997e6078>\", line 37, in experiment_batch\n",
      "    result = request_funcs.workload_funcs[service_name](batch_size=batch_size)\n",
      "  File \"/home/ubuntu/serverless-ml-serving/experiments/helpers/request_funcs.py\", line 150, in request_tfserving_resnetv2\n",
      "    response.raise_for_status()\n",
      "  File \"/home/ubuntu/miniconda/lib/python3.8/site-packages/requests/models.py\", line 943, in raise_for_status\n",
      "    raise HTTPError(http_error_msg, response=self)\n",
      "requests.exceptions.HTTPError: 504 Server Error: Gateway Timeout for url: http://tfserving-resnetv2.default.kn.nima-dev.com/v1/models/resnet:predict\n"
     ]
    },
    {
     "name": "stdout",
     "output_type": "stream",
     "text": [
      "exception occured:\n"
     ]
    },
    {
     "name": "stderr",
     "output_type": "stream",
     "text": [
      "Traceback (most recent call last):\n",
      "  File \"<ipython-input-1-2819997e6078>\", line 37, in experiment_batch\n",
      "    result = request_funcs.workload_funcs[service_name](batch_size=batch_size)\n",
      "  File \"/home/ubuntu/serverless-ml-serving/experiments/helpers/request_funcs.py\", line 150, in request_tfserving_resnetv2\n",
      "    response.raise_for_status()\n",
      "  File \"/home/ubuntu/miniconda/lib/python3.8/site-packages/requests/models.py\", line 943, in raise_for_status\n",
      "    raise HTTPError(http_error_msg, response=self)\n",
      "requests.exceptions.HTTPError: 504 Server Error: Gateway Timeout for url: http://tfserving-resnetv2.default.kn.nima-dev.com/v1/models/resnet:predict\n"
     ]
    },
    {
     "name": "stdout",
     "output_type": "stream",
     "text": [
      "exception occured:\n"
     ]
    },
    {
     "name": "stderr",
     "output_type": "stream",
     "text": [
      "Traceback (most recent call last):\n",
      "  File \"<ipython-input-1-2819997e6078>\", line 37, in experiment_batch\n",
      "    result = request_funcs.workload_funcs[service_name](batch_size=batch_size)\n",
      "  File \"/home/ubuntu/serverless-ml-serving/experiments/helpers/request_funcs.py\", line 150, in request_tfserving_resnetv2\n",
      "    response.raise_for_status()\n",
      "  File \"/home/ubuntu/miniconda/lib/python3.8/site-packages/requests/models.py\", line 943, in raise_for_status\n",
      "    raise HTTPError(http_error_msg, response=self)\n",
      "requests.exceptions.HTTPError: 504 Server Error: Gateway Timeout for url: http://tfserving-resnetv2.default.kn.nima-dev.com/v1/models/resnet:predict\n"
     ]
    },
    {
     "name": "stdout",
     "output_type": "stream",
     "text": [
      "exception occured:\n"
     ]
    },
    {
     "name": "stderr",
     "output_type": "stream",
     "text": [
      "Traceback (most recent call last):\n",
      "  File \"<ipython-input-1-2819997e6078>\", line 37, in experiment_batch\n",
      "    result = request_funcs.workload_funcs[service_name](batch_size=batch_size)\n",
      "  File \"/home/ubuntu/serverless-ml-serving/experiments/helpers/request_funcs.py\", line 150, in request_tfserving_resnetv2\n",
      "    response.raise_for_status()\n",
      "  File \"/home/ubuntu/miniconda/lib/python3.8/site-packages/requests/models.py\", line 943, in raise_for_status\n",
      "    raise HTTPError(http_error_msg, response=self)\n",
      "requests.exceptions.HTTPError: 504 Server Error: Gateway Timeout for url: http://tfserving-resnetv2.default.kn.nima-dev.com/v1/models/resnet:predict\n"
     ]
    },
    {
     "name": "stdout",
     "output_type": "stream",
     "text": [
      "exception occured:\n"
     ]
    },
    {
     "name": "stderr",
     "output_type": "stream",
     "text": [
      "Traceback (most recent call last):\n",
      "  File \"<ipython-input-1-2819997e6078>\", line 37, in experiment_batch\n",
      "    result = request_funcs.workload_funcs[service_name](batch_size=batch_size)\n",
      "  File \"/home/ubuntu/serverless-ml-serving/experiments/helpers/request_funcs.py\", line 150, in request_tfserving_resnetv2\n",
      "    response.raise_for_status()\n",
      "  File \"/home/ubuntu/miniconda/lib/python3.8/site-packages/requests/models.py\", line 943, in raise_for_status\n",
      "    raise HTTPError(http_error_msg, response=self)\n",
      "requests.exceptions.HTTPError: 504 Server Error: Gateway Timeout for url: http://tfserving-resnetv2.default.kn.nima-dev.com/v1/models/resnet:predict\n"
     ]
    },
    {
     "name": "stdout",
     "output_type": "stream",
     "text": [
      "exception occured:\n"
     ]
    },
    {
     "name": "stderr",
     "output_type": "stream",
     "text": [
      "Traceback (most recent call last):\n",
      "  File \"<ipython-input-1-2819997e6078>\", line 37, in experiment_batch\n",
      "    result = request_funcs.workload_funcs[service_name](batch_size=batch_size)\n",
      "  File \"/home/ubuntu/serverless-ml-serving/experiments/helpers/request_funcs.py\", line 150, in request_tfserving_resnetv2\n",
      "    response.raise_for_status()\n",
      "  File \"/home/ubuntu/miniconda/lib/python3.8/site-packages/requests/models.py\", line 943, in raise_for_status\n",
      "    raise HTTPError(http_error_msg, response=self)\n",
      "requests.exceptions.HTTPError: 504 Server Error: Gateway Timeout for url: http://tfserving-resnetv2.default.kn.nima-dev.com/v1/models/resnet:predict\n"
     ]
    },
    {
     "name": "stdout",
     "output_type": "stream",
     "text": [
      "exception occured:\n"
     ]
    },
    {
     "name": "stderr",
     "output_type": "stream",
     "text": [
      "Traceback (most recent call last):\n",
      "  File \"<ipython-input-1-2819997e6078>\", line 37, in experiment_batch\n",
      "    result = request_funcs.workload_funcs[service_name](batch_size=batch_size)\n",
      "  File \"/home/ubuntu/serverless-ml-serving/experiments/helpers/request_funcs.py\", line 150, in request_tfserving_resnetv2\n",
      "    response.raise_for_status()\n",
      "  File \"/home/ubuntu/miniconda/lib/python3.8/site-packages/requests/models.py\", line 943, in raise_for_status\n",
      "    raise HTTPError(http_error_msg, response=self)\n",
      "requests.exceptions.HTTPError: 504 Server Error: Gateway Timeout for url: http://tfserving-resnetv2.default.kn.nima-dev.com/v1/models/resnet:predict\n"
     ]
    },
    {
     "name": "stdout",
     "output_type": "stream",
     "text": [
      "exception occured:\n"
     ]
    },
    {
     "name": "stderr",
     "output_type": "stream",
     "text": [
      "Traceback (most recent call last):\n",
      "  File \"<ipython-input-1-2819997e6078>\", line 37, in experiment_batch\n",
      "    result = request_funcs.workload_funcs[service_name](batch_size=batch_size)\n",
      "  File \"/home/ubuntu/serverless-ml-serving/experiments/helpers/request_funcs.py\", line 150, in request_tfserving_resnetv2\n",
      "    response.raise_for_status()\n",
      "  File \"/home/ubuntu/miniconda/lib/python3.8/site-packages/requests/models.py\", line 943, in raise_for_status\n",
      "    raise HTTPError(http_error_msg, response=self)\n",
      "requests.exceptions.HTTPError: 504 Server Error: Gateway Timeout for url: http://tfserving-resnetv2.default.kn.nima-dev.com/v1/models/resnet:predict\n"
     ]
    },
    {
     "name": "stdout",
     "output_type": "stream",
     "text": [
      "exception occured:\n"
     ]
    },
    {
     "name": "stderr",
     "output_type": "stream",
     "text": [
      "Traceback (most recent call last):\n",
      "  File \"<ipython-input-1-2819997e6078>\", line 37, in experiment_batch\n",
      "    result = request_funcs.workload_funcs[service_name](batch_size=batch_size)\n",
      "  File \"/home/ubuntu/serverless-ml-serving/experiments/helpers/request_funcs.py\", line 150, in request_tfserving_resnetv2\n",
      "    response.raise_for_status()\n",
      "  File \"/home/ubuntu/miniconda/lib/python3.8/site-packages/requests/models.py\", line 943, in raise_for_status\n",
      "    raise HTTPError(http_error_msg, response=self)\n",
      "requests.exceptions.HTTPError: 504 Server Error: Gateway Timeout for url: http://tfserving-resnetv2.default.kn.nima-dev.com/v1/models/resnet:predict\n"
     ]
    },
    {
     "name": "stdout",
     "output_type": "stream",
     "text": [
      "exception occured:\n"
     ]
    },
    {
     "name": "stderr",
     "output_type": "stream",
     "text": [
      "Traceback (most recent call last):\n",
      "  File \"<ipython-input-1-2819997e6078>\", line 37, in experiment_batch\n",
      "    result = request_funcs.workload_funcs[service_name](batch_size=batch_size)\n",
      "  File \"/home/ubuntu/serverless-ml-serving/experiments/helpers/request_funcs.py\", line 150, in request_tfserving_resnetv2\n",
      "    response.raise_for_status()\n",
      "  File \"/home/ubuntu/miniconda/lib/python3.8/site-packages/requests/models.py\", line 943, in raise_for_status\n",
      "    raise HTTPError(http_error_msg, response=self)\n",
      "requests.exceptions.HTTPError: 504 Server Error: Gateway Timeout for url: http://tfserving-resnetv2.default.kn.nima-dev.com/v1/models/resnet:predict\n"
     ]
    },
    {
     "name": "stdout",
     "output_type": "stream",
     "text": [
      "exception occured:\n"
     ]
    },
    {
     "name": "stderr",
     "output_type": "stream",
     "text": [
      "Traceback (most recent call last):\n",
      "  File \"<ipython-input-1-2819997e6078>\", line 37, in experiment_batch\n",
      "    result = request_funcs.workload_funcs[service_name](batch_size=batch_size)\n",
      "  File \"/home/ubuntu/serverless-ml-serving/experiments/helpers/request_funcs.py\", line 150, in request_tfserving_resnetv2\n",
      "    response.raise_for_status()\n",
      "  File \"/home/ubuntu/miniconda/lib/python3.8/site-packages/requests/models.py\", line 943, in raise_for_status\n",
      "    raise HTTPError(http_error_msg, response=self)\n",
      "requests.exceptions.HTTPError: 504 Server Error: Gateway Timeout for url: http://tfserving-resnetv2.default.kn.nima-dev.com/v1/models/resnet:predict\n"
     ]
    },
    {
     "name": "stdout",
     "output_type": "stream",
     "text": [
      "exception occured:\n"
     ]
    },
    {
     "name": "stderr",
     "output_type": "stream",
     "text": [
      "Traceback (most recent call last):\n",
      "  File \"<ipython-input-1-2819997e6078>\", line 37, in experiment_batch\n",
      "    result = request_funcs.workload_funcs[service_name](batch_size=batch_size)\n",
      "  File \"/home/ubuntu/serverless-ml-serving/experiments/helpers/request_funcs.py\", line 150, in request_tfserving_resnetv2\n",
      "    response.raise_for_status()\n",
      "  File \"/home/ubuntu/miniconda/lib/python3.8/site-packages/requests/models.py\", line 943, in raise_for_status\n",
      "    raise HTTPError(http_error_msg, response=self)\n",
      "requests.exceptions.HTTPError: 504 Server Error: Gateway Timeout for url: http://tfserving-resnetv2.default.kn.nima-dev.com/v1/models/resnet:predict\n"
     ]
    },
    {
     "name": "stdout",
     "output_type": "stream",
     "text": [
      "exception occured:\n"
     ]
    },
    {
     "name": "stderr",
     "output_type": "stream",
     "text": [
      "Traceback (most recent call last):\n",
      "  File \"<ipython-input-1-2819997e6078>\", line 37, in experiment_batch\n",
      "    result = request_funcs.workload_funcs[service_name](batch_size=batch_size)\n",
      "  File \"/home/ubuntu/serverless-ml-serving/experiments/helpers/request_funcs.py\", line 150, in request_tfserving_resnetv2\n",
      "    response.raise_for_status()\n",
      "  File \"/home/ubuntu/miniconda/lib/python3.8/site-packages/requests/models.py\", line 943, in raise_for_status\n",
      "    raise HTTPError(http_error_msg, response=self)\n",
      "requests.exceptions.HTTPError: 504 Server Error: Gateway Timeout for url: http://tfserving-resnetv2.default.kn.nima-dev.com/v1/models/resnet:predict\n"
     ]
    },
    {
     "name": "stdout",
     "output_type": "stream",
     "text": [
      "exception occured:\n"
     ]
    },
    {
     "name": "stderr",
     "output_type": "stream",
     "text": [
      "Traceback (most recent call last):\n",
      "  File \"<ipython-input-1-2819997e6078>\", line 37, in experiment_batch\n",
      "    result = request_funcs.workload_funcs[service_name](batch_size=batch_size)\n",
      "  File \"/home/ubuntu/serverless-ml-serving/experiments/helpers/request_funcs.py\", line 150, in request_tfserving_resnetv2\n",
      "    response.raise_for_status()\n",
      "  File \"/home/ubuntu/miniconda/lib/python3.8/site-packages/requests/models.py\", line 943, in raise_for_status\n",
      "    raise HTTPError(http_error_msg, response=self)\n",
      "requests.exceptions.HTTPError: 504 Server Error: Gateway Timeout for url: http://tfserving-resnetv2.default.kn.nima-dev.com/v1/models/resnet:predict\n"
     ]
    },
    {
     "name": "stdout",
     "output_type": "stream",
     "text": [
      "exception occured:\n"
     ]
    },
    {
     "name": "stderr",
     "output_type": "stream",
     "text": [
      "Traceback (most recent call last):\n",
      "  File \"<ipython-input-1-2819997e6078>\", line 37, in experiment_batch\n",
      "    result = request_funcs.workload_funcs[service_name](batch_size=batch_size)\n",
      "  File \"/home/ubuntu/serverless-ml-serving/experiments/helpers/request_funcs.py\", line 150, in request_tfserving_resnetv2\n",
      "    response.raise_for_status()\n",
      "  File \"/home/ubuntu/miniconda/lib/python3.8/site-packages/requests/models.py\", line 943, in raise_for_status\n",
      "    raise HTTPError(http_error_msg, response=self)\n",
      "requests.exceptions.HTTPError: 504 Server Error: Gateway Timeout for url: http://tfserving-resnetv2.default.kn.nima-dev.com/v1/models/resnet:predict\n"
     ]
    },
    {
     "name": "stdout",
     "output_type": "stream",
     "text": [
      "exception occured:\n"
     ]
    },
    {
     "name": "stderr",
     "output_type": "stream",
     "text": [
      "Traceback (most recent call last):\n",
      "  File \"<ipython-input-1-2819997e6078>\", line 37, in experiment_batch\n",
      "    result = request_funcs.workload_funcs[service_name](batch_size=batch_size)\n",
      "  File \"/home/ubuntu/serverless-ml-serving/experiments/helpers/request_funcs.py\", line 150, in request_tfserving_resnetv2\n",
      "    response.raise_for_status()\n",
      "  File \"/home/ubuntu/miniconda/lib/python3.8/site-packages/requests/models.py\", line 943, in raise_for_status\n",
      "    raise HTTPError(http_error_msg, response=self)\n",
      "requests.exceptions.HTTPError: 504 Server Error: Gateway Timeout for url: http://tfserving-resnetv2.default.kn.nima-dev.com/v1/models/resnet:predict\n"
     ]
    },
    {
     "name": "stdout",
     "output_type": "stream",
     "text": [
      "exception occured:\n"
     ]
    },
    {
     "name": "stderr",
     "output_type": "stream",
     "text": [
      "Traceback (most recent call last):\n",
      "  File \"<ipython-input-1-2819997e6078>\", line 37, in experiment_batch\n",
      "    result = request_funcs.workload_funcs[service_name](batch_size=batch_size)\n",
      "  File \"/home/ubuntu/serverless-ml-serving/experiments/helpers/request_funcs.py\", line 150, in request_tfserving_resnetv2\n",
      "    response.raise_for_status()\n",
      "  File \"/home/ubuntu/miniconda/lib/python3.8/site-packages/requests/models.py\", line 943, in raise_for_status\n",
      "    raise HTTPError(http_error_msg, response=self)\n",
      "requests.exceptions.HTTPError: 504 Server Error: Gateway Timeout for url: http://tfserving-resnetv2.default.kn.nima-dev.com/v1/models/resnet:predict\n"
     ]
    },
    {
     "name": "stdout",
     "output_type": "stream",
     "text": [
      "exception occured:\n"
     ]
    },
    {
     "name": "stderr",
     "output_type": "stream",
     "text": [
      "Traceback (most recent call last):\n",
      "  File \"<ipython-input-1-2819997e6078>\", line 37, in experiment_batch\n",
      "    result = request_funcs.workload_funcs[service_name](batch_size=batch_size)\n",
      "  File \"/home/ubuntu/serverless-ml-serving/experiments/helpers/request_funcs.py\", line 150, in request_tfserving_resnetv2\n",
      "    response.raise_for_status()\n",
      "  File \"/home/ubuntu/miniconda/lib/python3.8/site-packages/requests/models.py\", line 943, in raise_for_status\n",
      "    raise HTTPError(http_error_msg, response=self)\n",
      "requests.exceptions.HTTPError: 504 Server Error: Gateway Timeout for url: http://tfserving-resnetv2.default.kn.nima-dev.com/v1/models/resnet:predict\n"
     ]
    },
    {
     "name": "stdout",
     "output_type": "stream",
     "text": [
      "exception occured:\n"
     ]
    },
    {
     "name": "stderr",
     "output_type": "stream",
     "text": [
      "Traceback (most recent call last):\n",
      "  File \"<ipython-input-1-2819997e6078>\", line 37, in experiment_batch\n",
      "    result = request_funcs.workload_funcs[service_name](batch_size=batch_size)\n",
      "  File \"/home/ubuntu/serverless-ml-serving/experiments/helpers/request_funcs.py\", line 150, in request_tfserving_resnetv2\n",
      "    response.raise_for_status()\n",
      "  File \"/home/ubuntu/miniconda/lib/python3.8/site-packages/requests/models.py\", line 943, in raise_for_status\n",
      "    raise HTTPError(http_error_msg, response=self)\n",
      "requests.exceptions.HTTPError: 504 Server Error: Gateway Timeout for url: http://tfserving-resnetv2.default.kn.nima-dev.com/v1/models/resnet:predict\n"
     ]
    },
    {
     "name": "stdout",
     "output_type": "stream",
     "text": [
      "exception occured:\n"
     ]
    },
    {
     "name": "stderr",
     "output_type": "stream",
     "text": [
      "Traceback (most recent call last):\n",
      "  File \"<ipython-input-1-2819997e6078>\", line 37, in experiment_batch\n",
      "    result = request_funcs.workload_funcs[service_name](batch_size=batch_size)\n",
      "  File \"/home/ubuntu/serverless-ml-serving/experiments/helpers/request_funcs.py\", line 150, in request_tfserving_resnetv2\n",
      "    response.raise_for_status()\n",
      "  File \"/home/ubuntu/miniconda/lib/python3.8/site-packages/requests/models.py\", line 943, in raise_for_status\n",
      "    raise HTTPError(http_error_msg, response=self)\n",
      "requests.exceptions.HTTPError: 504 Server Error: Gateway Timeout for url: http://tfserving-resnetv2.default.kn.nima-dev.com/v1/models/resnet:predict\n"
     ]
    },
    {
     "name": "stdout",
     "output_type": "stream",
     "text": [
      "exception occured:\n"
     ]
    },
    {
     "name": "stderr",
     "output_type": "stream",
     "text": [
      "Traceback (most recent call last):\n",
      "  File \"<ipython-input-1-2819997e6078>\", line 37, in experiment_batch\n",
      "    result = request_funcs.workload_funcs[service_name](batch_size=batch_size)\n",
      "  File \"/home/ubuntu/serverless-ml-serving/experiments/helpers/request_funcs.py\", line 150, in request_tfserving_resnetv2\n",
      "    response.raise_for_status()\n",
      "  File \"/home/ubuntu/miniconda/lib/python3.8/site-packages/requests/models.py\", line 943, in raise_for_status\n",
      "    raise HTTPError(http_error_msg, response=self)\n",
      "requests.exceptions.HTTPError: 504 Server Error: Gateway Timeout for url: http://tfserving-resnetv2.default.kn.nima-dev.com/v1/models/resnet:predict\n"
     ]
    },
    {
     "name": "stdout",
     "output_type": "stream",
     "text": [
      "exception occured:\n"
     ]
    },
    {
     "name": "stderr",
     "output_type": "stream",
     "text": [
      "Traceback (most recent call last):\n",
      "  File \"<ipython-input-1-2819997e6078>\", line 37, in experiment_batch\n",
      "    result = request_funcs.workload_funcs[service_name](batch_size=batch_size)\n",
      "  File \"/home/ubuntu/serverless-ml-serving/experiments/helpers/request_funcs.py\", line 150, in request_tfserving_resnetv2\n",
      "    response.raise_for_status()\n",
      "  File \"/home/ubuntu/miniconda/lib/python3.8/site-packages/requests/models.py\", line 943, in raise_for_status\n",
      "    raise HTTPError(http_error_msg, response=self)\n",
      "requests.exceptions.HTTPError: 504 Server Error: Gateway Timeout for url: http://tfserving-resnetv2.default.kn.nima-dev.com/v1/models/resnet:predict\n"
     ]
    },
    {
     "name": "stdout",
     "output_type": "stream",
     "text": [
      "exception occured:\n"
     ]
    },
    {
     "name": "stderr",
     "output_type": "stream",
     "text": [
      "Traceback (most recent call last):\n",
      "  File \"<ipython-input-1-2819997e6078>\", line 37, in experiment_batch\n",
      "    result = request_funcs.workload_funcs[service_name](batch_size=batch_size)\n",
      "  File \"/home/ubuntu/serverless-ml-serving/experiments/helpers/request_funcs.py\", line 150, in request_tfserving_resnetv2\n",
      "    response.raise_for_status()\n",
      "  File \"/home/ubuntu/miniconda/lib/python3.8/site-packages/requests/models.py\", line 943, in raise_for_status\n",
      "    raise HTTPError(http_error_msg, response=self)\n",
      "requests.exceptions.HTTPError: 504 Server Error: Gateway Timeout for url: http://tfserving-resnetv2.default.kn.nima-dev.com/v1/models/resnet:predict\n"
     ]
    },
    {
     "name": "stdout",
     "output_type": "stream",
     "text": [
      "exception occured:\n"
     ]
    },
    {
     "name": "stderr",
     "output_type": "stream",
     "text": [
      "Traceback (most recent call last):\n",
      "  File \"<ipython-input-1-2819997e6078>\", line 37, in experiment_batch\n",
      "    result = request_funcs.workload_funcs[service_name](batch_size=batch_size)\n",
      "  File \"/home/ubuntu/serverless-ml-serving/experiments/helpers/request_funcs.py\", line 150, in request_tfserving_resnetv2\n",
      "    response.raise_for_status()\n",
      "  File \"/home/ubuntu/miniconda/lib/python3.8/site-packages/requests/models.py\", line 943, in raise_for_status\n",
      "    raise HTTPError(http_error_msg, response=self)\n",
      "requests.exceptions.HTTPError: 504 Server Error: Gateway Timeout for url: http://tfserving-resnetv2.default.kn.nima-dev.com/v1/models/resnet:predict\n"
     ]
    },
    {
     "name": "stdout",
     "output_type": "stream",
     "text": [
      "exception occured:\n"
     ]
    },
    {
     "name": "stderr",
     "output_type": "stream",
     "text": [
      "Traceback (most recent call last):\n",
      "  File \"<ipython-input-1-2819997e6078>\", line 37, in experiment_batch\n",
      "    result = request_funcs.workload_funcs[service_name](batch_size=batch_size)\n",
      "  File \"/home/ubuntu/serverless-ml-serving/experiments/helpers/request_funcs.py\", line 150, in request_tfserving_resnetv2\n",
      "    response.raise_for_status()\n",
      "  File \"/home/ubuntu/miniconda/lib/python3.8/site-packages/requests/models.py\", line 943, in raise_for_status\n",
      "    raise HTTPError(http_error_msg, response=self)\n",
      "requests.exceptions.HTTPError: 504 Server Error: Gateway Timeout for url: http://tfserving-resnetv2.default.kn.nima-dev.com/v1/models/resnet:predict\n"
     ]
    },
    {
     "name": "stdout",
     "output_type": "stream",
     "text": [
      "exception occured:\n"
     ]
    },
    {
     "name": "stderr",
     "output_type": "stream",
     "text": [
      "Traceback (most recent call last):\n",
      "  File \"<ipython-input-1-2819997e6078>\", line 37, in experiment_batch\n",
      "    result = request_funcs.workload_funcs[service_name](batch_size=batch_size)\n",
      "  File \"/home/ubuntu/serverless-ml-serving/experiments/helpers/request_funcs.py\", line 150, in request_tfserving_resnetv2\n",
      "    response.raise_for_status()\n",
      "  File \"/home/ubuntu/miniconda/lib/python3.8/site-packages/requests/models.py\", line 943, in raise_for_status\n",
      "    raise HTTPError(http_error_msg, response=self)\n",
      "requests.exceptions.HTTPError: 504 Server Error: Gateway Timeout for url: http://tfserving-resnetv2.default.kn.nima-dev.com/v1/models/resnet:predict\n"
     ]
    },
    {
     "name": "stdout",
     "output_type": "stream",
     "text": [
      "exception occured:\n"
     ]
    },
    {
     "name": "stderr",
     "output_type": "stream",
     "text": [
      "Traceback (most recent call last):\n",
      "  File \"<ipython-input-1-2819997e6078>\", line 37, in experiment_batch\n",
      "    result = request_funcs.workload_funcs[service_name](batch_size=batch_size)\n",
      "  File \"/home/ubuntu/serverless-ml-serving/experiments/helpers/request_funcs.py\", line 150, in request_tfserving_resnetv2\n",
      "    response.raise_for_status()\n",
      "  File \"/home/ubuntu/miniconda/lib/python3.8/site-packages/requests/models.py\", line 943, in raise_for_status\n",
      "    raise HTTPError(http_error_msg, response=self)\n",
      "requests.exceptions.HTTPError: 504 Server Error: Gateway Timeout for url: http://tfserving-resnetv2.default.kn.nima-dev.com/v1/models/resnet:predict\n"
     ]
    },
    {
     "name": "stdout",
     "output_type": "stream",
     "text": [
      "exception occured:\n"
     ]
    },
    {
     "name": "stderr",
     "output_type": "stream",
     "text": [
      "Traceback (most recent call last):\n",
      "  File \"<ipython-input-1-2819997e6078>\", line 37, in experiment_batch\n",
      "    result = request_funcs.workload_funcs[service_name](batch_size=batch_size)\n",
      "  File \"/home/ubuntu/serverless-ml-serving/experiments/helpers/request_funcs.py\", line 150, in request_tfserving_resnetv2\n",
      "    response.raise_for_status()\n",
      "  File \"/home/ubuntu/miniconda/lib/python3.8/site-packages/requests/models.py\", line 943, in raise_for_status\n",
      "    raise HTTPError(http_error_msg, response=self)\n",
      "requests.exceptions.HTTPError: 504 Server Error: Gateway Timeout for url: http://tfserving-resnetv2.default.kn.nima-dev.com/v1/models/resnet:predict\n"
     ]
    },
    {
     "name": "stdout",
     "output_type": "stream",
     "text": [
      "exception occured:\n"
     ]
    },
    {
     "name": "stderr",
     "output_type": "stream",
     "text": [
      "Traceback (most recent call last):\n",
      "  File \"<ipython-input-1-2819997e6078>\", line 37, in experiment_batch\n",
      "    result = request_funcs.workload_funcs[service_name](batch_size=batch_size)\n",
      "  File \"/home/ubuntu/serverless-ml-serving/experiments/helpers/request_funcs.py\", line 150, in request_tfserving_resnetv2\n",
      "    response.raise_for_status()\n",
      "  File \"/home/ubuntu/miniconda/lib/python3.8/site-packages/requests/models.py\", line 943, in raise_for_status\n",
      "    raise HTTPError(http_error_msg, response=self)\n",
      "requests.exceptions.HTTPError: 504 Server Error: Gateway Timeout for url: http://tfserving-resnetv2.default.kn.nima-dev.com/v1/models/resnet:predict\n"
     ]
    },
    {
     "name": "stdout",
     "output_type": "stream",
     "text": [
      "exception occured:\n"
     ]
    },
    {
     "name": "stderr",
     "output_type": "stream",
     "text": [
      "Traceback (most recent call last):\n",
      "  File \"<ipython-input-1-2819997e6078>\", line 37, in experiment_batch\n",
      "    result = request_funcs.workload_funcs[service_name](batch_size=batch_size)\n",
      "  File \"/home/ubuntu/serverless-ml-serving/experiments/helpers/request_funcs.py\", line 150, in request_tfserving_resnetv2\n",
      "    response.raise_for_status()\n",
      "  File \"/home/ubuntu/miniconda/lib/python3.8/site-packages/requests/models.py\", line 943, in raise_for_status\n",
      "    raise HTTPError(http_error_msg, response=self)\n",
      "requests.exceptions.HTTPError: 504 Server Error: Gateway Timeout for url: http://tfserving-resnetv2.default.kn.nima-dev.com/v1/models/resnet:predict\n"
     ]
    },
    {
     "name": "stdout",
     "output_type": "stream",
     "text": [
      "exception occured:\n"
     ]
    },
    {
     "name": "stderr",
     "output_type": "stream",
     "text": [
      "Traceback (most recent call last):\n",
      "  File \"<ipython-input-1-2819997e6078>\", line 37, in experiment_batch\n",
      "    result = request_funcs.workload_funcs[service_name](batch_size=batch_size)\n",
      "  File \"/home/ubuntu/serverless-ml-serving/experiments/helpers/request_funcs.py\", line 150, in request_tfserving_resnetv2\n",
      "    response.raise_for_status()\n",
      "  File \"/home/ubuntu/miniconda/lib/python3.8/site-packages/requests/models.py\", line 943, in raise_for_status\n",
      "    raise HTTPError(http_error_msg, response=self)\n",
      "requests.exceptions.HTTPError: 504 Server Error: Gateway Timeout for url: http://tfserving-resnetv2.default.kn.nima-dev.com/v1/models/resnet:predict\n"
     ]
    },
    {
     "name": "stdout",
     "output_type": "stream",
     "text": [
      "exception occured:\n"
     ]
    },
    {
     "name": "stderr",
     "output_type": "stream",
     "text": [
      "Traceback (most recent call last):\n",
      "  File \"<ipython-input-1-2819997e6078>\", line 37, in experiment_batch\n",
      "    result = request_funcs.workload_funcs[service_name](batch_size=batch_size)\n",
      "  File \"/home/ubuntu/serverless-ml-serving/experiments/helpers/request_funcs.py\", line 150, in request_tfserving_resnetv2\n",
      "    response.raise_for_status()\n",
      "  File \"/home/ubuntu/miniconda/lib/python3.8/site-packages/requests/models.py\", line 943, in raise_for_status\n",
      "    raise HTTPError(http_error_msg, response=self)\n",
      "requests.exceptions.HTTPError: 504 Server Error: Gateway Timeout for url: http://tfserving-resnetv2.default.kn.nima-dev.com/v1/models/resnet:predict\n"
     ]
    },
    {
     "name": "stdout",
     "output_type": "stream",
     "text": [
      "exception occured:\n"
     ]
    },
    {
     "name": "stderr",
     "output_type": "stream",
     "text": [
      "Traceback (most recent call last):\n",
      "  File \"<ipython-input-1-2819997e6078>\", line 37, in experiment_batch\n",
      "    result = request_funcs.workload_funcs[service_name](batch_size=batch_size)\n",
      "  File \"/home/ubuntu/serverless-ml-serving/experiments/helpers/request_funcs.py\", line 150, in request_tfserving_resnetv2\n",
      "    response.raise_for_status()\n",
      "  File \"/home/ubuntu/miniconda/lib/python3.8/site-packages/requests/models.py\", line 943, in raise_for_status\n",
      "    raise HTTPError(http_error_msg, response=self)\n",
      "requests.exceptions.HTTPError: 504 Server Error: Gateway Timeout for url: http://tfserving-resnetv2.default.kn.nima-dev.com/v1/models/resnet:predict\n"
     ]
    },
    {
     "name": "stdout",
     "output_type": "stream",
     "text": [
      "exception occured:\n"
     ]
    },
    {
     "name": "stderr",
     "output_type": "stream",
     "text": [
      "Traceback (most recent call last):\n",
      "  File \"<ipython-input-1-2819997e6078>\", line 37, in experiment_batch\n",
      "    result = request_funcs.workload_funcs[service_name](batch_size=batch_size)\n",
      "  File \"/home/ubuntu/serverless-ml-serving/experiments/helpers/request_funcs.py\", line 150, in request_tfserving_resnetv2\n",
      "    response.raise_for_status()\n",
      "  File \"/home/ubuntu/miniconda/lib/python3.8/site-packages/requests/models.py\", line 943, in raise_for_status\n",
      "    raise HTTPError(http_error_msg, response=self)\n",
      "requests.exceptions.HTTPError: 504 Server Error: Gateway Timeout for url: http://tfserving-resnetv2.default.kn.nima-dev.com/v1/models/resnet:predict\n"
     ]
    },
    {
     "name": "stdout",
     "output_type": "stream",
     "text": [
      "exception occured:\n"
     ]
    },
    {
     "name": "stderr",
     "output_type": "stream",
     "text": [
      "Traceback (most recent call last):\n",
      "  File \"<ipython-input-1-2819997e6078>\", line 37, in experiment_batch\n",
      "    result = request_funcs.workload_funcs[service_name](batch_size=batch_size)\n",
      "  File \"/home/ubuntu/serverless-ml-serving/experiments/helpers/request_funcs.py\", line 150, in request_tfserving_resnetv2\n",
      "    response.raise_for_status()\n",
      "  File \"/home/ubuntu/miniconda/lib/python3.8/site-packages/requests/models.py\", line 943, in raise_for_status\n",
      "    raise HTTPError(http_error_msg, response=self)\n",
      "requests.exceptions.HTTPError: 504 Server Error: Gateway Timeout for url: http://tfserving-resnetv2.default.kn.nima-dev.com/v1/models/resnet:predict\n"
     ]
    },
    {
     "name": "stdout",
     "output_type": "stream",
     "text": [
      "exception occured:\n",
      "{'batch_size': 10, 'cpu_m': 500}\n",
      "Request Limit Overrid: 'cpu=500m,memory=750Mi'\n",
      "kn service apply tfserving-resnetv2 --image ghcr.io/nimamahmoudi/tfserving-resnet:20210429213000 \\\n",
      "  --limit 'cpu=500m,memory=750Mi' \\\n",
      "  --request 'cpu=500m,memory=750Mi' \\\n",
      "  --port 5000 \\\n",
      "  -a autoscaling.knative.dev/target=1 \\\n",
      "  -a autoscaling.knative.dev/metric=concurrency\n"
     ]
    },
    {
     "name": "stderr",
     "output_type": "stream",
     "text": [
      "Traceback (most recent call last):\n",
      "  File \"<ipython-input-1-2819997e6078>\", line 37, in experiment_batch\n",
      "    result = request_funcs.workload_funcs[service_name](batch_size=batch_size)\n",
      "  File \"/home/ubuntu/serverless-ml-serving/experiments/helpers/request_funcs.py\", line 150, in request_tfserving_resnetv2\n",
      "    response.raise_for_status()\n",
      "  File \"/home/ubuntu/miniconda/lib/python3.8/site-packages/requests/models.py\", line 943, in raise_for_status\n",
      "    raise HTTPError(http_error_msg, response=self)\n",
      "requests.exceptions.HTTPError: 504 Server Error: Gateway Timeout for url: http://tfserving-resnetv2.default.kn.nima-dev.com/v1/models/resnet:predict\n"
     ]
    },
    {
     "name": "stdout",
     "output_type": "stream",
     "text": [
      "Applying service 'tfserving-resnetv2' in namespace 'default':\r\n",
      "\r\n",
      "  0.076s The Configuration is still working to reflect the latest desired specification.\r\n",
      "  9.393s Traffic is not yet migrated to the latest revision.\r\n",
      "  9.440s Ingress has not yet been reconciled.\r\n",
      "  9.549s Waiting for load balancer to be ready\r\n",
      "  9.870s Ready to serve.\r\n",
      "\r\n",
      "Service 'tfserving-resnetv2' applied to latest revision 'tfserving-resnetv2-00071' is available at URL:\r\n",
      "http://tfserving-resnetv2.default.kn.nima-dev.com\r\n",
      "waiting for settings to converge\n",
      "warming up...\n",
      "running tfserving-resnetv2 workload function, batch_size: 10\n"
     ]
    },
    {
     "data": {
      "application/vnd.jupyter.widget-view+json": {
       "model_id": "75ec54ae63ee442ca47a82ac852b38ab",
       "version_major": 2,
       "version_minor": 0
      },
      "text/plain": [
       "  0%|          | 0/1000 [00:00<?, ?it/s]"
      ]
     },
     "metadata": {},
     "output_type": "display_data"
    },
    {
     "name": "stdout",
     "output_type": "stream",
     "text": [
      "{'batch_size': 10, 'cpu_m': 1000}\n",
      "Request Limit Overrid: 'cpu=1000m,memory=1500Mi'\n",
      "kn service apply tfserving-resnetv2 --image ghcr.io/nimamahmoudi/tfserving-resnet:20210429213000 \\\n",
      "  --limit 'cpu=1000m,memory=1500Mi' \\\n",
      "  --request 'cpu=1000m,memory=1500Mi' \\\n",
      "  --port 5000 \\\n",
      "  -a autoscaling.knative.dev/target=1 \\\n",
      "  -a autoscaling.knative.dev/metric=concurrency\n",
      "Applying service 'tfserving-resnetv2' in namespace 'default':\r\n",
      "\r\n",
      "  0.062s The Configuration is still working to reflect the latest desired specification.\r\n",
      " 12.805s Traffic is not yet migrated to the latest revision.\r\n",
      " 12.947s Ingress has not yet been reconciled.\r\n",
      " 13.182s Waiting for load balancer to be ready\r\n",
      " 13.504s Ready to serve.\r\n",
      "\r\n",
      "Service 'tfserving-resnetv2' applied to latest revision 'tfserving-resnetv2-00072' is available at URL:\r\n",
      "http://tfserving-resnetv2.default.kn.nima-dev.com\r\n",
      "waiting for settings to converge\n",
      "warming up...\n",
      "running tfserving-resnetv2 workload function, batch_size: 10\n"
     ]
    },
    {
     "data": {
      "application/vnd.jupyter.widget-view+json": {
       "model_id": "304a53363d9a44568d5b9451d6d9794a",
       "version_major": 2,
       "version_minor": 0
      },
      "text/plain": [
       "  0%|          | 0/1000 [00:00<?, ?it/s]"
      ]
     },
     "metadata": {},
     "output_type": "display_data"
    },
    {
     "name": "stdout",
     "output_type": "stream",
     "text": [
      "{'batch_size': 10, 'cpu_m': 1500}\n",
      "Request Limit Overrid: 'cpu=1500m,memory=2250Mi'\n",
      "kn service apply tfserving-resnetv2 --image ghcr.io/nimamahmoudi/tfserving-resnet:20210429213000 \\\n",
      "  --limit 'cpu=1500m,memory=2250Mi' \\\n",
      "  --request 'cpu=1500m,memory=2250Mi' \\\n",
      "  --port 5000 \\\n",
      "  -a autoscaling.knative.dev/target=1 \\\n",
      "  -a autoscaling.knative.dev/metric=concurrency\n",
      "Applying service 'tfserving-resnetv2' in namespace 'default':\r\n",
      "\r\n",
      "  0.054s The Configuration is still working to reflect the latest desired specification.\r\n",
      "  8.439s Traffic is not yet migrated to the latest revision.\r\n",
      "  8.522s Ingress has not yet been reconciled.\r\n",
      "  8.619s Waiting for load balancer to be ready\r\n",
      "  8.762s Ready to serve.\r\n",
      "\r\n",
      "Service 'tfserving-resnetv2' applied to latest revision 'tfserving-resnetv2-00073' is available at URL:\r\n",
      "http://tfserving-resnetv2.default.kn.nima-dev.com\r\n",
      "waiting for settings to converge\n",
      "warming up...\n",
      "running tfserving-resnetv2 workload function, batch_size: 10\n"
     ]
    },
    {
     "data": {
      "application/vnd.jupyter.widget-view+json": {
       "model_id": "272a9c5dfb4c4fc3b176955460b64686",
       "version_major": 2,
       "version_minor": 0
      },
      "text/plain": [
       "  0%|          | 0/1000 [00:00<?, ?it/s]"
      ]
     },
     "metadata": {},
     "output_type": "display_data"
    },
    {
     "name": "stdout",
     "output_type": "stream",
     "text": [
      "{'batch_size': 10, 'cpu_m': 2000}\n",
      "Request Limit Overrid: 'cpu=2000m,memory=3000Mi'\n",
      "kn service apply tfserving-resnetv2 --image ghcr.io/nimamahmoudi/tfserving-resnet:20210429213000 \\\n",
      "  --limit 'cpu=2000m,memory=3000Mi' \\\n",
      "  --request 'cpu=2000m,memory=3000Mi' \\\n",
      "  --port 5000 \\\n",
      "  -a autoscaling.knative.dev/target=1 \\\n",
      "  -a autoscaling.knative.dev/metric=concurrency\n",
      "Applying service 'tfserving-resnetv2' in namespace 'default':\r\n",
      "\r\n",
      "  0.080s The Configuration is still working to reflect the latest desired specification.\r\n",
      "  3.310s Traffic is not yet migrated to the latest revision.\r\n",
      "  3.352s Ingress has not yet been reconciled.\r\n",
      "  3.498s Waiting for load balancer to be ready\r\n",
      "  3.849s Ready to serve.\r\n",
      "\r\n",
      "Service 'tfserving-resnetv2' applied to latest revision 'tfserving-resnetv2-00074' is available at URL:\r\n",
      "http://tfserving-resnetv2.default.kn.nima-dev.com\r\n",
      "waiting for settings to converge\n",
      "warming up...\n",
      "running tfserving-resnetv2 workload function, batch_size: 10\n"
     ]
    },
    {
     "data": {
      "application/vnd.jupyter.widget-view+json": {
       "model_id": "f98e60c0d3c041d0bcaf64d8f1804867",
       "version_major": 2,
       "version_minor": 0
      },
      "text/plain": [
       "  0%|          | 0/1000 [00:00<?, ?it/s]"
      ]
     },
     "metadata": {},
     "output_type": "display_data"
    },
    {
     "name": "stdout",
     "output_type": "stream",
     "text": [
      "res_name: tfserving-resnetv2_2021-05-11_09-38-49\n"
     ]
    }
   ],
   "source": [
    "all_configs = [\n",
    "    {\n",
    "        'warmup_req_count': 200,\n",
    "        'total_req_count': 1000,\n",
    "        'service_name': 'bentoml-iris',\n",
    "        # cpu_m should always be the first to avoid changing deployment too much\n",
    "        'cpu_m': [250,500,1000,1500,2000],\n",
    "        'batch_size': [1,5,10,20,50,100],\n",
    "    },\n",
    "    {\n",
    "        'warmup_req_count': 20,\n",
    "        'total_req_count': 1000,\n",
    "        'service_name': 'tfserving-resnetv2',\n",
    "        # cpu_m should always be the first to avoid changing deployment too much\n",
    "        'cpu_m': [500,1000,1500,2000],\n",
    "        'batch_size': [1,2,3,5,10],\n",
    "    },\n",
    "    {\n",
    "        'warmup_req_count': 20,\n",
    "        'total_req_count': 1000,\n",
    "        'service_name': 'tfserving-mobilenetv1',\n",
    "        # cpu_m should always be the first to avoid changing deployment too much\n",
    "        'cpu_m': [250,500,1000,1500,2000],\n",
    "        'batch_size': [1,2,3,5],\n",
    "    },\n",
    "    {\n",
    "        'warmup_req_count': 20,\n",
    "        'total_req_count': 1000,\n",
    "        'service_name': 'bentoml-onnx-resnet50',\n",
    "        # cpu_m should always be the first to avoid changing deployment too much\n",
    "        'cpu_m': [250,500,1000,1500,2000],\n",
    "        'batch_size': [1,2,3,5,10],\n",
    "    },\n",
    "]\n",
    "\n",
    "# results_folder = './results/batch_experiments_default'\n",
    "results_folder = './results/batch_experiments_var_cpu'\n",
    "\n",
    "!mkdir -p {results_folder}\n",
    "for config in all_configs:\n",
    "    service_name = config['service_name']\n",
    "\n",
    "    results = perform_experiment_batch(config)\n",
    "    df = pd.DataFrame(data=results)\n",
    "\n",
    "    now = util.get_time_with_tz()\n",
    "    res_name = now.strftime(f'{service_name}_%Y-%m-%d_%H-%M-%S')\n",
    "    print('res_name:', res_name)\n",
    "    df.to_csv(f'{results_folder}/{res_name}.csv')"
   ]
  }
 ],
 "metadata": {
  "kernelspec": {
   "name": "python385jvsc74a57bd04f7b070ef049bbd8502237a868479304b4da16a010bb509c19371ab8ff01cc23",
   "display_name": "Python 3.8.5 64-bit ('base': conda)"
  },
  "language_info": {
   "codemirror_mode": {
    "name": "ipython",
    "version": 3
   },
   "file_extension": ".py",
   "mimetype": "text/x-python",
   "name": "python",
   "nbconvert_exporter": "python",
   "pygments_lexer": "ipython3",
   "version": "3.8.5"
  },
  "widgets": {
   "application/vnd.jupyter.widget-state+json": {
    "state": {
     "00308b9a15fd4ff7b11f380bb532140b": {
      "model_module": "@jupyter-widgets/controls",
      "model_module_version": "1.5.0",
      "model_name": "HBoxModel",
      "state": {
       "_dom_classes": [],
       "_model_module": "@jupyter-widgets/controls",
       "_model_module_version": "1.5.0",
       "_model_name": "HBoxModel",
       "_view_count": null,
       "_view_module": "@jupyter-widgets/controls",
       "_view_module_version": "1.5.0",
       "_view_name": "HBoxView",
       "box_style": "",
       "children": [
        "IPY_MODEL_972c3f1d4eee44399ff07778e14cf44b",
        "IPY_MODEL_cb41b30e490243f9b5fefbcb18cd5e88",
        "IPY_MODEL_0f440b1cff4843c686aa53cc29ac27b8"
       ],
       "layout": "IPY_MODEL_5650f38a3f034e90aa66de87ea637bf5"
      }
     },
     "01e778e237124bdd8ce535499665fb35": {
      "model_module": "@jupyter-widgets/base",
      "model_module_version": "1.2.0",
      "model_name": "LayoutModel",
      "state": {
       "_model_module": "@jupyter-widgets/base",
       "_model_module_version": "1.2.0",
       "_model_name": "LayoutModel",
       "_view_count": null,
       "_view_module": "@jupyter-widgets/base",
       "_view_module_version": "1.2.0",
       "_view_name": "LayoutView",
       "align_content": null,
       "align_items": null,
       "align_self": null,
       "border": null,
       "bottom": null,
       "display": null,
       "flex": null,
       "flex_flow": null,
       "grid_area": null,
       "grid_auto_columns": null,
       "grid_auto_flow": null,
       "grid_auto_rows": null,
       "grid_column": null,
       "grid_gap": null,
       "grid_row": null,
       "grid_template_areas": null,
       "grid_template_columns": null,
       "grid_template_rows": null,
       "height": null,
       "justify_content": null,
       "justify_items": null,
       "left": null,
       "margin": null,
       "max_height": null,
       "max_width": null,
       "min_height": null,
       "min_width": null,
       "object_fit": null,
       "object_position": null,
       "order": null,
       "overflow": null,
       "overflow_x": null,
       "overflow_y": null,
       "padding": null,
       "right": null,
       "top": null,
       "visibility": null,
       "width": null
      }
     },
     "01f6a73dc0d842e0adc246d8a79432a3": {
      "model_module": "@jupyter-widgets/base",
      "model_module_version": "1.2.0",
      "model_name": "LayoutModel",
      "state": {
       "_model_module": "@jupyter-widgets/base",
       "_model_module_version": "1.2.0",
       "_model_name": "LayoutModel",
       "_view_count": null,
       "_view_module": "@jupyter-widgets/base",
       "_view_module_version": "1.2.0",
       "_view_name": "LayoutView",
       "align_content": null,
       "align_items": null,
       "align_self": null,
       "border": null,
       "bottom": null,
       "display": null,
       "flex": null,
       "flex_flow": null,
       "grid_area": null,
       "grid_auto_columns": null,
       "grid_auto_flow": null,
       "grid_auto_rows": null,
       "grid_column": null,
       "grid_gap": null,
       "grid_row": null,
       "grid_template_areas": null,
       "grid_template_columns": null,
       "grid_template_rows": null,
       "height": null,
       "justify_content": null,
       "justify_items": null,
       "left": null,
       "margin": null,
       "max_height": null,
       "max_width": null,
       "min_height": null,
       "min_width": null,
       "object_fit": null,
       "object_position": null,
       "order": null,
       "overflow": null,
       "overflow_x": null,
       "overflow_y": null,
       "padding": null,
       "right": null,
       "top": null,
       "visibility": null,
       "width": null
      }
     },
     "02287e16eef84b80aa6a3a29ff236e47": {
      "model_module": "@jupyter-widgets/controls",
      "model_module_version": "1.5.0",
      "model_name": "HTMLModel",
      "state": {
       "_dom_classes": [],
       "_model_module": "@jupyter-widgets/controls",
       "_model_module_version": "1.5.0",
       "_model_name": "HTMLModel",
       "_view_count": null,
       "_view_module": "@jupyter-widgets/controls",
       "_view_module_version": "1.5.0",
       "_view_name": "HTMLView",
       "description": "",
       "description_tooltip": null,
       "layout": "IPY_MODEL_e67c2f275faa44f3bc33f2e205f8abb7",
       "placeholder": "​",
       "style": "IPY_MODEL_72b93a93439a49c9855382ef32dcb56b",
       "value": "100%"
      }
     },
     "02b69d39964846fe8a600333ab3789a9": {
      "model_module": "@jupyter-widgets/controls",
      "model_module_version": "1.5.0",
      "model_name": "DescriptionStyleModel",
      "state": {
       "_model_module": "@jupyter-widgets/controls",
       "_model_module_version": "1.5.0",
       "_model_name": "DescriptionStyleModel",
       "_view_count": null,
       "_view_module": "@jupyter-widgets/base",
       "_view_module_version": "1.2.0",
       "_view_name": "StyleView",
       "description_width": ""
      }
     },
     "03ba474a851e4897be16d2091e5fe31d": {
      "model_module": "@jupyter-widgets/controls",
      "model_module_version": "1.5.0",
      "model_name": "HTMLModel",
      "state": {
       "_dom_classes": [],
       "_model_module": "@jupyter-widgets/controls",
       "_model_module_version": "1.5.0",
       "_model_name": "HTMLModel",
       "_view_count": null,
       "_view_module": "@jupyter-widgets/controls",
       "_view_module_version": "1.5.0",
       "_view_name": "HTMLView",
       "description": "",
       "description_tooltip": null,
       "layout": "IPY_MODEL_7975533730654a49abe6d4bfdfdecf3e",
       "placeholder": "​",
       "style": "IPY_MODEL_657f9b53fa024b3b922062ee01c30322",
       "value": "100%"
      }
     },
     "0534e91ef2594619b98d84f718b28427": {
      "model_module": "@jupyter-widgets/base",
      "model_module_version": "1.2.0",
      "model_name": "LayoutModel",
      "state": {
       "_model_module": "@jupyter-widgets/base",
       "_model_module_version": "1.2.0",
       "_model_name": "LayoutModel",
       "_view_count": null,
       "_view_module": "@jupyter-widgets/base",
       "_view_module_version": "1.2.0",
       "_view_name": "LayoutView",
       "align_content": null,
       "align_items": null,
       "align_self": null,
       "border": null,
       "bottom": null,
       "display": null,
       "flex": null,
       "flex_flow": null,
       "grid_area": null,
       "grid_auto_columns": null,
       "grid_auto_flow": null,
       "grid_auto_rows": null,
       "grid_column": null,
       "grid_gap": null,
       "grid_row": null,
       "grid_template_areas": null,
       "grid_template_columns": null,
       "grid_template_rows": null,
       "height": null,
       "justify_content": null,
       "justify_items": null,
       "left": null,
       "margin": null,
       "max_height": null,
       "max_width": null,
       "min_height": null,
       "min_width": null,
       "object_fit": null,
       "object_position": null,
       "order": null,
       "overflow": null,
       "overflow_x": null,
       "overflow_y": null,
       "padding": null,
       "right": null,
       "top": null,
       "visibility": null,
       "width": null
      }
     },
     "06421d4529c14dcfa9e37d02907e4041": {
      "model_module": "@jupyter-widgets/base",
      "model_module_version": "1.2.0",
      "model_name": "LayoutModel",
      "state": {
       "_model_module": "@jupyter-widgets/base",
       "_model_module_version": "1.2.0",
       "_model_name": "LayoutModel",
       "_view_count": null,
       "_view_module": "@jupyter-widgets/base",
       "_view_module_version": "1.2.0",
       "_view_name": "LayoutView",
       "align_content": null,
       "align_items": null,
       "align_self": null,
       "border": null,
       "bottom": null,
       "display": null,
       "flex": null,
       "flex_flow": null,
       "grid_area": null,
       "grid_auto_columns": null,
       "grid_auto_flow": null,
       "grid_auto_rows": null,
       "grid_column": null,
       "grid_gap": null,
       "grid_row": null,
       "grid_template_areas": null,
       "grid_template_columns": null,
       "grid_template_rows": null,
       "height": null,
       "justify_content": null,
       "justify_items": null,
       "left": null,
       "margin": null,
       "max_height": null,
       "max_width": null,
       "min_height": null,
       "min_width": null,
       "object_fit": null,
       "object_position": null,
       "order": null,
       "overflow": null,
       "overflow_x": null,
       "overflow_y": null,
       "padding": null,
       "right": null,
       "top": null,
       "visibility": null,
       "width": null
      }
     },
     "067b97133d304eb7ba5a611f0d85f598": {
      "model_module": "@jupyter-widgets/controls",
      "model_module_version": "1.5.0",
      "model_name": "HTMLModel",
      "state": {
       "_dom_classes": [],
       "_model_module": "@jupyter-widgets/controls",
       "_model_module_version": "1.5.0",
       "_model_name": "HTMLModel",
       "_view_count": null,
       "_view_module": "@jupyter-widgets/controls",
       "_view_module_version": "1.5.0",
       "_view_name": "HTMLView",
       "description": "",
       "description_tooltip": null,
       "layout": "IPY_MODEL_dc2e9aa108b843c194dca51c1f86bf7d",
       "placeholder": "​",
       "style": "IPY_MODEL_02b69d39964846fe8a600333ab3789a9",
       "value": " 10/10 [00:00&lt;00:00, 19.62it/s]"
      }
     },
     "07f33855c4a646eb9652b9030cd11da6": {
      "model_module": "@jupyter-widgets/controls",
      "model_module_version": "1.5.0",
      "model_name": "DescriptionStyleModel",
      "state": {
       "_model_module": "@jupyter-widgets/controls",
       "_model_module_version": "1.5.0",
       "_model_name": "DescriptionStyleModel",
       "_view_count": null,
       "_view_module": "@jupyter-widgets/base",
       "_view_module_version": "1.2.0",
       "_view_name": "StyleView",
       "description_width": ""
      }
     },
     "08c652fc61994d43bba048648f7560d4": {
      "model_module": "@jupyter-widgets/controls",
      "model_module_version": "1.5.0",
      "model_name": "HTMLModel",
      "state": {
       "_dom_classes": [],
       "_model_module": "@jupyter-widgets/controls",
       "_model_module_version": "1.5.0",
       "_model_name": "HTMLModel",
       "_view_count": null,
       "_view_module": "@jupyter-widgets/controls",
       "_view_module_version": "1.5.0",
       "_view_name": "HTMLView",
       "description": "",
       "description_tooltip": null,
       "layout": "IPY_MODEL_88157892e05442ea84e62eb487077f88",
       "placeholder": "​",
       "style": "IPY_MODEL_ec8d154fcc9249afa4228d333e1a40de",
       "value": " 1000/1000 [17:03&lt;00:00,  1.00it/s]"
      }
     },
     "08d6267d5a8449178a21e03db8d3dbdb": {
      "model_module": "@jupyter-widgets/base",
      "model_module_version": "1.2.0",
      "model_name": "LayoutModel",
      "state": {
       "_model_module": "@jupyter-widgets/base",
       "_model_module_version": "1.2.0",
       "_model_name": "LayoutModel",
       "_view_count": null,
       "_view_module": "@jupyter-widgets/base",
       "_view_module_version": "1.2.0",
       "_view_name": "LayoutView",
       "align_content": null,
       "align_items": null,
       "align_self": null,
       "border": null,
       "bottom": null,
       "display": null,
       "flex": null,
       "flex_flow": null,
       "grid_area": null,
       "grid_auto_columns": null,
       "grid_auto_flow": null,
       "grid_auto_rows": null,
       "grid_column": null,
       "grid_gap": null,
       "grid_row": null,
       "grid_template_areas": null,
       "grid_template_columns": null,
       "grid_template_rows": null,
       "height": null,
       "justify_content": null,
       "justify_items": null,
       "left": null,
       "margin": null,
       "max_height": null,
       "max_width": null,
       "min_height": null,
       "min_width": null,
       "object_fit": null,
       "object_position": null,
       "order": null,
       "overflow": null,
       "overflow_x": null,
       "overflow_y": null,
       "padding": null,
       "right": null,
       "top": null,
       "visibility": null,
       "width": null
      }
     },
     "0964cf88c59340e69d628ae898a260f0": {
      "model_module": "@jupyter-widgets/controls",
      "model_module_version": "1.5.0",
      "model_name": "HTMLModel",
      "state": {
       "_dom_classes": [],
       "_model_module": "@jupyter-widgets/controls",
       "_model_module_version": "1.5.0",
       "_model_name": "HTMLModel",
       "_view_count": null,
       "_view_module": "@jupyter-widgets/controls",
       "_view_module_version": "1.5.0",
       "_view_name": "HTMLView",
       "description": "",
       "description_tooltip": null,
       "layout": "IPY_MODEL_8beff05696e74681b593b56e7563af5f",
       "placeholder": "​",
       "style": "IPY_MODEL_c32e41c52f2d46af9a8af8b2f7656dff",
       "value": "100%"
      }
     },
     "09cfbbd6e0cc462a866aab5e9ad46907": {
      "model_module": "@jupyter-widgets/base",
      "model_module_version": "1.2.0",
      "model_name": "LayoutModel",
      "state": {
       "_model_module": "@jupyter-widgets/base",
       "_model_module_version": "1.2.0",
       "_model_name": "LayoutModel",
       "_view_count": null,
       "_view_module": "@jupyter-widgets/base",
       "_view_module_version": "1.2.0",
       "_view_name": "LayoutView",
       "align_content": null,
       "align_items": null,
       "align_self": null,
       "border": null,
       "bottom": null,
       "display": null,
       "flex": null,
       "flex_flow": null,
       "grid_area": null,
       "grid_auto_columns": null,
       "grid_auto_flow": null,
       "grid_auto_rows": null,
       "grid_column": null,
       "grid_gap": null,
       "grid_row": null,
       "grid_template_areas": null,
       "grid_template_columns": null,
       "grid_template_rows": null,
       "height": null,
       "justify_content": null,
       "justify_items": null,
       "left": null,
       "margin": null,
       "max_height": null,
       "max_width": null,
       "min_height": null,
       "min_width": null,
       "object_fit": null,
       "object_position": null,
       "order": null,
       "overflow": null,
       "overflow_x": null,
       "overflow_y": null,
       "padding": null,
       "right": null,
       "top": null,
       "visibility": null,
       "width": null
      }
     },
     "0aab9bc43c5541abbab5fbd2a242617e": {
      "model_module": "@jupyter-widgets/base",
      "model_module_version": "1.2.0",
      "model_name": "LayoutModel",
      "state": {
       "_model_module": "@jupyter-widgets/base",
       "_model_module_version": "1.2.0",
       "_model_name": "LayoutModel",
       "_view_count": null,
       "_view_module": "@jupyter-widgets/base",
       "_view_module_version": "1.2.0",
       "_view_name": "LayoutView",
       "align_content": null,
       "align_items": null,
       "align_self": null,
       "border": null,
       "bottom": null,
       "display": null,
       "flex": null,
       "flex_flow": null,
       "grid_area": null,
       "grid_auto_columns": null,
       "grid_auto_flow": null,
       "grid_auto_rows": null,
       "grid_column": null,
       "grid_gap": null,
       "grid_row": null,
       "grid_template_areas": null,
       "grid_template_columns": null,
       "grid_template_rows": null,
       "height": null,
       "justify_content": null,
       "justify_items": null,
       "left": null,
       "margin": null,
       "max_height": null,
       "max_width": null,
       "min_height": null,
       "min_width": null,
       "object_fit": null,
       "object_position": null,
       "order": null,
       "overflow": null,
       "overflow_x": null,
       "overflow_y": null,
       "padding": null,
       "right": null,
       "top": null,
       "visibility": null,
       "width": null
      }
     },
     "0bcfb0a525a9455c84c9086299a1e7d5": {
      "model_module": "@jupyter-widgets/controls",
      "model_module_version": "1.5.0",
      "model_name": "ProgressStyleModel",
      "state": {
       "_model_module": "@jupyter-widgets/controls",
       "_model_module_version": "1.5.0",
       "_model_name": "ProgressStyleModel",
       "_view_count": null,
       "_view_module": "@jupyter-widgets/base",
       "_view_module_version": "1.2.0",
       "_view_name": "StyleView",
       "bar_color": null,
       "description_width": ""
      }
     },
     "0bd6e7213f75459aa6328ac8fbb19bf7": {
      "model_module": "@jupyter-widgets/base",
      "model_module_version": "1.2.0",
      "model_name": "LayoutModel",
      "state": {
       "_model_module": "@jupyter-widgets/base",
       "_model_module_version": "1.2.0",
       "_model_name": "LayoutModel",
       "_view_count": null,
       "_view_module": "@jupyter-widgets/base",
       "_view_module_version": "1.2.0",
       "_view_name": "LayoutView",
       "align_content": null,
       "align_items": null,
       "align_self": null,
       "border": null,
       "bottom": null,
       "display": null,
       "flex": null,
       "flex_flow": null,
       "grid_area": null,
       "grid_auto_columns": null,
       "grid_auto_flow": null,
       "grid_auto_rows": null,
       "grid_column": null,
       "grid_gap": null,
       "grid_row": null,
       "grid_template_areas": null,
       "grid_template_columns": null,
       "grid_template_rows": null,
       "height": null,
       "justify_content": null,
       "justify_items": null,
       "left": null,
       "margin": null,
       "max_height": null,
       "max_width": null,
       "min_height": null,
       "min_width": null,
       "object_fit": null,
       "object_position": null,
       "order": null,
       "overflow": null,
       "overflow_x": null,
       "overflow_y": null,
       "padding": null,
       "right": null,
       "top": null,
       "visibility": null,
       "width": null
      }
     },
     "0c2fb2b31b2a4f108e98022b86fb7ef6": {
      "model_module": "@jupyter-widgets/controls",
      "model_module_version": "1.5.0",
      "model_name": "FloatProgressModel",
      "state": {
       "_dom_classes": [],
       "_model_module": "@jupyter-widgets/controls",
       "_model_module_version": "1.5.0",
       "_model_name": "FloatProgressModel",
       "_view_count": null,
       "_view_module": "@jupyter-widgets/controls",
       "_view_module_version": "1.5.0",
       "_view_name": "ProgressView",
       "bar_style": "success",
       "description": "",
       "description_tooltip": null,
       "layout": "IPY_MODEL_08d6267d5a8449178a21e03db8d3dbdb",
       "max": 1000,
       "min": 0,
       "orientation": "horizontal",
       "style": "IPY_MODEL_8379c29f0b934d58929d89c543de9581",
       "value": 1000
      }
     },
     "0c9b7e194f4d4f86992cc5de576fd886": {
      "model_module": "@jupyter-widgets/controls",
      "model_module_version": "1.5.0",
      "model_name": "ProgressStyleModel",
      "state": {
       "_model_module": "@jupyter-widgets/controls",
       "_model_module_version": "1.5.0",
       "_model_name": "ProgressStyleModel",
       "_view_count": null,
       "_view_module": "@jupyter-widgets/base",
       "_view_module_version": "1.2.0",
       "_view_name": "StyleView",
       "bar_color": null,
       "description_width": ""
      }
     },
     "0d3668c81fd642a08c3c3a156f9033c5": {
      "model_module": "@jupyter-widgets/controls",
      "model_module_version": "1.5.0",
      "model_name": "HTMLModel",
      "state": {
       "_dom_classes": [],
       "_model_module": "@jupyter-widgets/controls",
       "_model_module_version": "1.5.0",
       "_model_name": "HTMLModel",
       "_view_count": null,
       "_view_module": "@jupyter-widgets/controls",
       "_view_module_version": "1.5.0",
       "_view_name": "HTMLView",
       "description": "",
       "description_tooltip": null,
       "layout": "IPY_MODEL_8ab442ec85d64b029d6184eb46cfc3b1",
       "placeholder": "​",
       "style": "IPY_MODEL_a477eca532b5477696b783e69dbf25b2",
       "value": " 1000/1000 [22:46&lt;00:00,  1.32s/it]"
      }
     },
     "0d39a2b242e94877b98687d4302eef30": {
      "model_module": "@jupyter-widgets/controls",
      "model_module_version": "1.5.0",
      "model_name": "HTMLModel",
      "state": {
       "_dom_classes": [],
       "_model_module": "@jupyter-widgets/controls",
       "_model_module_version": "1.5.0",
       "_model_name": "HTMLModel",
       "_view_count": null,
       "_view_module": "@jupyter-widgets/controls",
       "_view_module_version": "1.5.0",
       "_view_name": "HTMLView",
       "description": "",
       "description_tooltip": null,
       "layout": "IPY_MODEL_ef98e1bd58e34a9293d0b3c1f7e2d793",
       "placeholder": "​",
       "style": "IPY_MODEL_8d5ada37bae24fceba3532c4871fc549",
       "value": "100%"
      }
     },
     "0e52e77bbf1b48f784de080295fe0c17": {
      "model_module": "@jupyter-widgets/base",
      "model_module_version": "1.2.0",
      "model_name": "LayoutModel",
      "state": {
       "_model_module": "@jupyter-widgets/base",
       "_model_module_version": "1.2.0",
       "_model_name": "LayoutModel",
       "_view_count": null,
       "_view_module": "@jupyter-widgets/base",
       "_view_module_version": "1.2.0",
       "_view_name": "LayoutView",
       "align_content": null,
       "align_items": null,
       "align_self": null,
       "border": null,
       "bottom": null,
       "display": null,
       "flex": null,
       "flex_flow": null,
       "grid_area": null,
       "grid_auto_columns": null,
       "grid_auto_flow": null,
       "grid_auto_rows": null,
       "grid_column": null,
       "grid_gap": null,
       "grid_row": null,
       "grid_template_areas": null,
       "grid_template_columns": null,
       "grid_template_rows": null,
       "height": null,
       "justify_content": null,
       "justify_items": null,
       "left": null,
       "margin": null,
       "max_height": null,
       "max_width": null,
       "min_height": null,
       "min_width": null,
       "object_fit": null,
       "object_position": null,
       "order": null,
       "overflow": null,
       "overflow_x": null,
       "overflow_y": null,
       "padding": null,
       "right": null,
       "top": null,
       "visibility": null,
       "width": null
      }
     },
     "0eed41d9b7c341aaa2656b5b4e7fb8b9": {
      "model_module": "@jupyter-widgets/base",
      "model_module_version": "1.2.0",
      "model_name": "LayoutModel",
      "state": {
       "_model_module": "@jupyter-widgets/base",
       "_model_module_version": "1.2.0",
       "_model_name": "LayoutModel",
       "_view_count": null,
       "_view_module": "@jupyter-widgets/base",
       "_view_module_version": "1.2.0",
       "_view_name": "LayoutView",
       "align_content": null,
       "align_items": null,
       "align_self": null,
       "border": null,
       "bottom": null,
       "display": null,
       "flex": null,
       "flex_flow": null,
       "grid_area": null,
       "grid_auto_columns": null,
       "grid_auto_flow": null,
       "grid_auto_rows": null,
       "grid_column": null,
       "grid_gap": null,
       "grid_row": null,
       "grid_template_areas": null,
       "grid_template_columns": null,
       "grid_template_rows": null,
       "height": null,
       "justify_content": null,
       "justify_items": null,
       "left": null,
       "margin": null,
       "max_height": null,
       "max_width": null,
       "min_height": null,
       "min_width": null,
       "object_fit": null,
       "object_position": null,
       "order": null,
       "overflow": null,
       "overflow_x": null,
       "overflow_y": null,
       "padding": null,
       "right": null,
       "top": null,
       "visibility": null,
       "width": null
      }
     },
     "0f1e2bb69f0c444081efe374a67452aa": {
      "model_module": "@jupyter-widgets/base",
      "model_module_version": "1.2.0",
      "model_name": "LayoutModel",
      "state": {
       "_model_module": "@jupyter-widgets/base",
       "_model_module_version": "1.2.0",
       "_model_name": "LayoutModel",
       "_view_count": null,
       "_view_module": "@jupyter-widgets/base",
       "_view_module_version": "1.2.0",
       "_view_name": "LayoutView",
       "align_content": null,
       "align_items": null,
       "align_self": null,
       "border": null,
       "bottom": null,
       "display": null,
       "flex": null,
       "flex_flow": null,
       "grid_area": null,
       "grid_auto_columns": null,
       "grid_auto_flow": null,
       "grid_auto_rows": null,
       "grid_column": null,
       "grid_gap": null,
       "grid_row": null,
       "grid_template_areas": null,
       "grid_template_columns": null,
       "grid_template_rows": null,
       "height": null,
       "justify_content": null,
       "justify_items": null,
       "left": null,
       "margin": null,
       "max_height": null,
       "max_width": null,
       "min_height": null,
       "min_width": null,
       "object_fit": null,
       "object_position": null,
       "order": null,
       "overflow": null,
       "overflow_x": null,
       "overflow_y": null,
       "padding": null,
       "right": null,
       "top": null,
       "visibility": null,
       "width": null
      }
     },
     "0f440b1cff4843c686aa53cc29ac27b8": {
      "model_module": "@jupyter-widgets/controls",
      "model_module_version": "1.5.0",
      "model_name": "HTMLModel",
      "state": {
       "_dom_classes": [],
       "_model_module": "@jupyter-widgets/controls",
       "_model_module_version": "1.5.0",
       "_model_name": "HTMLModel",
       "_view_count": null,
       "_view_module": "@jupyter-widgets/controls",
       "_view_module_version": "1.5.0",
       "_view_name": "HTMLView",
       "description": "",
       "description_tooltip": null,
       "layout": "IPY_MODEL_89464d3adf7d456cbe4a2c5245df5f44",
       "placeholder": "​",
       "style": "IPY_MODEL_3ed967c30d4b47c79cbd59ca8a871c29",
       "value": " 1000/1000 [13:31&lt;00:00,  1.25it/s]"
      }
     },
     "0fcf26309b42466398e1852c91590585": {
      "model_module": "@jupyter-widgets/base",
      "model_module_version": "1.2.0",
      "model_name": "LayoutModel",
      "state": {
       "_model_module": "@jupyter-widgets/base",
       "_model_module_version": "1.2.0",
       "_model_name": "LayoutModel",
       "_view_count": null,
       "_view_module": "@jupyter-widgets/base",
       "_view_module_version": "1.2.0",
       "_view_name": "LayoutView",
       "align_content": null,
       "align_items": null,
       "align_self": null,
       "border": null,
       "bottom": null,
       "display": null,
       "flex": null,
       "flex_flow": null,
       "grid_area": null,
       "grid_auto_columns": null,
       "grid_auto_flow": null,
       "grid_auto_rows": null,
       "grid_column": null,
       "grid_gap": null,
       "grid_row": null,
       "grid_template_areas": null,
       "grid_template_columns": null,
       "grid_template_rows": null,
       "height": null,
       "justify_content": null,
       "justify_items": null,
       "left": null,
       "margin": null,
       "max_height": null,
       "max_width": null,
       "min_height": null,
       "min_width": null,
       "object_fit": null,
       "object_position": null,
       "order": null,
       "overflow": null,
       "overflow_x": null,
       "overflow_y": null,
       "padding": null,
       "right": null,
       "top": null,
       "visibility": null,
       "width": null
      }
     },
     "104278bc36614bb9abf5913fd9aa1eed": {
      "model_module": "@jupyter-widgets/controls",
      "model_module_version": "1.5.0",
      "model_name": "DescriptionStyleModel",
      "state": {
       "_model_module": "@jupyter-widgets/controls",
       "_model_module_version": "1.5.0",
       "_model_name": "DescriptionStyleModel",
       "_view_count": null,
       "_view_module": "@jupyter-widgets/base",
       "_view_module_version": "1.2.0",
       "_view_name": "StyleView",
       "description_width": ""
      }
     },
     "104c13e18fc5435e9ded1e02fdf945c4": {
      "model_module": "@jupyter-widgets/base",
      "model_module_version": "1.2.0",
      "model_name": "LayoutModel",
      "state": {
       "_model_module": "@jupyter-widgets/base",
       "_model_module_version": "1.2.0",
       "_model_name": "LayoutModel",
       "_view_count": null,
       "_view_module": "@jupyter-widgets/base",
       "_view_module_version": "1.2.0",
       "_view_name": "LayoutView",
       "align_content": null,
       "align_items": null,
       "align_self": null,
       "border": null,
       "bottom": null,
       "display": null,
       "flex": null,
       "flex_flow": null,
       "grid_area": null,
       "grid_auto_columns": null,
       "grid_auto_flow": null,
       "grid_auto_rows": null,
       "grid_column": null,
       "grid_gap": null,
       "grid_row": null,
       "grid_template_areas": null,
       "grid_template_columns": null,
       "grid_template_rows": null,
       "height": null,
       "justify_content": null,
       "justify_items": null,
       "left": null,
       "margin": null,
       "max_height": null,
       "max_width": null,
       "min_height": null,
       "min_width": null,
       "object_fit": null,
       "object_position": null,
       "order": null,
       "overflow": null,
       "overflow_x": null,
       "overflow_y": null,
       "padding": null,
       "right": null,
       "top": null,
       "visibility": null,
       "width": null
      }
     },
     "11909f86338a4643b2ff208012ccde78": {
      "model_module": "@jupyter-widgets/controls",
      "model_module_version": "1.5.0",
      "model_name": "FloatProgressModel",
      "state": {
       "_dom_classes": [],
       "_model_module": "@jupyter-widgets/controls",
       "_model_module_version": "1.5.0",
       "_model_name": "FloatProgressModel",
       "_view_count": null,
       "_view_module": "@jupyter-widgets/controls",
       "_view_module_version": "1.5.0",
       "_view_name": "ProgressView",
       "bar_style": "success",
       "description": "",
       "description_tooltip": null,
       "layout": "IPY_MODEL_6c2ab002ba4c4e509709b108b774279d",
       "max": 1000,
       "min": 0,
       "orientation": "horizontal",
       "style": "IPY_MODEL_50451d1f76cb4ababf261e13e7880e11",
       "value": 1000
      }
     },
     "142fbb0e36d847ec84bd4d148c80caa5": {
      "model_module": "@jupyter-widgets/controls",
      "model_module_version": "1.5.0",
      "model_name": "ProgressStyleModel",
      "state": {
       "_model_module": "@jupyter-widgets/controls",
       "_model_module_version": "1.5.0",
       "_model_name": "ProgressStyleModel",
       "_view_count": null,
       "_view_module": "@jupyter-widgets/base",
       "_view_module_version": "1.2.0",
       "_view_name": "StyleView",
       "bar_color": null,
       "description_width": ""
      }
     },
     "14c87e8372724fd3852992450e2438d6": {
      "model_module": "@jupyter-widgets/base",
      "model_module_version": "1.2.0",
      "model_name": "LayoutModel",
      "state": {
       "_model_module": "@jupyter-widgets/base",
       "_model_module_version": "1.2.0",
       "_model_name": "LayoutModel",
       "_view_count": null,
       "_view_module": "@jupyter-widgets/base",
       "_view_module_version": "1.2.0",
       "_view_name": "LayoutView",
       "align_content": null,
       "align_items": null,
       "align_self": null,
       "border": null,
       "bottom": null,
       "display": null,
       "flex": null,
       "flex_flow": null,
       "grid_area": null,
       "grid_auto_columns": null,
       "grid_auto_flow": null,
       "grid_auto_rows": null,
       "grid_column": null,
       "grid_gap": null,
       "grid_row": null,
       "grid_template_areas": null,
       "grid_template_columns": null,
       "grid_template_rows": null,
       "height": null,
       "justify_content": null,
       "justify_items": null,
       "left": null,
       "margin": null,
       "max_height": null,
       "max_width": null,
       "min_height": null,
       "min_width": null,
       "object_fit": null,
       "object_position": null,
       "order": null,
       "overflow": null,
       "overflow_x": null,
       "overflow_y": null,
       "padding": null,
       "right": null,
       "top": null,
       "visibility": null,
       "width": null
      }
     },
     "15edf78325f641f49d209014155d2438": {
      "model_module": "@jupyter-widgets/controls",
      "model_module_version": "1.5.0",
      "model_name": "HTMLModel",
      "state": {
       "_dom_classes": [],
       "_model_module": "@jupyter-widgets/controls",
       "_model_module_version": "1.5.0",
       "_model_name": "HTMLModel",
       "_view_count": null,
       "_view_module": "@jupyter-widgets/controls",
       "_view_module_version": "1.5.0",
       "_view_name": "HTMLView",
       "description": "",
       "description_tooltip": null,
       "layout": "IPY_MODEL_0e52e77bbf1b48f784de080295fe0c17",
       "placeholder": "​",
       "style": "IPY_MODEL_6f6251ea64b4479d821400f7112d7889",
       "value": " 1000/1000 [1:38:06&lt;00:00,  5.88s/it]"
      }
     },
     "16793fb804f2479082bc4aa920d3e591": {
      "model_module": "@jupyter-widgets/controls",
      "model_module_version": "1.5.0",
      "model_name": "DescriptionStyleModel",
      "state": {
       "_model_module": "@jupyter-widgets/controls",
       "_model_module_version": "1.5.0",
       "_model_name": "DescriptionStyleModel",
       "_view_count": null,
       "_view_module": "@jupyter-widgets/base",
       "_view_module_version": "1.2.0",
       "_view_name": "StyleView",
       "description_width": ""
      }
     },
     "170175073d80448aa164876ebe474731": {
      "model_module": "@jupyter-widgets/base",
      "model_module_version": "1.2.0",
      "model_name": "LayoutModel",
      "state": {
       "_model_module": "@jupyter-widgets/base",
       "_model_module_version": "1.2.0",
       "_model_name": "LayoutModel",
       "_view_count": null,
       "_view_module": "@jupyter-widgets/base",
       "_view_module_version": "1.2.0",
       "_view_name": "LayoutView",
       "align_content": null,
       "align_items": null,
       "align_self": null,
       "border": null,
       "bottom": null,
       "display": null,
       "flex": null,
       "flex_flow": null,
       "grid_area": null,
       "grid_auto_columns": null,
       "grid_auto_flow": null,
       "grid_auto_rows": null,
       "grid_column": null,
       "grid_gap": null,
       "grid_row": null,
       "grid_template_areas": null,
       "grid_template_columns": null,
       "grid_template_rows": null,
       "height": null,
       "justify_content": null,
       "justify_items": null,
       "left": null,
       "margin": null,
       "max_height": null,
       "max_width": null,
       "min_height": null,
       "min_width": null,
       "object_fit": null,
       "object_position": null,
       "order": null,
       "overflow": null,
       "overflow_x": null,
       "overflow_y": null,
       "padding": null,
       "right": null,
       "top": null,
       "visibility": null,
       "width": null
      }
     },
     "176a19a71f614e0d86ad772aafd1db62": {
      "model_module": "@jupyter-widgets/controls",
      "model_module_version": "1.5.0",
      "model_name": "FloatProgressModel",
      "state": {
       "_dom_classes": [],
       "_model_module": "@jupyter-widgets/controls",
       "_model_module_version": "1.5.0",
       "_model_name": "FloatProgressModel",
       "_view_count": null,
       "_view_module": "@jupyter-widgets/controls",
       "_view_module_version": "1.5.0",
       "_view_name": "ProgressView",
       "bar_style": "success",
       "description": "",
       "description_tooltip": null,
       "layout": "IPY_MODEL_6f17721e84eb42e39946892f1914e4ee",
       "max": 1000,
       "min": 0,
       "orientation": "horizontal",
       "style": "IPY_MODEL_5110d824aa01415f9d54ec5659188a38",
       "value": 1000
      }
     },
     "17981c57a50b41a7a0031acf038f9ced": {
      "model_module": "@jupyter-widgets/controls",
      "model_module_version": "1.5.0",
      "model_name": "ProgressStyleModel",
      "state": {
       "_model_module": "@jupyter-widgets/controls",
       "_model_module_version": "1.5.0",
       "_model_name": "ProgressStyleModel",
       "_view_count": null,
       "_view_module": "@jupyter-widgets/base",
       "_view_module_version": "1.2.0",
       "_view_name": "StyleView",
       "bar_color": null,
       "description_width": ""
      }
     },
     "18531a78f5384131aa251e2984e7d7de": {
      "model_module": "@jupyter-widgets/controls",
      "model_module_version": "1.5.0",
      "model_name": "FloatProgressModel",
      "state": {
       "_dom_classes": [],
       "_model_module": "@jupyter-widgets/controls",
       "_model_module_version": "1.5.0",
       "_model_name": "FloatProgressModel",
       "_view_count": null,
       "_view_module": "@jupyter-widgets/controls",
       "_view_module_version": "1.5.0",
       "_view_name": "ProgressView",
       "bar_style": "success",
       "description": "",
       "description_tooltip": null,
       "layout": "IPY_MODEL_d2c6d14404454a5cb4b05e2fc4c71ded",
       "max": 1000,
       "min": 0,
       "orientation": "horizontal",
       "style": "IPY_MODEL_99174fa4a7a743b483a62cae60ae09ad",
       "value": 1000
      }
     },
     "186849e4bd0d4fb49f9df64948cb864e": {
      "model_module": "@jupyter-widgets/controls",
      "model_module_version": "1.5.0",
      "model_name": "HBoxModel",
      "state": {
       "_dom_classes": [],
       "_model_module": "@jupyter-widgets/controls",
       "_model_module_version": "1.5.0",
       "_model_name": "HBoxModel",
       "_view_count": null,
       "_view_module": "@jupyter-widgets/controls",
       "_view_module_version": "1.5.0",
       "_view_name": "HBoxView",
       "box_style": "",
       "children": [
        "IPY_MODEL_6b5a48d42d1346a18364bc3600d9d54d",
        "IPY_MODEL_1c1128b281a64fca9d7931c05c871573",
        "IPY_MODEL_a6a7f0fc336c4c41a078aa4904343989"
       ],
       "layout": "IPY_MODEL_7d94aa98a8b14cc083fb815da00f7c03"
      }
     },
     "1a436dea769542618f828d86b3a792ae": {
      "model_module": "@jupyter-widgets/controls",
      "model_module_version": "1.5.0",
      "model_name": "FloatProgressModel",
      "state": {
       "_dom_classes": [],
       "_model_module": "@jupyter-widgets/controls",
       "_model_module_version": "1.5.0",
       "_model_name": "FloatProgressModel",
       "_view_count": null,
       "_view_module": "@jupyter-widgets/controls",
       "_view_module_version": "1.5.0",
       "_view_name": "ProgressView",
       "bar_style": "success",
       "description": "",
       "description_tooltip": null,
       "layout": "IPY_MODEL_21fa17b8affd4bae9a15c64fcd51c259",
       "max": 100,
       "min": 0,
       "orientation": "horizontal",
       "style": "IPY_MODEL_7cafeefe831349f5a3a8af905b3106c7",
       "value": 100
      }
     },
     "1bcb3da43d8649749372b918206ec3a7": {
      "model_module": "@jupyter-widgets/base",
      "model_module_version": "1.2.0",
      "model_name": "LayoutModel",
      "state": {
       "_model_module": "@jupyter-widgets/base",
       "_model_module_version": "1.2.0",
       "_model_name": "LayoutModel",
       "_view_count": null,
       "_view_module": "@jupyter-widgets/base",
       "_view_module_version": "1.2.0",
       "_view_name": "LayoutView",
       "align_content": null,
       "align_items": null,
       "align_self": null,
       "border": null,
       "bottom": null,
       "display": null,
       "flex": null,
       "flex_flow": null,
       "grid_area": null,
       "grid_auto_columns": null,
       "grid_auto_flow": null,
       "grid_auto_rows": null,
       "grid_column": null,
       "grid_gap": null,
       "grid_row": null,
       "grid_template_areas": null,
       "grid_template_columns": null,
       "grid_template_rows": null,
       "height": null,
       "justify_content": null,
       "justify_items": null,
       "left": null,
       "margin": null,
       "max_height": null,
       "max_width": null,
       "min_height": null,
       "min_width": null,
       "object_fit": null,
       "object_position": null,
       "order": null,
       "overflow": null,
       "overflow_x": null,
       "overflow_y": null,
       "padding": null,
       "right": null,
       "top": null,
       "visibility": null,
       "width": null
      }
     },
     "1c1128b281a64fca9d7931c05c871573": {
      "model_module": "@jupyter-widgets/controls",
      "model_module_version": "1.5.0",
      "model_name": "FloatProgressModel",
      "state": {
       "_dom_classes": [],
       "_model_module": "@jupyter-widgets/controls",
       "_model_module_version": "1.5.0",
       "_model_name": "FloatProgressModel",
       "_view_count": null,
       "_view_module": "@jupyter-widgets/controls",
       "_view_module_version": "1.5.0",
       "_view_name": "ProgressView",
       "bar_style": "success",
       "description": "",
       "description_tooltip": null,
       "layout": "IPY_MODEL_b52361c649904945adf447b08bdf571f",
       "max": 10,
       "min": 0,
       "orientation": "horizontal",
       "style": "IPY_MODEL_71da40ab71514d028a367521e5806db8",
       "value": 10
      }
     },
     "1d68aef0e65646c5a48b18fd174801a1": {
      "model_module": "@jupyter-widgets/base",
      "model_module_version": "1.2.0",
      "model_name": "LayoutModel",
      "state": {
       "_model_module": "@jupyter-widgets/base",
       "_model_module_version": "1.2.0",
       "_model_name": "LayoutModel",
       "_view_count": null,
       "_view_module": "@jupyter-widgets/base",
       "_view_module_version": "1.2.0",
       "_view_name": "LayoutView",
       "align_content": null,
       "align_items": null,
       "align_self": null,
       "border": null,
       "bottom": null,
       "display": null,
       "flex": null,
       "flex_flow": null,
       "grid_area": null,
       "grid_auto_columns": null,
       "grid_auto_flow": null,
       "grid_auto_rows": null,
       "grid_column": null,
       "grid_gap": null,
       "grid_row": null,
       "grid_template_areas": null,
       "grid_template_columns": null,
       "grid_template_rows": null,
       "height": null,
       "justify_content": null,
       "justify_items": null,
       "left": null,
       "margin": null,
       "max_height": null,
       "max_width": null,
       "min_height": null,
       "min_width": null,
       "object_fit": null,
       "object_position": null,
       "order": null,
       "overflow": null,
       "overflow_x": null,
       "overflow_y": null,
       "padding": null,
       "right": null,
       "top": null,
       "visibility": null,
       "width": null
      }
     },
     "1f77df991976473a8dc86d197a8792f8": {
      "model_module": "@jupyter-widgets/controls",
      "model_module_version": "1.5.0",
      "model_name": "HTMLModel",
      "state": {
       "_dom_classes": [],
       "_model_module": "@jupyter-widgets/controls",
       "_model_module_version": "1.5.0",
       "_model_name": "HTMLModel",
       "_view_count": null,
       "_view_module": "@jupyter-widgets/controls",
       "_view_module_version": "1.5.0",
       "_view_name": "HTMLView",
       "description": "",
       "description_tooltip": null,
       "layout": "IPY_MODEL_b2009e6f324f441ca00dc2d2b2279c8f",
       "placeholder": "​",
       "style": "IPY_MODEL_104278bc36614bb9abf5913fd9aa1eed",
       "value": " 10/10 [00:00&lt;00:00, 14.93it/s]"
      }
     },
     "21d0b2e6dc2643719315e39ac6974b4c": {
      "model_module": "@jupyter-widgets/controls",
      "model_module_version": "1.5.0",
      "model_name": "DescriptionStyleModel",
      "state": {
       "_model_module": "@jupyter-widgets/controls",
       "_model_module_version": "1.5.0",
       "_model_name": "DescriptionStyleModel",
       "_view_count": null,
       "_view_module": "@jupyter-widgets/base",
       "_view_module_version": "1.2.0",
       "_view_name": "StyleView",
       "description_width": ""
      }
     },
     "21fa17b8affd4bae9a15c64fcd51c259": {
      "model_module": "@jupyter-widgets/base",
      "model_module_version": "1.2.0",
      "model_name": "LayoutModel",
      "state": {
       "_model_module": "@jupyter-widgets/base",
       "_model_module_version": "1.2.0",
       "_model_name": "LayoutModel",
       "_view_count": null,
       "_view_module": "@jupyter-widgets/base",
       "_view_module_version": "1.2.0",
       "_view_name": "LayoutView",
       "align_content": null,
       "align_items": null,
       "align_self": null,
       "border": null,
       "bottom": null,
       "display": null,
       "flex": null,
       "flex_flow": null,
       "grid_area": null,
       "grid_auto_columns": null,
       "grid_auto_flow": null,
       "grid_auto_rows": null,
       "grid_column": null,
       "grid_gap": null,
       "grid_row": null,
       "grid_template_areas": null,
       "grid_template_columns": null,
       "grid_template_rows": null,
       "height": null,
       "justify_content": null,
       "justify_items": null,
       "left": null,
       "margin": null,
       "max_height": null,
       "max_width": null,
       "min_height": null,
       "min_width": null,
       "object_fit": null,
       "object_position": null,
       "order": null,
       "overflow": null,
       "overflow_x": null,
       "overflow_y": null,
       "padding": null,
       "right": null,
       "top": null,
       "visibility": null,
       "width": null
      }
     },
     "21fadf24f8b84923bad04cb748807925": {
      "model_module": "@jupyter-widgets/controls",
      "model_module_version": "1.5.0",
      "model_name": "HBoxModel",
      "state": {
       "_dom_classes": [],
       "_model_module": "@jupyter-widgets/controls",
       "_model_module_version": "1.5.0",
       "_model_name": "HBoxModel",
       "_view_count": null,
       "_view_module": "@jupyter-widgets/controls",
       "_view_module_version": "1.5.0",
       "_view_name": "HBoxView",
       "box_style": "",
       "children": [
        "IPY_MODEL_d159753a4b2d45658d8c1d9d9bb19d60",
        "IPY_MODEL_a2fb39be6293414c962bb2517c272a70",
        "IPY_MODEL_8e40babda25c4aecad1de68011f47e46"
       ],
       "layout": "IPY_MODEL_411e2452760d422db711a1d21a2212a8"
      }
     },
     "22096c2e913a453a83df86b4e7dc43d0": {
      "model_module": "@jupyter-widgets/controls",
      "model_module_version": "1.5.0",
      "model_name": "HBoxModel",
      "state": {
       "_dom_classes": [],
       "_model_module": "@jupyter-widgets/controls",
       "_model_module_version": "1.5.0",
       "_model_name": "HBoxModel",
       "_view_count": null,
       "_view_module": "@jupyter-widgets/controls",
       "_view_module_version": "1.5.0",
       "_view_name": "HBoxView",
       "box_style": "",
       "children": [
        "IPY_MODEL_e915e6b6a842484eb0c931873537f3c4",
        "IPY_MODEL_bafda985d32f46edbdce39a9dabd7516",
        "IPY_MODEL_d8ef3513575341028e40c4602af576c8"
       ],
       "layout": "IPY_MODEL_258386c16f514785abaec2e412f44348"
      }
     },
     "2229f855fc4d4d758188ebc948314efb": {
      "model_module": "@jupyter-widgets/base",
      "model_module_version": "1.2.0",
      "model_name": "LayoutModel",
      "state": {
       "_model_module": "@jupyter-widgets/base",
       "_model_module_version": "1.2.0",
       "_model_name": "LayoutModel",
       "_view_count": null,
       "_view_module": "@jupyter-widgets/base",
       "_view_module_version": "1.2.0",
       "_view_name": "LayoutView",
       "align_content": null,
       "align_items": null,
       "align_self": null,
       "border": null,
       "bottom": null,
       "display": null,
       "flex": null,
       "flex_flow": null,
       "grid_area": null,
       "grid_auto_columns": null,
       "grid_auto_flow": null,
       "grid_auto_rows": null,
       "grid_column": null,
       "grid_gap": null,
       "grid_row": null,
       "grid_template_areas": null,
       "grid_template_columns": null,
       "grid_template_rows": null,
       "height": null,
       "justify_content": null,
       "justify_items": null,
       "left": null,
       "margin": null,
       "max_height": null,
       "max_width": null,
       "min_height": null,
       "min_width": null,
       "object_fit": null,
       "object_position": null,
       "order": null,
       "overflow": null,
       "overflow_x": null,
       "overflow_y": null,
       "padding": null,
       "right": null,
       "top": null,
       "visibility": null,
       "width": null
      }
     },
     "23b6a0044bd3438e92af0072b9e12be2": {
      "model_module": "@jupyter-widgets/base",
      "model_module_version": "1.2.0",
      "model_name": "LayoutModel",
      "state": {
       "_model_module": "@jupyter-widgets/base",
       "_model_module_version": "1.2.0",
       "_model_name": "LayoutModel",
       "_view_count": null,
       "_view_module": "@jupyter-widgets/base",
       "_view_module_version": "1.2.0",
       "_view_name": "LayoutView",
       "align_content": null,
       "align_items": null,
       "align_self": null,
       "border": null,
       "bottom": null,
       "display": null,
       "flex": null,
       "flex_flow": null,
       "grid_area": null,
       "grid_auto_columns": null,
       "grid_auto_flow": null,
       "grid_auto_rows": null,
       "grid_column": null,
       "grid_gap": null,
       "grid_row": null,
       "grid_template_areas": null,
       "grid_template_columns": null,
       "grid_template_rows": null,
       "height": null,
       "justify_content": null,
       "justify_items": null,
       "left": null,
       "margin": null,
       "max_height": null,
       "max_width": null,
       "min_height": null,
       "min_width": null,
       "object_fit": null,
       "object_position": null,
       "order": null,
       "overflow": null,
       "overflow_x": null,
       "overflow_y": null,
       "padding": null,
       "right": null,
       "top": null,
       "visibility": null,
       "width": null
      }
     },
     "23c41abc684241e9800418c7166beeaf": {
      "model_module": "@jupyter-widgets/controls",
      "model_module_version": "1.5.0",
      "model_name": "DescriptionStyleModel",
      "state": {
       "_model_module": "@jupyter-widgets/controls",
       "_model_module_version": "1.5.0",
       "_model_name": "DescriptionStyleModel",
       "_view_count": null,
       "_view_module": "@jupyter-widgets/base",
       "_view_module_version": "1.2.0",
       "_view_name": "StyleView",
       "description_width": ""
      }
     },
     "2484d6189e7c4ef6b76cdb18e1bc609b": {
      "model_module": "@jupyter-widgets/controls",
      "model_module_version": "1.5.0",
      "model_name": "DescriptionStyleModel",
      "state": {
       "_model_module": "@jupyter-widgets/controls",
       "_model_module_version": "1.5.0",
       "_model_name": "DescriptionStyleModel",
       "_view_count": null,
       "_view_module": "@jupyter-widgets/base",
       "_view_module_version": "1.2.0",
       "_view_name": "StyleView",
       "description_width": ""
      }
     },
     "258386c16f514785abaec2e412f44348": {
      "model_module": "@jupyter-widgets/base",
      "model_module_version": "1.2.0",
      "model_name": "LayoutModel",
      "state": {
       "_model_module": "@jupyter-widgets/base",
       "_model_module_version": "1.2.0",
       "_model_name": "LayoutModel",
       "_view_count": null,
       "_view_module": "@jupyter-widgets/base",
       "_view_module_version": "1.2.0",
       "_view_name": "LayoutView",
       "align_content": null,
       "align_items": null,
       "align_self": null,
       "border": null,
       "bottom": null,
       "display": null,
       "flex": null,
       "flex_flow": null,
       "grid_area": null,
       "grid_auto_columns": null,
       "grid_auto_flow": null,
       "grid_auto_rows": null,
       "grid_column": null,
       "grid_gap": null,
       "grid_row": null,
       "grid_template_areas": null,
       "grid_template_columns": null,
       "grid_template_rows": null,
       "height": null,
       "justify_content": null,
       "justify_items": null,
       "left": null,
       "margin": null,
       "max_height": null,
       "max_width": null,
       "min_height": null,
       "min_width": null,
       "object_fit": null,
       "object_position": null,
       "order": null,
       "overflow": null,
       "overflow_x": null,
       "overflow_y": null,
       "padding": null,
       "right": null,
       "top": null,
       "visibility": null,
       "width": null
      }
     },
     "25ec08c56f424a71beeb664a87b68abf": {
      "model_module": "@jupyter-widgets/base",
      "model_module_version": "1.2.0",
      "model_name": "LayoutModel",
      "state": {
       "_model_module": "@jupyter-widgets/base",
       "_model_module_version": "1.2.0",
       "_model_name": "LayoutModel",
       "_view_count": null,
       "_view_module": "@jupyter-widgets/base",
       "_view_module_version": "1.2.0",
       "_view_name": "LayoutView",
       "align_content": null,
       "align_items": null,
       "align_self": null,
       "border": null,
       "bottom": null,
       "display": null,
       "flex": null,
       "flex_flow": null,
       "grid_area": null,
       "grid_auto_columns": null,
       "grid_auto_flow": null,
       "grid_auto_rows": null,
       "grid_column": null,
       "grid_gap": null,
       "grid_row": null,
       "grid_template_areas": null,
       "grid_template_columns": null,
       "grid_template_rows": null,
       "height": null,
       "justify_content": null,
       "justify_items": null,
       "left": null,
       "margin": null,
       "max_height": null,
       "max_width": null,
       "min_height": null,
       "min_width": null,
       "object_fit": null,
       "object_position": null,
       "order": null,
       "overflow": null,
       "overflow_x": null,
       "overflow_y": null,
       "padding": null,
       "right": null,
       "top": null,
       "visibility": null,
       "width": null
      }
     },
     "2620b439e163468b886997159bd5fb4c": {
      "model_module": "@jupyter-widgets/base",
      "model_module_version": "1.2.0",
      "model_name": "LayoutModel",
      "state": {
       "_model_module": "@jupyter-widgets/base",
       "_model_module_version": "1.2.0",
       "_model_name": "LayoutModel",
       "_view_count": null,
       "_view_module": "@jupyter-widgets/base",
       "_view_module_version": "1.2.0",
       "_view_name": "LayoutView",
       "align_content": null,
       "align_items": null,
       "align_self": null,
       "border": null,
       "bottom": null,
       "display": null,
       "flex": null,
       "flex_flow": null,
       "grid_area": null,
       "grid_auto_columns": null,
       "grid_auto_flow": null,
       "grid_auto_rows": null,
       "grid_column": null,
       "grid_gap": null,
       "grid_row": null,
       "grid_template_areas": null,
       "grid_template_columns": null,
       "grid_template_rows": null,
       "height": null,
       "justify_content": null,
       "justify_items": null,
       "left": null,
       "margin": null,
       "max_height": null,
       "max_width": null,
       "min_height": null,
       "min_width": null,
       "object_fit": null,
       "object_position": null,
       "order": null,
       "overflow": null,
       "overflow_x": null,
       "overflow_y": null,
       "padding": null,
       "right": null,
       "top": null,
       "visibility": null,
       "width": null
      }
     },
     "262b2c2944554801abb34b817e270294": {
      "model_module": "@jupyter-widgets/base",
      "model_module_version": "1.2.0",
      "model_name": "LayoutModel",
      "state": {
       "_model_module": "@jupyter-widgets/base",
       "_model_module_version": "1.2.0",
       "_model_name": "LayoutModel",
       "_view_count": null,
       "_view_module": "@jupyter-widgets/base",
       "_view_module_version": "1.2.0",
       "_view_name": "LayoutView",
       "align_content": null,
       "align_items": null,
       "align_self": null,
       "border": null,
       "bottom": null,
       "display": null,
       "flex": null,
       "flex_flow": null,
       "grid_area": null,
       "grid_auto_columns": null,
       "grid_auto_flow": null,
       "grid_auto_rows": null,
       "grid_column": null,
       "grid_gap": null,
       "grid_row": null,
       "grid_template_areas": null,
       "grid_template_columns": null,
       "grid_template_rows": null,
       "height": null,
       "justify_content": null,
       "justify_items": null,
       "left": null,
       "margin": null,
       "max_height": null,
       "max_width": null,
       "min_height": null,
       "min_width": null,
       "object_fit": null,
       "object_position": null,
       "order": null,
       "overflow": null,
       "overflow_x": null,
       "overflow_y": null,
       "padding": null,
       "right": null,
       "top": null,
       "visibility": null,
       "width": null
      }
     },
     "272a9c5dfb4c4fc3b176955460b64686": {
      "model_module": "@jupyter-widgets/controls",
      "model_module_version": "1.5.0",
      "model_name": "HBoxModel",
      "state": {
       "_dom_classes": [],
       "_model_module": "@jupyter-widgets/controls",
       "_model_module_version": "1.5.0",
       "_model_name": "HBoxModel",
       "_view_count": null,
       "_view_module": "@jupyter-widgets/controls",
       "_view_module_version": "1.5.0",
       "_view_name": "HBoxView",
       "box_style": "",
       "children": [
        "IPY_MODEL_d43c3116912e4c61a1bc301c6a715d37",
        "IPY_MODEL_f294ad32bb184d70a0e0e638e92e2610",
        "IPY_MODEL_b3c5996624964ccf8c99838a431dbedd"
       ],
       "layout": "IPY_MODEL_c6cabaffca7d4da6a3a00cbb02197976"
      }
     },
     "27a2398383b948279911d489c7217836": {
      "model_module": "@jupyter-widgets/controls",
      "model_module_version": "1.5.0",
      "model_name": "HBoxModel",
      "state": {
       "_dom_classes": [],
       "_model_module": "@jupyter-widgets/controls",
       "_model_module_version": "1.5.0",
       "_model_name": "HBoxModel",
       "_view_count": null,
       "_view_module": "@jupyter-widgets/controls",
       "_view_module_version": "1.5.0",
       "_view_name": "HBoxView",
       "box_style": "",
       "children": [
        "IPY_MODEL_c08a50ebff414c409334312ae6486262",
        "IPY_MODEL_bdc357fbce4a4bda9571e0c39cb2b6e8",
        "IPY_MODEL_dd0abe0751b140fda55d3c0108da6503"
       ],
       "layout": "IPY_MODEL_fe5122e026134bad8245966a68365160"
      }
     },
     "2a10e649a6c241f0bc2e1019870a540c": {
      "model_module": "@jupyter-widgets/controls",
      "model_module_version": "1.5.0",
      "model_name": "DescriptionStyleModel",
      "state": {
       "_model_module": "@jupyter-widgets/controls",
       "_model_module_version": "1.5.0",
       "_model_name": "DescriptionStyleModel",
       "_view_count": null,
       "_view_module": "@jupyter-widgets/base",
       "_view_module_version": "1.2.0",
       "_view_name": "StyleView",
       "description_width": ""
      }
     },
     "2a8e7380e5b9416e9a7c74bc73247288": {
      "model_module": "@jupyter-widgets/controls",
      "model_module_version": "1.5.0",
      "model_name": "ProgressStyleModel",
      "state": {
       "_model_module": "@jupyter-widgets/controls",
       "_model_module_version": "1.5.0",
       "_model_name": "ProgressStyleModel",
       "_view_count": null,
       "_view_module": "@jupyter-widgets/base",
       "_view_module_version": "1.2.0",
       "_view_name": "StyleView",
       "bar_color": null,
       "description_width": ""
      }
     },
     "2b085b08683b4b0c8bd3feb9ff4ca159": {
      "model_module": "@jupyter-widgets/controls",
      "model_module_version": "1.5.0",
      "model_name": "ProgressStyleModel",
      "state": {
       "_model_module": "@jupyter-widgets/controls",
       "_model_module_version": "1.5.0",
       "_model_name": "ProgressStyleModel",
       "_view_count": null,
       "_view_module": "@jupyter-widgets/base",
       "_view_module_version": "1.2.0",
       "_view_name": "StyleView",
       "bar_color": null,
       "description_width": ""
      }
     },
     "2b597e0e09234daa8d96fec3b9b6a511": {
      "model_module": "@jupyter-widgets/base",
      "model_module_version": "1.2.0",
      "model_name": "LayoutModel",
      "state": {
       "_model_module": "@jupyter-widgets/base",
       "_model_module_version": "1.2.0",
       "_model_name": "LayoutModel",
       "_view_count": null,
       "_view_module": "@jupyter-widgets/base",
       "_view_module_version": "1.2.0",
       "_view_name": "LayoutView",
       "align_content": null,
       "align_items": null,
       "align_self": null,
       "border": null,
       "bottom": null,
       "display": null,
       "flex": null,
       "flex_flow": null,
       "grid_area": null,
       "grid_auto_columns": null,
       "grid_auto_flow": null,
       "grid_auto_rows": null,
       "grid_column": null,
       "grid_gap": null,
       "grid_row": null,
       "grid_template_areas": null,
       "grid_template_columns": null,
       "grid_template_rows": null,
       "height": null,
       "justify_content": null,
       "justify_items": null,
       "left": null,
       "margin": null,
       "max_height": null,
       "max_width": null,
       "min_height": null,
       "min_width": null,
       "object_fit": null,
       "object_position": null,
       "order": null,
       "overflow": null,
       "overflow_x": null,
       "overflow_y": null,
       "padding": null,
       "right": null,
       "top": null,
       "visibility": null,
       "width": null
      }
     },
     "2c271a3eb2d4407494b74dd83169c16e": {
      "model_module": "@jupyter-widgets/controls",
      "model_module_version": "1.5.0",
      "model_name": "FloatProgressModel",
      "state": {
       "_dom_classes": [],
       "_model_module": "@jupyter-widgets/controls",
       "_model_module_version": "1.5.0",
       "_model_name": "FloatProgressModel",
       "_view_count": null,
       "_view_module": "@jupyter-widgets/controls",
       "_view_module_version": "1.5.0",
       "_view_name": "ProgressView",
       "bar_style": "success",
       "description": "",
       "description_tooltip": null,
       "layout": "IPY_MODEL_86c9c050663d45c3b4cc9a189db996e8",
       "max": 1000,
       "min": 0,
       "orientation": "horizontal",
       "style": "IPY_MODEL_50a91b628b4141239a3bae8195c3718b",
       "value": 1000
      }
     },
     "2ce10ea789104f2f936299f26fba1b88": {
      "model_module": "@jupyter-widgets/controls",
      "model_module_version": "1.5.0",
      "model_name": "HTMLModel",
      "state": {
       "_dom_classes": [],
       "_model_module": "@jupyter-widgets/controls",
       "_model_module_version": "1.5.0",
       "_model_name": "HTMLModel",
       "_view_count": null,
       "_view_module": "@jupyter-widgets/controls",
       "_view_module_version": "1.5.0",
       "_view_name": "HTMLView",
       "description": "",
       "description_tooltip": null,
       "layout": "IPY_MODEL_cb5e486991b743ff844796937d7d7067",
       "placeholder": "​",
       "style": "IPY_MODEL_e318105421794fb89f3b31140e130041",
       "value": " 1000/1000 [2:26:53&lt;00:00,  8.69s/it]"
      }
     },
     "2d202766eb8142b4ae52eeff2ff2f384": {
      "model_module": "@jupyter-widgets/base",
      "model_module_version": "1.2.0",
      "model_name": "LayoutModel",
      "state": {
       "_model_module": "@jupyter-widgets/base",
       "_model_module_version": "1.2.0",
       "_model_name": "LayoutModel",
       "_view_count": null,
       "_view_module": "@jupyter-widgets/base",
       "_view_module_version": "1.2.0",
       "_view_name": "LayoutView",
       "align_content": null,
       "align_items": null,
       "align_self": null,
       "border": null,
       "bottom": null,
       "display": null,
       "flex": null,
       "flex_flow": null,
       "grid_area": null,
       "grid_auto_columns": null,
       "grid_auto_flow": null,
       "grid_auto_rows": null,
       "grid_column": null,
       "grid_gap": null,
       "grid_row": null,
       "grid_template_areas": null,
       "grid_template_columns": null,
       "grid_template_rows": null,
       "height": null,
       "justify_content": null,
       "justify_items": null,
       "left": null,
       "margin": null,
       "max_height": null,
       "max_width": null,
       "min_height": null,
       "min_width": null,
       "object_fit": null,
       "object_position": null,
       "order": null,
       "overflow": null,
       "overflow_x": null,
       "overflow_y": null,
       "padding": null,
       "right": null,
       "top": null,
       "visibility": null,
       "width": null
      }
     },
     "2eacb7855acf43e996b52387b57e9451": {
      "model_module": "@jupyter-widgets/controls",
      "model_module_version": "1.5.0",
      "model_name": "HTMLModel",
      "state": {
       "_dom_classes": [],
       "_model_module": "@jupyter-widgets/controls",
       "_model_module_version": "1.5.0",
       "_model_name": "HTMLModel",
       "_view_count": null,
       "_view_module": "@jupyter-widgets/controls",
       "_view_module_version": "1.5.0",
       "_view_name": "HTMLView",
       "description": "",
       "description_tooltip": null,
       "layout": "IPY_MODEL_6d6b3726aca84833abd1de07c6dd1e62",
       "placeholder": "​",
       "style": "IPY_MODEL_30bfe63e9f1842f38702c4e8d079371a",
       "value": " 1000/1000 [07:24&lt;00:00,  2.45it/s]"
      }
     },
     "2edab80e9ed4436fba4eb18e2241104e": {
      "model_module": "@jupyter-widgets/base",
      "model_module_version": "1.2.0",
      "model_name": "LayoutModel",
      "state": {
       "_model_module": "@jupyter-widgets/base",
       "_model_module_version": "1.2.0",
       "_model_name": "LayoutModel",
       "_view_count": null,
       "_view_module": "@jupyter-widgets/base",
       "_view_module_version": "1.2.0",
       "_view_name": "LayoutView",
       "align_content": null,
       "align_items": null,
       "align_self": null,
       "border": null,
       "bottom": null,
       "display": null,
       "flex": null,
       "flex_flow": null,
       "grid_area": null,
       "grid_auto_columns": null,
       "grid_auto_flow": null,
       "grid_auto_rows": null,
       "grid_column": null,
       "grid_gap": null,
       "grid_row": null,
       "grid_template_areas": null,
       "grid_template_columns": null,
       "grid_template_rows": null,
       "height": null,
       "justify_content": null,
       "justify_items": null,
       "left": null,
       "margin": null,
       "max_height": null,
       "max_width": null,
       "min_height": null,
       "min_width": null,
       "object_fit": null,
       "object_position": null,
       "order": null,
       "overflow": null,
       "overflow_x": null,
       "overflow_y": null,
       "padding": null,
       "right": null,
       "top": null,
       "visibility": null,
       "width": null
      }
     },
     "2f0c0c23457a4e0390df200ace17dc16": {
      "model_module": "@jupyter-widgets/controls",
      "model_module_version": "1.5.0",
      "model_name": "ProgressStyleModel",
      "state": {
       "_model_module": "@jupyter-widgets/controls",
       "_model_module_version": "1.5.0",
       "_model_name": "ProgressStyleModel",
       "_view_count": null,
       "_view_module": "@jupyter-widgets/base",
       "_view_module_version": "1.2.0",
       "_view_name": "StyleView",
       "bar_color": null,
       "description_width": ""
      }
     },
     "304a53363d9a44568d5b9451d6d9794a": {
      "model_module": "@jupyter-widgets/controls",
      "model_module_version": "1.5.0",
      "model_name": "HBoxModel",
      "state": {
       "_dom_classes": [],
       "_model_module": "@jupyter-widgets/controls",
       "_model_module_version": "1.5.0",
       "_model_name": "HBoxModel",
       "_view_count": null,
       "_view_module": "@jupyter-widgets/controls",
       "_view_module_version": "1.5.0",
       "_view_name": "HBoxView",
       "box_style": "",
       "children": [
        "IPY_MODEL_31d184cb79e9446a8a8597d6fa5dfacd",
        "IPY_MODEL_c15e6b0c17e5410191fe69d029545741",
        "IPY_MODEL_4ad355e82dea4652b0d6d0c15953a5b9"
       ],
       "layout": "IPY_MODEL_eff842c8be744e66a3b1d28734f6872f"
      }
     },
     "3078c0dc6d8941f7a5fd117b328dced1": {
      "model_module": "@jupyter-widgets/base",
      "model_module_version": "1.2.0",
      "model_name": "LayoutModel",
      "state": {
       "_model_module": "@jupyter-widgets/base",
       "_model_module_version": "1.2.0",
       "_model_name": "LayoutModel",
       "_view_count": null,
       "_view_module": "@jupyter-widgets/base",
       "_view_module_version": "1.2.0",
       "_view_name": "LayoutView",
       "align_content": null,
       "align_items": null,
       "align_self": null,
       "border": null,
       "bottom": null,
       "display": null,
       "flex": null,
       "flex_flow": null,
       "grid_area": null,
       "grid_auto_columns": null,
       "grid_auto_flow": null,
       "grid_auto_rows": null,
       "grid_column": null,
       "grid_gap": null,
       "grid_row": null,
       "grid_template_areas": null,
       "grid_template_columns": null,
       "grid_template_rows": null,
       "height": null,
       "justify_content": null,
       "justify_items": null,
       "left": null,
       "margin": null,
       "max_height": null,
       "max_width": null,
       "min_height": null,
       "min_width": null,
       "object_fit": null,
       "object_position": null,
       "order": null,
       "overflow": null,
       "overflow_x": null,
       "overflow_y": null,
       "padding": null,
       "right": null,
       "top": null,
       "visibility": null,
       "width": null
      }
     },
     "30bfe63e9f1842f38702c4e8d079371a": {
      "model_module": "@jupyter-widgets/controls",
      "model_module_version": "1.5.0",
      "model_name": "DescriptionStyleModel",
      "state": {
       "_model_module": "@jupyter-widgets/controls",
       "_model_module_version": "1.5.0",
       "_model_name": "DescriptionStyleModel",
       "_view_count": null,
       "_view_module": "@jupyter-widgets/base",
       "_view_module_version": "1.2.0",
       "_view_name": "StyleView",
       "description_width": ""
      }
     },
     "31d184cb79e9446a8a8597d6fa5dfacd": {
      "model_module": "@jupyter-widgets/controls",
      "model_module_version": "1.5.0",
      "model_name": "HTMLModel",
      "state": {
       "_dom_classes": [],
       "_model_module": "@jupyter-widgets/controls",
       "_model_module_version": "1.5.0",
       "_model_name": "HTMLModel",
       "_view_count": null,
       "_view_module": "@jupyter-widgets/controls",
       "_view_module_version": "1.5.0",
       "_view_name": "HTMLView",
       "description": "",
       "description_tooltip": null,
       "layout": "IPY_MODEL_b6d0df2860c14a339b72ccb5e7fd752d",
       "placeholder": "​",
       "style": "IPY_MODEL_6f57bf6bdebd4767920a40a518e5cd90",
       "value": "100%"
      }
     },
     "32821683bd6e4e6a8129956b541e68bc": {
      "model_module": "@jupyter-widgets/controls",
      "model_module_version": "1.5.0",
      "model_name": "HTMLModel",
      "state": {
       "_dom_classes": [],
       "_model_module": "@jupyter-widgets/controls",
       "_model_module_version": "1.5.0",
       "_model_name": "HTMLModel",
       "_view_count": null,
       "_view_module": "@jupyter-widgets/controls",
       "_view_module_version": "1.5.0",
       "_view_name": "HTMLView",
       "description": "",
       "description_tooltip": null,
       "layout": "IPY_MODEL_c89eba9955a44b0daca2add395da0cd4",
       "placeholder": "​",
       "style": "IPY_MODEL_d7d99bd7b7a2463bb05f54c02ac7d6be",
       "value": " 10/10 [00:00&lt;00:00, 12.76it/s]"
      }
     },
     "32866575936945f9be3cc6bc67120bc5": {
      "model_module": "@jupyter-widgets/controls",
      "model_module_version": "1.5.0",
      "model_name": "HTMLModel",
      "state": {
       "_dom_classes": [],
       "_model_module": "@jupyter-widgets/controls",
       "_model_module_version": "1.5.0",
       "_model_name": "HTMLModel",
       "_view_count": null,
       "_view_module": "@jupyter-widgets/controls",
       "_view_module_version": "1.5.0",
       "_view_name": "HTMLView",
       "description": "",
       "description_tooltip": null,
       "layout": "IPY_MODEL_2229f855fc4d4d758188ebc948314efb",
       "placeholder": "​",
       "style": "IPY_MODEL_b48ee4203cdd4600a17d5a7a4daebef0",
       "value": "100%"
      }
     },
     "32f449d43b4249af96183ced0a8f629f": {
      "model_module": "@jupyter-widgets/controls",
      "model_module_version": "1.5.0",
      "model_name": "DescriptionStyleModel",
      "state": {
       "_model_module": "@jupyter-widgets/controls",
       "_model_module_version": "1.5.0",
       "_model_name": "DescriptionStyleModel",
       "_view_count": null,
       "_view_module": "@jupyter-widgets/base",
       "_view_module_version": "1.2.0",
       "_view_name": "StyleView",
       "description_width": ""
      }
     },
     "3433a38138b54b37b2efcd43d4cecb17": {
      "model_module": "@jupyter-widgets/controls",
      "model_module_version": "1.5.0",
      "model_name": "ProgressStyleModel",
      "state": {
       "_model_module": "@jupyter-widgets/controls",
       "_model_module_version": "1.5.0",
       "_model_name": "ProgressStyleModel",
       "_view_count": null,
       "_view_module": "@jupyter-widgets/base",
       "_view_module_version": "1.2.0",
       "_view_name": "StyleView",
       "bar_color": null,
       "description_width": ""
      }
     },
     "350920fff6b043d9ac10ba08c5f34afa": {
      "model_module": "@jupyter-widgets/controls",
      "model_module_version": "1.5.0",
      "model_name": "HTMLModel",
      "state": {
       "_dom_classes": [],
       "_model_module": "@jupyter-widgets/controls",
       "_model_module_version": "1.5.0",
       "_model_name": "HTMLModel",
       "_view_count": null,
       "_view_module": "@jupyter-widgets/controls",
       "_view_module_version": "1.5.0",
       "_view_name": "HTMLView",
       "description": "",
       "description_tooltip": null,
       "layout": "IPY_MODEL_a69dcbd87c9b4b71993beff3ec5a0f4f",
       "placeholder": "​",
       "style": "IPY_MODEL_d1f59fde1c574a2b9ebd8fcfd0596717",
       "value": "100%"
      }
     },
     "371355f34bb14219ae9a56e51d5b2ff4": {
      "model_module": "@jupyter-widgets/controls",
      "model_module_version": "1.5.0",
      "model_name": "HBoxModel",
      "state": {
       "_dom_classes": [],
       "_model_module": "@jupyter-widgets/controls",
       "_model_module_version": "1.5.0",
       "_model_name": "HBoxModel",
       "_view_count": null,
       "_view_module": "@jupyter-widgets/controls",
       "_view_module_version": "1.5.0",
       "_view_name": "HBoxView",
       "box_style": "",
       "children": [
        "IPY_MODEL_e65857640b41415d96bafd1aeae4800a",
        "IPY_MODEL_d7c1b9a784ba414e8a24732153c02ecc",
        "IPY_MODEL_0d3668c81fd642a08c3c3a156f9033c5"
       ],
       "layout": "IPY_MODEL_981f781370e5493399d7478e70f01695"
      }
     },
     "37cbbd5432984a668f03e079112eea53": {
      "model_module": "@jupyter-widgets/base",
      "model_module_version": "1.2.0",
      "model_name": "LayoutModel",
      "state": {
       "_model_module": "@jupyter-widgets/base",
       "_model_module_version": "1.2.0",
       "_model_name": "LayoutModel",
       "_view_count": null,
       "_view_module": "@jupyter-widgets/base",
       "_view_module_version": "1.2.0",
       "_view_name": "LayoutView",
       "align_content": null,
       "align_items": null,
       "align_self": null,
       "border": null,
       "bottom": null,
       "display": null,
       "flex": null,
       "flex_flow": null,
       "grid_area": null,
       "grid_auto_columns": null,
       "grid_auto_flow": null,
       "grid_auto_rows": null,
       "grid_column": null,
       "grid_gap": null,
       "grid_row": null,
       "grid_template_areas": null,
       "grid_template_columns": null,
       "grid_template_rows": null,
       "height": null,
       "justify_content": null,
       "justify_items": null,
       "left": null,
       "margin": null,
       "max_height": null,
       "max_width": null,
       "min_height": null,
       "min_width": null,
       "object_fit": null,
       "object_position": null,
       "order": null,
       "overflow": null,
       "overflow_x": null,
       "overflow_y": null,
       "padding": null,
       "right": null,
       "top": null,
       "visibility": null,
       "width": null
      }
     },
     "38d30a1fe5f644168720c602a23f2e14": {
      "model_module": "@jupyter-widgets/controls",
      "model_module_version": "1.5.0",
      "model_name": "DescriptionStyleModel",
      "state": {
       "_model_module": "@jupyter-widgets/controls",
       "_model_module_version": "1.5.0",
       "_model_name": "DescriptionStyleModel",
       "_view_count": null,
       "_view_module": "@jupyter-widgets/base",
       "_view_module_version": "1.2.0",
       "_view_name": "StyleView",
       "description_width": ""
      }
     },
     "3998957118c74d0382b9d30309884e24": {
      "model_module": "@jupyter-widgets/controls",
      "model_module_version": "1.5.0",
      "model_name": "HBoxModel",
      "state": {
       "_dom_classes": [],
       "_model_module": "@jupyter-widgets/controls",
       "_model_module_version": "1.5.0",
       "_model_name": "HBoxModel",
       "_view_count": null,
       "_view_module": "@jupyter-widgets/controls",
       "_view_module_version": "1.5.0",
       "_view_name": "HBoxView",
       "box_style": "",
       "children": [
        "IPY_MODEL_ead54443cd4749de898489824d06320a",
        "IPY_MODEL_e32ff54d40e64bfda18d9c540209f5d6",
        "IPY_MODEL_ae7f2335260d4e1d9e1dc31c261823b9"
       ],
       "layout": "IPY_MODEL_de07d6133d824424af2b6dce373e9e12"
      }
     },
     "39b4838e7cc24ccdae794a8a6108927e": {
      "model_module": "@jupyter-widgets/controls",
      "model_module_version": "1.5.0",
      "model_name": "FloatProgressModel",
      "state": {
       "_dom_classes": [],
       "_model_module": "@jupyter-widgets/controls",
       "_model_module_version": "1.5.0",
       "_model_name": "FloatProgressModel",
       "_view_count": null,
       "_view_module": "@jupyter-widgets/controls",
       "_view_module_version": "1.5.0",
       "_view_name": "ProgressView",
       "bar_style": "success",
       "description": "",
       "description_tooltip": null,
       "layout": "IPY_MODEL_2edab80e9ed4436fba4eb18e2241104e",
       "max": 1000,
       "min": 0,
       "orientation": "horizontal",
       "style": "IPY_MODEL_4b5eb52034fe4222b7f4f8428da2742b",
       "value": 1000
      }
     },
     "3b68758a406443f183658e7f95b9a083": {
      "model_module": "@jupyter-widgets/controls",
      "model_module_version": "1.5.0",
      "model_name": "ProgressStyleModel",
      "state": {
       "_model_module": "@jupyter-widgets/controls",
       "_model_module_version": "1.5.0",
       "_model_name": "ProgressStyleModel",
       "_view_count": null,
       "_view_module": "@jupyter-widgets/base",
       "_view_module_version": "1.2.0",
       "_view_name": "StyleView",
       "bar_color": null,
       "description_width": ""
      }
     },
     "3bd7a697abe844ecb141143eb06affb9": {
      "model_module": "@jupyter-widgets/base",
      "model_module_version": "1.2.0",
      "model_name": "LayoutModel",
      "state": {
       "_model_module": "@jupyter-widgets/base",
       "_model_module_version": "1.2.0",
       "_model_name": "LayoutModel",
       "_view_count": null,
       "_view_module": "@jupyter-widgets/base",
       "_view_module_version": "1.2.0",
       "_view_name": "LayoutView",
       "align_content": null,
       "align_items": null,
       "align_self": null,
       "border": null,
       "bottom": null,
       "display": null,
       "flex": null,
       "flex_flow": null,
       "grid_area": null,
       "grid_auto_columns": null,
       "grid_auto_flow": null,
       "grid_auto_rows": null,
       "grid_column": null,
       "grid_gap": null,
       "grid_row": null,
       "grid_template_areas": null,
       "grid_template_columns": null,
       "grid_template_rows": null,
       "height": null,
       "justify_content": null,
       "justify_items": null,
       "left": null,
       "margin": null,
       "max_height": null,
       "max_width": null,
       "min_height": null,
       "min_width": null,
       "object_fit": null,
       "object_position": null,
       "order": null,
       "overflow": null,
       "overflow_x": null,
       "overflow_y": null,
       "padding": null,
       "right": null,
       "top": null,
       "visibility": null,
       "width": null
      }
     },
     "3ed967c30d4b47c79cbd59ca8a871c29": {
      "model_module": "@jupyter-widgets/controls",
      "model_module_version": "1.5.0",
      "model_name": "DescriptionStyleModel",
      "state": {
       "_model_module": "@jupyter-widgets/controls",
       "_model_module_version": "1.5.0",
       "_model_name": "DescriptionStyleModel",
       "_view_count": null,
       "_view_module": "@jupyter-widgets/base",
       "_view_module_version": "1.2.0",
       "_view_name": "StyleView",
       "description_width": ""
      }
     },
     "3f0feaaff03b4ce8a17dba18ae383d02": {
      "model_module": "@jupyter-widgets/base",
      "model_module_version": "1.2.0",
      "model_name": "LayoutModel",
      "state": {
       "_model_module": "@jupyter-widgets/base",
       "_model_module_version": "1.2.0",
       "_model_name": "LayoutModel",
       "_view_count": null,
       "_view_module": "@jupyter-widgets/base",
       "_view_module_version": "1.2.0",
       "_view_name": "LayoutView",
       "align_content": null,
       "align_items": null,
       "align_self": null,
       "border": null,
       "bottom": null,
       "display": null,
       "flex": null,
       "flex_flow": null,
       "grid_area": null,
       "grid_auto_columns": null,
       "grid_auto_flow": null,
       "grid_auto_rows": null,
       "grid_column": null,
       "grid_gap": null,
       "grid_row": null,
       "grid_template_areas": null,
       "grid_template_columns": null,
       "grid_template_rows": null,
       "height": null,
       "justify_content": null,
       "justify_items": null,
       "left": null,
       "margin": null,
       "max_height": null,
       "max_width": null,
       "min_height": null,
       "min_width": null,
       "object_fit": null,
       "object_position": null,
       "order": null,
       "overflow": null,
       "overflow_x": null,
       "overflow_y": null,
       "padding": null,
       "right": null,
       "top": null,
       "visibility": null,
       "width": null
      }
     },
     "40e6c875e0cd43529e07b38e6e5036d3": {
      "model_module": "@jupyter-widgets/controls",
      "model_module_version": "1.5.0",
      "model_name": "HTMLModel",
      "state": {
       "_dom_classes": [],
       "_model_module": "@jupyter-widgets/controls",
       "_model_module_version": "1.5.0",
       "_model_name": "HTMLModel",
       "_view_count": null,
       "_view_module": "@jupyter-widgets/controls",
       "_view_module_version": "1.5.0",
       "_view_name": "HTMLView",
       "description": "",
       "description_tooltip": null,
       "layout": "IPY_MODEL_b4740ce56bce4479ae8845b7b897c82c",
       "placeholder": "​",
       "style": "IPY_MODEL_a81bbda9f56d488c9c9af01a906a9f08",
       "value": "100%"
      }
     },
     "411e2452760d422db711a1d21a2212a8": {
      "model_module": "@jupyter-widgets/base",
      "model_module_version": "1.2.0",
      "model_name": "LayoutModel",
      "state": {
       "_model_module": "@jupyter-widgets/base",
       "_model_module_version": "1.2.0",
       "_model_name": "LayoutModel",
       "_view_count": null,
       "_view_module": "@jupyter-widgets/base",
       "_view_module_version": "1.2.0",
       "_view_name": "LayoutView",
       "align_content": null,
       "align_items": null,
       "align_self": null,
       "border": null,
       "bottom": null,
       "display": null,
       "flex": null,
       "flex_flow": null,
       "grid_area": null,
       "grid_auto_columns": null,
       "grid_auto_flow": null,
       "grid_auto_rows": null,
       "grid_column": null,
       "grid_gap": null,
       "grid_row": null,
       "grid_template_areas": null,
       "grid_template_columns": null,
       "grid_template_rows": null,
       "height": null,
       "justify_content": null,
       "justify_items": null,
       "left": null,
       "margin": null,
       "max_height": null,
       "max_width": null,
       "min_height": null,
       "min_width": null,
       "object_fit": null,
       "object_position": null,
       "order": null,
       "overflow": null,
       "overflow_x": null,
       "overflow_y": null,
       "padding": null,
       "right": null,
       "top": null,
       "visibility": null,
       "width": null
      }
     },
     "4175a3e3a50a479eab251f4068617a07": {
      "model_module": "@jupyter-widgets/controls",
      "model_module_version": "1.5.0",
      "model_name": "DescriptionStyleModel",
      "state": {
       "_model_module": "@jupyter-widgets/controls",
       "_model_module_version": "1.5.0",
       "_model_name": "DescriptionStyleModel",
       "_view_count": null,
       "_view_module": "@jupyter-widgets/base",
       "_view_module_version": "1.2.0",
       "_view_name": "StyleView",
       "description_width": ""
      }
     },
     "4191cc034b7047999e172c7f1769be6b": {
      "model_module": "@jupyter-widgets/base",
      "model_module_version": "1.2.0",
      "model_name": "LayoutModel",
      "state": {
       "_model_module": "@jupyter-widgets/base",
       "_model_module_version": "1.2.0",
       "_model_name": "LayoutModel",
       "_view_count": null,
       "_view_module": "@jupyter-widgets/base",
       "_view_module_version": "1.2.0",
       "_view_name": "LayoutView",
       "align_content": null,
       "align_items": null,
       "align_self": null,
       "border": null,
       "bottom": null,
       "display": null,
       "flex": null,
       "flex_flow": null,
       "grid_area": null,
       "grid_auto_columns": null,
       "grid_auto_flow": null,
       "grid_auto_rows": null,
       "grid_column": null,
       "grid_gap": null,
       "grid_row": null,
       "grid_template_areas": null,
       "grid_template_columns": null,
       "grid_template_rows": null,
       "height": null,
       "justify_content": null,
       "justify_items": null,
       "left": null,
       "margin": null,
       "max_height": null,
       "max_width": null,
       "min_height": null,
       "min_width": null,
       "object_fit": null,
       "object_position": null,
       "order": null,
       "overflow": null,
       "overflow_x": null,
       "overflow_y": null,
       "padding": null,
       "right": null,
       "top": null,
       "visibility": null,
       "width": null
      }
     },
     "41a8a4db0d9f4b75bd00de12b772af1f": {
      "model_module": "@jupyter-widgets/base",
      "model_module_version": "1.2.0",
      "model_name": "LayoutModel",
      "state": {
       "_model_module": "@jupyter-widgets/base",
       "_model_module_version": "1.2.0",
       "_model_name": "LayoutModel",
       "_view_count": null,
       "_view_module": "@jupyter-widgets/base",
       "_view_module_version": "1.2.0",
       "_view_name": "LayoutView",
       "align_content": null,
       "align_items": null,
       "align_self": null,
       "border": null,
       "bottom": null,
       "display": null,
       "flex": null,
       "flex_flow": null,
       "grid_area": null,
       "grid_auto_columns": null,
       "grid_auto_flow": null,
       "grid_auto_rows": null,
       "grid_column": null,
       "grid_gap": null,
       "grid_row": null,
       "grid_template_areas": null,
       "grid_template_columns": null,
       "grid_template_rows": null,
       "height": null,
       "justify_content": null,
       "justify_items": null,
       "left": null,
       "margin": null,
       "max_height": null,
       "max_width": null,
       "min_height": null,
       "min_width": null,
       "object_fit": null,
       "object_position": null,
       "order": null,
       "overflow": null,
       "overflow_x": null,
       "overflow_y": null,
       "padding": null,
       "right": null,
       "top": null,
       "visibility": null,
       "width": null
      }
     },
     "41f73d3a48ae44be931f82c2f85224c9": {
      "model_module": "@jupyter-widgets/controls",
      "model_module_version": "1.5.0",
      "model_name": "DescriptionStyleModel",
      "state": {
       "_model_module": "@jupyter-widgets/controls",
       "_model_module_version": "1.5.0",
       "_model_name": "DescriptionStyleModel",
       "_view_count": null,
       "_view_module": "@jupyter-widgets/base",
       "_view_module_version": "1.2.0",
       "_view_name": "StyleView",
       "description_width": ""
      }
     },
     "43dcb20f475d4f17be2a211666275c7f": {
      "model_module": "@jupyter-widgets/base",
      "model_module_version": "1.2.0",
      "model_name": "LayoutModel",
      "state": {
       "_model_module": "@jupyter-widgets/base",
       "_model_module_version": "1.2.0",
       "_model_name": "LayoutModel",
       "_view_count": null,
       "_view_module": "@jupyter-widgets/base",
       "_view_module_version": "1.2.0",
       "_view_name": "LayoutView",
       "align_content": null,
       "align_items": null,
       "align_self": null,
       "border": null,
       "bottom": null,
       "display": null,
       "flex": null,
       "flex_flow": null,
       "grid_area": null,
       "grid_auto_columns": null,
       "grid_auto_flow": null,
       "grid_auto_rows": null,
       "grid_column": null,
       "grid_gap": null,
       "grid_row": null,
       "grid_template_areas": null,
       "grid_template_columns": null,
       "grid_template_rows": null,
       "height": null,
       "justify_content": null,
       "justify_items": null,
       "left": null,
       "margin": null,
       "max_height": null,
       "max_width": null,
       "min_height": null,
       "min_width": null,
       "object_fit": null,
       "object_position": null,
       "order": null,
       "overflow": null,
       "overflow_x": null,
       "overflow_y": null,
       "padding": null,
       "right": null,
       "top": null,
       "visibility": null,
       "width": null
      }
     },
     "4408de903e424b8aa259d727dc947e1b": {
      "model_module": "@jupyter-widgets/controls",
      "model_module_version": "1.5.0",
      "model_name": "DescriptionStyleModel",
      "state": {
       "_model_module": "@jupyter-widgets/controls",
       "_model_module_version": "1.5.0",
       "_model_name": "DescriptionStyleModel",
       "_view_count": null,
       "_view_module": "@jupyter-widgets/base",
       "_view_module_version": "1.2.0",
       "_view_name": "StyleView",
       "description_width": ""
      }
     },
     "442e073fdc5e4c28988c2a00663048bd": {
      "model_module": "@jupyter-widgets/base",
      "model_module_version": "1.2.0",
      "model_name": "LayoutModel",
      "state": {
       "_model_module": "@jupyter-widgets/base",
       "_model_module_version": "1.2.0",
       "_model_name": "LayoutModel",
       "_view_count": null,
       "_view_module": "@jupyter-widgets/base",
       "_view_module_version": "1.2.0",
       "_view_name": "LayoutView",
       "align_content": null,
       "align_items": null,
       "align_self": null,
       "border": null,
       "bottom": null,
       "display": null,
       "flex": null,
       "flex_flow": null,
       "grid_area": null,
       "grid_auto_columns": null,
       "grid_auto_flow": null,
       "grid_auto_rows": null,
       "grid_column": null,
       "grid_gap": null,
       "grid_row": null,
       "grid_template_areas": null,
       "grid_template_columns": null,
       "grid_template_rows": null,
       "height": null,
       "justify_content": null,
       "justify_items": null,
       "left": null,
       "margin": null,
       "max_height": null,
       "max_width": null,
       "min_height": null,
       "min_width": null,
       "object_fit": null,
       "object_position": null,
       "order": null,
       "overflow": null,
       "overflow_x": null,
       "overflow_y": null,
       "padding": null,
       "right": null,
       "top": null,
       "visibility": null,
       "width": null
      }
     },
     "4448d84cce9249cb99276c203b831dc7": {
      "model_module": "@jupyter-widgets/controls",
      "model_module_version": "1.5.0",
      "model_name": "HBoxModel",
      "state": {
       "_dom_classes": [],
       "_model_module": "@jupyter-widgets/controls",
       "_model_module_version": "1.5.0",
       "_model_name": "HBoxModel",
       "_view_count": null,
       "_view_module": "@jupyter-widgets/controls",
       "_view_module_version": "1.5.0",
       "_view_name": "HBoxView",
       "box_style": "",
       "children": [
        "IPY_MODEL_79d7b1120d57405ca9e488c4d8009915",
        "IPY_MODEL_7d6a0a8b96554de4a54daa61548ed86e",
        "IPY_MODEL_bc007acedda343bcb7be2aa3e2ac0220"
       ],
       "layout": "IPY_MODEL_c14adfca0fc145f7aa320920abb2e933"
      }
     },
     "4750dac0dc6444d589efc770f7ba7dfe": {
      "model_module": "@jupyter-widgets/controls",
      "model_module_version": "1.5.0",
      "model_name": "HBoxModel",
      "state": {
       "_dom_classes": [],
       "_model_module": "@jupyter-widgets/controls",
       "_model_module_version": "1.5.0",
       "_model_name": "HBoxModel",
       "_view_count": null,
       "_view_module": "@jupyter-widgets/controls",
       "_view_module_version": "1.5.0",
       "_view_name": "HBoxView",
       "box_style": "",
       "children": [
        "IPY_MODEL_0964cf88c59340e69d628ae898a260f0",
        "IPY_MODEL_a368ed82de1d4b5e839019a38e53ef47",
        "IPY_MODEL_067b97133d304eb7ba5a611f0d85f598"
       ],
       "layout": "IPY_MODEL_701f4f17f4604243aa60f2341a7738be"
      }
     },
     "4887d0c74956412d8183d6ad2adf8919": {
      "model_module": "@jupyter-widgets/controls",
      "model_module_version": "1.5.0",
      "model_name": "DescriptionStyleModel",
      "state": {
       "_model_module": "@jupyter-widgets/controls",
       "_model_module_version": "1.5.0",
       "_model_name": "DescriptionStyleModel",
       "_view_count": null,
       "_view_module": "@jupyter-widgets/base",
       "_view_module_version": "1.2.0",
       "_view_name": "StyleView",
       "description_width": ""
      }
     },
     "49c5b34e9991427fbdb2fe96218b6048": {
      "model_module": "@jupyter-widgets/base",
      "model_module_version": "1.2.0",
      "model_name": "LayoutModel",
      "state": {
       "_model_module": "@jupyter-widgets/base",
       "_model_module_version": "1.2.0",
       "_model_name": "LayoutModel",
       "_view_count": null,
       "_view_module": "@jupyter-widgets/base",
       "_view_module_version": "1.2.0",
       "_view_name": "LayoutView",
       "align_content": null,
       "align_items": null,
       "align_self": null,
       "border": null,
       "bottom": null,
       "display": null,
       "flex": null,
       "flex_flow": null,
       "grid_area": null,
       "grid_auto_columns": null,
       "grid_auto_flow": null,
       "grid_auto_rows": null,
       "grid_column": null,
       "grid_gap": null,
       "grid_row": null,
       "grid_template_areas": null,
       "grid_template_columns": null,
       "grid_template_rows": null,
       "height": null,
       "justify_content": null,
       "justify_items": null,
       "left": null,
       "margin": null,
       "max_height": null,
       "max_width": null,
       "min_height": null,
       "min_width": null,
       "object_fit": null,
       "object_position": null,
       "order": null,
       "overflow": null,
       "overflow_x": null,
       "overflow_y": null,
       "padding": null,
       "right": null,
       "top": null,
       "visibility": null,
       "width": null
      }
     },
     "4a02ddebfd7f4c7191732fb8aed10d41": {
      "model_module": "@jupyter-widgets/controls",
      "model_module_version": "1.5.0",
      "model_name": "HTMLModel",
      "state": {
       "_dom_classes": [],
       "_model_module": "@jupyter-widgets/controls",
       "_model_module_version": "1.5.0",
       "_model_name": "HTMLModel",
       "_view_count": null,
       "_view_module": "@jupyter-widgets/controls",
       "_view_module_version": "1.5.0",
       "_view_name": "HTMLView",
       "description": "",
       "description_tooltip": null,
       "layout": "IPY_MODEL_8c9053a0672d428498f5d948a6996d89",
       "placeholder": "​",
       "style": "IPY_MODEL_f0e1f575b2754f2981772d026a9c3abf",
       "value": " 1000/1000 [02:51&lt;00:00,  7.88it/s]"
      }
     },
     "4ad355e82dea4652b0d6d0c15953a5b9": {
      "model_module": "@jupyter-widgets/controls",
      "model_module_version": "1.5.0",
      "model_name": "HTMLModel",
      "state": {
       "_dom_classes": [],
       "_model_module": "@jupyter-widgets/controls",
       "_model_module_version": "1.5.0",
       "_model_name": "HTMLModel",
       "_view_count": null,
       "_view_module": "@jupyter-widgets/controls",
       "_view_module_version": "1.5.0",
       "_view_name": "HTMLView",
       "description": "",
       "description_tooltip": null,
       "layout": "IPY_MODEL_f1c0c8b58f4f4a04bc8abcbe5f359fce",
       "placeholder": "​",
       "style": "IPY_MODEL_6821f4fd39eb454fb4b63ceec4496ba2",
       "value": " 1000/1000 [1:27:07&lt;00:00,  4.98s/it]"
      }
     },
     "4b5eb52034fe4222b7f4f8428da2742b": {
      "model_module": "@jupyter-widgets/controls",
      "model_module_version": "1.5.0",
      "model_name": "ProgressStyleModel",
      "state": {
       "_model_module": "@jupyter-widgets/controls",
       "_model_module_version": "1.5.0",
       "_model_name": "ProgressStyleModel",
       "_view_count": null,
       "_view_module": "@jupyter-widgets/base",
       "_view_module_version": "1.2.0",
       "_view_name": "StyleView",
       "bar_color": null,
       "description_width": ""
      }
     },
     "4b7f97e7763f488e943c6129c4ee7e79": {
      "model_module": "@jupyter-widgets/base",
      "model_module_version": "1.2.0",
      "model_name": "LayoutModel",
      "state": {
       "_model_module": "@jupyter-widgets/base",
       "_model_module_version": "1.2.0",
       "_model_name": "LayoutModel",
       "_view_count": null,
       "_view_module": "@jupyter-widgets/base",
       "_view_module_version": "1.2.0",
       "_view_name": "LayoutView",
       "align_content": null,
       "align_items": null,
       "align_self": null,
       "border": null,
       "bottom": null,
       "display": null,
       "flex": null,
       "flex_flow": null,
       "grid_area": null,
       "grid_auto_columns": null,
       "grid_auto_flow": null,
       "grid_auto_rows": null,
       "grid_column": null,
       "grid_gap": null,
       "grid_row": null,
       "grid_template_areas": null,
       "grid_template_columns": null,
       "grid_template_rows": null,
       "height": null,
       "justify_content": null,
       "justify_items": null,
       "left": null,
       "margin": null,
       "max_height": null,
       "max_width": null,
       "min_height": null,
       "min_width": null,
       "object_fit": null,
       "object_position": null,
       "order": null,
       "overflow": null,
       "overflow_x": null,
       "overflow_y": null,
       "padding": null,
       "right": null,
       "top": null,
       "visibility": null,
       "width": null
      }
     },
     "4d1c4b99d3404e4aacdf7bad7651fa93": {
      "model_module": "@jupyter-widgets/base",
      "model_module_version": "1.2.0",
      "model_name": "LayoutModel",
      "state": {
       "_model_module": "@jupyter-widgets/base",
       "_model_module_version": "1.2.0",
       "_model_name": "LayoutModel",
       "_view_count": null,
       "_view_module": "@jupyter-widgets/base",
       "_view_module_version": "1.2.0",
       "_view_name": "LayoutView",
       "align_content": null,
       "align_items": null,
       "align_self": null,
       "border": null,
       "bottom": null,
       "display": null,
       "flex": null,
       "flex_flow": null,
       "grid_area": null,
       "grid_auto_columns": null,
       "grid_auto_flow": null,
       "grid_auto_rows": null,
       "grid_column": null,
       "grid_gap": null,
       "grid_row": null,
       "grid_template_areas": null,
       "grid_template_columns": null,
       "grid_template_rows": null,
       "height": null,
       "justify_content": null,
       "justify_items": null,
       "left": null,
       "margin": null,
       "max_height": null,
       "max_width": null,
       "min_height": null,
       "min_width": null,
       "object_fit": null,
       "object_position": null,
       "order": null,
       "overflow": null,
       "overflow_x": null,
       "overflow_y": null,
       "padding": null,
       "right": null,
       "top": null,
       "visibility": null,
       "width": null
      }
     },
     "4de01ee8a30844d2977bce4299d955d0": {
      "model_module": "@jupyter-widgets/base",
      "model_module_version": "1.2.0",
      "model_name": "LayoutModel",
      "state": {
       "_model_module": "@jupyter-widgets/base",
       "_model_module_version": "1.2.0",
       "_model_name": "LayoutModel",
       "_view_count": null,
       "_view_module": "@jupyter-widgets/base",
       "_view_module_version": "1.2.0",
       "_view_name": "LayoutView",
       "align_content": null,
       "align_items": null,
       "align_self": null,
       "border": null,
       "bottom": null,
       "display": null,
       "flex": null,
       "flex_flow": null,
       "grid_area": null,
       "grid_auto_columns": null,
       "grid_auto_flow": null,
       "grid_auto_rows": null,
       "grid_column": null,
       "grid_gap": null,
       "grid_row": null,
       "grid_template_areas": null,
       "grid_template_columns": null,
       "grid_template_rows": null,
       "height": null,
       "justify_content": null,
       "justify_items": null,
       "left": null,
       "margin": null,
       "max_height": null,
       "max_width": null,
       "min_height": null,
       "min_width": null,
       "object_fit": null,
       "object_position": null,
       "order": null,
       "overflow": null,
       "overflow_x": null,
       "overflow_y": null,
       "padding": null,
       "right": null,
       "top": null,
       "visibility": null,
       "width": null
      }
     },
     "4df775cfcece4321801073717fc5db7c": {
      "model_module": "@jupyter-widgets/controls",
      "model_module_version": "1.5.0",
      "model_name": "DescriptionStyleModel",
      "state": {
       "_model_module": "@jupyter-widgets/controls",
       "_model_module_version": "1.5.0",
       "_model_name": "DescriptionStyleModel",
       "_view_count": null,
       "_view_module": "@jupyter-widgets/base",
       "_view_module_version": "1.2.0",
       "_view_name": "StyleView",
       "description_width": ""
      }
     },
     "4eaca219a36c473fadd0726617fb7998": {
      "model_module": "@jupyter-widgets/controls",
      "model_module_version": "1.5.0",
      "model_name": "DescriptionStyleModel",
      "state": {
       "_model_module": "@jupyter-widgets/controls",
       "_model_module_version": "1.5.0",
       "_model_name": "DescriptionStyleModel",
       "_view_count": null,
       "_view_module": "@jupyter-widgets/base",
       "_view_module_version": "1.2.0",
       "_view_name": "StyleView",
       "description_width": ""
      }
     },
     "50451d1f76cb4ababf261e13e7880e11": {
      "model_module": "@jupyter-widgets/controls",
      "model_module_version": "1.5.0",
      "model_name": "ProgressStyleModel",
      "state": {
       "_model_module": "@jupyter-widgets/controls",
       "_model_module_version": "1.5.0",
       "_model_name": "ProgressStyleModel",
       "_view_count": null,
       "_view_module": "@jupyter-widgets/base",
       "_view_module_version": "1.2.0",
       "_view_name": "StyleView",
       "bar_color": null,
       "description_width": ""
      }
     },
     "5065960f6635427f81090fa041d861af": {
      "model_module": "@jupyter-widgets/controls",
      "model_module_version": "1.5.0",
      "model_name": "DescriptionStyleModel",
      "state": {
       "_model_module": "@jupyter-widgets/controls",
       "_model_module_version": "1.5.0",
       "_model_name": "DescriptionStyleModel",
       "_view_count": null,
       "_view_module": "@jupyter-widgets/base",
       "_view_module_version": "1.2.0",
       "_view_name": "StyleView",
       "description_width": ""
      }
     },
     "50a91b628b4141239a3bae8195c3718b": {
      "model_module": "@jupyter-widgets/controls",
      "model_module_version": "1.5.0",
      "model_name": "ProgressStyleModel",
      "state": {
       "_model_module": "@jupyter-widgets/controls",
       "_model_module_version": "1.5.0",
       "_model_name": "ProgressStyleModel",
       "_view_count": null,
       "_view_module": "@jupyter-widgets/base",
       "_view_module_version": "1.2.0",
       "_view_name": "StyleView",
       "bar_color": null,
       "description_width": ""
      }
     },
     "510511b45e6a4666a92e610dfcce6efb": {
      "model_module": "@jupyter-widgets/controls",
      "model_module_version": "1.5.0",
      "model_name": "HTMLModel",
      "state": {
       "_dom_classes": [],
       "_model_module": "@jupyter-widgets/controls",
       "_model_module_version": "1.5.0",
       "_model_name": "HTMLModel",
       "_view_count": null,
       "_view_module": "@jupyter-widgets/controls",
       "_view_module_version": "1.5.0",
       "_view_name": "HTMLView",
       "description": "",
       "description_tooltip": null,
       "layout": "IPY_MODEL_1d68aef0e65646c5a48b18fd174801a1",
       "placeholder": "​",
       "style": "IPY_MODEL_767b4710aefd4ed4a4aa626badd07176",
       "value": " 1000/1000 [29:25&lt;00:00,  1.82s/it]"
      }
     },
     "5110d824aa01415f9d54ec5659188a38": {
      "model_module": "@jupyter-widgets/controls",
      "model_module_version": "1.5.0",
      "model_name": "ProgressStyleModel",
      "state": {
       "_model_module": "@jupyter-widgets/controls",
       "_model_module_version": "1.5.0",
       "_model_name": "ProgressStyleModel",
       "_view_count": null,
       "_view_module": "@jupyter-widgets/base",
       "_view_module_version": "1.2.0",
       "_view_name": "StyleView",
       "bar_color": null,
       "description_width": ""
      }
     },
     "51713fecc86e45fb89364eca0c17d135": {
      "model_module": "@jupyter-widgets/controls",
      "model_module_version": "1.5.0",
      "model_name": "ProgressStyleModel",
      "state": {
       "_model_module": "@jupyter-widgets/controls",
       "_model_module_version": "1.5.0",
       "_model_name": "ProgressStyleModel",
       "_view_count": null,
       "_view_module": "@jupyter-widgets/base",
       "_view_module_version": "1.2.0",
       "_view_name": "StyleView",
       "bar_color": null,
       "description_width": ""
      }
     },
     "51d13045a5b54c02aa8d35929f37ed8d": {
      "model_module": "@jupyter-widgets/base",
      "model_module_version": "1.2.0",
      "model_name": "LayoutModel",
      "state": {
       "_model_module": "@jupyter-widgets/base",
       "_model_module_version": "1.2.0",
       "_model_name": "LayoutModel",
       "_view_count": null,
       "_view_module": "@jupyter-widgets/base",
       "_view_module_version": "1.2.0",
       "_view_name": "LayoutView",
       "align_content": null,
       "align_items": null,
       "align_self": null,
       "border": null,
       "bottom": null,
       "display": null,
       "flex": null,
       "flex_flow": null,
       "grid_area": null,
       "grid_auto_columns": null,
       "grid_auto_flow": null,
       "grid_auto_rows": null,
       "grid_column": null,
       "grid_gap": null,
       "grid_row": null,
       "grid_template_areas": null,
       "grid_template_columns": null,
       "grid_template_rows": null,
       "height": null,
       "justify_content": null,
       "justify_items": null,
       "left": null,
       "margin": null,
       "max_height": null,
       "max_width": null,
       "min_height": null,
       "min_width": null,
       "object_fit": null,
       "object_position": null,
       "order": null,
       "overflow": null,
       "overflow_x": null,
       "overflow_y": null,
       "padding": null,
       "right": null,
       "top": null,
       "visibility": null,
       "width": null
      }
     },
     "55a5e5da745741e381c903063a6b23df": {
      "model_module": "@jupyter-widgets/controls",
      "model_module_version": "1.5.0",
      "model_name": "DescriptionStyleModel",
      "state": {
       "_model_module": "@jupyter-widgets/controls",
       "_model_module_version": "1.5.0",
       "_model_name": "DescriptionStyleModel",
       "_view_count": null,
       "_view_module": "@jupyter-widgets/base",
       "_view_module_version": "1.2.0",
       "_view_name": "StyleView",
       "description_width": ""
      }
     },
     "5650f38a3f034e90aa66de87ea637bf5": {
      "model_module": "@jupyter-widgets/base",
      "model_module_version": "1.2.0",
      "model_name": "LayoutModel",
      "state": {
       "_model_module": "@jupyter-widgets/base",
       "_model_module_version": "1.2.0",
       "_model_name": "LayoutModel",
       "_view_count": null,
       "_view_module": "@jupyter-widgets/base",
       "_view_module_version": "1.2.0",
       "_view_name": "LayoutView",
       "align_content": null,
       "align_items": null,
       "align_self": null,
       "border": null,
       "bottom": null,
       "display": null,
       "flex": null,
       "flex_flow": null,
       "grid_area": null,
       "grid_auto_columns": null,
       "grid_auto_flow": null,
       "grid_auto_rows": null,
       "grid_column": null,
       "grid_gap": null,
       "grid_row": null,
       "grid_template_areas": null,
       "grid_template_columns": null,
       "grid_template_rows": null,
       "height": null,
       "justify_content": null,
       "justify_items": null,
       "left": null,
       "margin": null,
       "max_height": null,
       "max_width": null,
       "min_height": null,
       "min_width": null,
       "object_fit": null,
       "object_position": null,
       "order": null,
       "overflow": null,
       "overflow_x": null,
       "overflow_y": null,
       "padding": null,
       "right": null,
       "top": null,
       "visibility": null,
       "width": null
      }
     },
     "5659e3f42a3d4f37be86e4b72aa99764": {
      "model_module": "@jupyter-widgets/base",
      "model_module_version": "1.2.0",
      "model_name": "LayoutModel",
      "state": {
       "_model_module": "@jupyter-widgets/base",
       "_model_module_version": "1.2.0",
       "_model_name": "LayoutModel",
       "_view_count": null,
       "_view_module": "@jupyter-widgets/base",
       "_view_module_version": "1.2.0",
       "_view_name": "LayoutView",
       "align_content": null,
       "align_items": null,
       "align_self": null,
       "border": null,
       "bottom": null,
       "display": null,
       "flex": null,
       "flex_flow": null,
       "grid_area": null,
       "grid_auto_columns": null,
       "grid_auto_flow": null,
       "grid_auto_rows": null,
       "grid_column": null,
       "grid_gap": null,
       "grid_row": null,
       "grid_template_areas": null,
       "grid_template_columns": null,
       "grid_template_rows": null,
       "height": null,
       "justify_content": null,
       "justify_items": null,
       "left": null,
       "margin": null,
       "max_height": null,
       "max_width": null,
       "min_height": null,
       "min_width": null,
       "object_fit": null,
       "object_position": null,
       "order": null,
       "overflow": null,
       "overflow_x": null,
       "overflow_y": null,
       "padding": null,
       "right": null,
       "top": null,
       "visibility": null,
       "width": null
      }
     },
     "56d9ea14248b4950985262d720f3418a": {
      "model_module": "@jupyter-widgets/controls",
      "model_module_version": "1.5.0",
      "model_name": "DescriptionStyleModel",
      "state": {
       "_model_module": "@jupyter-widgets/controls",
       "_model_module_version": "1.5.0",
       "_model_name": "DescriptionStyleModel",
       "_view_count": null,
       "_view_module": "@jupyter-widgets/base",
       "_view_module_version": "1.2.0",
       "_view_name": "StyleView",
       "description_width": ""
      }
     },
     "57bf81a790954b6c9d1a18a0193d00cf": {
      "model_module": "@jupyter-widgets/base",
      "model_module_version": "1.2.0",
      "model_name": "LayoutModel",
      "state": {
       "_model_module": "@jupyter-widgets/base",
       "_model_module_version": "1.2.0",
       "_model_name": "LayoutModel",
       "_view_count": null,
       "_view_module": "@jupyter-widgets/base",
       "_view_module_version": "1.2.0",
       "_view_name": "LayoutView",
       "align_content": null,
       "align_items": null,
       "align_self": null,
       "border": null,
       "bottom": null,
       "display": null,
       "flex": null,
       "flex_flow": null,
       "grid_area": null,
       "grid_auto_columns": null,
       "grid_auto_flow": null,
       "grid_auto_rows": null,
       "grid_column": null,
       "grid_gap": null,
       "grid_row": null,
       "grid_template_areas": null,
       "grid_template_columns": null,
       "grid_template_rows": null,
       "height": null,
       "justify_content": null,
       "justify_items": null,
       "left": null,
       "margin": null,
       "max_height": null,
       "max_width": null,
       "min_height": null,
       "min_width": null,
       "object_fit": null,
       "object_position": null,
       "order": null,
       "overflow": null,
       "overflow_x": null,
       "overflow_y": null,
       "padding": null,
       "right": null,
       "top": null,
       "visibility": null,
       "width": null
      }
     },
     "59013386ae11421c98eba94b0c1b88b9": {
      "model_module": "@jupyter-widgets/controls",
      "model_module_version": "1.5.0",
      "model_name": "HTMLModel",
      "state": {
       "_dom_classes": [],
       "_model_module": "@jupyter-widgets/controls",
       "_model_module_version": "1.5.0",
       "_model_name": "HTMLModel",
       "_view_count": null,
       "_view_module": "@jupyter-widgets/controls",
       "_view_module_version": "1.5.0",
       "_view_name": "HTMLView",
       "description": "",
       "description_tooltip": null,
       "layout": "IPY_MODEL_deb24ccdf19b4e67b6c5c725d310a79b",
       "placeholder": "​",
       "style": "IPY_MODEL_38d30a1fe5f644168720c602a23f2e14",
       "value": "100%"
      }
     },
     "5905ecee53fc441b99dc22e9224370bf": {
      "model_module": "@jupyter-widgets/controls",
      "model_module_version": "1.5.0",
      "model_name": "HTMLModel",
      "state": {
       "_dom_classes": [],
       "_model_module": "@jupyter-widgets/controls",
       "_model_module_version": "1.5.0",
       "_model_name": "HTMLModel",
       "_view_count": null,
       "_view_module": "@jupyter-widgets/controls",
       "_view_module_version": "1.5.0",
       "_view_name": "HTMLView",
       "description": "",
       "description_tooltip": null,
       "layout": "IPY_MODEL_262b2c2944554801abb34b817e270294",
       "placeholder": "​",
       "style": "IPY_MODEL_4175a3e3a50a479eab251f4068617a07",
       "value": " 1000/1000 [18:16&lt;00:00,  1.05s/it]"
      }
     },
     "5a2df603d2a1458eba130dc1af985e14": {
      "model_module": "@jupyter-widgets/controls",
      "model_module_version": "1.5.0",
      "model_name": "DescriptionStyleModel",
      "state": {
       "_model_module": "@jupyter-widgets/controls",
       "_model_module_version": "1.5.0",
       "_model_name": "DescriptionStyleModel",
       "_view_count": null,
       "_view_module": "@jupyter-widgets/base",
       "_view_module_version": "1.2.0",
       "_view_name": "StyleView",
       "description_width": ""
      }
     },
     "5a6d4655592441a4a614565662550d6f": {
      "model_module": "@jupyter-widgets/controls",
      "model_module_version": "1.5.0",
      "model_name": "HBoxModel",
      "state": {
       "_dom_classes": [],
       "_model_module": "@jupyter-widgets/controls",
       "_model_module_version": "1.5.0",
       "_model_name": "HBoxModel",
       "_view_count": null,
       "_view_module": "@jupyter-widgets/controls",
       "_view_module_version": "1.5.0",
       "_view_name": "HBoxView",
       "box_style": "",
       "children": [
        "IPY_MODEL_cfba3a4e4f1040b19199a87ec22cafc9",
        "IPY_MODEL_98e794a11d3f49e1bd474c2e47382ca1",
        "IPY_MODEL_a3f3c6979a284f988073bcaf396bb76e"
       ],
       "layout": "IPY_MODEL_3f0feaaff03b4ce8a17dba18ae383d02"
      }
     },
     "5c9b0622ea154ac3a77586c46fc4612a": {
      "model_module": "@jupyter-widgets/base",
      "model_module_version": "1.2.0",
      "model_name": "LayoutModel",
      "state": {
       "_model_module": "@jupyter-widgets/base",
       "_model_module_version": "1.2.0",
       "_model_name": "LayoutModel",
       "_view_count": null,
       "_view_module": "@jupyter-widgets/base",
       "_view_module_version": "1.2.0",
       "_view_name": "LayoutView",
       "align_content": null,
       "align_items": null,
       "align_self": null,
       "border": null,
       "bottom": null,
       "display": null,
       "flex": null,
       "flex_flow": null,
       "grid_area": null,
       "grid_auto_columns": null,
       "grid_auto_flow": null,
       "grid_auto_rows": null,
       "grid_column": null,
       "grid_gap": null,
       "grid_row": null,
       "grid_template_areas": null,
       "grid_template_columns": null,
       "grid_template_rows": null,
       "height": null,
       "justify_content": null,
       "justify_items": null,
       "left": null,
       "margin": null,
       "max_height": null,
       "max_width": null,
       "min_height": null,
       "min_width": null,
       "object_fit": null,
       "object_position": null,
       "order": null,
       "overflow": null,
       "overflow_x": null,
       "overflow_y": null,
       "padding": null,
       "right": null,
       "top": null,
       "visibility": null,
       "width": null
      }
     },
     "5cbcc14a0c5442daa6cfe4b463947d46": {
      "model_module": "@jupyter-widgets/controls",
      "model_module_version": "1.5.0",
      "model_name": "ProgressStyleModel",
      "state": {
       "_model_module": "@jupyter-widgets/controls",
       "_model_module_version": "1.5.0",
       "_model_name": "ProgressStyleModel",
       "_view_count": null,
       "_view_module": "@jupyter-widgets/base",
       "_view_module_version": "1.2.0",
       "_view_name": "StyleView",
       "bar_color": null,
       "description_width": ""
      }
     },
     "5d76687272844ce4ac472b7c8ac1d280": {
      "model_module": "@jupyter-widgets/controls",
      "model_module_version": "1.5.0",
      "model_name": "HBoxModel",
      "state": {
       "_dom_classes": [],
       "_model_module": "@jupyter-widgets/controls",
       "_model_module_version": "1.5.0",
       "_model_name": "HBoxModel",
       "_view_count": null,
       "_view_module": "@jupyter-widgets/controls",
       "_view_module_version": "1.5.0",
       "_view_name": "HBoxView",
       "box_style": "",
       "children": [
        "IPY_MODEL_0d39a2b242e94877b98687d4302eef30",
        "IPY_MODEL_d0ccfee0052944feb708853227514e13",
        "IPY_MODEL_b651aff46a2e4d8b9fdbce59b977f632"
       ],
       "layout": "IPY_MODEL_a2422f95e3fc49bfb04acddea6bff6e8"
      }
     },
     "5ea3df5a31c8422095de15ab6bf2a79d": {
      "model_module": "@jupyter-widgets/controls",
      "model_module_version": "1.5.0",
      "model_name": "HTMLModel",
      "state": {
       "_dom_classes": [],
       "_model_module": "@jupyter-widgets/controls",
       "_model_module_version": "1.5.0",
       "_model_name": "HTMLModel",
       "_view_count": null,
       "_view_module": "@jupyter-widgets/controls",
       "_view_module_version": "1.5.0",
       "_view_name": "HTMLView",
       "description": "",
       "description_tooltip": null,
       "layout": "IPY_MODEL_dbf4d7966ade486183c5eb05f050657a",
       "placeholder": "​",
       "style": "IPY_MODEL_ac7d2134d506417d94c1a9caca52f630",
       "value": "100%"
      }
     },
     "5eb79e9799a84652b95adc5f59956055": {
      "model_module": "@jupyter-widgets/controls",
      "model_module_version": "1.5.0",
      "model_name": "HBoxModel",
      "state": {
       "_dom_classes": [],
       "_model_module": "@jupyter-widgets/controls",
       "_model_module_version": "1.5.0",
       "_model_name": "HBoxModel",
       "_view_count": null,
       "_view_module": "@jupyter-widgets/controls",
       "_view_module_version": "1.5.0",
       "_view_name": "HBoxView",
       "box_style": "",
       "children": [
        "IPY_MODEL_d937a10f8d4544cb90b30f608f0efd25",
        "IPY_MODEL_8f1cfbc4aac84c3aadab842f451da0fd",
        "IPY_MODEL_a8510c1d47184d2c859b8d1d2a7da079"
       ],
       "layout": "IPY_MODEL_ab5e1e78f2664a04807721298b9905bc"
      }
     },
     "5f33fe791047418ba2978efbe38bd840": {
      "model_module": "@jupyter-widgets/controls",
      "model_module_version": "1.5.0",
      "model_name": "DescriptionStyleModel",
      "state": {
       "_model_module": "@jupyter-widgets/controls",
       "_model_module_version": "1.5.0",
       "_model_name": "DescriptionStyleModel",
       "_view_count": null,
       "_view_module": "@jupyter-widgets/base",
       "_view_module_version": "1.2.0",
       "_view_name": "StyleView",
       "description_width": ""
      }
     },
     "5f4481ada7274cfaa6c343506467ae60": {
      "model_module": "@jupyter-widgets/controls",
      "model_module_version": "1.5.0",
      "model_name": "HBoxModel",
      "state": {
       "_dom_classes": [],
       "_model_module": "@jupyter-widgets/controls",
       "_model_module_version": "1.5.0",
       "_model_name": "HBoxModel",
       "_view_count": null,
       "_view_module": "@jupyter-widgets/controls",
       "_view_module_version": "1.5.0",
       "_view_name": "HBoxView",
       "box_style": "",
       "children": [
        "IPY_MODEL_cc48593764754763bd3e1c46856cf15d",
        "IPY_MODEL_39b4838e7cc24ccdae794a8a6108927e",
        "IPY_MODEL_be213efc3a5f482698de80fca9d4887e"
       ],
       "layout": "IPY_MODEL_6701796c6c4349c680e97f6ed1879063"
      }
     },
     "5f60e06b0e08428d90c443e222afb514": {
      "model_module": "@jupyter-widgets/controls",
      "model_module_version": "1.5.0",
      "model_name": "HTMLModel",
      "state": {
       "_dom_classes": [],
       "_model_module": "@jupyter-widgets/controls",
       "_model_module_version": "1.5.0",
       "_model_name": "HTMLModel",
       "_view_count": null,
       "_view_module": "@jupyter-widgets/controls",
       "_view_module_version": "1.5.0",
       "_view_name": "HTMLView",
       "description": "",
       "description_tooltip": null,
       "layout": "IPY_MODEL_62b721fe9fe14a23a9b479eb0b064a7b",
       "placeholder": "​",
       "style": "IPY_MODEL_c3692a3cd6aa47e98b696c5e8b4ec54d",
       "value": "100%"
      }
     },
     "5fd28cb6ce6d46b8abdc1e2e4f0f6594": {
      "model_module": "@jupyter-widgets/controls",
      "model_module_version": "1.5.0",
      "model_name": "DescriptionStyleModel",
      "state": {
       "_model_module": "@jupyter-widgets/controls",
       "_model_module_version": "1.5.0",
       "_model_name": "DescriptionStyleModel",
       "_view_count": null,
       "_view_module": "@jupyter-widgets/base",
       "_view_module_version": "1.2.0",
       "_view_name": "StyleView",
       "description_width": ""
      }
     },
     "602df2ee0f074658b879641e69d2b0af": {
      "model_module": "@jupyter-widgets/controls",
      "model_module_version": "1.5.0",
      "model_name": "ProgressStyleModel",
      "state": {
       "_model_module": "@jupyter-widgets/controls",
       "_model_module_version": "1.5.0",
       "_model_name": "ProgressStyleModel",
       "_view_count": null,
       "_view_module": "@jupyter-widgets/base",
       "_view_module_version": "1.2.0",
       "_view_name": "StyleView",
       "bar_color": null,
       "description_width": ""
      }
     },
     "61800acc24de4a3393b9ad3aec062eee": {
      "model_module": "@jupyter-widgets/controls",
      "model_module_version": "1.5.0",
      "model_name": "HTMLModel",
      "state": {
       "_dom_classes": [],
       "_model_module": "@jupyter-widgets/controls",
       "_model_module_version": "1.5.0",
       "_model_name": "HTMLModel",
       "_view_count": null,
       "_view_module": "@jupyter-widgets/controls",
       "_view_module_version": "1.5.0",
       "_view_name": "HTMLView",
       "description": "",
       "description_tooltip": null,
       "layout": "IPY_MODEL_96297d027ee14692ae7ad9699f82ab77",
       "placeholder": "​",
       "style": "IPY_MODEL_21d0b2e6dc2643719315e39ac6974b4c",
       "value": " 1000/1000 [04:12&lt;00:00,  4.26it/s]"
      }
     },
     "61d525b8475c4fcaac988e7586c79433": {
      "model_module": "@jupyter-widgets/base",
      "model_module_version": "1.2.0",
      "model_name": "LayoutModel",
      "state": {
       "_model_module": "@jupyter-widgets/base",
       "_model_module_version": "1.2.0",
       "_model_name": "LayoutModel",
       "_view_count": null,
       "_view_module": "@jupyter-widgets/base",
       "_view_module_version": "1.2.0",
       "_view_name": "LayoutView",
       "align_content": null,
       "align_items": null,
       "align_self": null,
       "border": null,
       "bottom": null,
       "display": null,
       "flex": null,
       "flex_flow": null,
       "grid_area": null,
       "grid_auto_columns": null,
       "grid_auto_flow": null,
       "grid_auto_rows": null,
       "grid_column": null,
       "grid_gap": null,
       "grid_row": null,
       "grid_template_areas": null,
       "grid_template_columns": null,
       "grid_template_rows": null,
       "height": null,
       "justify_content": null,
       "justify_items": null,
       "left": null,
       "margin": null,
       "max_height": null,
       "max_width": null,
       "min_height": null,
       "min_width": null,
       "object_fit": null,
       "object_position": null,
       "order": null,
       "overflow": null,
       "overflow_x": null,
       "overflow_y": null,
       "padding": null,
       "right": null,
       "top": null,
       "visibility": null,
       "width": null
      }
     },
     "61ee19d4b5094be180e39c86ff8cb8f3": {
      "model_module": "@jupyter-widgets/controls",
      "model_module_version": "1.5.0",
      "model_name": "FloatProgressModel",
      "state": {
       "_dom_classes": [],
       "_model_module": "@jupyter-widgets/controls",
       "_model_module_version": "1.5.0",
       "_model_name": "FloatProgressModel",
       "_view_count": null,
       "_view_module": "@jupyter-widgets/controls",
       "_view_module_version": "1.5.0",
       "_view_name": "ProgressView",
       "bar_style": "success",
       "description": "",
       "description_tooltip": null,
       "layout": "IPY_MODEL_442e073fdc5e4c28988c2a00663048bd",
       "max": 1000,
       "min": 0,
       "orientation": "horizontal",
       "style": "IPY_MODEL_ddbc3e6355df4de893199eb1433c5c93",
       "value": 1000
      }
     },
     "622d5cabe18b4386a8657a00b51e89c5": {
      "model_module": "@jupyter-widgets/controls",
      "model_module_version": "1.5.0",
      "model_name": "DescriptionStyleModel",
      "state": {
       "_model_module": "@jupyter-widgets/controls",
       "_model_module_version": "1.5.0",
       "_model_name": "DescriptionStyleModel",
       "_view_count": null,
       "_view_module": "@jupyter-widgets/base",
       "_view_module_version": "1.2.0",
       "_view_name": "StyleView",
       "description_width": ""
      }
     },
     "6243c980830d45d2871941785795966f": {
      "model_module": "@jupyter-widgets/controls",
      "model_module_version": "1.5.0",
      "model_name": "HBoxModel",
      "state": {
       "_dom_classes": [],
       "_model_module": "@jupyter-widgets/controls",
       "_model_module_version": "1.5.0",
       "_model_name": "HBoxModel",
       "_view_count": null,
       "_view_module": "@jupyter-widgets/controls",
       "_view_module_version": "1.5.0",
       "_view_name": "HBoxView",
       "box_style": "",
       "children": [
        "IPY_MODEL_b68ba8a5ddb74aefb5a37a03c0532e68",
        "IPY_MODEL_dddab50cd59f4904b8a8bab96f35da26",
        "IPY_MODEL_b1f013424c4f4316ac1d93a0c6c4ef65"
       ],
       "layout": "IPY_MODEL_a06653c745ea428baa3e5035a68bcc78"
      }
     },
     "62b721fe9fe14a23a9b479eb0b064a7b": {
      "model_module": "@jupyter-widgets/base",
      "model_module_version": "1.2.0",
      "model_name": "LayoutModel",
      "state": {
       "_model_module": "@jupyter-widgets/base",
       "_model_module_version": "1.2.0",
       "_model_name": "LayoutModel",
       "_view_count": null,
       "_view_module": "@jupyter-widgets/base",
       "_view_module_version": "1.2.0",
       "_view_name": "LayoutView",
       "align_content": null,
       "align_items": null,
       "align_self": null,
       "border": null,
       "bottom": null,
       "display": null,
       "flex": null,
       "flex_flow": null,
       "grid_area": null,
       "grid_auto_columns": null,
       "grid_auto_flow": null,
       "grid_auto_rows": null,
       "grid_column": null,
       "grid_gap": null,
       "grid_row": null,
       "grid_template_areas": null,
       "grid_template_columns": null,
       "grid_template_rows": null,
       "height": null,
       "justify_content": null,
       "justify_items": null,
       "left": null,
       "margin": null,
       "max_height": null,
       "max_width": null,
       "min_height": null,
       "min_width": null,
       "object_fit": null,
       "object_position": null,
       "order": null,
       "overflow": null,
       "overflow_x": null,
       "overflow_y": null,
       "padding": null,
       "right": null,
       "top": null,
       "visibility": null,
       "width": null
      }
     },
     "631e6bf9a0f440cebef0e3ae95758139": {
      "model_module": "@jupyter-widgets/base",
      "model_module_version": "1.2.0",
      "model_name": "LayoutModel",
      "state": {
       "_model_module": "@jupyter-widgets/base",
       "_model_module_version": "1.2.0",
       "_model_name": "LayoutModel",
       "_view_count": null,
       "_view_module": "@jupyter-widgets/base",
       "_view_module_version": "1.2.0",
       "_view_name": "LayoutView",
       "align_content": null,
       "align_items": null,
       "align_self": null,
       "border": null,
       "bottom": null,
       "display": null,
       "flex": null,
       "flex_flow": null,
       "grid_area": null,
       "grid_auto_columns": null,
       "grid_auto_flow": null,
       "grid_auto_rows": null,
       "grid_column": null,
       "grid_gap": null,
       "grid_row": null,
       "grid_template_areas": null,
       "grid_template_columns": null,
       "grid_template_rows": null,
       "height": null,
       "justify_content": null,
       "justify_items": null,
       "left": null,
       "margin": null,
       "max_height": null,
       "max_width": null,
       "min_height": null,
       "min_width": null,
       "object_fit": null,
       "object_position": null,
       "order": null,
       "overflow": null,
       "overflow_x": null,
       "overflow_y": null,
       "padding": null,
       "right": null,
       "top": null,
       "visibility": null,
       "width": null
      }
     },
     "63975ee9e8ec409198af1e07279d19aa": {
      "model_module": "@jupyter-widgets/controls",
      "model_module_version": "1.5.0",
      "model_name": "DescriptionStyleModel",
      "state": {
       "_model_module": "@jupyter-widgets/controls",
       "_model_module_version": "1.5.0",
       "_model_name": "DescriptionStyleModel",
       "_view_count": null,
       "_view_module": "@jupyter-widgets/base",
       "_view_module_version": "1.2.0",
       "_view_name": "StyleView",
       "description_width": ""
      }
     },
     "6486cf4f134f4dd2a963863d22aba29e": {
      "model_module": "@jupyter-widgets/controls",
      "model_module_version": "1.5.0",
      "model_name": "HBoxModel",
      "state": {
       "_dom_classes": [],
       "_model_module": "@jupyter-widgets/controls",
       "_model_module_version": "1.5.0",
       "_model_name": "HBoxModel",
       "_view_count": null,
       "_view_module": "@jupyter-widgets/controls",
       "_view_module_version": "1.5.0",
       "_view_name": "HBoxView",
       "box_style": "",
       "children": [
        "IPY_MODEL_32866575936945f9be3cc6bc67120bc5",
        "IPY_MODEL_176a19a71f614e0d86ad772aafd1db62",
        "IPY_MODEL_5905ecee53fc441b99dc22e9224370bf"
       ],
       "layout": "IPY_MODEL_61d525b8475c4fcaac988e7586c79433"
      }
     },
     "648b3f12ef1d4c6aa6b9d842485ff921": {
      "model_module": "@jupyter-widgets/base",
      "model_module_version": "1.2.0",
      "model_name": "LayoutModel",
      "state": {
       "_model_module": "@jupyter-widgets/base",
       "_model_module_version": "1.2.0",
       "_model_name": "LayoutModel",
       "_view_count": null,
       "_view_module": "@jupyter-widgets/base",
       "_view_module_version": "1.2.0",
       "_view_name": "LayoutView",
       "align_content": null,
       "align_items": null,
       "align_self": null,
       "border": null,
       "bottom": null,
       "display": null,
       "flex": null,
       "flex_flow": null,
       "grid_area": null,
       "grid_auto_columns": null,
       "grid_auto_flow": null,
       "grid_auto_rows": null,
       "grid_column": null,
       "grid_gap": null,
       "grid_row": null,
       "grid_template_areas": null,
       "grid_template_columns": null,
       "grid_template_rows": null,
       "height": null,
       "justify_content": null,
       "justify_items": null,
       "left": null,
       "margin": null,
       "max_height": null,
       "max_width": null,
       "min_height": null,
       "min_width": null,
       "object_fit": null,
       "object_position": null,
       "order": null,
       "overflow": null,
       "overflow_x": null,
       "overflow_y": null,
       "padding": null,
       "right": null,
       "top": null,
       "visibility": null,
       "width": null
      }
     },
     "657f9b53fa024b3b922062ee01c30322": {
      "model_module": "@jupyter-widgets/controls",
      "model_module_version": "1.5.0",
      "model_name": "DescriptionStyleModel",
      "state": {
       "_model_module": "@jupyter-widgets/controls",
       "_model_module_version": "1.5.0",
       "_model_name": "DescriptionStyleModel",
       "_view_count": null,
       "_view_module": "@jupyter-widgets/base",
       "_view_module_version": "1.2.0",
       "_view_name": "StyleView",
       "description_width": ""
      }
     },
     "65b9f8150f4a423593365424f72f4dec": {
      "model_module": "@jupyter-widgets/controls",
      "model_module_version": "1.5.0",
      "model_name": "ProgressStyleModel",
      "state": {
       "_model_module": "@jupyter-widgets/controls",
       "_model_module_version": "1.5.0",
       "_model_name": "ProgressStyleModel",
       "_view_count": null,
       "_view_module": "@jupyter-widgets/base",
       "_view_module_version": "1.2.0",
       "_view_name": "StyleView",
       "bar_color": null,
       "description_width": ""
      }
     },
     "65ebd8d5ada9494cba8696153239b817": {
      "model_module": "@jupyter-widgets/controls",
      "model_module_version": "1.5.0",
      "model_name": "HBoxModel",
      "state": {
       "_dom_classes": [],
       "_model_module": "@jupyter-widgets/controls",
       "_model_module_version": "1.5.0",
       "_model_name": "HBoxModel",
       "_view_count": null,
       "_view_module": "@jupyter-widgets/controls",
       "_view_module_version": "1.5.0",
       "_view_name": "HBoxView",
       "box_style": "",
       "children": [
        "IPY_MODEL_d634af7ac3504dc284cee6235dd58dfd",
        "IPY_MODEL_97c950d9ed124938a6666df4944c6ce1",
        "IPY_MODEL_2eacb7855acf43e996b52387b57e9451"
       ],
       "layout": "IPY_MODEL_cfb560953984474aa364aa3685dab6fd"
      }
     },
     "667dc8167fa940c4b3044d4b7171ea3e": {
      "model_module": "@jupyter-widgets/base",
      "model_module_version": "1.2.0",
      "model_name": "LayoutModel",
      "state": {
       "_model_module": "@jupyter-widgets/base",
       "_model_module_version": "1.2.0",
       "_model_name": "LayoutModel",
       "_view_count": null,
       "_view_module": "@jupyter-widgets/base",
       "_view_module_version": "1.2.0",
       "_view_name": "LayoutView",
       "align_content": null,
       "align_items": null,
       "align_self": null,
       "border": null,
       "bottom": null,
       "display": null,
       "flex": null,
       "flex_flow": null,
       "grid_area": null,
       "grid_auto_columns": null,
       "grid_auto_flow": null,
       "grid_auto_rows": null,
       "grid_column": null,
       "grid_gap": null,
       "grid_row": null,
       "grid_template_areas": null,
       "grid_template_columns": null,
       "grid_template_rows": null,
       "height": null,
       "justify_content": null,
       "justify_items": null,
       "left": null,
       "margin": null,
       "max_height": null,
       "max_width": null,
       "min_height": null,
       "min_width": null,
       "object_fit": null,
       "object_position": null,
       "order": null,
       "overflow": null,
       "overflow_x": null,
       "overflow_y": null,
       "padding": null,
       "right": null,
       "top": null,
       "visibility": null,
       "width": null
      }
     },
     "6701796c6c4349c680e97f6ed1879063": {
      "model_module": "@jupyter-widgets/base",
      "model_module_version": "1.2.0",
      "model_name": "LayoutModel",
      "state": {
       "_model_module": "@jupyter-widgets/base",
       "_model_module_version": "1.2.0",
       "_model_name": "LayoutModel",
       "_view_count": null,
       "_view_module": "@jupyter-widgets/base",
       "_view_module_version": "1.2.0",
       "_view_name": "LayoutView",
       "align_content": null,
       "align_items": null,
       "align_self": null,
       "border": null,
       "bottom": null,
       "display": null,
       "flex": null,
       "flex_flow": null,
       "grid_area": null,
       "grid_auto_columns": null,
       "grid_auto_flow": null,
       "grid_auto_rows": null,
       "grid_column": null,
       "grid_gap": null,
       "grid_row": null,
       "grid_template_areas": null,
       "grid_template_columns": null,
       "grid_template_rows": null,
       "height": null,
       "justify_content": null,
       "justify_items": null,
       "left": null,
       "margin": null,
       "max_height": null,
       "max_width": null,
       "min_height": null,
       "min_width": null,
       "object_fit": null,
       "object_position": null,
       "order": null,
       "overflow": null,
       "overflow_x": null,
       "overflow_y": null,
       "padding": null,
       "right": null,
       "top": null,
       "visibility": null,
       "width": null
      }
     },
     "673d26c9a4a646d18fa84f4e23668113": {
      "model_module": "@jupyter-widgets/controls",
      "model_module_version": "1.5.0",
      "model_name": "HTMLModel",
      "state": {
       "_dom_classes": [],
       "_model_module": "@jupyter-widgets/controls",
       "_model_module_version": "1.5.0",
       "_model_name": "HTMLModel",
       "_view_count": null,
       "_view_module": "@jupyter-widgets/controls",
       "_view_module_version": "1.5.0",
       "_view_name": "HTMLView",
       "description": "",
       "description_tooltip": null,
       "layout": "IPY_MODEL_1bcb3da43d8649749372b918206ec3a7",
       "placeholder": "​",
       "style": "IPY_MODEL_5065960f6635427f81090fa041d861af",
       "value": "100%"
      }
     },
     "67a38c12b7ae4ed2848fbe32a11606d9": {
      "model_module": "@jupyter-widgets/controls",
      "model_module_version": "1.5.0",
      "model_name": "HBoxModel",
      "state": {
       "_dom_classes": [],
       "_model_module": "@jupyter-widgets/controls",
       "_model_module_version": "1.5.0",
       "_model_name": "HBoxModel",
       "_view_count": null,
       "_view_module": "@jupyter-widgets/controls",
       "_view_module_version": "1.5.0",
       "_view_name": "HBoxView",
       "box_style": "",
       "children": [
        "IPY_MODEL_ecb0a0c9e2ad41d48f8dac4a99306015",
        "IPY_MODEL_2c271a3eb2d4407494b74dd83169c16e",
        "IPY_MODEL_510511b45e6a4666a92e610dfcce6efb"
       ],
       "layout": "IPY_MODEL_ad07fb6396194a7699e01fcf8ab66165"
      }
     },
     "67b6a503842848fb906938c5ef6c1e45": {
      "model_module": "@jupyter-widgets/controls",
      "model_module_version": "1.5.0",
      "model_name": "HBoxModel",
      "state": {
       "_dom_classes": [],
       "_model_module": "@jupyter-widgets/controls",
       "_model_module_version": "1.5.0",
       "_model_name": "HBoxModel",
       "_view_count": null,
       "_view_module": "@jupyter-widgets/controls",
       "_view_module_version": "1.5.0",
       "_view_name": "HBoxView",
       "box_style": "",
       "children": [
        "IPY_MODEL_eec2bf96a2c44d0c9f82cd42974fc0c6",
        "IPY_MODEL_abaa8c8bf0f14964ad43109f56f9e4a3",
        "IPY_MODEL_8c9a3c28ccc14f0cbbf27e819b93c726"
       ],
       "layout": "IPY_MODEL_c931ae4dac97498e8401724bb780d474"
      }
     },
     "67f336fe05a140189e53b560cff805df": {
      "model_module": "@jupyter-widgets/base",
      "model_module_version": "1.2.0",
      "model_name": "LayoutModel",
      "state": {
       "_model_module": "@jupyter-widgets/base",
       "_model_module_version": "1.2.0",
       "_model_name": "LayoutModel",
       "_view_count": null,
       "_view_module": "@jupyter-widgets/base",
       "_view_module_version": "1.2.0",
       "_view_name": "LayoutView",
       "align_content": null,
       "align_items": null,
       "align_self": null,
       "border": null,
       "bottom": null,
       "display": null,
       "flex": null,
       "flex_flow": null,
       "grid_area": null,
       "grid_auto_columns": null,
       "grid_auto_flow": null,
       "grid_auto_rows": null,
       "grid_column": null,
       "grid_gap": null,
       "grid_row": null,
       "grid_template_areas": null,
       "grid_template_columns": null,
       "grid_template_rows": null,
       "height": null,
       "justify_content": null,
       "justify_items": null,
       "left": null,
       "margin": null,
       "max_height": null,
       "max_width": null,
       "min_height": null,
       "min_width": null,
       "object_fit": null,
       "object_position": null,
       "order": null,
       "overflow": null,
       "overflow_x": null,
       "overflow_y": null,
       "padding": null,
       "right": null,
       "top": null,
       "visibility": null,
       "width": null
      }
     },
     "6821f4fd39eb454fb4b63ceec4496ba2": {
      "model_module": "@jupyter-widgets/controls",
      "model_module_version": "1.5.0",
      "model_name": "DescriptionStyleModel",
      "state": {
       "_model_module": "@jupyter-widgets/controls",
       "_model_module_version": "1.5.0",
       "_model_name": "DescriptionStyleModel",
       "_view_count": null,
       "_view_module": "@jupyter-widgets/base",
       "_view_module_version": "1.2.0",
       "_view_name": "StyleView",
       "description_width": ""
      }
     },
     "6a0c8ef1de94481ab755cac85199c500": {
      "model_module": "@jupyter-widgets/controls",
      "model_module_version": "1.5.0",
      "model_name": "DescriptionStyleModel",
      "state": {
       "_model_module": "@jupyter-widgets/controls",
       "_model_module_version": "1.5.0",
       "_model_name": "DescriptionStyleModel",
       "_view_count": null,
       "_view_module": "@jupyter-widgets/base",
       "_view_module_version": "1.2.0",
       "_view_name": "StyleView",
       "description_width": ""
      }
     },
     "6a137caf44d049c792e100795eefe57e": {
      "model_module": "@jupyter-widgets/base",
      "model_module_version": "1.2.0",
      "model_name": "LayoutModel",
      "state": {
       "_model_module": "@jupyter-widgets/base",
       "_model_module_version": "1.2.0",
       "_model_name": "LayoutModel",
       "_view_count": null,
       "_view_module": "@jupyter-widgets/base",
       "_view_module_version": "1.2.0",
       "_view_name": "LayoutView",
       "align_content": null,
       "align_items": null,
       "align_self": null,
       "border": null,
       "bottom": null,
       "display": null,
       "flex": null,
       "flex_flow": null,
       "grid_area": null,
       "grid_auto_columns": null,
       "grid_auto_flow": null,
       "grid_auto_rows": null,
       "grid_column": null,
       "grid_gap": null,
       "grid_row": null,
       "grid_template_areas": null,
       "grid_template_columns": null,
       "grid_template_rows": null,
       "height": null,
       "justify_content": null,
       "justify_items": null,
       "left": null,
       "margin": null,
       "max_height": null,
       "max_width": null,
       "min_height": null,
       "min_width": null,
       "object_fit": null,
       "object_position": null,
       "order": null,
       "overflow": null,
       "overflow_x": null,
       "overflow_y": null,
       "padding": null,
       "right": null,
       "top": null,
       "visibility": null,
       "width": null
      }
     },
     "6a5cbf0dfe6a4ac2a5f7e5d02980b893": {
      "model_module": "@jupyter-widgets/base",
      "model_module_version": "1.2.0",
      "model_name": "LayoutModel",
      "state": {
       "_model_module": "@jupyter-widgets/base",
       "_model_module_version": "1.2.0",
       "_model_name": "LayoutModel",
       "_view_count": null,
       "_view_module": "@jupyter-widgets/base",
       "_view_module_version": "1.2.0",
       "_view_name": "LayoutView",
       "align_content": null,
       "align_items": null,
       "align_self": null,
       "border": null,
       "bottom": null,
       "display": null,
       "flex": null,
       "flex_flow": null,
       "grid_area": null,
       "grid_auto_columns": null,
       "grid_auto_flow": null,
       "grid_auto_rows": null,
       "grid_column": null,
       "grid_gap": null,
       "grid_row": null,
       "grid_template_areas": null,
       "grid_template_columns": null,
       "grid_template_rows": null,
       "height": null,
       "justify_content": null,
       "justify_items": null,
       "left": null,
       "margin": null,
       "max_height": null,
       "max_width": null,
       "min_height": null,
       "min_width": null,
       "object_fit": null,
       "object_position": null,
       "order": null,
       "overflow": null,
       "overflow_x": null,
       "overflow_y": null,
       "padding": null,
       "right": null,
       "top": null,
       "visibility": null,
       "width": null
      }
     },
     "6a8973c41feb4588bb97aa20eb1d19ca": {
      "model_module": "@jupyter-widgets/controls",
      "model_module_version": "1.5.0",
      "model_name": "DescriptionStyleModel",
      "state": {
       "_model_module": "@jupyter-widgets/controls",
       "_model_module_version": "1.5.0",
       "_model_name": "DescriptionStyleModel",
       "_view_count": null,
       "_view_module": "@jupyter-widgets/base",
       "_view_module_version": "1.2.0",
       "_view_name": "StyleView",
       "description_width": ""
      }
     },
     "6b5a48d42d1346a18364bc3600d9d54d": {
      "model_module": "@jupyter-widgets/controls",
      "model_module_version": "1.5.0",
      "model_name": "HTMLModel",
      "state": {
       "_dom_classes": [],
       "_model_module": "@jupyter-widgets/controls",
       "_model_module_version": "1.5.0",
       "_model_name": "HTMLModel",
       "_view_count": null,
       "_view_module": "@jupyter-widgets/controls",
       "_view_module_version": "1.5.0",
       "_view_name": "HTMLView",
       "description": "",
       "description_tooltip": null,
       "layout": "IPY_MODEL_0eed41d9b7c341aaa2656b5b4e7fb8b9",
       "placeholder": "​",
       "style": "IPY_MODEL_8f6920e6e97b446bb8b456d21aca1159",
       "value": "100%"
      }
     },
     "6be66ee36deb47519a485fe7f9fb9852": {
      "model_module": "@jupyter-widgets/controls",
      "model_module_version": "1.5.0",
      "model_name": "DescriptionStyleModel",
      "state": {
       "_model_module": "@jupyter-widgets/controls",
       "_model_module_version": "1.5.0",
       "_model_name": "DescriptionStyleModel",
       "_view_count": null,
       "_view_module": "@jupyter-widgets/base",
       "_view_module_version": "1.2.0",
       "_view_name": "StyleView",
       "description_width": ""
      }
     },
     "6c2ab002ba4c4e509709b108b774279d": {
      "model_module": "@jupyter-widgets/base",
      "model_module_version": "1.2.0",
      "model_name": "LayoutModel",
      "state": {
       "_model_module": "@jupyter-widgets/base",
       "_model_module_version": "1.2.0",
       "_model_name": "LayoutModel",
       "_view_count": null,
       "_view_module": "@jupyter-widgets/base",
       "_view_module_version": "1.2.0",
       "_view_name": "LayoutView",
       "align_content": null,
       "align_items": null,
       "align_self": null,
       "border": null,
       "bottom": null,
       "display": null,
       "flex": null,
       "flex_flow": null,
       "grid_area": null,
       "grid_auto_columns": null,
       "grid_auto_flow": null,
       "grid_auto_rows": null,
       "grid_column": null,
       "grid_gap": null,
       "grid_row": null,
       "grid_template_areas": null,
       "grid_template_columns": null,
       "grid_template_rows": null,
       "height": null,
       "justify_content": null,
       "justify_items": null,
       "left": null,
       "margin": null,
       "max_height": null,
       "max_width": null,
       "min_height": null,
       "min_width": null,
       "object_fit": null,
       "object_position": null,
       "order": null,
       "overflow": null,
       "overflow_x": null,
       "overflow_y": null,
       "padding": null,
       "right": null,
       "top": null,
       "visibility": null,
       "width": null
      }
     },
     "6d6b3726aca84833abd1de07c6dd1e62": {
      "model_module": "@jupyter-widgets/base",
      "model_module_version": "1.2.0",
      "model_name": "LayoutModel",
      "state": {
       "_model_module": "@jupyter-widgets/base",
       "_model_module_version": "1.2.0",
       "_model_name": "LayoutModel",
       "_view_count": null,
       "_view_module": "@jupyter-widgets/base",
       "_view_module_version": "1.2.0",
       "_view_name": "LayoutView",
       "align_content": null,
       "align_items": null,
       "align_self": null,
       "border": null,
       "bottom": null,
       "display": null,
       "flex": null,
       "flex_flow": null,
       "grid_area": null,
       "grid_auto_columns": null,
       "grid_auto_flow": null,
       "grid_auto_rows": null,
       "grid_column": null,
       "grid_gap": null,
       "grid_row": null,
       "grid_template_areas": null,
       "grid_template_columns": null,
       "grid_template_rows": null,
       "height": null,
       "justify_content": null,
       "justify_items": null,
       "left": null,
       "margin": null,
       "max_height": null,
       "max_width": null,
       "min_height": null,
       "min_width": null,
       "object_fit": null,
       "object_position": null,
       "order": null,
       "overflow": null,
       "overflow_x": null,
       "overflow_y": null,
       "padding": null,
       "right": null,
       "top": null,
       "visibility": null,
       "width": null
      }
     },
     "6f17721e84eb42e39946892f1914e4ee": {
      "model_module": "@jupyter-widgets/base",
      "model_module_version": "1.2.0",
      "model_name": "LayoutModel",
      "state": {
       "_model_module": "@jupyter-widgets/base",
       "_model_module_version": "1.2.0",
       "_model_name": "LayoutModel",
       "_view_count": null,
       "_view_module": "@jupyter-widgets/base",
       "_view_module_version": "1.2.0",
       "_view_name": "LayoutView",
       "align_content": null,
       "align_items": null,
       "align_self": null,
       "border": null,
       "bottom": null,
       "display": null,
       "flex": null,
       "flex_flow": null,
       "grid_area": null,
       "grid_auto_columns": null,
       "grid_auto_flow": null,
       "grid_auto_rows": null,
       "grid_column": null,
       "grid_gap": null,
       "grid_row": null,
       "grid_template_areas": null,
       "grid_template_columns": null,
       "grid_template_rows": null,
       "height": null,
       "justify_content": null,
       "justify_items": null,
       "left": null,
       "margin": null,
       "max_height": null,
       "max_width": null,
       "min_height": null,
       "min_width": null,
       "object_fit": null,
       "object_position": null,
       "order": null,
       "overflow": null,
       "overflow_x": null,
       "overflow_y": null,
       "padding": null,
       "right": null,
       "top": null,
       "visibility": null,
       "width": null
      }
     },
     "6f245317bad64c2bbf4235572234084c": {
      "model_module": "@jupyter-widgets/controls",
      "model_module_version": "1.5.0",
      "model_name": "DescriptionStyleModel",
      "state": {
       "_model_module": "@jupyter-widgets/controls",
       "_model_module_version": "1.5.0",
       "_model_name": "DescriptionStyleModel",
       "_view_count": null,
       "_view_module": "@jupyter-widgets/base",
       "_view_module_version": "1.2.0",
       "_view_name": "StyleView",
       "description_width": ""
      }
     },
     "6f468a8e75134f66a01c78a7c5ef3c04": {
      "model_module": "@jupyter-widgets/controls",
      "model_module_version": "1.5.0",
      "model_name": "DescriptionStyleModel",
      "state": {
       "_model_module": "@jupyter-widgets/controls",
       "_model_module_version": "1.5.0",
       "_model_name": "DescriptionStyleModel",
       "_view_count": null,
       "_view_module": "@jupyter-widgets/base",
       "_view_module_version": "1.2.0",
       "_view_name": "StyleView",
       "description_width": ""
      }
     },
     "6f57bf6bdebd4767920a40a518e5cd90": {
      "model_module": "@jupyter-widgets/controls",
      "model_module_version": "1.5.0",
      "model_name": "DescriptionStyleModel",
      "state": {
       "_model_module": "@jupyter-widgets/controls",
       "_model_module_version": "1.5.0",
       "_model_name": "DescriptionStyleModel",
       "_view_count": null,
       "_view_module": "@jupyter-widgets/base",
       "_view_module_version": "1.2.0",
       "_view_name": "StyleView",
       "description_width": ""
      }
     },
     "6f6251ea64b4479d821400f7112d7889": {
      "model_module": "@jupyter-widgets/controls",
      "model_module_version": "1.5.0",
      "model_name": "DescriptionStyleModel",
      "state": {
       "_model_module": "@jupyter-widgets/controls",
       "_model_module_version": "1.5.0",
       "_model_name": "DescriptionStyleModel",
       "_view_count": null,
       "_view_module": "@jupyter-widgets/base",
       "_view_module_version": "1.2.0",
       "_view_name": "StyleView",
       "description_width": ""
      }
     },
     "6f86a9f73d874418a44583f2dedf0fca": {
      "model_module": "@jupyter-widgets/controls",
      "model_module_version": "1.5.0",
      "model_name": "HBoxModel",
      "state": {
       "_dom_classes": [],
       "_model_module": "@jupyter-widgets/controls",
       "_model_module_version": "1.5.0",
       "_model_name": "HBoxModel",
       "_view_count": null,
       "_view_module": "@jupyter-widgets/controls",
       "_view_module_version": "1.5.0",
       "_view_name": "HBoxView",
       "box_style": "",
       "children": [
        "IPY_MODEL_03ba474a851e4897be16d2091e5fe31d",
        "IPY_MODEL_ba705296a2784ada8f2a465d86c8cd08",
        "IPY_MODEL_2ce10ea789104f2f936299f26fba1b88"
       ],
       "layout": "IPY_MODEL_0534e91ef2594619b98d84f718b28427"
      }
     },
     "7015b28571f4473c91297ca6b3df49cf": {
      "model_module": "@jupyter-widgets/controls",
      "model_module_version": "1.5.0",
      "model_name": "FloatProgressModel",
      "state": {
       "_dom_classes": [],
       "_model_module": "@jupyter-widgets/controls",
       "_model_module_version": "1.5.0",
       "_model_name": "FloatProgressModel",
       "_view_count": null,
       "_view_module": "@jupyter-widgets/controls",
       "_view_module_version": "1.5.0",
       "_view_name": "ProgressView",
       "bar_style": "success",
       "description": "",
       "description_tooltip": null,
       "layout": "IPY_MODEL_b63aedf2fd86450992871e8667204678",
       "max": 1000,
       "min": 0,
       "orientation": "horizontal",
       "style": "IPY_MODEL_954852b7850c4eaf9c947609bf38196d",
       "value": 1000
      }
     },
     "701f4f17f4604243aa60f2341a7738be": {
      "model_module": "@jupyter-widgets/base",
      "model_module_version": "1.2.0",
      "model_name": "LayoutModel",
      "state": {
       "_model_module": "@jupyter-widgets/base",
       "_model_module_version": "1.2.0",
       "_model_name": "LayoutModel",
       "_view_count": null,
       "_view_module": "@jupyter-widgets/base",
       "_view_module_version": "1.2.0",
       "_view_name": "LayoutView",
       "align_content": null,
       "align_items": null,
       "align_self": null,
       "border": null,
       "bottom": null,
       "display": null,
       "flex": null,
       "flex_flow": null,
       "grid_area": null,
       "grid_auto_columns": null,
       "grid_auto_flow": null,
       "grid_auto_rows": null,
       "grid_column": null,
       "grid_gap": null,
       "grid_row": null,
       "grid_template_areas": null,
       "grid_template_columns": null,
       "grid_template_rows": null,
       "height": null,
       "justify_content": null,
       "justify_items": null,
       "left": null,
       "margin": null,
       "max_height": null,
       "max_width": null,
       "min_height": null,
       "min_width": null,
       "object_fit": null,
       "object_position": null,
       "order": null,
       "overflow": null,
       "overflow_x": null,
       "overflow_y": null,
       "padding": null,
       "right": null,
       "top": null,
       "visibility": null,
       "width": null
      }
     },
     "705a363eab6e469ca7e8237999cecbb9": {
      "model_module": "@jupyter-widgets/controls",
      "model_module_version": "1.5.0",
      "model_name": "ProgressStyleModel",
      "state": {
       "_model_module": "@jupyter-widgets/controls",
       "_model_module_version": "1.5.0",
       "_model_name": "ProgressStyleModel",
       "_view_count": null,
       "_view_module": "@jupyter-widgets/base",
       "_view_module_version": "1.2.0",
       "_view_name": "StyleView",
       "bar_color": null,
       "description_width": ""
      }
     },
     "7130ca637db34297af444baf6fc56412": {
      "model_module": "@jupyter-widgets/controls",
      "model_module_version": "1.5.0",
      "model_name": "DescriptionStyleModel",
      "state": {
       "_model_module": "@jupyter-widgets/controls",
       "_model_module_version": "1.5.0",
       "_model_name": "DescriptionStyleModel",
       "_view_count": null,
       "_view_module": "@jupyter-widgets/base",
       "_view_module_version": "1.2.0",
       "_view_name": "StyleView",
       "description_width": ""
      }
     },
     "71b944591dec4ad1823d655e61c7e844": {
      "model_module": "@jupyter-widgets/controls",
      "model_module_version": "1.5.0",
      "model_name": "FloatProgressModel",
      "state": {
       "_dom_classes": [],
       "_model_module": "@jupyter-widgets/controls",
       "_model_module_version": "1.5.0",
       "_model_name": "FloatProgressModel",
       "_view_count": null,
       "_view_module": "@jupyter-widgets/controls",
       "_view_module_version": "1.5.0",
       "_view_name": "ProgressView",
       "bar_style": "success",
       "description": "",
       "description_tooltip": null,
       "layout": "IPY_MODEL_f5a0a641996a40f981a39932e2665256",
       "max": 1000,
       "min": 0,
       "orientation": "horizontal",
       "style": "IPY_MODEL_65b9f8150f4a423593365424f72f4dec",
       "value": 1000
      }
     },
     "71c9153e9aab42858d28b0e869ba9635": {
      "model_module": "@jupyter-widgets/base",
      "model_module_version": "1.2.0",
      "model_name": "LayoutModel",
      "state": {
       "_model_module": "@jupyter-widgets/base",
       "_model_module_version": "1.2.0",
       "_model_name": "LayoutModel",
       "_view_count": null,
       "_view_module": "@jupyter-widgets/base",
       "_view_module_version": "1.2.0",
       "_view_name": "LayoutView",
       "align_content": null,
       "align_items": null,
       "align_self": null,
       "border": null,
       "bottom": null,
       "display": null,
       "flex": null,
       "flex_flow": null,
       "grid_area": null,
       "grid_auto_columns": null,
       "grid_auto_flow": null,
       "grid_auto_rows": null,
       "grid_column": null,
       "grid_gap": null,
       "grid_row": null,
       "grid_template_areas": null,
       "grid_template_columns": null,
       "grid_template_rows": null,
       "height": null,
       "justify_content": null,
       "justify_items": null,
       "left": null,
       "margin": null,
       "max_height": null,
       "max_width": null,
       "min_height": null,
       "min_width": null,
       "object_fit": null,
       "object_position": null,
       "order": null,
       "overflow": null,
       "overflow_x": null,
       "overflow_y": null,
       "padding": null,
       "right": null,
       "top": null,
       "visibility": null,
       "width": null
      }
     },
     "71da40ab71514d028a367521e5806db8": {
      "model_module": "@jupyter-widgets/controls",
      "model_module_version": "1.5.0",
      "model_name": "ProgressStyleModel",
      "state": {
       "_model_module": "@jupyter-widgets/controls",
       "_model_module_version": "1.5.0",
       "_model_name": "ProgressStyleModel",
       "_view_count": null,
       "_view_module": "@jupyter-widgets/base",
       "_view_module_version": "1.2.0",
       "_view_name": "StyleView",
       "bar_color": null,
       "description_width": ""
      }
     },
     "726724a9b1294c3284b20a66ecdeffbf": {
      "model_module": "@jupyter-widgets/controls",
      "model_module_version": "1.5.0",
      "model_name": "DescriptionStyleModel",
      "state": {
       "_model_module": "@jupyter-widgets/controls",
       "_model_module_version": "1.5.0",
       "_model_name": "DescriptionStyleModel",
       "_view_count": null,
       "_view_module": "@jupyter-widgets/base",
       "_view_module_version": "1.2.0",
       "_view_name": "StyleView",
       "description_width": ""
      }
     },
     "72b93a93439a49c9855382ef32dcb56b": {
      "model_module": "@jupyter-widgets/controls",
      "model_module_version": "1.5.0",
      "model_name": "DescriptionStyleModel",
      "state": {
       "_model_module": "@jupyter-widgets/controls",
       "_model_module_version": "1.5.0",
       "_model_name": "DescriptionStyleModel",
       "_view_count": null,
       "_view_module": "@jupyter-widgets/base",
       "_view_module_version": "1.2.0",
       "_view_name": "StyleView",
       "description_width": ""
      }
     },
     "744e7d49a88c462996b6f7f6a6d6b1e0": {
      "model_module": "@jupyter-widgets/controls",
      "model_module_version": "1.5.0",
      "model_name": "HBoxModel",
      "state": {
       "_dom_classes": [],
       "_model_module": "@jupyter-widgets/controls",
       "_model_module_version": "1.5.0",
       "_model_name": "HBoxModel",
       "_view_count": null,
       "_view_module": "@jupyter-widgets/controls",
       "_view_module_version": "1.5.0",
       "_view_name": "HBoxView",
       "box_style": "",
       "children": [
        "IPY_MODEL_ba9ad0b4fa0540fb9ca2e2bc0a2c4c87",
        "IPY_MODEL_b0d2cec55570458faa36630c0923799a",
        "IPY_MODEL_4a02ddebfd7f4c7191732fb8aed10d41"
       ],
       "layout": "IPY_MODEL_c929a8122b5c49bf80283199da2d6339"
      }
     },
     "75a5b13b0e6d46bd8d9d2234c8d6050c": {
      "model_module": "@jupyter-widgets/controls",
      "model_module_version": "1.5.0",
      "model_name": "ProgressStyleModel",
      "state": {
       "_model_module": "@jupyter-widgets/controls",
       "_model_module_version": "1.5.0",
       "_model_name": "ProgressStyleModel",
       "_view_count": null,
       "_view_module": "@jupyter-widgets/base",
       "_view_module_version": "1.2.0",
       "_view_name": "StyleView",
       "bar_color": null,
       "description_width": ""
      }
     },
     "75ec54ae63ee442ca47a82ac852b38ab": {
      "model_module": "@jupyter-widgets/controls",
      "model_module_version": "1.5.0",
      "model_name": "HBoxModel",
      "state": {
       "_dom_classes": [],
       "_model_module": "@jupyter-widgets/controls",
       "_model_module_version": "1.5.0",
       "_model_name": "HBoxModel",
       "_view_count": null,
       "_view_module": "@jupyter-widgets/controls",
       "_view_module_version": "1.5.0",
       "_view_name": "HBoxView",
       "box_style": "",
       "children": [
        "IPY_MODEL_673d26c9a4a646d18fa84f4e23668113",
        "IPY_MODEL_0c2fb2b31b2a4f108e98022b86fb7ef6",
        "IPY_MODEL_96d57ff2257747408a26de63dbab03f2"
       ],
       "layout": "IPY_MODEL_4191cc034b7047999e172c7f1769be6b"
      }
     },
     "767b4710aefd4ed4a4aa626badd07176": {
      "model_module": "@jupyter-widgets/controls",
      "model_module_version": "1.5.0",
      "model_name": "DescriptionStyleModel",
      "state": {
       "_model_module": "@jupyter-widgets/controls",
       "_model_module_version": "1.5.0",
       "_model_name": "DescriptionStyleModel",
       "_view_count": null,
       "_view_module": "@jupyter-widgets/base",
       "_view_module_version": "1.2.0",
       "_view_name": "StyleView",
       "description_width": ""
      }
     },
     "79212d35964249ae830beacbcda243c8": {
      "model_module": "@jupyter-widgets/controls",
      "model_module_version": "1.5.0",
      "model_name": "HBoxModel",
      "state": {
       "_dom_classes": [],
       "_model_module": "@jupyter-widgets/controls",
       "_model_module_version": "1.5.0",
       "_model_name": "HBoxModel",
       "_view_count": null,
       "_view_module": "@jupyter-widgets/controls",
       "_view_module_version": "1.5.0",
       "_view_name": "HBoxView",
       "box_style": "",
       "children": [
        "IPY_MODEL_a68e8c23896b4ff38c336f33b03f37a3",
        "IPY_MODEL_61ee19d4b5094be180e39c86ff8cb8f3",
        "IPY_MODEL_8b69bab1cd424308a0e63822304f31e3"
       ],
       "layout": "IPY_MODEL_01f6a73dc0d842e0adc246d8a79432a3"
      }
     },
     "7965d3cec6ce4dd5b102406b81d68d13": {
      "model_module": "@jupyter-widgets/controls",
      "model_module_version": "1.5.0",
      "model_name": "HBoxModel",
      "state": {
       "_dom_classes": [],
       "_model_module": "@jupyter-widgets/controls",
       "_model_module_version": "1.5.0",
       "_model_name": "HBoxModel",
       "_view_count": null,
       "_view_module": "@jupyter-widgets/controls",
       "_view_module_version": "1.5.0",
       "_view_name": "HBoxView",
       "box_style": "",
       "children": [
        "IPY_MODEL_7db8468bcb5a4862872ced05e538b9ef",
        "IPY_MODEL_18531a78f5384131aa251e2984e7d7de",
        "IPY_MODEL_08c652fc61994d43bba048648f7560d4"
       ],
       "layout": "IPY_MODEL_b29daf21510042c793e41a32a42be176"
      }
     },
     "7975533730654a49abe6d4bfdfdecf3e": {
      "model_module": "@jupyter-widgets/base",
      "model_module_version": "1.2.0",
      "model_name": "LayoutModel",
      "state": {
       "_model_module": "@jupyter-widgets/base",
       "_model_module_version": "1.2.0",
       "_model_name": "LayoutModel",
       "_view_count": null,
       "_view_module": "@jupyter-widgets/base",
       "_view_module_version": "1.2.0",
       "_view_name": "LayoutView",
       "align_content": null,
       "align_items": null,
       "align_self": null,
       "border": null,
       "bottom": null,
       "display": null,
       "flex": null,
       "flex_flow": null,
       "grid_area": null,
       "grid_auto_columns": null,
       "grid_auto_flow": null,
       "grid_auto_rows": null,
       "grid_column": null,
       "grid_gap": null,
       "grid_row": null,
       "grid_template_areas": null,
       "grid_template_columns": null,
       "grid_template_rows": null,
       "height": null,
       "justify_content": null,
       "justify_items": null,
       "left": null,
       "margin": null,
       "max_height": null,
       "max_width": null,
       "min_height": null,
       "min_width": null,
       "object_fit": null,
       "object_position": null,
       "order": null,
       "overflow": null,
       "overflow_x": null,
       "overflow_y": null,
       "padding": null,
       "right": null,
       "top": null,
       "visibility": null,
       "width": null
      }
     },
     "79d7b1120d57405ca9e488c4d8009915": {
      "model_module": "@jupyter-widgets/controls",
      "model_module_version": "1.5.0",
      "model_name": "HTMLModel",
      "state": {
       "_dom_classes": [],
       "_model_module": "@jupyter-widgets/controls",
       "_model_module_version": "1.5.0",
       "_model_name": "HTMLModel",
       "_view_count": null,
       "_view_module": "@jupyter-widgets/controls",
       "_view_module_version": "1.5.0",
       "_view_name": "HTMLView",
       "description": "",
       "description_tooltip": null,
       "layout": "IPY_MODEL_879e6818bf96406f81e75a931e8df5f0",
       "placeholder": "​",
       "style": "IPY_MODEL_9880f8c0ab0c45ee8856119fee1710dc",
       "value": "100%"
      }
     },
     "7a02a77fae7047669427be498900fe4f": {
      "model_module": "@jupyter-widgets/controls",
      "model_module_version": "1.5.0",
      "model_name": "HBoxModel",
      "state": {
       "_dom_classes": [],
       "_model_module": "@jupyter-widgets/controls",
       "_model_module_version": "1.5.0",
       "_model_name": "HBoxModel",
       "_view_count": null,
       "_view_module": "@jupyter-widgets/controls",
       "_view_module_version": "1.5.0",
       "_view_name": "HBoxView",
       "box_style": "",
       "children": [
        "IPY_MODEL_5f60e06b0e08428d90c443e222afb514",
        "IPY_MODEL_7ad1c3dc998743a7a4cba25e11c5bb0f",
        "IPY_MODEL_a2f42d5e008a40b48b069cc8e55194f9"
       ],
       "layout": "IPY_MODEL_b29eca25a2fe4b7fbfc9d78c404f5d09"
      }
     },
     "7a367f6141da4a4884c75680bbd3af96": {
      "model_module": "@jupyter-widgets/controls",
      "model_module_version": "1.5.0",
      "model_name": "ProgressStyleModel",
      "state": {
       "_model_module": "@jupyter-widgets/controls",
       "_model_module_version": "1.5.0",
       "_model_name": "ProgressStyleModel",
       "_view_count": null,
       "_view_module": "@jupyter-widgets/base",
       "_view_module_version": "1.2.0",
       "_view_name": "StyleView",
       "bar_color": null,
       "description_width": ""
      }
     },
     "7a55b612dcdd4d4798d129b4924f427a": {
      "model_module": "@jupyter-widgets/controls",
      "model_module_version": "1.5.0",
      "model_name": "FloatProgressModel",
      "state": {
       "_dom_classes": [],
       "_model_module": "@jupyter-widgets/controls",
       "_model_module_version": "1.5.0",
       "_model_name": "FloatProgressModel",
       "_view_count": null,
       "_view_module": "@jupyter-widgets/controls",
       "_view_module_version": "1.5.0",
       "_view_name": "ProgressView",
       "bar_style": "success",
       "description": "",
       "description_tooltip": null,
       "layout": "IPY_MODEL_d702a26d10874b7da61bd174c736e935",
       "max": 10,
       "min": 0,
       "orientation": "horizontal",
       "style": "IPY_MODEL_5cbcc14a0c5442daa6cfe4b463947d46",
       "value": 10
      }
     },
     "7ad1c3dc998743a7a4cba25e11c5bb0f": {
      "model_module": "@jupyter-widgets/controls",
      "model_module_version": "1.5.0",
      "model_name": "FloatProgressModel",
      "state": {
       "_dom_classes": [],
       "_model_module": "@jupyter-widgets/controls",
       "_model_module_version": "1.5.0",
       "_model_name": "FloatProgressModel",
       "_view_count": null,
       "_view_module": "@jupyter-widgets/controls",
       "_view_module_version": "1.5.0",
       "_view_name": "ProgressView",
       "bar_style": "success",
       "description": "",
       "description_tooltip": null,
       "layout": "IPY_MODEL_3078c0dc6d8941f7a5fd117b328dced1",
       "max": 10,
       "min": 0,
       "orientation": "horizontal",
       "style": "IPY_MODEL_2f0c0c23457a4e0390df200ace17dc16",
       "value": 10
      }
     },
     "7be56342f43044428446bb961247e525": {
      "model_module": "@jupyter-widgets/base",
      "model_module_version": "1.2.0",
      "model_name": "LayoutModel",
      "state": {
       "_model_module": "@jupyter-widgets/base",
       "_model_module_version": "1.2.0",
       "_model_name": "LayoutModel",
       "_view_count": null,
       "_view_module": "@jupyter-widgets/base",
       "_view_module_version": "1.2.0",
       "_view_name": "LayoutView",
       "align_content": null,
       "align_items": null,
       "align_self": null,
       "border": null,
       "bottom": null,
       "display": null,
       "flex": null,
       "flex_flow": null,
       "grid_area": null,
       "grid_auto_columns": null,
       "grid_auto_flow": null,
       "grid_auto_rows": null,
       "grid_column": null,
       "grid_gap": null,
       "grid_row": null,
       "grid_template_areas": null,
       "grid_template_columns": null,
       "grid_template_rows": null,
       "height": null,
       "justify_content": null,
       "justify_items": null,
       "left": null,
       "margin": null,
       "max_height": null,
       "max_width": null,
       "min_height": null,
       "min_width": null,
       "object_fit": null,
       "object_position": null,
       "order": null,
       "overflow": null,
       "overflow_x": null,
       "overflow_y": null,
       "padding": null,
       "right": null,
       "top": null,
       "visibility": null,
       "width": null
      }
     },
     "7cafeefe831349f5a3a8af905b3106c7": {
      "model_module": "@jupyter-widgets/controls",
      "model_module_version": "1.5.0",
      "model_name": "ProgressStyleModel",
      "state": {
       "_model_module": "@jupyter-widgets/controls",
       "_model_module_version": "1.5.0",
       "_model_name": "ProgressStyleModel",
       "_view_count": null,
       "_view_module": "@jupyter-widgets/base",
       "_view_module_version": "1.2.0",
       "_view_name": "StyleView",
       "bar_color": null,
       "description_width": ""
      }
     },
     "7d6a0a8b96554de4a54daa61548ed86e": {
      "model_module": "@jupyter-widgets/controls",
      "model_module_version": "1.5.0",
      "model_name": "FloatProgressModel",
      "state": {
       "_dom_classes": [],
       "_model_module": "@jupyter-widgets/controls",
       "_model_module_version": "1.5.0",
       "_model_name": "FloatProgressModel",
       "_view_count": null,
       "_view_module": "@jupyter-widgets/controls",
       "_view_module_version": "1.5.0",
       "_view_name": "ProgressView",
       "bar_style": "success",
       "description": "",
       "description_tooltip": null,
       "layout": "IPY_MODEL_25ec08c56f424a71beeb664a87b68abf",
       "max": 1000,
       "min": 0,
       "orientation": "horizontal",
       "style": "IPY_MODEL_2a8e7380e5b9416e9a7c74bc73247288",
       "value": 1000
      }
     },
     "7d94aa98a8b14cc083fb815da00f7c03": {
      "model_module": "@jupyter-widgets/base",
      "model_module_version": "1.2.0",
      "model_name": "LayoutModel",
      "state": {
       "_model_module": "@jupyter-widgets/base",
       "_model_module_version": "1.2.0",
       "_model_name": "LayoutModel",
       "_view_count": null,
       "_view_module": "@jupyter-widgets/base",
       "_view_module_version": "1.2.0",
       "_view_name": "LayoutView",
       "align_content": null,
       "align_items": null,
       "align_self": null,
       "border": null,
       "bottom": null,
       "display": null,
       "flex": null,
       "flex_flow": null,
       "grid_area": null,
       "grid_auto_columns": null,
       "grid_auto_flow": null,
       "grid_auto_rows": null,
       "grid_column": null,
       "grid_gap": null,
       "grid_row": null,
       "grid_template_areas": null,
       "grid_template_columns": null,
       "grid_template_rows": null,
       "height": null,
       "justify_content": null,
       "justify_items": null,
       "left": null,
       "margin": null,
       "max_height": null,
       "max_width": null,
       "min_height": null,
       "min_width": null,
       "object_fit": null,
       "object_position": null,
       "order": null,
       "overflow": null,
       "overflow_x": null,
       "overflow_y": null,
       "padding": null,
       "right": null,
       "top": null,
       "visibility": null,
       "width": null
      }
     },
     "7db8468bcb5a4862872ced05e538b9ef": {
      "model_module": "@jupyter-widgets/controls",
      "model_module_version": "1.5.0",
      "model_name": "HTMLModel",
      "state": {
       "_dom_classes": [],
       "_model_module": "@jupyter-widgets/controls",
       "_model_module_version": "1.5.0",
       "_model_name": "HTMLModel",
       "_view_count": null,
       "_view_module": "@jupyter-widgets/controls",
       "_view_module_version": "1.5.0",
       "_view_name": "HTMLView",
       "description": "",
       "description_tooltip": null,
       "layout": "IPY_MODEL_803e06d4d90d4b49a5a2bf8790f0eeda",
       "placeholder": "​",
       "style": "IPY_MODEL_9eab9e9f1adb401f8249329a2ca6c424",
       "value": "100%"
      }
     },
     "7dd6af6bfdf54c85940a2b1f03659eaa": {
      "model_module": "@jupyter-widgets/base",
      "model_module_version": "1.2.0",
      "model_name": "LayoutModel",
      "state": {
       "_model_module": "@jupyter-widgets/base",
       "_model_module_version": "1.2.0",
       "_model_name": "LayoutModel",
       "_view_count": null,
       "_view_module": "@jupyter-widgets/base",
       "_view_module_version": "1.2.0",
       "_view_name": "LayoutView",
       "align_content": null,
       "align_items": null,
       "align_self": null,
       "border": null,
       "bottom": null,
       "display": null,
       "flex": null,
       "flex_flow": null,
       "grid_area": null,
       "grid_auto_columns": null,
       "grid_auto_flow": null,
       "grid_auto_rows": null,
       "grid_column": null,
       "grid_gap": null,
       "grid_row": null,
       "grid_template_areas": null,
       "grid_template_columns": null,
       "grid_template_rows": null,
       "height": null,
       "justify_content": null,
       "justify_items": null,
       "left": null,
       "margin": null,
       "max_height": null,
       "max_width": null,
       "min_height": null,
       "min_width": null,
       "object_fit": null,
       "object_position": null,
       "order": null,
       "overflow": null,
       "overflow_x": null,
       "overflow_y": null,
       "padding": null,
       "right": null,
       "top": null,
       "visibility": null,
       "width": null
      }
     },
     "7e616069c1d849829091a54c2f54a08d": {
      "model_module": "@jupyter-widgets/base",
      "model_module_version": "1.2.0",
      "model_name": "LayoutModel",
      "state": {
       "_model_module": "@jupyter-widgets/base",
       "_model_module_version": "1.2.0",
       "_model_name": "LayoutModel",
       "_view_count": null,
       "_view_module": "@jupyter-widgets/base",
       "_view_module_version": "1.2.0",
       "_view_name": "LayoutView",
       "align_content": null,
       "align_items": null,
       "align_self": null,
       "border": null,
       "bottom": null,
       "display": null,
       "flex": null,
       "flex_flow": null,
       "grid_area": null,
       "grid_auto_columns": null,
       "grid_auto_flow": null,
       "grid_auto_rows": null,
       "grid_column": null,
       "grid_gap": null,
       "grid_row": null,
       "grid_template_areas": null,
       "grid_template_columns": null,
       "grid_template_rows": null,
       "height": null,
       "justify_content": null,
       "justify_items": null,
       "left": null,
       "margin": null,
       "max_height": null,
       "max_width": null,
       "min_height": null,
       "min_width": null,
       "object_fit": null,
       "object_position": null,
       "order": null,
       "overflow": null,
       "overflow_x": null,
       "overflow_y": null,
       "padding": null,
       "right": null,
       "top": null,
       "visibility": null,
       "width": null
      }
     },
     "7ee29c4887ba47ae88fdbfcf805acf1e": {
      "model_module": "@jupyter-widgets/controls",
      "model_module_version": "1.5.0",
      "model_name": "ProgressStyleModel",
      "state": {
       "_model_module": "@jupyter-widgets/controls",
       "_model_module_version": "1.5.0",
       "_model_name": "ProgressStyleModel",
       "_view_count": null,
       "_view_module": "@jupyter-widgets/base",
       "_view_module_version": "1.2.0",
       "_view_name": "StyleView",
       "bar_color": null,
       "description_width": ""
      }
     },
     "7fcd592268c64be5b37fbb53cdadd685": {
      "model_module": "@jupyter-widgets/controls",
      "model_module_version": "1.5.0",
      "model_name": "DescriptionStyleModel",
      "state": {
       "_model_module": "@jupyter-widgets/controls",
       "_model_module_version": "1.5.0",
       "_model_name": "DescriptionStyleModel",
       "_view_count": null,
       "_view_module": "@jupyter-widgets/base",
       "_view_module_version": "1.2.0",
       "_view_name": "StyleView",
       "description_width": ""
      }
     },
     "803e06d4d90d4b49a5a2bf8790f0eeda": {
      "model_module": "@jupyter-widgets/base",
      "model_module_version": "1.2.0",
      "model_name": "LayoutModel",
      "state": {
       "_model_module": "@jupyter-widgets/base",
       "_model_module_version": "1.2.0",
       "_model_name": "LayoutModel",
       "_view_count": null,
       "_view_module": "@jupyter-widgets/base",
       "_view_module_version": "1.2.0",
       "_view_name": "LayoutView",
       "align_content": null,
       "align_items": null,
       "align_self": null,
       "border": null,
       "bottom": null,
       "display": null,
       "flex": null,
       "flex_flow": null,
       "grid_area": null,
       "grid_auto_columns": null,
       "grid_auto_flow": null,
       "grid_auto_rows": null,
       "grid_column": null,
       "grid_gap": null,
       "grid_row": null,
       "grid_template_areas": null,
       "grid_template_columns": null,
       "grid_template_rows": null,
       "height": null,
       "justify_content": null,
       "justify_items": null,
       "left": null,
       "margin": null,
       "max_height": null,
       "max_width": null,
       "min_height": null,
       "min_width": null,
       "object_fit": null,
       "object_position": null,
       "order": null,
       "overflow": null,
       "overflow_x": null,
       "overflow_y": null,
       "padding": null,
       "right": null,
       "top": null,
       "visibility": null,
       "width": null
      }
     },
     "8060496deffa4bb2bac8a18dd6657734": {
      "model_module": "@jupyter-widgets/controls",
      "model_module_version": "1.5.0",
      "model_name": "DescriptionStyleModel",
      "state": {
       "_model_module": "@jupyter-widgets/controls",
       "_model_module_version": "1.5.0",
       "_model_name": "DescriptionStyleModel",
       "_view_count": null,
       "_view_module": "@jupyter-widgets/base",
       "_view_module_version": "1.2.0",
       "_view_name": "StyleView",
       "description_width": ""
      }
     },
     "8248ea69b774465aa7c135e6c317e44c": {
      "model_module": "@jupyter-widgets/base",
      "model_module_version": "1.2.0",
      "model_name": "LayoutModel",
      "state": {
       "_model_module": "@jupyter-widgets/base",
       "_model_module_version": "1.2.0",
       "_model_name": "LayoutModel",
       "_view_count": null,
       "_view_module": "@jupyter-widgets/base",
       "_view_module_version": "1.2.0",
       "_view_name": "LayoutView",
       "align_content": null,
       "align_items": null,
       "align_self": null,
       "border": null,
       "bottom": null,
       "display": null,
       "flex": null,
       "flex_flow": null,
       "grid_area": null,
       "grid_auto_columns": null,
       "grid_auto_flow": null,
       "grid_auto_rows": null,
       "grid_column": null,
       "grid_gap": null,
       "grid_row": null,
       "grid_template_areas": null,
       "grid_template_columns": null,
       "grid_template_rows": null,
       "height": null,
       "justify_content": null,
       "justify_items": null,
       "left": null,
       "margin": null,
       "max_height": null,
       "max_width": null,
       "min_height": null,
       "min_width": null,
       "object_fit": null,
       "object_position": null,
       "order": null,
       "overflow": null,
       "overflow_x": null,
       "overflow_y": null,
       "padding": null,
       "right": null,
       "top": null,
       "visibility": null,
       "width": null
      }
     },
     "82fdbcda5c8b455caf1cf8a7f00ff924": {
      "model_module": "@jupyter-widgets/base",
      "model_module_version": "1.2.0",
      "model_name": "LayoutModel",
      "state": {
       "_model_module": "@jupyter-widgets/base",
       "_model_module_version": "1.2.0",
       "_model_name": "LayoutModel",
       "_view_count": null,
       "_view_module": "@jupyter-widgets/base",
       "_view_module_version": "1.2.0",
       "_view_name": "LayoutView",
       "align_content": null,
       "align_items": null,
       "align_self": null,
       "border": null,
       "bottom": null,
       "display": null,
       "flex": null,
       "flex_flow": null,
       "grid_area": null,
       "grid_auto_columns": null,
       "grid_auto_flow": null,
       "grid_auto_rows": null,
       "grid_column": null,
       "grid_gap": null,
       "grid_row": null,
       "grid_template_areas": null,
       "grid_template_columns": null,
       "grid_template_rows": null,
       "height": null,
       "justify_content": null,
       "justify_items": null,
       "left": null,
       "margin": null,
       "max_height": null,
       "max_width": null,
       "min_height": null,
       "min_width": null,
       "object_fit": null,
       "object_position": null,
       "order": null,
       "overflow": null,
       "overflow_x": null,
       "overflow_y": null,
       "padding": null,
       "right": null,
       "top": null,
       "visibility": null,
       "width": null
      }
     },
     "8379c29f0b934d58929d89c543de9581": {
      "model_module": "@jupyter-widgets/controls",
      "model_module_version": "1.5.0",
      "model_name": "ProgressStyleModel",
      "state": {
       "_model_module": "@jupyter-widgets/controls",
       "_model_module_version": "1.5.0",
       "_model_name": "ProgressStyleModel",
       "_view_count": null,
       "_view_module": "@jupyter-widgets/base",
       "_view_module_version": "1.2.0",
       "_view_name": "StyleView",
       "bar_color": null,
       "description_width": ""
      }
     },
     "83db47df03d441e0b99609861f0ca8a9": {
      "model_module": "@jupyter-widgets/controls",
      "model_module_version": "1.5.0",
      "model_name": "DescriptionStyleModel",
      "state": {
       "_model_module": "@jupyter-widgets/controls",
       "_model_module_version": "1.5.0",
       "_model_name": "DescriptionStyleModel",
       "_view_count": null,
       "_view_module": "@jupyter-widgets/base",
       "_view_module_version": "1.2.0",
       "_view_name": "StyleView",
       "description_width": ""
      }
     },
     "855a5d15de404a329d78f0922c85b930": {
      "model_module": "@jupyter-widgets/base",
      "model_module_version": "1.2.0",
      "model_name": "LayoutModel",
      "state": {
       "_model_module": "@jupyter-widgets/base",
       "_model_module_version": "1.2.0",
       "_model_name": "LayoutModel",
       "_view_count": null,
       "_view_module": "@jupyter-widgets/base",
       "_view_module_version": "1.2.0",
       "_view_name": "LayoutView",
       "align_content": null,
       "align_items": null,
       "align_self": null,
       "border": null,
       "bottom": null,
       "display": null,
       "flex": null,
       "flex_flow": null,
       "grid_area": null,
       "grid_auto_columns": null,
       "grid_auto_flow": null,
       "grid_auto_rows": null,
       "grid_column": null,
       "grid_gap": null,
       "grid_row": null,
       "grid_template_areas": null,
       "grid_template_columns": null,
       "grid_template_rows": null,
       "height": null,
       "justify_content": null,
       "justify_items": null,
       "left": null,
       "margin": null,
       "max_height": null,
       "max_width": null,
       "min_height": null,
       "min_width": null,
       "object_fit": null,
       "object_position": null,
       "order": null,
       "overflow": null,
       "overflow_x": null,
       "overflow_y": null,
       "padding": null,
       "right": null,
       "top": null,
       "visibility": null,
       "width": null
      }
     },
     "8596968b94be42d899b407fab4dc48fa": {
      "model_module": "@jupyter-widgets/base",
      "model_module_version": "1.2.0",
      "model_name": "LayoutModel",
      "state": {
       "_model_module": "@jupyter-widgets/base",
       "_model_module_version": "1.2.0",
       "_model_name": "LayoutModel",
       "_view_count": null,
       "_view_module": "@jupyter-widgets/base",
       "_view_module_version": "1.2.0",
       "_view_name": "LayoutView",
       "align_content": null,
       "align_items": null,
       "align_self": null,
       "border": null,
       "bottom": null,
       "display": null,
       "flex": null,
       "flex_flow": null,
       "grid_area": null,
       "grid_auto_columns": null,
       "grid_auto_flow": null,
       "grid_auto_rows": null,
       "grid_column": null,
       "grid_gap": null,
       "grid_row": null,
       "grid_template_areas": null,
       "grid_template_columns": null,
       "grid_template_rows": null,
       "height": null,
       "justify_content": null,
       "justify_items": null,
       "left": null,
       "margin": null,
       "max_height": null,
       "max_width": null,
       "min_height": null,
       "min_width": null,
       "object_fit": null,
       "object_position": null,
       "order": null,
       "overflow": null,
       "overflow_x": null,
       "overflow_y": null,
       "padding": null,
       "right": null,
       "top": null,
       "visibility": null,
       "width": null
      }
     },
     "86c9c050663d45c3b4cc9a189db996e8": {
      "model_module": "@jupyter-widgets/base",
      "model_module_version": "1.2.0",
      "model_name": "LayoutModel",
      "state": {
       "_model_module": "@jupyter-widgets/base",
       "_model_module_version": "1.2.0",
       "_model_name": "LayoutModel",
       "_view_count": null,
       "_view_module": "@jupyter-widgets/base",
       "_view_module_version": "1.2.0",
       "_view_name": "LayoutView",
       "align_content": null,
       "align_items": null,
       "align_self": null,
       "border": null,
       "bottom": null,
       "display": null,
       "flex": null,
       "flex_flow": null,
       "grid_area": null,
       "grid_auto_columns": null,
       "grid_auto_flow": null,
       "grid_auto_rows": null,
       "grid_column": null,
       "grid_gap": null,
       "grid_row": null,
       "grid_template_areas": null,
       "grid_template_columns": null,
       "grid_template_rows": null,
       "height": null,
       "justify_content": null,
       "justify_items": null,
       "left": null,
       "margin": null,
       "max_height": null,
       "max_width": null,
       "min_height": null,
       "min_width": null,
       "object_fit": null,
       "object_position": null,
       "order": null,
       "overflow": null,
       "overflow_x": null,
       "overflow_y": null,
       "padding": null,
       "right": null,
       "top": null,
       "visibility": null,
       "width": null
      }
     },
     "872131dd35ad45e48955c62e19f9c03a": {
      "model_module": "@jupyter-widgets/controls",
      "model_module_version": "1.5.0",
      "model_name": "HTMLModel",
      "state": {
       "_dom_classes": [],
       "_model_module": "@jupyter-widgets/controls",
       "_model_module_version": "1.5.0",
       "_model_name": "HTMLModel",
       "_view_count": null,
       "_view_module": "@jupyter-widgets/controls",
       "_view_module_version": "1.5.0",
       "_view_name": "HTMLView",
       "description": "",
       "description_tooltip": null,
       "layout": "IPY_MODEL_82fdbcda5c8b455caf1cf8a7f00ff924",
       "placeholder": "​",
       "style": "IPY_MODEL_5a2df603d2a1458eba130dc1af985e14",
       "value": "100%"
      }
     },
     "879e6818bf96406f81e75a931e8df5f0": {
      "model_module": "@jupyter-widgets/base",
      "model_module_version": "1.2.0",
      "model_name": "LayoutModel",
      "state": {
       "_model_module": "@jupyter-widgets/base",
       "_model_module_version": "1.2.0",
       "_model_name": "LayoutModel",
       "_view_count": null,
       "_view_module": "@jupyter-widgets/base",
       "_view_module_version": "1.2.0",
       "_view_name": "LayoutView",
       "align_content": null,
       "align_items": null,
       "align_self": null,
       "border": null,
       "bottom": null,
       "display": null,
       "flex": null,
       "flex_flow": null,
       "grid_area": null,
       "grid_auto_columns": null,
       "grid_auto_flow": null,
       "grid_auto_rows": null,
       "grid_column": null,
       "grid_gap": null,
       "grid_row": null,
       "grid_template_areas": null,
       "grid_template_columns": null,
       "grid_template_rows": null,
       "height": null,
       "justify_content": null,
       "justify_items": null,
       "left": null,
       "margin": null,
       "max_height": null,
       "max_width": null,
       "min_height": null,
       "min_width": null,
       "object_fit": null,
       "object_position": null,
       "order": null,
       "overflow": null,
       "overflow_x": null,
       "overflow_y": null,
       "padding": null,
       "right": null,
       "top": null,
       "visibility": null,
       "width": null
      }
     },
     "88157892e05442ea84e62eb487077f88": {
      "model_module": "@jupyter-widgets/base",
      "model_module_version": "1.2.0",
      "model_name": "LayoutModel",
      "state": {
       "_model_module": "@jupyter-widgets/base",
       "_model_module_version": "1.2.0",
       "_model_name": "LayoutModel",
       "_view_count": null,
       "_view_module": "@jupyter-widgets/base",
       "_view_module_version": "1.2.0",
       "_view_name": "LayoutView",
       "align_content": null,
       "align_items": null,
       "align_self": null,
       "border": null,
       "bottom": null,
       "display": null,
       "flex": null,
       "flex_flow": null,
       "grid_area": null,
       "grid_auto_columns": null,
       "grid_auto_flow": null,
       "grid_auto_rows": null,
       "grid_column": null,
       "grid_gap": null,
       "grid_row": null,
       "grid_template_areas": null,
       "grid_template_columns": null,
       "grid_template_rows": null,
       "height": null,
       "justify_content": null,
       "justify_items": null,
       "left": null,
       "margin": null,
       "max_height": null,
       "max_width": null,
       "min_height": null,
       "min_width": null,
       "object_fit": null,
       "object_position": null,
       "order": null,
       "overflow": null,
       "overflow_x": null,
       "overflow_y": null,
       "padding": null,
       "right": null,
       "top": null,
       "visibility": null,
       "width": null
      }
     },
     "88917a5939f044879b21f6e9f3400b45": {
      "model_module": "@jupyter-widgets/controls",
      "model_module_version": "1.5.0",
      "model_name": "ProgressStyleModel",
      "state": {
       "_model_module": "@jupyter-widgets/controls",
       "_model_module_version": "1.5.0",
       "_model_name": "ProgressStyleModel",
       "_view_count": null,
       "_view_module": "@jupyter-widgets/base",
       "_view_module_version": "1.2.0",
       "_view_name": "StyleView",
       "bar_color": null,
       "description_width": ""
      }
     },
     "89464d3adf7d456cbe4a2c5245df5f44": {
      "model_module": "@jupyter-widgets/base",
      "model_module_version": "1.2.0",
      "model_name": "LayoutModel",
      "state": {
       "_model_module": "@jupyter-widgets/base",
       "_model_module_version": "1.2.0",
       "_model_name": "LayoutModel",
       "_view_count": null,
       "_view_module": "@jupyter-widgets/base",
       "_view_module_version": "1.2.0",
       "_view_name": "LayoutView",
       "align_content": null,
       "align_items": null,
       "align_self": null,
       "border": null,
       "bottom": null,
       "display": null,
       "flex": null,
       "flex_flow": null,
       "grid_area": null,
       "grid_auto_columns": null,
       "grid_auto_flow": null,
       "grid_auto_rows": null,
       "grid_column": null,
       "grid_gap": null,
       "grid_row": null,
       "grid_template_areas": null,
       "grid_template_columns": null,
       "grid_template_rows": null,
       "height": null,
       "justify_content": null,
       "justify_items": null,
       "left": null,
       "margin": null,
       "max_height": null,
       "max_width": null,
       "min_height": null,
       "min_width": null,
       "object_fit": null,
       "object_position": null,
       "order": null,
       "overflow": null,
       "overflow_x": null,
       "overflow_y": null,
       "padding": null,
       "right": null,
       "top": null,
       "visibility": null,
       "width": null
      }
     },
     "8a3a4779a06b4f7890503e51f56fbb29": {
      "model_module": "@jupyter-widgets/controls",
      "model_module_version": "1.5.0",
      "model_name": "HBoxModel",
      "state": {
       "_dom_classes": [],
       "_model_module": "@jupyter-widgets/controls",
       "_model_module_version": "1.5.0",
       "_model_name": "HBoxModel",
       "_view_count": null,
       "_view_module": "@jupyter-widgets/controls",
       "_view_module_version": "1.5.0",
       "_view_name": "HBoxView",
       "box_style": "",
       "children": [
        "IPY_MODEL_de12eee85dbb4dd3ac85b1df8dc44ea2",
        "IPY_MODEL_a696c3872e3b4cd391ab35d2e261c7cd",
        "IPY_MODEL_1f77df991976473a8dc86d197a8792f8"
       ],
       "layout": "IPY_MODEL_c710758ca1c847098dab97ea63b03b47"
      }
     },
     "8ab442ec85d64b029d6184eb46cfc3b1": {
      "model_module": "@jupyter-widgets/base",
      "model_module_version": "1.2.0",
      "model_name": "LayoutModel",
      "state": {
       "_model_module": "@jupyter-widgets/base",
       "_model_module_version": "1.2.0",
       "_model_name": "LayoutModel",
       "_view_count": null,
       "_view_module": "@jupyter-widgets/base",
       "_view_module_version": "1.2.0",
       "_view_name": "LayoutView",
       "align_content": null,
       "align_items": null,
       "align_self": null,
       "border": null,
       "bottom": null,
       "display": null,
       "flex": null,
       "flex_flow": null,
       "grid_area": null,
       "grid_auto_columns": null,
       "grid_auto_flow": null,
       "grid_auto_rows": null,
       "grid_column": null,
       "grid_gap": null,
       "grid_row": null,
       "grid_template_areas": null,
       "grid_template_columns": null,
       "grid_template_rows": null,
       "height": null,
       "justify_content": null,
       "justify_items": null,
       "left": null,
       "margin": null,
       "max_height": null,
       "max_width": null,
       "min_height": null,
       "min_width": null,
       "object_fit": null,
       "object_position": null,
       "order": null,
       "overflow": null,
       "overflow_x": null,
       "overflow_y": null,
       "padding": null,
       "right": null,
       "top": null,
       "visibility": null,
       "width": null
      }
     },
     "8afb02ef9d9e4e38913cb3dbd415a8e1": {
      "model_module": "@jupyter-widgets/controls",
      "model_module_version": "1.5.0",
      "model_name": "HBoxModel",
      "state": {
       "_dom_classes": [],
       "_model_module": "@jupyter-widgets/controls",
       "_model_module_version": "1.5.0",
       "_model_name": "HBoxModel",
       "_view_count": null,
       "_view_module": "@jupyter-widgets/controls",
       "_view_module_version": "1.5.0",
       "_view_name": "HBoxView",
       "box_style": "",
       "children": [
        "IPY_MODEL_c4ee7a87e11a4c1fa009251bff8ecff1",
        "IPY_MODEL_7015b28571f4473c91297ca6b3df49cf",
        "IPY_MODEL_e2974f03d6e04f27ad1eef87191a58e9"
       ],
       "layout": "IPY_MODEL_37cbbd5432984a668f03e079112eea53"
      }
     },
     "8b1eb30d0d8244e59e97eb6f222a3cfb": {
      "model_module": "@jupyter-widgets/controls",
      "model_module_version": "1.5.0",
      "model_name": "ProgressStyleModel",
      "state": {
       "_model_module": "@jupyter-widgets/controls",
       "_model_module_version": "1.5.0",
       "_model_name": "ProgressStyleModel",
       "_view_count": null,
       "_view_module": "@jupyter-widgets/base",
       "_view_module_version": "1.2.0",
       "_view_name": "StyleView",
       "bar_color": null,
       "description_width": ""
      }
     },
     "8b69bab1cd424308a0e63822304f31e3": {
      "model_module": "@jupyter-widgets/controls",
      "model_module_version": "1.5.0",
      "model_name": "HTMLModel",
      "state": {
       "_dom_classes": [],
       "_model_module": "@jupyter-widgets/controls",
       "_model_module_version": "1.5.0",
       "_model_name": "HTMLModel",
       "_view_count": null,
       "_view_module": "@jupyter-widgets/controls",
       "_view_module_version": "1.5.0",
       "_view_name": "HTMLView",
       "description": "",
       "description_tooltip": null,
       "layout": "IPY_MODEL_5c9b0622ea154ac3a77586c46fc4612a",
       "placeholder": "​",
       "style": "IPY_MODEL_6f468a8e75134f66a01c78a7c5ef3c04",
       "value": " 1000/1000 [1:34:47&lt;00:00,  6.13s/it]"
      }
     },
     "8baa7a87e3a24936a0de6853cf14f8dd": {
      "model_module": "@jupyter-widgets/controls",
      "model_module_version": "1.5.0",
      "model_name": "ProgressStyleModel",
      "state": {
       "_model_module": "@jupyter-widgets/controls",
       "_model_module_version": "1.5.0",
       "_model_name": "ProgressStyleModel",
       "_view_count": null,
       "_view_module": "@jupyter-widgets/base",
       "_view_module_version": "1.2.0",
       "_view_name": "StyleView",
       "bar_color": null,
       "description_width": ""
      }
     },
     "8beff05696e74681b593b56e7563af5f": {
      "model_module": "@jupyter-widgets/base",
      "model_module_version": "1.2.0",
      "model_name": "LayoutModel",
      "state": {
       "_model_module": "@jupyter-widgets/base",
       "_model_module_version": "1.2.0",
       "_model_name": "LayoutModel",
       "_view_count": null,
       "_view_module": "@jupyter-widgets/base",
       "_view_module_version": "1.2.0",
       "_view_name": "LayoutView",
       "align_content": null,
       "align_items": null,
       "align_self": null,
       "border": null,
       "bottom": null,
       "display": null,
       "flex": null,
       "flex_flow": null,
       "grid_area": null,
       "grid_auto_columns": null,
       "grid_auto_flow": null,
       "grid_auto_rows": null,
       "grid_column": null,
       "grid_gap": null,
       "grid_row": null,
       "grid_template_areas": null,
       "grid_template_columns": null,
       "grid_template_rows": null,
       "height": null,
       "justify_content": null,
       "justify_items": null,
       "left": null,
       "margin": null,
       "max_height": null,
       "max_width": null,
       "min_height": null,
       "min_width": null,
       "object_fit": null,
       "object_position": null,
       "order": null,
       "overflow": null,
       "overflow_x": null,
       "overflow_y": null,
       "padding": null,
       "right": null,
       "top": null,
       "visibility": null,
       "width": null
      }
     },
     "8c9053a0672d428498f5d948a6996d89": {
      "model_module": "@jupyter-widgets/base",
      "model_module_version": "1.2.0",
      "model_name": "LayoutModel",
      "state": {
       "_model_module": "@jupyter-widgets/base",
       "_model_module_version": "1.2.0",
       "_model_name": "LayoutModel",
       "_view_count": null,
       "_view_module": "@jupyter-widgets/base",
       "_view_module_version": "1.2.0",
       "_view_name": "LayoutView",
       "align_content": null,
       "align_items": null,
       "align_self": null,
       "border": null,
       "bottom": null,
       "display": null,
       "flex": null,
       "flex_flow": null,
       "grid_area": null,
       "grid_auto_columns": null,
       "grid_auto_flow": null,
       "grid_auto_rows": null,
       "grid_column": null,
       "grid_gap": null,
       "grid_row": null,
       "grid_template_areas": null,
       "grid_template_columns": null,
       "grid_template_rows": null,
       "height": null,
       "justify_content": null,
       "justify_items": null,
       "left": null,
       "margin": null,
       "max_height": null,
       "max_width": null,
       "min_height": null,
       "min_width": null,
       "object_fit": null,
       "object_position": null,
       "order": null,
       "overflow": null,
       "overflow_x": null,
       "overflow_y": null,
       "padding": null,
       "right": null,
       "top": null,
       "visibility": null,
       "width": null
      }
     },
     "8c9a3c28ccc14f0cbbf27e819b93c726": {
      "model_module": "@jupyter-widgets/controls",
      "model_module_version": "1.5.0",
      "model_name": "HTMLModel",
      "state": {
       "_dom_classes": [],
       "_model_module": "@jupyter-widgets/controls",
       "_model_module_version": "1.5.0",
       "_model_name": "HTMLModel",
       "_view_count": null,
       "_view_module": "@jupyter-widgets/controls",
       "_view_module_version": "1.5.0",
       "_view_name": "HTMLView",
       "description": "",
       "description_tooltip": null,
       "layout": "IPY_MODEL_acc1e3782e8a4a369d330fa4cee4d3ac",
       "placeholder": "​",
       "style": "IPY_MODEL_a23a763f3ff04fc295a3565562e28541",
       "value": " 10/10 [00:00&lt;00:00, 14.82it/s]"
      }
     },
     "8cdbfec133a547d587357e9fadd0f2fb": {
      "model_module": "@jupyter-widgets/controls",
      "model_module_version": "1.5.0",
      "model_name": "HBoxModel",
      "state": {
       "_dom_classes": [],
       "_model_module": "@jupyter-widgets/controls",
       "_model_module_version": "1.5.0",
       "_model_name": "HBoxModel",
       "_view_count": null,
       "_view_module": "@jupyter-widgets/controls",
       "_view_module_version": "1.5.0",
       "_view_name": "HBoxView",
       "box_style": "",
       "children": [
        "IPY_MODEL_5ea3df5a31c8422095de15ab6bf2a79d",
        "IPY_MODEL_bed1eb2d768a481d8e9f798ca39ef120",
        "IPY_MODEL_61800acc24de4a3393b9ad3aec062eee"
       ],
       "layout": "IPY_MODEL_7e616069c1d849829091a54c2f54a08d"
      }
     },
     "8d5ada37bae24fceba3532c4871fc549": {
      "model_module": "@jupyter-widgets/controls",
      "model_module_version": "1.5.0",
      "model_name": "DescriptionStyleModel",
      "state": {
       "_model_module": "@jupyter-widgets/controls",
       "_model_module_version": "1.5.0",
       "_model_name": "DescriptionStyleModel",
       "_view_count": null,
       "_view_module": "@jupyter-widgets/base",
       "_view_module_version": "1.2.0",
       "_view_name": "StyleView",
       "description_width": ""
      }
     },
     "8e12e14166a44df281388b42e070c37e": {
      "model_module": "@jupyter-widgets/base",
      "model_module_version": "1.2.0",
      "model_name": "LayoutModel",
      "state": {
       "_model_module": "@jupyter-widgets/base",
       "_model_module_version": "1.2.0",
       "_model_name": "LayoutModel",
       "_view_count": null,
       "_view_module": "@jupyter-widgets/base",
       "_view_module_version": "1.2.0",
       "_view_name": "LayoutView",
       "align_content": null,
       "align_items": null,
       "align_self": null,
       "border": null,
       "bottom": null,
       "display": null,
       "flex": null,
       "flex_flow": null,
       "grid_area": null,
       "grid_auto_columns": null,
       "grid_auto_flow": null,
       "grid_auto_rows": null,
       "grid_column": null,
       "grid_gap": null,
       "grid_row": null,
       "grid_template_areas": null,
       "grid_template_columns": null,
       "grid_template_rows": null,
       "height": null,
       "justify_content": null,
       "justify_items": null,
       "left": null,
       "margin": null,
       "max_height": null,
       "max_width": null,
       "min_height": null,
       "min_width": null,
       "object_fit": null,
       "object_position": null,
       "order": null,
       "overflow": null,
       "overflow_x": null,
       "overflow_y": null,
       "padding": null,
       "right": null,
       "top": null,
       "visibility": null,
       "width": null
      }
     },
     "8e269e9311a041e7b9d63d9e333a9c12": {
      "model_module": "@jupyter-widgets/controls",
      "model_module_version": "1.5.0",
      "model_name": "DescriptionStyleModel",
      "state": {
       "_model_module": "@jupyter-widgets/controls",
       "_model_module_version": "1.5.0",
       "_model_name": "DescriptionStyleModel",
       "_view_count": null,
       "_view_module": "@jupyter-widgets/base",
       "_view_module_version": "1.2.0",
       "_view_name": "StyleView",
       "description_width": ""
      }
     },
     "8e40babda25c4aecad1de68011f47e46": {
      "model_module": "@jupyter-widgets/controls",
      "model_module_version": "1.5.0",
      "model_name": "HTMLModel",
      "state": {
       "_dom_classes": [],
       "_model_module": "@jupyter-widgets/controls",
       "_model_module_version": "1.5.0",
       "_model_name": "HTMLModel",
       "_view_count": null,
       "_view_module": "@jupyter-widgets/controls",
       "_view_module_version": "1.5.0",
       "_view_name": "HTMLView",
       "description": "",
       "description_tooltip": null,
       "layout": "IPY_MODEL_9ad94d0777f64f9487ecea4e846ad9f8",
       "placeholder": "​",
       "style": "IPY_MODEL_16793fb804f2479082bc4aa920d3e591",
       "value": " 1000/1000 [1:43:44&lt;00:00,  6.49s/it]"
      }
     },
     "8e9d2941492c4bc6a3453b5156358bf9": {
      "model_module": "@jupyter-widgets/controls",
      "model_module_version": "1.5.0",
      "model_name": "HTMLModel",
      "state": {
       "_dom_classes": [],
       "_model_module": "@jupyter-widgets/controls",
       "_model_module_version": "1.5.0",
       "_model_name": "HTMLModel",
       "_view_count": null,
       "_view_module": "@jupyter-widgets/controls",
       "_view_module_version": "1.5.0",
       "_view_name": "HTMLView",
       "description": "",
       "description_tooltip": null,
       "layout": "IPY_MODEL_2b597e0e09234daa8d96fec3b9b6a511",
       "placeholder": "​",
       "style": "IPY_MODEL_cb18673c5d76418eb51afb6428b695a0",
       "value": "100%"
      }
     },
     "8ee2c3cb9d31467288da70229468b15a": {
      "model_module": "@jupyter-widgets/controls",
      "model_module_version": "1.5.0",
      "model_name": "DescriptionStyleModel",
      "state": {
       "_model_module": "@jupyter-widgets/controls",
       "_model_module_version": "1.5.0",
       "_model_name": "DescriptionStyleModel",
       "_view_count": null,
       "_view_module": "@jupyter-widgets/base",
       "_view_module_version": "1.2.0",
       "_view_name": "StyleView",
       "description_width": ""
      }
     },
     "8f1cfbc4aac84c3aadab842f451da0fd": {
      "model_module": "@jupyter-widgets/controls",
      "model_module_version": "1.5.0",
      "model_name": "FloatProgressModel",
      "state": {
       "_dom_classes": [],
       "_model_module": "@jupyter-widgets/controls",
       "_model_module_version": "1.5.0",
       "_model_name": "FloatProgressModel",
       "_view_count": null,
       "_view_module": "@jupyter-widgets/controls",
       "_view_module_version": "1.5.0",
       "_view_name": "ProgressView",
       "bar_style": "success",
       "description": "",
       "description_tooltip": null,
       "layout": "IPY_MODEL_5659e3f42a3d4f37be86e4b72aa99764",
       "max": 10,
       "min": 0,
       "orientation": "horizontal",
       "style": "IPY_MODEL_75a5b13b0e6d46bd8d9d2234c8d6050c",
       "value": 10
      }
     },
     "8f6920e6e97b446bb8b456d21aca1159": {
      "model_module": "@jupyter-widgets/controls",
      "model_module_version": "1.5.0",
      "model_name": "DescriptionStyleModel",
      "state": {
       "_model_module": "@jupyter-widgets/controls",
       "_model_module_version": "1.5.0",
       "_model_name": "DescriptionStyleModel",
       "_view_count": null,
       "_view_module": "@jupyter-widgets/base",
       "_view_module_version": "1.2.0",
       "_view_name": "StyleView",
       "description_width": ""
      }
     },
     "91b36a6d71cc474381f19ff6e01102f4": {
      "model_module": "@jupyter-widgets/controls",
      "model_module_version": "1.5.0",
      "model_name": "HTMLModel",
      "state": {
       "_dom_classes": [],
       "_model_module": "@jupyter-widgets/controls",
       "_model_module_version": "1.5.0",
       "_model_name": "HTMLModel",
       "_view_count": null,
       "_view_module": "@jupyter-widgets/controls",
       "_view_module_version": "1.5.0",
       "_view_name": "HTMLView",
       "description": "",
       "description_tooltip": null,
       "layout": "IPY_MODEL_6a5cbf0dfe6a4ac2a5f7e5d02980b893",
       "placeholder": "​",
       "style": "IPY_MODEL_622d5cabe18b4386a8657a00b51e89c5",
       "value": "100%"
      }
     },
     "9406e33599d94117ba100a061ce8e89f": {
      "model_module": "@jupyter-widgets/base",
      "model_module_version": "1.2.0",
      "model_name": "LayoutModel",
      "state": {
       "_model_module": "@jupyter-widgets/base",
       "_model_module_version": "1.2.0",
       "_model_name": "LayoutModel",
       "_view_count": null,
       "_view_module": "@jupyter-widgets/base",
       "_view_module_version": "1.2.0",
       "_view_name": "LayoutView",
       "align_content": null,
       "align_items": null,
       "align_self": null,
       "border": null,
       "bottom": null,
       "display": null,
       "flex": null,
       "flex_flow": null,
       "grid_area": null,
       "grid_auto_columns": null,
       "grid_auto_flow": null,
       "grid_auto_rows": null,
       "grid_column": null,
       "grid_gap": null,
       "grid_row": null,
       "grid_template_areas": null,
       "grid_template_columns": null,
       "grid_template_rows": null,
       "height": null,
       "justify_content": null,
       "justify_items": null,
       "left": null,
       "margin": null,
       "max_height": null,
       "max_width": null,
       "min_height": null,
       "min_width": null,
       "object_fit": null,
       "object_position": null,
       "order": null,
       "overflow": null,
       "overflow_x": null,
       "overflow_y": null,
       "padding": null,
       "right": null,
       "top": null,
       "visibility": null,
       "width": null
      }
     },
     "954852b7850c4eaf9c947609bf38196d": {
      "model_module": "@jupyter-widgets/controls",
      "model_module_version": "1.5.0",
      "model_name": "ProgressStyleModel",
      "state": {
       "_model_module": "@jupyter-widgets/controls",
       "_model_module_version": "1.5.0",
       "_model_name": "ProgressStyleModel",
       "_view_count": null,
       "_view_module": "@jupyter-widgets/base",
       "_view_module_version": "1.2.0",
       "_view_name": "StyleView",
       "bar_color": null,
       "description_width": ""
      }
     },
     "96297d027ee14692ae7ad9699f82ab77": {
      "model_module": "@jupyter-widgets/base",
      "model_module_version": "1.2.0",
      "model_name": "LayoutModel",
      "state": {
       "_model_module": "@jupyter-widgets/base",
       "_model_module_version": "1.2.0",
       "_model_name": "LayoutModel",
       "_view_count": null,
       "_view_module": "@jupyter-widgets/base",
       "_view_module_version": "1.2.0",
       "_view_name": "LayoutView",
       "align_content": null,
       "align_items": null,
       "align_self": null,
       "border": null,
       "bottom": null,
       "display": null,
       "flex": null,
       "flex_flow": null,
       "grid_area": null,
       "grid_auto_columns": null,
       "grid_auto_flow": null,
       "grid_auto_rows": null,
       "grid_column": null,
       "grid_gap": null,
       "grid_row": null,
       "grid_template_areas": null,
       "grid_template_columns": null,
       "grid_template_rows": null,
       "height": null,
       "justify_content": null,
       "justify_items": null,
       "left": null,
       "margin": null,
       "max_height": null,
       "max_width": null,
       "min_height": null,
       "min_width": null,
       "object_fit": null,
       "object_position": null,
       "order": null,
       "overflow": null,
       "overflow_x": null,
       "overflow_y": null,
       "padding": null,
       "right": null,
       "top": null,
       "visibility": null,
       "width": null
      }
     },
     "96d57ff2257747408a26de63dbab03f2": {
      "model_module": "@jupyter-widgets/controls",
      "model_module_version": "1.5.0",
      "model_name": "HTMLModel",
      "state": {
       "_dom_classes": [],
       "_model_module": "@jupyter-widgets/controls",
       "_model_module_version": "1.5.0",
       "_model_name": "HTMLModel",
       "_view_count": null,
       "_view_module": "@jupyter-widgets/controls",
       "_view_module_version": "1.5.0",
       "_view_name": "HTMLView",
       "description": "",
       "description_tooltip": null,
       "layout": "IPY_MODEL_ff94117a8e5a488ebbbd1ce9d0ab7dd5",
       "placeholder": "​",
       "style": "IPY_MODEL_e4da874ef8214e1da80549efa7d48632",
       "value": " 1000/1000 [1:17:12&lt;00:00,  4.84s/it]"
      }
     },
     "972c3f1d4eee44399ff07778e14cf44b": {
      "model_module": "@jupyter-widgets/controls",
      "model_module_version": "1.5.0",
      "model_name": "HTMLModel",
      "state": {
       "_dom_classes": [],
       "_model_module": "@jupyter-widgets/controls",
       "_model_module_version": "1.5.0",
       "_model_name": "HTMLModel",
       "_view_count": null,
       "_view_module": "@jupyter-widgets/controls",
       "_view_module_version": "1.5.0",
       "_view_name": "HTMLView",
       "description": "",
       "description_tooltip": null,
       "layout": "IPY_MODEL_e3acabe1cf02431db306ecc900442bbf",
       "placeholder": "​",
       "style": "IPY_MODEL_23c41abc684241e9800418c7166beeaf",
       "value": "100%"
      }
     },
     "976f390aa4984e53b0fe51abe7f0eec8": {
      "model_module": "@jupyter-widgets/base",
      "model_module_version": "1.2.0",
      "model_name": "LayoutModel",
      "state": {
       "_model_module": "@jupyter-widgets/base",
       "_model_module_version": "1.2.0",
       "_model_name": "LayoutModel",
       "_view_count": null,
       "_view_module": "@jupyter-widgets/base",
       "_view_module_version": "1.2.0",
       "_view_name": "LayoutView",
       "align_content": null,
       "align_items": null,
       "align_self": null,
       "border": null,
       "bottom": null,
       "display": null,
       "flex": null,
       "flex_flow": null,
       "grid_area": null,
       "grid_auto_columns": null,
       "grid_auto_flow": null,
       "grid_auto_rows": null,
       "grid_column": null,
       "grid_gap": null,
       "grid_row": null,
       "grid_template_areas": null,
       "grid_template_columns": null,
       "grid_template_rows": null,
       "height": null,
       "justify_content": null,
       "justify_items": null,
       "left": null,
       "margin": null,
       "max_height": null,
       "max_width": null,
       "min_height": null,
       "min_width": null,
       "object_fit": null,
       "object_position": null,
       "order": null,
       "overflow": null,
       "overflow_x": null,
       "overflow_y": null,
       "padding": null,
       "right": null,
       "top": null,
       "visibility": null,
       "width": null
      }
     },
     "97c950d9ed124938a6666df4944c6ce1": {
      "model_module": "@jupyter-widgets/controls",
      "model_module_version": "1.5.0",
      "model_name": "FloatProgressModel",
      "state": {
       "_dom_classes": [],
       "_model_module": "@jupyter-widgets/controls",
       "_model_module_version": "1.5.0",
       "_model_name": "FloatProgressModel",
       "_view_count": null,
       "_view_module": "@jupyter-widgets/controls",
       "_view_module_version": "1.5.0",
       "_view_name": "ProgressView",
       "bar_style": "success",
       "description": "",
       "description_tooltip": null,
       "layout": "IPY_MODEL_9406e33599d94117ba100a061ce8e89f",
       "max": 1000,
       "min": 0,
       "orientation": "horizontal",
       "style": "IPY_MODEL_51713fecc86e45fb89364eca0c17d135",
       "value": 1000
      }
     },
     "97f186bfb8d6429388f133f5d48866b2": {
      "model_module": "@jupyter-widgets/controls",
      "model_module_version": "1.5.0",
      "model_name": "HBoxModel",
      "state": {
       "_dom_classes": [],
       "_model_module": "@jupyter-widgets/controls",
       "_model_module_version": "1.5.0",
       "_model_name": "HBoxModel",
       "_view_count": null,
       "_view_module": "@jupyter-widgets/controls",
       "_view_module_version": "1.5.0",
       "_view_name": "HBoxView",
       "box_style": "",
       "children": [
        "IPY_MODEL_872131dd35ad45e48955c62e19f9c03a",
        "IPY_MODEL_71b944591dec4ad1823d655e61c7e844",
        "IPY_MODEL_fd3b752be3f545459aa9d319e4b5504b"
       ],
       "layout": "IPY_MODEL_2620b439e163468b886997159bd5fb4c"
      }
     },
     "981f781370e5493399d7478e70f01695": {
      "model_module": "@jupyter-widgets/base",
      "model_module_version": "1.2.0",
      "model_name": "LayoutModel",
      "state": {
       "_model_module": "@jupyter-widgets/base",
       "_model_module_version": "1.2.0",
       "_model_name": "LayoutModel",
       "_view_count": null,
       "_view_module": "@jupyter-widgets/base",
       "_view_module_version": "1.2.0",
       "_view_name": "LayoutView",
       "align_content": null,
       "align_items": null,
       "align_self": null,
       "border": null,
       "bottom": null,
       "display": null,
       "flex": null,
       "flex_flow": null,
       "grid_area": null,
       "grid_auto_columns": null,
       "grid_auto_flow": null,
       "grid_auto_rows": null,
       "grid_column": null,
       "grid_gap": null,
       "grid_row": null,
       "grid_template_areas": null,
       "grid_template_columns": null,
       "grid_template_rows": null,
       "height": null,
       "justify_content": null,
       "justify_items": null,
       "left": null,
       "margin": null,
       "max_height": null,
       "max_width": null,
       "min_height": null,
       "min_width": null,
       "object_fit": null,
       "object_position": null,
       "order": null,
       "overflow": null,
       "overflow_x": null,
       "overflow_y": null,
       "padding": null,
       "right": null,
       "top": null,
       "visibility": null,
       "width": null
      }
     },
     "9880f8c0ab0c45ee8856119fee1710dc": {
      "model_module": "@jupyter-widgets/controls",
      "model_module_version": "1.5.0",
      "model_name": "DescriptionStyleModel",
      "state": {
       "_model_module": "@jupyter-widgets/controls",
       "_model_module_version": "1.5.0",
       "_model_name": "DescriptionStyleModel",
       "_view_count": null,
       "_view_module": "@jupyter-widgets/base",
       "_view_module_version": "1.2.0",
       "_view_name": "StyleView",
       "description_width": ""
      }
     },
     "98b61171a6a44ef2982d01c4bde1aa73": {
      "model_module": "@jupyter-widgets/base",
      "model_module_version": "1.2.0",
      "model_name": "LayoutModel",
      "state": {
       "_model_module": "@jupyter-widgets/base",
       "_model_module_version": "1.2.0",
       "_model_name": "LayoutModel",
       "_view_count": null,
       "_view_module": "@jupyter-widgets/base",
       "_view_module_version": "1.2.0",
       "_view_name": "LayoutView",
       "align_content": null,
       "align_items": null,
       "align_self": null,
       "border": null,
       "bottom": null,
       "display": null,
       "flex": null,
       "flex_flow": null,
       "grid_area": null,
       "grid_auto_columns": null,
       "grid_auto_flow": null,
       "grid_auto_rows": null,
       "grid_column": null,
       "grid_gap": null,
       "grid_row": null,
       "grid_template_areas": null,
       "grid_template_columns": null,
       "grid_template_rows": null,
       "height": null,
       "justify_content": null,
       "justify_items": null,
       "left": null,
       "margin": null,
       "max_height": null,
       "max_width": null,
       "min_height": null,
       "min_width": null,
       "object_fit": null,
       "object_position": null,
       "order": null,
       "overflow": null,
       "overflow_x": null,
       "overflow_y": null,
       "padding": null,
       "right": null,
       "top": null,
       "visibility": null,
       "width": null
      }
     },
     "98e794a11d3f49e1bd474c2e47382ca1": {
      "model_module": "@jupyter-widgets/controls",
      "model_module_version": "1.5.0",
      "model_name": "FloatProgressModel",
      "state": {
       "_dom_classes": [],
       "_model_module": "@jupyter-widgets/controls",
       "_model_module_version": "1.5.0",
       "_model_name": "FloatProgressModel",
       "_view_count": null,
       "_view_module": "@jupyter-widgets/controls",
       "_view_module_version": "1.5.0",
       "_view_name": "ProgressView",
       "bar_style": "success",
       "description": "",
       "description_tooltip": null,
       "layout": "IPY_MODEL_cadb60b283f743b38b09ff3056a18ef2",
       "max": 1000,
       "min": 0,
       "orientation": "horizontal",
       "style": "IPY_MODEL_f9660c1717e44eaca522e24885e03876",
       "value": 1000
      }
     },
     "99174fa4a7a743b483a62cae60ae09ad": {
      "model_module": "@jupyter-widgets/controls",
      "model_module_version": "1.5.0",
      "model_name": "ProgressStyleModel",
      "state": {
       "_model_module": "@jupyter-widgets/controls",
       "_model_module_version": "1.5.0",
       "_model_name": "ProgressStyleModel",
       "_view_count": null,
       "_view_module": "@jupyter-widgets/base",
       "_view_module_version": "1.2.0",
       "_view_name": "StyleView",
       "bar_color": null,
       "description_width": ""
      }
     },
     "9ad94d0777f64f9487ecea4e846ad9f8": {
      "model_module": "@jupyter-widgets/base",
      "model_module_version": "1.2.0",
      "model_name": "LayoutModel",
      "state": {
       "_model_module": "@jupyter-widgets/base",
       "_model_module_version": "1.2.0",
       "_model_name": "LayoutModel",
       "_view_count": null,
       "_view_module": "@jupyter-widgets/base",
       "_view_module_version": "1.2.0",
       "_view_name": "LayoutView",
       "align_content": null,
       "align_items": null,
       "align_self": null,
       "border": null,
       "bottom": null,
       "display": null,
       "flex": null,
       "flex_flow": null,
       "grid_area": null,
       "grid_auto_columns": null,
       "grid_auto_flow": null,
       "grid_auto_rows": null,
       "grid_column": null,
       "grid_gap": null,
       "grid_row": null,
       "grid_template_areas": null,
       "grid_template_columns": null,
       "grid_template_rows": null,
       "height": null,
       "justify_content": null,
       "justify_items": null,
       "left": null,
       "margin": null,
       "max_height": null,
       "max_width": null,
       "min_height": null,
       "min_width": null,
       "object_fit": null,
       "object_position": null,
       "order": null,
       "overflow": null,
       "overflow_x": null,
       "overflow_y": null,
       "padding": null,
       "right": null,
       "top": null,
       "visibility": null,
       "width": null
      }
     },
     "9eab9e9f1adb401f8249329a2ca6c424": {
      "model_module": "@jupyter-widgets/controls",
      "model_module_version": "1.5.0",
      "model_name": "DescriptionStyleModel",
      "state": {
       "_model_module": "@jupyter-widgets/controls",
       "_model_module_version": "1.5.0",
       "_model_name": "DescriptionStyleModel",
       "_view_count": null,
       "_view_module": "@jupyter-widgets/base",
       "_view_module_version": "1.2.0",
       "_view_name": "StyleView",
       "description_width": ""
      }
     },
     "a06653c745ea428baa3e5035a68bcc78": {
      "model_module": "@jupyter-widgets/base",
      "model_module_version": "1.2.0",
      "model_name": "LayoutModel",
      "state": {
       "_model_module": "@jupyter-widgets/base",
       "_model_module_version": "1.2.0",
       "_model_name": "LayoutModel",
       "_view_count": null,
       "_view_module": "@jupyter-widgets/base",
       "_view_module_version": "1.2.0",
       "_view_name": "LayoutView",
       "align_content": null,
       "align_items": null,
       "align_self": null,
       "border": null,
       "bottom": null,
       "display": null,
       "flex": null,
       "flex_flow": null,
       "grid_area": null,
       "grid_auto_columns": null,
       "grid_auto_flow": null,
       "grid_auto_rows": null,
       "grid_column": null,
       "grid_gap": null,
       "grid_row": null,
       "grid_template_areas": null,
       "grid_template_columns": null,
       "grid_template_rows": null,
       "height": null,
       "justify_content": null,
       "justify_items": null,
       "left": null,
       "margin": null,
       "max_height": null,
       "max_width": null,
       "min_height": null,
       "min_width": null,
       "object_fit": null,
       "object_position": null,
       "order": null,
       "overflow": null,
       "overflow_x": null,
       "overflow_y": null,
       "padding": null,
       "right": null,
       "top": null,
       "visibility": null,
       "width": null
      }
     },
     "a23a763f3ff04fc295a3565562e28541": {
      "model_module": "@jupyter-widgets/controls",
      "model_module_version": "1.5.0",
      "model_name": "DescriptionStyleModel",
      "state": {
       "_model_module": "@jupyter-widgets/controls",
       "_model_module_version": "1.5.0",
       "_model_name": "DescriptionStyleModel",
       "_view_count": null,
       "_view_module": "@jupyter-widgets/base",
       "_view_module_version": "1.2.0",
       "_view_name": "StyleView",
       "description_width": ""
      }
     },
     "a2422f95e3fc49bfb04acddea6bff6e8": {
      "model_module": "@jupyter-widgets/base",
      "model_module_version": "1.2.0",
      "model_name": "LayoutModel",
      "state": {
       "_model_module": "@jupyter-widgets/base",
       "_model_module_version": "1.2.0",
       "_model_name": "LayoutModel",
       "_view_count": null,
       "_view_module": "@jupyter-widgets/base",
       "_view_module_version": "1.2.0",
       "_view_name": "LayoutView",
       "align_content": null,
       "align_items": null,
       "align_self": null,
       "border": null,
       "bottom": null,
       "display": null,
       "flex": null,
       "flex_flow": null,
       "grid_area": null,
       "grid_auto_columns": null,
       "grid_auto_flow": null,
       "grid_auto_rows": null,
       "grid_column": null,
       "grid_gap": null,
       "grid_row": null,
       "grid_template_areas": null,
       "grid_template_columns": null,
       "grid_template_rows": null,
       "height": null,
       "justify_content": null,
       "justify_items": null,
       "left": null,
       "margin": null,
       "max_height": null,
       "max_width": null,
       "min_height": null,
       "min_width": null,
       "object_fit": null,
       "object_position": null,
       "order": null,
       "overflow": null,
       "overflow_x": null,
       "overflow_y": null,
       "padding": null,
       "right": null,
       "top": null,
       "visibility": null,
       "width": null
      }
     },
     "a25e2861b3c5487c9cce9f599fb81bc6": {
      "model_module": "@jupyter-widgets/controls",
      "model_module_version": "1.5.0",
      "model_name": "DescriptionStyleModel",
      "state": {
       "_model_module": "@jupyter-widgets/controls",
       "_model_module_version": "1.5.0",
       "_model_name": "DescriptionStyleModel",
       "_view_count": null,
       "_view_module": "@jupyter-widgets/base",
       "_view_module_version": "1.2.0",
       "_view_name": "StyleView",
       "description_width": ""
      }
     },
     "a2f42d5e008a40b48b069cc8e55194f9": {
      "model_module": "@jupyter-widgets/controls",
      "model_module_version": "1.5.0",
      "model_name": "HTMLModel",
      "state": {
       "_dom_classes": [],
       "_model_module": "@jupyter-widgets/controls",
       "_model_module_version": "1.5.0",
       "_model_name": "HTMLModel",
       "_view_count": null,
       "_view_module": "@jupyter-widgets/controls",
       "_view_module_version": "1.5.0",
       "_view_name": "HTMLView",
       "description": "",
       "description_tooltip": null,
       "layout": "IPY_MODEL_8e12e14166a44df281388b42e070c37e",
       "placeholder": "​",
       "style": "IPY_MODEL_8060496deffa4bb2bac8a18dd6657734",
       "value": " 10/10 [00:00&lt;00:00, 13.56it/s]"
      }
     },
     "a2fb39be6293414c962bb2517c272a70": {
      "model_module": "@jupyter-widgets/controls",
      "model_module_version": "1.5.0",
      "model_name": "FloatProgressModel",
      "state": {
       "_dom_classes": [],
       "_model_module": "@jupyter-widgets/controls",
       "_model_module_version": "1.5.0",
       "_model_name": "FloatProgressModel",
       "_view_count": null,
       "_view_module": "@jupyter-widgets/controls",
       "_view_module_version": "1.5.0",
       "_view_name": "ProgressView",
       "bar_style": "success",
       "description": "",
       "description_tooltip": null,
       "layout": "IPY_MODEL_8248ea69b774465aa7c135e6c317e44c",
       "max": 1000,
       "min": 0,
       "orientation": "horizontal",
       "style": "IPY_MODEL_705a363eab6e469ca7e8237999cecbb9",
       "value": 1000
      }
     },
     "a368ed82de1d4b5e839019a38e53ef47": {
      "model_module": "@jupyter-widgets/controls",
      "model_module_version": "1.5.0",
      "model_name": "FloatProgressModel",
      "state": {
       "_dom_classes": [],
       "_model_module": "@jupyter-widgets/controls",
       "_model_module_version": "1.5.0",
       "_model_name": "FloatProgressModel",
       "_view_count": null,
       "_view_module": "@jupyter-widgets/controls",
       "_view_module_version": "1.5.0",
       "_view_name": "ProgressView",
       "bar_style": "success",
       "description": "",
       "description_tooltip": null,
       "layout": "IPY_MODEL_06421d4529c14dcfa9e37d02907e4041",
       "max": 10,
       "min": 0,
       "orientation": "horizontal",
       "style": "IPY_MODEL_2b085b08683b4b0c8bd3feb9ff4ca159",
       "value": 10
      }
     },
     "a3f3c6979a284f988073bcaf396bb76e": {
      "model_module": "@jupyter-widgets/controls",
      "model_module_version": "1.5.0",
      "model_name": "HTMLModel",
      "state": {
       "_dom_classes": [],
       "_model_module": "@jupyter-widgets/controls",
       "_model_module_version": "1.5.0",
       "_model_name": "HTMLModel",
       "_view_count": null,
       "_view_module": "@jupyter-widgets/controls",
       "_view_module_version": "1.5.0",
       "_view_name": "HTMLView",
       "description": "",
       "description_tooltip": null,
       "layout": "IPY_MODEL_01e778e237124bdd8ce535499665fb35",
       "placeholder": "​",
       "style": "IPY_MODEL_6be66ee36deb47519a485fe7f9fb9852",
       "value": " 1000/1000 [03:23&lt;00:00,  3.34it/s]"
      }
     },
     "a407ffca440c4333a27f6c02dc0d0119": {
      "model_module": "@jupyter-widgets/controls",
      "model_module_version": "1.5.0",
      "model_name": "FloatProgressModel",
      "state": {
       "_dom_classes": [],
       "_model_module": "@jupyter-widgets/controls",
       "_model_module_version": "1.5.0",
       "_model_name": "FloatProgressModel",
       "_view_count": null,
       "_view_module": "@jupyter-widgets/controls",
       "_view_module_version": "1.5.0",
       "_view_name": "ProgressView",
       "bar_style": "success",
       "description": "",
       "description_tooltip": null,
       "layout": "IPY_MODEL_bbaa916fc22a494e8c88370f4ce2a8ef",
       "max": 1000,
       "min": 0,
       "orientation": "horizontal",
       "style": "IPY_MODEL_ff312565626d4c3182b4b047f9031640",
       "value": 1000
      }
     },
     "a477eca532b5477696b783e69dbf25b2": {
      "model_module": "@jupyter-widgets/controls",
      "model_module_version": "1.5.0",
      "model_name": "DescriptionStyleModel",
      "state": {
       "_model_module": "@jupyter-widgets/controls",
       "_model_module_version": "1.5.0",
       "_model_name": "DescriptionStyleModel",
       "_view_count": null,
       "_view_module": "@jupyter-widgets/base",
       "_view_module_version": "1.2.0",
       "_view_name": "StyleView",
       "description_width": ""
      }
     },
     "a4c261e0599742aa97650c736ffb5c28": {
      "model_module": "@jupyter-widgets/base",
      "model_module_version": "1.2.0",
      "model_name": "LayoutModel",
      "state": {
       "_model_module": "@jupyter-widgets/base",
       "_model_module_version": "1.2.0",
       "_model_name": "LayoutModel",
       "_view_count": null,
       "_view_module": "@jupyter-widgets/base",
       "_view_module_version": "1.2.0",
       "_view_name": "LayoutView",
       "align_content": null,
       "align_items": null,
       "align_self": null,
       "border": null,
       "bottom": null,
       "display": null,
       "flex": null,
       "flex_flow": null,
       "grid_area": null,
       "grid_auto_columns": null,
       "grid_auto_flow": null,
       "grid_auto_rows": null,
       "grid_column": null,
       "grid_gap": null,
       "grid_row": null,
       "grid_template_areas": null,
       "grid_template_columns": null,
       "grid_template_rows": null,
       "height": null,
       "justify_content": null,
       "justify_items": null,
       "left": null,
       "margin": null,
       "max_height": null,
       "max_width": null,
       "min_height": null,
       "min_width": null,
       "object_fit": null,
       "object_position": null,
       "order": null,
       "overflow": null,
       "overflow_x": null,
       "overflow_y": null,
       "padding": null,
       "right": null,
       "top": null,
       "visibility": null,
       "width": null
      }
     },
     "a68e8c23896b4ff38c336f33b03f37a3": {
      "model_module": "@jupyter-widgets/controls",
      "model_module_version": "1.5.0",
      "model_name": "HTMLModel",
      "state": {
       "_dom_classes": [],
       "_model_module": "@jupyter-widgets/controls",
       "_model_module_version": "1.5.0",
       "_model_name": "HTMLModel",
       "_view_count": null,
       "_view_module": "@jupyter-widgets/controls",
       "_view_module_version": "1.5.0",
       "_view_name": "HTMLView",
       "description": "",
       "description_tooltip": null,
       "layout": "IPY_MODEL_104c13e18fc5435e9ded1e02fdf945c4",
       "placeholder": "​",
       "style": "IPY_MODEL_83db47df03d441e0b99609861f0ca8a9",
       "value": "100%"
      }
     },
     "a696c3872e3b4cd391ab35d2e261c7cd": {
      "model_module": "@jupyter-widgets/controls",
      "model_module_version": "1.5.0",
      "model_name": "FloatProgressModel",
      "state": {
       "_dom_classes": [],
       "_model_module": "@jupyter-widgets/controls",
       "_model_module_version": "1.5.0",
       "_model_name": "FloatProgressModel",
       "_view_count": null,
       "_view_module": "@jupyter-widgets/controls",
       "_view_module_version": "1.5.0",
       "_view_name": "ProgressView",
       "bar_style": "success",
       "description": "",
       "description_tooltip": null,
       "layout": "IPY_MODEL_631e6bf9a0f440cebef0e3ae95758139",
       "max": 10,
       "min": 0,
       "orientation": "horizontal",
       "style": "IPY_MODEL_88917a5939f044879b21f6e9f3400b45",
       "value": 10
      }
     },
     "a69dcbd87c9b4b71993beff3ec5a0f4f": {
      "model_module": "@jupyter-widgets/base",
      "model_module_version": "1.2.0",
      "model_name": "LayoutModel",
      "state": {
       "_model_module": "@jupyter-widgets/base",
       "_model_module_version": "1.2.0",
       "_model_name": "LayoutModel",
       "_view_count": null,
       "_view_module": "@jupyter-widgets/base",
       "_view_module_version": "1.2.0",
       "_view_name": "LayoutView",
       "align_content": null,
       "align_items": null,
       "align_self": null,
       "border": null,
       "bottom": null,
       "display": null,
       "flex": null,
       "flex_flow": null,
       "grid_area": null,
       "grid_auto_columns": null,
       "grid_auto_flow": null,
       "grid_auto_rows": null,
       "grid_column": null,
       "grid_gap": null,
       "grid_row": null,
       "grid_template_areas": null,
       "grid_template_columns": null,
       "grid_template_rows": null,
       "height": null,
       "justify_content": null,
       "justify_items": null,
       "left": null,
       "margin": null,
       "max_height": null,
       "max_width": null,
       "min_height": null,
       "min_width": null,
       "object_fit": null,
       "object_position": null,
       "order": null,
       "overflow": null,
       "overflow_x": null,
       "overflow_y": null,
       "padding": null,
       "right": null,
       "top": null,
       "visibility": null,
       "width": null
      }
     },
     "a6a7f0fc336c4c41a078aa4904343989": {
      "model_module": "@jupyter-widgets/controls",
      "model_module_version": "1.5.0",
      "model_name": "HTMLModel",
      "state": {
       "_dom_classes": [],
       "_model_module": "@jupyter-widgets/controls",
       "_model_module_version": "1.5.0",
       "_model_name": "HTMLModel",
       "_view_count": null,
       "_view_module": "@jupyter-widgets/controls",
       "_view_module_version": "1.5.0",
       "_view_name": "HTMLView",
       "description": "",
       "description_tooltip": null,
       "layout": "IPY_MODEL_e7a92c281238453eb2625f59f27da812",
       "placeholder": "​",
       "style": "IPY_MODEL_8ee2c3cb9d31467288da70229468b15a",
       "value": " 10/10 [00:00&lt;00:00, 40.10it/s]"
      }
     },
     "a71d2cf5847842d5ac026fdf0279b564": {
      "model_module": "@jupyter-widgets/base",
      "model_module_version": "1.2.0",
      "model_name": "LayoutModel",
      "state": {
       "_model_module": "@jupyter-widgets/base",
       "_model_module_version": "1.2.0",
       "_model_name": "LayoutModel",
       "_view_count": null,
       "_view_module": "@jupyter-widgets/base",
       "_view_module_version": "1.2.0",
       "_view_name": "LayoutView",
       "align_content": null,
       "align_items": null,
       "align_self": null,
       "border": null,
       "bottom": null,
       "display": null,
       "flex": null,
       "flex_flow": null,
       "grid_area": null,
       "grid_auto_columns": null,
       "grid_auto_flow": null,
       "grid_auto_rows": null,
       "grid_column": null,
       "grid_gap": null,
       "grid_row": null,
       "grid_template_areas": null,
       "grid_template_columns": null,
       "grid_template_rows": null,
       "height": null,
       "justify_content": null,
       "justify_items": null,
       "left": null,
       "margin": null,
       "max_height": null,
       "max_width": null,
       "min_height": null,
       "min_width": null,
       "object_fit": null,
       "object_position": null,
       "order": null,
       "overflow": null,
       "overflow_x": null,
       "overflow_y": null,
       "padding": null,
       "right": null,
       "top": null,
       "visibility": null,
       "width": null
      }
     },
     "a81bbda9f56d488c9c9af01a906a9f08": {
      "model_module": "@jupyter-widgets/controls",
      "model_module_version": "1.5.0",
      "model_name": "DescriptionStyleModel",
      "state": {
       "_model_module": "@jupyter-widgets/controls",
       "_model_module_version": "1.5.0",
       "_model_name": "DescriptionStyleModel",
       "_view_count": null,
       "_view_module": "@jupyter-widgets/base",
       "_view_module_version": "1.2.0",
       "_view_name": "StyleView",
       "description_width": ""
      }
     },
     "a8510c1d47184d2c859b8d1d2a7da079": {
      "model_module": "@jupyter-widgets/controls",
      "model_module_version": "1.5.0",
      "model_name": "HTMLModel",
      "state": {
       "_dom_classes": [],
       "_model_module": "@jupyter-widgets/controls",
       "_model_module_version": "1.5.0",
       "_model_name": "HTMLModel",
       "_view_count": null,
       "_view_module": "@jupyter-widgets/controls",
       "_view_module_version": "1.5.0",
       "_view_name": "HTMLView",
       "description": "",
       "description_tooltip": null,
       "layout": "IPY_MODEL_71c9153e9aab42858d28b0e869ba9635",
       "placeholder": "​",
       "style": "IPY_MODEL_4df775cfcece4321801073717fc5db7c",
       "value": " 10/10 [00:00&lt;00:00, 31.56it/s]"
      }
     },
     "aa44b6e0828f4624a8e5fe39f2f0ba26": {
      "model_module": "@jupyter-widgets/base",
      "model_module_version": "1.2.0",
      "model_name": "LayoutModel",
      "state": {
       "_model_module": "@jupyter-widgets/base",
       "_model_module_version": "1.2.0",
       "_model_name": "LayoutModel",
       "_view_count": null,
       "_view_module": "@jupyter-widgets/base",
       "_view_module_version": "1.2.0",
       "_view_name": "LayoutView",
       "align_content": null,
       "align_items": null,
       "align_self": null,
       "border": null,
       "bottom": null,
       "display": null,
       "flex": null,
       "flex_flow": null,
       "grid_area": null,
       "grid_auto_columns": null,
       "grid_auto_flow": null,
       "grid_auto_rows": null,
       "grid_column": null,
       "grid_gap": null,
       "grid_row": null,
       "grid_template_areas": null,
       "grid_template_columns": null,
       "grid_template_rows": null,
       "height": null,
       "justify_content": null,
       "justify_items": null,
       "left": null,
       "margin": null,
       "max_height": null,
       "max_width": null,
       "min_height": null,
       "min_width": null,
       "object_fit": null,
       "object_position": null,
       "order": null,
       "overflow": null,
       "overflow_x": null,
       "overflow_y": null,
       "padding": null,
       "right": null,
       "top": null,
       "visibility": null,
       "width": null
      }
     },
     "ab5e1e78f2664a04807721298b9905bc": {
      "model_module": "@jupyter-widgets/base",
      "model_module_version": "1.2.0",
      "model_name": "LayoutModel",
      "state": {
       "_model_module": "@jupyter-widgets/base",
       "_model_module_version": "1.2.0",
       "_model_name": "LayoutModel",
       "_view_count": null,
       "_view_module": "@jupyter-widgets/base",
       "_view_module_version": "1.2.0",
       "_view_name": "LayoutView",
       "align_content": null,
       "align_items": null,
       "align_self": null,
       "border": null,
       "bottom": null,
       "display": null,
       "flex": null,
       "flex_flow": null,
       "grid_area": null,
       "grid_auto_columns": null,
       "grid_auto_flow": null,
       "grid_auto_rows": null,
       "grid_column": null,
       "grid_gap": null,
       "grid_row": null,
       "grid_template_areas": null,
       "grid_template_columns": null,
       "grid_template_rows": null,
       "height": null,
       "justify_content": null,
       "justify_items": null,
       "left": null,
       "margin": null,
       "max_height": null,
       "max_width": null,
       "min_height": null,
       "min_width": null,
       "object_fit": null,
       "object_position": null,
       "order": null,
       "overflow": null,
       "overflow_x": null,
       "overflow_y": null,
       "padding": null,
       "right": null,
       "top": null,
       "visibility": null,
       "width": null
      }
     },
     "ab83bfde8e97456db0beef2457f2c6c4": {
      "model_module": "@jupyter-widgets/controls",
      "model_module_version": "1.5.0",
      "model_name": "ProgressStyleModel",
      "state": {
       "_model_module": "@jupyter-widgets/controls",
       "_model_module_version": "1.5.0",
       "_model_name": "ProgressStyleModel",
       "_view_count": null,
       "_view_module": "@jupyter-widgets/base",
       "_view_module_version": "1.2.0",
       "_view_name": "StyleView",
       "bar_color": null,
       "description_width": ""
      }
     },
     "ab8c4934bef24f75a6585040bb78449b": {
      "model_module": "@jupyter-widgets/base",
      "model_module_version": "1.2.0",
      "model_name": "LayoutModel",
      "state": {
       "_model_module": "@jupyter-widgets/base",
       "_model_module_version": "1.2.0",
       "_model_name": "LayoutModel",
       "_view_count": null,
       "_view_module": "@jupyter-widgets/base",
       "_view_module_version": "1.2.0",
       "_view_name": "LayoutView",
       "align_content": null,
       "align_items": null,
       "align_self": null,
       "border": null,
       "bottom": null,
       "display": null,
       "flex": null,
       "flex_flow": null,
       "grid_area": null,
       "grid_auto_columns": null,
       "grid_auto_flow": null,
       "grid_auto_rows": null,
       "grid_column": null,
       "grid_gap": null,
       "grid_row": null,
       "grid_template_areas": null,
       "grid_template_columns": null,
       "grid_template_rows": null,
       "height": null,
       "justify_content": null,
       "justify_items": null,
       "left": null,
       "margin": null,
       "max_height": null,
       "max_width": null,
       "min_height": null,
       "min_width": null,
       "object_fit": null,
       "object_position": null,
       "order": null,
       "overflow": null,
       "overflow_x": null,
       "overflow_y": null,
       "padding": null,
       "right": null,
       "top": null,
       "visibility": null,
       "width": null
      }
     },
     "abaa8c8bf0f14964ad43109f56f9e4a3": {
      "model_module": "@jupyter-widgets/controls",
      "model_module_version": "1.5.0",
      "model_name": "FloatProgressModel",
      "state": {
       "_dom_classes": [],
       "_model_module": "@jupyter-widgets/controls",
       "_model_module_version": "1.5.0",
       "_model_name": "FloatProgressModel",
       "_view_count": null,
       "_view_module": "@jupyter-widgets/controls",
       "_view_module_version": "1.5.0",
       "_view_name": "ProgressView",
       "bar_style": "success",
       "description": "",
       "description_tooltip": null,
       "layout": "IPY_MODEL_dce9c74e3d7940c4a505e83a15cf9295",
       "max": 10,
       "min": 0,
       "orientation": "horizontal",
       "style": "IPY_MODEL_0c9b7e194f4d4f86992cc5de576fd886",
       "value": 10
      }
     },
     "abd2c3f81bc74aecabeede8fecc99432": {
      "model_module": "@jupyter-widgets/base",
      "model_module_version": "1.2.0",
      "model_name": "LayoutModel",
      "state": {
       "_model_module": "@jupyter-widgets/base",
       "_model_module_version": "1.2.0",
       "_model_name": "LayoutModel",
       "_view_count": null,
       "_view_module": "@jupyter-widgets/base",
       "_view_module_version": "1.2.0",
       "_view_name": "LayoutView",
       "align_content": null,
       "align_items": null,
       "align_self": null,
       "border": null,
       "bottom": null,
       "display": null,
       "flex": null,
       "flex_flow": null,
       "grid_area": null,
       "grid_auto_columns": null,
       "grid_auto_flow": null,
       "grid_auto_rows": null,
       "grid_column": null,
       "grid_gap": null,
       "grid_row": null,
       "grid_template_areas": null,
       "grid_template_columns": null,
       "grid_template_rows": null,
       "height": null,
       "justify_content": null,
       "justify_items": null,
       "left": null,
       "margin": null,
       "max_height": null,
       "max_width": null,
       "min_height": null,
       "min_width": null,
       "object_fit": null,
       "object_position": null,
       "order": null,
       "overflow": null,
       "overflow_x": null,
       "overflow_y": null,
       "padding": null,
       "right": null,
       "top": null,
       "visibility": null,
       "width": null
      }
     },
     "ac20f975c53d4613b28687e156d617dc": {
      "model_module": "@jupyter-widgets/base",
      "model_module_version": "1.2.0",
      "model_name": "LayoutModel",
      "state": {
       "_model_module": "@jupyter-widgets/base",
       "_model_module_version": "1.2.0",
       "_model_name": "LayoutModel",
       "_view_count": null,
       "_view_module": "@jupyter-widgets/base",
       "_view_module_version": "1.2.0",
       "_view_name": "LayoutView",
       "align_content": null,
       "align_items": null,
       "align_self": null,
       "border": null,
       "bottom": null,
       "display": null,
       "flex": null,
       "flex_flow": null,
       "grid_area": null,
       "grid_auto_columns": null,
       "grid_auto_flow": null,
       "grid_auto_rows": null,
       "grid_column": null,
       "grid_gap": null,
       "grid_row": null,
       "grid_template_areas": null,
       "grid_template_columns": null,
       "grid_template_rows": null,
       "height": null,
       "justify_content": null,
       "justify_items": null,
       "left": null,
       "margin": null,
       "max_height": null,
       "max_width": null,
       "min_height": null,
       "min_width": null,
       "object_fit": null,
       "object_position": null,
       "order": null,
       "overflow": null,
       "overflow_x": null,
       "overflow_y": null,
       "padding": null,
       "right": null,
       "top": null,
       "visibility": null,
       "width": null
      }
     },
     "ac7d2134d506417d94c1a9caca52f630": {
      "model_module": "@jupyter-widgets/controls",
      "model_module_version": "1.5.0",
      "model_name": "DescriptionStyleModel",
      "state": {
       "_model_module": "@jupyter-widgets/controls",
       "_model_module_version": "1.5.0",
       "_model_name": "DescriptionStyleModel",
       "_view_count": null,
       "_view_module": "@jupyter-widgets/base",
       "_view_module_version": "1.2.0",
       "_view_name": "StyleView",
       "description_width": ""
      }
     },
     "ac8a71a2dd3b48f8aaab62b7cc8c8b34": {
      "model_module": "@jupyter-widgets/controls",
      "model_module_version": "1.5.0",
      "model_name": "FloatProgressModel",
      "state": {
       "_dom_classes": [],
       "_model_module": "@jupyter-widgets/controls",
       "_model_module_version": "1.5.0",
       "_model_name": "FloatProgressModel",
       "_view_count": null,
       "_view_module": "@jupyter-widgets/controls",
       "_view_module_version": "1.5.0",
       "_view_name": "ProgressView",
       "bar_style": "success",
       "description": "",
       "description_tooltip": null,
       "layout": "IPY_MODEL_0f1e2bb69f0c444081efe374a67452aa",
       "max": 1000,
       "min": 0,
       "orientation": "horizontal",
       "style": "IPY_MODEL_f9ef8f7ef59f442d97b101c4f0ff8c65",
       "value": 1000
      }
     },
     "aca5979bf15d40c5822d23d7fe8bef31": {
      "model_module": "@jupyter-widgets/base",
      "model_module_version": "1.2.0",
      "model_name": "LayoutModel",
      "state": {
       "_model_module": "@jupyter-widgets/base",
       "_model_module_version": "1.2.0",
       "_model_name": "LayoutModel",
       "_view_count": null,
       "_view_module": "@jupyter-widgets/base",
       "_view_module_version": "1.2.0",
       "_view_name": "LayoutView",
       "align_content": null,
       "align_items": null,
       "align_self": null,
       "border": null,
       "bottom": null,
       "display": null,
       "flex": null,
       "flex_flow": null,
       "grid_area": null,
       "grid_auto_columns": null,
       "grid_auto_flow": null,
       "grid_auto_rows": null,
       "grid_column": null,
       "grid_gap": null,
       "grid_row": null,
       "grid_template_areas": null,
       "grid_template_columns": null,
       "grid_template_rows": null,
       "height": null,
       "justify_content": null,
       "justify_items": null,
       "left": null,
       "margin": null,
       "max_height": null,
       "max_width": null,
       "min_height": null,
       "min_width": null,
       "object_fit": null,
       "object_position": null,
       "order": null,
       "overflow": null,
       "overflow_x": null,
       "overflow_y": null,
       "padding": null,
       "right": null,
       "top": null,
       "visibility": null,
       "width": null
      }
     },
     "acc1e3782e8a4a369d330fa4cee4d3ac": {
      "model_module": "@jupyter-widgets/base",
      "model_module_version": "1.2.0",
      "model_name": "LayoutModel",
      "state": {
       "_model_module": "@jupyter-widgets/base",
       "_model_module_version": "1.2.0",
       "_model_name": "LayoutModel",
       "_view_count": null,
       "_view_module": "@jupyter-widgets/base",
       "_view_module_version": "1.2.0",
       "_view_name": "LayoutView",
       "align_content": null,
       "align_items": null,
       "align_self": null,
       "border": null,
       "bottom": null,
       "display": null,
       "flex": null,
       "flex_flow": null,
       "grid_area": null,
       "grid_auto_columns": null,
       "grid_auto_flow": null,
       "grid_auto_rows": null,
       "grid_column": null,
       "grid_gap": null,
       "grid_row": null,
       "grid_template_areas": null,
       "grid_template_columns": null,
       "grid_template_rows": null,
       "height": null,
       "justify_content": null,
       "justify_items": null,
       "left": null,
       "margin": null,
       "max_height": null,
       "max_width": null,
       "min_height": null,
       "min_width": null,
       "object_fit": null,
       "object_position": null,
       "order": null,
       "overflow": null,
       "overflow_x": null,
       "overflow_y": null,
       "padding": null,
       "right": null,
       "top": null,
       "visibility": null,
       "width": null
      }
     },
     "ace9c955361f4205904c02cbafa011dc": {
      "model_module": "@jupyter-widgets/controls",
      "model_module_version": "1.5.0",
      "model_name": "HTMLModel",
      "state": {
       "_dom_classes": [],
       "_model_module": "@jupyter-widgets/controls",
       "_model_module_version": "1.5.0",
       "_model_name": "HTMLModel",
       "_view_count": null,
       "_view_module": "@jupyter-widgets/controls",
       "_view_module_version": "1.5.0",
       "_view_name": "HTMLView",
       "description": "",
       "description_tooltip": null,
       "layout": "IPY_MODEL_c54d6562eb4643eab423011968166b6c",
       "placeholder": "​",
       "style": "IPY_MODEL_5f33fe791047418ba2978efbe38bd840",
       "value": " 1000/1000 [7:55:57&lt;00:00, 29.44s/it]"
      }
     },
     "ad07fb6396194a7699e01fcf8ab66165": {
      "model_module": "@jupyter-widgets/base",
      "model_module_version": "1.2.0",
      "model_name": "LayoutModel",
      "state": {
       "_model_module": "@jupyter-widgets/base",
       "_model_module_version": "1.2.0",
       "_model_name": "LayoutModel",
       "_view_count": null,
       "_view_module": "@jupyter-widgets/base",
       "_view_module_version": "1.2.0",
       "_view_name": "LayoutView",
       "align_content": null,
       "align_items": null,
       "align_self": null,
       "border": null,
       "bottom": null,
       "display": null,
       "flex": null,
       "flex_flow": null,
       "grid_area": null,
       "grid_auto_columns": null,
       "grid_auto_flow": null,
       "grid_auto_rows": null,
       "grid_column": null,
       "grid_gap": null,
       "grid_row": null,
       "grid_template_areas": null,
       "grid_template_columns": null,
       "grid_template_rows": null,
       "height": null,
       "justify_content": null,
       "justify_items": null,
       "left": null,
       "margin": null,
       "max_height": null,
       "max_width": null,
       "min_height": null,
       "min_width": null,
       "object_fit": null,
       "object_position": null,
       "order": null,
       "overflow": null,
       "overflow_x": null,
       "overflow_y": null,
       "padding": null,
       "right": null,
       "top": null,
       "visibility": null,
       "width": null
      }
     },
     "ae7f2335260d4e1d9e1dc31c261823b9": {
      "model_module": "@jupyter-widgets/controls",
      "model_module_version": "1.5.0",
      "model_name": "HTMLModel",
      "state": {
       "_dom_classes": [],
       "_model_module": "@jupyter-widgets/controls",
       "_model_module_version": "1.5.0",
       "_model_name": "HTMLModel",
       "_view_count": null,
       "_view_module": "@jupyter-widgets/controls",
       "_view_module_version": "1.5.0",
       "_view_name": "HTMLView",
       "description": "",
       "description_tooltip": null,
       "layout": "IPY_MODEL_4de01ee8a30844d2977bce4299d955d0",
       "placeholder": "​",
       "style": "IPY_MODEL_8e269e9311a041e7b9d63d9e333a9c12",
       "value": " 100/100 [00:00&lt;00:00, 174.49it/s]"
      }
     },
     "af11441131dd49de98bdc7225c557989": {
      "model_module": "@jupyter-widgets/controls",
      "model_module_version": "1.5.0",
      "model_name": "DescriptionStyleModel",
      "state": {
       "_model_module": "@jupyter-widgets/controls",
       "_model_module_version": "1.5.0",
       "_model_name": "DescriptionStyleModel",
       "_view_count": null,
       "_view_module": "@jupyter-widgets/base",
       "_view_module_version": "1.2.0",
       "_view_name": "StyleView",
       "description_width": ""
      }
     },
     "b044367b192840548d447374fbc62210": {
      "model_module": "@jupyter-widgets/base",
      "model_module_version": "1.2.0",
      "model_name": "LayoutModel",
      "state": {
       "_model_module": "@jupyter-widgets/base",
       "_model_module_version": "1.2.0",
       "_model_name": "LayoutModel",
       "_view_count": null,
       "_view_module": "@jupyter-widgets/base",
       "_view_module_version": "1.2.0",
       "_view_name": "LayoutView",
       "align_content": null,
       "align_items": null,
       "align_self": null,
       "border": null,
       "bottom": null,
       "display": null,
       "flex": null,
       "flex_flow": null,
       "grid_area": null,
       "grid_auto_columns": null,
       "grid_auto_flow": null,
       "grid_auto_rows": null,
       "grid_column": null,
       "grid_gap": null,
       "grid_row": null,
       "grid_template_areas": null,
       "grid_template_columns": null,
       "grid_template_rows": null,
       "height": null,
       "justify_content": null,
       "justify_items": null,
       "left": null,
       "margin": null,
       "max_height": null,
       "max_width": null,
       "min_height": null,
       "min_width": null,
       "object_fit": null,
       "object_position": null,
       "order": null,
       "overflow": null,
       "overflow_x": null,
       "overflow_y": null,
       "padding": null,
       "right": null,
       "top": null,
       "visibility": null,
       "width": null
      }
     },
     "b07e7653dbcf472cb01f5436759c6046": {
      "model_module": "@jupyter-widgets/controls",
      "model_module_version": "1.5.0",
      "model_name": "FloatProgressModel",
      "state": {
       "_dom_classes": [],
       "_model_module": "@jupyter-widgets/controls",
       "_model_module_version": "1.5.0",
       "_model_name": "FloatProgressModel",
       "_view_count": null,
       "_view_module": "@jupyter-widgets/controls",
       "_view_module_version": "1.5.0",
       "_view_name": "ProgressView",
       "bar_style": "success",
       "description": "",
       "description_tooltip": null,
       "layout": "IPY_MODEL_fce114ccc0b24216842c071f9c91aacb",
       "max": 1000,
       "min": 0,
       "orientation": "horizontal",
       "style": "IPY_MODEL_3433a38138b54b37b2efcd43d4cecb17",
       "value": 1000
      }
     },
     "b0d2cec55570458faa36630c0923799a": {
      "model_module": "@jupyter-widgets/controls",
      "model_module_version": "1.5.0",
      "model_name": "FloatProgressModel",
      "state": {
       "_dom_classes": [],
       "_model_module": "@jupyter-widgets/controls",
       "_model_module_version": "1.5.0",
       "_model_name": "FloatProgressModel",
       "_view_count": null,
       "_view_module": "@jupyter-widgets/controls",
       "_view_module_version": "1.5.0",
       "_view_name": "ProgressView",
       "bar_style": "success",
       "description": "",
       "description_tooltip": null,
       "layout": "IPY_MODEL_b044367b192840548d447374fbc62210",
       "max": 1000,
       "min": 0,
       "orientation": "horizontal",
       "style": "IPY_MODEL_7ee29c4887ba47ae88fdbfcf805acf1e",
       "value": 1000
      }
     },
     "b0f60074027c4d77965c6b7173615431": {
      "model_module": "@jupyter-widgets/controls",
      "model_module_version": "1.5.0",
      "model_name": "DescriptionStyleModel",
      "state": {
       "_model_module": "@jupyter-widgets/controls",
       "_model_module_version": "1.5.0",
       "_model_name": "DescriptionStyleModel",
       "_view_count": null,
       "_view_module": "@jupyter-widgets/base",
       "_view_module_version": "1.2.0",
       "_view_name": "StyleView",
       "description_width": ""
      }
     },
     "b1f013424c4f4316ac1d93a0c6c4ef65": {
      "model_module": "@jupyter-widgets/controls",
      "model_module_version": "1.5.0",
      "model_name": "HTMLModel",
      "state": {
       "_dom_classes": [],
       "_model_module": "@jupyter-widgets/controls",
       "_model_module_version": "1.5.0",
       "_model_name": "HTMLModel",
       "_view_count": null,
       "_view_module": "@jupyter-widgets/controls",
       "_view_module_version": "1.5.0",
       "_view_name": "HTMLView",
       "description": "",
       "description_tooltip": null,
       "layout": "IPY_MODEL_e3ae1c22da894d3ea06a12a43d3fad3e",
       "placeholder": "​",
       "style": "IPY_MODEL_af11441131dd49de98bdc7225c557989",
       "value": " 10/10 [00:00&lt;00:00, 20.32it/s]"
      }
     },
     "b2009e6f324f441ca00dc2d2b2279c8f": {
      "model_module": "@jupyter-widgets/base",
      "model_module_version": "1.2.0",
      "model_name": "LayoutModel",
      "state": {
       "_model_module": "@jupyter-widgets/base",
       "_model_module_version": "1.2.0",
       "_model_name": "LayoutModel",
       "_view_count": null,
       "_view_module": "@jupyter-widgets/base",
       "_view_module_version": "1.2.0",
       "_view_name": "LayoutView",
       "align_content": null,
       "align_items": null,
       "align_self": null,
       "border": null,
       "bottom": null,
       "display": null,
       "flex": null,
       "flex_flow": null,
       "grid_area": null,
       "grid_auto_columns": null,
       "grid_auto_flow": null,
       "grid_auto_rows": null,
       "grid_column": null,
       "grid_gap": null,
       "grid_row": null,
       "grid_template_areas": null,
       "grid_template_columns": null,
       "grid_template_rows": null,
       "height": null,
       "justify_content": null,
       "justify_items": null,
       "left": null,
       "margin": null,
       "max_height": null,
       "max_width": null,
       "min_height": null,
       "min_width": null,
       "object_fit": null,
       "object_position": null,
       "order": null,
       "overflow": null,
       "overflow_x": null,
       "overflow_y": null,
       "padding": null,
       "right": null,
       "top": null,
       "visibility": null,
       "width": null
      }
     },
     "b29daf21510042c793e41a32a42be176": {
      "model_module": "@jupyter-widgets/base",
      "model_module_version": "1.2.0",
      "model_name": "LayoutModel",
      "state": {
       "_model_module": "@jupyter-widgets/base",
       "_model_module_version": "1.2.0",
       "_model_name": "LayoutModel",
       "_view_count": null,
       "_view_module": "@jupyter-widgets/base",
       "_view_module_version": "1.2.0",
       "_view_name": "LayoutView",
       "align_content": null,
       "align_items": null,
       "align_self": null,
       "border": null,
       "bottom": null,
       "display": null,
       "flex": null,
       "flex_flow": null,
       "grid_area": null,
       "grid_auto_columns": null,
       "grid_auto_flow": null,
       "grid_auto_rows": null,
       "grid_column": null,
       "grid_gap": null,
       "grid_row": null,
       "grid_template_areas": null,
       "grid_template_columns": null,
       "grid_template_rows": null,
       "height": null,
       "justify_content": null,
       "justify_items": null,
       "left": null,
       "margin": null,
       "max_height": null,
       "max_width": null,
       "min_height": null,
       "min_width": null,
       "object_fit": null,
       "object_position": null,
       "order": null,
       "overflow": null,
       "overflow_x": null,
       "overflow_y": null,
       "padding": null,
       "right": null,
       "top": null,
       "visibility": null,
       "width": null
      }
     },
     "b29eca25a2fe4b7fbfc9d78c404f5d09": {
      "model_module": "@jupyter-widgets/base",
      "model_module_version": "1.2.0",
      "model_name": "LayoutModel",
      "state": {
       "_model_module": "@jupyter-widgets/base",
       "_model_module_version": "1.2.0",
       "_model_name": "LayoutModel",
       "_view_count": null,
       "_view_module": "@jupyter-widgets/base",
       "_view_module_version": "1.2.0",
       "_view_name": "LayoutView",
       "align_content": null,
       "align_items": null,
       "align_self": null,
       "border": null,
       "bottom": null,
       "display": null,
       "flex": null,
       "flex_flow": null,
       "grid_area": null,
       "grid_auto_columns": null,
       "grid_auto_flow": null,
       "grid_auto_rows": null,
       "grid_column": null,
       "grid_gap": null,
       "grid_row": null,
       "grid_template_areas": null,
       "grid_template_columns": null,
       "grid_template_rows": null,
       "height": null,
       "justify_content": null,
       "justify_items": null,
       "left": null,
       "margin": null,
       "max_height": null,
       "max_width": null,
       "min_height": null,
       "min_width": null,
       "object_fit": null,
       "object_position": null,
       "order": null,
       "overflow": null,
       "overflow_x": null,
       "overflow_y": null,
       "padding": null,
       "right": null,
       "top": null,
       "visibility": null,
       "width": null
      }
     },
     "b301a4cde97544979fdefae8d5a6155b": {
      "model_module": "@jupyter-widgets/base",
      "model_module_version": "1.2.0",
      "model_name": "LayoutModel",
      "state": {
       "_model_module": "@jupyter-widgets/base",
       "_model_module_version": "1.2.0",
       "_model_name": "LayoutModel",
       "_view_count": null,
       "_view_module": "@jupyter-widgets/base",
       "_view_module_version": "1.2.0",
       "_view_name": "LayoutView",
       "align_content": null,
       "align_items": null,
       "align_self": null,
       "border": null,
       "bottom": null,
       "display": null,
       "flex": null,
       "flex_flow": null,
       "grid_area": null,
       "grid_auto_columns": null,
       "grid_auto_flow": null,
       "grid_auto_rows": null,
       "grid_column": null,
       "grid_gap": null,
       "grid_row": null,
       "grid_template_areas": null,
       "grid_template_columns": null,
       "grid_template_rows": null,
       "height": null,
       "justify_content": null,
       "justify_items": null,
       "left": null,
       "margin": null,
       "max_height": null,
       "max_width": null,
       "min_height": null,
       "min_width": null,
       "object_fit": null,
       "object_position": null,
       "order": null,
       "overflow": null,
       "overflow_x": null,
       "overflow_y": null,
       "padding": null,
       "right": null,
       "top": null,
       "visibility": null,
       "width": null
      }
     },
     "b3c5996624964ccf8c99838a431dbedd": {
      "model_module": "@jupyter-widgets/controls",
      "model_module_version": "1.5.0",
      "model_name": "HTMLModel",
      "state": {
       "_dom_classes": [],
       "_model_module": "@jupyter-widgets/controls",
       "_model_module_version": "1.5.0",
       "_model_name": "HTMLModel",
       "_view_count": null,
       "_view_module": "@jupyter-widgets/controls",
       "_view_module_version": "1.5.0",
       "_view_name": "HTMLView",
       "description": "",
       "description_tooltip": null,
       "layout": "IPY_MODEL_d2b0d230db46475090cf1d2bff6b07d9",
       "placeholder": "​",
       "style": "IPY_MODEL_32f449d43b4249af96183ced0a8f629f",
       "value": " 1000/1000 [22:07&lt;00:00,  1.25s/it]"
      }
     },
     "b4740ce56bce4479ae8845b7b897c82c": {
      "model_module": "@jupyter-widgets/base",
      "model_module_version": "1.2.0",
      "model_name": "LayoutModel",
      "state": {
       "_model_module": "@jupyter-widgets/base",
       "_model_module_version": "1.2.0",
       "_model_name": "LayoutModel",
       "_view_count": null,
       "_view_module": "@jupyter-widgets/base",
       "_view_module_version": "1.2.0",
       "_view_name": "LayoutView",
       "align_content": null,
       "align_items": null,
       "align_self": null,
       "border": null,
       "bottom": null,
       "display": null,
       "flex": null,
       "flex_flow": null,
       "grid_area": null,
       "grid_auto_columns": null,
       "grid_auto_flow": null,
       "grid_auto_rows": null,
       "grid_column": null,
       "grid_gap": null,
       "grid_row": null,
       "grid_template_areas": null,
       "grid_template_columns": null,
       "grid_template_rows": null,
       "height": null,
       "justify_content": null,
       "justify_items": null,
       "left": null,
       "margin": null,
       "max_height": null,
       "max_width": null,
       "min_height": null,
       "min_width": null,
       "object_fit": null,
       "object_position": null,
       "order": null,
       "overflow": null,
       "overflow_x": null,
       "overflow_y": null,
       "padding": null,
       "right": null,
       "top": null,
       "visibility": null,
       "width": null
      }
     },
     "b48ee4203cdd4600a17d5a7a4daebef0": {
      "model_module": "@jupyter-widgets/controls",
      "model_module_version": "1.5.0",
      "model_name": "DescriptionStyleModel",
      "state": {
       "_model_module": "@jupyter-widgets/controls",
       "_model_module_version": "1.5.0",
       "_model_name": "DescriptionStyleModel",
       "_view_count": null,
       "_view_module": "@jupyter-widgets/base",
       "_view_module_version": "1.2.0",
       "_view_name": "StyleView",
       "description_width": ""
      }
     },
     "b4f98294f5a048b088c347d5f5c7bc76": {
      "model_module": "@jupyter-widgets/base",
      "model_module_version": "1.2.0",
      "model_name": "LayoutModel",
      "state": {
       "_model_module": "@jupyter-widgets/base",
       "_model_module_version": "1.2.0",
       "_model_name": "LayoutModel",
       "_view_count": null,
       "_view_module": "@jupyter-widgets/base",
       "_view_module_version": "1.2.0",
       "_view_name": "LayoutView",
       "align_content": null,
       "align_items": null,
       "align_self": null,
       "border": null,
       "bottom": null,
       "display": null,
       "flex": null,
       "flex_flow": null,
       "grid_area": null,
       "grid_auto_columns": null,
       "grid_auto_flow": null,
       "grid_auto_rows": null,
       "grid_column": null,
       "grid_gap": null,
       "grid_row": null,
       "grid_template_areas": null,
       "grid_template_columns": null,
       "grid_template_rows": null,
       "height": null,
       "justify_content": null,
       "justify_items": null,
       "left": null,
       "margin": null,
       "max_height": null,
       "max_width": null,
       "min_height": null,
       "min_width": null,
       "object_fit": null,
       "object_position": null,
       "order": null,
       "overflow": null,
       "overflow_x": null,
       "overflow_y": null,
       "padding": null,
       "right": null,
       "top": null,
       "visibility": null,
       "width": null
      }
     },
     "b52361c649904945adf447b08bdf571f": {
      "model_module": "@jupyter-widgets/base",
      "model_module_version": "1.2.0",
      "model_name": "LayoutModel",
      "state": {
       "_model_module": "@jupyter-widgets/base",
       "_model_module_version": "1.2.0",
       "_model_name": "LayoutModel",
       "_view_count": null,
       "_view_module": "@jupyter-widgets/base",
       "_view_module_version": "1.2.0",
       "_view_name": "LayoutView",
       "align_content": null,
       "align_items": null,
       "align_self": null,
       "border": null,
       "bottom": null,
       "display": null,
       "flex": null,
       "flex_flow": null,
       "grid_area": null,
       "grid_auto_columns": null,
       "grid_auto_flow": null,
       "grid_auto_rows": null,
       "grid_column": null,
       "grid_gap": null,
       "grid_row": null,
       "grid_template_areas": null,
       "grid_template_columns": null,
       "grid_template_rows": null,
       "height": null,
       "justify_content": null,
       "justify_items": null,
       "left": null,
       "margin": null,
       "max_height": null,
       "max_width": null,
       "min_height": null,
       "min_width": null,
       "object_fit": null,
       "object_position": null,
       "order": null,
       "overflow": null,
       "overflow_x": null,
       "overflow_y": null,
       "padding": null,
       "right": null,
       "top": null,
       "visibility": null,
       "width": null
      }
     },
     "b63aedf2fd86450992871e8667204678": {
      "model_module": "@jupyter-widgets/base",
      "model_module_version": "1.2.0",
      "model_name": "LayoutModel",
      "state": {
       "_model_module": "@jupyter-widgets/base",
       "_model_module_version": "1.2.0",
       "_model_name": "LayoutModel",
       "_view_count": null,
       "_view_module": "@jupyter-widgets/base",
       "_view_module_version": "1.2.0",
       "_view_name": "LayoutView",
       "align_content": null,
       "align_items": null,
       "align_self": null,
       "border": null,
       "bottom": null,
       "display": null,
       "flex": null,
       "flex_flow": null,
       "grid_area": null,
       "grid_auto_columns": null,
       "grid_auto_flow": null,
       "grid_auto_rows": null,
       "grid_column": null,
       "grid_gap": null,
       "grid_row": null,
       "grid_template_areas": null,
       "grid_template_columns": null,
       "grid_template_rows": null,
       "height": null,
       "justify_content": null,
       "justify_items": null,
       "left": null,
       "margin": null,
       "max_height": null,
       "max_width": null,
       "min_height": null,
       "min_width": null,
       "object_fit": null,
       "object_position": null,
       "order": null,
       "overflow": null,
       "overflow_x": null,
       "overflow_y": null,
       "padding": null,
       "right": null,
       "top": null,
       "visibility": null,
       "width": null
      }
     },
     "b651aff46a2e4d8b9fdbce59b977f632": {
      "model_module": "@jupyter-widgets/controls",
      "model_module_version": "1.5.0",
      "model_name": "HTMLModel",
      "state": {
       "_dom_classes": [],
       "_model_module": "@jupyter-widgets/controls",
       "_model_module_version": "1.5.0",
       "_model_name": "HTMLModel",
       "_view_count": null,
       "_view_module": "@jupyter-widgets/controls",
       "_view_module_version": "1.5.0",
       "_view_name": "HTMLView",
       "description": "",
       "description_tooltip": null,
       "layout": "IPY_MODEL_170175073d80448aa164876ebe474731",
       "placeholder": "​",
       "style": "IPY_MODEL_2a10e649a6c241f0bc2e1019870a540c",
       "value": " 1000/1000 [09:38&lt;00:00,  1.77it/s]"
      }
     },
     "b68ba8a5ddb74aefb5a37a03c0532e68": {
      "model_module": "@jupyter-widgets/controls",
      "model_module_version": "1.5.0",
      "model_name": "HTMLModel",
      "state": {
       "_dom_classes": [],
       "_model_module": "@jupyter-widgets/controls",
       "_model_module_version": "1.5.0",
       "_model_name": "HTMLModel",
       "_view_count": null,
       "_view_module": "@jupyter-widgets/controls",
       "_view_module_version": "1.5.0",
       "_view_name": "HTMLView",
       "description": "",
       "description_tooltip": null,
       "layout": "IPY_MODEL_98b61171a6a44ef2982d01c4bde1aa73",
       "placeholder": "​",
       "style": "IPY_MODEL_7fcd592268c64be5b37fbb53cdadd685",
       "value": "100%"
      }
     },
     "b6d0df2860c14a339b72ccb5e7fd752d": {
      "model_module": "@jupyter-widgets/base",
      "model_module_version": "1.2.0",
      "model_name": "LayoutModel",
      "state": {
       "_model_module": "@jupyter-widgets/base",
       "_model_module_version": "1.2.0",
       "_model_name": "LayoutModel",
       "_view_count": null,
       "_view_module": "@jupyter-widgets/base",
       "_view_module_version": "1.2.0",
       "_view_name": "LayoutView",
       "align_content": null,
       "align_items": null,
       "align_self": null,
       "border": null,
       "bottom": null,
       "display": null,
       "flex": null,
       "flex_flow": null,
       "grid_area": null,
       "grid_auto_columns": null,
       "grid_auto_flow": null,
       "grid_auto_rows": null,
       "grid_column": null,
       "grid_gap": null,
       "grid_row": null,
       "grid_template_areas": null,
       "grid_template_columns": null,
       "grid_template_rows": null,
       "height": null,
       "justify_content": null,
       "justify_items": null,
       "left": null,
       "margin": null,
       "max_height": null,
       "max_width": null,
       "min_height": null,
       "min_width": null,
       "object_fit": null,
       "object_position": null,
       "order": null,
       "overflow": null,
       "overflow_x": null,
       "overflow_y": null,
       "padding": null,
       "right": null,
       "top": null,
       "visibility": null,
       "width": null
      }
     },
     "b79e7a67b6994649a90e47ce8402a742": {
      "model_module": "@jupyter-widgets/controls",
      "model_module_version": "1.5.0",
      "model_name": "HTMLModel",
      "state": {
       "_dom_classes": [],
       "_model_module": "@jupyter-widgets/controls",
       "_model_module_version": "1.5.0",
       "_model_name": "HTMLModel",
       "_view_count": null,
       "_view_module": "@jupyter-widgets/controls",
       "_view_module_version": "1.5.0",
       "_view_name": "HTMLView",
       "description": "",
       "description_tooltip": null,
       "layout": "IPY_MODEL_b4f98294f5a048b088c347d5f5c7bc76",
       "placeholder": "​",
       "style": "IPY_MODEL_f5962964a6184920bcba7db1822677f8",
       "value": " 100/100 [00:05&lt;00:00, 24.80it/s]"
      }
     },
     "b977b92181644ed8aa06d850a3bd9e63": {
      "model_module": "@jupyter-widgets/controls",
      "model_module_version": "1.5.0",
      "model_name": "DescriptionStyleModel",
      "state": {
       "_model_module": "@jupyter-widgets/controls",
       "_model_module_version": "1.5.0",
       "_model_name": "DescriptionStyleModel",
       "_view_count": null,
       "_view_module": "@jupyter-widgets/base",
       "_view_module_version": "1.2.0",
       "_view_name": "StyleView",
       "description_width": ""
      }
     },
     "ba705296a2784ada8f2a465d86c8cd08": {
      "model_module": "@jupyter-widgets/controls",
      "model_module_version": "1.5.0",
      "model_name": "FloatProgressModel",
      "state": {
       "_dom_classes": [],
       "_model_module": "@jupyter-widgets/controls",
       "_model_module_version": "1.5.0",
       "_model_name": "FloatProgressModel",
       "_view_count": null,
       "_view_module": "@jupyter-widgets/controls",
       "_view_module_version": "1.5.0",
       "_view_name": "ProgressView",
       "bar_style": "success",
       "description": "",
       "description_tooltip": null,
       "layout": "IPY_MODEL_0bd6e7213f75459aa6328ac8fbb19bf7",
       "max": 1000,
       "min": 0,
       "orientation": "horizontal",
       "style": "IPY_MODEL_8baa7a87e3a24936a0de6853cf14f8dd",
       "value": 1000
      }
     },
     "ba9ad0b4fa0540fb9ca2e2bc0a2c4c87": {
      "model_module": "@jupyter-widgets/controls",
      "model_module_version": "1.5.0",
      "model_name": "HTMLModel",
      "state": {
       "_dom_classes": [],
       "_model_module": "@jupyter-widgets/controls",
       "_model_module_version": "1.5.0",
       "_model_name": "HTMLModel",
       "_view_count": null,
       "_view_module": "@jupyter-widgets/controls",
       "_view_module_version": "1.5.0",
       "_view_name": "HTMLView",
       "description": "",
       "description_tooltip": null,
       "layout": "IPY_MODEL_648b3f12ef1d4c6aa6b9d842485ff921",
       "placeholder": "​",
       "style": "IPY_MODEL_63975ee9e8ec409198af1e07279d19aa",
       "value": "100%"
      }
     },
     "bafda985d32f46edbdce39a9dabd7516": {
      "model_module": "@jupyter-widgets/controls",
      "model_module_version": "1.5.0",
      "model_name": "FloatProgressModel",
      "state": {
       "_dom_classes": [],
       "_model_module": "@jupyter-widgets/controls",
       "_model_module_version": "1.5.0",
       "_model_name": "FloatProgressModel",
       "_view_count": null,
       "_view_module": "@jupyter-widgets/controls",
       "_view_module_version": "1.5.0",
       "_view_name": "ProgressView",
       "bar_style": "success",
       "description": "",
       "description_tooltip": null,
       "layout": "IPY_MODEL_a4c261e0599742aa97650c736ffb5c28",
       "max": 100,
       "min": 0,
       "orientation": "horizontal",
       "style": "IPY_MODEL_17981c57a50b41a7a0031acf038f9ced",
       "value": 100
      }
     },
     "bbaa916fc22a494e8c88370f4ce2a8ef": {
      "model_module": "@jupyter-widgets/base",
      "model_module_version": "1.2.0",
      "model_name": "LayoutModel",
      "state": {
       "_model_module": "@jupyter-widgets/base",
       "_model_module_version": "1.2.0",
       "_model_name": "LayoutModel",
       "_view_count": null,
       "_view_module": "@jupyter-widgets/base",
       "_view_module_version": "1.2.0",
       "_view_name": "LayoutView",
       "align_content": null,
       "align_items": null,
       "align_self": null,
       "border": null,
       "bottom": null,
       "display": null,
       "flex": null,
       "flex_flow": null,
       "grid_area": null,
       "grid_auto_columns": null,
       "grid_auto_flow": null,
       "grid_auto_rows": null,
       "grid_column": null,
       "grid_gap": null,
       "grid_row": null,
       "grid_template_areas": null,
       "grid_template_columns": null,
       "grid_template_rows": null,
       "height": null,
       "justify_content": null,
       "justify_items": null,
       "left": null,
       "margin": null,
       "max_height": null,
       "max_width": null,
       "min_height": null,
       "min_width": null,
       "object_fit": null,
       "object_position": null,
       "order": null,
       "overflow": null,
       "overflow_x": null,
       "overflow_y": null,
       "padding": null,
       "right": null,
       "top": null,
       "visibility": null,
       "width": null
      }
     },
     "bc007acedda343bcb7be2aa3e2ac0220": {
      "model_module": "@jupyter-widgets/controls",
      "model_module_version": "1.5.0",
      "model_name": "HTMLModel",
      "state": {
       "_dom_classes": [],
       "_model_module": "@jupyter-widgets/controls",
       "_model_module_version": "1.5.0",
       "_model_name": "HTMLModel",
       "_view_count": null,
       "_view_module": "@jupyter-widgets/controls",
       "_view_module_version": "1.5.0",
       "_view_name": "HTMLView",
       "description": "",
       "description_tooltip": null,
       "layout": "IPY_MODEL_855a5d15de404a329d78f0922c85b930",
       "placeholder": "​",
       "style": "IPY_MODEL_56d9ea14248b4950985262d720f3418a",
       "value": " 1000/1000 [07:48&lt;00:00,  2.04it/s]"
      }
     },
     "bdc357fbce4a4bda9571e0c39cb2b6e8": {
      "model_module": "@jupyter-widgets/controls",
      "model_module_version": "1.5.0",
      "model_name": "FloatProgressModel",
      "state": {
       "_dom_classes": [],
       "_model_module": "@jupyter-widgets/controls",
       "_model_module_version": "1.5.0",
       "_model_name": "FloatProgressModel",
       "_view_count": null,
       "_view_module": "@jupyter-widgets/controls",
       "_view_module_version": "1.5.0",
       "_view_name": "ProgressView",
       "bar_style": "success",
       "description": "",
       "description_tooltip": null,
       "layout": "IPY_MODEL_c9010edd71d24d4aa92198f70c6567a5",
       "max": 1000,
       "min": 0,
       "orientation": "horizontal",
       "style": "IPY_MODEL_142fbb0e36d847ec84bd4d148c80caa5",
       "value": 1000
      }
     },
     "be18618bca2a40128dde71f91335dc7c": {
      "model_module": "@jupyter-widgets/controls",
      "model_module_version": "1.5.0",
      "model_name": "HTMLModel",
      "state": {
       "_dom_classes": [],
       "_model_module": "@jupyter-widgets/controls",
       "_model_module_version": "1.5.0",
       "_model_name": "HTMLModel",
       "_view_count": null,
       "_view_module": "@jupyter-widgets/controls",
       "_view_module_version": "1.5.0",
       "_view_name": "HTMLView",
       "description": "",
       "description_tooltip": null,
       "layout": "IPY_MODEL_7be56342f43044428446bb961247e525",
       "placeholder": "​",
       "style": "IPY_MODEL_a25e2861b3c5487c9cce9f599fb81bc6",
       "value": "100%"
      }
     },
     "be213efc3a5f482698de80fca9d4887e": {
      "model_module": "@jupyter-widgets/controls",
      "model_module_version": "1.5.0",
      "model_name": "HTMLModel",
      "state": {
       "_dom_classes": [],
       "_model_module": "@jupyter-widgets/controls",
       "_model_module_version": "1.5.0",
       "_model_name": "HTMLModel",
       "_view_count": null,
       "_view_module": "@jupyter-widgets/controls",
       "_view_module_version": "1.5.0",
       "_view_name": "HTMLView",
       "description": "",
       "description_tooltip": null,
       "layout": "IPY_MODEL_14c87e8372724fd3852992450e2438d6",
       "placeholder": "​",
       "style": "IPY_MODEL_55a5e5da745741e381c903063a6b23df",
       "value": " 1000/1000 [27:30&lt;00:00,  1.65s/it]"
      }
     },
     "be7fe940cb1d40e6b474212b66b3fad9": {
      "model_module": "@jupyter-widgets/controls",
      "model_module_version": "1.5.0",
      "model_name": "ProgressStyleModel",
      "state": {
       "_model_module": "@jupyter-widgets/controls",
       "_model_module_version": "1.5.0",
       "_model_name": "ProgressStyleModel",
       "_view_count": null,
       "_view_module": "@jupyter-widgets/base",
       "_view_module_version": "1.2.0",
       "_view_name": "StyleView",
       "bar_color": null,
       "description_width": ""
      }
     },
     "bed1eb2d768a481d8e9f798ca39ef120": {
      "model_module": "@jupyter-widgets/controls",
      "model_module_version": "1.5.0",
      "model_name": "FloatProgressModel",
      "state": {
       "_dom_classes": [],
       "_model_module": "@jupyter-widgets/controls",
       "_model_module_version": "1.5.0",
       "_model_name": "FloatProgressModel",
       "_view_count": null,
       "_view_module": "@jupyter-widgets/controls",
       "_view_module_version": "1.5.0",
       "_view_name": "ProgressView",
       "bar_style": "success",
       "description": "",
       "description_tooltip": null,
       "layout": "IPY_MODEL_4d1c4b99d3404e4aacdf7bad7651fa93",
       "max": 1000,
       "min": 0,
       "orientation": "horizontal",
       "style": "IPY_MODEL_3b68758a406443f183658e7f95b9a083",
       "value": 1000
      }
     },
     "c032fd29d2694ac6987fea291a1abe3c": {
      "model_module": "@jupyter-widgets/controls",
      "model_module_version": "1.5.0",
      "model_name": "DescriptionStyleModel",
      "state": {
       "_model_module": "@jupyter-widgets/controls",
       "_model_module_version": "1.5.0",
       "_model_name": "DescriptionStyleModel",
       "_view_count": null,
       "_view_module": "@jupyter-widgets/base",
       "_view_module_version": "1.2.0",
       "_view_name": "StyleView",
       "description_width": ""
      }
     },
     "c08a50ebff414c409334312ae6486262": {
      "model_module": "@jupyter-widgets/controls",
      "model_module_version": "1.5.0",
      "model_name": "HTMLModel",
      "state": {
       "_dom_classes": [],
       "_model_module": "@jupyter-widgets/controls",
       "_model_module_version": "1.5.0",
       "_model_name": "HTMLModel",
       "_view_count": null,
       "_view_module": "@jupyter-widgets/controls",
       "_view_module_version": "1.5.0",
       "_view_name": "HTMLView",
       "description": "",
       "description_tooltip": null,
       "layout": "IPY_MODEL_667dc8167fa940c4b3044d4b7171ea3e",
       "placeholder": "​",
       "style": "IPY_MODEL_e3a74bf543134b00b2a2c7dd3da68f14",
       "value": "100%"
      }
     },
     "c11be81d04f24e61ba067f4b2c3c0ad5": {
      "model_module": "@jupyter-widgets/base",
      "model_module_version": "1.2.0",
      "model_name": "LayoutModel",
      "state": {
       "_model_module": "@jupyter-widgets/base",
       "_model_module_version": "1.2.0",
       "_model_name": "LayoutModel",
       "_view_count": null,
       "_view_module": "@jupyter-widgets/base",
       "_view_module_version": "1.2.0",
       "_view_name": "LayoutView",
       "align_content": null,
       "align_items": null,
       "align_self": null,
       "border": null,
       "bottom": null,
       "display": null,
       "flex": null,
       "flex_flow": null,
       "grid_area": null,
       "grid_auto_columns": null,
       "grid_auto_flow": null,
       "grid_auto_rows": null,
       "grid_column": null,
       "grid_gap": null,
       "grid_row": null,
       "grid_template_areas": null,
       "grid_template_columns": null,
       "grid_template_rows": null,
       "height": null,
       "justify_content": null,
       "justify_items": null,
       "left": null,
       "margin": null,
       "max_height": null,
       "max_width": null,
       "min_height": null,
       "min_width": null,
       "object_fit": null,
       "object_position": null,
       "order": null,
       "overflow": null,
       "overflow_x": null,
       "overflow_y": null,
       "padding": null,
       "right": null,
       "top": null,
       "visibility": null,
       "width": null
      }
     },
     "c14adfca0fc145f7aa320920abb2e933": {
      "model_module": "@jupyter-widgets/base",
      "model_module_version": "1.2.0",
      "model_name": "LayoutModel",
      "state": {
       "_model_module": "@jupyter-widgets/base",
       "_model_module_version": "1.2.0",
       "_model_name": "LayoutModel",
       "_view_count": null,
       "_view_module": "@jupyter-widgets/base",
       "_view_module_version": "1.2.0",
       "_view_name": "LayoutView",
       "align_content": null,
       "align_items": null,
       "align_self": null,
       "border": null,
       "bottom": null,
       "display": null,
       "flex": null,
       "flex_flow": null,
       "grid_area": null,
       "grid_auto_columns": null,
       "grid_auto_flow": null,
       "grid_auto_rows": null,
       "grid_column": null,
       "grid_gap": null,
       "grid_row": null,
       "grid_template_areas": null,
       "grid_template_columns": null,
       "grid_template_rows": null,
       "height": null,
       "justify_content": null,
       "justify_items": null,
       "left": null,
       "margin": null,
       "max_height": null,
       "max_width": null,
       "min_height": null,
       "min_width": null,
       "object_fit": null,
       "object_position": null,
       "order": null,
       "overflow": null,
       "overflow_x": null,
       "overflow_y": null,
       "padding": null,
       "right": null,
       "top": null,
       "visibility": null,
       "width": null
      }
     },
     "c15e6b0c17e5410191fe69d029545741": {
      "model_module": "@jupyter-widgets/controls",
      "model_module_version": "1.5.0",
      "model_name": "FloatProgressModel",
      "state": {
       "_dom_classes": [],
       "_model_module": "@jupyter-widgets/controls",
       "_model_module_version": "1.5.0",
       "_model_name": "FloatProgressModel",
       "_view_count": null,
       "_view_module": "@jupyter-widgets/controls",
       "_view_module_version": "1.5.0",
       "_view_name": "ProgressView",
       "bar_style": "success",
       "description": "",
       "description_tooltip": null,
       "layout": "IPY_MODEL_aca5979bf15d40c5822d23d7fe8bef31",
       "max": 1000,
       "min": 0,
       "orientation": "horizontal",
       "style": "IPY_MODEL_602df2ee0f074658b879641e69d2b0af",
       "value": 1000
      }
     },
     "c32e41c52f2d46af9a8af8b2f7656dff": {
      "model_module": "@jupyter-widgets/controls",
      "model_module_version": "1.5.0",
      "model_name": "DescriptionStyleModel",
      "state": {
       "_model_module": "@jupyter-widgets/controls",
       "_model_module_version": "1.5.0",
       "_model_name": "DescriptionStyleModel",
       "_view_count": null,
       "_view_module": "@jupyter-widgets/base",
       "_view_module_version": "1.2.0",
       "_view_name": "StyleView",
       "description_width": ""
      }
     },
     "c3692a3cd6aa47e98b696c5e8b4ec54d": {
      "model_module": "@jupyter-widgets/controls",
      "model_module_version": "1.5.0",
      "model_name": "DescriptionStyleModel",
      "state": {
       "_model_module": "@jupyter-widgets/controls",
       "_model_module_version": "1.5.0",
       "_model_name": "DescriptionStyleModel",
       "_view_count": null,
       "_view_module": "@jupyter-widgets/base",
       "_view_module_version": "1.2.0",
       "_view_name": "StyleView",
       "description_width": ""
      }
     },
     "c4ee7a87e11a4c1fa009251bff8ecff1": {
      "model_module": "@jupyter-widgets/controls",
      "model_module_version": "1.5.0",
      "model_name": "HTMLModel",
      "state": {
       "_dom_classes": [],
       "_model_module": "@jupyter-widgets/controls",
       "_model_module_version": "1.5.0",
       "_model_name": "HTMLModel",
       "_view_count": null,
       "_view_module": "@jupyter-widgets/controls",
       "_view_module_version": "1.5.0",
       "_view_name": "HTMLView",
       "description": "",
       "description_tooltip": null,
       "layout": "IPY_MODEL_b301a4cde97544979fdefae8d5a6155b",
       "placeholder": "​",
       "style": "IPY_MODEL_c032fd29d2694ac6987fea291a1abe3c",
       "value": "100%"
      }
     },
     "c54d6562eb4643eab423011968166b6c": {
      "model_module": "@jupyter-widgets/base",
      "model_module_version": "1.2.0",
      "model_name": "LayoutModel",
      "state": {
       "_model_module": "@jupyter-widgets/base",
       "_model_module_version": "1.2.0",
       "_model_name": "LayoutModel",
       "_view_count": null,
       "_view_module": "@jupyter-widgets/base",
       "_view_module_version": "1.2.0",
       "_view_name": "LayoutView",
       "align_content": null,
       "align_items": null,
       "align_self": null,
       "border": null,
       "bottom": null,
       "display": null,
       "flex": null,
       "flex_flow": null,
       "grid_area": null,
       "grid_auto_columns": null,
       "grid_auto_flow": null,
       "grid_auto_rows": null,
       "grid_column": null,
       "grid_gap": null,
       "grid_row": null,
       "grid_template_areas": null,
       "grid_template_columns": null,
       "grid_template_rows": null,
       "height": null,
       "justify_content": null,
       "justify_items": null,
       "left": null,
       "margin": null,
       "max_height": null,
       "max_width": null,
       "min_height": null,
       "min_width": null,
       "object_fit": null,
       "object_position": null,
       "order": null,
       "overflow": null,
       "overflow_x": null,
       "overflow_y": null,
       "padding": null,
       "right": null,
       "top": null,
       "visibility": null,
       "width": null
      }
     },
     "c5dbd85303c64fd3960f4296c6c7270b": {
      "model_module": "@jupyter-widgets/controls",
      "model_module_version": "1.5.0",
      "model_name": "DescriptionStyleModel",
      "state": {
       "_model_module": "@jupyter-widgets/controls",
       "_model_module_version": "1.5.0",
       "_model_name": "DescriptionStyleModel",
       "_view_count": null,
       "_view_module": "@jupyter-widgets/base",
       "_view_module_version": "1.2.0",
       "_view_name": "StyleView",
       "description_width": ""
      }
     },
     "c6cabaffca7d4da6a3a00cbb02197976": {
      "model_module": "@jupyter-widgets/base",
      "model_module_version": "1.2.0",
      "model_name": "LayoutModel",
      "state": {
       "_model_module": "@jupyter-widgets/base",
       "_model_module_version": "1.2.0",
       "_model_name": "LayoutModel",
       "_view_count": null,
       "_view_module": "@jupyter-widgets/base",
       "_view_module_version": "1.2.0",
       "_view_name": "LayoutView",
       "align_content": null,
       "align_items": null,
       "align_self": null,
       "border": null,
       "bottom": null,
       "display": null,
       "flex": null,
       "flex_flow": null,
       "grid_area": null,
       "grid_auto_columns": null,
       "grid_auto_flow": null,
       "grid_auto_rows": null,
       "grid_column": null,
       "grid_gap": null,
       "grid_row": null,
       "grid_template_areas": null,
       "grid_template_columns": null,
       "grid_template_rows": null,
       "height": null,
       "justify_content": null,
       "justify_items": null,
       "left": null,
       "margin": null,
       "max_height": null,
       "max_width": null,
       "min_height": null,
       "min_width": null,
       "object_fit": null,
       "object_position": null,
       "order": null,
       "overflow": null,
       "overflow_x": null,
       "overflow_y": null,
       "padding": null,
       "right": null,
       "top": null,
       "visibility": null,
       "width": null
      }
     },
     "c710758ca1c847098dab97ea63b03b47": {
      "model_module": "@jupyter-widgets/base",
      "model_module_version": "1.2.0",
      "model_name": "LayoutModel",
      "state": {
       "_model_module": "@jupyter-widgets/base",
       "_model_module_version": "1.2.0",
       "_model_name": "LayoutModel",
       "_view_count": null,
       "_view_module": "@jupyter-widgets/base",
       "_view_module_version": "1.2.0",
       "_view_name": "LayoutView",
       "align_content": null,
       "align_items": null,
       "align_self": null,
       "border": null,
       "bottom": null,
       "display": null,
       "flex": null,
       "flex_flow": null,
       "grid_area": null,
       "grid_auto_columns": null,
       "grid_auto_flow": null,
       "grid_auto_rows": null,
       "grid_column": null,
       "grid_gap": null,
       "grid_row": null,
       "grid_template_areas": null,
       "grid_template_columns": null,
       "grid_template_rows": null,
       "height": null,
       "justify_content": null,
       "justify_items": null,
       "left": null,
       "margin": null,
       "max_height": null,
       "max_width": null,
       "min_height": null,
       "min_width": null,
       "object_fit": null,
       "object_position": null,
       "order": null,
       "overflow": null,
       "overflow_x": null,
       "overflow_y": null,
       "padding": null,
       "right": null,
       "top": null,
       "visibility": null,
       "width": null
      }
     },
     "c71a8ac6c6b641f7b73b8dff0904face": {
      "model_module": "@jupyter-widgets/controls",
      "model_module_version": "1.5.0",
      "model_name": "ProgressStyleModel",
      "state": {
       "_model_module": "@jupyter-widgets/controls",
       "_model_module_version": "1.5.0",
       "_model_name": "ProgressStyleModel",
       "_view_count": null,
       "_view_module": "@jupyter-widgets/base",
       "_view_module_version": "1.2.0",
       "_view_name": "StyleView",
       "bar_color": null,
       "description_width": ""
      }
     },
     "c83676c3136243fe947d6fe0ddd18840": {
      "model_module": "@jupyter-widgets/base",
      "model_module_version": "1.2.0",
      "model_name": "LayoutModel",
      "state": {
       "_model_module": "@jupyter-widgets/base",
       "_model_module_version": "1.2.0",
       "_model_name": "LayoutModel",
       "_view_count": null,
       "_view_module": "@jupyter-widgets/base",
       "_view_module_version": "1.2.0",
       "_view_name": "LayoutView",
       "align_content": null,
       "align_items": null,
       "align_self": null,
       "border": null,
       "bottom": null,
       "display": null,
       "flex": null,
       "flex_flow": null,
       "grid_area": null,
       "grid_auto_columns": null,
       "grid_auto_flow": null,
       "grid_auto_rows": null,
       "grid_column": null,
       "grid_gap": null,
       "grid_row": null,
       "grid_template_areas": null,
       "grid_template_columns": null,
       "grid_template_rows": null,
       "height": null,
       "justify_content": null,
       "justify_items": null,
       "left": null,
       "margin": null,
       "max_height": null,
       "max_width": null,
       "min_height": null,
       "min_width": null,
       "object_fit": null,
       "object_position": null,
       "order": null,
       "overflow": null,
       "overflow_x": null,
       "overflow_y": null,
       "padding": null,
       "right": null,
       "top": null,
       "visibility": null,
       "width": null
      }
     },
     "c89eba9955a44b0daca2add395da0cd4": {
      "model_module": "@jupyter-widgets/base",
      "model_module_version": "1.2.0",
      "model_name": "LayoutModel",
      "state": {
       "_model_module": "@jupyter-widgets/base",
       "_model_module_version": "1.2.0",
       "_model_name": "LayoutModel",
       "_view_count": null,
       "_view_module": "@jupyter-widgets/base",
       "_view_module_version": "1.2.0",
       "_view_name": "LayoutView",
       "align_content": null,
       "align_items": null,
       "align_self": null,
       "border": null,
       "bottom": null,
       "display": null,
       "flex": null,
       "flex_flow": null,
       "grid_area": null,
       "grid_auto_columns": null,
       "grid_auto_flow": null,
       "grid_auto_rows": null,
       "grid_column": null,
       "grid_gap": null,
       "grid_row": null,
       "grid_template_areas": null,
       "grid_template_columns": null,
       "grid_template_rows": null,
       "height": null,
       "justify_content": null,
       "justify_items": null,
       "left": null,
       "margin": null,
       "max_height": null,
       "max_width": null,
       "min_height": null,
       "min_width": null,
       "object_fit": null,
       "object_position": null,
       "order": null,
       "overflow": null,
       "overflow_x": null,
       "overflow_y": null,
       "padding": null,
       "right": null,
       "top": null,
       "visibility": null,
       "width": null
      }
     },
     "c9010edd71d24d4aa92198f70c6567a5": {
      "model_module": "@jupyter-widgets/base",
      "model_module_version": "1.2.0",
      "model_name": "LayoutModel",
      "state": {
       "_model_module": "@jupyter-widgets/base",
       "_model_module_version": "1.2.0",
       "_model_name": "LayoutModel",
       "_view_count": null,
       "_view_module": "@jupyter-widgets/base",
       "_view_module_version": "1.2.0",
       "_view_name": "LayoutView",
       "align_content": null,
       "align_items": null,
       "align_self": null,
       "border": null,
       "bottom": null,
       "display": null,
       "flex": null,
       "flex_flow": null,
       "grid_area": null,
       "grid_auto_columns": null,
       "grid_auto_flow": null,
       "grid_auto_rows": null,
       "grid_column": null,
       "grid_gap": null,
       "grid_row": null,
       "grid_template_areas": null,
       "grid_template_columns": null,
       "grid_template_rows": null,
       "height": null,
       "justify_content": null,
       "justify_items": null,
       "left": null,
       "margin": null,
       "max_height": null,
       "max_width": null,
       "min_height": null,
       "min_width": null,
       "object_fit": null,
       "object_position": null,
       "order": null,
       "overflow": null,
       "overflow_x": null,
       "overflow_y": null,
       "padding": null,
       "right": null,
       "top": null,
       "visibility": null,
       "width": null
      }
     },
     "c929a8122b5c49bf80283199da2d6339": {
      "model_module": "@jupyter-widgets/base",
      "model_module_version": "1.2.0",
      "model_name": "LayoutModel",
      "state": {
       "_model_module": "@jupyter-widgets/base",
       "_model_module_version": "1.2.0",
       "_model_name": "LayoutModel",
       "_view_count": null,
       "_view_module": "@jupyter-widgets/base",
       "_view_module_version": "1.2.0",
       "_view_name": "LayoutView",
       "align_content": null,
       "align_items": null,
       "align_self": null,
       "border": null,
       "bottom": null,
       "display": null,
       "flex": null,
       "flex_flow": null,
       "grid_area": null,
       "grid_auto_columns": null,
       "grid_auto_flow": null,
       "grid_auto_rows": null,
       "grid_column": null,
       "grid_gap": null,
       "grid_row": null,
       "grid_template_areas": null,
       "grid_template_columns": null,
       "grid_template_rows": null,
       "height": null,
       "justify_content": null,
       "justify_items": null,
       "left": null,
       "margin": null,
       "max_height": null,
       "max_width": null,
       "min_height": null,
       "min_width": null,
       "object_fit": null,
       "object_position": null,
       "order": null,
       "overflow": null,
       "overflow_x": null,
       "overflow_y": null,
       "padding": null,
       "right": null,
       "top": null,
       "visibility": null,
       "width": null
      }
     },
     "c931ae4dac97498e8401724bb780d474": {
      "model_module": "@jupyter-widgets/base",
      "model_module_version": "1.2.0",
      "model_name": "LayoutModel",
      "state": {
       "_model_module": "@jupyter-widgets/base",
       "_model_module_version": "1.2.0",
       "_model_name": "LayoutModel",
       "_view_count": null,
       "_view_module": "@jupyter-widgets/base",
       "_view_module_version": "1.2.0",
       "_view_name": "LayoutView",
       "align_content": null,
       "align_items": null,
       "align_self": null,
       "border": null,
       "bottom": null,
       "display": null,
       "flex": null,
       "flex_flow": null,
       "grid_area": null,
       "grid_auto_columns": null,
       "grid_auto_flow": null,
       "grid_auto_rows": null,
       "grid_column": null,
       "grid_gap": null,
       "grid_row": null,
       "grid_template_areas": null,
       "grid_template_columns": null,
       "grid_template_rows": null,
       "height": null,
       "justify_content": null,
       "justify_items": null,
       "left": null,
       "margin": null,
       "max_height": null,
       "max_width": null,
       "min_height": null,
       "min_width": null,
       "object_fit": null,
       "object_position": null,
       "order": null,
       "overflow": null,
       "overflow_x": null,
       "overflow_y": null,
       "padding": null,
       "right": null,
       "top": null,
       "visibility": null,
       "width": null
      }
     },
     "cadb60b283f743b38b09ff3056a18ef2": {
      "model_module": "@jupyter-widgets/base",
      "model_module_version": "1.2.0",
      "model_name": "LayoutModel",
      "state": {
       "_model_module": "@jupyter-widgets/base",
       "_model_module_version": "1.2.0",
       "_model_name": "LayoutModel",
       "_view_count": null,
       "_view_module": "@jupyter-widgets/base",
       "_view_module_version": "1.2.0",
       "_view_name": "LayoutView",
       "align_content": null,
       "align_items": null,
       "align_self": null,
       "border": null,
       "bottom": null,
       "display": null,
       "flex": null,
       "flex_flow": null,
       "grid_area": null,
       "grid_auto_columns": null,
       "grid_auto_flow": null,
       "grid_auto_rows": null,
       "grid_column": null,
       "grid_gap": null,
       "grid_row": null,
       "grid_template_areas": null,
       "grid_template_columns": null,
       "grid_template_rows": null,
       "height": null,
       "justify_content": null,
       "justify_items": null,
       "left": null,
       "margin": null,
       "max_height": null,
       "max_width": null,
       "min_height": null,
       "min_width": null,
       "object_fit": null,
       "object_position": null,
       "order": null,
       "overflow": null,
       "overflow_x": null,
       "overflow_y": null,
       "padding": null,
       "right": null,
       "top": null,
       "visibility": null,
       "width": null
      }
     },
     "cb18673c5d76418eb51afb6428b695a0": {
      "model_module": "@jupyter-widgets/controls",
      "model_module_version": "1.5.0",
      "model_name": "DescriptionStyleModel",
      "state": {
       "_model_module": "@jupyter-widgets/controls",
       "_model_module_version": "1.5.0",
       "_model_name": "DescriptionStyleModel",
       "_view_count": null,
       "_view_module": "@jupyter-widgets/base",
       "_view_module_version": "1.2.0",
       "_view_name": "StyleView",
       "description_width": ""
      }
     },
     "cb41b30e490243f9b5fefbcb18cd5e88": {
      "model_module": "@jupyter-widgets/controls",
      "model_module_version": "1.5.0",
      "model_name": "FloatProgressModel",
      "state": {
       "_dom_classes": [],
       "_model_module": "@jupyter-widgets/controls",
       "_model_module_version": "1.5.0",
       "_model_name": "FloatProgressModel",
       "_view_count": null,
       "_view_module": "@jupyter-widgets/controls",
       "_view_module_version": "1.5.0",
       "_view_name": "ProgressView",
       "bar_style": "success",
       "description": "",
       "description_tooltip": null,
       "layout": "IPY_MODEL_f314fb9642b14f4bbc74d9d37b708b8a",
       "max": 1000,
       "min": 0,
       "orientation": "horizontal",
       "style": "IPY_MODEL_ab83bfde8e97456db0beef2457f2c6c4",
       "value": 1000
      }
     },
     "cb5e486991b743ff844796937d7d7067": {
      "model_module": "@jupyter-widgets/base",
      "model_module_version": "1.2.0",
      "model_name": "LayoutModel",
      "state": {
       "_model_module": "@jupyter-widgets/base",
       "_model_module_version": "1.2.0",
       "_model_name": "LayoutModel",
       "_view_count": null,
       "_view_module": "@jupyter-widgets/base",
       "_view_module_version": "1.2.0",
       "_view_name": "LayoutView",
       "align_content": null,
       "align_items": null,
       "align_self": null,
       "border": null,
       "bottom": null,
       "display": null,
       "flex": null,
       "flex_flow": null,
       "grid_area": null,
       "grid_auto_columns": null,
       "grid_auto_flow": null,
       "grid_auto_rows": null,
       "grid_column": null,
       "grid_gap": null,
       "grid_row": null,
       "grid_template_areas": null,
       "grid_template_columns": null,
       "grid_template_rows": null,
       "height": null,
       "justify_content": null,
       "justify_items": null,
       "left": null,
       "margin": null,
       "max_height": null,
       "max_width": null,
       "min_height": null,
       "min_width": null,
       "object_fit": null,
       "object_position": null,
       "order": null,
       "overflow": null,
       "overflow_x": null,
       "overflow_y": null,
       "padding": null,
       "right": null,
       "top": null,
       "visibility": null,
       "width": null
      }
     },
     "cc48593764754763bd3e1c46856cf15d": {
      "model_module": "@jupyter-widgets/controls",
      "model_module_version": "1.5.0",
      "model_name": "HTMLModel",
      "state": {
       "_dom_classes": [],
       "_model_module": "@jupyter-widgets/controls",
       "_model_module_version": "1.5.0",
       "_model_name": "HTMLModel",
       "_view_count": null,
       "_view_module": "@jupyter-widgets/controls",
       "_view_module_version": "1.5.0",
       "_view_name": "HTMLView",
       "description": "",
       "description_tooltip": null,
       "layout": "IPY_MODEL_0fcf26309b42466398e1852c91590585",
       "placeholder": "​",
       "style": "IPY_MODEL_6f245317bad64c2bbf4235572234084c",
       "value": "100%"
      }
     },
     "cfb560953984474aa364aa3685dab6fd": {
      "model_module": "@jupyter-widgets/base",
      "model_module_version": "1.2.0",
      "model_name": "LayoutModel",
      "state": {
       "_model_module": "@jupyter-widgets/base",
       "_model_module_version": "1.2.0",
       "_model_name": "LayoutModel",
       "_view_count": null,
       "_view_module": "@jupyter-widgets/base",
       "_view_module_version": "1.2.0",
       "_view_name": "LayoutView",
       "align_content": null,
       "align_items": null,
       "align_self": null,
       "border": null,
       "bottom": null,
       "display": null,
       "flex": null,
       "flex_flow": null,
       "grid_area": null,
       "grid_auto_columns": null,
       "grid_auto_flow": null,
       "grid_auto_rows": null,
       "grid_column": null,
       "grid_gap": null,
       "grid_row": null,
       "grid_template_areas": null,
       "grid_template_columns": null,
       "grid_template_rows": null,
       "height": null,
       "justify_content": null,
       "justify_items": null,
       "left": null,
       "margin": null,
       "max_height": null,
       "max_width": null,
       "min_height": null,
       "min_width": null,
       "object_fit": null,
       "object_position": null,
       "order": null,
       "overflow": null,
       "overflow_x": null,
       "overflow_y": null,
       "padding": null,
       "right": null,
       "top": null,
       "visibility": null,
       "width": null
      }
     },
     "cfba3a4e4f1040b19199a87ec22cafc9": {
      "model_module": "@jupyter-widgets/controls",
      "model_module_version": "1.5.0",
      "model_name": "HTMLModel",
      "state": {
       "_dom_classes": [],
       "_model_module": "@jupyter-widgets/controls",
       "_model_module_version": "1.5.0",
       "_model_name": "HTMLModel",
       "_view_count": null,
       "_view_module": "@jupyter-widgets/controls",
       "_view_module_version": "1.5.0",
       "_view_name": "HTMLView",
       "description": "",
       "description_tooltip": null,
       "layout": "IPY_MODEL_4b7f97e7763f488e943c6129c4ee7e79",
       "placeholder": "​",
       "style": "IPY_MODEL_726724a9b1294c3284b20a66ecdeffbf",
       "value": "100%"
      }
     },
     "d0ccfee0052944feb708853227514e13": {
      "model_module": "@jupyter-widgets/controls",
      "model_module_version": "1.5.0",
      "model_name": "FloatProgressModel",
      "state": {
       "_dom_classes": [],
       "_model_module": "@jupyter-widgets/controls",
       "_model_module_version": "1.5.0",
       "_model_name": "FloatProgressModel",
       "_view_count": null,
       "_view_module": "@jupyter-widgets/controls",
       "_view_module_version": "1.5.0",
       "_view_name": "ProgressView",
       "bar_style": "success",
       "description": "",
       "description_tooltip": null,
       "layout": "IPY_MODEL_c83676c3136243fe947d6fe0ddd18840",
       "max": 1000,
       "min": 0,
       "orientation": "horizontal",
       "style": "IPY_MODEL_0bcfb0a525a9455c84c9086299a1e7d5",
       "value": 1000
      }
     },
     "d1034a8230074f2fa621d396e7997db1": {
      "model_module": "@jupyter-widgets/base",
      "model_module_version": "1.2.0",
      "model_name": "LayoutModel",
      "state": {
       "_model_module": "@jupyter-widgets/base",
       "_model_module_version": "1.2.0",
       "_model_name": "LayoutModel",
       "_view_count": null,
       "_view_module": "@jupyter-widgets/base",
       "_view_module_version": "1.2.0",
       "_view_name": "LayoutView",
       "align_content": null,
       "align_items": null,
       "align_self": null,
       "border": null,
       "bottom": null,
       "display": null,
       "flex": null,
       "flex_flow": null,
       "grid_area": null,
       "grid_auto_columns": null,
       "grid_auto_flow": null,
       "grid_auto_rows": null,
       "grid_column": null,
       "grid_gap": null,
       "grid_row": null,
       "grid_template_areas": null,
       "grid_template_columns": null,
       "grid_template_rows": null,
       "height": null,
       "justify_content": null,
       "justify_items": null,
       "left": null,
       "margin": null,
       "max_height": null,
       "max_width": null,
       "min_height": null,
       "min_width": null,
       "object_fit": null,
       "object_position": null,
       "order": null,
       "overflow": null,
       "overflow_x": null,
       "overflow_y": null,
       "padding": null,
       "right": null,
       "top": null,
       "visibility": null,
       "width": null
      }
     },
     "d159753a4b2d45658d8c1d9d9bb19d60": {
      "model_module": "@jupyter-widgets/controls",
      "model_module_version": "1.5.0",
      "model_name": "HTMLModel",
      "state": {
       "_dom_classes": [],
       "_model_module": "@jupyter-widgets/controls",
       "_model_module_version": "1.5.0",
       "_model_name": "HTMLModel",
       "_view_count": null,
       "_view_module": "@jupyter-widgets/controls",
       "_view_module_version": "1.5.0",
       "_view_name": "HTMLView",
       "description": "",
       "description_tooltip": null,
       "layout": "IPY_MODEL_51d13045a5b54c02aa8d35929f37ed8d",
       "placeholder": "​",
       "style": "IPY_MODEL_5fd28cb6ce6d46b8abdc1e2e4f0f6594",
       "value": "100%"
      }
     },
     "d1eea4158f854a878fb274fea260eead": {
      "model_module": "@jupyter-widgets/controls",
      "model_module_version": "1.5.0",
      "model_name": "DescriptionStyleModel",
      "state": {
       "_model_module": "@jupyter-widgets/controls",
       "_model_module_version": "1.5.0",
       "_model_name": "DescriptionStyleModel",
       "_view_count": null,
       "_view_module": "@jupyter-widgets/base",
       "_view_module_version": "1.2.0",
       "_view_name": "StyleView",
       "description_width": ""
      }
     },
     "d1f59fde1c574a2b9ebd8fcfd0596717": {
      "model_module": "@jupyter-widgets/controls",
      "model_module_version": "1.5.0",
      "model_name": "DescriptionStyleModel",
      "state": {
       "_model_module": "@jupyter-widgets/controls",
       "_model_module_version": "1.5.0",
       "_model_name": "DescriptionStyleModel",
       "_view_count": null,
       "_view_module": "@jupyter-widgets/base",
       "_view_module_version": "1.2.0",
       "_view_name": "StyleView",
       "description_width": ""
      }
     },
     "d2b0d230db46475090cf1d2bff6b07d9": {
      "model_module": "@jupyter-widgets/base",
      "model_module_version": "1.2.0",
      "model_name": "LayoutModel",
      "state": {
       "_model_module": "@jupyter-widgets/base",
       "_model_module_version": "1.2.0",
       "_model_name": "LayoutModel",
       "_view_count": null,
       "_view_module": "@jupyter-widgets/base",
       "_view_module_version": "1.2.0",
       "_view_name": "LayoutView",
       "align_content": null,
       "align_items": null,
       "align_self": null,
       "border": null,
       "bottom": null,
       "display": null,
       "flex": null,
       "flex_flow": null,
       "grid_area": null,
       "grid_auto_columns": null,
       "grid_auto_flow": null,
       "grid_auto_rows": null,
       "grid_column": null,
       "grid_gap": null,
       "grid_row": null,
       "grid_template_areas": null,
       "grid_template_columns": null,
       "grid_template_rows": null,
       "height": null,
       "justify_content": null,
       "justify_items": null,
       "left": null,
       "margin": null,
       "max_height": null,
       "max_width": null,
       "min_height": null,
       "min_width": null,
       "object_fit": null,
       "object_position": null,
       "order": null,
       "overflow": null,
       "overflow_x": null,
       "overflow_y": null,
       "padding": null,
       "right": null,
       "top": null,
       "visibility": null,
       "width": null
      }
     },
     "d2c6d14404454a5cb4b05e2fc4c71ded": {
      "model_module": "@jupyter-widgets/base",
      "model_module_version": "1.2.0",
      "model_name": "LayoutModel",
      "state": {
       "_model_module": "@jupyter-widgets/base",
       "_model_module_version": "1.2.0",
       "_model_name": "LayoutModel",
       "_view_count": null,
       "_view_module": "@jupyter-widgets/base",
       "_view_module_version": "1.2.0",
       "_view_name": "LayoutView",
       "align_content": null,
       "align_items": null,
       "align_self": null,
       "border": null,
       "bottom": null,
       "display": null,
       "flex": null,
       "flex_flow": null,
       "grid_area": null,
       "grid_auto_columns": null,
       "grid_auto_flow": null,
       "grid_auto_rows": null,
       "grid_column": null,
       "grid_gap": null,
       "grid_row": null,
       "grid_template_areas": null,
       "grid_template_columns": null,
       "grid_template_rows": null,
       "height": null,
       "justify_content": null,
       "justify_items": null,
       "left": null,
       "margin": null,
       "max_height": null,
       "max_width": null,
       "min_height": null,
       "min_width": null,
       "object_fit": null,
       "object_position": null,
       "order": null,
       "overflow": null,
       "overflow_x": null,
       "overflow_y": null,
       "padding": null,
       "right": null,
       "top": null,
       "visibility": null,
       "width": null
      }
     },
     "d37709836231483487647b7af2497cd8": {
      "model_module": "@jupyter-widgets/controls",
      "model_module_version": "1.5.0",
      "model_name": "DescriptionStyleModel",
      "state": {
       "_model_module": "@jupyter-widgets/controls",
       "_model_module_version": "1.5.0",
       "_model_name": "DescriptionStyleModel",
       "_view_count": null,
       "_view_module": "@jupyter-widgets/base",
       "_view_module_version": "1.2.0",
       "_view_name": "StyleView",
       "description_width": ""
      }
     },
     "d3d8927d5d3e43ce8668ec2ecb7a7e06": {
      "model_module": "@jupyter-widgets/base",
      "model_module_version": "1.2.0",
      "model_name": "LayoutModel",
      "state": {
       "_model_module": "@jupyter-widgets/base",
       "_model_module_version": "1.2.0",
       "_model_name": "LayoutModel",
       "_view_count": null,
       "_view_module": "@jupyter-widgets/base",
       "_view_module_version": "1.2.0",
       "_view_name": "LayoutView",
       "align_content": null,
       "align_items": null,
       "align_self": null,
       "border": null,
       "bottom": null,
       "display": null,
       "flex": null,
       "flex_flow": null,
       "grid_area": null,
       "grid_auto_columns": null,
       "grid_auto_flow": null,
       "grid_auto_rows": null,
       "grid_column": null,
       "grid_gap": null,
       "grid_row": null,
       "grid_template_areas": null,
       "grid_template_columns": null,
       "grid_template_rows": null,
       "height": null,
       "justify_content": null,
       "justify_items": null,
       "left": null,
       "margin": null,
       "max_height": null,
       "max_width": null,
       "min_height": null,
       "min_width": null,
       "object_fit": null,
       "object_position": null,
       "order": null,
       "overflow": null,
       "overflow_x": null,
       "overflow_y": null,
       "padding": null,
       "right": null,
       "top": null,
       "visibility": null,
       "width": null
      }
     },
     "d43c3116912e4c61a1bc301c6a715d37": {
      "model_module": "@jupyter-widgets/controls",
      "model_module_version": "1.5.0",
      "model_name": "HTMLModel",
      "state": {
       "_dom_classes": [],
       "_model_module": "@jupyter-widgets/controls",
       "_model_module_version": "1.5.0",
       "_model_name": "HTMLModel",
       "_view_count": null,
       "_view_module": "@jupyter-widgets/controls",
       "_view_module_version": "1.5.0",
       "_view_name": "HTMLView",
       "description": "",
       "description_tooltip": null,
       "layout": "IPY_MODEL_09cfbbd6e0cc462a866aab5e9ad46907",
       "placeholder": "​",
       "style": "IPY_MODEL_4eaca219a36c473fadd0726617fb7998",
       "value": "100%"
      }
     },
     "d634af7ac3504dc284cee6235dd58dfd": {
      "model_module": "@jupyter-widgets/controls",
      "model_module_version": "1.5.0",
      "model_name": "HTMLModel",
      "state": {
       "_dom_classes": [],
       "_model_module": "@jupyter-widgets/controls",
       "_model_module_version": "1.5.0",
       "_model_name": "HTMLModel",
       "_view_count": null,
       "_view_module": "@jupyter-widgets/controls",
       "_view_module_version": "1.5.0",
       "_view_name": "HTMLView",
       "description": "",
       "description_tooltip": null,
       "layout": "IPY_MODEL_abd2c3f81bc74aecabeede8fecc99432",
       "placeholder": "​",
       "style": "IPY_MODEL_d78393194da740c89aff9c887ddff6a5",
       "value": "100%"
      }
     },
     "d702a26d10874b7da61bd174c736e935": {
      "model_module": "@jupyter-widgets/base",
      "model_module_version": "1.2.0",
      "model_name": "LayoutModel",
      "state": {
       "_model_module": "@jupyter-widgets/base",
       "_model_module_version": "1.2.0",
       "_model_name": "LayoutModel",
       "_view_count": null,
       "_view_module": "@jupyter-widgets/base",
       "_view_module_version": "1.2.0",
       "_view_name": "LayoutView",
       "align_content": null,
       "align_items": null,
       "align_self": null,
       "border": null,
       "bottom": null,
       "display": null,
       "flex": null,
       "flex_flow": null,
       "grid_area": null,
       "grid_auto_columns": null,
       "grid_auto_flow": null,
       "grid_auto_rows": null,
       "grid_column": null,
       "grid_gap": null,
       "grid_row": null,
       "grid_template_areas": null,
       "grid_template_columns": null,
       "grid_template_rows": null,
       "height": null,
       "justify_content": null,
       "justify_items": null,
       "left": null,
       "margin": null,
       "max_height": null,
       "max_width": null,
       "min_height": null,
       "min_width": null,
       "object_fit": null,
       "object_position": null,
       "order": null,
       "overflow": null,
       "overflow_x": null,
       "overflow_y": null,
       "padding": null,
       "right": null,
       "top": null,
       "visibility": null,
       "width": null
      }
     },
     "d78393194da740c89aff9c887ddff6a5": {
      "model_module": "@jupyter-widgets/controls",
      "model_module_version": "1.5.0",
      "model_name": "DescriptionStyleModel",
      "state": {
       "_model_module": "@jupyter-widgets/controls",
       "_model_module_version": "1.5.0",
       "_model_name": "DescriptionStyleModel",
       "_view_count": null,
       "_view_module": "@jupyter-widgets/base",
       "_view_module_version": "1.2.0",
       "_view_name": "StyleView",
       "description_width": ""
      }
     },
     "d7c1b9a784ba414e8a24732153c02ecc": {
      "model_module": "@jupyter-widgets/controls",
      "model_module_version": "1.5.0",
      "model_name": "FloatProgressModel",
      "state": {
       "_dom_classes": [],
       "_model_module": "@jupyter-widgets/controls",
       "_model_module_version": "1.5.0",
       "_model_name": "FloatProgressModel",
       "_view_count": null,
       "_view_module": "@jupyter-widgets/controls",
       "_view_module_version": "1.5.0",
       "_view_name": "ProgressView",
       "bar_style": "success",
       "description": "",
       "description_tooltip": null,
       "layout": "IPY_MODEL_ed611615e5fb47a5b11db397c2c6dcc0",
       "max": 1000,
       "min": 0,
       "orientation": "horizontal",
       "style": "IPY_MODEL_8b1eb30d0d8244e59e97eb6f222a3cfb",
       "value": 1000
      }
     },
     "d7d99bd7b7a2463bb05f54c02ac7d6be": {
      "model_module": "@jupyter-widgets/controls",
      "model_module_version": "1.5.0",
      "model_name": "DescriptionStyleModel",
      "state": {
       "_model_module": "@jupyter-widgets/controls",
       "_model_module_version": "1.5.0",
       "_model_name": "DescriptionStyleModel",
       "_view_count": null,
       "_view_module": "@jupyter-widgets/base",
       "_view_module_version": "1.2.0",
       "_view_name": "StyleView",
       "description_width": ""
      }
     },
     "d8ef3513575341028e40c4602af576c8": {
      "model_module": "@jupyter-widgets/controls",
      "model_module_version": "1.5.0",
      "model_name": "HTMLModel",
      "state": {
       "_dom_classes": [],
       "_model_module": "@jupyter-widgets/controls",
       "_model_module_version": "1.5.0",
       "_model_name": "HTMLModel",
       "_view_count": null,
       "_view_module": "@jupyter-widgets/controls",
       "_view_module_version": "1.5.0",
       "_view_name": "HTMLView",
       "description": "",
       "description_tooltip": null,
       "layout": "IPY_MODEL_0aab9bc43c5541abbab5fbd2a242617e",
       "placeholder": "​",
       "style": "IPY_MODEL_6a8973c41feb4588bb97aa20eb1d19ca",
       "value": " 100/100 [00:00&lt;00:00, 343.14it/s]"
      }
     },
     "d937a10f8d4544cb90b30f608f0efd25": {
      "model_module": "@jupyter-widgets/controls",
      "model_module_version": "1.5.0",
      "model_name": "HTMLModel",
      "state": {
       "_dom_classes": [],
       "_model_module": "@jupyter-widgets/controls",
       "_model_module_version": "1.5.0",
       "_model_name": "HTMLModel",
       "_view_count": null,
       "_view_module": "@jupyter-widgets/controls",
       "_view_module_version": "1.5.0",
       "_view_name": "HTMLView",
       "description": "",
       "description_tooltip": null,
       "layout": "IPY_MODEL_23b6a0044bd3438e92af0072b9e12be2",
       "placeholder": "​",
       "style": "IPY_MODEL_4887d0c74956412d8183d6ad2adf8919",
       "value": "100%"
      }
     },
     "db3c2b107cdd48468e2f9ff58c4dc819": {
      "model_module": "@jupyter-widgets/controls",
      "model_module_version": "1.5.0",
      "model_name": "HTMLModel",
      "state": {
       "_dom_classes": [],
       "_model_module": "@jupyter-widgets/controls",
       "_model_module_version": "1.5.0",
       "_model_name": "HTMLModel",
       "_view_count": null,
       "_view_module": "@jupyter-widgets/controls",
       "_view_module_version": "1.5.0",
       "_view_name": "HTMLView",
       "description": "",
       "description_tooltip": null,
       "layout": "IPY_MODEL_6a137caf44d049c792e100795eefe57e",
       "placeholder": "​",
       "style": "IPY_MODEL_b977b92181644ed8aa06d850a3bd9e63",
       "value": " 100/100 [00:00&lt;00:00, 326.78it/s]"
      }
     },
     "dbf4d7966ade486183c5eb05f050657a": {
      "model_module": "@jupyter-widgets/base",
      "model_module_version": "1.2.0",
      "model_name": "LayoutModel",
      "state": {
       "_model_module": "@jupyter-widgets/base",
       "_model_module_version": "1.2.0",
       "_model_name": "LayoutModel",
       "_view_count": null,
       "_view_module": "@jupyter-widgets/base",
       "_view_module_version": "1.2.0",
       "_view_name": "LayoutView",
       "align_content": null,
       "align_items": null,
       "align_self": null,
       "border": null,
       "bottom": null,
       "display": null,
       "flex": null,
       "flex_flow": null,
       "grid_area": null,
       "grid_auto_columns": null,
       "grid_auto_flow": null,
       "grid_auto_rows": null,
       "grid_column": null,
       "grid_gap": null,
       "grid_row": null,
       "grid_template_areas": null,
       "grid_template_columns": null,
       "grid_template_rows": null,
       "height": null,
       "justify_content": null,
       "justify_items": null,
       "left": null,
       "margin": null,
       "max_height": null,
       "max_width": null,
       "min_height": null,
       "min_width": null,
       "object_fit": null,
       "object_position": null,
       "order": null,
       "overflow": null,
       "overflow_x": null,
       "overflow_y": null,
       "padding": null,
       "right": null,
       "top": null,
       "visibility": null,
       "width": null
      }
     },
     "dc2e9aa108b843c194dca51c1f86bf7d": {
      "model_module": "@jupyter-widgets/base",
      "model_module_version": "1.2.0",
      "model_name": "LayoutModel",
      "state": {
       "_model_module": "@jupyter-widgets/base",
       "_model_module_version": "1.2.0",
       "_model_name": "LayoutModel",
       "_view_count": null,
       "_view_module": "@jupyter-widgets/base",
       "_view_module_version": "1.2.0",
       "_view_name": "LayoutView",
       "align_content": null,
       "align_items": null,
       "align_self": null,
       "border": null,
       "bottom": null,
       "display": null,
       "flex": null,
       "flex_flow": null,
       "grid_area": null,
       "grid_auto_columns": null,
       "grid_auto_flow": null,
       "grid_auto_rows": null,
       "grid_column": null,
       "grid_gap": null,
       "grid_row": null,
       "grid_template_areas": null,
       "grid_template_columns": null,
       "grid_template_rows": null,
       "height": null,
       "justify_content": null,
       "justify_items": null,
       "left": null,
       "margin": null,
       "max_height": null,
       "max_width": null,
       "min_height": null,
       "min_width": null,
       "object_fit": null,
       "object_position": null,
       "order": null,
       "overflow": null,
       "overflow_x": null,
       "overflow_y": null,
       "padding": null,
       "right": null,
       "top": null,
       "visibility": null,
       "width": null
      }
     },
     "dce9c74e3d7940c4a505e83a15cf9295": {
      "model_module": "@jupyter-widgets/base",
      "model_module_version": "1.2.0",
      "model_name": "LayoutModel",
      "state": {
       "_model_module": "@jupyter-widgets/base",
       "_model_module_version": "1.2.0",
       "_model_name": "LayoutModel",
       "_view_count": null,
       "_view_module": "@jupyter-widgets/base",
       "_view_module_version": "1.2.0",
       "_view_name": "LayoutView",
       "align_content": null,
       "align_items": null,
       "align_self": null,
       "border": null,
       "bottom": null,
       "display": null,
       "flex": null,
       "flex_flow": null,
       "grid_area": null,
       "grid_auto_columns": null,
       "grid_auto_flow": null,
       "grid_auto_rows": null,
       "grid_column": null,
       "grid_gap": null,
       "grid_row": null,
       "grid_template_areas": null,
       "grid_template_columns": null,
       "grid_template_rows": null,
       "height": null,
       "justify_content": null,
       "justify_items": null,
       "left": null,
       "margin": null,
       "max_height": null,
       "max_width": null,
       "min_height": null,
       "min_width": null,
       "object_fit": null,
       "object_position": null,
       "order": null,
       "overflow": null,
       "overflow_x": null,
       "overflow_y": null,
       "padding": null,
       "right": null,
       "top": null,
       "visibility": null,
       "width": null
      }
     },
     "dd0abe0751b140fda55d3c0108da6503": {
      "model_module": "@jupyter-widgets/controls",
      "model_module_version": "1.5.0",
      "model_name": "HTMLModel",
      "state": {
       "_dom_classes": [],
       "_model_module": "@jupyter-widgets/controls",
       "_model_module_version": "1.5.0",
       "_model_name": "HTMLModel",
       "_view_count": null,
       "_view_module": "@jupyter-widgets/controls",
       "_view_module_version": "1.5.0",
       "_view_name": "HTMLView",
       "description": "",
       "description_tooltip": null,
       "layout": "IPY_MODEL_ab8c4934bef24f75a6585040bb78449b",
       "placeholder": "​",
       "style": "IPY_MODEL_d1eea4158f854a878fb274fea260eead",
       "value": " 1000/1000 [09:18&lt;00:00,  1.83it/s]"
      }
     },
     "ddbc3e6355df4de893199eb1433c5c93": {
      "model_module": "@jupyter-widgets/controls",
      "model_module_version": "1.5.0",
      "model_name": "ProgressStyleModel",
      "state": {
       "_model_module": "@jupyter-widgets/controls",
       "_model_module_version": "1.5.0",
       "_model_name": "ProgressStyleModel",
       "_view_count": null,
       "_view_module": "@jupyter-widgets/base",
       "_view_module_version": "1.2.0",
       "_view_name": "StyleView",
       "bar_color": null,
       "description_width": ""
      }
     },
     "dddab50cd59f4904b8a8bab96f35da26": {
      "model_module": "@jupyter-widgets/controls",
      "model_module_version": "1.5.0",
      "model_name": "FloatProgressModel",
      "state": {
       "_dom_classes": [],
       "_model_module": "@jupyter-widgets/controls",
       "_model_module_version": "1.5.0",
       "_model_name": "FloatProgressModel",
       "_view_count": null,
       "_view_module": "@jupyter-widgets/controls",
       "_view_module_version": "1.5.0",
       "_view_name": "ProgressView",
       "bar_style": "success",
       "description": "",
       "description_tooltip": null,
       "layout": "IPY_MODEL_ed5617064302445da15df12160c20aa3",
       "max": 10,
       "min": 0,
       "orientation": "horizontal",
       "style": "IPY_MODEL_7a367f6141da4a4884c75680bbd3af96",
       "value": 10
      }
     },
     "de07d6133d824424af2b6dce373e9e12": {
      "model_module": "@jupyter-widgets/base",
      "model_module_version": "1.2.0",
      "model_name": "LayoutModel",
      "state": {
       "_model_module": "@jupyter-widgets/base",
       "_model_module_version": "1.2.0",
       "_model_name": "LayoutModel",
       "_view_count": null,
       "_view_module": "@jupyter-widgets/base",
       "_view_module_version": "1.2.0",
       "_view_name": "LayoutView",
       "align_content": null,
       "align_items": null,
       "align_self": null,
       "border": null,
       "bottom": null,
       "display": null,
       "flex": null,
       "flex_flow": null,
       "grid_area": null,
       "grid_auto_columns": null,
       "grid_auto_flow": null,
       "grid_auto_rows": null,
       "grid_column": null,
       "grid_gap": null,
       "grid_row": null,
       "grid_template_areas": null,
       "grid_template_columns": null,
       "grid_template_rows": null,
       "height": null,
       "justify_content": null,
       "justify_items": null,
       "left": null,
       "margin": null,
       "max_height": null,
       "max_width": null,
       "min_height": null,
       "min_width": null,
       "object_fit": null,
       "object_position": null,
       "order": null,
       "overflow": null,
       "overflow_x": null,
       "overflow_y": null,
       "padding": null,
       "right": null,
       "top": null,
       "visibility": null,
       "width": null
      }
     },
     "de12eee85dbb4dd3ac85b1df8dc44ea2": {
      "model_module": "@jupyter-widgets/controls",
      "model_module_version": "1.5.0",
      "model_name": "HTMLModel",
      "state": {
       "_dom_classes": [],
       "_model_module": "@jupyter-widgets/controls",
       "_model_module_version": "1.5.0",
       "_model_name": "HTMLModel",
       "_view_count": null,
       "_view_module": "@jupyter-widgets/controls",
       "_view_module_version": "1.5.0",
       "_view_name": "HTMLView",
       "description": "",
       "description_tooltip": null,
       "layout": "IPY_MODEL_d1034a8230074f2fa621d396e7997db1",
       "placeholder": "​",
       "style": "IPY_MODEL_d37709836231483487647b7af2497cd8",
       "value": "100%"
      }
     },
     "de2d7d9f649f4ffe947e67fd46c4f1c9": {
      "model_module": "@jupyter-widgets/base",
      "model_module_version": "1.2.0",
      "model_name": "LayoutModel",
      "state": {
       "_model_module": "@jupyter-widgets/base",
       "_model_module_version": "1.2.0",
       "_model_name": "LayoutModel",
       "_view_count": null,
       "_view_module": "@jupyter-widgets/base",
       "_view_module_version": "1.2.0",
       "_view_name": "LayoutView",
       "align_content": null,
       "align_items": null,
       "align_self": null,
       "border": null,
       "bottom": null,
       "display": null,
       "flex": null,
       "flex_flow": null,
       "grid_area": null,
       "grid_auto_columns": null,
       "grid_auto_flow": null,
       "grid_auto_rows": null,
       "grid_column": null,
       "grid_gap": null,
       "grid_row": null,
       "grid_template_areas": null,
       "grid_template_columns": null,
       "grid_template_rows": null,
       "height": null,
       "justify_content": null,
       "justify_items": null,
       "left": null,
       "margin": null,
       "max_height": null,
       "max_width": null,
       "min_height": null,
       "min_width": null,
       "object_fit": null,
       "object_position": null,
       "order": null,
       "overflow": null,
       "overflow_x": null,
       "overflow_y": null,
       "padding": null,
       "right": null,
       "top": null,
       "visibility": null,
       "width": null
      }
     },
     "deb24ccdf19b4e67b6c5c725d310a79b": {
      "model_module": "@jupyter-widgets/base",
      "model_module_version": "1.2.0",
      "model_name": "LayoutModel",
      "state": {
       "_model_module": "@jupyter-widgets/base",
       "_model_module_version": "1.2.0",
       "_model_name": "LayoutModel",
       "_view_count": null,
       "_view_module": "@jupyter-widgets/base",
       "_view_module_version": "1.2.0",
       "_view_name": "LayoutView",
       "align_content": null,
       "align_items": null,
       "align_self": null,
       "border": null,
       "bottom": null,
       "display": null,
       "flex": null,
       "flex_flow": null,
       "grid_area": null,
       "grid_auto_columns": null,
       "grid_auto_flow": null,
       "grid_auto_rows": null,
       "grid_column": null,
       "grid_gap": null,
       "grid_row": null,
       "grid_template_areas": null,
       "grid_template_columns": null,
       "grid_template_rows": null,
       "height": null,
       "justify_content": null,
       "justify_items": null,
       "left": null,
       "margin": null,
       "max_height": null,
       "max_width": null,
       "min_height": null,
       "min_width": null,
       "object_fit": null,
       "object_position": null,
       "order": null,
       "overflow": null,
       "overflow_x": null,
       "overflow_y": null,
       "padding": null,
       "right": null,
       "top": null,
       "visibility": null,
       "width": null
      }
     },
     "e2974f03d6e04f27ad1eef87191a58e9": {
      "model_module": "@jupyter-widgets/controls",
      "model_module_version": "1.5.0",
      "model_name": "HTMLModel",
      "state": {
       "_dom_classes": [],
       "_model_module": "@jupyter-widgets/controls",
       "_model_module_version": "1.5.0",
       "_model_name": "HTMLModel",
       "_view_count": null,
       "_view_module": "@jupyter-widgets/controls",
       "_view_module_version": "1.5.0",
       "_view_name": "HTMLView",
       "description": "",
       "description_tooltip": null,
       "layout": "IPY_MODEL_3bd7a697abe844ecb141143eb06affb9",
       "placeholder": "​",
       "style": "IPY_MODEL_6a0c8ef1de94481ab755cac85199c500",
       "value": " 1000/1000 [12:03&lt;00:00,  1.42it/s]"
      }
     },
     "e318105421794fb89f3b31140e130041": {
      "model_module": "@jupyter-widgets/controls",
      "model_module_version": "1.5.0",
      "model_name": "DescriptionStyleModel",
      "state": {
       "_model_module": "@jupyter-widgets/controls",
       "_model_module_version": "1.5.0",
       "_model_name": "DescriptionStyleModel",
       "_view_count": null,
       "_view_module": "@jupyter-widgets/base",
       "_view_module_version": "1.2.0",
       "_view_name": "StyleView",
       "description_width": ""
      }
     },
     "e32ff54d40e64bfda18d9c540209f5d6": {
      "model_module": "@jupyter-widgets/controls",
      "model_module_version": "1.5.0",
      "model_name": "FloatProgressModel",
      "state": {
       "_dom_classes": [],
       "_model_module": "@jupyter-widgets/controls",
       "_model_module_version": "1.5.0",
       "_model_name": "FloatProgressModel",
       "_view_count": null,
       "_view_module": "@jupyter-widgets/controls",
       "_view_module_version": "1.5.0",
       "_view_name": "ProgressView",
       "bar_style": "success",
       "description": "",
       "description_tooltip": null,
       "layout": "IPY_MODEL_c11be81d04f24e61ba067f4b2c3c0ad5",
       "max": 100,
       "min": 0,
       "orientation": "horizontal",
       "style": "IPY_MODEL_be7fe940cb1d40e6b474212b66b3fad9",
       "value": 100
      }
     },
     "e36fc5805cc64c118d7e6eb91d59dedc": {
      "model_module": "@jupyter-widgets/controls",
      "model_module_version": "1.5.0",
      "model_name": "ProgressStyleModel",
      "state": {
       "_model_module": "@jupyter-widgets/controls",
       "_model_module_version": "1.5.0",
       "_model_name": "ProgressStyleModel",
       "_view_count": null,
       "_view_module": "@jupyter-widgets/base",
       "_view_module_version": "1.2.0",
       "_view_name": "StyleView",
       "bar_color": null,
       "description_width": ""
      }
     },
     "e3a74bf543134b00b2a2c7dd3da68f14": {
      "model_module": "@jupyter-widgets/controls",
      "model_module_version": "1.5.0",
      "model_name": "DescriptionStyleModel",
      "state": {
       "_model_module": "@jupyter-widgets/controls",
       "_model_module_version": "1.5.0",
       "_model_name": "DescriptionStyleModel",
       "_view_count": null,
       "_view_module": "@jupyter-widgets/base",
       "_view_module_version": "1.2.0",
       "_view_name": "StyleView",
       "description_width": ""
      }
     },
     "e3acabe1cf02431db306ecc900442bbf": {
      "model_module": "@jupyter-widgets/base",
      "model_module_version": "1.2.0",
      "model_name": "LayoutModel",
      "state": {
       "_model_module": "@jupyter-widgets/base",
       "_model_module_version": "1.2.0",
       "_model_name": "LayoutModel",
       "_view_count": null,
       "_view_module": "@jupyter-widgets/base",
       "_view_module_version": "1.2.0",
       "_view_name": "LayoutView",
       "align_content": null,
       "align_items": null,
       "align_self": null,
       "border": null,
       "bottom": null,
       "display": null,
       "flex": null,
       "flex_flow": null,
       "grid_area": null,
       "grid_auto_columns": null,
       "grid_auto_flow": null,
       "grid_auto_rows": null,
       "grid_column": null,
       "grid_gap": null,
       "grid_row": null,
       "grid_template_areas": null,
       "grid_template_columns": null,
       "grid_template_rows": null,
       "height": null,
       "justify_content": null,
       "justify_items": null,
       "left": null,
       "margin": null,
       "max_height": null,
       "max_width": null,
       "min_height": null,
       "min_width": null,
       "object_fit": null,
       "object_position": null,
       "order": null,
       "overflow": null,
       "overflow_x": null,
       "overflow_y": null,
       "padding": null,
       "right": null,
       "top": null,
       "visibility": null,
       "width": null
      }
     },
     "e3ae1c22da894d3ea06a12a43d3fad3e": {
      "model_module": "@jupyter-widgets/base",
      "model_module_version": "1.2.0",
      "model_name": "LayoutModel",
      "state": {
       "_model_module": "@jupyter-widgets/base",
       "_model_module_version": "1.2.0",
       "_model_name": "LayoutModel",
       "_view_count": null,
       "_view_module": "@jupyter-widgets/base",
       "_view_module_version": "1.2.0",
       "_view_name": "LayoutView",
       "align_content": null,
       "align_items": null,
       "align_self": null,
       "border": null,
       "bottom": null,
       "display": null,
       "flex": null,
       "flex_flow": null,
       "grid_area": null,
       "grid_auto_columns": null,
       "grid_auto_flow": null,
       "grid_auto_rows": null,
       "grid_column": null,
       "grid_gap": null,
       "grid_row": null,
       "grid_template_areas": null,
       "grid_template_columns": null,
       "grid_template_rows": null,
       "height": null,
       "justify_content": null,
       "justify_items": null,
       "left": null,
       "margin": null,
       "max_height": null,
       "max_width": null,
       "min_height": null,
       "min_width": null,
       "object_fit": null,
       "object_position": null,
       "order": null,
       "overflow": null,
       "overflow_x": null,
       "overflow_y": null,
       "padding": null,
       "right": null,
       "top": null,
       "visibility": null,
       "width": null
      }
     },
     "e4da874ef8214e1da80549efa7d48632": {
      "model_module": "@jupyter-widgets/controls",
      "model_module_version": "1.5.0",
      "model_name": "DescriptionStyleModel",
      "state": {
       "_model_module": "@jupyter-widgets/controls",
       "_model_module_version": "1.5.0",
       "_model_name": "DescriptionStyleModel",
       "_view_count": null,
       "_view_module": "@jupyter-widgets/base",
       "_view_module_version": "1.2.0",
       "_view_name": "StyleView",
       "description_width": ""
      }
     },
     "e50731b23e9e49928c24ef822ff8c7d8": {
      "model_module": "@jupyter-widgets/controls",
      "model_module_version": "1.5.0",
      "model_name": "HBoxModel",
      "state": {
       "_dom_classes": [],
       "_model_module": "@jupyter-widgets/controls",
       "_model_module_version": "1.5.0",
       "_model_name": "HBoxModel",
       "_view_count": null,
       "_view_module": "@jupyter-widgets/controls",
       "_view_module_version": "1.5.0",
       "_view_name": "HBoxView",
       "box_style": "",
       "children": [
        "IPY_MODEL_91b36a6d71cc474381f19ff6e01102f4",
        "IPY_MODEL_b07e7653dbcf472cb01f5436759c6046",
        "IPY_MODEL_f1295ddf36ba4e149d904b010e8bebfe"
       ],
       "layout": "IPY_MODEL_7dd6af6bfdf54c85940a2b1f03659eaa"
      }
     },
     "e63c5721c7e14f53bab488c806b63608": {
      "model_module": "@jupyter-widgets/controls",
      "model_module_version": "1.5.0",
      "model_name": "HBoxModel",
      "state": {
       "_dom_classes": [],
       "_model_module": "@jupyter-widgets/controls",
       "_model_module_version": "1.5.0",
       "_model_name": "HBoxModel",
       "_view_count": null,
       "_view_module": "@jupyter-widgets/controls",
       "_view_module_version": "1.5.0",
       "_view_name": "HBoxView",
       "box_style": "",
       "children": [
        "IPY_MODEL_be18618bca2a40128dde71f91335dc7c",
        "IPY_MODEL_11909f86338a4643b2ff208012ccde78",
        "IPY_MODEL_15edf78325f641f49d209014155d2438"
       ],
       "layout": "IPY_MODEL_43dcb20f475d4f17be2a211666275c7f"
      }
     },
     "e65857640b41415d96bafd1aeae4800a": {
      "model_module": "@jupyter-widgets/controls",
      "model_module_version": "1.5.0",
      "model_name": "HTMLModel",
      "state": {
       "_dom_classes": [],
       "_model_module": "@jupyter-widgets/controls",
       "_model_module_version": "1.5.0",
       "_model_name": "HTMLModel",
       "_view_count": null,
       "_view_module": "@jupyter-widgets/controls",
       "_view_module_version": "1.5.0",
       "_view_name": "HTMLView",
       "description": "",
       "description_tooltip": null,
       "layout": "IPY_MODEL_8596968b94be42d899b407fab4dc48fa",
       "placeholder": "​",
       "style": "IPY_MODEL_c5dbd85303c64fd3960f4296c6c7270b",
       "value": "100%"
      }
     },
     "e67c2f275faa44f3bc33f2e205f8abb7": {
      "model_module": "@jupyter-widgets/base",
      "model_module_version": "1.2.0",
      "model_name": "LayoutModel",
      "state": {
       "_model_module": "@jupyter-widgets/base",
       "_model_module_version": "1.2.0",
       "_model_name": "LayoutModel",
       "_view_count": null,
       "_view_module": "@jupyter-widgets/base",
       "_view_module_version": "1.2.0",
       "_view_name": "LayoutView",
       "align_content": null,
       "align_items": null,
       "align_self": null,
       "border": null,
       "bottom": null,
       "display": null,
       "flex": null,
       "flex_flow": null,
       "grid_area": null,
       "grid_auto_columns": null,
       "grid_auto_flow": null,
       "grid_auto_rows": null,
       "grid_column": null,
       "grid_gap": null,
       "grid_row": null,
       "grid_template_areas": null,
       "grid_template_columns": null,
       "grid_template_rows": null,
       "height": null,
       "justify_content": null,
       "justify_items": null,
       "left": null,
       "margin": null,
       "max_height": null,
       "max_width": null,
       "min_height": null,
       "min_width": null,
       "object_fit": null,
       "object_position": null,
       "order": null,
       "overflow": null,
       "overflow_x": null,
       "overflow_y": null,
       "padding": null,
       "right": null,
       "top": null,
       "visibility": null,
       "width": null
      }
     },
     "e7a92c281238453eb2625f59f27da812": {
      "model_module": "@jupyter-widgets/base",
      "model_module_version": "1.2.0",
      "model_name": "LayoutModel",
      "state": {
       "_model_module": "@jupyter-widgets/base",
       "_model_module_version": "1.2.0",
       "_model_name": "LayoutModel",
       "_view_count": null,
       "_view_module": "@jupyter-widgets/base",
       "_view_module_version": "1.2.0",
       "_view_name": "LayoutView",
       "align_content": null,
       "align_items": null,
       "align_self": null,
       "border": null,
       "bottom": null,
       "display": null,
       "flex": null,
       "flex_flow": null,
       "grid_area": null,
       "grid_auto_columns": null,
       "grid_auto_flow": null,
       "grid_auto_rows": null,
       "grid_column": null,
       "grid_gap": null,
       "grid_row": null,
       "grid_template_areas": null,
       "grid_template_columns": null,
       "grid_template_rows": null,
       "height": null,
       "justify_content": null,
       "justify_items": null,
       "left": null,
       "margin": null,
       "max_height": null,
       "max_width": null,
       "min_height": null,
       "min_width": null,
       "object_fit": null,
       "object_position": null,
       "order": null,
       "overflow": null,
       "overflow_x": null,
       "overflow_y": null,
       "padding": null,
       "right": null,
       "top": null,
       "visibility": null,
       "width": null
      }
     },
     "e915e6b6a842484eb0c931873537f3c4": {
      "model_module": "@jupyter-widgets/controls",
      "model_module_version": "1.5.0",
      "model_name": "HTMLModel",
      "state": {
       "_dom_classes": [],
       "_model_module": "@jupyter-widgets/controls",
       "_model_module_version": "1.5.0",
       "_model_name": "HTMLModel",
       "_view_count": null,
       "_view_module": "@jupyter-widgets/controls",
       "_view_module_version": "1.5.0",
       "_view_name": "HTMLView",
       "description": "",
       "description_tooltip": null,
       "layout": "IPY_MODEL_fe40143646764c87bb66f81dc0656436",
       "placeholder": "​",
       "style": "IPY_MODEL_7130ca637db34297af444baf6fc56412",
       "value": "100%"
      }
     },
     "ead54443cd4749de898489824d06320a": {
      "model_module": "@jupyter-widgets/controls",
      "model_module_version": "1.5.0",
      "model_name": "HTMLModel",
      "state": {
       "_dom_classes": [],
       "_model_module": "@jupyter-widgets/controls",
       "_model_module_version": "1.5.0",
       "_model_name": "HTMLModel",
       "_view_count": null,
       "_view_module": "@jupyter-widgets/controls",
       "_view_module_version": "1.5.0",
       "_view_name": "HTMLView",
       "description": "",
       "description_tooltip": null,
       "layout": "IPY_MODEL_49c5b34e9991427fbdb2fe96218b6048",
       "placeholder": "​",
       "style": "IPY_MODEL_2484d6189e7c4ef6b76cdb18e1bc609b",
       "value": "100%"
      }
     },
     "ec8d154fcc9249afa4228d333e1a40de": {
      "model_module": "@jupyter-widgets/controls",
      "model_module_version": "1.5.0",
      "model_name": "DescriptionStyleModel",
      "state": {
       "_model_module": "@jupyter-widgets/controls",
       "_model_module_version": "1.5.0",
       "_model_name": "DescriptionStyleModel",
       "_view_count": null,
       "_view_module": "@jupyter-widgets/base",
       "_view_module_version": "1.2.0",
       "_view_name": "StyleView",
       "description_width": ""
      }
     },
     "ecb0a0c9e2ad41d48f8dac4a99306015": {
      "model_module": "@jupyter-widgets/controls",
      "model_module_version": "1.5.0",
      "model_name": "HTMLModel",
      "state": {
       "_dom_classes": [],
       "_model_module": "@jupyter-widgets/controls",
       "_model_module_version": "1.5.0",
       "_model_name": "HTMLModel",
       "_view_count": null,
       "_view_module": "@jupyter-widgets/controls",
       "_view_module_version": "1.5.0",
       "_view_name": "HTMLView",
       "description": "",
       "description_tooltip": null,
       "layout": "IPY_MODEL_57bf81a790954b6c9d1a18a0193d00cf",
       "placeholder": "​",
       "style": "IPY_MODEL_b0f60074027c4d77965c6b7173615431",
       "value": "100%"
      }
     },
     "ed5617064302445da15df12160c20aa3": {
      "model_module": "@jupyter-widgets/base",
      "model_module_version": "1.2.0",
      "model_name": "LayoutModel",
      "state": {
       "_model_module": "@jupyter-widgets/base",
       "_model_module_version": "1.2.0",
       "_model_name": "LayoutModel",
       "_view_count": null,
       "_view_module": "@jupyter-widgets/base",
       "_view_module_version": "1.2.0",
       "_view_name": "LayoutView",
       "align_content": null,
       "align_items": null,
       "align_self": null,
       "border": null,
       "bottom": null,
       "display": null,
       "flex": null,
       "flex_flow": null,
       "grid_area": null,
       "grid_auto_columns": null,
       "grid_auto_flow": null,
       "grid_auto_rows": null,
       "grid_column": null,
       "grid_gap": null,
       "grid_row": null,
       "grid_template_areas": null,
       "grid_template_columns": null,
       "grid_template_rows": null,
       "height": null,
       "justify_content": null,
       "justify_items": null,
       "left": null,
       "margin": null,
       "max_height": null,
       "max_width": null,
       "min_height": null,
       "min_width": null,
       "object_fit": null,
       "object_position": null,
       "order": null,
       "overflow": null,
       "overflow_x": null,
       "overflow_y": null,
       "padding": null,
       "right": null,
       "top": null,
       "visibility": null,
       "width": null
      }
     },
     "ed611615e5fb47a5b11db397c2c6dcc0": {
      "model_module": "@jupyter-widgets/base",
      "model_module_version": "1.2.0",
      "model_name": "LayoutModel",
      "state": {
       "_model_module": "@jupyter-widgets/base",
       "_model_module_version": "1.2.0",
       "_model_name": "LayoutModel",
       "_view_count": null,
       "_view_module": "@jupyter-widgets/base",
       "_view_module_version": "1.2.0",
       "_view_name": "LayoutView",
       "align_content": null,
       "align_items": null,
       "align_self": null,
       "border": null,
       "bottom": null,
       "display": null,
       "flex": null,
       "flex_flow": null,
       "grid_area": null,
       "grid_auto_columns": null,
       "grid_auto_flow": null,
       "grid_auto_rows": null,
       "grid_column": null,
       "grid_gap": null,
       "grid_row": null,
       "grid_template_areas": null,
       "grid_template_columns": null,
       "grid_template_rows": null,
       "height": null,
       "justify_content": null,
       "justify_items": null,
       "left": null,
       "margin": null,
       "max_height": null,
       "max_width": null,
       "min_height": null,
       "min_width": null,
       "object_fit": null,
       "object_position": null,
       "order": null,
       "overflow": null,
       "overflow_x": null,
       "overflow_y": null,
       "padding": null,
       "right": null,
       "top": null,
       "visibility": null,
       "width": null
      }
     },
     "eec2bf96a2c44d0c9f82cd42974fc0c6": {
      "model_module": "@jupyter-widgets/controls",
      "model_module_version": "1.5.0",
      "model_name": "HTMLModel",
      "state": {
       "_dom_classes": [],
       "_model_module": "@jupyter-widgets/controls",
       "_model_module_version": "1.5.0",
       "_model_name": "HTMLModel",
       "_view_count": null,
       "_view_module": "@jupyter-widgets/controls",
       "_view_module_version": "1.5.0",
       "_view_name": "HTMLView",
       "description": "",
       "description_tooltip": null,
       "layout": "IPY_MODEL_976f390aa4984e53b0fe51abe7f0eec8",
       "placeholder": "​",
       "style": "IPY_MODEL_4408de903e424b8aa259d727dc947e1b",
       "value": "100%"
      }
     },
     "eef4fce808b1417b912adf37256095d8": {
      "model_module": "@jupyter-widgets/controls",
      "model_module_version": "1.5.0",
      "model_name": "HBoxModel",
      "state": {
       "_dom_classes": [],
       "_model_module": "@jupyter-widgets/controls",
       "_model_module_version": "1.5.0",
       "_model_name": "HBoxModel",
       "_view_count": null,
       "_view_module": "@jupyter-widgets/controls",
       "_view_module_version": "1.5.0",
       "_view_name": "HBoxView",
       "box_style": "",
       "children": [
        "IPY_MODEL_350920fff6b043d9ac10ba08c5f34afa",
        "IPY_MODEL_1a436dea769542618f828d86b3a792ae",
        "IPY_MODEL_b79e7a67b6994649a90e47ce8402a742"
       ],
       "layout": "IPY_MODEL_67f336fe05a140189e53b560cff805df"
      }
     },
     "eef6ed0a231e4e689dd26d5f45dc9054": {
      "model_module": "@jupyter-widgets/controls",
      "model_module_version": "1.5.0",
      "model_name": "FloatProgressModel",
      "state": {
       "_dom_classes": [],
       "_model_module": "@jupyter-widgets/controls",
       "_model_module_version": "1.5.0",
       "_model_name": "FloatProgressModel",
       "_view_count": null,
       "_view_module": "@jupyter-widgets/controls",
       "_view_module_version": "1.5.0",
       "_view_name": "ProgressView",
       "bar_style": "success",
       "description": "",
       "description_tooltip": null,
       "layout": "IPY_MODEL_a71d2cf5847842d5ac026fdf0279b564",
       "max": 100,
       "min": 0,
       "orientation": "horizontal",
       "style": "IPY_MODEL_c71a8ac6c6b641f7b73b8dff0904face",
       "value": 100
      }
     },
     "ef98e1bd58e34a9293d0b3c1f7e2d793": {
      "model_module": "@jupyter-widgets/base",
      "model_module_version": "1.2.0",
      "model_name": "LayoutModel",
      "state": {
       "_model_module": "@jupyter-widgets/base",
       "_model_module_version": "1.2.0",
       "_model_name": "LayoutModel",
       "_view_count": null,
       "_view_module": "@jupyter-widgets/base",
       "_view_module_version": "1.2.0",
       "_view_name": "LayoutView",
       "align_content": null,
       "align_items": null,
       "align_self": null,
       "border": null,
       "bottom": null,
       "display": null,
       "flex": null,
       "flex_flow": null,
       "grid_area": null,
       "grid_auto_columns": null,
       "grid_auto_flow": null,
       "grid_auto_rows": null,
       "grid_column": null,
       "grid_gap": null,
       "grid_row": null,
       "grid_template_areas": null,
       "grid_template_columns": null,
       "grid_template_rows": null,
       "height": null,
       "justify_content": null,
       "justify_items": null,
       "left": null,
       "margin": null,
       "max_height": null,
       "max_width": null,
       "min_height": null,
       "min_width": null,
       "object_fit": null,
       "object_position": null,
       "order": null,
       "overflow": null,
       "overflow_x": null,
       "overflow_y": null,
       "padding": null,
       "right": null,
       "top": null,
       "visibility": null,
       "width": null
      }
     },
     "eff842c8be744e66a3b1d28734f6872f": {
      "model_module": "@jupyter-widgets/base",
      "model_module_version": "1.2.0",
      "model_name": "LayoutModel",
      "state": {
       "_model_module": "@jupyter-widgets/base",
       "_model_module_version": "1.2.0",
       "_model_name": "LayoutModel",
       "_view_count": null,
       "_view_module": "@jupyter-widgets/base",
       "_view_module_version": "1.2.0",
       "_view_name": "LayoutView",
       "align_content": null,
       "align_items": null,
       "align_self": null,
       "border": null,
       "bottom": null,
       "display": null,
       "flex": null,
       "flex_flow": null,
       "grid_area": null,
       "grid_auto_columns": null,
       "grid_auto_flow": null,
       "grid_auto_rows": null,
       "grid_column": null,
       "grid_gap": null,
       "grid_row": null,
       "grid_template_areas": null,
       "grid_template_columns": null,
       "grid_template_rows": null,
       "height": null,
       "justify_content": null,
       "justify_items": null,
       "left": null,
       "margin": null,
       "max_height": null,
       "max_width": null,
       "min_height": null,
       "min_width": null,
       "object_fit": null,
       "object_position": null,
       "order": null,
       "overflow": null,
       "overflow_x": null,
       "overflow_y": null,
       "padding": null,
       "right": null,
       "top": null,
       "visibility": null,
       "width": null
      }
     },
     "f0e1f575b2754f2981772d026a9c3abf": {
      "model_module": "@jupyter-widgets/controls",
      "model_module_version": "1.5.0",
      "model_name": "DescriptionStyleModel",
      "state": {
       "_model_module": "@jupyter-widgets/controls",
       "_model_module_version": "1.5.0",
       "_model_name": "DescriptionStyleModel",
       "_view_count": null,
       "_view_module": "@jupyter-widgets/base",
       "_view_module_version": "1.2.0",
       "_view_name": "StyleView",
       "description_width": ""
      }
     },
     "f1295ddf36ba4e149d904b010e8bebfe": {
      "model_module": "@jupyter-widgets/controls",
      "model_module_version": "1.5.0",
      "model_name": "HTMLModel",
      "state": {
       "_dom_classes": [],
       "_model_module": "@jupyter-widgets/controls",
       "_model_module_version": "1.5.0",
       "_model_name": "HTMLModel",
       "_view_count": null,
       "_view_module": "@jupyter-widgets/controls",
       "_view_module_version": "1.5.0",
       "_view_name": "HTMLView",
       "description": "",
       "description_tooltip": null,
       "layout": "IPY_MODEL_fc73506eb5a84a5bb5dff706aa52a3a5",
       "placeholder": "​",
       "style": "IPY_MODEL_f465119f659b4819afaf659f743a5cf4",
       "value": " 1000/1000 [24:36&lt;00:00,  1.46s/it]"
      }
     },
     "f1c0c8b58f4f4a04bc8abcbe5f359fce": {
      "model_module": "@jupyter-widgets/base",
      "model_module_version": "1.2.0",
      "model_name": "LayoutModel",
      "state": {
       "_model_module": "@jupyter-widgets/base",
       "_model_module_version": "1.2.0",
       "_model_name": "LayoutModel",
       "_view_count": null,
       "_view_module": "@jupyter-widgets/base",
       "_view_module_version": "1.2.0",
       "_view_name": "LayoutView",
       "align_content": null,
       "align_items": null,
       "align_self": null,
       "border": null,
       "bottom": null,
       "display": null,
       "flex": null,
       "flex_flow": null,
       "grid_area": null,
       "grid_auto_columns": null,
       "grid_auto_flow": null,
       "grid_auto_rows": null,
       "grid_column": null,
       "grid_gap": null,
       "grid_row": null,
       "grid_template_areas": null,
       "grid_template_columns": null,
       "grid_template_rows": null,
       "height": null,
       "justify_content": null,
       "justify_items": null,
       "left": null,
       "margin": null,
       "max_height": null,
       "max_width": null,
       "min_height": null,
       "min_width": null,
       "object_fit": null,
       "object_position": null,
       "order": null,
       "overflow": null,
       "overflow_x": null,
       "overflow_y": null,
       "padding": null,
       "right": null,
       "top": null,
       "visibility": null,
       "width": null
      }
     },
     "f294ad32bb184d70a0e0e638e92e2610": {
      "model_module": "@jupyter-widgets/controls",
      "model_module_version": "1.5.0",
      "model_name": "FloatProgressModel",
      "state": {
       "_dom_classes": [],
       "_model_module": "@jupyter-widgets/controls",
       "_model_module_version": "1.5.0",
       "_model_name": "FloatProgressModel",
       "_view_count": null,
       "_view_module": "@jupyter-widgets/controls",
       "_view_module_version": "1.5.0",
       "_view_name": "ProgressView",
       "bar_style": "success",
       "description": "",
       "description_tooltip": null,
       "layout": "IPY_MODEL_fe46c9319e184dcb8c0644366be57c4a",
       "max": 1000,
       "min": 0,
       "orientation": "horizontal",
       "style": "IPY_MODEL_e36fc5805cc64c118d7e6eb91d59dedc",
       "value": 1000
      }
     },
     "f314fb9642b14f4bbc74d9d37b708b8a": {
      "model_module": "@jupyter-widgets/base",
      "model_module_version": "1.2.0",
      "model_name": "LayoutModel",
      "state": {
       "_model_module": "@jupyter-widgets/base",
       "_model_module_version": "1.2.0",
       "_model_name": "LayoutModel",
       "_view_count": null,
       "_view_module": "@jupyter-widgets/base",
       "_view_module_version": "1.2.0",
       "_view_name": "LayoutView",
       "align_content": null,
       "align_items": null,
       "align_self": null,
       "border": null,
       "bottom": null,
       "display": null,
       "flex": null,
       "flex_flow": null,
       "grid_area": null,
       "grid_auto_columns": null,
       "grid_auto_flow": null,
       "grid_auto_rows": null,
       "grid_column": null,
       "grid_gap": null,
       "grid_row": null,
       "grid_template_areas": null,
       "grid_template_columns": null,
       "grid_template_rows": null,
       "height": null,
       "justify_content": null,
       "justify_items": null,
       "left": null,
       "margin": null,
       "max_height": null,
       "max_width": null,
       "min_height": null,
       "min_width": null,
       "object_fit": null,
       "object_position": null,
       "order": null,
       "overflow": null,
       "overflow_x": null,
       "overflow_y": null,
       "padding": null,
       "right": null,
       "top": null,
       "visibility": null,
       "width": null
      }
     },
     "f37b1ad601584467aee64515fb1b1dab": {
      "model_module": "@jupyter-widgets/controls",
      "model_module_version": "1.5.0",
      "model_name": "HBoxModel",
      "state": {
       "_dom_classes": [],
       "_model_module": "@jupyter-widgets/controls",
       "_model_module_version": "1.5.0",
       "_model_name": "HBoxModel",
       "_view_count": null,
       "_view_module": "@jupyter-widgets/controls",
       "_view_module_version": "1.5.0",
       "_view_name": "HBoxView",
       "box_style": "",
       "children": [
        "IPY_MODEL_8e9d2941492c4bc6a3453b5156358bf9",
        "IPY_MODEL_ac8a71a2dd3b48f8aaab62b7cc8c8b34",
        "IPY_MODEL_ace9c955361f4205904c02cbafa011dc"
       ],
       "layout": "IPY_MODEL_aa44b6e0828f4624a8e5fe39f2f0ba26"
      }
     },
     "f465119f659b4819afaf659f743a5cf4": {
      "model_module": "@jupyter-widgets/controls",
      "model_module_version": "1.5.0",
      "model_name": "DescriptionStyleModel",
      "state": {
       "_model_module": "@jupyter-widgets/controls",
       "_model_module_version": "1.5.0",
       "_model_name": "DescriptionStyleModel",
       "_view_count": null,
       "_view_module": "@jupyter-widgets/base",
       "_view_module_version": "1.2.0",
       "_view_name": "StyleView",
       "description_width": ""
      }
     },
     "f500202c33914fe3b8c7125abe8cdb72": {
      "model_module": "@jupyter-widgets/controls",
      "model_module_version": "1.5.0",
      "model_name": "HBoxModel",
      "state": {
       "_dom_classes": [],
       "_model_module": "@jupyter-widgets/controls",
       "_model_module_version": "1.5.0",
       "_model_name": "HBoxModel",
       "_view_count": null,
       "_view_module": "@jupyter-widgets/controls",
       "_view_module_version": "1.5.0",
       "_view_name": "HBoxView",
       "box_style": "",
       "children": [
        "IPY_MODEL_02287e16eef84b80aa6a3a29ff236e47",
        "IPY_MODEL_eef6ed0a231e4e689dd26d5f45dc9054",
        "IPY_MODEL_db3c2b107cdd48468e2f9ff58c4dc819"
       ],
       "layout": "IPY_MODEL_ac20f975c53d4613b28687e156d617dc"
      }
     },
     "f5962964a6184920bcba7db1822677f8": {
      "model_module": "@jupyter-widgets/controls",
      "model_module_version": "1.5.0",
      "model_name": "DescriptionStyleModel",
      "state": {
       "_model_module": "@jupyter-widgets/controls",
       "_model_module_version": "1.5.0",
       "_model_name": "DescriptionStyleModel",
       "_view_count": null,
       "_view_module": "@jupyter-widgets/base",
       "_view_module_version": "1.2.0",
       "_view_name": "StyleView",
       "description_width": ""
      }
     },
     "f5a0a641996a40f981a39932e2665256": {
      "model_module": "@jupyter-widgets/base",
      "model_module_version": "1.2.0",
      "model_name": "LayoutModel",
      "state": {
       "_model_module": "@jupyter-widgets/base",
       "_model_module_version": "1.2.0",
       "_model_name": "LayoutModel",
       "_view_count": null,
       "_view_module": "@jupyter-widgets/base",
       "_view_module_version": "1.2.0",
       "_view_name": "LayoutView",
       "align_content": null,
       "align_items": null,
       "align_self": null,
       "border": null,
       "bottom": null,
       "display": null,
       "flex": null,
       "flex_flow": null,
       "grid_area": null,
       "grid_auto_columns": null,
       "grid_auto_flow": null,
       "grid_auto_rows": null,
       "grid_column": null,
       "grid_gap": null,
       "grid_row": null,
       "grid_template_areas": null,
       "grid_template_columns": null,
       "grid_template_rows": null,
       "height": null,
       "justify_content": null,
       "justify_items": null,
       "left": null,
       "margin": null,
       "max_height": null,
       "max_width": null,
       "min_height": null,
       "min_width": null,
       "object_fit": null,
       "object_position": null,
       "order": null,
       "overflow": null,
       "overflow_x": null,
       "overflow_y": null,
       "padding": null,
       "right": null,
       "top": null,
       "visibility": null,
       "width": null
      }
     },
     "f7f1c8b40c1643ba9d91987588ee40b9": {
      "model_module": "@jupyter-widgets/controls",
      "model_module_version": "1.5.0",
      "model_name": "HBoxModel",
      "state": {
       "_dom_classes": [],
       "_model_module": "@jupyter-widgets/controls",
       "_model_module_version": "1.5.0",
       "_model_name": "HBoxModel",
       "_view_count": null,
       "_view_module": "@jupyter-widgets/controls",
       "_view_module_version": "1.5.0",
       "_view_name": "HBoxView",
       "box_style": "",
       "children": [
        "IPY_MODEL_59013386ae11421c98eba94b0c1b88b9",
        "IPY_MODEL_7a55b612dcdd4d4798d129b4924f427a",
        "IPY_MODEL_32821683bd6e4e6a8129956b541e68bc"
       ],
       "layout": "IPY_MODEL_d3d8927d5d3e43ce8668ec2ecb7a7e06"
      }
     },
     "f9660c1717e44eaca522e24885e03876": {
      "model_module": "@jupyter-widgets/controls",
      "model_module_version": "1.5.0",
      "model_name": "ProgressStyleModel",
      "state": {
       "_model_module": "@jupyter-widgets/controls",
       "_model_module_version": "1.5.0",
       "_model_name": "ProgressStyleModel",
       "_view_count": null,
       "_view_module": "@jupyter-widgets/base",
       "_view_module_version": "1.2.0",
       "_view_name": "StyleView",
       "bar_color": null,
       "description_width": ""
      }
     },
     "f98e60c0d3c041d0bcaf64d8f1804867": {
      "model_module": "@jupyter-widgets/controls",
      "model_module_version": "1.5.0",
      "model_name": "HBoxModel",
      "state": {
       "_dom_classes": [],
       "_model_module": "@jupyter-widgets/controls",
       "_model_module_version": "1.5.0",
       "_model_name": "HBoxModel",
       "_view_count": null,
       "_view_module": "@jupyter-widgets/controls",
       "_view_module_version": "1.5.0",
       "_view_name": "HBoxView",
       "box_style": "",
       "children": [
        "IPY_MODEL_40e6c875e0cd43529e07b38e6e5036d3",
        "IPY_MODEL_a407ffca440c4333a27f6c02dc0d0119",
        "IPY_MODEL_fcbc20b69379443a9e49c8aaa000fff1"
       ],
       "layout": "IPY_MODEL_de2d7d9f649f4ffe947e67fd46c4f1c9"
      }
     },
     "f9ef8f7ef59f442d97b101c4f0ff8c65": {
      "model_module": "@jupyter-widgets/controls",
      "model_module_version": "1.5.0",
      "model_name": "ProgressStyleModel",
      "state": {
       "_model_module": "@jupyter-widgets/controls",
       "_model_module_version": "1.5.0",
       "_model_name": "ProgressStyleModel",
       "_view_count": null,
       "_view_module": "@jupyter-widgets/base",
       "_view_module_version": "1.2.0",
       "_view_name": "StyleView",
       "bar_color": null,
       "description_width": ""
      }
     },
     "fc73506eb5a84a5bb5dff706aa52a3a5": {
      "model_module": "@jupyter-widgets/base",
      "model_module_version": "1.2.0",
      "model_name": "LayoutModel",
      "state": {
       "_model_module": "@jupyter-widgets/base",
       "_model_module_version": "1.2.0",
       "_model_name": "LayoutModel",
       "_view_count": null,
       "_view_module": "@jupyter-widgets/base",
       "_view_module_version": "1.2.0",
       "_view_name": "LayoutView",
       "align_content": null,
       "align_items": null,
       "align_self": null,
       "border": null,
       "bottom": null,
       "display": null,
       "flex": null,
       "flex_flow": null,
       "grid_area": null,
       "grid_auto_columns": null,
       "grid_auto_flow": null,
       "grid_auto_rows": null,
       "grid_column": null,
       "grid_gap": null,
       "grid_row": null,
       "grid_template_areas": null,
       "grid_template_columns": null,
       "grid_template_rows": null,
       "height": null,
       "justify_content": null,
       "justify_items": null,
       "left": null,
       "margin": null,
       "max_height": null,
       "max_width": null,
       "min_height": null,
       "min_width": null,
       "object_fit": null,
       "object_position": null,
       "order": null,
       "overflow": null,
       "overflow_x": null,
       "overflow_y": null,
       "padding": null,
       "right": null,
       "top": null,
       "visibility": null,
       "width": null
      }
     },
     "fcbc20b69379443a9e49c8aaa000fff1": {
      "model_module": "@jupyter-widgets/controls",
      "model_module_version": "1.5.0",
      "model_name": "HTMLModel",
      "state": {
       "_dom_classes": [],
       "_model_module": "@jupyter-widgets/controls",
       "_model_module_version": "1.5.0",
       "_model_name": "HTMLModel",
       "_view_count": null,
       "_view_module": "@jupyter-widgets/controls",
       "_view_module_version": "1.5.0",
       "_view_name": "HTMLView",
       "description": "",
       "description_tooltip": null,
       "layout": "IPY_MODEL_41a8a4db0d9f4b75bd00de12b772af1f",
       "placeholder": "​",
       "style": "IPY_MODEL_41f73d3a48ae44be931f82c2f85224c9",
       "value": " 1000/1000 [42:28&lt;00:00,  2.50s/it]"
      }
     },
     "fce114ccc0b24216842c071f9c91aacb": {
      "model_module": "@jupyter-widgets/base",
      "model_module_version": "1.2.0",
      "model_name": "LayoutModel",
      "state": {
       "_model_module": "@jupyter-widgets/base",
       "_model_module_version": "1.2.0",
       "_model_name": "LayoutModel",
       "_view_count": null,
       "_view_module": "@jupyter-widgets/base",
       "_view_module_version": "1.2.0",
       "_view_name": "LayoutView",
       "align_content": null,
       "align_items": null,
       "align_self": null,
       "border": null,
       "bottom": null,
       "display": null,
       "flex": null,
       "flex_flow": null,
       "grid_area": null,
       "grid_auto_columns": null,
       "grid_auto_flow": null,
       "grid_auto_rows": null,
       "grid_column": null,
       "grid_gap": null,
       "grid_row": null,
       "grid_template_areas": null,
       "grid_template_columns": null,
       "grid_template_rows": null,
       "height": null,
       "justify_content": null,
       "justify_items": null,
       "left": null,
       "margin": null,
       "max_height": null,
       "max_width": null,
       "min_height": null,
       "min_width": null,
       "object_fit": null,
       "object_position": null,
       "order": null,
       "overflow": null,
       "overflow_x": null,
       "overflow_y": null,
       "padding": null,
       "right": null,
       "top": null,
       "visibility": null,
       "width": null
      }
     },
     "fd3b752be3f545459aa9d319e4b5504b": {
      "model_module": "@jupyter-widgets/controls",
      "model_module_version": "1.5.0",
      "model_name": "HTMLModel",
      "state": {
       "_dom_classes": [],
       "_model_module": "@jupyter-widgets/controls",
       "_model_module_version": "1.5.0",
       "_model_name": "HTMLModel",
       "_view_count": null,
       "_view_module": "@jupyter-widgets/controls",
       "_view_module_version": "1.5.0",
       "_view_name": "HTMLView",
       "description": "",
       "description_tooltip": null,
       "layout": "IPY_MODEL_2d202766eb8142b4ae52eeff2ff2f384",
       "placeholder": "​",
       "style": "IPY_MODEL_07f33855c4a646eb9652b9030cd11da6",
       "value": " 1000/1000 [10:17&lt;00:00,  1.67it/s]"
      }
     },
     "fe40143646764c87bb66f81dc0656436": {
      "model_module": "@jupyter-widgets/base",
      "model_module_version": "1.2.0",
      "model_name": "LayoutModel",
      "state": {
       "_model_module": "@jupyter-widgets/base",
       "_model_module_version": "1.2.0",
       "_model_name": "LayoutModel",
       "_view_count": null,
       "_view_module": "@jupyter-widgets/base",
       "_view_module_version": "1.2.0",
       "_view_name": "LayoutView",
       "align_content": null,
       "align_items": null,
       "align_self": null,
       "border": null,
       "bottom": null,
       "display": null,
       "flex": null,
       "flex_flow": null,
       "grid_area": null,
       "grid_auto_columns": null,
       "grid_auto_flow": null,
       "grid_auto_rows": null,
       "grid_column": null,
       "grid_gap": null,
       "grid_row": null,
       "grid_template_areas": null,
       "grid_template_columns": null,
       "grid_template_rows": null,
       "height": null,
       "justify_content": null,
       "justify_items": null,
       "left": null,
       "margin": null,
       "max_height": null,
       "max_width": null,
       "min_height": null,
       "min_width": null,
       "object_fit": null,
       "object_position": null,
       "order": null,
       "overflow": null,
       "overflow_x": null,
       "overflow_y": null,
       "padding": null,
       "right": null,
       "top": null,
       "visibility": null,
       "width": null
      }
     },
     "fe46c9319e184dcb8c0644366be57c4a": {
      "model_module": "@jupyter-widgets/base",
      "model_module_version": "1.2.0",
      "model_name": "LayoutModel",
      "state": {
       "_model_module": "@jupyter-widgets/base",
       "_model_module_version": "1.2.0",
       "_model_name": "LayoutModel",
       "_view_count": null,
       "_view_module": "@jupyter-widgets/base",
       "_view_module_version": "1.2.0",
       "_view_name": "LayoutView",
       "align_content": null,
       "align_items": null,
       "align_self": null,
       "border": null,
       "bottom": null,
       "display": null,
       "flex": null,
       "flex_flow": null,
       "grid_area": null,
       "grid_auto_columns": null,
       "grid_auto_flow": null,
       "grid_auto_rows": null,
       "grid_column": null,
       "grid_gap": null,
       "grid_row": null,
       "grid_template_areas": null,
       "grid_template_columns": null,
       "grid_template_rows": null,
       "height": null,
       "justify_content": null,
       "justify_items": null,
       "left": null,
       "margin": null,
       "max_height": null,
       "max_width": null,
       "min_height": null,
       "min_width": null,
       "object_fit": null,
       "object_position": null,
       "order": null,
       "overflow": null,
       "overflow_x": null,
       "overflow_y": null,
       "padding": null,
       "right": null,
       "top": null,
       "visibility": null,
       "width": null
      }
     },
     "fe5122e026134bad8245966a68365160": {
      "model_module": "@jupyter-widgets/base",
      "model_module_version": "1.2.0",
      "model_name": "LayoutModel",
      "state": {
       "_model_module": "@jupyter-widgets/base",
       "_model_module_version": "1.2.0",
       "_model_name": "LayoutModel",
       "_view_count": null,
       "_view_module": "@jupyter-widgets/base",
       "_view_module_version": "1.2.0",
       "_view_name": "LayoutView",
       "align_content": null,
       "align_items": null,
       "align_self": null,
       "border": null,
       "bottom": null,
       "display": null,
       "flex": null,
       "flex_flow": null,
       "grid_area": null,
       "grid_auto_columns": null,
       "grid_auto_flow": null,
       "grid_auto_rows": null,
       "grid_column": null,
       "grid_gap": null,
       "grid_row": null,
       "grid_template_areas": null,
       "grid_template_columns": null,
       "grid_template_rows": null,
       "height": null,
       "justify_content": null,
       "justify_items": null,
       "left": null,
       "margin": null,
       "max_height": null,
       "max_width": null,
       "min_height": null,
       "min_width": null,
       "object_fit": null,
       "object_position": null,
       "order": null,
       "overflow": null,
       "overflow_x": null,
       "overflow_y": null,
       "padding": null,
       "right": null,
       "top": null,
       "visibility": null,
       "width": null
      }
     },
     "ff312565626d4c3182b4b047f9031640": {
      "model_module": "@jupyter-widgets/controls",
      "model_module_version": "1.5.0",
      "model_name": "ProgressStyleModel",
      "state": {
       "_model_module": "@jupyter-widgets/controls",
       "_model_module_version": "1.5.0",
       "_model_name": "ProgressStyleModel",
       "_view_count": null,
       "_view_module": "@jupyter-widgets/base",
       "_view_module_version": "1.2.0",
       "_view_name": "StyleView",
       "bar_color": null,
       "description_width": ""
      }
     },
     "ff94117a8e5a488ebbbd1ce9d0ab7dd5": {
      "model_module": "@jupyter-widgets/base",
      "model_module_version": "1.2.0",
      "model_name": "LayoutModel",
      "state": {
       "_model_module": "@jupyter-widgets/base",
       "_model_module_version": "1.2.0",
       "_model_name": "LayoutModel",
       "_view_count": null,
       "_view_module": "@jupyter-widgets/base",
       "_view_module_version": "1.2.0",
       "_view_name": "LayoutView",
       "align_content": null,
       "align_items": null,
       "align_self": null,
       "border": null,
       "bottom": null,
       "display": null,
       "flex": null,
       "flex_flow": null,
       "grid_area": null,
       "grid_auto_columns": null,
       "grid_auto_flow": null,
       "grid_auto_rows": null,
       "grid_column": null,
       "grid_gap": null,
       "grid_row": null,
       "grid_template_areas": null,
       "grid_template_columns": null,
       "grid_template_rows": null,
       "height": null,
       "justify_content": null,
       "justify_items": null,
       "left": null,
       "margin": null,
       "max_height": null,
       "max_width": null,
       "min_height": null,
       "min_width": null,
       "object_fit": null,
       "object_position": null,
       "order": null,
       "overflow": null,
       "overflow_x": null,
       "overflow_y": null,
       "padding": null,
       "right": null,
       "top": null,
       "visibility": null,
       "width": null
      }
     }
    },
    "version_major": 2,
    "version_minor": 0
   }
  }
 },
 "nbformat": 4,
 "nbformat_minor": 2
}