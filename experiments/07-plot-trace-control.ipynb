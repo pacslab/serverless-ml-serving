{
    "cells": [
        {
            "cell_type": "code",
            "execution_count": null,
            "source": [
                "%load_ext autoreload\n",
                "%autoreload 2\n",
                "\n",
                "import pandas as pd\n",
                "import numpy as np\n",
                "import matplotlib.pyplot as plt\n",
                "\n",
                "import pacswg"
            ],
            "outputs": [],
            "metadata": {}
        },
        {
            "cell_type": "code",
            "execution_count": null,
            "source": [
                "# TODO: measurements are once every 30 seconds, convert them to time"
            ],
            "outputs": [],
            "metadata": {}
        },
        {
            "cell_type": "code",
            "execution_count": null,
            "source": [
                "# service_name = 'bentoml-keras-toxic-comments'\n",
                "# exp_name = 'res-2021-06-28_22-09-08'\n",
                "# slo_timeout = 500\n",
                "# trace_name = 'trace2'\n",
                "\n",
                "# service_name = 'bentoml-pytorch-fashion-mnist'\n",
                "# trace_name = 'trace_trace_wc'\n",
                "# # exp_name = 'res-2021-07-29_18-18-28_proxy_no_controller'\n",
                "# exp_name = 'res-2021-07-29_23-08-36_proxy'\n",
                "# slo_timeout = 1000\n",
                "\n",
                "service_name = 'bentoml-iris'\n",
                "trace_name = 'trace_trace_wc'\n",
                "# experiments\n",
                "# exp_name = 'res-2021-08-03_11-46-33_proxy'\n",
                "# exp_name = 'res-2021-08-03_16-39-31_proxy_no_controller'\n",
                "# exp_name = 'res-2021-08-03_19-10-32_proxy'\n",
                "# exp_name = 'res-2021-08-04_11-35-40_proxy'\n",
                "# slo_timeout = 500\n",
                "# exp_name = 'res-2021-08-04_15-54-03_proxy'\n",
                "exp_name = 'res-2021-08-04_18-12-27_proxy'\n",
                "slo_timeout = 200\n",
                "\n",
                "exp_folder = f'results/{trace_name}/{service_name}'\n",
                "exp_proxy_filename = f'{exp_folder}/{exp_name}.csv'\n",
                "exp_reqs_filename = exp_proxy_filename.replace('proxy', 'reqs')"
            ],
            "outputs": [],
            "metadata": {}
        },
        {
            "cell_type": "code",
            "execution_count": null,
            "source": [
                "df_proxy_stats = pd.read_csv(exp_proxy_filename, index_col=0, parse_dates=True)\n",
                "df_res = pd.read_csv(exp_reqs_filename, index_col=0, parse_dates=True)"
            ],
            "outputs": [],
            "metadata": {}
        },
        {
            "cell_type": "code",
            "execution_count": null,
            "source": [
                "plt.plot(df_proxy_stats['averageMaxBufferSize'])\n",
                "plt.plot(df_proxy_stats['averageActualBatchSize'])"
            ],
            "outputs": [],
            "metadata": {}
        },
        {
            "cell_type": "code",
            "execution_count": null,
            "source": [
                "plt.plot(df_proxy_stats['averageTimeoutRatio'])"
            ],
            "outputs": [],
            "metadata": {}
        },
        {
            "cell_type": "code",
            "execution_count": null,
            "source": [
                "plt.plot(df_proxy_stats['reponseTimeAverage'])\n",
                "plt.plot(df_proxy_stats['reponseTimeP50'])\n",
                "plt.plot(df_proxy_stats['reponseTimeP95'])"
            ],
            "outputs": [],
            "metadata": {}
        },
        {
            "cell_type": "code",
            "execution_count": null,
            "source": [
                "# plt.plot(df_proxy_stats['reponseTimeAverage'][5:30])\n",
                "# plt.plot(df_proxy_stats['reponseTimeP50'][5:30])\n",
                "# plt.plot(df_proxy_stats['reponseTimeP95'][5:30])"
            ],
            "outputs": [],
            "metadata": {}
        },
        {
            "cell_type": "code",
            "execution_count": null,
            "source": [
                "plt.plot(df_proxy_stats['currentReplicaCount'])\n",
                "plt.plot(df_proxy_stats['currentReadyReplicaCount'], ls='--')\n",
                "print(df_proxy_stats['currentReadyReplicaCount'].mean())\n",
                "print(df_proxy_stats['currentReadyReplicaCount'].max())"
            ],
            "outputs": [],
            "metadata": {}
        },
        {
            "cell_type": "code",
            "execution_count": null,
            "source": [
                "plt.plot(df_proxy_stats['averageArrivalRate'])"
            ],
            "outputs": [],
            "metadata": {}
        },
        {
            "cell_type": "markdown",
            "source": [
                "## Other Useful Plots"
            ],
            "metadata": {}
        },
        {
            "cell_type": "code",
            "execution_count": null,
            "source": [
                "df_res['received_at'] = pd.to_datetime(df_res['received_at'])\n",
                "df_res['response_at'] = pd.to_datetime(df_res['response_at'])"
            ],
            "outputs": [],
            "metadata": {}
        },
        {
            "cell_type": "code",
            "execution_count": null,
            "source": [
                "# get a temporal data of means\n",
                "temp_df = df_res.set_index('received_at').resample('T').mean()\n",
                "temp_df.head()"
            ],
            "outputs": [],
            "metadata": {}
        },
        {
            "cell_type": "code",
            "execution_count": null,
            "source": [
                "\n",
                "plt.plot(temp_df['upstream_response_time'])"
            ],
            "outputs": [],
            "metadata": {}
        },
        {
            "cell_type": "code",
            "execution_count": null,
            "source": [
                "plt.plot(temp_df['upstream_request_count'])"
            ],
            "outputs": [],
            "metadata": {}
        },
        {
            "cell_type": "code",
            "execution_count": null,
            "source": [
                "plt.plot(temp_df['queue_time_ms'], label='Queue Time (ms)')\n",
                "plt.plot(temp_df['response_time_ms_server'], label='Response Time (ms)')\n",
                "plt.plot(temp_df['upstream_response_time'], label='Upstream RT (ms)')\n",
                "\n",
                "plt.legend()"
            ],
            "outputs": [],
            "metadata": {}
        },
        {
            "cell_type": "code",
            "execution_count": null,
            "source": [
                "df_resample = df_res.set_index('received_at').resample('T')\n",
                "p95_over_time = df_resample['response_time_ms_server'].quantile(0.95)\n",
                "plt.plot(p95_over_time)"
            ],
            "outputs": [],
            "metadata": {}
        },
        {
            "cell_type": "code",
            "execution_count": null,
            "source": [
                "# SLO miss rate\n",
                "slo_miss_count = df_resample['response_time_ms_server'].apply(lambda x: np.sum(x > slo_timeout))\n",
                "resampled_request_count = df_resample['response_time_ms_server'].apply(lambda x: len(x))\n",
                "slo_miss_rates = slo_miss_count / resampled_request_count * 100\n",
                "plt.plot(slo_miss_rates)\n",
                "plt.ylabel('SLO Miss Rate (%)')\n",
                "plt.xlabel('Time')"
            ],
            "outputs": [],
            "metadata": {}
        },
        {
            "cell_type": "markdown",
            "source": [
                "# Extract Experiment Parameters"
            ],
            "metadata": {}
        },
        {
            "cell_type": "code",
            "execution_count": null,
            "source": [
                "slo_miss_percentage = np.sum(df_res['response_time_ms_server'] > slo_timeout) / df_res.shape[0] * 100\n",
                "print(f'slo_miss_percentage {slo_miss_percentage:4.3f}%')"
            ],
            "outputs": [],
            "metadata": {}
        }
    ],
    "metadata": {
        "orig_nbformat": 4,
        "language_info": {
            "name": "python",
            "version": "3.8.5",
            "mimetype": "text/x-python",
            "codemirror_mode": {
                "name": "ipython",
                "version": 3
            },
            "pygments_lexer": "ipython3",
            "nbconvert_exporter": "python",
            "file_extension": ".py"
        },
        "kernelspec": {
            "name": "python3",
            "display_name": "Python 3.8.5 64-bit ('base': conda)"
        },
        "interpreter": {
            "hash": "4f7b070ef049bbd8502237a868479304b4da16a010bb509c19371ab8ff01cc23"
        }
    },
    "nbformat": 4,
    "nbformat_minor": 2
}