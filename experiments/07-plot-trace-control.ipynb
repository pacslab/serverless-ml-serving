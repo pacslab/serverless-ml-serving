{
    "cells": [
        {
            "cell_type": "code",
            "execution_count": null,
            "source": [
                "plt.plot(df_proxy_stats['averageMaxBufferSize'])\n",
                "plt.plot(df_proxy_stats['averageActualBatchSize'])"
            ],
            "outputs": [],
            "metadata": {}
        },
        {
            "cell_type": "code",
            "execution_count": null,
            "source": [
                "plt.plot(df_proxy_stats['averageTimeoutRatio'])"
            ],
            "outputs": [],
            "metadata": {}
        },
        {
            "cell_type": "code",
            "execution_count": null,
            "source": [
                "plt.plot(df_proxy_stats['reponseTimeAverage'])\n",
                "plt.plot(df_proxy_stats['reponseTimeP50'])\n",
                "plt.plot(df_proxy_stats['reponseTimeP95'])"
            ],
            "outputs": [],
            "metadata": {}
        },
        {
            "cell_type": "code",
            "execution_count": null,
            "source": [
                "plt.plot(df_proxy_stats['reponseTimeAverage'][5:30])\n",
                "plt.plot(df_proxy_stats['reponseTimeP50'][5:30])\n",
                "plt.plot(df_proxy_stats['reponseTimeP95'][5:30])"
            ],
            "outputs": [],
            "metadata": {}
        },
        {
            "cell_type": "code",
            "execution_count": null,
            "source": [
                "plt.plot(df_proxy_stats['currentReplicaCount'])\n",
                "plt.plot(df_proxy_stats['currentReadyReplicaCount'], ls='--')\n",
                "print(df_proxy_stats['currentReadyReplicaCount'].mean())"
            ],
            "outputs": [],
            "metadata": {}
        },
        {
            "cell_type": "code",
            "execution_count": null,
            "source": [
                "plt.plot(df_proxy_stats['averageArrivalRate'])\n",
                "# measuremenst are once every 30s, but rps is once every minute\n",
                "plt.plot(np.repeat(rps_list, 2), ls=\"--\")"
            ],
            "outputs": [],
            "metadata": {}
        },
        {
            "cell_type": "markdown",
            "source": [
                "## Other Useful Plots"
            ],
            "metadata": {}
        },
        {
            "cell_type": "code",
            "execution_count": null,
            "source": [
                "# get a temporal data of means\n",
                "temp_df = df_res.set_index('received_at').resample('T').mean()\n",
                "temp_df.head()"
            ],
            "outputs": [],
            "metadata": {}
        },
        {
            "cell_type": "code",
            "execution_count": null,
            "source": [
                "\n",
                "plt.plot(temp_df['upstream_response_time'])"
            ],
            "outputs": [],
            "metadata": {}
        },
        {
            "cell_type": "code",
            "execution_count": null,
            "source": [
                "plt.plot(temp_df['upstream_request_count'])"
            ],
            "outputs": [],
            "metadata": {}
        },
        {
            "cell_type": "code",
            "execution_count": null,
            "source": [
                "plt.plot(temp_df['queue_time_ms'], label='Queue Time (ms)')\n",
                "plt.plot(temp_df['response_time_ms_server'], label='Response Time (ms)')\n",
                "plt.plot(temp_df['upstream_response_time'], label='Upstream RT (ms)')\n",
                "\n",
                "plt.legend()"
            ],
            "outputs": [],
            "metadata": {}
        },
        {
            "cell_type": "code",
            "execution_count": null,
            "source": [
                "df_resample = df_res.set_index('received_at').resample('T')\n",
                "p95_over_time = df_resample['response_time_ms_server'].quantile(0.95)\n",
                "plt.plot(p95_over_time)"
            ],
            "outputs": [],
            "metadata": {}
        },
        {
            "cell_type": "code",
            "execution_count": null,
            "source": [
                "# SLO miss rate\n",
                "slo_miss_count = df_resample['response_time_ms_server'].apply(lambda x: np.sum(x > slo_timeout))\n",
                "resampled_request_count = df_resample['response_time_ms_server'].apply(lambda x: len(x))\n",
                "slo_miss_rates = slo_miss_count / resampled_request_count * 100\n",
                "plt.plot(slo_miss_rates)\n",
                "plt.ylabel('SLO Miss Rate (%)')\n",
                "plt.xlabel('Time')"
            ],
            "outputs": [],
            "metadata": {}
        }
    ],
    "metadata": {
        "orig_nbformat": 4,
        "language_info": {
            "name": "python"
        }
    },
    "nbformat": 4,
    "nbformat_minor": 2
}