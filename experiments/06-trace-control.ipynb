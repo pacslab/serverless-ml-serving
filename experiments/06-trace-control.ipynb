{
 "metadata": {
  "language_info": {
   "codemirror_mode": {
    "name": "ipython",
    "version": 3
   },
   "file_extension": ".py",
   "mimetype": "text/x-python",
   "name": "python",
   "nbconvert_exporter": "python",
   "pygments_lexer": "ipython3",
   "version": "3.8.5"
  },
  "orig_nbformat": 2,
  "kernelspec": {
   "name": "python385jvsc74a57bd04f7b070ef049bbd8502237a868479304b4da16a010bb509c19371ab8ff01cc23",
   "display_name": "Python 3.8.5 64-bit ('base': conda)"
  }
 },
 "nbformat": 4,
 "nbformat_minor": 2,
 "cells": [
  {
   "cell_type": "code",
   "execution_count": 1,
   "metadata": {},
   "outputs": [],
   "source": [
    "# imports\n",
    "from datetime import datetime\n",
    "import pytz\n",
    "\n",
    "# library imports\n",
    "import requests\n",
    "\n",
    "# config\n",
    "my_timezone = os.getenv('PY_TZ', 'America/Toronto')\n",
    "\n",
    "# small functions\n",
    "def get_time_with_tz():\n",
    "    return datetime.now().astimezone(pytz.timezone(my_timezone))"
   ]
  },
  {
   "cell_type": "code",
   "execution_count": 2,
   "metadata": {},
   "outputs": [],
   "source": [
    "# configs\n",
    "server_address = 'http://localhost:3000'\n",
    "service_name = 'tfserving-resnetv2'\n",
    "# service_name = 'bentoml-onnx-resnet50'\n",
    "# service_name = 'bentoml-iris'\n",
    "# service_name = 'tfserving-mobilenetv1'\n"
   ]
  },
  {
   "cell_type": "code",
   "execution_count": 74,
   "metadata": {},
   "outputs": [
    {
     "output_type": "execute_result",
     "data": {
      "text/plain": [
       "{'serviceName': 'tfserving-resnetv2',\n",
       " 'upstreamUrl': 'http://tfserving-resnetv2.default.kn.nima-dev.com/v1/models/resnet:predict',\n",
       " 'maxBufferTimeoutMs': 1000,\n",
       " 'maxBufferSize': 5,\n",
       " 'isTFServing': True}"
      ]
     },
     "metadata": {},
     "execution_count": 74
    }
   ],
   "source": [
    "def fetch_raw_server_proxy_stats():\n",
    "    url = f'{server_address}/proxy-monitor/{service_name}'\n",
    "    response = requests.get(url)\n",
    "    response.raise_for_status()\n",
    "    return response.json()\n",
    "\n",
    "def get_proxy_stats():\n",
    "    raw_stats = fetch_raw_server_proxy_stats()\n",
    "    return {\n",
    "        'maxBufferSize': raw_stats['maxBufferSize'],\n",
    "        'averageMaxBufferSize': raw_stats['windowedHistoryValues']['maxBufferSize']['average'],\n",
    "        'averageActualBatchSize': raw_stats['windowedUpstream']['batchSizes']['average'],\n",
    "        'maxBufferTimeoutMs': raw_stats['maxBufferTimeoutMs'],\n",
    "        'currentReplicaCount': raw_stats['currentMonitorStatus']['currentReplicaCount'],\n",
    "        'currentReadyReplicaCount': raw_stats['currentMonitorStatus']['currentReplicaCount'],\n",
    "        'currentConcurrency': raw_stats['currentMonitorStatus']['currentConcurrency'],\n",
    "        'averageConcurrency': raw_stats['windowedHistoryValues']['concurrency']['average'],\n",
    "        'averageArrivalRate': raw_stats['windowedHistoryValues']['arrival']['rate'],\n",
    "        'averageDepartureRate': raw_stats['windowedHistoryValues']['departure']['rate'],\n",
    "        'averageDispatchRate': raw_stats['windowedHistoryValues']['dispatch']['rate'],\n",
    "        'averageErrorRate': raw_stats['windowedHistoryValues']['error']['rate'],\n",
    "        'averageTimeoutRatio': raw_stats['windowedHistoryValues']['timeoutRatio']['average'],\n",
    "        'reponseTimeAverage': raw_stats['responseTimes']['stats']['average'],\n",
    "        'reponseTimeP50': raw_stats['responseTimes']['stats']['q50'],\n",
    "        'reponseTimeP95': raw_stats['responseTimes']['stats']['q95'],\n",
    "        'batchResponseTimeStats': raw_stats['windowedUpstream']['responseTimes'],\n",
    "    }\n",
    "\n",
    "def set_proxy_config(update_config):\n",
    "    url = f'{server_address}/proxy-config/{service_name}'\n",
    "    response = requests.post(url, json=update_config)\n",
    "    response.raise_for_status()\n",
    "    return response.json()\n",
    "\n",
    "set_proxy_config({'maxBufferSize': 5})\n",
    "\n",
    "# display(fetch_raw_server_proxy_stats())\n",
    "# display(get_proxy_stats())"
   ]
  },
  {
   "cell_type": "code",
   "execution_count": 89,
   "metadata": {},
   "outputs": [
    {
     "output_type": "execute_result",
     "data": {
      "text/plain": [
       "{'maxBufferSize': 5,\n",
       " 'averageMaxBufferSize': 5,\n",
       " 'averageActualBatchSize': 4.517241379310345,\n",
       " 'maxBufferTimeoutMs': 1000,\n",
       " 'currentReplicaCount': 2,\n",
       " 'currentReadyReplicaCount': 2,\n",
       " 'currentConcurrency': 8,\n",
       " 'averageConcurrency': 9.5,\n",
       " 'averageArrivalRate': 4.85,\n",
       " 'averageDepartureRate': 4.4,\n",
       " 'averageDispatchRate': 4.9,\n",
       " 'averageErrorRate': 0,\n",
       " 'averageTimeoutRatio': 0.14285714285714285,\n",
       " 'reponseTimeAverage': 1703.3740458015268,\n",
       " 'reponseTimeP50': 1616,\n",
       " 'reponseTimeP95': 2935.5,\n",
       " 'batchResponseTimeStats': {'1': {'values': [221, 433],\n",
       "   'stats': {'q50': 327, 'q95': 422.4, 'average': 327, 'count': 2},\n",
       "   'batchSize': 1},\n",
       "  '2': {'values': [423],\n",
       "   'stats': {'q50': 423, 'q95': 423, 'average': 423, 'count': 1},\n",
       "   'batchSize': 2},\n",
       "  '3': {'values': [561, 597, 604, 1487, 1587],\n",
       "   'stats': {'q50': 604, 'q95': 1567, 'average': 967.2, 'count': 5},\n",
       "   'batchSize': 3},\n",
       "  '4': {'values': [745, 751, 809, 813, 821, 830, 1043],\n",
       "   'stats': {'q50': 813,\n",
       "    'q95': 979.0999999999999,\n",
       "    'average': 830.2857142857143,\n",
       "    'count': 7},\n",
       "   'batchSize': 4},\n",
       "  '5': {'values': [918,\n",
       "    950,\n",
       "    958,\n",
       "    967,\n",
       "    971,\n",
       "    973,\n",
       "    977,\n",
       "    981,\n",
       "    1009,\n",
       "    1014,\n",
       "    1018,\n",
       "    1045,\n",
       "    1053,\n",
       "    1075,\n",
       "    1080,\n",
       "    1084,\n",
       "    1120,\n",
       "    1164,\n",
       "    1207,\n",
       "    1226,\n",
       "    1231,\n",
       "    1237,\n",
       "    1265,\n",
       "    1269,\n",
       "    1306,\n",
       "    1364,\n",
       "    1399,\n",
       "    1437,\n",
       "    1476,\n",
       "    1485,\n",
       "    1524,\n",
       "    1527,\n",
       "    1625,\n",
       "    1658,\n",
       "    1708,\n",
       "    1749,\n",
       "    1868,\n",
       "    2143,\n",
       "    2621,\n",
       "    2643,\n",
       "    2684,\n",
       "    2689,\n",
       "    2935],\n",
       "   'stats': {'q50': 1237,\n",
       "    'q95': 2679.9,\n",
       "    'average': 1433.3255813953488,\n",
       "    'count': 43},\n",
       "   'batchSize': 5}}}"
      ]
     },
     "metadata": {},
     "execution_count": 89
    }
   ],
   "source": [
    "get_proxy_stats()"
   ]
  }
 ]
}