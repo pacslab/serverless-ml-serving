{
 "metadata": {
  "language_info": {
   "codemirror_mode": {
    "name": "ipython",
    "version": 3
   },
   "file_extension": ".py",
   "mimetype": "text/x-python",
   "name": "python",
   "nbconvert_exporter": "python",
   "pygments_lexer": "ipython3",
   "version": "3.8.5"
  },
  "orig_nbformat": 2,
  "kernelspec": {
   "name": "python3",
   "display_name": "Python 3.8.5 64-bit ('base': conda)"
  },
  "interpreter": {
   "hash": "4f7b070ef049bbd8502237a868479304b4da16a010bb509c19371ab8ff01cc23"
  }
 },
 "nbformat": 4,
 "nbformat_minor": 2,
 "cells": [
  {
   "cell_type": "code",
   "execution_count": 1,
   "source": [
    "%load_ext autoreload\n",
    "%autoreload 2\n",
    "\n",
    "# imports\n",
    "import time\n",
    "import traceback\n",
    "import os\n",
    "\n",
    "# library imports\n",
    "from tqdm.auto import tqdm\n",
    "\n",
    "import pandas as pd\n",
    "import numpy as np\n",
    "import matplotlib.pyplot as plt\n",
    "\n",
    "from pacswg.timer import TimerClass\n",
    "import pacswg\n",
    "\n",
    "from exp_trace_utils import get_time_with_tz\n",
    "import exp_trace_utils"
   ],
   "outputs": [],
   "metadata": {}
  },
  {
   "cell_type": "code",
   "execution_count": 2,
   "source": [
    "# configs\n",
    "server_address = 'http://localhost:3000'\n",
    "\n",
    "# service_name = 'tfserving-resnetv2'\n",
    "# slo_timeout = \n",
    "\n",
    "# service_name = 'bentoml-onnx-resnet50'\n",
    "# slo_timeout = \n",
    "\n",
    "# service_name = 'bentoml-iris'\n",
    "# service_url = f'{server_address}/proxy/{service_name}'\n",
    "# slo_timeout = 500\n",
    "# initial_batch_size = 5\n",
    "# bs_config = {\n",
    "#     'max_bs': 100,\n",
    "#     'min_bs': 1,\n",
    "#     'inc_step': 5,\n",
    "#     'dec_mult': 0.7,\n",
    "# }\n",
    "# average_timeout_ratio_threshold = 0.5\n",
    "\n",
    "# service_name = 'tfserving-mobilenetv1'\n",
    "# slo_timeout = \n",
    "\n",
    "service_name = 'bentoml-keras-toxic-comments'\n",
    "service_url = f'{server_address}/proxy/{service_name}'\n",
    "slo_timeout = 500\n",
    "initial_batch_size = 5\n",
    "bs_config = {\n",
    "    'max_bs': 50,\n",
    "    'min_bs': 1,\n",
    "    'inc_step': 5,\n",
    "    'dec_mult': 0.7,\n",
    "}\n",
    "average_timeout_ratio_threshold = 0.5\n",
    "\n",
    "# service_name = 'bentoml-pytorch-fashion-mnist'\n",
    "# service_url = f'{server_address}/proxy/{service_name}'\n",
    "# slo_timeout = 1000\n",
    "# initial_batch_size = 5\n",
    "# bs_config = {\n",
    "#     'max_bs': 100,\n",
    "#     'min_bs': 1,\n",
    "#     'inc_step': 5,\n",
    "#     'dec_mult': 0.7,\n",
    "# }\n",
    "# average_timeout_ratio_threshold = 0.5\n",
    "\n",
    "# SLO Target\n",
    "slo_target = slo_timeout * 0.8\n",
    "\n",
    "# length of measurements used to estimate different batch size response times\n",
    "upstream_rt_max_len = 1000\n",
    "\n",
    "# disable controller?\n",
    "disable_controller = False\n",
    "if disable_controller:\n",
    "    initial_batch_size = 1\n",
    "\n",
    "# experiment info\n",
    "cpu_m = 1000\n",
    "ram_mb = 1024\n",
    "\n",
    "controller = exp_trace_utils.SmartProxyController(\n",
    "    server_address=server_address,\n",
    "    service_name=service_name,\n",
    "    slo_timeout=slo_timeout,\n",
    "    initial_batch_size=initial_batch_size,\n",
    "    bs_config=bs_config,\n",
    "    average_timeout_ratio_threshold=average_timeout_ratio_threshold,\n",
    ")"
   ],
   "outputs": [],
   "metadata": {}
  },
  {
   "cell_type": "code",
   "execution_count": 3,
   "source": [
    "# initialize trace values\n",
    "\n",
    "# staircase workload\n",
    "# base_rps = 5\n",
    "# rps_list = [base_rps] * 5 + [base_rps*2] * 5 + [base_rps*3] * 5 + [base_rps*4] * 5\n",
    "# trace_name = 'staircase'\n",
    "\n",
    "# autoscale traces\n",
    "trace_name = 'trace_wc'\n",
    "max_rps = 30\n",
    "autoscale_folder_path = '../traces/files/AutoScale/'\n",
    "autoscale_trace_file_names = {\n",
    "  # Big Spike, NLANR [nlanr1995]\n",
    "  'trace_t2': 'trace_t2.txt',\n",
    "  # Dual Phase, NLANR [nlanr1995]\n",
    "  'trace_t4': 'trace_t4.txt',\n",
    "  # Large variations, NLANR [nlanr1995]\n",
    "  'trace_t5': 'trace_t5.txt',\n",
    "  # worldcup, slowly varying [ita 1998]\n",
    "  'trace_wc': 'trace_wc.txt',\n",
    "}\n",
    "autoscale_file_path = autoscale_folder_path + autoscale_trace_file_names[trace_name]\n",
    "print('loading file:', autoscale_file_path)\n",
    "trace_arr = np.loadtxt(autoscale_file_path)\n",
    "rps_list = trace_arr / (trace_arr.max()) * max_rps\n",
    "rps_list = list(rps_list)\n",
    "\n",
    "plt.plot(rps_list)"
   ],
   "outputs": [
    {
     "output_type": "stream",
     "name": "stdout",
     "text": [
      "loading file: ../traces/files/AutoScale/trace_wc.txt\n"
     ]
    },
    {
     "output_type": "execute_result",
     "data": {
      "text/plain": [
       "[<matplotlib.lines.Line2D at 0x7f39a37635e0>]"
      ]
     },
     "metadata": {},
     "execution_count": 3
    },
    {
     "output_type": "display_data",
     "data": {
      "text/plain": [
       "<Figure size 432x288 with 1 Axes>"
      ],
      "image/png": "[encoded data removed]"
     },
     "metadata": {
      "needs_background": "light"
     }
    }
   ],
   "metadata": {}
  },
  {
   "cell_type": "markdown",
   "source": [
    "# Getting and Setting Stats and Configs"
   ],
   "metadata": {}
  },
  {
   "cell_type": "code",
   "execution_count": 4,
   "source": [
    "controller.set_initial_config()"
   ],
   "outputs": [
    {
     "output_type": "execute_result",
     "data": {
      "text/plain": [
       "{'serviceName': 'bentoml-keras-toxic-comments',\n",
       " 'upstreamUrl': 'http://bentoml-keras-toxic-comments.default.192-168-23-125.nip.io/predict',\n",
       " 'maxBufferTimeoutMs': 400,\n",
       " 'maxBufferSize': 5,\n",
       " 'isTFServing': False}"
      ]
     },
     "metadata": {},
     "execution_count": 4
    }
   ],
   "metadata": {}
  },
  {
   "cell_type": "code",
   "execution_count": 5,
   "source": [
    "proxy_stats = controller.get_proxy_stats()\n",
    "proxy_stats"
   ],
   "outputs": [
    {
     "output_type": "execute_result",
     "data": {
      "text/plain": [
       "{'maxBufferSize': 5,\n",
       " 'averageMaxBufferSize': 1.4,\n",
       " 'averageActualBatchSize': None,\n",
       " 'maxBufferTimeoutMs': 400,\n",
       " 'currentReplicaCount': 0,\n",
       " 'currentReadyReplicaCount': 0,\n",
       " 'currentConcurrency': 0,\n",
       " 'averageConcurrency': 0,\n",
       " 'averageArrivalRate': 0,\n",
       " 'averageDepartureRate': 0,\n",
       " 'averageDispatchRate': 0,\n",
       " 'averageErrorRate': 0,\n",
       " 'averageTimeoutRatio': None,\n",
       " 'reponseTimeAverage': None,\n",
       " 'reponseTimeP50': None,\n",
       " 'reponseTimeP95': None,\n",
       " 'batchResponseTimeStats': {}}"
      ]
     },
     "metadata": {},
     "execution_count": 5
    }
   ],
   "metadata": {}
  },
  {
   "cell_type": "code",
   "execution_count": 6,
   "source": [
    "\n",
    "batch_rt_values = controller.update_batch_rt_values()\n",
    "# batch_rt_values"
   ],
   "outputs": [],
   "metadata": {}
  },
  {
   "cell_type": "code",
   "execution_count": 7,
   "source": [
    "# run a loop to monitor response times to test the functionality\n",
    "# timer = TimerClass()\n",
    "\n",
    "# batch_rt_values = {}\n",
    "# for _ in tqdm(range(1*6)):\n",
    "#     timer.tic()\n",
    "#     controller.update_batch_rt_values()\n",
    "#     while timer.toc() < 10:\n",
    "#         time.sleep(.1)\n",
    "\n",
    "# batch_rt_values = controller.get_batch_rt_values()\n",
    "# batch_rt_values"
   ],
   "outputs": [],
   "metadata": {}
  },
  {
   "cell_type": "code",
   "execution_count": 8,
   "source": [
    "def analyze_batch_results(batch_rt_values):\n",
    "    batch_size_results = []\n",
    "    for bs, vals in batch_rt_values.items():\n",
    "        # print(bs, len(vals), np.mean(vals))\n",
    "        batch_size_results.append({\n",
    "            'batch_size': bs,\n",
    "            'average_response_time': np.mean(vals),\n",
    "            'median_response_time': np.median(vals),\n",
    "            'p95_response_time': np.percentile(vals,95),\n",
    "        })\n",
    "\n",
    "    df_batch_size = pd.DataFrame(data=batch_size_results)\n",
    "    df_batch_size = df_batch_size.sort_values(by='batch_size')\n",
    "    return df_batch_size\n",
    "\n",
    "def plot_key_vs_batch_size(key, df_batch_size):\n",
    "    plt.figure()\n",
    "    plt.plot(df_batch_size['batch_size'], df_batch_size[key], marker='x')\n",
    "    prev_ylim = plt.gca().get_ylim()\n",
    "    # relative average response time by batch size (linear scale)\n",
    "    relative_scaled_response_time = df_batch_size['batch_size']/df_batch_size['batch_size'].iloc[0]*df_batch_size[key].iloc[0]\n",
    "    # plot the linear baseline\n",
    "    plt.plot(df_batch_size['batch_size'], relative_scaled_response_time, ls='--')\n",
    "    plt.ylim(prev_ylim)\n",
    "    plt.title(key)\n",
    "\n",
    "# df_batch_size = analyze_batch_results(batch_rt_values)\n",
    "# display(df_batch_size)\n",
    "# plot_key_vs_batch_size('average_response_time', df_batch_size)\n",
    "# plot_key_vs_batch_size('median_response_time', df_batch_size)\n",
    "# plot_key_vs_batch_size('p95_response_time', df_batch_size)"
   ],
   "outputs": [],
   "metadata": {}
  },
  {
   "cell_type": "markdown",
   "source": [
    "# Perform Experiment and Log Results"
   ],
   "metadata": {}
  },
  {
   "cell_type": "code",
   "execution_count": 9,
   "source": [
    "# my imports\n",
    "from helpers import kube\n",
    "from helpers import workload\n",
    "from helpers import util\n",
    "from helpers import request_funcs"
   ],
   "outputs": [
    {
     "output_type": "stream",
     "name": "stdout",
     "text": [
      "using domain 192-168-23-125.nip.io\n",
      "fetching imagenet v2\n",
      "resizing images\n"
     ]
    },
    {
     "output_type": "display_data",
     "data": {
      "text/plain": [
       "  0%|          | 0/100 [00:00<?, ?it/s]"
      ],
      "application/vnd.jupyter.widget-view+json": {
       "version_major": 2,
       "version_minor": 0,
       "model_id": "7f7a2d06d9434fb690246029b15ec666"
      }
     },
     "metadata": {}
    },
    {
     "output_type": "stream",
     "name": "stdout",
     "text": [
      "converting to bentoml files\n"
     ]
    },
    {
     "output_type": "display_data",
     "data": {
      "text/plain": [
       "  0%|          | 0/100 [00:00<?, ?it/s]"
      ],
      "application/vnd.jupyter.widget-view+json": {
       "version_major": 2,
       "version_minor": 0,
       "model_id": "3cdfa28f27134078a4213fc97bc2da59"
      }
     },
     "metadata": {}
    },
    {
     "output_type": "stream",
     "name": "stdout",
     "text": [
      "extracting base64 files\n"
     ]
    },
    {
     "output_type": "display_data",
     "data": {
      "text/plain": [
       "  0%|          | 0/100 [00:00<?, ?it/s]"
      ],
      "application/vnd.jupyter.widget-view+json": {
       "version_major": 2,
       "version_minor": 0,
       "model_id": "fe77f1b25c714272879159b462f7715c"
      }
     },
     "metadata": {}
    },
    {
     "output_type": "stream",
     "name": "stdout",
     "text": [
      "preprocessing for mobilenet\n"
     ]
    },
    {
     "output_type": "display_data",
     "data": {
      "text/plain": [
       "  0%|          | 0/100 [00:00<?, ?it/s]"
      ],
      "application/vnd.jupyter.widget-view+json": {
       "version_major": 2,
       "version_minor": 0,
       "model_id": "4ab4731afa6a4566ba5e9ff117c04879"
      }
     },
     "metadata": {}
    }
   ],
   "metadata": {}
  },
  {
   "cell_type": "code",
   "execution_count": 10,
   "source": [
    "config_names = [\n",
    "    'bentoml-iris-250m-512mb',\n",
    "    'bentoml-onnx-resnet50-250m-512mb',\n",
    "    'tfserving-resnetv2-250m-512mb',\n",
    "    'tfserving-mobilenetv1-250m-512mb',\n",
    "    'bentoml-pytorch-fashionmnist-250m-512mb',\n",
    "    'bentoml-keras-toxic-comments-250m-512mb',\n",
    "]\n",
    "\n",
    "workload_configs = {}\n",
    "for exp_config_name in config_names:\n",
    "    exp_file = f\"deployments/{exp_config_name}.json\"\n",
    "    workload_spec = util.load_json_file(exp_file)\n",
    "    workload_configs[workload_spec['name']] = workload_spec"
   ],
   "outputs": [],
   "metadata": {}
  },
  {
   "cell_type": "code",
   "execution_count": 11,
   "source": [
    "# deploy the function\n",
    "request_limit_override = f\"'cpu={cpu_m}m,memory={ram_mb}Mi'\"\n",
    "print('Request Limit Override:', request_limit_override)\n",
    "\n",
    "workload_spec = workload_configs[service_name]\n",
    "# override request and limit values\n",
    "workload_spec['opts']['--request'] = request_limit_override\n",
    "workload_spec['opts']['--limit'] = request_limit_override\n",
    "kn_command = kube.get_kn_command(**workload_spec)\n",
    "print(kn_command)\n",
    "!{kn_command}\n",
    "print('waiting for settings to converge')\n",
    "time.sleep(10)"
   ],
   "outputs": [
    {
     "output_type": "stream",
     "name": "stdout",
     "text": [
      "Request Limit Override: 'cpu=1000m,memory=1024Mi'\n",
      "kn service apply bentoml-keras-toxic-comments --image ghcr.io/nimamahmoudi/bentoml-keras-toxic-comment-classification:20210622155420 \\\n",
      "  --limit 'cpu=1000m,memory=1024Mi' \\\n",
      "  --request 'cpu=1000m,memory=1024Mi' \\\n",
      "  --port 5000 \\\n",
      "  -a autoscaling.knative.dev/target=1 \\\n",
      "  -a autoscaling.knative.dev/metric=concurrency\n",
      "No changes to apply to service 'bentoml-keras-toxic-comments'.\n",
      "Service 'bentoml-keras-toxic-comments' with latest revision 'bentoml-keras-toxic-comments-00027' (unchanged) is available at URL:\n",
      "http://bentoml-keras-toxic-comments.default.192-168-23-125.nip.io\n",
      "waiting for settings to converge\n"
     ]
    }
   ],
   "metadata": {}
  },
  {
   "cell_type": "code",
   "execution_count": 12,
   "source": [
    "# call the request function with proper arguments\n",
    "def call_request_func():\n",
    "    request_func = request_funcs.workload_funcs[service_name]\n",
    "    result = request_func(url=service_url)\n",
    "\n",
    "    return {\n",
    "        'response_time_ms': result['response_time_ms'],\n",
    "        'request_id': result['headers']['X-Request-Id'],\n",
    "        'queue_position': int(result['headers']['X-SmartProxy-queuePosition']),\n",
    "        'received_at': exp_trace_utils.from_js_timestamp(int(result['headers']['X-SmartProxy-receivedAt'])),\n",
    "        'response_at': exp_trace_utils.from_js_timestamp(int(result['headers']['X-SmartProxy-responseAt'])),\n",
    "        'upstream_response_time': int(result['headers']['X-SmartProxy-upstreamResponseTime']),\n",
    "        'upstream_request_count': int(result['headers']['X-SmartProxy-upstreamRequestCount']),\n",
    "        'response_time_ms_server': int(result['headers']['X-SmartProxy-responseTime']),\n",
    "        'queue_time_ms': int(result['headers']['X-SmartProxy-queueTime']),\n",
    "    }\n",
    "\n",
    "# adding exception handling to create worker func\n",
    "def worker_func():\n",
    "    try:\n",
    "        return call_request_func()\n",
    "    except Exception:\n",
    "        print('exception occured:')\n",
    "        traceback.print_exc()\n",
    "        return None\n",
    "\n",
    "worker_func()"
   ],
   "outputs": [
    {
     "output_type": "execute_result",
     "data": {
      "text/plain": [
       "{'response_time_ms': 5356.461,\n",
       " 'request_id': 'f96737dd-0d7a-4684-b12b-7baffc3551fc',\n",
       " 'queue_position': 0,\n",
       " 'received_at': datetime.datetime(2021, 7, 30, 15, 24, 21, 141000, tzinfo=<DstTzInfo 'America/Toronto' EDT-1 day, 20:00:00 DST>),\n",
       " 'response_at': datetime.datetime(2021, 7, 30, 15, 24, 26, 494000, tzinfo=<DstTzInfo 'America/Toronto' EDT-1 day, 20:00:00 DST>),\n",
       " 'upstream_response_time': 5052,\n",
       " 'upstream_request_count': 1,\n",
       " 'response_time_ms_server': 5353,\n",
       " 'queue_time_ms': 301}"
      ]
     },
     "metadata": {},
     "execution_count": 12
    }
   ],
   "metadata": {}
  },
  {
   "cell_type": "code",
   "execution_count": 13,
   "source": [
    "# perform the experiment\n",
    "\n",
    "# start the controller\n",
    "if disable_controller:\n",
    "    controller.disable_controller()\n",
    "    \n",
    "controller.set_initial_config()\n",
    "controller.start_control_thread()\n",
    "\n",
    "# start workload generator\n",
    "wg = pacswg.WorkloadGenerator(worker_func=worker_func, rps=0, worker_thread_count=300)\n",
    "wg.start_workers()\n",
    "timer = TimerClass()\n",
    "\n",
    "print(\"============ Experiment Started ============\")\n",
    "print(\"Time Started:\", get_time_with_tz())\n",
    "\n",
    "for rps in tqdm(rps_list):\n",
    "    wg.set_rps(rps)\n",
    "    timer.tic()\n",
    "    # apply each for one minute\n",
    "    while timer.toc() < 60:\n",
    "        wg.fire_wait()\n",
    "\n",
    "# get the results\n",
    "wg.stop_workers()\n",
    "all_res = wg.get_stats()\n",
    "total_reqs = len(all_res)\n",
    "all_res = [d for d in all_res if d is not None]\n",
    "success_reqs = len(all_res)\n",
    "\n",
    "print(\"Total Requests Made:\", total_reqs)\n",
    "print(\"Successful Requests Made:\", success_reqs)"
   ],
   "outputs": [
    {
     "output_type": "stream",
     "name": "stdout",
     "text": [
      "============ Experiment Started ============\n",
      "Time Started: 2021-07-30 15:24:28.023549-04:00\n"
     ]
    },
    {
     "output_type": "display_data",
     "data": {
      "text/plain": [
       "  0%|          | 0/120 [00:00<?, ?it/s]"
      ],
      "application/vnd.jupyter.widget-view+json": {
       "version_major": 2,
       "version_minor": 0,
       "model_id": "0423e283ae504a68b8159c746ba90ae4"
      }
     },
     "metadata": {}
    },
    {
     "output_type": "stream",
     "name": "stdout",
     "text": [
      "exception occured:\n",
      "exception occured:\n",
      "exception occured:\n"
     ]
    },
    {
     "output_type": "stream",
     "name": "stderr",
     "text": [
      "Traceback (most recent call last):\n",
      "  File \"<ipython-input-12-a41226ae5c73>\", line 21, in worker_func\n",
      "    return call_request_func()\n",
      "  File \"<ipython-input-12-a41226ae5c73>\", line 4, in call_request_func\n",
      "    result = request_func(url=service_url)\n",
      "  File \"/home/ubuntu/serverless-ml-serving/experiments/helpers/request_funcs.py\", line 64, in request_keras_toxic_comments\n",
      "    response.raise_for_status()\n",
      "  File \"/home/ubuntu/miniconda/lib/python3.8/site-packages/requests/models.py\", line 943, in raise_for_status\n",
      "    raise HTTPError(http_error_msg, response=self)\n",
      "requests.exceptions.HTTPError: 500 Server Error: Internal Server Error for url: http://localhost:3000/proxy/bentoml-keras-toxic-comments\n",
      "Traceback (most recent call last):\n",
      "Traceback (most recent call last):\n",
      "  File \"<ipython-input-12-a41226ae5c73>\", line 21, in worker_func\n",
      "    return call_request_func()\n",
      "  File \"<ipython-input-12-a41226ae5c73>\", line 21, in worker_func\n",
      "    return call_request_func()\n",
      "  File \"<ipython-input-12-a41226ae5c73>\", line 4, in call_request_func\n",
      "    result = request_func(url=service_url)\n",
      "  File \"/home/ubuntu/serverless-ml-serving/experiments/helpers/request_funcs.py\", line 64, in request_keras_toxic_comments\n",
      "    response.raise_for_status()\n",
      "  File \"/home/ubuntu/miniconda/lib/python3.8/site-packages/requests/models.py\", line 943, in raise_for_status\n",
      "    raise HTTPError(http_error_msg, response=self)\n",
      "requests.exceptions.HTTPError: 500 Server Error: Internal Server Error for url: http://localhost:3000/proxy/bentoml-keras-toxic-comments\n",
      "  File \"<ipython-input-12-a41226ae5c73>\", line 4, in call_request_func\n",
      "    result = request_func(url=service_url)\n",
      "  File \"/home/ubuntu/serverless-ml-serving/experiments/helpers/request_funcs.py\", line 64, in request_keras_toxic_comments\n",
      "    response.raise_for_status()\n",
      "  File \"/home/ubuntu/miniconda/lib/python3.8/site-packages/requests/models.py\", line 943, in raise_for_status\n",
      "    raise HTTPError(http_error_msg, response=self)\n",
      "requests.exceptions.HTTPError: 500 Server Error: Internal Server Error for url: http://localhost:3000/proxy/bentoml-keras-toxic-comments\n"
     ]
    },
    {
     "output_type": "stream",
     "name": "stdout",
     "text": [
      "exception occured:\n"
     ]
    },
    {
     "output_type": "stream",
     "name": "stderr",
     "text": [
      "Traceback (most recent call last):\n",
      "  File \"<ipython-input-12-a41226ae5c73>\", line 21, in worker_func\n",
      "    return call_request_func()\n",
      "  File \"<ipython-input-12-a41226ae5c73>\", line 4, in call_request_func\n",
      "    result = request_func(url=service_url)\n",
      "  File \"/home/ubuntu/serverless-ml-serving/experiments/helpers/request_funcs.py\", line 64, in request_keras_toxic_comments\n",
      "    response.raise_for_status()\n",
      "  File \"/home/ubuntu/miniconda/lib/python3.8/site-packages/requests/models.py\", line 943, in raise_for_status\n",
      "    raise HTTPError(http_error_msg, response=self)\n",
      "requests.exceptions.HTTPError: 500 Server Error: Internal Server Error for url: http://localhost:3000/proxy/bentoml-keras-toxic-comments\n"
     ]
    },
    {
     "output_type": "stream",
     "name": "stdout",
     "text": [
      "exception occured:\n",
      "exception occured:\n",
      "exception occured:\n"
     ]
    },
    {
     "output_type": "stream",
     "name": "stderr",
     "text": [
      "Traceback (most recent call last):\n",
      "  File \"<ipython-input-12-a41226ae5c73>\", line 21, in worker_func\n",
      "    return call_request_func()\n",
      "Traceback (most recent call last):\n",
      "  File \"<ipython-input-12-a41226ae5c73>\", line 21, in worker_func\n",
      "    return call_request_func()\n",
      "  File \"<ipython-input-12-a41226ae5c73>\", line 4, in call_request_func\n",
      "    result = request_func(url=service_url)\n",
      "  File \"/home/ubuntu/serverless-ml-serving/experiments/helpers/request_funcs.py\", line 64, in request_keras_toxic_comments\n",
      "    response.raise_for_status()\n",
      "  File \"/home/ubuntu/miniconda/lib/python3.8/site-packages/requests/models.py\", line 943, in raise_for_status\n",
      "    raise HTTPError(http_error_msg, response=self)\n",
      "requests.exceptions.HTTPError: 500 Server Error: Internal Server Error for url: http://localhost:3000/proxy/bentoml-keras-toxic-comments\n",
      "Traceback (most recent call last):\n",
      "  File \"<ipython-input-12-a41226ae5c73>\", line 21, in worker_func\n",
      "    return call_request_func()\n",
      "  File \"<ipython-input-12-a41226ae5c73>\", line 4, in call_request_func\n",
      "    result = request_func(url=service_url)\n",
      "  File \"/home/ubuntu/serverless-ml-serving/experiments/helpers/request_funcs.py\", line 64, in request_keras_toxic_comments\n",
      "    response.raise_for_status()\n",
      "  File \"/home/ubuntu/miniconda/lib/python3.8/site-packages/requests/models.py\", line 943, in raise_for_status\n",
      "    raise HTTPError(http_error_msg, response=self)\n",
      "requests.exceptions.HTTPError: 500 Server Error: Internal Server Error for url: http://localhost:3000/proxy/bentoml-keras-toxic-comments\n",
      "  File \"<ipython-input-12-a41226ae5c73>\", line 4, in call_request_func\n",
      "    result = request_func(url=service_url)\n",
      "  File \"/home/ubuntu/serverless-ml-serving/experiments/helpers/request_funcs.py\", line 64, in request_keras_toxic_comments\n",
      "    response.raise_for_status()\n",
      "  File \"/home/ubuntu/miniconda/lib/python3.8/site-packages/requests/models.py\", line 943, in raise_for_status\n",
      "    raise HTTPError(http_error_msg, response=self)\n",
      "requests.exceptions.HTTPError: 500 Server Error: Internal Server Error for url: http://localhost:3000/proxy/bentoml-keras-toxic-comments\n"
     ]
    },
    {
     "output_type": "stream",
     "name": "stdout",
     "text": [
      "exception occured:\n",
      "exception occured:\n"
     ]
    },
    {
     "output_type": "stream",
     "name": "stderr",
     "text": [
      "Traceback (most recent call last):\n",
      "  File \"<ipython-input-12-a41226ae5c73>\", line 21, in worker_func\n",
      "    return call_request_func()\n",
      "  File \"<ipython-input-12-a41226ae5c73>\", line 4, in call_request_func\n",
      "    result = request_func(url=service_url)\n",
      "  File \"/home/ubuntu/serverless-ml-serving/experiments/helpers/request_funcs.py\", line 64, in request_keras_toxic_comments\n",
      "    response.raise_for_status()\n",
      "Traceback (most recent call last):\n",
      "  File \"<ipython-input-12-a41226ae5c73>\", line 21, in worker_func\n",
      "    return call_request_func()\n",
      "  File \"<ipython-input-12-a41226ae5c73>\", line 4, in call_request_func\n",
      "    result = request_func(url=service_url)\n",
      "  File \"/home/ubuntu/serverless-ml-serving/experiments/helpers/request_funcs.py\", line 64, in request_keras_toxic_comments\n",
      "    response.raise_for_status()\n",
      "  File \"/home/ubuntu/miniconda/lib/python3.8/site-packages/requests/models.py\", line 943, in raise_for_status\n",
      "    raise HTTPError(http_error_msg, response=self)\n",
      "requests.exceptions.HTTPError: 500 Server Error: Internal Server Error for url: http://localhost:3000/proxy/bentoml-keras-toxic-comments\n",
      "  File \"/home/ubuntu/miniconda/lib/python3.8/site-packages/requests/models.py\", line 943, in raise_for_status\n",
      "    raise HTTPError(http_error_msg, response=self)\n",
      "requests.exceptions.HTTPError: 500 Server Error: Internal Server Error for url: http://localhost:3000/proxy/bentoml-keras-toxic-comments\n"
     ]
    },
    {
     "output_type": "stream",
     "name": "stdout",
     "text": [
      "exception occured:\n",
      "exception occured:\n"
     ]
    },
    {
     "output_type": "stream",
     "name": "stderr",
     "text": [
      "Traceback (most recent call last):\n",
      "Traceback (most recent call last):\n",
      "  File \"<ipython-input-12-a41226ae5c73>\", line 21, in worker_func\n",
      "    return call_request_func()\n",
      "  File \"<ipython-input-12-a41226ae5c73>\", line 4, in call_request_func\n",
      "    result = request_func(url=service_url)\n",
      "  File \"/home/ubuntu/serverless-ml-serving/experiments/helpers/request_funcs.py\", line 64, in request_keras_toxic_comments\n",
      "    response.raise_for_status()\n",
      "  File \"/home/ubuntu/miniconda/lib/python3.8/site-packages/requests/models.py\", line 943, in raise_for_status\n",
      "    raise HTTPError(http_error_msg, response=self)\n",
      "requests.exceptions.HTTPError: 500 Server Error: Internal Server Error for url: http://localhost:3000/proxy/bentoml-keras-toxic-comments\n",
      "  File \"<ipython-input-12-a41226ae5c73>\", line 21, in worker_func\n",
      "    return call_request_func()\n",
      "  File \"<ipython-input-12-a41226ae5c73>\", line 4, in call_request_func\n",
      "    result = request_func(url=service_url)\n",
      "  File \"/home/ubuntu/serverless-ml-serving/experiments/helpers/request_funcs.py\", line 64, in request_keras_toxic_comments\n",
      "    response.raise_for_status()\n",
      "  File \"/home/ubuntu/miniconda/lib/python3.8/site-packages/requests/models.py\", line 943, in raise_for_status\n",
      "    raise HTTPError(http_error_msg, response=self)\n",
      "requests.exceptions.HTTPError: 500 Server Error: Internal Server Error for url: http://localhost:3000/proxy/bentoml-keras-toxic-comments\n"
     ]
    },
    {
     "output_type": "stream",
     "name": "stdout",
     "text": [
      "exception occured:\n",
      "exception occured:\n",
      "exception occured:\n",
      "Total Requests Made: 55571\n",
      "Successful Requests Made: 55557\n"
     ]
    },
    {
     "output_type": "stream",
     "name": "stderr",
     "text": [
      "Traceback (most recent call last):\n",
      "Traceback (most recent call last):\n",
      "  File \"<ipython-input-12-a41226ae5c73>\", line 21, in worker_func\n",
      "    return call_request_func()\n",
      "  File \"<ipython-input-12-a41226ae5c73>\", line 4, in call_request_func\n",
      "    result = request_func(url=service_url)\n",
      "  File \"/home/ubuntu/serverless-ml-serving/experiments/helpers/request_funcs.py\", line 64, in request_keras_toxic_comments\n",
      "    response.raise_for_status()\n",
      "  File \"/home/ubuntu/miniconda/lib/python3.8/site-packages/requests/models.py\", line 943, in raise_for_status\n",
      "    raise HTTPError(http_error_msg, response=self)\n",
      "requests.exceptions.HTTPError: 500 Server Error: Internal Server Error for url: http://localhost:3000/proxy/bentoml-keras-toxic-comments\n",
      "  File \"<ipython-input-12-a41226ae5c73>\", line 21, in worker_func\n",
      "    return call_request_func()\n",
      "  File \"<ipython-input-12-a41226ae5c73>\", line 4, in call_request_func\n",
      "    result = request_func(url=service_url)\n",
      "  File \"/home/ubuntu/serverless-ml-serving/experiments/helpers/request_funcs.py\", line 64, in request_keras_toxic_comments\n",
      "    response.raise_for_status()\n",
      "  File \"/home/ubuntu/miniconda/lib/python3.8/site-packages/requests/models.py\", line 943, in raise_for_status\n",
      "    raise HTTPError(http_error_msg, response=self)\n",
      "requests.exceptions.HTTPError: 500 Server Error: Internal Server Error for url: http://localhost:3000/proxy/bentoml-keras-toxic-comments\n",
      "Traceback (most recent call last):\n",
      "  File \"<ipython-input-12-a41226ae5c73>\", line 21, in worker_func\n",
      "    return call_request_func()\n",
      "  File \"<ipython-input-12-a41226ae5c73>\", line 4, in call_request_func\n",
      "    result = request_func(url=service_url)\n",
      "  File \"/home/ubuntu/serverless-ml-serving/experiments/helpers/request_funcs.py\", line 64, in request_keras_toxic_comments\n",
      "    response.raise_for_status()\n",
      "  File \"/home/ubuntu/miniconda/lib/python3.8/site-packages/requests/models.py\", line 943, in raise_for_status\n",
      "    raise HTTPError(http_error_msg, response=self)\n",
      "requests.exceptions.HTTPError: 500 Server Error: Internal Server Error for url: http://localhost:3000/proxy/bentoml-keras-toxic-comments\n"
     ]
    }
   ],
   "metadata": {}
  },
  {
   "cell_type": "code",
   "execution_count": 14,
   "source": [
    "# collect the results\n",
    "df_res = pd.DataFrame(data=all_res)\n",
    "# save the results\n",
    "now = get_time_with_tz()\n",
    "res_name = now.strftime('res-%Y-%m-%d_%H-%M-%S')\n",
    "res_folder = f'results/trace_{trace_name}/{service_name}'\n",
    "# make the directory and file names\n",
    "! mkdir -p {res_folder}\n",
    "requests_results_filename = f'{res_name}_reqs.csv'\n",
    "proxy_results_filesname = f'{res_name}_proxy.csv'\n",
    "if disable_controller:\n",
    "    requests_results_filename = requests_results_filename.replace('.csv', '_no_controller.csv')\n",
    "    proxy_results_filesname = proxy_results_filesname.replace('.csv', '_no_controller.csv')\n",
    "\n",
    "df_res.to_csv(os.path.join(res_folder, requests_results_filename))\n",
    "print('Results Name:', res_name)"
   ],
   "outputs": [
    {
     "output_type": "stream",
     "name": "stdout",
     "text": [
      "Results Name: res-2021-07-30_17-38-19\n"
     ]
    }
   ],
   "metadata": {}
  },
  {
   "cell_type": "code",
   "execution_count": 15,
   "source": [
    "# stop the controller to save the results\n",
    "controller.stop_control_thread()"
   ],
   "outputs": [],
   "metadata": {}
  },
  {
   "cell_type": "code",
   "execution_count": 16,
   "source": [
    "df_proxy_stats = pd.DataFrame(data=controller.acc_proxy_stats)\n",
    "df_proxy_stats.to_csv(os.path.join(res_folder, proxy_results_filesname))\n",
    "df_proxy_stats.head()"
   ],
   "outputs": [
    {
     "output_type": "execute_result",
     "data": {
      "text/plain": [
       "   maxBufferSize  averageMaxBufferSize  averageActualBatchSize  \\\n",
       "0              5                     5                     NaN   \n",
       "1              3                     3                1.850000   \n",
       "2              2                     2                1.709677   \n",
       "3              1                     1                1.259843   \n",
       "4              6                     6                1.316667   \n",
       "\n",
       "   maxBufferTimeoutMs  currentReplicaCount  currentReadyReplicaCount  \\\n",
       "0                 400                    2                         1   \n",
       "1                 400                    2                         2   \n",
       "2                 400                    2                         2   \n",
       "3                 400                    1                         1   \n",
       "4                 400                    1                         1   \n",
       "\n",
       "   currentConcurrency  averageConcurrency  averageArrivalRate  \\\n",
       "0                   0                 0.3                0.05   \n",
       "1                   4                 3.8                2.80   \n",
       "2                   4                 3.2                2.95   \n",
       "3                   3                 3.0                2.50   \n",
       "4                   6                 3.9                2.50   \n",
       "\n",
       "   averageDepartureRate  averageDispatchRate  averageErrorRate  \\\n",
       "0                  0.00                 0.05               0.0   \n",
       "1                  2.80                 2.80               0.0   \n",
       "2                  2.95                 2.95               0.0   \n",
       "3                  2.50                 2.50               0.0   \n",
       "4                  2.55                 2.55               0.0   \n",
       "\n",
       "   averageTimeoutRatio  reponseTimeAverage  reponseTimeP50  reponseTimeP95  \\\n",
       "0             1.000000                 NaN             NaN             NaN   \n",
       "1             0.750000          336.513514           341.0           403.0   \n",
       "2             0.361111          262.823899           252.0           401.0   \n",
       "3             0.000000          135.518750            58.0           393.0   \n",
       "4             1.000000          184.816456            86.0           402.6   \n",
       "\n",
       "                              batchResponseTimeStats  \n",
       "0                                                 {}  \n",
       "1  {'1': {'values': [46, 46, 46, 47, 47, 47, 48, ...  \n",
       "2  {'1': {'values': [43, 43, 45, 45, 46, 46, 46, ...  \n",
       "3  {'1': {'values': [43, 43, 45, 45, 46, 46, 46, ...  \n",
       "4  {'1': {'values': [45, 46, 46, 46, 46, 47, 47, ...  "
      ],
      "text/html": [
       "<div>\n",
       "<style scoped>\n",
       "    .dataframe tbody tr th:only-of-type {\n",
       "        vertical-align: middle;\n",
       "    }\n",
       "\n",
       "    .dataframe tbody tr th {\n",
       "        vertical-align: top;\n",
       "    }\n",
       "\n",
       "    .dataframe thead th {\n",
       "        text-align: right;\n",
       "    }\n",
       "</style>\n",
       "<table border=\"1\" class=\"dataframe\">\n",
       "  <thead>\n",
       "    <tr style=\"text-align: right;\">\n",
       "      <th></th>\n",
       "      <th>maxBufferSize</th>\n",
       "      <th>averageMaxBufferSize</th>\n",
       "      <th>averageActualBatchSize</th>\n",
       "      <th>maxBufferTimeoutMs</th>\n",
       "      <th>currentReplicaCount</th>\n",
       "      <th>currentReadyReplicaCount</th>\n",
       "      <th>currentConcurrency</th>\n",
       "      <th>averageConcurrency</th>\n",
       "      <th>averageArrivalRate</th>\n",
       "      <th>averageDepartureRate</th>\n",
       "      <th>averageDispatchRate</th>\n",
       "      <th>averageErrorRate</th>\n",
       "      <th>averageTimeoutRatio</th>\n",
       "      <th>reponseTimeAverage</th>\n",
       "      <th>reponseTimeP50</th>\n",
       "      <th>reponseTimeP95</th>\n",
       "      <th>batchResponseTimeStats</th>\n",
       "    </tr>\n",
       "  </thead>\n",
       "  <tbody>\n",
       "    <tr>\n",
       "      <th>0</th>\n",
       "      <td>5</td>\n",
       "      <td>5</td>\n",
       "      <td>NaN</td>\n",
       "      <td>400</td>\n",
       "      <td>2</td>\n",
       "      <td>1</td>\n",
       "      <td>0</td>\n",
       "      <td>0.3</td>\n",
       "      <td>0.05</td>\n",
       "      <td>0.00</td>\n",
       "      <td>0.05</td>\n",
       "      <td>0.0</td>\n",
       "      <td>1.000000</td>\n",
       "      <td>NaN</td>\n",
       "      <td>NaN</td>\n",
       "      <td>NaN</td>\n",
       "      <td>{}</td>\n",
       "    </tr>\n",
       "    <tr>\n",
       "      <th>1</th>\n",
       "      <td>3</td>\n",
       "      <td>3</td>\n",
       "      <td>1.850000</td>\n",
       "      <td>400</td>\n",
       "      <td>2</td>\n",
       "      <td>2</td>\n",
       "      <td>4</td>\n",
       "      <td>3.8</td>\n",
       "      <td>2.80</td>\n",
       "      <td>2.80</td>\n",
       "      <td>2.80</td>\n",
       "      <td>0.0</td>\n",
       "      <td>0.750000</td>\n",
       "      <td>336.513514</td>\n",
       "      <td>341.0</td>\n",
       "      <td>403.0</td>\n",
       "      <td>{'1': {'values': [46, 46, 46, 47, 47, 47, 48, ...</td>\n",
       "    </tr>\n",
       "    <tr>\n",
       "      <th>2</th>\n",
       "      <td>2</td>\n",
       "      <td>2</td>\n",
       "      <td>1.709677</td>\n",
       "      <td>400</td>\n",
       "      <td>2</td>\n",
       "      <td>2</td>\n",
       "      <td>4</td>\n",
       "      <td>3.2</td>\n",
       "      <td>2.95</td>\n",
       "      <td>2.95</td>\n",
       "      <td>2.95</td>\n",
       "      <td>0.0</td>\n",
       "      <td>0.361111</td>\n",
       "      <td>262.823899</td>\n",
       "      <td>252.0</td>\n",
       "      <td>401.0</td>\n",
       "      <td>{'1': {'values': [43, 43, 45, 45, 46, 46, 46, ...</td>\n",
       "    </tr>\n",
       "    <tr>\n",
       "      <th>3</th>\n",
       "      <td>1</td>\n",
       "      <td>1</td>\n",
       "      <td>1.259843</td>\n",
       "      <td>400</td>\n",
       "      <td>1</td>\n",
       "      <td>1</td>\n",
       "      <td>3</td>\n",
       "      <td>3.0</td>\n",
       "      <td>2.50</td>\n",
       "      <td>2.50</td>\n",
       "      <td>2.50</td>\n",
       "      <td>0.0</td>\n",
       "      <td>0.000000</td>\n",
       "      <td>135.518750</td>\n",
       "      <td>58.0</td>\n",
       "      <td>393.0</td>\n",
       "      <td>{'1': {'values': [43, 43, 45, 45, 46, 46, 46, ...</td>\n",
       "    </tr>\n",
       "    <tr>\n",
       "      <th>4</th>\n",
       "      <td>6</td>\n",
       "      <td>6</td>\n",
       "      <td>1.316667</td>\n",
       "      <td>400</td>\n",
       "      <td>1</td>\n",
       "      <td>1</td>\n",
       "      <td>6</td>\n",
       "      <td>3.9</td>\n",
       "      <td>2.50</td>\n",
       "      <td>2.55</td>\n",
       "      <td>2.55</td>\n",
       "      <td>0.0</td>\n",
       "      <td>1.000000</td>\n",
       "      <td>184.816456</td>\n",
       "      <td>86.0</td>\n",
       "      <td>402.6</td>\n",
       "      <td>{'1': {'values': [45, 46, 46, 46, 46, 47, 47, ...</td>\n",
       "    </tr>\n",
       "  </tbody>\n",
       "</table>\n",
       "</div>"
      ]
     },
     "metadata": {},
     "execution_count": 16
    }
   ],
   "metadata": {}
  }
 ]
}