{
 "metadata": {
  "language_info": {
   "codemirror_mode": {
    "name": "ipython",
    "version": 3
   },
   "file_extension": ".py",
   "mimetype": "text/x-python",
   "name": "python",
   "nbconvert_exporter": "python",
   "pygments_lexer": "ipython3",
   "version": "3.8.5"
  },
  "orig_nbformat": 2,
  "kernelspec": {
   "name": "python385jvsc74a57bd04f7b070ef049bbd8502237a868479304b4da16a010bb509c19371ab8ff01cc23",
   "display_name": "Python 3.8.5 64-bit ('base': conda)"
  }
 },
 "nbformat": 4,
 "nbformat_minor": 2,
 "cells": [
  {
   "cell_type": "code",
   "execution_count": 6,
   "metadata": {},
   "outputs": [],
   "source": [
    "# imports\n",
    "\n",
    "import requests\n"
   ]
  },
  {
   "cell_type": "code",
   "execution_count": 2,
   "metadata": {},
   "outputs": [],
   "source": [
    "# configs\n",
    "server_address = 'http://localhost:3000'\n",
    "service_name = 'tfserving-resnetv2'\n",
    "# service_name = 'bentoml-onnx-resnet50'\n",
    "# service_name = 'bentoml-iris'\n",
    "# service_name = 'tfserving-mobilenetv1'\n"
   ]
  },
  {
   "cell_type": "code",
   "execution_count": 16,
   "metadata": {},
   "outputs": [
    {
     "output_type": "display_data",
     "data": {
      "text/plain": "{'maxBufferSize': 3,\n 'maxBufferTimeoutMs': 1000,\n 'currentReplicaCount': 0,\n 'currentReadyReplicaCount': 0,\n 'currentConcurrency': 0}"
     },
     "metadata": {}
    }
   ],
   "source": [
    "def fetch_raw_server_proxy_stats():\n",
    "    url = f'{server_address}/proxy-monitor/{service_name}'\n",
    "    response = requests.get(url)\n",
    "    response.raise_for_status()\n",
    "    return response.json()\n",
    "\n",
    "def get_proxy_stats():\n",
    "    raw_stats = fetch_raw_server_proxy_stats()\n",
    "    return {\n",
    "        'maxBufferSize': raw_stats['maxBufferSize'],\n",
    "        'maxBufferTimeoutMs': raw_stats['maxBufferTimeoutMs'],\n",
    "        'currentReplicaCount': raw_stats['currentMonitorStatus']['currentReplicaCount'],\n",
    "        'currentReadyReplicaCount': raw_stats['currentMonitorStatus']['currentReplicaCount'],\n",
    "        'currentConcurrency': raw_stats['currentMonitorStatus']['currentConcurrency'],\n",
    "        'averageArrivalRate': raw_stats['windowedHistoryValues']['arrival']['rate'],\n",
    "    }\n",
    "\n",
    "# display(fetch_raw_server_proxy_stats())\n",
    "display(get_proxy_stats())"
   ]
  }
 ]
}